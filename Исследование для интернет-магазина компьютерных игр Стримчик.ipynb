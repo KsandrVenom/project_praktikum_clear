{
 "cells": [
  {
   "cell_type": "markdown",
   "metadata": {},
   "source": [
    "# Исследование для интернет-магазина компьютерных игр \"Стримчик\""
   ]
  },
  {
   "cell_type": "markdown",
   "metadata": {},
   "source": [
    "Из открытых источников доступны исторические данные о продажах игр, оценки пользователей и экспертов, жанры и платформы. Нужно выявить определяющие успешность игры закономерности. Это позволит сделать ставку на потенциально популярный продукт и спланировать рекламные кампании.\n",
    "\n",
    "Данные до 2016 года. За 2016 год данные могут быть неполными.\n",
    "\n",
    "В наборе данных попадается аббревиатура ESRB (Entertainment Software Rating Board) — это ассоциация, определяющая возрастной рейтинг компьютерных игр.\n",
    "\n",
    "Столбцы\n",
    "\n",
    "* `Name` — название игры\n",
    "* `Platform` — платформа\n",
    "* `Year_of_Release` — год выпуска\n",
    "* `Genre` — жанр игры\n",
    "* `NA_sales` — продажи в Северной Америке (миллионы проданных копий)\n",
    "* `EU_sales` — продажи в Европе (миллионы проданных копий)\n",
    "* `JP_sales` — продажи в Японии (миллионы проданных копий)\n",
    "* `Other_sales` — продажи в других странах (миллионы проданных копий)\n",
    "* `Critic_Score` — оценка критиков (максимум 100)\n",
    "* `User_Score` — оценка пользователей (максимум 10)\n",
    "* `Rating` — рейтинг от организации ESRB (англ. Entertainment Software Rating Board). Эта ассоциация определяет рейтинг компьютерных игр и присваивает им подходящую возрастную категорию."
   ]
  },
  {
   "cell_type": "code",
   "execution_count": 1,
   "metadata": {},
   "outputs": [],
   "source": [
    "import pandas as pd\n",
    "from scipy import stats as st\n",
    "import matplotlib.pyplot as plt\n",
    "pd.set_option('display.max_columns', None)"
   ]
  },
  {
   "cell_type": "code",
   "execution_count": 2,
   "metadata": {},
   "outputs": [],
   "source": [
    "data = pd.read_csv('/datasets/games.csv')"
   ]
  },
  {
   "cell_type": "markdown",
   "metadata": {},
   "source": [
    "## Предварительный просмотр данных"
   ]
  },
  {
   "cell_type": "code",
   "execution_count": 3,
   "metadata": {},
   "outputs": [
    {
     "data": {
      "text/html": [
       "<div>\n",
       "<style scoped>\n",
       "    .dataframe tbody tr th:only-of-type {\n",
       "        vertical-align: middle;\n",
       "    }\n",
       "\n",
       "    .dataframe tbody tr th {\n",
       "        vertical-align: top;\n",
       "    }\n",
       "\n",
       "    .dataframe thead th {\n",
       "        text-align: right;\n",
       "    }\n",
       "</style>\n",
       "<table border=\"1\" class=\"dataframe\">\n",
       "  <thead>\n",
       "    <tr style=\"text-align: right;\">\n",
       "      <th></th>\n",
       "      <th>Name</th>\n",
       "      <th>Platform</th>\n",
       "      <th>Year_of_Release</th>\n",
       "      <th>Genre</th>\n",
       "      <th>NA_sales</th>\n",
       "      <th>EU_sales</th>\n",
       "      <th>JP_sales</th>\n",
       "      <th>Other_sales</th>\n",
       "      <th>Critic_Score</th>\n",
       "      <th>User_Score</th>\n",
       "      <th>Rating</th>\n",
       "    </tr>\n",
       "  </thead>\n",
       "  <tbody>\n",
       "    <tr>\n",
       "      <th>0</th>\n",
       "      <td>Wii Sports</td>\n",
       "      <td>Wii</td>\n",
       "      <td>2006.0</td>\n",
       "      <td>Sports</td>\n",
       "      <td>41.36</td>\n",
       "      <td>28.96</td>\n",
       "      <td>3.77</td>\n",
       "      <td>8.45</td>\n",
       "      <td>76.0</td>\n",
       "      <td>8</td>\n",
       "      <td>E</td>\n",
       "    </tr>\n",
       "    <tr>\n",
       "      <th>1</th>\n",
       "      <td>Super Mario Bros.</td>\n",
       "      <td>NES</td>\n",
       "      <td>1985.0</td>\n",
       "      <td>Platform</td>\n",
       "      <td>29.08</td>\n",
       "      <td>3.58</td>\n",
       "      <td>6.81</td>\n",
       "      <td>0.77</td>\n",
       "      <td>NaN</td>\n",
       "      <td>NaN</td>\n",
       "      <td>NaN</td>\n",
       "    </tr>\n",
       "    <tr>\n",
       "      <th>2</th>\n",
       "      <td>Mario Kart Wii</td>\n",
       "      <td>Wii</td>\n",
       "      <td>2008.0</td>\n",
       "      <td>Racing</td>\n",
       "      <td>15.68</td>\n",
       "      <td>12.76</td>\n",
       "      <td>3.79</td>\n",
       "      <td>3.29</td>\n",
       "      <td>82.0</td>\n",
       "      <td>8.3</td>\n",
       "      <td>E</td>\n",
       "    </tr>\n",
       "    <tr>\n",
       "      <th>3</th>\n",
       "      <td>Wii Sports Resort</td>\n",
       "      <td>Wii</td>\n",
       "      <td>2009.0</td>\n",
       "      <td>Sports</td>\n",
       "      <td>15.61</td>\n",
       "      <td>10.93</td>\n",
       "      <td>3.28</td>\n",
       "      <td>2.95</td>\n",
       "      <td>80.0</td>\n",
       "      <td>8</td>\n",
       "      <td>E</td>\n",
       "    </tr>\n",
       "    <tr>\n",
       "      <th>4</th>\n",
       "      <td>Pokemon Red/Pokemon Blue</td>\n",
       "      <td>GB</td>\n",
       "      <td>1996.0</td>\n",
       "      <td>Role-Playing</td>\n",
       "      <td>11.27</td>\n",
       "      <td>8.89</td>\n",
       "      <td>10.22</td>\n",
       "      <td>1.00</td>\n",
       "      <td>NaN</td>\n",
       "      <td>NaN</td>\n",
       "      <td>NaN</td>\n",
       "    </tr>\n",
       "  </tbody>\n",
       "</table>\n",
       "</div>"
      ],
      "text/plain": [
       "                       Name Platform  Year_of_Release         Genre  NA_sales  \\\n",
       "0                Wii Sports      Wii           2006.0        Sports     41.36   \n",
       "1         Super Mario Bros.      NES           1985.0      Platform     29.08   \n",
       "2            Mario Kart Wii      Wii           2008.0        Racing     15.68   \n",
       "3         Wii Sports Resort      Wii           2009.0        Sports     15.61   \n",
       "4  Pokemon Red/Pokemon Blue       GB           1996.0  Role-Playing     11.27   \n",
       "\n",
       "   EU_sales  JP_sales  Other_sales  Critic_Score User_Score Rating  \n",
       "0     28.96      3.77         8.45          76.0          8      E  \n",
       "1      3.58      6.81         0.77           NaN        NaN    NaN  \n",
       "2     12.76      3.79         3.29          82.0        8.3      E  \n",
       "3     10.93      3.28         2.95          80.0          8      E  \n",
       "4      8.89     10.22         1.00           NaN        NaN    NaN  "
      ]
     },
     "execution_count": 3,
     "metadata": {},
     "output_type": "execute_result"
    }
   ],
   "source": [
    "data.head()"
   ]
  },
  {
   "cell_type": "raw",
   "metadata": {
    "scrolled": true
   },
   "source": [
    "data.info()"
   ]
  },
  {
   "cell_type": "code",
   "execution_count": 4,
   "metadata": {
    "scrolled": true
   },
   "outputs": [
    {
     "data": {
      "image/png": "[encoded data removed]",
      "text/plain": [
       "<Figure size 432x288 with 6 Axes>"
      ]
     },
     "metadata": {
      "needs_background": "light"
     },
     "output_type": "display_data"
    }
   ],
   "source": [
    "data.hist();"
   ]
  },
  {
   "cell_type": "code",
   "execution_count": 5,
   "metadata": {
    "scrolled": false
   },
   "outputs": [
    {
     "data": {
      "image/png": "[encoded data removed]",
      "text/plain": [
       "<Figure size 432x288 with 1 Axes>"
      ]
     },
     "metadata": {
      "needs_background": "light"
     },
     "output_type": "display_data"
    }
   ],
   "source": [
    "data['Platform'].hist();\n",
    "plt.xticks(rotation = 270);"
   ]
  },
  {
   "cell_type": "code",
   "execution_count": 6,
   "metadata": {
    "scrolled": true
   },
   "outputs": [
    {
     "data": {
      "image/png": "[encoded data removed]",
      "text/plain": [
       "<Figure size 432x288 with 1 Axes>"
      ]
     },
     "metadata": {
      "needs_background": "light"
     },
     "output_type": "display_data"
    }
   ],
   "source": [
    "data['Genre'].hist();\n",
    "plt.xticks(rotation = 90);"
   ]
  },
  {
   "cell_type": "code",
   "execution_count": 7,
   "metadata": {
    "scrolled": true
   },
   "outputs": [
    {
     "data": {
      "image/png": "[encoded data removed]",
      "text/plain": [
       "<Figure size 1440x720 with 1 Axes>"
      ]
     },
     "metadata": {
      "needs_background": "light"
     },
     "output_type": "display_data"
    }
   ],
   "source": [
    "data['User_Score'].hist(figsize=(20, 10));"
   ]
  },
  {
   "cell_type": "code",
   "execution_count": 8,
   "metadata": {
    "scrolled": false
   },
   "outputs": [
    {
     "data": {
      "image/png": "[encoded data removed]",
      "text/plain": [
       "<Figure size 432x288 with 1 Axes>"
      ]
     },
     "metadata": {
      "needs_background": "light"
     },
     "output_type": "display_data"
    }
   ],
   "source": [
    "data['Rating'].hist();"
   ]
  },
  {
   "cell_type": "code",
   "execution_count": 9,
   "metadata": {},
   "outputs": [
    {
     "data": {
      "text/plain": [
       "0"
      ]
     },
     "execution_count": 9,
     "metadata": {},
     "output_type": "execute_result"
    }
   ],
   "source": [
    "data.duplicated().sum()"
   ]
  },
  {
   "cell_type": "markdown",
   "metadata": {},
   "source": [
    "### Вывод "
   ]
  },
  {
   "cell_type": "markdown",
   "metadata": {},
   "source": [
    "Сразу же бросается в глаза - заглавные буквы в названии столбцов.\n",
    "\n",
    "8 из 11 столбцов значимого количества пропусков не имеют. В 3 последних пропуски есть и это до половины данных.\n",
    "\n",
    "У некоторых столбцов неправильные типы данных.\n",
    "\n",
    "Предварительно гистограммы показывают наличие выбросов и аномалий. Разнообразие в категориальных данных. Некоторые данные не отобразились или некорректно. Одна из причин это неправильные типы данных.\n",
    "\n",
    "Явных дубликатов нет."
   ]
  },
  {
   "cell_type": "markdown",
   "metadata": {},
   "source": [
    "## Предобработка данных "
   ]
  },
  {
   "cell_type": "markdown",
   "metadata": {},
   "source": [
    "Первым делом приводим столбцы к нижнему регистру для удобства работы и следуя стандартам."
   ]
  },
  {
   "cell_type": "code",
   "execution_count": 10,
   "metadata": {},
   "outputs": [],
   "source": [
    "columns_lower_name = data.columns.str.lower()\n",
    "for i in range(len(data.columns)):\n",
    "    data = data.rename(columns={data.columns[i]: columns_lower_name[i]})"
   ]
  },
  {
   "cell_type": "code",
   "execution_count": 11,
   "metadata": {
    "scrolled": true
   },
   "outputs": [
    {
     "data": {
      "text/html": [
       "<div>\n",
       "<style scoped>\n",
       "    .dataframe tbody tr th:only-of-type {\n",
       "        vertical-align: middle;\n",
       "    }\n",
       "\n",
       "    .dataframe tbody tr th {\n",
       "        vertical-align: top;\n",
       "    }\n",
       "\n",
       "    .dataframe thead th {\n",
       "        text-align: right;\n",
       "    }\n",
       "</style>\n",
       "<table border=\"1\" class=\"dataframe\">\n",
       "  <thead>\n",
       "    <tr style=\"text-align: right;\">\n",
       "      <th></th>\n",
       "      <th>name</th>\n",
       "      <th>platform</th>\n",
       "      <th>year_of_release</th>\n",
       "      <th>genre</th>\n",
       "      <th>na_sales</th>\n",
       "      <th>eu_sales</th>\n",
       "      <th>jp_sales</th>\n",
       "      <th>other_sales</th>\n",
       "      <th>critic_score</th>\n",
       "      <th>user_score</th>\n",
       "      <th>rating</th>\n",
       "    </tr>\n",
       "  </thead>\n",
       "  <tbody>\n",
       "    <tr>\n",
       "      <th>0</th>\n",
       "      <td>Wii Sports</td>\n",
       "      <td>Wii</td>\n",
       "      <td>2006.0</td>\n",
       "      <td>Sports</td>\n",
       "      <td>41.36</td>\n",
       "      <td>28.96</td>\n",
       "      <td>3.77</td>\n",
       "      <td>8.45</td>\n",
       "      <td>76.0</td>\n",
       "      <td>8</td>\n",
       "      <td>E</td>\n",
       "    </tr>\n",
       "    <tr>\n",
       "      <th>1</th>\n",
       "      <td>Super Mario Bros.</td>\n",
       "      <td>NES</td>\n",
       "      <td>1985.0</td>\n",
       "      <td>Platform</td>\n",
       "      <td>29.08</td>\n",
       "      <td>3.58</td>\n",
       "      <td>6.81</td>\n",
       "      <td>0.77</td>\n",
       "      <td>NaN</td>\n",
       "      <td>NaN</td>\n",
       "      <td>NaN</td>\n",
       "    </tr>\n",
       "    <tr>\n",
       "      <th>2</th>\n",
       "      <td>Mario Kart Wii</td>\n",
       "      <td>Wii</td>\n",
       "      <td>2008.0</td>\n",
       "      <td>Racing</td>\n",
       "      <td>15.68</td>\n",
       "      <td>12.76</td>\n",
       "      <td>3.79</td>\n",
       "      <td>3.29</td>\n",
       "      <td>82.0</td>\n",
       "      <td>8.3</td>\n",
       "      <td>E</td>\n",
       "    </tr>\n",
       "    <tr>\n",
       "      <th>3</th>\n",
       "      <td>Wii Sports Resort</td>\n",
       "      <td>Wii</td>\n",
       "      <td>2009.0</td>\n",
       "      <td>Sports</td>\n",
       "      <td>15.61</td>\n",
       "      <td>10.93</td>\n",
       "      <td>3.28</td>\n",
       "      <td>2.95</td>\n",
       "      <td>80.0</td>\n",
       "      <td>8</td>\n",
       "      <td>E</td>\n",
       "    </tr>\n",
       "    <tr>\n",
       "      <th>4</th>\n",
       "      <td>Pokemon Red/Pokemon Blue</td>\n",
       "      <td>GB</td>\n",
       "      <td>1996.0</td>\n",
       "      <td>Role-Playing</td>\n",
       "      <td>11.27</td>\n",
       "      <td>8.89</td>\n",
       "      <td>10.22</td>\n",
       "      <td>1.00</td>\n",
       "      <td>NaN</td>\n",
       "      <td>NaN</td>\n",
       "      <td>NaN</td>\n",
       "    </tr>\n",
       "  </tbody>\n",
       "</table>\n",
       "</div>"
      ],
      "text/plain": [
       "                       name platform  year_of_release         genre  na_sales  \\\n",
       "0                Wii Sports      Wii           2006.0        Sports     41.36   \n",
       "1         Super Mario Bros.      NES           1985.0      Platform     29.08   \n",
       "2            Mario Kart Wii      Wii           2008.0        Racing     15.68   \n",
       "3         Wii Sports Resort      Wii           2009.0        Sports     15.61   \n",
       "4  Pokemon Red/Pokemon Blue       GB           1996.0  Role-Playing     11.27   \n",
       "\n",
       "   eu_sales  jp_sales  other_sales  critic_score user_score rating  \n",
       "0     28.96      3.77         8.45          76.0          8      E  \n",
       "1      3.58      6.81         0.77           NaN        NaN    NaN  \n",
       "2     12.76      3.79         3.29          82.0        8.3      E  \n",
       "3     10.93      3.28         2.95          80.0          8      E  \n",
       "4      8.89     10.22         1.00           NaN        NaN    NaN  "
      ]
     },
     "execution_count": 11,
     "metadata": {},
     "output_type": "execute_result"
    }
   ],
   "source": [
    "data.head()"
   ]
  },
  {
   "cell_type": "markdown",
   "metadata": {},
   "source": [
    "Вторая важная ступенька - это преобразование типов данных к корректным. Тут же работа с пропусками - потому что float и NaN. "
   ]
  },
  {
   "cell_type": "code",
   "execution_count": 12,
   "metadata": {
    "scrolled": true
   },
   "outputs": [
    {
     "name": "stdout",
     "output_type": "stream",
     "text": [
      "<class 'pandas.core.frame.DataFrame'>\n",
      "RangeIndex: 16715 entries, 0 to 16714\n",
      "Data columns (total 11 columns):\n",
      " #   Column           Non-Null Count  Dtype  \n",
      "---  ------           --------------  -----  \n",
      " 0   name             16713 non-null  object \n",
      " 1   platform         16715 non-null  object \n",
      " 2   year_of_release  16446 non-null  float64\n",
      " 3   genre            16713 non-null  object \n",
      " 4   na_sales         16715 non-null  float64\n",
      " 5   eu_sales         16715 non-null  float64\n",
      " 6   jp_sales         16715 non-null  float64\n",
      " 7   other_sales      16715 non-null  float64\n",
      " 8   critic_score     8137 non-null   float64\n",
      " 9   user_score       10014 non-null  object \n",
      " 10  rating           9949 non-null   object \n",
      "dtypes: float64(6), object(5)\n",
      "memory usage: 1.4+ MB\n"
     ]
    }
   ],
   "source": [
    "data.info()"
   ]
  },
  {
   "cell_type": "markdown",
   "metadata": {},
   "source": [
    "Заменяем float в годах на int. Следует из названия столбца, что там должно быть целочисленное значение. Float там по техническим причинам из-за NaN."
   ]
  },
  {
   "cell_type": "code",
   "execution_count": 13,
   "metadata": {},
   "outputs": [],
   "source": [
    "data['year_of_release'] = data['year_of_release'].fillna(0)"
   ]
  },
  {
   "cell_type": "code",
   "execution_count": 14,
   "metadata": {},
   "outputs": [],
   "source": [
    "data['year_of_release'] = data['year_of_release'].astype('int')"
   ]
  },
  {
   "cell_type": "markdown",
   "metadata": {},
   "source": [
    "Удаляем строки с пропусками в жанре и имени - всего 2 строки где нет ни того, ни того. Без этого строки особо не интересны."
   ]
  },
  {
   "cell_type": "code",
   "execution_count": 15,
   "metadata": {},
   "outputs": [],
   "source": [
    "data = data.dropna(subset=['genre'])\n",
    "data.reset_index(drop=True, inplace=True)"
   ]
  },
  {
   "cell_type": "markdown",
   "metadata": {},
   "source": [
    "В столбце с оценками пользователей тип object из-за строкового значения tbd - подлежит оценке. Заменяем на NaN и приводим к типу float. Это все таки количественная переменная."
   ]
  },
  {
   "cell_type": "code",
   "execution_count": 16,
   "metadata": {},
   "outputs": [],
   "source": [
    "data.loc[data['user_score'] == 'tbd', 'user_score'] = 'NaN'"
   ]
  },
  {
   "cell_type": "code",
   "execution_count": 17,
   "metadata": {},
   "outputs": [],
   "source": [
    "data['user_score'] = data['user_score'].astype('float')"
   ]
  },
  {
   "cell_type": "markdown",
   "metadata": {},
   "source": [
    "В 3 последних столбцах с оценками игры и рейтингом пропуски трогать не будем. Оценки могут быть как очень высокие, так и очень низкие. Рейтинг тоже угадать нельзя - была идея по жанрам попробовать добавить минимальный, но отбросил."
   ]
  },
  {
   "cell_type": "code",
   "execution_count": 18,
   "metadata": {},
   "outputs": [
    {
     "name": "stdout",
     "output_type": "stream",
     "text": [
      "<class 'pandas.core.frame.DataFrame'>\n",
      "RangeIndex: 16713 entries, 0 to 16712\n",
      "Data columns (total 11 columns):\n",
      " #   Column           Non-Null Count  Dtype  \n",
      "---  ------           --------------  -----  \n",
      " 0   name             16713 non-null  object \n",
      " 1   platform         16713 non-null  object \n",
      " 2   year_of_release  16713 non-null  int64  \n",
      " 3   genre            16713 non-null  object \n",
      " 4   na_sales         16713 non-null  float64\n",
      " 5   eu_sales         16713 non-null  float64\n",
      " 6   jp_sales         16713 non-null  float64\n",
      " 7   other_sales      16713 non-null  float64\n",
      " 8   critic_score     8137 non-null   float64\n",
      " 9   user_score       7590 non-null   float64\n",
      " 10  rating           9949 non-null   object \n",
      "dtypes: float64(6), int64(1), object(4)\n",
      "memory usage: 1.4+ MB\n"
     ]
    }
   ],
   "source": [
    "data.info()"
   ]
  },
  {
   "cell_type": "markdown",
   "metadata": {},
   "source": [
    "Также проверил на неявные дубликаты. С помощью нижнего регистра и размера уникальных названий в названиях игр - размеры совпали. Жанры и рейтинги тоже не содержать неявных дубликатов.\n",
    "Единсвтенное, что вызвало сомнения - делал проверку на дубликаты названия, платформы, года - выдал одну игру - видимо какие-то доп.продажи в Европе..."
   ]
  },
  {
   "cell_type": "markdown",
   "metadata": {},
   "source": [
    "### Вывод "
   ]
  },
  {
   "cell_type": "markdown",
   "metadata": {},
   "source": [
    "Кроме 2 строк в с пропусками в названии и жанре - все остальные человеческий фактор, старые сведения, бд. Эти 2 пропуска - 50 на 50, возможно, технический фактор. \n",
    "\n",
    "Два столбца имели неправильный тип данных - один по техническим причинам, второй из-за наличия категориальной переменной, которая по прошествию времени смысла не имела и портила смысл количественной переменной.\n",
    "\n",
    "Были удалены пропуски в названихя и жанре - 2 шт. Остальные остались без изменений.\n",
    "\n",
    "Явных и неявных дубликатов нет."
   ]
  },
  {
   "cell_type": "markdown",
   "metadata": {},
   "source": [
    "Отдельно оформлю новый столбец - потому что я бы его не делал здесь, подсмотрел в задачах к проекту. Как понимаю он просто пригодится потом."
   ]
  },
  {
   "cell_type": "code",
   "execution_count": 19,
   "metadata": {},
   "outputs": [],
   "source": [
    "data['all_sales'] = data[['na_sales', 'eu_sales', 'jp_sales', 'other_sales']].sum(axis=1)"
   ]
  },
  {
   "cell_type": "markdown",
   "metadata": {},
   "source": [
    "## Исследовательский анализ данных "
   ]
  },
  {
   "cell_type": "code",
   "execution_count": 20,
   "metadata": {},
   "outputs": [
    {
     "data": {
      "image/png": "[encoded data removed]",
      "text/plain": [
       "<Figure size 1440x720 with 1 Axes>"
      ]
     },
     "metadata": {
      "needs_background": "light"
     },
     "output_type": "display_data"
    }
   ],
   "source": [
    "data['year_of_release'].hist(figsize=(20, 10), xlabelsize=20, ylabelsize=20, range=(1980, 2016), bins=80);\n",
    "plt.title(\"Количество проданных игр по годам\", fontsize=40)\n",
    "plt.xlabel('Годы', fontsize=25);\n",
    "plt.ylabel('Количество проданных игр', fontsize=25);"
   ]
  },
  {
   "cell_type": "markdown",
   "metadata": {},
   "source": [
    "За 15 лет игр выпущено меньше, чем за самую маленькую первую пятилетку с 1995 года. Незнаю, все важны данные или нет на данном этапе. Ну смысла в первых 15 лет, действительно не вижу."
   ]
  },
  {
   "cell_type": "markdown",
   "metadata": {},
   "source": [
    "Сначала платформы с самыми высокими суммарными продажами."
   ]
  },
  {
   "cell_type": "code",
   "execution_count": 21,
   "metadata": {},
   "outputs": [
    {
     "data": {
      "text/plain": [
       "platform\n",
       "PS2     1255.77\n",
       "X360     971.42\n",
       "PS3      939.65\n",
       "Wii      907.51\n",
       "DS       806.12\n",
       "PS       730.86\n",
       "GBA      317.85\n",
       "PS4      314.14\n",
       "PSP      294.05\n",
       "PC       259.52\n",
       "Name: all_sales, dtype: float64"
      ]
     },
     "execution_count": 21,
     "metadata": {},
     "output_type": "execute_result"
    }
   ],
   "source": [
    "data.groupby('platform')['all_sales'].sum().sort_values(ascending=False).head(10)"
   ]
  },
  {
   "cell_type": "markdown",
   "metadata": {},
   "source": [
    "Диаграмма распределения платформ по годам."
   ]
  },
  {
   "cell_type": "code",
   "execution_count": 22,
   "metadata": {
    "scrolled": false
   },
   "outputs": [
    {
     "data": {
      "image/png": "[encoded data removed]",
      "text/plain": [
       "<Figure size 720x720 with 1 Axes>"
      ]
     },
     "metadata": {
      "needs_background": "light"
     },
     "output_type": "display_data"
    }
   ],
   "source": [
    "more_sales = data.pivot_table(index='year_of_release', columns='platform', values='all_sales', aggfunc='sum')\n",
    "more_sales.count().sort_values(ascending=False).plot(kind=\"barh\", figsize=(10, 10));\n",
    "plt.title(\"Продолжительность жизни платформ\", fontsize=20)\n",
    "plt.xlabel('Количество лет', fontsize=15);\n",
    "plt.ylabel('Платформы', fontsize=15);"
   ]
  },
  {
   "cell_type": "markdown",
   "metadata": {},
   "source": [
    "Посмотрим в годах на лидеров, на их среднее и медиану."
   ]
  },
  {
   "cell_type": "code",
   "execution_count": 23,
   "metadata": {
    "scrolled": true
   },
   "outputs": [
    {
     "name": "stdout",
     "output_type": "stream",
     "text": [
      "platform\n",
      "PC      27\n",
      "GB      14\n",
      "X360    13\n",
      "PSP     13\n",
      "PS2     13\n",
      "NES     12\n",
      "Wii     12\n",
      "DS      12\n",
      "PS3     12\n",
      "2600    11\n",
      "dtype: int64\n",
      "13.9\n",
      "12.5\n"
     ]
    }
   ],
   "source": [
    "print(more_sales.count().sort_values(ascending=False).head(10))\n",
    "print(more_sales.count().sort_values(ascending=False).head(10).mean())\n",
    "print(more_sales.count().sort_values(ascending=False).head(10).median())"
   ]
  },
  {
   "cell_type": "markdown",
   "metadata": {},
   "source": [
    "Найдем вообще среднее и медиану по годам жизни приставки."
   ]
  },
  {
   "cell_type": "code",
   "execution_count": 24,
   "metadata": {
    "scrolled": true
   },
   "outputs": [
    {
     "name": "stdout",
     "output_type": "stream",
     "text": [
      "8.193548387096774\n",
      "8.0\n"
     ]
    }
   ],
   "source": [
    "print(more_sales.count().sort_values(ascending=False).mean())\n",
    "print(more_sales.count().sort_values(ascending=False).median())"
   ]
  },
  {
   "cell_type": "markdown",
   "metadata": {},
   "source": [
    "Найдём усредненные показатели жизни приставки"
   ]
  },
  {
   "cell_type": "code",
   "execution_count": 25,
   "metadata": {},
   "outputs": [
    {
     "data": {
      "text/plain": [
       "10.648387096774194"
      ]
     },
     "execution_count": 25,
     "metadata": {},
     "output_type": "execute_result"
    }
   ],
   "source": [
    "(more_sales.count().sort_values(ascending=False).head(10).mean() + \\\n",
    "more_sales.count().sort_values(ascending=False).head(10).median() + \\\n",
    "more_sales.count().sort_values(ascending=False).mean() + \\\n",
    "more_sales.count().sort_values(ascending=False).median()) / 4\n"
   ]
  },
  {
   "cell_type": "markdown",
   "metadata": {},
   "source": [
    "Будем считать, что 11 лет."
   ]
  },
  {
   "cell_type": "markdown",
   "metadata": {},
   "source": [
    "Таблица активности приставок по годам и суммы продаж."
   ]
  },
  {
   "cell_type": "code",
   "execution_count": 26,
   "metadata": {
    "scrolled": true
   },
   "outputs": [
    {
     "data": {
      "text/html": [
       "<div>\n",
       "<style scoped>\n",
       "    .dataframe tbody tr th:only-of-type {\n",
       "        vertical-align: middle;\n",
       "    }\n",
       "\n",
       "    .dataframe tbody tr th {\n",
       "        vertical-align: top;\n",
       "    }\n",
       "\n",
       "    .dataframe thead th {\n",
       "        text-align: right;\n",
       "    }\n",
       "</style>\n",
       "<table border=\"1\" class=\"dataframe\">\n",
       "  <thead>\n",
       "    <tr style=\"text-align: right;\">\n",
       "      <th>year_of_release</th>\n",
       "      <th>0</th>\n",
       "      <th>1980</th>\n",
       "      <th>1981</th>\n",
       "      <th>1982</th>\n",
       "      <th>1983</th>\n",
       "      <th>1984</th>\n",
       "      <th>1985</th>\n",
       "      <th>1986</th>\n",
       "      <th>1987</th>\n",
       "      <th>1988</th>\n",
       "      <th>1989</th>\n",
       "      <th>1990</th>\n",
       "      <th>1991</th>\n",
       "      <th>1992</th>\n",
       "      <th>1993</th>\n",
       "      <th>1994</th>\n",
       "      <th>1995</th>\n",
       "      <th>1996</th>\n",
       "      <th>1997</th>\n",
       "      <th>1998</th>\n",
       "      <th>1999</th>\n",
       "      <th>2000</th>\n",
       "      <th>2001</th>\n",
       "      <th>2002</th>\n",
       "      <th>2003</th>\n",
       "      <th>2004</th>\n",
       "      <th>2005</th>\n",
       "      <th>2006</th>\n",
       "      <th>2007</th>\n",
       "      <th>2008</th>\n",
       "      <th>2009</th>\n",
       "      <th>2010</th>\n",
       "      <th>2011</th>\n",
       "      <th>2012</th>\n",
       "      <th>2013</th>\n",
       "      <th>2014</th>\n",
       "      <th>2015</th>\n",
       "      <th>2016</th>\n",
       "    </tr>\n",
       "    <tr>\n",
       "      <th>platform</th>\n",
       "      <th></th>\n",
       "      <th></th>\n",
       "      <th></th>\n",
       "      <th></th>\n",
       "      <th></th>\n",
       "      <th></th>\n",
       "      <th></th>\n",
       "      <th></th>\n",
       "      <th></th>\n",
       "      <th></th>\n",
       "      <th></th>\n",
       "      <th></th>\n",
       "      <th></th>\n",
       "      <th></th>\n",
       "      <th></th>\n",
       "      <th></th>\n",
       "      <th></th>\n",
       "      <th></th>\n",
       "      <th></th>\n",
       "      <th></th>\n",
       "      <th></th>\n",
       "      <th></th>\n",
       "      <th></th>\n",
       "      <th></th>\n",
       "      <th></th>\n",
       "      <th></th>\n",
       "      <th></th>\n",
       "      <th></th>\n",
       "      <th></th>\n",
       "      <th></th>\n",
       "      <th></th>\n",
       "      <th></th>\n",
       "      <th></th>\n",
       "      <th></th>\n",
       "      <th></th>\n",
       "      <th></th>\n",
       "      <th></th>\n",
       "      <th></th>\n",
       "    </tr>\n",
       "  </thead>\n",
       "  <tbody>\n",
       "    <tr>\n",
       "      <th>2600</th>\n",
       "      <td>10.50</td>\n",
       "      <td>11.38</td>\n",
       "      <td>35.68</td>\n",
       "      <td>28.88</td>\n",
       "      <td>5.84</td>\n",
       "      <td>0.27</td>\n",
       "      <td>0.45</td>\n",
       "      <td>0.67</td>\n",
       "      <td>1.94</td>\n",
       "      <td>0.74</td>\n",
       "      <td>0.63</td>\n",
       "      <td>NaN</td>\n",
       "      <td>NaN</td>\n",
       "      <td>NaN</td>\n",
       "      <td>NaN</td>\n",
       "      <td>NaN</td>\n",
       "      <td>NaN</td>\n",
       "      <td>NaN</td>\n",
       "      <td>NaN</td>\n",
       "      <td>NaN</td>\n",
       "      <td>NaN</td>\n",
       "      <td>NaN</td>\n",
       "      <td>NaN</td>\n",
       "      <td>NaN</td>\n",
       "      <td>NaN</td>\n",
       "      <td>NaN</td>\n",
       "      <td>NaN</td>\n",
       "      <td>NaN</td>\n",
       "      <td>NaN</td>\n",
       "      <td>NaN</td>\n",
       "      <td>NaN</td>\n",
       "      <td>NaN</td>\n",
       "      <td>NaN</td>\n",
       "      <td>NaN</td>\n",
       "      <td>NaN</td>\n",
       "      <td>NaN</td>\n",
       "      <td>NaN</td>\n",
       "      <td>NaN</td>\n",
       "    </tr>\n",
       "    <tr>\n",
       "      <th>3DO</th>\n",
       "      <td>NaN</td>\n",
       "      <td>NaN</td>\n",
       "      <td>NaN</td>\n",
       "      <td>NaN</td>\n",
       "      <td>NaN</td>\n",
       "      <td>NaN</td>\n",
       "      <td>NaN</td>\n",
       "      <td>NaN</td>\n",
       "      <td>NaN</td>\n",
       "      <td>NaN</td>\n",
       "      <td>NaN</td>\n",
       "      <td>NaN</td>\n",
       "      <td>NaN</td>\n",
       "      <td>NaN</td>\n",
       "      <td>NaN</td>\n",
       "      <td>0.02</td>\n",
       "      <td>0.08</td>\n",
       "      <td>NaN</td>\n",
       "      <td>NaN</td>\n",
       "      <td>NaN</td>\n",
       "      <td>NaN</td>\n",
       "      <td>NaN</td>\n",
       "      <td>NaN</td>\n",
       "      <td>NaN</td>\n",
       "      <td>NaN</td>\n",
       "      <td>NaN</td>\n",
       "      <td>NaN</td>\n",
       "      <td>NaN</td>\n",
       "      <td>NaN</td>\n",
       "      <td>NaN</td>\n",
       "      <td>NaN</td>\n",
       "      <td>NaN</td>\n",
       "      <td>NaN</td>\n",
       "      <td>NaN</td>\n",
       "      <td>NaN</td>\n",
       "      <td>NaN</td>\n",
       "      <td>NaN</td>\n",
       "      <td>NaN</td>\n",
       "    </tr>\n",
       "    <tr>\n",
       "      <th>3DS</th>\n",
       "      <td>1.19</td>\n",
       "      <td>NaN</td>\n",
       "      <td>NaN</td>\n",
       "      <td>NaN</td>\n",
       "      <td>NaN</td>\n",
       "      <td>NaN</td>\n",
       "      <td>NaN</td>\n",
       "      <td>NaN</td>\n",
       "      <td>NaN</td>\n",
       "      <td>NaN</td>\n",
       "      <td>NaN</td>\n",
       "      <td>NaN</td>\n",
       "      <td>NaN</td>\n",
       "      <td>NaN</td>\n",
       "      <td>NaN</td>\n",
       "      <td>NaN</td>\n",
       "      <td>NaN</td>\n",
       "      <td>NaN</td>\n",
       "      <td>NaN</td>\n",
       "      <td>NaN</td>\n",
       "      <td>NaN</td>\n",
       "      <td>NaN</td>\n",
       "      <td>NaN</td>\n",
       "      <td>NaN</td>\n",
       "      <td>NaN</td>\n",
       "      <td>NaN</td>\n",
       "      <td>NaN</td>\n",
       "      <td>NaN</td>\n",
       "      <td>NaN</td>\n",
       "      <td>NaN</td>\n",
       "      <td>NaN</td>\n",
       "      <td>NaN</td>\n",
       "      <td>63.20</td>\n",
       "      <td>51.36</td>\n",
       "      <td>56.57</td>\n",
       "      <td>43.76</td>\n",
       "      <td>27.78</td>\n",
       "      <td>15.14</td>\n",
       "    </tr>\n",
       "    <tr>\n",
       "      <th>DC</th>\n",
       "      <td>NaN</td>\n",
       "      <td>NaN</td>\n",
       "      <td>NaN</td>\n",
       "      <td>NaN</td>\n",
       "      <td>NaN</td>\n",
       "      <td>NaN</td>\n",
       "      <td>NaN</td>\n",
       "      <td>NaN</td>\n",
       "      <td>NaN</td>\n",
       "      <td>NaN</td>\n",
       "      <td>NaN</td>\n",
       "      <td>NaN</td>\n",
       "      <td>NaN</td>\n",
       "      <td>NaN</td>\n",
       "      <td>NaN</td>\n",
       "      <td>NaN</td>\n",
       "      <td>NaN</td>\n",
       "      <td>NaN</td>\n",
       "      <td>NaN</td>\n",
       "      <td>3.38</td>\n",
       "      <td>5.16</td>\n",
       "      <td>5.99</td>\n",
       "      <td>1.07</td>\n",
       "      <td>0.29</td>\n",
       "      <td>NaN</td>\n",
       "      <td>NaN</td>\n",
       "      <td>NaN</td>\n",
       "      <td>NaN</td>\n",
       "      <td>0.02</td>\n",
       "      <td>0.04</td>\n",
       "      <td>NaN</td>\n",
       "      <td>NaN</td>\n",
       "      <td>NaN</td>\n",
       "      <td>NaN</td>\n",
       "      <td>NaN</td>\n",
       "      <td>NaN</td>\n",
       "      <td>NaN</td>\n",
       "      <td>NaN</td>\n",
       "    </tr>\n",
       "    <tr>\n",
       "      <th>DS</th>\n",
       "      <td>3.34</td>\n",
       "      <td>NaN</td>\n",
       "      <td>NaN</td>\n",
       "      <td>NaN</td>\n",
       "      <td>NaN</td>\n",
       "      <td>NaN</td>\n",
       "      <td>0.02</td>\n",
       "      <td>NaN</td>\n",
       "      <td>NaN</td>\n",
       "      <td>NaN</td>\n",
       "      <td>NaN</td>\n",
       "      <td>NaN</td>\n",
       "      <td>NaN</td>\n",
       "      <td>NaN</td>\n",
       "      <td>NaN</td>\n",
       "      <td>NaN</td>\n",
       "      <td>NaN</td>\n",
       "      <td>NaN</td>\n",
       "      <td>NaN</td>\n",
       "      <td>NaN</td>\n",
       "      <td>NaN</td>\n",
       "      <td>NaN</td>\n",
       "      <td>NaN</td>\n",
       "      <td>NaN</td>\n",
       "      <td>NaN</td>\n",
       "      <td>17.27</td>\n",
       "      <td>130.14</td>\n",
       "      <td>119.81</td>\n",
       "      <td>146.94</td>\n",
       "      <td>145.31</td>\n",
       "      <td>119.54</td>\n",
       "      <td>85.02</td>\n",
       "      <td>26.18</td>\n",
       "      <td>11.01</td>\n",
       "      <td>1.54</td>\n",
       "      <td>NaN</td>\n",
       "      <td>NaN</td>\n",
       "      <td>NaN</td>\n",
       "    </tr>\n",
       "    <tr>\n",
       "      <th>GB</th>\n",
       "      <td>1.03</td>\n",
       "      <td>NaN</td>\n",
       "      <td>NaN</td>\n",
       "      <td>NaN</td>\n",
       "      <td>NaN</td>\n",
       "      <td>NaN</td>\n",
       "      <td>NaN</td>\n",
       "      <td>NaN</td>\n",
       "      <td>NaN</td>\n",
       "      <td>1.43</td>\n",
       "      <td>64.97</td>\n",
       "      <td>4.89</td>\n",
       "      <td>5.57</td>\n",
       "      <td>25.49</td>\n",
       "      <td>NaN</td>\n",
       "      <td>12.18</td>\n",
       "      <td>3.60</td>\n",
       "      <td>36.03</td>\n",
       "      <td>6.37</td>\n",
       "      <td>26.90</td>\n",
       "      <td>38.00</td>\n",
       "      <td>19.76</td>\n",
       "      <td>9.24</td>\n",
       "      <td>NaN</td>\n",
       "      <td>NaN</td>\n",
       "      <td>NaN</td>\n",
       "      <td>NaN</td>\n",
       "      <td>NaN</td>\n",
       "      <td>NaN</td>\n",
       "      <td>NaN</td>\n",
       "      <td>NaN</td>\n",
       "      <td>NaN</td>\n",
       "      <td>NaN</td>\n",
       "      <td>NaN</td>\n",
       "      <td>NaN</td>\n",
       "      <td>NaN</td>\n",
       "      <td>NaN</td>\n",
       "      <td>NaN</td>\n",
       "    </tr>\n",
       "    <tr>\n",
       "      <th>GBA</th>\n",
       "      <td>4.97</td>\n",
       "      <td>NaN</td>\n",
       "      <td>NaN</td>\n",
       "      <td>NaN</td>\n",
       "      <td>NaN</td>\n",
       "      <td>NaN</td>\n",
       "      <td>NaN</td>\n",
       "      <td>NaN</td>\n",
       "      <td>NaN</td>\n",
       "      <td>NaN</td>\n",
       "      <td>NaN</td>\n",
       "      <td>NaN</td>\n",
       "      <td>NaN</td>\n",
       "      <td>NaN</td>\n",
       "      <td>NaN</td>\n",
       "      <td>NaN</td>\n",
       "      <td>NaN</td>\n",
       "      <td>NaN</td>\n",
       "      <td>NaN</td>\n",
       "      <td>NaN</td>\n",
       "      <td>NaN</td>\n",
       "      <td>0.07</td>\n",
       "      <td>61.53</td>\n",
       "      <td>74.16</td>\n",
       "      <td>56.67</td>\n",
       "      <td>77.91</td>\n",
       "      <td>33.86</td>\n",
       "      <td>5.28</td>\n",
       "      <td>3.40</td>\n",
       "      <td>NaN</td>\n",
       "      <td>NaN</td>\n",
       "      <td>NaN</td>\n",
       "      <td>NaN</td>\n",
       "      <td>NaN</td>\n",
       "      <td>NaN</td>\n",
       "      <td>NaN</td>\n",
       "      <td>NaN</td>\n",
       "      <td>NaN</td>\n",
       "    </tr>\n",
       "    <tr>\n",
       "      <th>GC</th>\n",
       "      <td>2.20</td>\n",
       "      <td>NaN</td>\n",
       "      <td>NaN</td>\n",
       "      <td>NaN</td>\n",
       "      <td>NaN</td>\n",
       "      <td>NaN</td>\n",
       "      <td>NaN</td>\n",
       "      <td>NaN</td>\n",
       "      <td>NaN</td>\n",
       "      <td>NaN</td>\n",
       "      <td>NaN</td>\n",
       "      <td>NaN</td>\n",
       "      <td>NaN</td>\n",
       "      <td>NaN</td>\n",
       "      <td>NaN</td>\n",
       "      <td>NaN</td>\n",
       "      <td>NaN</td>\n",
       "      <td>NaN</td>\n",
       "      <td>NaN</td>\n",
       "      <td>NaN</td>\n",
       "      <td>NaN</td>\n",
       "      <td>NaN</td>\n",
       "      <td>26.34</td>\n",
       "      <td>51.81</td>\n",
       "      <td>50.61</td>\n",
       "      <td>28.82</td>\n",
       "      <td>27.62</td>\n",
       "      <td>11.26</td>\n",
       "      <td>0.27</td>\n",
       "      <td>NaN</td>\n",
       "      <td>NaN</td>\n",
       "      <td>NaN</td>\n",
       "      <td>NaN</td>\n",
       "      <td>NaN</td>\n",
       "      <td>NaN</td>\n",
       "      <td>NaN</td>\n",
       "      <td>NaN</td>\n",
       "      <td>NaN</td>\n",
       "    </tr>\n",
       "    <tr>\n",
       "      <th>GEN</th>\n",
       "      <td>NaN</td>\n",
       "      <td>NaN</td>\n",
       "      <td>NaN</td>\n",
       "      <td>NaN</td>\n",
       "      <td>NaN</td>\n",
       "      <td>NaN</td>\n",
       "      <td>NaN</td>\n",
       "      <td>NaN</td>\n",
       "      <td>NaN</td>\n",
       "      <td>NaN</td>\n",
       "      <td>NaN</td>\n",
       "      <td>2.60</td>\n",
       "      <td>4.33</td>\n",
       "      <td>12.64</td>\n",
       "      <td>0.65</td>\n",
       "      <td>8.13</td>\n",
       "      <td>NaN</td>\n",
       "      <td>NaN</td>\n",
       "      <td>NaN</td>\n",
       "      <td>NaN</td>\n",
       "      <td>NaN</td>\n",
       "      <td>NaN</td>\n",
       "      <td>NaN</td>\n",
       "      <td>NaN</td>\n",
       "      <td>NaN</td>\n",
       "      <td>NaN</td>\n",
       "      <td>NaN</td>\n",
       "      <td>NaN</td>\n",
       "      <td>NaN</td>\n",
       "      <td>NaN</td>\n",
       "      <td>NaN</td>\n",
       "      <td>NaN</td>\n",
       "      <td>NaN</td>\n",
       "      <td>NaN</td>\n",
       "      <td>NaN</td>\n",
       "      <td>NaN</td>\n",
       "      <td>NaN</td>\n",
       "      <td>NaN</td>\n",
       "    </tr>\n",
       "    <tr>\n",
       "      <th>GG</th>\n",
       "      <td>NaN</td>\n",
       "      <td>NaN</td>\n",
       "      <td>NaN</td>\n",
       "      <td>NaN</td>\n",
       "      <td>NaN</td>\n",
       "      <td>NaN</td>\n",
       "      <td>NaN</td>\n",
       "      <td>NaN</td>\n",
       "      <td>NaN</td>\n",
       "      <td>NaN</td>\n",
       "      <td>NaN</td>\n",
       "      <td>NaN</td>\n",
       "      <td>NaN</td>\n",
       "      <td>0.04</td>\n",
       "      <td>NaN</td>\n",
       "      <td>NaN</td>\n",
       "      <td>NaN</td>\n",
       "      <td>NaN</td>\n",
       "      <td>NaN</td>\n",
       "      <td>NaN</td>\n",
       "      <td>NaN</td>\n",
       "      <td>NaN</td>\n",
       "      <td>NaN</td>\n",
       "      <td>NaN</td>\n",
       "      <td>NaN</td>\n",
       "      <td>NaN</td>\n",
       "      <td>NaN</td>\n",
       "      <td>NaN</td>\n",
       "      <td>NaN</td>\n",
       "      <td>NaN</td>\n",
       "      <td>NaN</td>\n",
       "      <td>NaN</td>\n",
       "      <td>NaN</td>\n",
       "      <td>NaN</td>\n",
       "      <td>NaN</td>\n",
       "      <td>NaN</td>\n",
       "      <td>NaN</td>\n",
       "      <td>NaN</td>\n",
       "    </tr>\n",
       "    <tr>\n",
       "      <th>N64</th>\n",
       "      <td>0.67</td>\n",
       "      <td>NaN</td>\n",
       "      <td>NaN</td>\n",
       "      <td>NaN</td>\n",
       "      <td>NaN</td>\n",
       "      <td>NaN</td>\n",
       "      <td>NaN</td>\n",
       "      <td>NaN</td>\n",
       "      <td>NaN</td>\n",
       "      <td>NaN</td>\n",
       "      <td>NaN</td>\n",
       "      <td>NaN</td>\n",
       "      <td>NaN</td>\n",
       "      <td>NaN</td>\n",
       "      <td>NaN</td>\n",
       "      <td>NaN</td>\n",
       "      <td>NaN</td>\n",
       "      <td>34.10</td>\n",
       "      <td>39.50</td>\n",
       "      <td>49.24</td>\n",
       "      <td>57.87</td>\n",
       "      <td>33.97</td>\n",
       "      <td>3.25</td>\n",
       "      <td>0.08</td>\n",
       "      <td>NaN</td>\n",
       "      <td>NaN</td>\n",
       "      <td>NaN</td>\n",
       "      <td>NaN</td>\n",
       "      <td>NaN</td>\n",
       "      <td>NaN</td>\n",
       "      <td>NaN</td>\n",
       "      <td>NaN</td>\n",
       "      <td>NaN</td>\n",
       "      <td>NaN</td>\n",
       "      <td>NaN</td>\n",
       "      <td>NaN</td>\n",
       "      <td>NaN</td>\n",
       "      <td>NaN</td>\n",
       "    </tr>\n",
       "    <tr>\n",
       "      <th>NES</th>\n",
       "      <td>NaN</td>\n",
       "      <td>NaN</td>\n",
       "      <td>NaN</td>\n",
       "      <td>NaN</td>\n",
       "      <td>10.96</td>\n",
       "      <td>50.08</td>\n",
       "      <td>53.44</td>\n",
       "      <td>36.41</td>\n",
       "      <td>19.76</td>\n",
       "      <td>45.01</td>\n",
       "      <td>7.85</td>\n",
       "      <td>15.73</td>\n",
       "      <td>6.11</td>\n",
       "      <td>1.98</td>\n",
       "      <td>3.61</td>\n",
       "      <td>0.11</td>\n",
       "      <td>NaN</td>\n",
       "      <td>NaN</td>\n",
       "      <td>NaN</td>\n",
       "      <td>NaN</td>\n",
       "      <td>NaN</td>\n",
       "      <td>NaN</td>\n",
       "      <td>NaN</td>\n",
       "      <td>NaN</td>\n",
       "      <td>NaN</td>\n",
       "      <td>NaN</td>\n",
       "      <td>NaN</td>\n",
       "      <td>NaN</td>\n",
       "      <td>NaN</td>\n",
       "      <td>NaN</td>\n",
       "      <td>NaN</td>\n",
       "      <td>NaN</td>\n",
       "      <td>NaN</td>\n",
       "      <td>NaN</td>\n",
       "      <td>NaN</td>\n",
       "      <td>NaN</td>\n",
       "      <td>NaN</td>\n",
       "      <td>NaN</td>\n",
       "    </tr>\n",
       "    <tr>\n",
       "      <th>NG</th>\n",
       "      <td>NaN</td>\n",
       "      <td>NaN</td>\n",
       "      <td>NaN</td>\n",
       "      <td>NaN</td>\n",
       "      <td>NaN</td>\n",
       "      <td>NaN</td>\n",
       "      <td>NaN</td>\n",
       "      <td>NaN</td>\n",
       "      <td>NaN</td>\n",
       "      <td>NaN</td>\n",
       "      <td>NaN</td>\n",
       "      <td>NaN</td>\n",
       "      <td>NaN</td>\n",
       "      <td>NaN</td>\n",
       "      <td>0.21</td>\n",
       "      <td>0.80</td>\n",
       "      <td>0.33</td>\n",
       "      <td>0.10</td>\n",
       "      <td>NaN</td>\n",
       "      <td>NaN</td>\n",
       "      <td>NaN</td>\n",
       "      <td>NaN</td>\n",
       "      <td>NaN</td>\n",
       "      <td>NaN</td>\n",
       "      <td>NaN</td>\n",
       "      <td>NaN</td>\n",
       "      <td>NaN</td>\n",
       "      <td>NaN</td>\n",
       "      <td>NaN</td>\n",
       "      <td>NaN</td>\n",
       "      <td>NaN</td>\n",
       "      <td>NaN</td>\n",
       "      <td>NaN</td>\n",
       "      <td>NaN</td>\n",
       "      <td>NaN</td>\n",
       "      <td>NaN</td>\n",
       "      <td>NaN</td>\n",
       "      <td>NaN</td>\n",
       "    </tr>\n",
       "    <tr>\n",
       "      <th>PC</th>\n",
       "      <td>3.76</td>\n",
       "      <td>NaN</td>\n",
       "      <td>NaN</td>\n",
       "      <td>NaN</td>\n",
       "      <td>NaN</td>\n",
       "      <td>NaN</td>\n",
       "      <td>0.04</td>\n",
       "      <td>NaN</td>\n",
       "      <td>NaN</td>\n",
       "      <td>0.03</td>\n",
       "      <td>NaN</td>\n",
       "      <td>NaN</td>\n",
       "      <td>NaN</td>\n",
       "      <td>3.03</td>\n",
       "      <td>NaN</td>\n",
       "      <td>12.87</td>\n",
       "      <td>4.22</td>\n",
       "      <td>10.58</td>\n",
       "      <td>11.27</td>\n",
       "      <td>3.26</td>\n",
       "      <td>4.74</td>\n",
       "      <td>4.66</td>\n",
       "      <td>5.47</td>\n",
       "      <td>8.57</td>\n",
       "      <td>8.84</td>\n",
       "      <td>10.39</td>\n",
       "      <td>4.37</td>\n",
       "      <td>2.85</td>\n",
       "      <td>9.28</td>\n",
       "      <td>12.42</td>\n",
       "      <td>16.91</td>\n",
       "      <td>24.28</td>\n",
       "      <td>35.03</td>\n",
       "      <td>23.22</td>\n",
       "      <td>12.38</td>\n",
       "      <td>13.28</td>\n",
       "      <td>8.52</td>\n",
       "      <td>5.25</td>\n",
       "    </tr>\n",
       "    <tr>\n",
       "      <th>PCFX</th>\n",
       "      <td>NaN</td>\n",
       "      <td>NaN</td>\n",
       "      <td>NaN</td>\n",
       "      <td>NaN</td>\n",
       "      <td>NaN</td>\n",
       "      <td>NaN</td>\n",
       "      <td>NaN</td>\n",
       "      <td>NaN</td>\n",
       "      <td>NaN</td>\n",
       "      <td>NaN</td>\n",
       "      <td>NaN</td>\n",
       "      <td>NaN</td>\n",
       "      <td>NaN</td>\n",
       "      <td>NaN</td>\n",
       "      <td>NaN</td>\n",
       "      <td>NaN</td>\n",
       "      <td>NaN</td>\n",
       "      <td>0.03</td>\n",
       "      <td>NaN</td>\n",
       "      <td>NaN</td>\n",
       "      <td>NaN</td>\n",
       "      <td>NaN</td>\n",
       "      <td>NaN</td>\n",
       "      <td>NaN</td>\n",
       "      <td>NaN</td>\n",
       "      <td>NaN</td>\n",
       "      <td>NaN</td>\n",
       "      <td>NaN</td>\n",
       "      <td>NaN</td>\n",
       "      <td>NaN</td>\n",
       "      <td>NaN</td>\n",
       "      <td>NaN</td>\n",
       "      <td>NaN</td>\n",
       "      <td>NaN</td>\n",
       "      <td>NaN</td>\n",
       "      <td>NaN</td>\n",
       "      <td>NaN</td>\n",
       "      <td>NaN</td>\n",
       "    </tr>\n",
       "    <tr>\n",
       "      <th>PS</th>\n",
       "      <td>3.28</td>\n",
       "      <td>NaN</td>\n",
       "      <td>NaN</td>\n",
       "      <td>NaN</td>\n",
       "      <td>NaN</td>\n",
       "      <td>NaN</td>\n",
       "      <td>NaN</td>\n",
       "      <td>NaN</td>\n",
       "      <td>NaN</td>\n",
       "      <td>NaN</td>\n",
       "      <td>NaN</td>\n",
       "      <td>NaN</td>\n",
       "      <td>NaN</td>\n",
       "      <td>NaN</td>\n",
       "      <td>NaN</td>\n",
       "      <td>6.03</td>\n",
       "      <td>35.96</td>\n",
       "      <td>94.70</td>\n",
       "      <td>136.17</td>\n",
       "      <td>169.49</td>\n",
       "      <td>144.53</td>\n",
       "      <td>96.37</td>\n",
       "      <td>35.59</td>\n",
       "      <td>6.67</td>\n",
       "      <td>2.07</td>\n",
       "      <td>NaN</td>\n",
       "      <td>NaN</td>\n",
       "      <td>NaN</td>\n",
       "      <td>NaN</td>\n",
       "      <td>NaN</td>\n",
       "      <td>NaN</td>\n",
       "      <td>NaN</td>\n",
       "      <td>NaN</td>\n",
       "      <td>NaN</td>\n",
       "      <td>NaN</td>\n",
       "      <td>NaN</td>\n",
       "      <td>NaN</td>\n",
       "      <td>NaN</td>\n",
       "    </tr>\n",
       "    <tr>\n",
       "      <th>PS2</th>\n",
       "      <td>22.21</td>\n",
       "      <td>NaN</td>\n",
       "      <td>NaN</td>\n",
       "      <td>NaN</td>\n",
       "      <td>NaN</td>\n",
       "      <td>NaN</td>\n",
       "      <td>NaN</td>\n",
       "      <td>NaN</td>\n",
       "      <td>NaN</td>\n",
       "      <td>NaN</td>\n",
       "      <td>NaN</td>\n",
       "      <td>NaN</td>\n",
       "      <td>NaN</td>\n",
       "      <td>NaN</td>\n",
       "      <td>NaN</td>\n",
       "      <td>NaN</td>\n",
       "      <td>NaN</td>\n",
       "      <td>NaN</td>\n",
       "      <td>NaN</td>\n",
       "      <td>NaN</td>\n",
       "      <td>NaN</td>\n",
       "      <td>39.17</td>\n",
       "      <td>166.43</td>\n",
       "      <td>205.38</td>\n",
       "      <td>184.31</td>\n",
       "      <td>211.81</td>\n",
       "      <td>160.66</td>\n",
       "      <td>103.42</td>\n",
       "      <td>75.99</td>\n",
       "      <td>53.90</td>\n",
       "      <td>26.40</td>\n",
       "      <td>5.64</td>\n",
       "      <td>0.45</td>\n",
       "      <td>NaN</td>\n",
       "      <td>NaN</td>\n",
       "      <td>NaN</td>\n",
       "      <td>NaN</td>\n",
       "      <td>NaN</td>\n",
       "    </tr>\n",
       "    <tr>\n",
       "      <th>PS3</th>\n",
       "      <td>8.31</td>\n",
       "      <td>NaN</td>\n",
       "      <td>NaN</td>\n",
       "      <td>NaN</td>\n",
       "      <td>NaN</td>\n",
       "      <td>NaN</td>\n",
       "      <td>NaN</td>\n",
       "      <td>NaN</td>\n",
       "      <td>NaN</td>\n",
       "      <td>NaN</td>\n",
       "      <td>NaN</td>\n",
       "      <td>NaN</td>\n",
       "      <td>NaN</td>\n",
       "      <td>NaN</td>\n",
       "      <td>NaN</td>\n",
       "      <td>NaN</td>\n",
       "      <td>NaN</td>\n",
       "      <td>NaN</td>\n",
       "      <td>NaN</td>\n",
       "      <td>NaN</td>\n",
       "      <td>NaN</td>\n",
       "      <td>NaN</td>\n",
       "      <td>NaN</td>\n",
       "      <td>NaN</td>\n",
       "      <td>NaN</td>\n",
       "      <td>NaN</td>\n",
       "      <td>NaN</td>\n",
       "      <td>20.96</td>\n",
       "      <td>73.19</td>\n",
       "      <td>118.52</td>\n",
       "      <td>130.93</td>\n",
       "      <td>142.17</td>\n",
       "      <td>156.78</td>\n",
       "      <td>107.36</td>\n",
       "      <td>113.25</td>\n",
       "      <td>47.76</td>\n",
       "      <td>16.82</td>\n",
       "      <td>3.60</td>\n",
       "    </tr>\n",
       "    <tr>\n",
       "      <th>PS4</th>\n",
       "      <td>NaN</td>\n",
       "      <td>NaN</td>\n",
       "      <td>NaN</td>\n",
       "      <td>NaN</td>\n",
       "      <td>NaN</td>\n",
       "      <td>NaN</td>\n",
       "      <td>NaN</td>\n",
       "      <td>NaN</td>\n",
       "      <td>NaN</td>\n",
       "      <td>NaN</td>\n",
       "      <td>NaN</td>\n",
       "      <td>NaN</td>\n",
       "      <td>NaN</td>\n",
       "      <td>NaN</td>\n",
       "      <td>NaN</td>\n",
       "      <td>NaN</td>\n",
       "      <td>NaN</td>\n",
       "      <td>NaN</td>\n",
       "      <td>NaN</td>\n",
       "      <td>NaN</td>\n",
       "      <td>NaN</td>\n",
       "      <td>NaN</td>\n",
       "      <td>NaN</td>\n",
       "      <td>NaN</td>\n",
       "      <td>NaN</td>\n",
       "      <td>NaN</td>\n",
       "      <td>NaN</td>\n",
       "      <td>NaN</td>\n",
       "      <td>NaN</td>\n",
       "      <td>NaN</td>\n",
       "      <td>NaN</td>\n",
       "      <td>NaN</td>\n",
       "      <td>NaN</td>\n",
       "      <td>NaN</td>\n",
       "      <td>25.99</td>\n",
       "      <td>100.00</td>\n",
       "      <td>118.90</td>\n",
       "      <td>69.25</td>\n",
       "    </tr>\n",
       "    <tr>\n",
       "      <th>PSP</th>\n",
       "      <td>4.52</td>\n",
       "      <td>NaN</td>\n",
       "      <td>NaN</td>\n",
       "      <td>NaN</td>\n",
       "      <td>NaN</td>\n",
       "      <td>NaN</td>\n",
       "      <td>NaN</td>\n",
       "      <td>NaN</td>\n",
       "      <td>NaN</td>\n",
       "      <td>NaN</td>\n",
       "      <td>NaN</td>\n",
       "      <td>NaN</td>\n",
       "      <td>NaN</td>\n",
       "      <td>NaN</td>\n",
       "      <td>NaN</td>\n",
       "      <td>NaN</td>\n",
       "      <td>NaN</td>\n",
       "      <td>NaN</td>\n",
       "      <td>NaN</td>\n",
       "      <td>NaN</td>\n",
       "      <td>NaN</td>\n",
       "      <td>NaN</td>\n",
       "      <td>NaN</td>\n",
       "      <td>NaN</td>\n",
       "      <td>NaN</td>\n",
       "      <td>7.06</td>\n",
       "      <td>43.84</td>\n",
       "      <td>55.32</td>\n",
       "      <td>46.93</td>\n",
       "      <td>34.55</td>\n",
       "      <td>37.78</td>\n",
       "      <td>35.04</td>\n",
       "      <td>17.82</td>\n",
       "      <td>7.69</td>\n",
       "      <td>3.14</td>\n",
       "      <td>0.24</td>\n",
       "      <td>0.12</td>\n",
       "      <td>NaN</td>\n",
       "    </tr>\n",
       "    <tr>\n",
       "      <th>PSV</th>\n",
       "      <td>0.26</td>\n",
       "      <td>NaN</td>\n",
       "      <td>NaN</td>\n",
       "      <td>NaN</td>\n",
       "      <td>NaN</td>\n",
       "      <td>NaN</td>\n",
       "      <td>NaN</td>\n",
       "      <td>NaN</td>\n",
       "      <td>NaN</td>\n",
       "      <td>NaN</td>\n",
       "      <td>NaN</td>\n",
       "      <td>NaN</td>\n",
       "      <td>NaN</td>\n",
       "      <td>NaN</td>\n",
       "      <td>NaN</td>\n",
       "      <td>NaN</td>\n",
       "      <td>NaN</td>\n",
       "      <td>NaN</td>\n",
       "      <td>NaN</td>\n",
       "      <td>NaN</td>\n",
       "      <td>NaN</td>\n",
       "      <td>NaN</td>\n",
       "      <td>NaN</td>\n",
       "      <td>NaN</td>\n",
       "      <td>NaN</td>\n",
       "      <td>NaN</td>\n",
       "      <td>NaN</td>\n",
       "      <td>NaN</td>\n",
       "      <td>NaN</td>\n",
       "      <td>NaN</td>\n",
       "      <td>NaN</td>\n",
       "      <td>NaN</td>\n",
       "      <td>4.63</td>\n",
       "      <td>16.19</td>\n",
       "      <td>10.59</td>\n",
       "      <td>11.90</td>\n",
       "      <td>6.25</td>\n",
       "      <td>4.25</td>\n",
       "    </tr>\n",
       "    <tr>\n",
       "      <th>SAT</th>\n",
       "      <td>NaN</td>\n",
       "      <td>NaN</td>\n",
       "      <td>NaN</td>\n",
       "      <td>NaN</td>\n",
       "      <td>NaN</td>\n",
       "      <td>NaN</td>\n",
       "      <td>NaN</td>\n",
       "      <td>NaN</td>\n",
       "      <td>NaN</td>\n",
       "      <td>NaN</td>\n",
       "      <td>NaN</td>\n",
       "      <td>NaN</td>\n",
       "      <td>NaN</td>\n",
       "      <td>NaN</td>\n",
       "      <td>NaN</td>\n",
       "      <td>3.65</td>\n",
       "      <td>11.57</td>\n",
       "      <td>7.69</td>\n",
       "      <td>6.77</td>\n",
       "      <td>3.82</td>\n",
       "      <td>0.09</td>\n",
       "      <td>NaN</td>\n",
       "      <td>NaN</td>\n",
       "      <td>NaN</td>\n",
       "      <td>NaN</td>\n",
       "      <td>NaN</td>\n",
       "      <td>NaN</td>\n",
       "      <td>NaN</td>\n",
       "      <td>NaN</td>\n",
       "      <td>NaN</td>\n",
       "      <td>NaN</td>\n",
       "      <td>NaN</td>\n",
       "      <td>NaN</td>\n",
       "      <td>NaN</td>\n",
       "      <td>NaN</td>\n",
       "      <td>NaN</td>\n",
       "      <td>NaN</td>\n",
       "      <td>NaN</td>\n",
       "    </tr>\n",
       "    <tr>\n",
       "      <th>SCD</th>\n",
       "      <td>NaN</td>\n",
       "      <td>NaN</td>\n",
       "      <td>NaN</td>\n",
       "      <td>NaN</td>\n",
       "      <td>NaN</td>\n",
       "      <td>NaN</td>\n",
       "      <td>NaN</td>\n",
       "      <td>NaN</td>\n",
       "      <td>NaN</td>\n",
       "      <td>NaN</td>\n",
       "      <td>NaN</td>\n",
       "      <td>NaN</td>\n",
       "      <td>NaN</td>\n",
       "      <td>NaN</td>\n",
       "      <td>1.50</td>\n",
       "      <td>0.36</td>\n",
       "      <td>NaN</td>\n",
       "      <td>NaN</td>\n",
       "      <td>NaN</td>\n",
       "      <td>NaN</td>\n",
       "      <td>NaN</td>\n",
       "      <td>NaN</td>\n",
       "      <td>NaN</td>\n",
       "      <td>NaN</td>\n",
       "      <td>NaN</td>\n",
       "      <td>NaN</td>\n",
       "      <td>NaN</td>\n",
       "      <td>NaN</td>\n",
       "      <td>NaN</td>\n",
       "      <td>NaN</td>\n",
       "      <td>NaN</td>\n",
       "      <td>NaN</td>\n",
       "      <td>NaN</td>\n",
       "      <td>NaN</td>\n",
       "      <td>NaN</td>\n",
       "      <td>NaN</td>\n",
       "      <td>NaN</td>\n",
       "      <td>NaN</td>\n",
       "    </tr>\n",
       "    <tr>\n",
       "      <th>SNES</th>\n",
       "      <td>NaN</td>\n",
       "      <td>NaN</td>\n",
       "      <td>NaN</td>\n",
       "      <td>NaN</td>\n",
       "      <td>NaN</td>\n",
       "      <td>NaN</td>\n",
       "      <td>NaN</td>\n",
       "      <td>NaN</td>\n",
       "      <td>NaN</td>\n",
       "      <td>NaN</td>\n",
       "      <td>NaN</td>\n",
       "      <td>26.15</td>\n",
       "      <td>16.22</td>\n",
       "      <td>32.98</td>\n",
       "      <td>40.02</td>\n",
       "      <td>35.08</td>\n",
       "      <td>32.20</td>\n",
       "      <td>15.92</td>\n",
       "      <td>0.99</td>\n",
       "      <td>0.22</td>\n",
       "      <td>0.26</td>\n",
       "      <td>NaN</td>\n",
       "      <td>NaN</td>\n",
       "      <td>NaN</td>\n",
       "      <td>NaN</td>\n",
       "      <td>NaN</td>\n",
       "      <td>NaN</td>\n",
       "      <td>NaN</td>\n",
       "      <td>NaN</td>\n",
       "      <td>NaN</td>\n",
       "      <td>NaN</td>\n",
       "      <td>NaN</td>\n",
       "      <td>NaN</td>\n",
       "      <td>NaN</td>\n",
       "      <td>NaN</td>\n",
       "      <td>NaN</td>\n",
       "      <td>NaN</td>\n",
       "      <td>NaN</td>\n",
       "    </tr>\n",
       "    <tr>\n",
       "      <th>TG16</th>\n",
       "      <td>NaN</td>\n",
       "      <td>NaN</td>\n",
       "      <td>NaN</td>\n",
       "      <td>NaN</td>\n",
       "      <td>NaN</td>\n",
       "      <td>NaN</td>\n",
       "      <td>NaN</td>\n",
       "      <td>NaN</td>\n",
       "      <td>NaN</td>\n",
       "      <td>NaN</td>\n",
       "      <td>NaN</td>\n",
       "      <td>NaN</td>\n",
       "      <td>NaN</td>\n",
       "      <td>NaN</td>\n",
       "      <td>NaN</td>\n",
       "      <td>NaN</td>\n",
       "      <td>0.16</td>\n",
       "      <td>NaN</td>\n",
       "      <td>NaN</td>\n",
       "      <td>NaN</td>\n",
       "      <td>NaN</td>\n",
       "      <td>NaN</td>\n",
       "      <td>NaN</td>\n",
       "      <td>NaN</td>\n",
       "      <td>NaN</td>\n",
       "      <td>NaN</td>\n",
       "      <td>NaN</td>\n",
       "      <td>NaN</td>\n",
       "      <td>NaN</td>\n",
       "      <td>NaN</td>\n",
       "      <td>NaN</td>\n",
       "      <td>NaN</td>\n",
       "      <td>NaN</td>\n",
       "      <td>NaN</td>\n",
       "      <td>NaN</td>\n",
       "      <td>NaN</td>\n",
       "      <td>NaN</td>\n",
       "      <td>NaN</td>\n",
       "    </tr>\n",
       "    <tr>\n",
       "      <th>WS</th>\n",
       "      <td>NaN</td>\n",
       "      <td>NaN</td>\n",
       "      <td>NaN</td>\n",
       "      <td>NaN</td>\n",
       "      <td>NaN</td>\n",
       "      <td>NaN</td>\n",
       "      <td>NaN</td>\n",
       "      <td>NaN</td>\n",
       "      <td>NaN</td>\n",
       "      <td>NaN</td>\n",
       "      <td>NaN</td>\n",
       "      <td>NaN</td>\n",
       "      <td>NaN</td>\n",
       "      <td>NaN</td>\n",
       "      <td>NaN</td>\n",
       "      <td>NaN</td>\n",
       "      <td>NaN</td>\n",
       "      <td>NaN</td>\n",
       "      <td>NaN</td>\n",
       "      <td>NaN</td>\n",
       "      <td>0.46</td>\n",
       "      <td>0.68</td>\n",
       "      <td>0.28</td>\n",
       "      <td>NaN</td>\n",
       "      <td>NaN</td>\n",
       "      <td>NaN</td>\n",
       "      <td>NaN</td>\n",
       "      <td>NaN</td>\n",
       "      <td>NaN</td>\n",
       "      <td>NaN</td>\n",
       "      <td>NaN</td>\n",
       "      <td>NaN</td>\n",
       "      <td>NaN</td>\n",
       "      <td>NaN</td>\n",
       "      <td>NaN</td>\n",
       "      <td>NaN</td>\n",
       "      <td>NaN</td>\n",
       "      <td>NaN</td>\n",
       "    </tr>\n",
       "    <tr>\n",
       "      <th>Wii</th>\n",
       "      <td>16.33</td>\n",
       "      <td>NaN</td>\n",
       "      <td>NaN</td>\n",
       "      <td>NaN</td>\n",
       "      <td>NaN</td>\n",
       "      <td>NaN</td>\n",
       "      <td>NaN</td>\n",
       "      <td>NaN</td>\n",
       "      <td>NaN</td>\n",
       "      <td>NaN</td>\n",
       "      <td>NaN</td>\n",
       "      <td>NaN</td>\n",
       "      <td>NaN</td>\n",
       "      <td>NaN</td>\n",
       "      <td>NaN</td>\n",
       "      <td>NaN</td>\n",
       "      <td>NaN</td>\n",
       "      <td>NaN</td>\n",
       "      <td>NaN</td>\n",
       "      <td>NaN</td>\n",
       "      <td>NaN</td>\n",
       "      <td>NaN</td>\n",
       "      <td>NaN</td>\n",
       "      <td>NaN</td>\n",
       "      <td>NaN</td>\n",
       "      <td>NaN</td>\n",
       "      <td>NaN</td>\n",
       "      <td>137.15</td>\n",
       "      <td>152.77</td>\n",
       "      <td>171.32</td>\n",
       "      <td>206.97</td>\n",
       "      <td>127.95</td>\n",
       "      <td>59.65</td>\n",
       "      <td>21.71</td>\n",
       "      <td>8.59</td>\n",
       "      <td>3.75</td>\n",
       "      <td>1.14</td>\n",
       "      <td>0.18</td>\n",
       "    </tr>\n",
       "    <tr>\n",
       "      <th>WiiU</th>\n",
       "      <td>NaN</td>\n",
       "      <td>NaN</td>\n",
       "      <td>NaN</td>\n",
       "      <td>NaN</td>\n",
       "      <td>NaN</td>\n",
       "      <td>NaN</td>\n",
       "      <td>NaN</td>\n",
       "      <td>NaN</td>\n",
       "      <td>NaN</td>\n",
       "      <td>NaN</td>\n",
       "      <td>NaN</td>\n",
       "      <td>NaN</td>\n",
       "      <td>NaN</td>\n",
       "      <td>NaN</td>\n",
       "      <td>NaN</td>\n",
       "      <td>NaN</td>\n",
       "      <td>NaN</td>\n",
       "      <td>NaN</td>\n",
       "      <td>NaN</td>\n",
       "      <td>NaN</td>\n",
       "      <td>NaN</td>\n",
       "      <td>NaN</td>\n",
       "      <td>NaN</td>\n",
       "      <td>NaN</td>\n",
       "      <td>NaN</td>\n",
       "      <td>NaN</td>\n",
       "      <td>NaN</td>\n",
       "      <td>NaN</td>\n",
       "      <td>NaN</td>\n",
       "      <td>NaN</td>\n",
       "      <td>NaN</td>\n",
       "      <td>NaN</td>\n",
       "      <td>NaN</td>\n",
       "      <td>17.56</td>\n",
       "      <td>21.65</td>\n",
       "      <td>22.03</td>\n",
       "      <td>16.35</td>\n",
       "      <td>4.60</td>\n",
       "    </tr>\n",
       "    <tr>\n",
       "      <th>X360</th>\n",
       "      <td>10.18</td>\n",
       "      <td>NaN</td>\n",
       "      <td>NaN</td>\n",
       "      <td>NaN</td>\n",
       "      <td>NaN</td>\n",
       "      <td>NaN</td>\n",
       "      <td>NaN</td>\n",
       "      <td>NaN</td>\n",
       "      <td>NaN</td>\n",
       "      <td>NaN</td>\n",
       "      <td>NaN</td>\n",
       "      <td>NaN</td>\n",
       "      <td>NaN</td>\n",
       "      <td>NaN</td>\n",
       "      <td>NaN</td>\n",
       "      <td>NaN</td>\n",
       "      <td>NaN</td>\n",
       "      <td>NaN</td>\n",
       "      <td>NaN</td>\n",
       "      <td>NaN</td>\n",
       "      <td>NaN</td>\n",
       "      <td>NaN</td>\n",
       "      <td>NaN</td>\n",
       "      <td>NaN</td>\n",
       "      <td>NaN</td>\n",
       "      <td>NaN</td>\n",
       "      <td>8.25</td>\n",
       "      <td>51.62</td>\n",
       "      <td>95.41</td>\n",
       "      <td>135.26</td>\n",
       "      <td>120.29</td>\n",
       "      <td>170.03</td>\n",
       "      <td>143.84</td>\n",
       "      <td>99.74</td>\n",
       "      <td>88.58</td>\n",
       "      <td>34.74</td>\n",
       "      <td>11.96</td>\n",
       "      <td>1.52</td>\n",
       "    </tr>\n",
       "    <tr>\n",
       "      <th>XB</th>\n",
       "      <td>6.17</td>\n",
       "      <td>NaN</td>\n",
       "      <td>NaN</td>\n",
       "      <td>NaN</td>\n",
       "      <td>NaN</td>\n",
       "      <td>NaN</td>\n",
       "      <td>NaN</td>\n",
       "      <td>NaN</td>\n",
       "      <td>NaN</td>\n",
       "      <td>NaN</td>\n",
       "      <td>NaN</td>\n",
       "      <td>NaN</td>\n",
       "      <td>NaN</td>\n",
       "      <td>NaN</td>\n",
       "      <td>NaN</td>\n",
       "      <td>NaN</td>\n",
       "      <td>NaN</td>\n",
       "      <td>NaN</td>\n",
       "      <td>NaN</td>\n",
       "      <td>NaN</td>\n",
       "      <td>NaN</td>\n",
       "      <td>0.99</td>\n",
       "      <td>22.26</td>\n",
       "      <td>48.01</td>\n",
       "      <td>55.04</td>\n",
       "      <td>65.42</td>\n",
       "      <td>49.08</td>\n",
       "      <td>10.04</td>\n",
       "      <td>0.55</td>\n",
       "      <td>0.18</td>\n",
       "      <td>NaN</td>\n",
       "      <td>NaN</td>\n",
       "      <td>NaN</td>\n",
       "      <td>NaN</td>\n",
       "      <td>NaN</td>\n",
       "      <td>NaN</td>\n",
       "      <td>NaN</td>\n",
       "      <td>NaN</td>\n",
       "    </tr>\n",
       "    <tr>\n",
       "      <th>XOne</th>\n",
       "      <td>NaN</td>\n",
       "      <td>NaN</td>\n",
       "      <td>NaN</td>\n",
       "      <td>NaN</td>\n",
       "      <td>NaN</td>\n",
       "      <td>NaN</td>\n",
       "      <td>NaN</td>\n",
       "      <td>NaN</td>\n",
       "      <td>NaN</td>\n",
       "      <td>NaN</td>\n",
       "      <td>NaN</td>\n",
       "      <td>NaN</td>\n",
       "      <td>NaN</td>\n",
       "      <td>NaN</td>\n",
       "      <td>NaN</td>\n",
       "      <td>NaN</td>\n",
       "      <td>NaN</td>\n",
       "      <td>NaN</td>\n",
       "      <td>NaN</td>\n",
       "      <td>NaN</td>\n",
       "      <td>NaN</td>\n",
       "      <td>NaN</td>\n",
       "      <td>NaN</td>\n",
       "      <td>NaN</td>\n",
       "      <td>NaN</td>\n",
       "      <td>NaN</td>\n",
       "      <td>NaN</td>\n",
       "      <td>NaN</td>\n",
       "      <td>NaN</td>\n",
       "      <td>NaN</td>\n",
       "      <td>NaN</td>\n",
       "      <td>NaN</td>\n",
       "      <td>NaN</td>\n",
       "      <td>NaN</td>\n",
       "      <td>18.96</td>\n",
       "      <td>54.07</td>\n",
       "      <td>60.14</td>\n",
       "      <td>26.15</td>\n",
       "    </tr>\n",
       "  </tbody>\n",
       "</table>\n",
       "</div>"
      ],
      "text/plain": [
       "year_of_release   0      1980   1981   1982   1983   1984   1985   1986  \\\n",
       "platform                                                                  \n",
       "2600             10.50  11.38  35.68  28.88   5.84   0.27   0.45   0.67   \n",
       "3DO                NaN    NaN    NaN    NaN    NaN    NaN    NaN    NaN   \n",
       "3DS               1.19    NaN    NaN    NaN    NaN    NaN    NaN    NaN   \n",
       "DC                 NaN    NaN    NaN    NaN    NaN    NaN    NaN    NaN   \n",
       "DS                3.34    NaN    NaN    NaN    NaN    NaN   0.02    NaN   \n",
       "GB                1.03    NaN    NaN    NaN    NaN    NaN    NaN    NaN   \n",
       "GBA               4.97    NaN    NaN    NaN    NaN    NaN    NaN    NaN   \n",
       "GC                2.20    NaN    NaN    NaN    NaN    NaN    NaN    NaN   \n",
       "GEN                NaN    NaN    NaN    NaN    NaN    NaN    NaN    NaN   \n",
       "GG                 NaN    NaN    NaN    NaN    NaN    NaN    NaN    NaN   \n",
       "N64               0.67    NaN    NaN    NaN    NaN    NaN    NaN    NaN   \n",
       "NES                NaN    NaN    NaN    NaN  10.96  50.08  53.44  36.41   \n",
       "NG                 NaN    NaN    NaN    NaN    NaN    NaN    NaN    NaN   \n",
       "PC                3.76    NaN    NaN    NaN    NaN    NaN   0.04    NaN   \n",
       "PCFX               NaN    NaN    NaN    NaN    NaN    NaN    NaN    NaN   \n",
       "PS                3.28    NaN    NaN    NaN    NaN    NaN    NaN    NaN   \n",
       "PS2              22.21    NaN    NaN    NaN    NaN    NaN    NaN    NaN   \n",
       "PS3               8.31    NaN    NaN    NaN    NaN    NaN    NaN    NaN   \n",
       "PS4                NaN    NaN    NaN    NaN    NaN    NaN    NaN    NaN   \n",
       "PSP               4.52    NaN    NaN    NaN    NaN    NaN    NaN    NaN   \n",
       "PSV               0.26    NaN    NaN    NaN    NaN    NaN    NaN    NaN   \n",
       "SAT                NaN    NaN    NaN    NaN    NaN    NaN    NaN    NaN   \n",
       "SCD                NaN    NaN    NaN    NaN    NaN    NaN    NaN    NaN   \n",
       "SNES               NaN    NaN    NaN    NaN    NaN    NaN    NaN    NaN   \n",
       "TG16               NaN    NaN    NaN    NaN    NaN    NaN    NaN    NaN   \n",
       "WS                 NaN    NaN    NaN    NaN    NaN    NaN    NaN    NaN   \n",
       "Wii              16.33    NaN    NaN    NaN    NaN    NaN    NaN    NaN   \n",
       "WiiU               NaN    NaN    NaN    NaN    NaN    NaN    NaN    NaN   \n",
       "X360             10.18    NaN    NaN    NaN    NaN    NaN    NaN    NaN   \n",
       "XB                6.17    NaN    NaN    NaN    NaN    NaN    NaN    NaN   \n",
       "XOne               NaN    NaN    NaN    NaN    NaN    NaN    NaN    NaN   \n",
       "\n",
       "year_of_release   1987   1988   1989   1990   1991   1992   1993   1994  \\\n",
       "platform                                                                  \n",
       "2600              1.94   0.74   0.63    NaN    NaN    NaN    NaN    NaN   \n",
       "3DO                NaN    NaN    NaN    NaN    NaN    NaN    NaN   0.02   \n",
       "3DS                NaN    NaN    NaN    NaN    NaN    NaN    NaN    NaN   \n",
       "DC                 NaN    NaN    NaN    NaN    NaN    NaN    NaN    NaN   \n",
       "DS                 NaN    NaN    NaN    NaN    NaN    NaN    NaN    NaN   \n",
       "GB                 NaN   1.43  64.97   4.89   5.57  25.49    NaN  12.18   \n",
       "GBA                NaN    NaN    NaN    NaN    NaN    NaN    NaN    NaN   \n",
       "GC                 NaN    NaN    NaN    NaN    NaN    NaN    NaN    NaN   \n",
       "GEN                NaN    NaN    NaN   2.60   4.33  12.64   0.65   8.13   \n",
       "GG                 NaN    NaN    NaN    NaN    NaN   0.04    NaN    NaN   \n",
       "N64                NaN    NaN    NaN    NaN    NaN    NaN    NaN    NaN   \n",
       "NES              19.76  45.01   7.85  15.73   6.11   1.98   3.61   0.11   \n",
       "NG                 NaN    NaN    NaN    NaN    NaN    NaN   0.21   0.80   \n",
       "PC                 NaN   0.03    NaN    NaN    NaN   3.03    NaN  12.87   \n",
       "PCFX               NaN    NaN    NaN    NaN    NaN    NaN    NaN    NaN   \n",
       "PS                 NaN    NaN    NaN    NaN    NaN    NaN    NaN   6.03   \n",
       "PS2                NaN    NaN    NaN    NaN    NaN    NaN    NaN    NaN   \n",
       "PS3                NaN    NaN    NaN    NaN    NaN    NaN    NaN    NaN   \n",
       "PS4                NaN    NaN    NaN    NaN    NaN    NaN    NaN    NaN   \n",
       "PSP                NaN    NaN    NaN    NaN    NaN    NaN    NaN    NaN   \n",
       "PSV                NaN    NaN    NaN    NaN    NaN    NaN    NaN    NaN   \n",
       "SAT                NaN    NaN    NaN    NaN    NaN    NaN    NaN   3.65   \n",
       "SCD                NaN    NaN    NaN    NaN    NaN    NaN   1.50   0.36   \n",
       "SNES               NaN    NaN    NaN  26.15  16.22  32.98  40.02  35.08   \n",
       "TG16               NaN    NaN    NaN    NaN    NaN    NaN    NaN    NaN   \n",
       "WS                 NaN    NaN    NaN    NaN    NaN    NaN    NaN    NaN   \n",
       "Wii                NaN    NaN    NaN    NaN    NaN    NaN    NaN    NaN   \n",
       "WiiU               NaN    NaN    NaN    NaN    NaN    NaN    NaN    NaN   \n",
       "X360               NaN    NaN    NaN    NaN    NaN    NaN    NaN    NaN   \n",
       "XB                 NaN    NaN    NaN    NaN    NaN    NaN    NaN    NaN   \n",
       "XOne               NaN    NaN    NaN    NaN    NaN    NaN    NaN    NaN   \n",
       "\n",
       "year_of_release   1995   1996    1997    1998    1999   2000    2001    2002  \\\n",
       "platform                                                                       \n",
       "2600               NaN    NaN     NaN     NaN     NaN    NaN     NaN     NaN   \n",
       "3DO               0.08    NaN     NaN     NaN     NaN    NaN     NaN     NaN   \n",
       "3DS                NaN    NaN     NaN     NaN     NaN    NaN     NaN     NaN   \n",
       "DC                 NaN    NaN     NaN    3.38    5.16   5.99    1.07    0.29   \n",
       "DS                 NaN    NaN     NaN     NaN     NaN    NaN     NaN     NaN   \n",
       "GB                3.60  36.03    6.37   26.90   38.00  19.76    9.24     NaN   \n",
       "GBA                NaN    NaN     NaN     NaN     NaN   0.07   61.53   74.16   \n",
       "GC                 NaN    NaN     NaN     NaN     NaN    NaN   26.34   51.81   \n",
       "GEN                NaN    NaN     NaN     NaN     NaN    NaN     NaN     NaN   \n",
       "GG                 NaN    NaN     NaN     NaN     NaN    NaN     NaN     NaN   \n",
       "N64                NaN  34.10   39.50   49.24   57.87  33.97    3.25    0.08   \n",
       "NES                NaN    NaN     NaN     NaN     NaN    NaN     NaN     NaN   \n",
       "NG                0.33   0.10     NaN     NaN     NaN    NaN     NaN     NaN   \n",
       "PC                4.22  10.58   11.27    3.26    4.74   4.66    5.47    8.57   \n",
       "PCFX               NaN   0.03     NaN     NaN     NaN    NaN     NaN     NaN   \n",
       "PS               35.96  94.70  136.17  169.49  144.53  96.37   35.59    6.67   \n",
       "PS2                NaN    NaN     NaN     NaN     NaN  39.17  166.43  205.38   \n",
       "PS3                NaN    NaN     NaN     NaN     NaN    NaN     NaN     NaN   \n",
       "PS4                NaN    NaN     NaN     NaN     NaN    NaN     NaN     NaN   \n",
       "PSP                NaN    NaN     NaN     NaN     NaN    NaN     NaN     NaN   \n",
       "PSV                NaN    NaN     NaN     NaN     NaN    NaN     NaN     NaN   \n",
       "SAT              11.57   7.69    6.77    3.82    0.09    NaN     NaN     NaN   \n",
       "SCD                NaN    NaN     NaN     NaN     NaN    NaN     NaN     NaN   \n",
       "SNES             32.20  15.92    0.99    0.22    0.26    NaN     NaN     NaN   \n",
       "TG16              0.16    NaN     NaN     NaN     NaN    NaN     NaN     NaN   \n",
       "WS                 NaN    NaN     NaN     NaN    0.46   0.68    0.28     NaN   \n",
       "Wii                NaN    NaN     NaN     NaN     NaN    NaN     NaN     NaN   \n",
       "WiiU               NaN    NaN     NaN     NaN     NaN    NaN     NaN     NaN   \n",
       "X360               NaN    NaN     NaN     NaN     NaN    NaN     NaN     NaN   \n",
       "XB                 NaN    NaN     NaN     NaN     NaN   0.99   22.26   48.01   \n",
       "XOne               NaN    NaN     NaN     NaN     NaN    NaN     NaN     NaN   \n",
       "\n",
       "year_of_release    2003    2004    2005    2006    2007    2008    2009  \\\n",
       "platform                                                                  \n",
       "2600                NaN     NaN     NaN     NaN     NaN     NaN     NaN   \n",
       "3DO                 NaN     NaN     NaN     NaN     NaN     NaN     NaN   \n",
       "3DS                 NaN     NaN     NaN     NaN     NaN     NaN     NaN   \n",
       "DC                  NaN     NaN     NaN     NaN    0.02    0.04     NaN   \n",
       "DS                  NaN   17.27  130.14  119.81  146.94  145.31  119.54   \n",
       "GB                  NaN     NaN     NaN     NaN     NaN     NaN     NaN   \n",
       "GBA               56.67   77.91   33.86    5.28    3.40     NaN     NaN   \n",
       "GC                50.61   28.82   27.62   11.26    0.27     NaN     NaN   \n",
       "GEN                 NaN     NaN     NaN     NaN     NaN     NaN     NaN   \n",
       "GG                  NaN     NaN     NaN     NaN     NaN     NaN     NaN   \n",
       "N64                 NaN     NaN     NaN     NaN     NaN     NaN     NaN   \n",
       "NES                 NaN     NaN     NaN     NaN     NaN     NaN     NaN   \n",
       "NG                  NaN     NaN     NaN     NaN     NaN     NaN     NaN   \n",
       "PC                 8.84   10.39    4.37    2.85    9.28   12.42   16.91   \n",
       "PCFX                NaN     NaN     NaN     NaN     NaN     NaN     NaN   \n",
       "PS                 2.07     NaN     NaN     NaN     NaN     NaN     NaN   \n",
       "PS2              184.31  211.81  160.66  103.42   75.99   53.90   26.40   \n",
       "PS3                 NaN     NaN     NaN   20.96   73.19  118.52  130.93   \n",
       "PS4                 NaN     NaN     NaN     NaN     NaN     NaN     NaN   \n",
       "PSP                 NaN    7.06   43.84   55.32   46.93   34.55   37.78   \n",
       "PSV                 NaN     NaN     NaN     NaN     NaN     NaN     NaN   \n",
       "SAT                 NaN     NaN     NaN     NaN     NaN     NaN     NaN   \n",
       "SCD                 NaN     NaN     NaN     NaN     NaN     NaN     NaN   \n",
       "SNES                NaN     NaN     NaN     NaN     NaN     NaN     NaN   \n",
       "TG16                NaN     NaN     NaN     NaN     NaN     NaN     NaN   \n",
       "WS                  NaN     NaN     NaN     NaN     NaN     NaN     NaN   \n",
       "Wii                 NaN     NaN     NaN  137.15  152.77  171.32  206.97   \n",
       "WiiU                NaN     NaN     NaN     NaN     NaN     NaN     NaN   \n",
       "X360                NaN     NaN    8.25   51.62   95.41  135.26  120.29   \n",
       "XB                55.04   65.42   49.08   10.04    0.55    0.18     NaN   \n",
       "XOne                NaN     NaN     NaN     NaN     NaN     NaN     NaN   \n",
       "\n",
       "year_of_release    2010    2011    2012    2013    2014    2015   2016  \n",
       "platform                                                                \n",
       "2600                NaN     NaN     NaN     NaN     NaN     NaN    NaN  \n",
       "3DO                 NaN     NaN     NaN     NaN     NaN     NaN    NaN  \n",
       "3DS                 NaN   63.20   51.36   56.57   43.76   27.78  15.14  \n",
       "DC                  NaN     NaN     NaN     NaN     NaN     NaN    NaN  \n",
       "DS                85.02   26.18   11.01    1.54     NaN     NaN    NaN  \n",
       "GB                  NaN     NaN     NaN     NaN     NaN     NaN    NaN  \n",
       "GBA                 NaN     NaN     NaN     NaN     NaN     NaN    NaN  \n",
       "GC                  NaN     NaN     NaN     NaN     NaN     NaN    NaN  \n",
       "GEN                 NaN     NaN     NaN     NaN     NaN     NaN    NaN  \n",
       "GG                  NaN     NaN     NaN     NaN     NaN     NaN    NaN  \n",
       "N64                 NaN     NaN     NaN     NaN     NaN     NaN    NaN  \n",
       "NES                 NaN     NaN     NaN     NaN     NaN     NaN    NaN  \n",
       "NG                  NaN     NaN     NaN     NaN     NaN     NaN    NaN  \n",
       "PC                24.28   35.03   23.22   12.38   13.28    8.52   5.25  \n",
       "PCFX                NaN     NaN     NaN     NaN     NaN     NaN    NaN  \n",
       "PS                  NaN     NaN     NaN     NaN     NaN     NaN    NaN  \n",
       "PS2                5.64    0.45     NaN     NaN     NaN     NaN    NaN  \n",
       "PS3              142.17  156.78  107.36  113.25   47.76   16.82   3.60  \n",
       "PS4                 NaN     NaN     NaN   25.99  100.00  118.90  69.25  \n",
       "PSP               35.04   17.82    7.69    3.14    0.24    0.12    NaN  \n",
       "PSV                 NaN    4.63   16.19   10.59   11.90    6.25   4.25  \n",
       "SAT                 NaN     NaN     NaN     NaN     NaN     NaN    NaN  \n",
       "SCD                 NaN     NaN     NaN     NaN     NaN     NaN    NaN  \n",
       "SNES                NaN     NaN     NaN     NaN     NaN     NaN    NaN  \n",
       "TG16                NaN     NaN     NaN     NaN     NaN     NaN    NaN  \n",
       "WS                  NaN     NaN     NaN     NaN     NaN     NaN    NaN  \n",
       "Wii              127.95   59.65   21.71    8.59    3.75    1.14   0.18  \n",
       "WiiU                NaN     NaN   17.56   21.65   22.03   16.35   4.60  \n",
       "X360             170.03  143.84   99.74   88.58   34.74   11.96   1.52  \n",
       "XB                  NaN     NaN     NaN     NaN     NaN     NaN    NaN  \n",
       "XOne                NaN     NaN     NaN   18.96   54.07   60.14  26.15  "
      ]
     },
     "execution_count": 26,
     "metadata": {},
     "output_type": "execute_result"
    }
   ],
   "source": [
    "data_times_platform = data.pivot_table(index='platform', columns='year_of_release', values='all_sales', aggfunc='sum')\n",
    "data_times_platform"
   ]
  },
  {
   "cell_type": "markdown",
   "metadata": {},
   "source": [
    "Не так много приставок было активно в 2016 году. Посмотрим на (-1) средний срок жизни приставки."
   ]
  },
  {
   "cell_type": "code",
   "execution_count": 27,
   "metadata": {},
   "outputs": [],
   "source": [
    "data_life = data.query('year_of_release >= 2005')"
   ]
  },
  {
   "cell_type": "code",
   "execution_count": 28,
   "metadata": {
    "scrolled": true
   },
   "outputs": [
    {
     "data": {
      "text/html": [
       "<div>\n",
       "<style scoped>\n",
       "    .dataframe tbody tr th:only-of-type {\n",
       "        vertical-align: middle;\n",
       "    }\n",
       "\n",
       "    .dataframe tbody tr th {\n",
       "        vertical-align: top;\n",
       "    }\n",
       "\n",
       "    .dataframe thead th {\n",
       "        text-align: right;\n",
       "    }\n",
       "</style>\n",
       "<table border=\"1\" class=\"dataframe\">\n",
       "  <thead>\n",
       "    <tr style=\"text-align: right;\">\n",
       "      <th>year_of_release</th>\n",
       "      <th>2005</th>\n",
       "      <th>2006</th>\n",
       "      <th>2007</th>\n",
       "      <th>2008</th>\n",
       "      <th>2009</th>\n",
       "      <th>2010</th>\n",
       "      <th>2011</th>\n",
       "      <th>2012</th>\n",
       "      <th>2013</th>\n",
       "      <th>2014</th>\n",
       "      <th>2015</th>\n",
       "      <th>2016</th>\n",
       "    </tr>\n",
       "    <tr>\n",
       "      <th>platform</th>\n",
       "      <th></th>\n",
       "      <th></th>\n",
       "      <th></th>\n",
       "      <th></th>\n",
       "      <th></th>\n",
       "      <th></th>\n",
       "      <th></th>\n",
       "      <th></th>\n",
       "      <th></th>\n",
       "      <th></th>\n",
       "      <th></th>\n",
       "      <th></th>\n",
       "    </tr>\n",
       "  </thead>\n",
       "  <tbody>\n",
       "    <tr>\n",
       "      <th>3DS</th>\n",
       "      <td>NaN</td>\n",
       "      <td>NaN</td>\n",
       "      <td>NaN</td>\n",
       "      <td>NaN</td>\n",
       "      <td>NaN</td>\n",
       "      <td>NaN</td>\n",
       "      <td>63.20</td>\n",
       "      <td>51.36</td>\n",
       "      <td>56.57</td>\n",
       "      <td>43.76</td>\n",
       "      <td>27.78</td>\n",
       "      <td>15.14</td>\n",
       "    </tr>\n",
       "    <tr>\n",
       "      <th>DC</th>\n",
       "      <td>NaN</td>\n",
       "      <td>NaN</td>\n",
       "      <td>0.02</td>\n",
       "      <td>0.04</td>\n",
       "      <td>NaN</td>\n",
       "      <td>NaN</td>\n",
       "      <td>NaN</td>\n",
       "      <td>NaN</td>\n",
       "      <td>NaN</td>\n",
       "      <td>NaN</td>\n",
       "      <td>NaN</td>\n",
       "      <td>NaN</td>\n",
       "    </tr>\n",
       "    <tr>\n",
       "      <th>DS</th>\n",
       "      <td>130.14</td>\n",
       "      <td>119.81</td>\n",
       "      <td>146.94</td>\n",
       "      <td>145.31</td>\n",
       "      <td>119.54</td>\n",
       "      <td>85.02</td>\n",
       "      <td>26.18</td>\n",
       "      <td>11.01</td>\n",
       "      <td>1.54</td>\n",
       "      <td>NaN</td>\n",
       "      <td>NaN</td>\n",
       "      <td>NaN</td>\n",
       "    </tr>\n",
       "    <tr>\n",
       "      <th>GBA</th>\n",
       "      <td>33.86</td>\n",
       "      <td>5.28</td>\n",
       "      <td>3.40</td>\n",
       "      <td>NaN</td>\n",
       "      <td>NaN</td>\n",
       "      <td>NaN</td>\n",
       "      <td>NaN</td>\n",
       "      <td>NaN</td>\n",
       "      <td>NaN</td>\n",
       "      <td>NaN</td>\n",
       "      <td>NaN</td>\n",
       "      <td>NaN</td>\n",
       "    </tr>\n",
       "    <tr>\n",
       "      <th>GC</th>\n",
       "      <td>27.62</td>\n",
       "      <td>11.26</td>\n",
       "      <td>0.27</td>\n",
       "      <td>NaN</td>\n",
       "      <td>NaN</td>\n",
       "      <td>NaN</td>\n",
       "      <td>NaN</td>\n",
       "      <td>NaN</td>\n",
       "      <td>NaN</td>\n",
       "      <td>NaN</td>\n",
       "      <td>NaN</td>\n",
       "      <td>NaN</td>\n",
       "    </tr>\n",
       "    <tr>\n",
       "      <th>PC</th>\n",
       "      <td>4.37</td>\n",
       "      <td>2.85</td>\n",
       "      <td>9.28</td>\n",
       "      <td>12.42</td>\n",
       "      <td>16.91</td>\n",
       "      <td>24.28</td>\n",
       "      <td>35.03</td>\n",
       "      <td>23.22</td>\n",
       "      <td>12.38</td>\n",
       "      <td>13.28</td>\n",
       "      <td>8.52</td>\n",
       "      <td>5.25</td>\n",
       "    </tr>\n",
       "    <tr>\n",
       "      <th>PS2</th>\n",
       "      <td>160.66</td>\n",
       "      <td>103.42</td>\n",
       "      <td>75.99</td>\n",
       "      <td>53.90</td>\n",
       "      <td>26.40</td>\n",
       "      <td>5.64</td>\n",
       "      <td>0.45</td>\n",
       "      <td>NaN</td>\n",
       "      <td>NaN</td>\n",
       "      <td>NaN</td>\n",
       "      <td>NaN</td>\n",
       "      <td>NaN</td>\n",
       "    </tr>\n",
       "    <tr>\n",
       "      <th>PS3</th>\n",
       "      <td>NaN</td>\n",
       "      <td>20.96</td>\n",
       "      <td>73.19</td>\n",
       "      <td>118.52</td>\n",
       "      <td>130.93</td>\n",
       "      <td>142.17</td>\n",
       "      <td>156.78</td>\n",
       "      <td>107.36</td>\n",
       "      <td>113.25</td>\n",
       "      <td>47.76</td>\n",
       "      <td>16.82</td>\n",
       "      <td>3.60</td>\n",
       "    </tr>\n",
       "    <tr>\n",
       "      <th>PS4</th>\n",
       "      <td>NaN</td>\n",
       "      <td>NaN</td>\n",
       "      <td>NaN</td>\n",
       "      <td>NaN</td>\n",
       "      <td>NaN</td>\n",
       "      <td>NaN</td>\n",
       "      <td>NaN</td>\n",
       "      <td>NaN</td>\n",
       "      <td>25.99</td>\n",
       "      <td>100.00</td>\n",
       "      <td>118.90</td>\n",
       "      <td>69.25</td>\n",
       "    </tr>\n",
       "    <tr>\n",
       "      <th>PSP</th>\n",
       "      <td>43.84</td>\n",
       "      <td>55.32</td>\n",
       "      <td>46.93</td>\n",
       "      <td>34.55</td>\n",
       "      <td>37.78</td>\n",
       "      <td>35.04</td>\n",
       "      <td>17.82</td>\n",
       "      <td>7.69</td>\n",
       "      <td>3.14</td>\n",
       "      <td>0.24</td>\n",
       "      <td>0.12</td>\n",
       "      <td>NaN</td>\n",
       "    </tr>\n",
       "    <tr>\n",
       "      <th>PSV</th>\n",
       "      <td>NaN</td>\n",
       "      <td>NaN</td>\n",
       "      <td>NaN</td>\n",
       "      <td>NaN</td>\n",
       "      <td>NaN</td>\n",
       "      <td>NaN</td>\n",
       "      <td>4.63</td>\n",
       "      <td>16.19</td>\n",
       "      <td>10.59</td>\n",
       "      <td>11.90</td>\n",
       "      <td>6.25</td>\n",
       "      <td>4.25</td>\n",
       "    </tr>\n",
       "    <tr>\n",
       "      <th>Wii</th>\n",
       "      <td>NaN</td>\n",
       "      <td>137.15</td>\n",
       "      <td>152.77</td>\n",
       "      <td>171.32</td>\n",
       "      <td>206.97</td>\n",
       "      <td>127.95</td>\n",
       "      <td>59.65</td>\n",
       "      <td>21.71</td>\n",
       "      <td>8.59</td>\n",
       "      <td>3.75</td>\n",
       "      <td>1.14</td>\n",
       "      <td>0.18</td>\n",
       "    </tr>\n",
       "    <tr>\n",
       "      <th>WiiU</th>\n",
       "      <td>NaN</td>\n",
       "      <td>NaN</td>\n",
       "      <td>NaN</td>\n",
       "      <td>NaN</td>\n",
       "      <td>NaN</td>\n",
       "      <td>NaN</td>\n",
       "      <td>NaN</td>\n",
       "      <td>17.56</td>\n",
       "      <td>21.65</td>\n",
       "      <td>22.03</td>\n",
       "      <td>16.35</td>\n",
       "      <td>4.60</td>\n",
       "    </tr>\n",
       "    <tr>\n",
       "      <th>X360</th>\n",
       "      <td>8.25</td>\n",
       "      <td>51.62</td>\n",
       "      <td>95.41</td>\n",
       "      <td>135.26</td>\n",
       "      <td>120.29</td>\n",
       "      <td>170.03</td>\n",
       "      <td>143.84</td>\n",
       "      <td>99.74</td>\n",
       "      <td>88.58</td>\n",
       "      <td>34.74</td>\n",
       "      <td>11.96</td>\n",
       "      <td>1.52</td>\n",
       "    </tr>\n",
       "    <tr>\n",
       "      <th>XB</th>\n",
       "      <td>49.08</td>\n",
       "      <td>10.04</td>\n",
       "      <td>0.55</td>\n",
       "      <td>0.18</td>\n",
       "      <td>NaN</td>\n",
       "      <td>NaN</td>\n",
       "      <td>NaN</td>\n",
       "      <td>NaN</td>\n",
       "      <td>NaN</td>\n",
       "      <td>NaN</td>\n",
       "      <td>NaN</td>\n",
       "      <td>NaN</td>\n",
       "    </tr>\n",
       "    <tr>\n",
       "      <th>XOne</th>\n",
       "      <td>NaN</td>\n",
       "      <td>NaN</td>\n",
       "      <td>NaN</td>\n",
       "      <td>NaN</td>\n",
       "      <td>NaN</td>\n",
       "      <td>NaN</td>\n",
       "      <td>NaN</td>\n",
       "      <td>NaN</td>\n",
       "      <td>18.96</td>\n",
       "      <td>54.07</td>\n",
       "      <td>60.14</td>\n",
       "      <td>26.15</td>\n",
       "    </tr>\n",
       "  </tbody>\n",
       "</table>\n",
       "</div>"
      ],
      "text/plain": [
       "year_of_release    2005    2006    2007    2008    2009    2010    2011  \\\n",
       "platform                                                                  \n",
       "3DS                 NaN     NaN     NaN     NaN     NaN     NaN   63.20   \n",
       "DC                  NaN     NaN    0.02    0.04     NaN     NaN     NaN   \n",
       "DS               130.14  119.81  146.94  145.31  119.54   85.02   26.18   \n",
       "GBA               33.86    5.28    3.40     NaN     NaN     NaN     NaN   \n",
       "GC                27.62   11.26    0.27     NaN     NaN     NaN     NaN   \n",
       "PC                 4.37    2.85    9.28   12.42   16.91   24.28   35.03   \n",
       "PS2              160.66  103.42   75.99   53.90   26.40    5.64    0.45   \n",
       "PS3                 NaN   20.96   73.19  118.52  130.93  142.17  156.78   \n",
       "PS4                 NaN     NaN     NaN     NaN     NaN     NaN     NaN   \n",
       "PSP               43.84   55.32   46.93   34.55   37.78   35.04   17.82   \n",
       "PSV                 NaN     NaN     NaN     NaN     NaN     NaN    4.63   \n",
       "Wii                 NaN  137.15  152.77  171.32  206.97  127.95   59.65   \n",
       "WiiU                NaN     NaN     NaN     NaN     NaN     NaN     NaN   \n",
       "X360               8.25   51.62   95.41  135.26  120.29  170.03  143.84   \n",
       "XB                49.08   10.04    0.55    0.18     NaN     NaN     NaN   \n",
       "XOne                NaN     NaN     NaN     NaN     NaN     NaN     NaN   \n",
       "\n",
       "year_of_release    2012    2013    2014    2015   2016  \n",
       "platform                                                \n",
       "3DS               51.36   56.57   43.76   27.78  15.14  \n",
       "DC                  NaN     NaN     NaN     NaN    NaN  \n",
       "DS                11.01    1.54     NaN     NaN    NaN  \n",
       "GBA                 NaN     NaN     NaN     NaN    NaN  \n",
       "GC                  NaN     NaN     NaN     NaN    NaN  \n",
       "PC                23.22   12.38   13.28    8.52   5.25  \n",
       "PS2                 NaN     NaN     NaN     NaN    NaN  \n",
       "PS3              107.36  113.25   47.76   16.82   3.60  \n",
       "PS4                 NaN   25.99  100.00  118.90  69.25  \n",
       "PSP                7.69    3.14    0.24    0.12    NaN  \n",
       "PSV               16.19   10.59   11.90    6.25   4.25  \n",
       "Wii               21.71    8.59    3.75    1.14   0.18  \n",
       "WiiU              17.56   21.65   22.03   16.35   4.60  \n",
       "X360              99.74   88.58   34.74   11.96   1.52  \n",
       "XB                  NaN     NaN     NaN     NaN    NaN  \n",
       "XOne                NaN   18.96   54.07   60.14  26.15  "
      ]
     },
     "execution_count": 28,
     "metadata": {},
     "output_type": "execute_result"
    }
   ],
   "source": [
    "data_life.pivot_table(index='platform', columns='year_of_release', values='all_sales', aggfunc='sum')"
   ]
  },
  {
   "cell_type": "markdown",
   "metadata": {},
   "source": [
    "Если смотреть на этот срок - видим, что можно отсечь ещё половину по годам. Есть приставки которые уже к середине нашей меры отжили или отживают свой срок. Что видно как по количеству лет, так и по прибыли."
   ]
  },
  {
   "cell_type": "code",
   "execution_count": 29,
   "metadata": {},
   "outputs": [],
   "source": [
    "data_life = data.query('year_of_release >= 2010')"
   ]
  },
  {
   "cell_type": "code",
   "execution_count": 30,
   "metadata": {
    "scrolled": false
   },
   "outputs": [
    {
     "data": {
      "text/html": [
       "<div>\n",
       "<style scoped>\n",
       "    .dataframe tbody tr th:only-of-type {\n",
       "        vertical-align: middle;\n",
       "    }\n",
       "\n",
       "    .dataframe tbody tr th {\n",
       "        vertical-align: top;\n",
       "    }\n",
       "\n",
       "    .dataframe thead th {\n",
       "        text-align: right;\n",
       "    }\n",
       "</style>\n",
       "<table border=\"1\" class=\"dataframe\">\n",
       "  <thead>\n",
       "    <tr style=\"text-align: right;\">\n",
       "      <th>year_of_release</th>\n",
       "      <th>2010</th>\n",
       "      <th>2011</th>\n",
       "      <th>2012</th>\n",
       "      <th>2013</th>\n",
       "      <th>2014</th>\n",
       "      <th>2015</th>\n",
       "      <th>2016</th>\n",
       "    </tr>\n",
       "    <tr>\n",
       "      <th>platform</th>\n",
       "      <th></th>\n",
       "      <th></th>\n",
       "      <th></th>\n",
       "      <th></th>\n",
       "      <th></th>\n",
       "      <th></th>\n",
       "      <th></th>\n",
       "    </tr>\n",
       "  </thead>\n",
       "  <tbody>\n",
       "    <tr>\n",
       "      <th>3DS</th>\n",
       "      <td>NaN</td>\n",
       "      <td>63.20</td>\n",
       "      <td>51.36</td>\n",
       "      <td>56.57</td>\n",
       "      <td>43.76</td>\n",
       "      <td>27.78</td>\n",
       "      <td>15.14</td>\n",
       "    </tr>\n",
       "    <tr>\n",
       "      <th>DS</th>\n",
       "      <td>85.02</td>\n",
       "      <td>26.18</td>\n",
       "      <td>11.01</td>\n",
       "      <td>1.54</td>\n",
       "      <td>NaN</td>\n",
       "      <td>NaN</td>\n",
       "      <td>NaN</td>\n",
       "    </tr>\n",
       "    <tr>\n",
       "      <th>PC</th>\n",
       "      <td>24.28</td>\n",
       "      <td>35.03</td>\n",
       "      <td>23.22</td>\n",
       "      <td>12.38</td>\n",
       "      <td>13.28</td>\n",
       "      <td>8.52</td>\n",
       "      <td>5.25</td>\n",
       "    </tr>\n",
       "    <tr>\n",
       "      <th>PS2</th>\n",
       "      <td>5.64</td>\n",
       "      <td>0.45</td>\n",
       "      <td>NaN</td>\n",
       "      <td>NaN</td>\n",
       "      <td>NaN</td>\n",
       "      <td>NaN</td>\n",
       "      <td>NaN</td>\n",
       "    </tr>\n",
       "    <tr>\n",
       "      <th>PS3</th>\n",
       "      <td>142.17</td>\n",
       "      <td>156.78</td>\n",
       "      <td>107.36</td>\n",
       "      <td>113.25</td>\n",
       "      <td>47.76</td>\n",
       "      <td>16.82</td>\n",
       "      <td>3.60</td>\n",
       "    </tr>\n",
       "    <tr>\n",
       "      <th>PS4</th>\n",
       "      <td>NaN</td>\n",
       "      <td>NaN</td>\n",
       "      <td>NaN</td>\n",
       "      <td>25.99</td>\n",
       "      <td>100.00</td>\n",
       "      <td>118.90</td>\n",
       "      <td>69.25</td>\n",
       "    </tr>\n",
       "    <tr>\n",
       "      <th>PSP</th>\n",
       "      <td>35.04</td>\n",
       "      <td>17.82</td>\n",
       "      <td>7.69</td>\n",
       "      <td>3.14</td>\n",
       "      <td>0.24</td>\n",
       "      <td>0.12</td>\n",
       "      <td>NaN</td>\n",
       "    </tr>\n",
       "    <tr>\n",
       "      <th>PSV</th>\n",
       "      <td>NaN</td>\n",
       "      <td>4.63</td>\n",
       "      <td>16.19</td>\n",
       "      <td>10.59</td>\n",
       "      <td>11.90</td>\n",
       "      <td>6.25</td>\n",
       "      <td>4.25</td>\n",
       "    </tr>\n",
       "    <tr>\n",
       "      <th>Wii</th>\n",
       "      <td>127.95</td>\n",
       "      <td>59.65</td>\n",
       "      <td>21.71</td>\n",
       "      <td>8.59</td>\n",
       "      <td>3.75</td>\n",
       "      <td>1.14</td>\n",
       "      <td>0.18</td>\n",
       "    </tr>\n",
       "    <tr>\n",
       "      <th>WiiU</th>\n",
       "      <td>NaN</td>\n",
       "      <td>NaN</td>\n",
       "      <td>17.56</td>\n",
       "      <td>21.65</td>\n",
       "      <td>22.03</td>\n",
       "      <td>16.35</td>\n",
       "      <td>4.60</td>\n",
       "    </tr>\n",
       "    <tr>\n",
       "      <th>X360</th>\n",
       "      <td>170.03</td>\n",
       "      <td>143.84</td>\n",
       "      <td>99.74</td>\n",
       "      <td>88.58</td>\n",
       "      <td>34.74</td>\n",
       "      <td>11.96</td>\n",
       "      <td>1.52</td>\n",
       "    </tr>\n",
       "    <tr>\n",
       "      <th>XOne</th>\n",
       "      <td>NaN</td>\n",
       "      <td>NaN</td>\n",
       "      <td>NaN</td>\n",
       "      <td>18.96</td>\n",
       "      <td>54.07</td>\n",
       "      <td>60.14</td>\n",
       "      <td>26.15</td>\n",
       "    </tr>\n",
       "  </tbody>\n",
       "</table>\n",
       "</div>"
      ],
      "text/plain": [
       "year_of_release    2010    2011    2012    2013    2014    2015   2016\n",
       "platform                                                              \n",
       "3DS                 NaN   63.20   51.36   56.57   43.76   27.78  15.14\n",
       "DS                85.02   26.18   11.01    1.54     NaN     NaN    NaN\n",
       "PC                24.28   35.03   23.22   12.38   13.28    8.52   5.25\n",
       "PS2                5.64    0.45     NaN     NaN     NaN     NaN    NaN\n",
       "PS3              142.17  156.78  107.36  113.25   47.76   16.82   3.60\n",
       "PS4                 NaN     NaN     NaN   25.99  100.00  118.90  69.25\n",
       "PSP               35.04   17.82    7.69    3.14    0.24    0.12    NaN\n",
       "PSV                 NaN    4.63   16.19   10.59   11.90    6.25   4.25\n",
       "Wii              127.95   59.65   21.71    8.59    3.75    1.14   0.18\n",
       "WiiU                NaN     NaN   17.56   21.65   22.03   16.35   4.60\n",
       "X360             170.03  143.84   99.74   88.58   34.74   11.96   1.52\n",
       "XOne                NaN     NaN     NaN   18.96   54.07   60.14  26.15"
      ]
     },
     "execution_count": 30,
     "metadata": {},
     "output_type": "execute_result"
    }
   ],
   "source": [
    "data_life.pivot_table(index='platform', columns='year_of_release', values='all_sales', aggfunc='sum')"
   ]
  },
  {
   "cell_type": "markdown",
   "metadata": {},
   "source": [
    "Теперь возобновим информацию по самым продаваемым, по тем кто сейчас на рынке и разделим на группы. Вручную. Начнем с общих продаж, потом вернемся к последним продажам, кого не учли."
   ]
  },
  {
   "cell_type": "code",
   "execution_count": 31,
   "metadata": {
    "scrolled": false
   },
   "outputs": [
    {
     "data": {
      "text/plain": [
       "platform\n",
       "PS3     587.74\n",
       "X360    550.41\n",
       "PS4     314.14\n",
       "3DS     257.81\n",
       "Wii     222.97\n",
       "XOne    159.32\n",
       "DS      123.75\n",
       "PC      121.96\n",
       "WiiU     82.19\n",
       "PSP      64.05\n",
       "PSV      53.81\n",
       "PS2       6.09\n",
       "Name: all_sales, dtype: float64"
      ]
     },
     "execution_count": 31,
     "metadata": {},
     "output_type": "execute_result"
    }
   ],
   "source": [
    "data_life.groupby('platform')['all_sales'].sum().sort_values(ascending=False) # те кто есть сейчас и сумма продаж"
   ]
  },
  {
   "cell_type": "code",
   "execution_count": 32,
   "metadata": {
    "scrolled": true
   },
   "outputs": [
    {
     "data": {
      "text/plain": [
       "platform\n",
       "PS2     1255.77\n",
       "X360     971.42\n",
       "PS3      939.65\n",
       "Wii      907.51\n",
       "DS       806.12\n",
       "PS       730.86\n",
       "GBA      317.85\n",
       "PS4      314.14\n",
       "PSP      294.05\n",
       "PC       259.52\n",
       "Name: all_sales, dtype: float64"
      ]
     },
     "execution_count": 32,
     "metadata": {},
     "output_type": "execute_result"
    }
   ],
   "source": [
    "data.groupby('platform')['all_sales'].sum().sort_values(ascending=False).head(10) # самые больште продажи за все периоды."
   ]
  },
  {
   "cell_type": "markdown",
   "metadata": {},
   "source": [
    "PS2 - самые больше продажи, но срок жизни истёк.\n",
    "\n",
    "***X360*** - хорошие суммарные продажи, есть на рынке, но это закат. Если только самый крайний вариант.\n",
    "\n",
    "***PS3*** - хорошие суммарные продажи, есть на рынке, но тоже закат. Ситуация чуть лучше чем у ***X360***, но не принципиально.\n",
    "Wii - то же, что и у двух выше, но из-за последних продаж не стоит даже рассматривать.\n",
    "\n",
    "DS - хорошие продажи, недавно были на рынке, но последние 3 года неактивны, прибыль последних лет, говорит что интерес растаял.\n",
    "PS, GBA - не представлены на рынке\n",
    "\n",
    "**PS4** - однозначно да. В середине своего пути, прибыль пока стабильно переваливает за 10 млн. И уже за 5 лет на рынке, вошла в топ самых продоваемых.\n",
    "\n",
    "PSP - всего год нет на рынке, но последние продажи говорят, что это всё.\n",
    "\n",
    "**PC** - в числе самых продаваемых, самый долгий, прибыль непостоянно но превышает млн. Тоже однозначно да.\n",
    "\n",
    "\n",
    "******************************\n",
    "\n",
    "**3DS** - не входит в самые продаваемые, но за последние 5 лет хорошо продаются, в середине своего пути, прибыль пока за 10 млн. Тоже да.\n",
    "\n",
    "**XOne** - тоже да. Одни из самых больших продаж за последние пару лет, активны пока всего 4 года.\n",
    "\n",
    "**WiiU** - тоже что и 3DS, тоже да, хотя прибыль меньше.\n",
    "\n",
    "**PSV** - стоит рассмотреть, в следующем году ещё можно получить прибыль. Но суммарные продажи невысокие, и в середине пути где-то.\n",
    "\n",
    "******************************\n",
    "\n",
    "У нас есть группа победителей, и на ней стоит сосредоточиться - **PS4**, **PC**, **3DS**, **XOne**, **WiiU**, **PSV**. Характерно, что 4 из этих платформ это преемники более ранних версий, уже доживающих своё. На фоне денежной прибыли **PSV**, **3DS** можно рассмотреть ***X360***, ***PS3***."
   ]
  },
  {
   "cell_type": "markdown",
   "metadata": {},
   "source": [
    "Я решил оставить 6 приставок и работать с ними. Это то, куда стоит вкладывать деньги. Данными других приставок можно пренебречь, учитывая что дальше от нас просят **актуальный период**. Учитывать в актуальном периоде неактуальные приставки и портреты игроков - можно, но очень аккуратно, и в данной работе принебрегу, если не потребуется обратное."
   ]
  },
  {
   "cell_type": "code",
   "execution_count": 33,
   "metadata": {
    "scrolled": true
   },
   "outputs": [
    {
     "data": {
      "text/html": [
       "<div>\n",
       "<style scoped>\n",
       "    .dataframe tbody tr th:only-of-type {\n",
       "        vertical-align: middle;\n",
       "    }\n",
       "\n",
       "    .dataframe tbody tr th {\n",
       "        vertical-align: top;\n",
       "    }\n",
       "\n",
       "    .dataframe thead th {\n",
       "        text-align: right;\n",
       "    }\n",
       "</style>\n",
       "<table border=\"1\" class=\"dataframe\">\n",
       "  <thead>\n",
       "    <tr style=\"text-align: right;\">\n",
       "      <th>year_of_release</th>\n",
       "      <th>2010</th>\n",
       "      <th>2011</th>\n",
       "      <th>2012</th>\n",
       "      <th>2013</th>\n",
       "      <th>2014</th>\n",
       "      <th>2015</th>\n",
       "      <th>2016</th>\n",
       "    </tr>\n",
       "    <tr>\n",
       "      <th>platform</th>\n",
       "      <th></th>\n",
       "      <th></th>\n",
       "      <th></th>\n",
       "      <th></th>\n",
       "      <th></th>\n",
       "      <th></th>\n",
       "      <th></th>\n",
       "    </tr>\n",
       "  </thead>\n",
       "  <tbody>\n",
       "    <tr>\n",
       "      <th>3DS</th>\n",
       "      <td>NaN</td>\n",
       "      <td>63.20</td>\n",
       "      <td>51.36</td>\n",
       "      <td>56.57</td>\n",
       "      <td>43.76</td>\n",
       "      <td>27.78</td>\n",
       "      <td>15.14</td>\n",
       "    </tr>\n",
       "    <tr>\n",
       "      <th>PC</th>\n",
       "      <td>24.28</td>\n",
       "      <td>35.03</td>\n",
       "      <td>23.22</td>\n",
       "      <td>12.38</td>\n",
       "      <td>13.28</td>\n",
       "      <td>8.52</td>\n",
       "      <td>5.25</td>\n",
       "    </tr>\n",
       "    <tr>\n",
       "      <th>PS4</th>\n",
       "      <td>NaN</td>\n",
       "      <td>NaN</td>\n",
       "      <td>NaN</td>\n",
       "      <td>25.99</td>\n",
       "      <td>100.00</td>\n",
       "      <td>118.90</td>\n",
       "      <td>69.25</td>\n",
       "    </tr>\n",
       "    <tr>\n",
       "      <th>PSV</th>\n",
       "      <td>NaN</td>\n",
       "      <td>4.63</td>\n",
       "      <td>16.19</td>\n",
       "      <td>10.59</td>\n",
       "      <td>11.90</td>\n",
       "      <td>6.25</td>\n",
       "      <td>4.25</td>\n",
       "    </tr>\n",
       "    <tr>\n",
       "      <th>WiiU</th>\n",
       "      <td>NaN</td>\n",
       "      <td>NaN</td>\n",
       "      <td>17.56</td>\n",
       "      <td>21.65</td>\n",
       "      <td>22.03</td>\n",
       "      <td>16.35</td>\n",
       "      <td>4.60</td>\n",
       "    </tr>\n",
       "    <tr>\n",
       "      <th>XOne</th>\n",
       "      <td>NaN</td>\n",
       "      <td>NaN</td>\n",
       "      <td>NaN</td>\n",
       "      <td>18.96</td>\n",
       "      <td>54.07</td>\n",
       "      <td>60.14</td>\n",
       "      <td>26.15</td>\n",
       "    </tr>\n",
       "  </tbody>\n",
       "</table>\n",
       "</div>"
      ],
      "text/plain": [
       "year_of_release   2010   2011   2012   2013    2014    2015   2016\n",
       "platform                                                          \n",
       "3DS                NaN  63.20  51.36  56.57   43.76   27.78  15.14\n",
       "PC               24.28  35.03  23.22  12.38   13.28    8.52   5.25\n",
       "PS4                NaN    NaN    NaN  25.99  100.00  118.90  69.25\n",
       "PSV                NaN   4.63  16.19  10.59   11.90    6.25   4.25\n",
       "WiiU               NaN    NaN  17.56  21.65   22.03   16.35   4.60\n",
       "XOne               NaN    NaN    NaN  18.96   54.07   60.14  26.15"
      ]
     },
     "execution_count": 33,
     "metadata": {},
     "output_type": "execute_result"
    }
   ],
   "source": [
    "data_period = (data\n",
    ".query('''\n",
    "(year_of_release >= 2010) & ((platform == \"PS4\") | (platform == \"PC\") | (platform == \"3DS\") | (platform == \"XOne\") | (platform == \"WiiU\") | (platform == \"PSV\"))\n",
    "''')\n",
    ")\n",
    "data_period_pivot = data_period.pivot_table(index='platform', columns='year_of_release', values='all_sales', aggfunc='sum')\n",
    "data_period_pivot"
   ]
  },
  {
   "cell_type": "markdown",
   "metadata": {},
   "source": [
    "Тут я воспользовался подсказкой на счёт актуального периода из Пачки. Взял 3 года, потому что за 2016 данные возможно неполные. За 2 года можно посмотреть динамику и не потеряться в прошлых данных(трендах). Если честно очень много потерял времент на этом. Я бы сам взял лет за 5, но аргументы про современные тренды - нахожу правильными."
   ]
  },
  {
   "cell_type": "code",
   "execution_count": 34,
   "metadata": {},
   "outputs": [],
   "source": [
    "data_period = data_period.query('year_of_release >= 2014')"
   ]
  },
  {
   "cell_type": "markdown",
   "metadata": {},
   "source": [
    "Конкретно зачем строить здесь график распределения - я не понял, если честно. Но сделал. Небольшие выводы оформил."
   ]
  },
  {
   "cell_type": "markdown",
   "metadata": {},
   "source": [
    "Построю диаграмму распределения сначала отдельно для каждой платформы, чтобы оценить уровень и количество аномалий. Сохраню в отдельную переменную без выбросов."
   ]
  },
  {
   "cell_type": "code",
   "execution_count": 35,
   "metadata": {
    "scrolled": true
   },
   "outputs": [
    {
     "data": {
      "image/png": "[encoded data removed]",
      "text/plain": [
       "<Figure size 432x288 with 1 Axes>"
      ]
     },
     "metadata": {
      "needs_background": "light"
     },
     "output_type": "display_data"
    }
   ],
   "source": [
    "data_period[data_period['platform'] == \"PS4\"].boxplot(column='all_sales');"
   ]
  },
  {
   "cell_type": "code",
   "execution_count": 36,
   "metadata": {},
   "outputs": [
    {
     "data": {
      "image/png": "[encoded data removed]",
      "text/plain": [
       "<Figure size 432x288 with 1 Axes>"
      ]
     },
     "metadata": {
      "needs_background": "light"
     },
     "output_type": "display_data"
    }
   ],
   "source": [
    "data_period[(data_period['platform'] == \"PC\")].boxplot(column='all_sales');"
   ]
  },
  {
   "cell_type": "code",
   "execution_count": 37,
   "metadata": {},
   "outputs": [
    {
     "data": {
      "image/png": "[encoded data removed]",
      "text/plain": [
       "<Figure size 432x288 with 1 Axes>"
      ]
     },
     "metadata": {
      "needs_background": "light"
     },
     "output_type": "display_data"
    }
   ],
   "source": [
    "data_period[data_period['platform'] == \"XOne\"].boxplot(column='all_sales');"
   ]
  },
  {
   "cell_type": "code",
   "execution_count": 38,
   "metadata": {},
   "outputs": [
    {
     "data": {
      "image/png": "[encoded data removed]",
      "text/plain": [
       "<Figure size 432x288 with 1 Axes>"
      ]
     },
     "metadata": {
      "needs_background": "light"
     },
     "output_type": "display_data"
    }
   ],
   "source": [
    "data_period[data_period['platform'] == \"WiiU\"].boxplot(column='all_sales');"
   ]
  },
  {
   "cell_type": "code",
   "execution_count": 39,
   "metadata": {},
   "outputs": [
    {
     "data": {
      "image/png": "[encoded data removed]",
      "text/plain": [
       "<Figure size 432x288 with 1 Axes>"
      ]
     },
     "metadata": {
      "needs_background": "light"
     },
     "output_type": "display_data"
    }
   ],
   "source": [
    "data_period[data_period['platform'] == \"3DS\"].boxplot(column='all_sales');"
   ]
  },
  {
   "cell_type": "code",
   "execution_count": 40,
   "metadata": {
    "scrolled": true
   },
   "outputs": [
    {
     "data": {
      "image/png": "[encoded data removed]",
      "text/plain": [
       "<Figure size 432x288 with 1 Axes>"
      ]
     },
     "metadata": {
      "needs_background": "light"
     },
     "output_type": "display_data"
    }
   ],
   "source": [
    "data_period[data_period['platform'] == \"PSV\"].boxplot(column='all_sales');"
   ]
  },
  {
   "cell_type": "markdown",
   "metadata": {},
   "source": [
    "Дальше отсеку аномалии и построю общий график."
   ]
  },
  {
   "cell_type": "code",
   "execution_count": 41,
   "metadata": {},
   "outputs": [
    {
     "data": {
      "image/png": "[encoded data removed]",
      "text/plain": [
       "<Figure size 720x720 with 1 Axes>"
      ]
     },
     "metadata": {
      "needs_background": "light"
     },
     "output_type": "display_data"
    }
   ],
   "source": [
    "data_boxplot = (\n",
    "data_period[((data_period['platform'] == \"PS4\") & (data_period['all_sales'] <= 2)) |\n",
    "           ((data_period['platform'] == \"PC\") & (data_period['all_sales'] <= 0.5)) |\n",
    "           ((data_period['platform'] == \"XOne\") & (data_period['all_sales'] <= 2)) |\n",
    "           ((data_period['platform'] == \"WiiU\") & (data_period['all_sales'] <= 2)) |\n",
    "           ((data_period['platform'] == \"3DS\") & (data_period['all_sales'] <= 2)) |\n",
    "           ((data_period['platform'] == \"PSV\") & (data_period['all_sales'] <= 0.25))]\n",
    ")\n",
    "data_boxplot.boxplot(column='all_sales', by='platform', figsize=(10, 10));\n",
    "plt.title(\"Диаграмма размаха продаж игр по платформам\", fontsize=20);\n",
    "plt.xlabel('Платформы', fontsize=15);\n",
    "plt.ylabel('Млн', fontsize=15);"
   ]
  },
  {
   "cell_type": "markdown",
   "metadata": {},
   "source": [
    "По сравнению с выбросами, которые есть, медиана везде находится около 0. Верхний ус на 3 из 6 платформ находится около 1 млн, на 3 других меньше млн. Есть уникальные продажи на > 10 млн, и рекордные продажи на каждой платформе."
   ]
  },
  {
   "cell_type": "markdown",
   "metadata": {},
   "source": [
    "Самые большие продажи можно ожидать на WiiU, почти столько же на XOne, PS4 так же можно отнести к ним в группу - у них примерно одинаковые медианы на уровне 125.тыс. Самая маленькая медиана продаж у PSV и граница коробки даже не дотягивает до медиан ведущих платформ. 3DS и PC - во второй группу, стоит ожидать от игр продаж меньше 250 тыс, против 500 тыс. в первой. \n",
    "\n",
    "Есть уникальные продажи на > 10 млн, и рекордные продажи на каждой платформе."
   ]
  },
  {
   "cell_type": "markdown",
   "metadata": {},
   "source": [
    "Далее работаем с зависимостью оценками критиков и пользователей на продажи."
   ]
  },
  {
   "cell_type": "markdown",
   "metadata": {},
   "source": [
    "Проанализируем как влияют на продажи внутри одной из популярных платформ отзывы критикови и пользователей."
   ]
  },
  {
   "cell_type": "code",
   "execution_count": 42,
   "metadata": {
    "scrolled": true
   },
   "outputs": [
    {
     "data": {
      "image/png": "[encoded data removed]",
      "text/plain": [
       "<Figure size 432x288 with 1 Axes>"
      ]
     },
     "metadata": {
      "needs_background": "light"
     },
     "output_type": "display_data"
    },
    {
     "data": {
      "image/png": "[encoded data removed]",
      "text/plain": [
       "<Figure size 432x288 with 1 Axes>"
      ]
     },
     "metadata": {
      "needs_background": "light"
     },
     "output_type": "display_data"
    }
   ],
   "source": [
    "data_period[data_period['platform'] == 'PS4'].plot(x='critic_score', y='all_sales', kind='scatter');\n",
    "data_period[data_period['platform'] == 'PS4'].plot(x='user_score', y='all_sales', kind='scatter');"
   ]
  },
  {
   "cell_type": "code",
   "execution_count": 43,
   "metadata": {},
   "outputs": [
    {
     "name": "stdout",
     "output_type": "stream",
     "text": [
      "Рейтинг критиков: 0.40266141068104083\n",
      "Рейтинг пользователей: -0.040131589472697356\n"
     ]
    }
   ],
   "source": [
    "(print('Рейтинг критиков:', \n",
    "data_period[data_period['platform'] == 'PS4']['critic_score'].corr(data_period['all_sales']))\n",
    ")\n",
    "(print('Рейтинг пользователей:',\n",
    "       data_period[data_period['platform'] == 'PS4']['user_score'].corr(data_period['all_sales']))\n",
    ")"
   ]
  },
  {
   "cell_type": "markdown",
   "metadata": {},
   "source": [
    "График показывает, что у плохих игр по мнению критиков, нет хороших продаж. Тут интересно сравнить с мнением пользователей, что у плохих и средних игр есть хорошие продажи, более того - самые высокие продажи находятся в диапозоне средних и даже ниже.\n",
    "\n",
    "Если смотреть на цифры - между мнением критиков и продажами, корреляция слабовыраженная. Между мнением пользователей и продажами зависимости нет.\n",
    "\n",
    "На графиках видна ещё пропасть - и пользователи, и критики доходят до оценки 9 и 90, и провал. У пользователей вообще сложно заслужить такую оценку и выше.\n",
    "\n",
    "Есть единичные уникумы, которые и хорошо продаются, и очень высокие мнения пользователей и критиков."
   ]
  },
  {
   "cell_type": "code",
   "execution_count": 44,
   "metadata": {},
   "outputs": [
    {
     "data": {
      "image/png": "[encoded data removed]",
      "text/plain": [
       "<Figure size 432x288 with 1 Axes>"
      ]
     },
     "metadata": {
      "needs_background": "light"
     },
     "output_type": "display_data"
    },
    {
     "data": {
      "image/png": "[encoded data removed]",
      "text/plain": [
       "<Figure size 432x288 with 1 Axes>"
      ]
     },
     "metadata": {
      "needs_background": "light"
     },
     "output_type": "display_data"
    }
   ],
   "source": [
    "data_period[data_period['platform'] == 'XOne'].plot(x='critic_score', y='all_sales', kind='scatter');\n",
    "data_period[data_period['platform'] == 'XOne'].plot(x='user_score', y='all_sales', kind='scatter');"
   ]
  },
  {
   "cell_type": "code",
   "execution_count": 45,
   "metadata": {},
   "outputs": [
    {
     "data": {
      "image/png": "[encoded data removed]",
      "text/plain": [
       "<Figure size 432x288 with 1 Axes>"
      ]
     },
     "metadata": {
      "needs_background": "light"
     },
     "output_type": "display_data"
    },
    {
     "data": {
      "image/png": "[encoded data removed]",
      "text/plain": [
       "<Figure size 432x288 with 1 Axes>"
      ]
     },
     "metadata": {
      "needs_background": "light"
     },
     "output_type": "display_data"
    }
   ],
   "source": [
    "data_period[data_period['platform'] == 'PC'].plot(x='critic_score', y='all_sales', kind='scatter');\n",
    "data_period[data_period['platform'] == 'PC'].plot(x='user_score', y='all_sales', kind='scatter');"
   ]
  },
  {
   "cell_type": "code",
   "execution_count": 46,
   "metadata": {
    "scrolled": true
   },
   "outputs": [
    {
     "data": {
      "image/png": "[encoded data removed]",
      "text/plain": [
       "<Figure size 432x288 with 1 Axes>"
      ]
     },
     "metadata": {
      "needs_background": "light"
     },
     "output_type": "display_data"
    },
    {
     "data": {
      "image/png": "[encoded data removed]",
      "text/plain": [
       "<Figure size 432x288 with 1 Axes>"
      ]
     },
     "metadata": {
      "needs_background": "light"
     },
     "output_type": "display_data"
    }
   ],
   "source": [
    "data_period[data_period['platform'] == 'WiiU'].plot(x='critic_score', y='all_sales', kind='scatter');\n",
    "data_period[data_period['platform'] == 'WiiU'].plot(x='user_score', y='all_sales', kind='scatter');"
   ]
  },
  {
   "cell_type": "code",
   "execution_count": 47,
   "metadata": {
    "scrolled": true
   },
   "outputs": [
    {
     "data": {
      "image/png": "[encoded data removed]",
      "text/plain": [
       "<Figure size 432x288 with 1 Axes>"
      ]
     },
     "metadata": {
      "needs_background": "light"
     },
     "output_type": "display_data"
    },
    {
     "data": {
      "image/png": "[encoded data removed]",
      "text/plain": [
       "<Figure size 432x288 with 1 Axes>"
      ]
     },
     "metadata": {
      "needs_background": "light"
     },
     "output_type": "display_data"
    }
   ],
   "source": [
    "data_period[data_period['platform'] == 'PSV'].plot(x='critic_score', y='all_sales', kind='scatter');\n",
    "data_period[data_period['platform'] == 'PSV'].plot(x='user_score', y='all_sales', kind='scatter');"
   ]
  },
  {
   "cell_type": "code",
   "execution_count": 48,
   "metadata": {
    "scrolled": true
   },
   "outputs": [
    {
     "data": {
      "image/png": "[encoded data removed]",
      "text/plain": [
       "<Figure size 432x288 with 1 Axes>"
      ]
     },
     "metadata": {
      "needs_background": "light"
     },
     "output_type": "display_data"
    },
    {
     "data": {
      "image/png": "[encoded data removed]",
      "text/plain": [
       "<Figure size 432x288 with 1 Axes>"
      ]
     },
     "metadata": {
      "needs_background": "light"
     },
     "output_type": "display_data"
    }
   ],
   "source": [
    "data_period[data_period['platform'] == '3DS'].plot(x='critic_score', y='all_sales', kind='scatter');\n",
    "data_period[data_period['platform'] == '3DS'].plot(x='user_score', y='all_sales', kind='scatter');"
   ]
  },
  {
   "cell_type": "markdown",
   "metadata": {},
   "source": [
    "У XOne графики очень похожи на PS4. Дальше видно, что игр меньше. Графики, примерно, стремятся к PS4. Есть свои особенности - предвзятые очень пользователи и чуть менее предвзятые критики у PSV; одна запредельная продажа на PC и в целом равномерно как-то распределены продажи."
   ]
  },
  {
   "cell_type": "markdown",
   "metadata": {},
   "source": [
    "Коррелляция"
   ]
  },
  {
   "cell_type": "code",
   "execution_count": 49,
   "metadata": {
    "scrolled": true
   },
   "outputs": [
    {
     "name": "stdout",
     "output_type": "stream",
     "text": [
      "Рейтинг критиков XOne: 0.42867694370333226\n",
      "Рейтинг пользователей XOne: -0.0703839280647581\n",
      "Рейтинг критиков PC: 0.17463413769350036\n",
      "Рейтинг пользователей PC: -0.07159665703472451\n",
      "Рейтинг критиков PSV: 0.04266490657009526\n",
      "Рейтинг пользователей PPSV: -0.16845504978064446\n",
      "Рейтинг критиков 3DS: 0.314117492869051\n",
      "Рейтинг пользователей 3DS: 0.2151932718527028\n",
      "Рейтинг критиков WiiU: 0.370201412480884\n",
      "Рейтинг пользователей WiiU: 0.40792645792170773\n"
     ]
    }
   ],
   "source": [
    "(print('Рейтинг критиков XOne:', \n",
    "data_period[data_period['platform'] == 'XOne']['critic_score'].corr(data_period['all_sales']))\n",
    ")\n",
    "(print('Рейтинг пользователей XOne:',\n",
    "       data_period[data_period['platform'] == 'XOne']['user_score'].corr(data_period['all_sales']))\n",
    ")\n",
    "\n",
    "(print('Рейтинг критиков PC:', \n",
    "data_period[data_period['platform'] == 'PC']['critic_score'].corr(data_period['all_sales']))\n",
    ")\n",
    "(print('Рейтинг пользователей PC:',\n",
    "       data_period[data_period['platform'] == 'PC']['user_score'].corr(data_period['all_sales']))\n",
    ")\n",
    "\n",
    "(print('Рейтинг критиков PSV:', \n",
    "data_period[data_period['platform'] == 'PSV']['critic_score'].corr(data_period['all_sales']))\n",
    ")\n",
    "(print('Рейтинг пользователей PPSV:',\n",
    "       data_period[data_period['platform'] == 'PSV']['user_score'].corr(data_period['all_sales']))\n",
    ")\n",
    "\n",
    "(print('Рейтинг критиков 3DS:', \n",
    "data_period[data_period['platform'] == '3DS']['critic_score'].corr(data_period['all_sales']))\n",
    ")\n",
    "(print('Рейтинг пользователей 3DS:',\n",
    "       data_period[data_period['platform'] == '3DS']['user_score'].corr(data_period['all_sales']))\n",
    ")\n",
    "\n",
    "(print('Рейтинг критиков WiiU:', \n",
    "data_period[data_period['platform'] == 'WiiU']['critic_score'].corr(data_period['all_sales']))\n",
    ")\n",
    "(print('Рейтинг пользователей WiiU:',\n",
    "       data_period[data_period['platform'] == 'WiiU']['user_score'].corr(data_period['all_sales']))\n",
    ")"
   ]
  },
  {
   "cell_type": "markdown",
   "metadata": {},
   "source": [
    "В целом схожая картина с исключениями - на PC между критиками и продажами корреляции нет, самая низкая. У пользователей WiiU есть слабо выраженная корреляция с продажами."
   ]
  },
  {
   "cell_type": "code",
   "execution_count": 50,
   "metadata": {},
   "outputs": [
    {
     "data": {
      "image/png": "[encoded data removed]",
      "text/plain": [
       "<Figure size 432x288 with 1 Axes>"
      ]
     },
     "metadata": {
      "needs_background": "light"
     },
     "output_type": "display_data"
    },
    {
     "data": {
      "image/png": "[encoded data removed]",
      "text/plain": [
       "<Figure size 432x288 with 1 Axes>"
      ]
     },
     "metadata": {
      "needs_background": "light"
     },
     "output_type": "display_data"
    }
   ],
   "source": [
    "data_period.plot(x='critic_score', y='all_sales', kind='scatter');\n",
    "data_period.plot(x='user_score', y='all_sales', kind='scatter');"
   ]
  },
  {
   "cell_type": "code",
   "execution_count": 51,
   "metadata": {},
   "outputs": [
    {
     "data": {
      "text/plain": [
       "0.3272705661300674"
      ]
     },
     "execution_count": 51,
     "metadata": {},
     "output_type": "execute_result"
    }
   ],
   "source": [
    "data_period['critic_score'].corr(data_period['all_sales'])"
   ]
  },
  {
   "cell_type": "code",
   "execution_count": 52,
   "metadata": {},
   "outputs": [
    {
     "data": {
      "text/plain": [
       "-0.003197872211426589"
      ]
     },
     "execution_count": 52,
     "metadata": {},
     "output_type": "execute_result"
    }
   ],
   "source": [
    "data_period['user_score'].corr(data_period['all_sales'])"
   ]
  },
  {
   "cell_type": "markdown",
   "metadata": {},
   "source": [
    "Какой-либо зависимости я не увидел. По цифрам корреляции нет. Что у пользователей игры с оценками ~3 и у критиков 60 балов - нет хороших продаж. Они растут после данных чисел. И после 6 и 70 начинаются какие-то закономерности положительные в деньгах.\n",
    "По цифрам показывает, что корреляции нет. С оценками критиков, вообще им как-будто лучше не оценивать хорошие игры."
   ]
  },
  {
   "cell_type": "markdown",
   "metadata": {},
   "source": [
    "Общая картина по всем платформам стремится к PS4 и XOne."
   ]
  },
  {
   "cell_type": "markdown",
   "metadata": {},
   "source": [
    "Исследование жанров."
   ]
  },
  {
   "cell_type": "code",
   "execution_count": 53,
   "metadata": {},
   "outputs": [
    {
     "data": {
      "text/plain": [
       "Action          495\n",
       "Role-Playing    187\n",
       "Adventure       148\n",
       "Sports          104\n",
       "Shooter          99\n",
       "Misc             89\n",
       "Racing           53\n",
       "Simulation       40\n",
       "Fighting         38\n",
       "Strategy         36\n",
       "Platform         33\n",
       "Puzzle           13\n",
       "Name: genre, dtype: int64"
      ]
     },
     "execution_count": 53,
     "metadata": {},
     "output_type": "execute_result"
    }
   ],
   "source": [
    "data_period['genre'].value_counts()"
   ]
  },
  {
   "cell_type": "code",
   "execution_count": 54,
   "metadata": {},
   "outputs": [
    {
     "data": {
      "image/png": "[encoded data removed]",
      "text/plain": [
       "<Figure size 1440x360 with 1 Axes>"
      ]
     },
     "metadata": {
      "needs_background": "light"
     },
     "output_type": "display_data"
    }
   ],
   "source": [
    "data_period['genre'].hist(figsize=(20, 5), bins=24);\n",
    "plt.title(\"Количество игр по жанрам\", fontsize=20)\n",
    "plt.xlabel('Жанры', fontsize=15);\n",
    "plt.ylabel('Количество игр', fontsize=15);"
   ]
  },
  {
   "cell_type": "code",
   "execution_count": 55,
   "metadata": {},
   "outputs": [
    {
     "data": {
      "text/plain": [
       "genre\n",
       "Action          167.54\n",
       "Shooter         145.11\n",
       "Role-Playing     92.05\n",
       "Sports           77.96\n",
       "Misc             26.43\n",
       "Racing           24.88\n",
       "Fighting         24.67\n",
       "Platform         17.14\n",
       "Adventure        13.44\n",
       "Simulation       12.33\n",
       "Strategy          3.90\n",
       "Puzzle            2.17\n",
       "Name: all_sales, dtype: float64"
      ]
     },
     "execution_count": 55,
     "metadata": {},
     "output_type": "execute_result"
    }
   ],
   "source": [
    "data_period.groupby('genre')['all_sales'].sum().sort_values(ascending=False)"
   ]
  },
  {
   "cell_type": "markdown",
   "metadata": {},
   "source": [
    "Учиитывая количество игровых платформ в списке - ничего удивительного, что лидирует жанр Action. С 3 кратным отрывом. 2 группа вместе догоняет лидера Role-Playing , Adventure, Sports, Shooter, Misc. Их количество продаж держится на трёх-значном числе. А вот гоночки, пазлы, драки и симуляторы - продаются совсем плохо.\n",
    "\n",
    "Если же брать в денежном эквиваленте - лидер всё тотже Action, но отрыва у него практически нет никакого. Причём один лидеров по количеству продаж по количеству денег в аутсайдерах - Adventure. B лидерах остались Shooter, Sports, Role-Playing. У Shooter чуть меньше, чем у жанра Action, и разници между ним и Role-Playing-последним среди лидеров - 70 млн. Такая же разница между Role-Playing и между первым в списке - остальных."
   ]
  },
  {
   "cell_type": "code",
   "execution_count": 56,
   "metadata": {
    "scrolled": true
   },
   "outputs": [
    {
     "data": {
      "text/html": [
       "<div>\n",
       "<style scoped>\n",
       "    .dataframe tbody tr th:only-of-type {\n",
       "        vertical-align: middle;\n",
       "    }\n",
       "\n",
       "    .dataframe tbody tr th {\n",
       "        vertical-align: top;\n",
       "    }\n",
       "\n",
       "    .dataframe thead tr th {\n",
       "        text-align: left;\n",
       "    }\n",
       "\n",
       "    .dataframe thead tr:last-of-type th {\n",
       "        text-align: right;\n",
       "    }\n",
       "</style>\n",
       "<table border=\"1\" class=\"dataframe\">\n",
       "  <thead>\n",
       "    <tr>\n",
       "      <th></th>\n",
       "      <th>count</th>\n",
       "      <th>sum</th>\n",
       "      <th>max</th>\n",
       "      <th>min</th>\n",
       "      <th>mean</th>\n",
       "      <th>median</th>\n",
       "    </tr>\n",
       "    <tr>\n",
       "      <th></th>\n",
       "      <th>all_sales</th>\n",
       "      <th>all_sales</th>\n",
       "      <th>all_sales</th>\n",
       "      <th>all_sales</th>\n",
       "      <th>all_sales</th>\n",
       "      <th>all_sales</th>\n",
       "    </tr>\n",
       "    <tr>\n",
       "      <th>genre</th>\n",
       "      <th></th>\n",
       "      <th></th>\n",
       "      <th></th>\n",
       "      <th></th>\n",
       "      <th></th>\n",
       "      <th></th>\n",
       "    </tr>\n",
       "  </thead>\n",
       "  <tbody>\n",
       "    <tr>\n",
       "      <th>Shooter</th>\n",
       "      <td>99</td>\n",
       "      <td>145.11</td>\n",
       "      <td>14.63</td>\n",
       "      <td>0.01</td>\n",
       "      <td>1.465758</td>\n",
       "      <td>0.550</td>\n",
       "    </tr>\n",
       "    <tr>\n",
       "      <th>Sports</th>\n",
       "      <td>104</td>\n",
       "      <td>77.96</td>\n",
       "      <td>8.58</td>\n",
       "      <td>0.01</td>\n",
       "      <td>0.749615</td>\n",
       "      <td>0.200</td>\n",
       "    </tr>\n",
       "    <tr>\n",
       "      <th>Platform</th>\n",
       "      <td>33</td>\n",
       "      <td>17.14</td>\n",
       "      <td>3.21</td>\n",
       "      <td>0.01</td>\n",
       "      <td>0.519394</td>\n",
       "      <td>0.150</td>\n",
       "    </tr>\n",
       "    <tr>\n",
       "      <th>Fighting</th>\n",
       "      <td>38</td>\n",
       "      <td>24.67</td>\n",
       "      <td>7.55</td>\n",
       "      <td>0.02</td>\n",
       "      <td>0.649211</td>\n",
       "      <td>0.125</td>\n",
       "    </tr>\n",
       "    <tr>\n",
       "      <th>Role-Playing</th>\n",
       "      <td>187</td>\n",
       "      <td>92.05</td>\n",
       "      <td>11.68</td>\n",
       "      <td>0.01</td>\n",
       "      <td>0.492246</td>\n",
       "      <td>0.110</td>\n",
       "    </tr>\n",
       "    <tr>\n",
       "      <th>Simulation</th>\n",
       "      <td>40</td>\n",
       "      <td>12.33</td>\n",
       "      <td>3.05</td>\n",
       "      <td>0.01</td>\n",
       "      <td>0.308250</td>\n",
       "      <td>0.100</td>\n",
       "    </tr>\n",
       "    <tr>\n",
       "      <th>Misc</th>\n",
       "      <td>89</td>\n",
       "      <td>26.43</td>\n",
       "      <td>4.32</td>\n",
       "      <td>0.01</td>\n",
       "      <td>0.296966</td>\n",
       "      <td>0.090</td>\n",
       "    </tr>\n",
       "    <tr>\n",
       "      <th>Racing</th>\n",
       "      <td>53</td>\n",
       "      <td>24.88</td>\n",
       "      <td>7.09</td>\n",
       "      <td>0.01</td>\n",
       "      <td>0.469434</td>\n",
       "      <td>0.090</td>\n",
       "    </tr>\n",
       "    <tr>\n",
       "      <th>Action</th>\n",
       "      <td>495</td>\n",
       "      <td>167.54</td>\n",
       "      <td>12.62</td>\n",
       "      <td>0.01</td>\n",
       "      <td>0.338465</td>\n",
       "      <td>0.080</td>\n",
       "    </tr>\n",
       "    <tr>\n",
       "      <th>Strategy</th>\n",
       "      <td>36</td>\n",
       "      <td>3.90</td>\n",
       "      <td>0.52</td>\n",
       "      <td>0.01</td>\n",
       "      <td>0.108333</td>\n",
       "      <td>0.055</td>\n",
       "    </tr>\n",
       "    <tr>\n",
       "      <th>Puzzle</th>\n",
       "      <td>13</td>\n",
       "      <td>2.17</td>\n",
       "      <td>1.19</td>\n",
       "      <td>0.01</td>\n",
       "      <td>0.166923</td>\n",
       "      <td>0.050</td>\n",
       "    </tr>\n",
       "    <tr>\n",
       "      <th>Adventure</th>\n",
       "      <td>148</td>\n",
       "      <td>13.44</td>\n",
       "      <td>1.66</td>\n",
       "      <td>0.01</td>\n",
       "      <td>0.090811</td>\n",
       "      <td>0.030</td>\n",
       "    </tr>\n",
       "  </tbody>\n",
       "</table>\n",
       "</div>"
      ],
      "text/plain": [
       "                 count       sum       max       min      mean    median\n",
       "             all_sales all_sales all_sales all_sales all_sales all_sales\n",
       "genre                                                                   \n",
       "Shooter             99    145.11     14.63      0.01  1.465758     0.550\n",
       "Sports             104     77.96      8.58      0.01  0.749615     0.200\n",
       "Platform            33     17.14      3.21      0.01  0.519394     0.150\n",
       "Fighting            38     24.67      7.55      0.02  0.649211     0.125\n",
       "Role-Playing       187     92.05     11.68      0.01  0.492246     0.110\n",
       "Simulation          40     12.33      3.05      0.01  0.308250     0.100\n",
       "Misc                89     26.43      4.32      0.01  0.296966     0.090\n",
       "Racing              53     24.88      7.09      0.01  0.469434     0.090\n",
       "Action             495    167.54     12.62      0.01  0.338465     0.080\n",
       "Strategy            36      3.90      0.52      0.01  0.108333     0.055\n",
       "Puzzle              13      2.17      1.19      0.01  0.166923     0.050\n",
       "Adventure          148     13.44      1.66      0.01  0.090811     0.030"
      ]
     },
     "execution_count": 56,
     "metadata": {},
     "output_type": "execute_result"
    }
   ],
   "source": [
    "(data_period\n",
    ".pivot_table(index='genre', values='all_sales', aggfunc=['count', 'sum', 'max', 'min', 'mean', 'median'])\n",
    ".sort_values(by=('median', 'all_sales'), ascending=False)\n",
    ")"
   ]
  },
  {
   "cell_type": "markdown",
   "metadata": {},
   "source": [
    "1. Shooter - самый прибыльный. Самая высокая медиана, среднее, максимальная продажа и 2 место по сумме продаж + конкуренция не самая высокая.\n",
    "2. Sports - вторая медиана и среднее в списке. Максимальная продажа и сумма продаж уже 4 в списке, опять же не самая высокая конкуренция.\n",
    "3. Platform, fighting - очень хорошие средние и медиана, но ближе к концу списка сумма продаж и максимальная продажа. Конкуренция одна из самых маленьких на рынке.\n",
    "4. Role-Playing - 3 место по прибыли и сумме продаж, но среднее и медиана ближе к середине, из-за высокой конкуренции. Одной из самых высоких на рынке.\n",
    "5. Action - в него много играют, болшая конкуренция, самая высокая суммарная прибыль, 2 место по максимальной продаже, но среднее и медиана очень маленькие.\n",
    "6. Simulation, misc, racing - что-то вроде середины. Есть относительно хорошие показатели."
   ]
  },
  {
   "cell_type": "markdown",
   "metadata": {},
   "source": [
    "### Вывод"
   ]
  },
  {
   "cell_type": "markdown",
   "metadata": {},
   "source": [
    "Средняя продолжительность жизни платформы - 11 лет.\n",
    "\n",
    "Список актуальных игровых платформ - PS4, PC, 3DS, XOne, WiiU, PSV. Характерно, что 4 из этих платформ это преемники более ранних версий, уже доживающих своё. На фоне денежной прибыли PSV, 3DS можно рассмотреть X360, PS3.\n",
    "\n",
    "Актуальный период был выбран - 3 года. Захватить современные тенденции и он органично получался от срока жизни приставок.\n",
    "\n",
    "Самые большие продажи можно ожидать на WiiU, почти столько же на XOne, PS4 так же можно отнести к ним в группу - у них примерно одинаковые медианы на уровне 125.тыс. Самая маленькая медиана продаж у PSV и граница коробки даже не дотягивает до медиан ведущих платформ. 3DS и PC - во второй группу, стоит ожидать от игр продаж меньше 250 тыс, против 500 тыс. в первой.\n",
    "\n",
    "Есть уникальные продажи на > 10 млн, и рекордные продажи на каждой платформе.\n",
    "\n",
    "Графики зависимостей между мнением пользователей, мнением критиков и продажами на PS4, показывают, что у плохих игр по мнению критиков, нет хороших продаж. По мнению пользователей у плохих и средних игр есть хорошие продажи, более того - самые высокие продажи находятся в диапозоне средних и даже ниже.\n",
    "\n",
    "Если смотреть на цифры - между мнением критиков и продажами, корреляция слабовыраженная. Между мнением пользователей и продажами зависимости нет.\n",
    "\n",
    "На графиках видна ещё пропасть - и пользователи, и критики доходят до оценки 9 и 90, и провал. У пользователей вообще сложно заслужить такую оценку и выше.\n",
    "\n",
    "Есть единичные уникумы, которые и хорошо продаются, и очень высокие мнения пользователей и критиков.\n",
    "\n",
    "В целом и отдельно по другим платформам картина похожа, с некоторыми своими особенностями у некоторых платформ. XOne прям очень похожа.\n",
    "\n",
    "По жанрам:\n",
    "\n",
    "1. Shooter - самый прибыльный. Самая высокая медиана, среднее, максимальная продажа и 2 место по сумме продаж + конкуренция не самая высокая.\n",
    "2. Sports - вторая медиана и среднее в списке. Максимальная продажа и сумма продаж уже 4 в списке, опять же не самая высокая конкуренция.\n",
    "3. Platform, fighting - очень хорошие средние и медиана, но ближе к концу списка сумма продаж и максимальная продажа. Конкуренция одна из самых маленьких на рынке.\n",
    "4. Role-Playing - 3 место по прибыли и сумме продаж, но среднее и медиана ближе к середине, из-за высокой конкуренции. Одной из самых высоких на рынке.\n",
    "5. Action - в него много играют, болшая конкуренция, самая высокая суммарная прибыль, 2 место по максимальной продаже, но среднее и медиана очень маленькие.\n",
    "6. Simulation, misc, racing - что-то вроде середины. Есть относительно хорошие показатели.\n"
   ]
  },
  {
   "cell_type": "markdown",
   "metadata": {},
   "source": [
    "## Портрет пользователя каждого региона"
   ]
  },
  {
   "cell_type": "code",
   "execution_count": 57,
   "metadata": {},
   "outputs": [
    {
     "data": {
      "text/plain": [
       "platform\n",
       "PS4     98.61\n",
       "XOne    81.27\n",
       "3DS     22.64\n",
       "WiiU    19.36\n",
       "PC       7.23\n",
       "Name: na_sales, dtype: float64"
      ]
     },
     "execution_count": 57,
     "metadata": {},
     "output_type": "execute_result"
    }
   ],
   "source": [
    "data_period.groupby('platform')['na_sales'].sum().sort_values(ascending=False).head(5)"
   ]
  },
  {
   "cell_type": "code",
   "execution_count": 58,
   "metadata": {},
   "outputs": [
    {
     "data": {
      "text/plain": [
       "platform\n",
       "PS4     130.04\n",
       "XOne     46.25\n",
       "PC       17.97\n",
       "3DS      16.12\n",
       "WiiU     13.15\n",
       "Name: eu_sales, dtype: float64"
      ]
     },
     "execution_count": 58,
     "metadata": {},
     "output_type": "execute_result"
    }
   ],
   "source": [
    "data_period.groupby('platform')['eu_sales'].sum().sort_values(ascending=False).head(5)"
   ]
  },
  {
   "cell_type": "code",
   "execution_count": 59,
   "metadata": {},
   "outputs": [
    {
     "data": {
      "text/plain": [
       "platform\n",
       "3DS     44.24\n",
       "PS4     15.02\n",
       "PSV     14.54\n",
       "WiiU     7.31\n",
       "XOne     0.32\n",
       "Name: jp_sales, dtype: float64"
      ]
     },
     "execution_count": 59,
     "metadata": {},
     "output_type": "execute_result"
    }
   ],
   "source": [
    "data_period.groupby('platform')['jp_sales'].sum().sort_values(ascending=False).head(5)"
   ]
  },
  {
   "cell_type": "markdown",
   "metadata": {},
   "source": [
    "В Северной Америке(СА) прибыль более равномерно распределена между лидерами, последним поколением консолей. В Европе перекос в сторону PS4 . Списки лидеров примерно одинаковы, но в Европе X360 уступиал место PC. В СА больше уважают приставки, ну что видно по распределнию почти равных продаж и отсутствию компьютера в лидерах. В Европе по какой-то причине предпочитают PS4 почти в 4 раза и больше всему остальному.\n",
    "\n",
    "Японские игроки стоят отдельно. Скромные продажи на фоне остального мира. Вообще нет X-приставок. Все PS есть активные. В лидерах есть приставки, которые не котируюся в СА и Европе. "
   ]
  },
  {
   "cell_type": "code",
   "execution_count": 60,
   "metadata": {},
   "outputs": [
    {
     "data": {
      "text/plain": [
       "genre\n",
       "Shooter         66.29\n",
       "Action          60.16\n",
       "Sports          31.96\n",
       "Role-Playing    29.74\n",
       "Fighting        11.23\n",
       "Name: na_sales, dtype: float64"
      ]
     },
     "execution_count": 60,
     "metadata": {},
     "output_type": "execute_result"
    }
   ],
   "source": [
    "data_period.groupby('genre')['na_sales'].sum().sort_values(ascending=False).head(5)"
   ]
  },
  {
   "cell_type": "code",
   "execution_count": 61,
   "metadata": {},
   "outputs": [
    {
     "data": {
      "text/plain": [
       "genre\n",
       "Action          63.49\n",
       "Shooter         56.23\n",
       "Sports          33.48\n",
       "Role-Playing    25.94\n",
       "Racing          12.92\n",
       "Name: eu_sales, dtype: float64"
      ]
     },
     "execution_count": 61,
     "metadata": {},
     "output_type": "execute_result"
    }
   ],
   "source": [
    "data_period.groupby('genre')['eu_sales'].sum().sort_values(ascending=False).head(5)"
   ]
  },
  {
   "cell_type": "code",
   "execution_count": 62,
   "metadata": {},
   "outputs": [
    {
     "data": {
      "text/plain": [
       "genre\n",
       "Role-Playing    28.70\n",
       "Action          24.71\n",
       "Misc             5.17\n",
       "Fighting         5.01\n",
       "Shooter          4.21\n",
       "Name: jp_sales, dtype: float64"
      ]
     },
     "execution_count": 62,
     "metadata": {},
     "output_type": "execute_result"
    }
   ],
   "source": [
    "data_period.groupby('genre')['jp_sales'].sum().sort_values(ascending=False).head(5)"
   ]
  },
  {
   "cell_type": "markdown",
   "metadata": {},
   "source": [
    "По жанрам игроки СА и Европы - очень сильно похожи. Прям практически идентичны даже по цифрам. За исключением, что на 5 месте в Европе гонки, в СА \"остальные\".\n",
    "\n",
    "Япония опять отдельно - Role-Playin и Action в лидерах так-же, только занимают 1 и 2 места, продажи опять скромные на фоне другого мира. Жанр Shooter лидер в остальных регионах практически не играется. По продажам можно сказать, что там ни во что больше не играют кроме ролевых и экшен. Между вторым и третьим - разница в пять раз."
   ]
  },
  {
   "cell_type": "code",
   "execution_count": 63,
   "metadata": {},
   "outputs": [
    {
     "data": {
      "text/plain": [
       "rating\n",
       "M       82.23\n",
       "E       37.65\n",
       "T       32.46\n",
       "E10+    23.53\n",
       "Name: na_sales, dtype: float64"
      ]
     },
     "execution_count": 63,
     "metadata": {},
     "output_type": "execute_result"
    }
   ],
   "source": [
    "data_period.groupby('rating')['na_sales'].sum().sort_values(ascending=False)"
   ]
  },
  {
   "cell_type": "code",
   "execution_count": 64,
   "metadata": {},
   "outputs": [
    {
     "data": {
      "text/plain": [
       "rating\n",
       "M       82.38\n",
       "E       45.90\n",
       "T       30.09\n",
       "E10+    17.89\n",
       "Name: eu_sales, dtype: float64"
      ]
     },
     "execution_count": 64,
     "metadata": {},
     "output_type": "execute_result"
    }
   ],
   "source": [
    "data_period.groupby('rating')['eu_sales'].sum().sort_values(ascending=False)"
   ]
  },
  {
   "cell_type": "code",
   "execution_count": 65,
   "metadata": {},
   "outputs": [
    {
     "data": {
      "text/plain": [
       "rating\n",
       "T       11.99\n",
       "E        8.29\n",
       "M        6.40\n",
       "E10+     4.32\n",
       "Name: jp_sales, dtype: float64"
      ]
     },
     "execution_count": 65,
     "metadata": {},
     "output_type": "execute_result"
    }
   ],
   "source": [
    "data_period.groupby('rating')['jp_sales'].sum().sort_values(ascending=False)"
   ]
  },
  {
   "cell_type": "markdown",
   "metadata": {},
   "source": [
    "Не увидел никакой зависимости. Может быть задание не понял. Не вижу никакой зависимости между рейтингом и продажами. Они даже в цифрах одинаковые по регионам. И Япония особняком , как понимаю T - подростки, они играют больше всех там, в отличие от 17+ в других регионах."
   ]
  },
  {
   "cell_type": "markdown",
   "metadata": {},
   "source": [
    "### Вывод "
   ]
  },
  {
   "cell_type": "markdown",
   "metadata": {},
   "source": [
    "В Северной Америке(СА) прибыль более равномерно распределена между лидерами, последним поколением консолей. В Европе перекос в сторону PS4 . Списки лидеров примерно одинаковы, но в Европе X360 уступиал место PC. В СА больше уважают приставки, ну что видно по распределнию почти равных продаж и отсутствию компьютера в лидерах. В Европе по какой-то причине предпочитают PS4 почти в 4 раза и больше всему остальному.\n",
    "\n",
    "Японские игроки стоят отдельно. Скромные продажи на фоне остального мира. Вообще нет X-приставок. Все PS есть активные. В лидерах есть приставки, которые не котируюся в СА и Европе. \n",
    "\n",
    "\n",
    "По жанрам игроки СА и Европы - очень сильно похожи. Прям практически идентичны даже по цифрам. За исключением, что на 5 месте в Европе гонки, в СА \"остальные\".\n",
    "\n",
    "Япония опять отдельно - Role-Playin и Action в лидерах так-же, только занимают 1 и 2 места, продажи опять скромные на фоне другого мира. Жанр Shooter лидер в остальных регионах практически не играется. По продажам можно сказать, что там ни во что больше не играют кроме ролевых и экшен. Между вторым и третьим - разница в пять раз.\n"
   ]
  },
  {
   "cell_type": "markdown",
   "metadata": {},
   "source": [
    "### Проверка гипотез "
   ]
  },
  {
   "cell_type": "markdown",
   "metadata": {},
   "source": [
    "Средние пользовательские рейтинги платформ Xbox One и PC одинаковые - H0\n",
    "Средние пользовательские рейтинги платформ Xbox One и PC разные - H1\n",
    "\n",
    "Будем использовать метод из тренажёров для сравнения двух не парных выборок. Дисперсию поставим разную, так как наврядли будет одинаковая - как понимаю из-за разного размера из-за пропуска.\n",
    "\n",
    "Нам не важно в какую сторону отклоняется значение, больше или меньше. Гипотеза двусторонняя. "
   ]
  },
  {
   "cell_type": "code",
   "execution_count": 66,
   "metadata": {},
   "outputs": [],
   "source": [
    "data_xbox = data_period.query('platform == \"XOne\"')\n",
    "data_pc = data_period.query('platform == \"PC\"')"
   ]
  },
  {
   "cell_type": "code",
   "execution_count": 67,
   "metadata": {
    "scrolled": true
   },
   "outputs": [
    {
     "name": "stdout",
     "output_type": "stream",
     "text": [
      "p-значение: 0.11601398086668832\n",
      "Не получилось отвергнуть нулевую гипотезу\n"
     ]
    }
   ],
   "source": [
    "results = st.ttest_ind(data_xbox['user_score'].dropna(), data_pc['user_score'].dropna(), equal_var=False)\n",
    "\n",
    "alpha = 0.05\n",
    "\n",
    "print('p-значение:', results.pvalue)\n",
    "\n",
    "if results.pvalue < alpha:\n",
    "    print('Отвергаем нулевую гипотезу')\n",
    "else:\n",
    "    print('Не получилось отвергнуть нулевую гипотезу') "
   ]
  },
  {
   "cell_type": "markdown",
   "metadata": {},
   "source": [
    "Будем также использовать метод из тренажёров , но немного другой:\n",
    "     Метод scipy.stats.ttest_1samp() возвращает два числа: статистику разности и уровень значимости для этой статистики — p-value\n",
    "     \n",
    "Меня интересует значение среднего, передаю его вторым аргументом, и если уж разное прям нужно, и правильно понимаю, пусть p-value будет минимальным.\n",
    "\n",
    "Средние пользовательские рейтинги жанров Action и Sports равны - H0\n",
    "\n",
    "Средние пользовательские рейтинги жанров Action и Sports разные - H1"
   ]
  },
  {
   "cell_type": "code",
   "execution_count": 68,
   "metadata": {},
   "outputs": [
    {
     "name": "stdout",
     "output_type": "stream",
     "text": [
      "p-значение: 1.3473891377643894e-09\n",
      "Отвергаем нулевую гипотезу\n"
     ]
    }
   ],
   "source": [
    "interested_value = data_period.query('genre == \"Action\"')['user_score'].dropna().mean()\n",
    "\n",
    "alpha = 0.05\n",
    "\n",
    "results_2 = st.ttest_1samp(data_period.query('genre == \"Sports\"')['user_score'].dropna(), interested_value)\n",
    "\n",
    "print('p-значение:', results_2.pvalue)\n",
    "\n",
    "if results_2.pvalue < alpha:\n",
    "    print(\"Отвергаем нулевую гипотезу\")\n",
    "else:\n",
    "    print(\"Не получилось отвергнуть нулевую гипотезу\") "
   ]
  },
  {
   "cell_type": "markdown",
   "metadata": {},
   "source": [
    "Получается, что средние пользовательские рейтинги жанров Action и Sports разные"
   ]
  },
  {
   "cell_type": "markdown",
   "metadata": {},
   "source": [
    "## Общий вывод"
   ]
  },
  {
   "cell_type": "markdown",
   "metadata": {},
   "source": [
    "### Предосмотр данных.\n",
    "\n",
    "Заглавные буквы в названии столбцов.\n",
    "\n",
    "8 из 11 столбцов значимого количества пропусков не имеют. В 3 последних пропуски есть и это до половины данных.\n",
    "\n",
    "У некоторых столбцов неправильные типы данных.\n",
    "\n",
    "Предварительно гистограммы показывают наличие выбросов и аномалий. Разнообразие в категориальных данных. Некоторые данные не отобразились или некорректно. Одна из причин это неправильные типы данных.\n",
    "\n",
    "Явных дубликатов нет.\n",
    "\n",
    "\n",
    "### Предобработка данных.\n",
    "\n",
    "Кроме 2 строк в с пропусками в названии и жанре - все остальные пропуски человеческий фактор, старые сведения, бд. Эти 2 пропуска - 50 на 50, возможно, технический фактор.\n",
    "\n",
    "Два столбца имели неправильный тип данных - один по техническим причинам, второй из-за наличия категориальной переменной, которая по прошествию времени смысла не имела и портила смысл количественной переменной.\n",
    "\n",
    "Были удалены пропуски в названиях и жанре - 2 шт. Остальные остались без изменений.\n",
    "\n",
    "Явных и неявных дубликатов нет.\n",
    "\n",
    "Был создан новый столбец со всеми продажами по данной игре.\n",
    "\n",
    "\n",
    "### Исследовательский анализ данных\n",
    "Средняя продолжительность жизни платформы - 11 лет.\n",
    "\n",
    "Список актуальных игровых платформ - PS4, PC, 3DS, XOne, WiiU, PSV. Характерно, что 4 из этих платформ это преемники более ранних версий, уже доживающих своё. На фоне денежной прибыли PSV, 3DS можно рассмотреть X360, PS3.\n",
    "\n",
    "Актуальный период был выбран - 3 года. Захватить современные тенденции и он органично получался от срока жизни приставок.\n",
    "\n",
    "Самые большие продажи можно ожидать на WiiU, почти столько же на XOne, PS4 так же можно отнести к ним в группу - у них примерно одинаковые медианы на уровне 125.тыс. Самая маленькая медиана продаж у PSV и граница коробки даже не дотягивает до медиан ведущих платформ. 3DS и PC - во второй группу, стоит ожидать от игр продаж меньше 250 тыс, против 500 тыс. в первой.\n",
    "\n",
    "Есть уникальные продажи на > 10 млн, и рекордные продажи на каждой платформе.\n",
    "\n",
    "Графики зависимостей между мнением пользователей, мнением критиков и продажами на PS4, показывают, что у плохих игр по мнению критиков, нет хороших продаж. По мнению пользователей у плохих и средних игр есть хорошие продажи, более того - самые высокие продажи находятся в диапозоне средних и даже ниже.\n",
    "\n",
    "Если смотреть на цифры - между мнением критиков и продажами, корреляция слабовыраженная. Между мнением пользователей и продажами зависимости нет.\n",
    "\n",
    "На графиках видна ещё пропасть - и пользователи, и критики доходят до оценки 9 и 90, и провал. У пользователей вообще сложно заслужить такую оценку и выше.\n",
    "\n",
    "Есть единичные уникумы, которые и хорошо продаются, и очень высокие мнения пользователей и критиков.\n",
    "\n",
    "В целом и отдельно по другим платформам картина похожа, с некоторыми своими особенностями у некоторых платформ. XOne прям очень похожа.\n",
    "\n",
    "По жанрам:\n",
    "\n",
    "1. Shooter - самый прибыльный. Самая высокая медиана, среднее, максимальная продажа и 2 место по сумме продаж + конкуренция не самая высокая.\n",
    "2. Sports - вторая медиана и среднее в списке. Максимальная продажа и сумма продаж уже 4 в списке, опять же не самая высокая конкуренция.\n",
    "3. Platform, fighting - очень хорошие средние и медиана, но ближе к концу списка сумма продаж и максимальная продажа. Конкуренция одна из самых маленьких на рынке.\n",
    "4. Role-Playing - 3 место по прибыли и сумме продаж, но среднее и медиана ближе к середине, из-за высокой конкуренции. Одной из самых высоких на рынке.\n",
    "5. Action - в него много играют, болшая конкуренция, самая высокая суммарная прибыль, 2 место по максимальной продаже, но среднее и медиана очень маленькие.\n",
    "6. Simulation, misc, racing - что-то вроде середины. Есть относительно хорошие показатели.\n",
    "\n",
    "\n",
    "\n",
    "### Портрет пользователя.\n",
    "\n",
    "В Северной Америке(СА) прибыль более равномерно распределена между лидерами, последним поколением консолей. В Европе перекос в сторону PS4 . Списки лидеров примерно одинаковы, но в Европе X360 уступиал место PC. В СА больше уважают приставки, ну что видно по распределнию почти равных продаж и отсутствию компьютера в лидерах. В Европе по какой-то причине предпочитают PS4 почти в 4 раза и больше всему остальному.\n",
    "\n",
    "Японские игроки стоят отдельно. Скромные продажи на фоне остального мира. Вообще нет X-приставок. Все PS есть активные. В лидерах есть приставки, которые не котируюся в СА и Европе.\n",
    "\n",
    "По жанрам игроки СА и Европы - очень сильно похожи. Прям практически идентичны даже по цифрам. За исключением, что на 5 месте в Европе гонки, в СА \"остальные\".\n",
    "\n",
    "Япония опять отдельно - Role-Playin и Action в лидерах так-же, только занимают 1 и 2 места, продажи опять скромные на фоне другого мира. Жанр Shooter лидер в остальных регионах практически не играется. По продажам можно сказать, что там ни во что больше не играют кроме ролевых и экшен. Между вторым и третьим - разница в пять раз.\n",
    "\n",
    "### Проверка гипотез\n",
    "\n",
    "Средние пользовательские рейтинги платформ Xbox One и PC одинаковые - нулевая\n",
    "\n",
    "Средние пользовательские рейтинги жанров Action и Sports разные - альтернативная"
   ]
  }
 ],
 "metadata": {
  "ExecuteTimeLog": [
   {
    "duration": 507,
    "start_time": "2023-03-18T10:55:47.967Z"
   },
   {
    "duration": 201,
    "start_time": "2023-03-18T10:56:11.476Z"
   },
   {
    "duration": 22,
    "start_time": "2023-03-18T10:56:24.732Z"
   },
   {
    "duration": 14,
    "start_time": "2023-03-18T10:56:35.522Z"
   },
   {
    "duration": 3,
    "start_time": "2023-03-18T11:05:04.266Z"
   },
   {
    "duration": 6,
    "start_time": "2023-03-18T14:36:49.533Z"
   },
   {
    "duration": 67,
    "start_time": "2023-03-18T14:36:56.577Z"
   },
   {
    "duration": 11,
    "start_time": "2023-03-18T14:37:23.378Z"
   },
   {
    "duration": 5,
    "start_time": "2023-03-18T14:37:27.736Z"
   },
   {
    "duration": 4,
    "start_time": "2023-03-18T14:37:37.051Z"
   },
   {
    "duration": 4,
    "start_time": "2023-03-18T14:37:39.521Z"
   },
   {
    "duration": 9,
    "start_time": "2023-03-18T14:37:51.636Z"
   },
   {
    "duration": 8,
    "start_time": "2023-03-18T14:37:59.745Z"
   },
   {
    "duration": 9,
    "start_time": "2023-03-18T14:38:01.857Z"
   },
   {
    "duration": 422,
    "start_time": "2023-03-18T14:38:15.120Z"
   },
   {
    "duration": 82,
    "start_time": "2023-03-18T14:38:15.614Z"
   },
   {
    "duration": 38,
    "start_time": "2023-03-18T14:38:16.056Z"
   },
   {
    "duration": 18,
    "start_time": "2023-03-18T14:38:17.018Z"
   },
   {
    "duration": 7,
    "start_time": "2023-03-18T14:38:17.862Z"
   },
   {
    "duration": 39,
    "start_time": "2023-03-18T14:38:19.331Z"
   },
   {
    "duration": 9,
    "start_time": "2023-03-18T14:40:25.617Z"
   },
   {
    "duration": 80,
    "start_time": "2023-03-18T14:41:09.111Z"
   },
   {
    "duration": 10,
    "start_time": "2023-03-18T14:41:25.114Z"
   },
   {
    "duration": 15,
    "start_time": "2023-03-18T14:41:34.950Z"
   },
   {
    "duration": 8,
    "start_time": "2023-03-18T14:42:20.922Z"
   },
   {
    "duration": 420,
    "start_time": "2023-03-18T14:42:28.902Z"
   },
   {
    "duration": 72,
    "start_time": "2023-03-18T14:42:29.364Z"
   },
   {
    "duration": 29,
    "start_time": "2023-03-18T14:42:29.867Z"
   },
   {
    "duration": 17,
    "start_time": "2023-03-18T14:42:30.625Z"
   },
   {
    "duration": 5,
    "start_time": "2023-03-18T14:42:31.310Z"
   },
   {
    "duration": 14,
    "start_time": "2023-03-18T14:44:20.612Z"
   },
   {
    "duration": 15,
    "start_time": "2023-03-18T14:44:27.206Z"
   },
   {
    "duration": 16,
    "start_time": "2023-03-18T14:44:45.542Z"
   },
   {
    "duration": 407,
    "start_time": "2023-03-18T14:44:55.112Z"
   },
   {
    "duration": 75,
    "start_time": "2023-03-18T14:44:55.544Z"
   },
   {
    "duration": 24,
    "start_time": "2023-03-18T14:44:56.009Z"
   },
   {
    "duration": 30,
    "start_time": "2023-03-18T14:44:56.659Z"
   },
   {
    "duration": 15,
    "start_time": "2023-03-18T14:44:57.408Z"
   },
   {
    "duration": 15,
    "start_time": "2023-03-18T14:45:01.404Z"
   },
   {
    "duration": 14,
    "start_time": "2023-03-18T14:45:02.337Z"
   },
   {
    "duration": 67,
    "start_time": "2023-03-18T14:47:09.589Z"
   },
   {
    "duration": 5,
    "start_time": "2023-03-18T14:47:49.307Z"
   },
   {
    "duration": 5,
    "start_time": "2023-03-18T14:47:55.530Z"
   },
   {
    "duration": 1052,
    "start_time": "2023-03-18T14:54:51.550Z"
   },
   {
    "duration": 650,
    "start_time": "2023-03-18T14:54:55.335Z"
   },
   {
    "duration": 165,
    "start_time": "2023-03-18T14:55:51.337Z"
   },
   {
    "duration": 534,
    "start_time": "2023-03-18T14:56:00.118Z"
   },
   {
    "duration": 433,
    "start_time": "2023-03-18T14:56:19.345Z"
   },
   {
    "duration": 57,
    "start_time": "2023-03-18T14:56:19.896Z"
   },
   {
    "duration": 27,
    "start_time": "2023-03-18T14:56:20.897Z"
   },
   {
    "duration": 16,
    "start_time": "2023-03-18T14:56:22.136Z"
   },
   {
    "duration": 778,
    "start_time": "2023-03-18T14:56:22.995Z"
   },
   {
    "duration": 96,
    "start_time": "2023-03-18T15:38:22.959Z"
   },
   {
    "duration": 245,
    "start_time": "2023-03-18T15:38:59.709Z"
   },
   {
    "duration": 240,
    "start_time": "2023-03-18T15:39:03.117Z"
   },
   {
    "duration": 1078,
    "start_time": "2023-03-18T15:39:15.716Z"
   },
   {
    "duration": 304,
    "start_time": "2023-03-18T15:39:27.026Z"
   },
   {
    "duration": 398,
    "start_time": "2023-03-18T15:39:51.703Z"
   },
   {
    "duration": 362,
    "start_time": "2023-03-18T15:40:06.625Z"
   },
   {
    "duration": 292,
    "start_time": "2023-03-18T15:40:13.641Z"
   },
   {
    "duration": 387,
    "start_time": "2023-03-18T15:40:38.820Z"
   },
   {
    "duration": 389,
    "start_time": "2023-03-18T15:40:47.871Z"
   },
   {
    "duration": 267,
    "start_time": "2023-03-18T15:40:51.630Z"
   },
   {
    "duration": 241,
    "start_time": "2023-03-18T15:41:03.932Z"
   },
   {
    "duration": 1397,
    "start_time": "2023-03-18T15:41:33.203Z"
   },
   {
    "duration": 166,
    "start_time": "2023-03-18T15:41:47.293Z"
   },
   {
    "duration": 239,
    "start_time": "2023-03-18T15:42:27.005Z"
   },
   {
    "duration": 21,
    "start_time": "2023-03-18T15:54:43.116Z"
   },
   {
    "duration": 71,
    "start_time": "2023-03-18T16:07:51.510Z"
   },
   {
    "duration": 403,
    "start_time": "2023-03-18T16:08:02.911Z"
   },
   {
    "duration": 65,
    "start_time": "2023-03-18T16:08:03.317Z"
   },
   {
    "duration": 26,
    "start_time": "2023-03-18T16:08:03.391Z"
   },
   {
    "duration": 16,
    "start_time": "2023-03-18T16:08:03.418Z"
   },
   {
    "duration": 995,
    "start_time": "2023-03-18T16:08:03.436Z"
   },
   {
    "duration": 321,
    "start_time": "2023-03-18T16:08:04.433Z"
   },
   {
    "duration": 208,
    "start_time": "2023-03-18T16:08:04.761Z"
   },
   {
    "duration": 1513,
    "start_time": "2023-03-18T16:08:04.972Z"
   },
   {
    "duration": 201,
    "start_time": "2023-03-18T16:08:06.491Z"
   },
   {
    "duration": 23,
    "start_time": "2023-03-18T16:08:06.696Z"
   },
   {
    "duration": 16,
    "start_time": "2023-03-18T16:08:06.720Z"
   },
   {
    "duration": 26,
    "start_time": "2023-03-18T16:08:06.738Z"
   },
   {
    "duration": 14,
    "start_time": "2023-03-18T16:13:40.400Z"
   },
   {
    "duration": 24,
    "start_time": "2023-03-18T16:14:15.960Z"
   },
   {
    "duration": 105,
    "start_time": "2023-03-18T16:14:34.300Z"
   },
   {
    "duration": 10,
    "start_time": "2023-03-18T16:16:18.644Z"
   },
   {
    "duration": 7,
    "start_time": "2023-03-18T16:17:34.321Z"
   },
   {
    "duration": 6,
    "start_time": "2023-03-18T16:17:42.909Z"
   },
   {
    "duration": 8,
    "start_time": "2023-03-18T16:18:10.601Z"
   },
   {
    "duration": 405,
    "start_time": "2023-03-18T16:18:19.409Z"
   },
   {
    "duration": 58,
    "start_time": "2023-03-18T16:18:19.816Z"
   },
   {
    "duration": 25,
    "start_time": "2023-03-18T16:18:19.877Z"
   },
   {
    "duration": 15,
    "start_time": "2023-03-18T16:18:19.906Z"
   },
   {
    "duration": 863,
    "start_time": "2023-03-18T16:18:19.923Z"
   },
   {
    "duration": 234,
    "start_time": "2023-03-18T16:18:20.798Z"
   },
   {
    "duration": 216,
    "start_time": "2023-03-18T16:18:21.033Z"
   },
   {
    "duration": 1349,
    "start_time": "2023-03-18T16:18:21.250Z"
   },
   {
    "duration": 180,
    "start_time": "2023-03-18T16:18:22.609Z"
   },
   {
    "duration": 28,
    "start_time": "2023-03-18T16:18:22.791Z"
   },
   {
    "duration": 15,
    "start_time": "2023-03-18T16:18:22.820Z"
   },
   {
    "duration": 15,
    "start_time": "2023-03-18T16:18:22.836Z"
   },
   {
    "duration": 24,
    "start_time": "2023-03-18T16:18:22.852Z"
   },
   {
    "duration": 7,
    "start_time": "2023-03-18T16:18:22.879Z"
   },
   {
    "duration": 9,
    "start_time": "2023-03-18T16:18:22.888Z"
   },
   {
    "duration": 24,
    "start_time": "2023-03-18T16:18:22.898Z"
   },
   {
    "duration": 13,
    "start_time": "2023-03-18T16:18:53.137Z"
   },
   {
    "duration": 7,
    "start_time": "2023-03-18T16:18:53.720Z"
   },
   {
    "duration": 53,
    "start_time": "2023-03-18T17:11:46.446Z"
   },
   {
    "duration": 363,
    "start_time": "2023-03-18T17:11:50.718Z"
   },
   {
    "duration": 56,
    "start_time": "2023-03-18T17:11:51.083Z"
   },
   {
    "duration": 25,
    "start_time": "2023-03-18T17:11:51.141Z"
   },
   {
    "duration": 14,
    "start_time": "2023-03-18T17:11:51.168Z"
   },
   {
    "duration": 733,
    "start_time": "2023-03-18T17:11:51.184Z"
   },
   {
    "duration": 233,
    "start_time": "2023-03-18T17:11:51.919Z"
   },
   {
    "duration": 171,
    "start_time": "2023-03-18T17:11:52.153Z"
   },
   {
    "duration": 1150,
    "start_time": "2023-03-18T17:11:52.326Z"
   },
   {
    "duration": 151,
    "start_time": "2023-03-18T17:11:53.478Z"
   },
   {
    "duration": 17,
    "start_time": "2023-03-18T17:11:53.631Z"
   },
   {
    "duration": 14,
    "start_time": "2023-03-18T17:11:53.661Z"
   },
   {
    "duration": 14,
    "start_time": "2023-03-18T17:11:53.676Z"
   },
   {
    "duration": 19,
    "start_time": "2023-03-18T17:11:53.692Z"
   },
   {
    "duration": 4,
    "start_time": "2023-03-18T17:11:53.713Z"
   },
   {
    "duration": 15,
    "start_time": "2023-03-18T17:11:59.518Z"
   },
   {
    "duration": 3,
    "start_time": "2023-03-18T17:12:26.887Z"
   },
   {
    "duration": 6,
    "start_time": "2023-03-18T17:12:32.862Z"
   },
   {
    "duration": 44,
    "start_time": "2023-03-18T17:12:41.056Z"
   },
   {
    "duration": 6,
    "start_time": "2023-03-18T17:12:48.356Z"
   },
   {
    "duration": 150,
    "start_time": "2023-03-18T17:12:59.135Z"
   },
   {
    "duration": 150,
    "start_time": "2023-03-18T17:13:01.484Z"
   },
   {
    "duration": 141,
    "start_time": "2023-03-18T17:13:31.432Z"
   },
   {
    "duration": 8,
    "start_time": "2023-03-18T17:13:50.420Z"
   },
   {
    "duration": 9,
    "start_time": "2023-03-18T17:13:57.865Z"
   },
   {
    "duration": 9,
    "start_time": "2023-03-18T17:14:02.842Z"
   },
   {
    "duration": 4,
    "start_time": "2023-03-18T17:14:12.335Z"
   },
   {
    "duration": 4,
    "start_time": "2023-03-18T17:14:14.548Z"
   },
   {
    "duration": 4,
    "start_time": "2023-03-18T17:14:22.376Z"
   },
   {
    "duration": 46,
    "start_time": "2023-03-18T17:15:38.027Z"
   },
   {
    "duration": 19,
    "start_time": "2023-03-18T17:15:45.560Z"
   },
   {
    "duration": 17,
    "start_time": "2023-03-18T17:36:31.245Z"
   },
   {
    "duration": 17,
    "start_time": "2023-03-18T17:36:58.700Z"
   },
   {
    "duration": 371,
    "start_time": "2023-03-18T17:37:16.900Z"
   },
   {
    "duration": 53,
    "start_time": "2023-03-18T17:37:17.272Z"
   },
   {
    "duration": 22,
    "start_time": "2023-03-18T17:37:17.327Z"
   },
   {
    "duration": 14,
    "start_time": "2023-03-18T17:37:17.351Z"
   },
   {
    "duration": 709,
    "start_time": "2023-03-18T17:37:17.367Z"
   },
   {
    "duration": 263,
    "start_time": "2023-03-18T17:37:18.078Z"
   },
   {
    "duration": 173,
    "start_time": "2023-03-18T17:37:18.343Z"
   },
   {
    "duration": 1226,
    "start_time": "2023-03-18T17:37:18.518Z"
   },
   {
    "duration": 147,
    "start_time": "2023-03-18T17:37:19.746Z"
   },
   {
    "duration": 16,
    "start_time": "2023-03-18T17:37:19.896Z"
   },
   {
    "duration": 14,
    "start_time": "2023-03-18T17:37:19.913Z"
   },
   {
    "duration": 34,
    "start_time": "2023-03-18T17:37:19.929Z"
   },
   {
    "duration": 14,
    "start_time": "2023-03-18T17:37:19.965Z"
   },
   {
    "duration": 3,
    "start_time": "2023-03-18T17:37:19.981Z"
   },
   {
    "duration": 4,
    "start_time": "2023-03-18T17:37:19.986Z"
   },
   {
    "duration": 105,
    "start_time": "2023-03-18T17:37:19.992Z"
   },
   {
    "duration": 4,
    "start_time": "2023-03-18T17:37:26.612Z"
   },
   {
    "duration": 3,
    "start_time": "2023-03-18T17:37:32.796Z"
   },
   {
    "duration": 7,
    "start_time": "2023-03-18T17:37:52.831Z"
   },
   {
    "duration": 744,
    "start_time": "2023-03-18T17:37:59.810Z"
   },
   {
    "duration": 415,
    "start_time": "2023-03-18T17:38:11.167Z"
   },
   {
    "duration": 53,
    "start_time": "2023-03-18T17:38:11.584Z"
   },
   {
    "duration": 25,
    "start_time": "2023-03-18T17:38:11.639Z"
   },
   {
    "duration": 15,
    "start_time": "2023-03-18T17:38:11.666Z"
   },
   {
    "duration": 765,
    "start_time": "2023-03-18T17:38:11.683Z"
   },
   {
    "duration": 228,
    "start_time": "2023-03-18T17:38:12.450Z"
   },
   {
    "duration": 175,
    "start_time": "2023-03-18T17:38:12.680Z"
   },
   {
    "duration": 1165,
    "start_time": "2023-03-18T17:38:12.856Z"
   },
   {
    "duration": 185,
    "start_time": "2023-03-18T17:38:14.022Z"
   },
   {
    "duration": 17,
    "start_time": "2023-03-18T17:38:14.208Z"
   },
   {
    "duration": 14,
    "start_time": "2023-03-18T17:38:14.226Z"
   },
   {
    "duration": 30,
    "start_time": "2023-03-18T17:38:14.241Z"
   },
   {
    "duration": 14,
    "start_time": "2023-03-18T17:38:14.272Z"
   },
   {
    "duration": 3,
    "start_time": "2023-03-18T17:38:14.289Z"
   },
   {
    "duration": 5,
    "start_time": "2023-03-18T17:38:14.293Z"
   },
   {
    "duration": 100,
    "start_time": "2023-03-18T17:38:14.299Z"
   },
   {
    "duration": 0,
    "start_time": "2023-03-18T17:38:14.401Z"
   },
   {
    "duration": 72,
    "start_time": "2023-03-18T17:40:44.599Z"
   },
   {
    "duration": 7,
    "start_time": "2023-03-18T17:40:54.661Z"
   },
   {
    "duration": 453,
    "start_time": "2023-03-18T17:41:04.143Z"
   },
   {
    "duration": 52,
    "start_time": "2023-03-18T17:41:04.598Z"
   },
   {
    "duration": 26,
    "start_time": "2023-03-18T17:41:04.652Z"
   },
   {
    "duration": 22,
    "start_time": "2023-03-18T17:41:04.681Z"
   },
   {
    "duration": 854,
    "start_time": "2023-03-18T17:41:04.707Z"
   },
   {
    "duration": 249,
    "start_time": "2023-03-18T17:41:05.563Z"
   },
   {
    "duration": 198,
    "start_time": "2023-03-18T17:41:05.814Z"
   },
   {
    "duration": 1222,
    "start_time": "2023-03-18T17:41:06.014Z"
   },
   {
    "duration": 142,
    "start_time": "2023-03-18T17:41:07.237Z"
   },
   {
    "duration": 15,
    "start_time": "2023-03-18T17:41:07.381Z"
   },
   {
    "duration": 13,
    "start_time": "2023-03-18T17:41:07.397Z"
   },
   {
    "duration": 14,
    "start_time": "2023-03-18T17:41:07.412Z"
   },
   {
    "duration": 42,
    "start_time": "2023-03-18T17:41:07.427Z"
   },
   {
    "duration": 3,
    "start_time": "2023-03-18T17:41:07.472Z"
   },
   {
    "duration": 18,
    "start_time": "2023-03-18T17:41:07.476Z"
   },
   {
    "duration": 16,
    "start_time": "2023-03-18T17:41:07.496Z"
   },
   {
    "duration": 18,
    "start_time": "2023-03-18T17:41:07.514Z"
   },
   {
    "duration": 78,
    "start_time": "2023-03-18T17:47:17.120Z"
   },
   {
    "duration": 26,
    "start_time": "2023-03-18T17:47:21.796Z"
   },
   {
    "duration": 36,
    "start_time": "2023-03-18T17:47:43.151Z"
   },
   {
    "duration": 8,
    "start_time": "2023-03-18T17:47:58.028Z"
   },
   {
    "duration": 26,
    "start_time": "2023-03-18T17:48:01.664Z"
   },
   {
    "duration": 23,
    "start_time": "2023-03-18T17:48:18.221Z"
   },
   {
    "duration": 25,
    "start_time": "2023-03-18T17:48:35.614Z"
   },
   {
    "duration": 24,
    "start_time": "2023-03-18T17:48:55.752Z"
   },
   {
    "duration": 9,
    "start_time": "2023-03-18T17:49:02.672Z"
   },
   {
    "duration": 401,
    "start_time": "2023-03-18T17:49:12.905Z"
   },
   {
    "duration": 58,
    "start_time": "2023-03-18T17:49:13.308Z"
   },
   {
    "duration": 22,
    "start_time": "2023-03-18T17:49:13.373Z"
   },
   {
    "duration": 13,
    "start_time": "2023-03-18T17:49:13.397Z"
   },
   {
    "duration": 847,
    "start_time": "2023-03-18T17:49:13.412Z"
   },
   {
    "duration": 253,
    "start_time": "2023-03-18T17:49:14.266Z"
   },
   {
    "duration": 180,
    "start_time": "2023-03-18T17:49:14.520Z"
   },
   {
    "duration": 1269,
    "start_time": "2023-03-18T17:49:14.701Z"
   },
   {
    "duration": 149,
    "start_time": "2023-03-18T17:49:15.971Z"
   },
   {
    "duration": 17,
    "start_time": "2023-03-18T17:49:16.122Z"
   },
   {
    "duration": 38,
    "start_time": "2023-03-18T17:49:16.141Z"
   },
   {
    "duration": 15,
    "start_time": "2023-03-18T17:49:16.182Z"
   },
   {
    "duration": 15,
    "start_time": "2023-03-18T17:49:16.198Z"
   },
   {
    "duration": 4,
    "start_time": "2023-03-18T17:49:16.215Z"
   },
   {
    "duration": 10,
    "start_time": "2023-03-18T17:49:16.220Z"
   },
   {
    "duration": 38,
    "start_time": "2023-03-18T17:49:16.232Z"
   },
   {
    "duration": 19,
    "start_time": "2023-03-18T17:49:31.206Z"
   },
   {
    "duration": 14,
    "start_time": "2023-03-18T17:49:43.295Z"
   },
   {
    "duration": 27,
    "start_time": "2023-03-18T17:49:46.904Z"
   },
   {
    "duration": 27,
    "start_time": "2023-03-18T17:49:53.829Z"
   },
   {
    "duration": 23,
    "start_time": "2023-03-18T17:50:02.022Z"
   },
   {
    "duration": 23,
    "start_time": "2023-03-18T17:50:08.497Z"
   },
   {
    "duration": 10,
    "start_time": "2023-03-18T17:50:26.532Z"
   },
   {
    "duration": 62,
    "start_time": "2023-03-18T17:52:44.195Z"
   },
   {
    "duration": 384,
    "start_time": "2023-03-18T17:52:49.603Z"
   },
   {
    "duration": 53,
    "start_time": "2023-03-18T17:52:49.989Z"
   },
   {
    "duration": 25,
    "start_time": "2023-03-18T17:52:50.044Z"
   },
   {
    "duration": 21,
    "start_time": "2023-03-18T17:52:50.071Z"
   },
   {
    "duration": 819,
    "start_time": "2023-03-18T17:52:50.094Z"
   },
   {
    "duration": 264,
    "start_time": "2023-03-18T17:52:50.915Z"
   },
   {
    "duration": 165,
    "start_time": "2023-03-18T17:52:51.180Z"
   },
   {
    "duration": 1163,
    "start_time": "2023-03-18T17:52:51.347Z"
   },
   {
    "duration": 146,
    "start_time": "2023-03-18T17:52:52.511Z"
   },
   {
    "duration": 25,
    "start_time": "2023-03-18T17:52:52.659Z"
   },
   {
    "duration": 14,
    "start_time": "2023-03-18T17:52:52.685Z"
   },
   {
    "duration": 14,
    "start_time": "2023-03-18T17:52:52.701Z"
   },
   {
    "duration": 20,
    "start_time": "2023-03-18T17:52:52.716Z"
   },
   {
    "duration": 8,
    "start_time": "2023-03-18T17:52:52.763Z"
   },
   {
    "duration": 9,
    "start_time": "2023-03-18T17:52:52.776Z"
   },
   {
    "duration": 15,
    "start_time": "2023-03-18T17:52:52.787Z"
   },
   {
    "duration": 26,
    "start_time": "2023-03-18T17:53:05.762Z"
   },
   {
    "duration": 27,
    "start_time": "2023-03-18T17:53:16.599Z"
   },
   {
    "duration": 25,
    "start_time": "2023-03-18T17:53:28.418Z"
   },
   {
    "duration": 8,
    "start_time": "2023-03-18T17:55:17.895Z"
   },
   {
    "duration": 433,
    "start_time": "2023-03-18T17:57:21.548Z"
   },
   {
    "duration": 55,
    "start_time": "2023-03-18T17:57:21.982Z"
   },
   {
    "duration": 34,
    "start_time": "2023-03-18T17:57:22.039Z"
   },
   {
    "duration": 15,
    "start_time": "2023-03-18T17:57:22.075Z"
   },
   {
    "duration": 790,
    "start_time": "2023-03-18T17:57:22.091Z"
   },
   {
    "duration": 246,
    "start_time": "2023-03-18T17:57:22.882Z"
   },
   {
    "duration": 190,
    "start_time": "2023-03-18T17:57:23.130Z"
   },
   {
    "duration": 1304,
    "start_time": "2023-03-18T17:57:23.322Z"
   },
   {
    "duration": 169,
    "start_time": "2023-03-18T17:57:24.627Z"
   },
   {
    "duration": 18,
    "start_time": "2023-03-18T17:57:24.798Z"
   },
   {
    "duration": 15,
    "start_time": "2023-03-18T17:57:24.818Z"
   },
   {
    "duration": 43,
    "start_time": "2023-03-18T17:57:24.835Z"
   },
   {
    "duration": 15,
    "start_time": "2023-03-18T17:57:24.880Z"
   },
   {
    "duration": 6,
    "start_time": "2023-03-18T17:57:24.897Z"
   },
   {
    "duration": 21,
    "start_time": "2023-03-18T17:57:24.905Z"
   },
   {
    "duration": 16,
    "start_time": "2023-03-18T17:57:24.928Z"
   },
   {
    "duration": 33,
    "start_time": "2023-03-18T17:57:24.946Z"
   },
   {
    "duration": 14,
    "start_time": "2023-03-18T17:57:59.234Z"
   },
   {
    "duration": 5,
    "start_time": "2023-03-18T17:59:28.503Z"
   },
   {
    "duration": 25,
    "start_time": "2023-03-18T18:00:38.306Z"
   },
   {
    "duration": 102,
    "start_time": "2023-03-18T18:01:33.896Z"
   },
   {
    "duration": 7,
    "start_time": "2023-03-18T18:01:51.313Z"
   },
   {
    "duration": 7,
    "start_time": "2023-03-18T18:02:02.336Z"
   },
   {
    "duration": 6,
    "start_time": "2023-03-18T18:02:10.705Z"
   },
   {
    "duration": 5,
    "start_time": "2023-03-18T18:02:32.905Z"
   },
   {
    "duration": 9,
    "start_time": "2023-03-18T18:02:40.155Z"
   },
   {
    "duration": 6,
    "start_time": "2023-03-18T18:02:52.591Z"
   },
   {
    "duration": 14,
    "start_time": "2023-03-18T18:03:26.960Z"
   },
   {
    "duration": 5,
    "start_time": "2023-03-18T18:03:37.846Z"
   },
   {
    "duration": 13,
    "start_time": "2023-03-18T18:03:58.376Z"
   },
   {
    "duration": 51,
    "start_time": "2023-03-18T18:41:10.649Z"
   },
   {
    "duration": 422,
    "start_time": "2023-03-18T18:41:21.830Z"
   },
   {
    "duration": 66,
    "start_time": "2023-03-18T18:41:22.254Z"
   },
   {
    "duration": 29,
    "start_time": "2023-03-18T18:41:22.322Z"
   },
   {
    "duration": 16,
    "start_time": "2023-03-18T18:41:22.353Z"
   },
   {
    "duration": 730,
    "start_time": "2023-03-18T18:41:22.371Z"
   },
   {
    "duration": 238,
    "start_time": "2023-03-18T18:41:23.103Z"
   },
   {
    "duration": 167,
    "start_time": "2023-03-18T18:41:23.342Z"
   },
   {
    "duration": 1224,
    "start_time": "2023-03-18T18:41:23.510Z"
   },
   {
    "duration": 162,
    "start_time": "2023-03-18T18:41:24.736Z"
   },
   {
    "duration": 18,
    "start_time": "2023-03-18T18:41:24.899Z"
   },
   {
    "duration": 16,
    "start_time": "2023-03-18T18:41:24.919Z"
   },
   {
    "duration": 16,
    "start_time": "2023-03-18T18:41:24.961Z"
   },
   {
    "duration": 15,
    "start_time": "2023-03-18T18:41:24.978Z"
   },
   {
    "duration": 4,
    "start_time": "2023-03-18T18:41:24.995Z"
   },
   {
    "duration": 7,
    "start_time": "2023-03-18T18:41:25.001Z"
   },
   {
    "duration": 12,
    "start_time": "2023-03-18T18:41:25.010Z"
   },
   {
    "duration": 42,
    "start_time": "2023-03-18T18:41:25.024Z"
   },
   {
    "duration": 18,
    "start_time": "2023-03-18T18:41:25.068Z"
   },
   {
    "duration": 7,
    "start_time": "2023-03-18T18:41:25.088Z"
   },
   {
    "duration": 18,
    "start_time": "2023-03-18T18:41:25.097Z"
   },
   {
    "duration": 6,
    "start_time": "2023-03-18T18:44:58.257Z"
   },
   {
    "duration": 82,
    "start_time": "2023-03-18T18:45:10.308Z"
   },
   {
    "duration": 9,
    "start_time": "2023-03-18T18:45:17.354Z"
   },
   {
    "duration": 6,
    "start_time": "2023-03-18T18:45:26.805Z"
   },
   {
    "duration": 6,
    "start_time": "2023-03-18T18:45:53.573Z"
   },
   {
    "duration": 28,
    "start_time": "2023-03-18T18:46:05.635Z"
   },
   {
    "duration": 5,
    "start_time": "2023-03-18T18:47:37.451Z"
   },
   {
    "duration": 5,
    "start_time": "2023-03-18T18:47:44.378Z"
   },
   {
    "duration": 5,
    "start_time": "2023-03-18T18:48:05.843Z"
   },
   {
    "duration": 6,
    "start_time": "2023-03-18T19:31:00.237Z"
   },
   {
    "duration": 6,
    "start_time": "2023-03-18T19:31:04.760Z"
   },
   {
    "duration": 10,
    "start_time": "2023-03-18T19:34:43.138Z"
   },
   {
    "duration": 7,
    "start_time": "2023-03-18T19:34:46.098Z"
   },
   {
    "duration": 6,
    "start_time": "2023-03-18T19:36:50.303Z"
   },
   {
    "duration": 10,
    "start_time": "2023-03-18T19:37:42.305Z"
   },
   {
    "duration": 14,
    "start_time": "2023-03-18T19:48:17.650Z"
   },
   {
    "duration": 6,
    "start_time": "2023-03-18T19:48:44.538Z"
   },
   {
    "duration": 13,
    "start_time": "2023-03-18T19:50:24.677Z"
   },
   {
    "duration": 11,
    "start_time": "2023-03-18T19:50:29.313Z"
   },
   {
    "duration": 24,
    "start_time": "2023-03-18T19:50:47.848Z"
   },
   {
    "duration": 379,
    "start_time": "2023-03-18T19:51:50.213Z"
   },
   {
    "duration": 53,
    "start_time": "2023-03-18T19:51:50.594Z"
   },
   {
    "duration": 24,
    "start_time": "2023-03-18T19:51:50.649Z"
   },
   {
    "duration": 14,
    "start_time": "2023-03-18T19:51:50.676Z"
   },
   {
    "duration": 854,
    "start_time": "2023-03-18T19:51:50.692Z"
   },
   {
    "duration": 253,
    "start_time": "2023-03-18T19:51:51.548Z"
   },
   {
    "duration": 194,
    "start_time": "2023-03-18T19:51:51.805Z"
   },
   {
    "duration": 1216,
    "start_time": "2023-03-18T19:51:52.001Z"
   },
   {
    "duration": 160,
    "start_time": "2023-03-18T19:51:53.219Z"
   },
   {
    "duration": 17,
    "start_time": "2023-03-18T19:51:53.382Z"
   },
   {
    "duration": 14,
    "start_time": "2023-03-18T19:51:53.401Z"
   },
   {
    "duration": 49,
    "start_time": "2023-03-18T19:51:53.417Z"
   },
   {
    "duration": 32,
    "start_time": "2023-03-18T19:51:53.468Z"
   },
   {
    "duration": 6,
    "start_time": "2023-03-18T19:51:53.502Z"
   },
   {
    "duration": 17,
    "start_time": "2023-03-18T19:51:53.511Z"
   },
   {
    "duration": 13,
    "start_time": "2023-03-18T19:51:53.530Z"
   },
   {
    "duration": 7,
    "start_time": "2023-03-18T19:51:53.547Z"
   },
   {
    "duration": 14,
    "start_time": "2023-03-18T19:51:53.561Z"
   },
   {
    "duration": 29,
    "start_time": "2023-03-18T19:51:53.577Z"
   },
   {
    "duration": 25,
    "start_time": "2023-03-18T19:51:53.608Z"
   },
   {
    "duration": 28,
    "start_time": "2023-03-18T19:52:12.339Z"
   },
   {
    "duration": 3,
    "start_time": "2023-03-18T19:56:08.283Z"
   },
   {
    "duration": 18,
    "start_time": "2023-03-18T19:56:15.543Z"
   },
   {
    "duration": 87,
    "start_time": "2023-03-18T19:56:47.870Z"
   },
   {
    "duration": 12,
    "start_time": "2023-03-18T19:56:54.591Z"
   },
   {
    "duration": 26,
    "start_time": "2023-03-18T19:57:04.193Z"
   },
   {
    "duration": 3,
    "start_time": "2023-03-18T19:58:07.824Z"
   },
   {
    "duration": 33,
    "start_time": "2023-03-18T19:58:10.345Z"
   },
   {
    "duration": 21,
    "start_time": "2023-03-18T19:59:19.753Z"
   },
   {
    "duration": 732,
    "start_time": "2023-03-18T19:59:53.899Z"
   },
   {
    "duration": 826,
    "start_time": "2023-03-18T20:00:05.500Z"
   },
   {
    "duration": 18,
    "start_time": "2023-03-18T20:00:14.871Z"
   },
   {
    "duration": 725,
    "start_time": "2023-03-18T20:00:26.165Z"
   },
   {
    "duration": 792,
    "start_time": "2023-03-18T20:00:31.857Z"
   },
   {
    "duration": 23,
    "start_time": "2023-03-18T20:00:42.963Z"
   },
   {
    "duration": 15,
    "start_time": "2023-03-18T20:01:26.977Z"
   },
   {
    "duration": 15,
    "start_time": "2023-03-18T20:01:40.173Z"
   },
   {
    "duration": 9,
    "start_time": "2023-03-18T20:02:01.069Z"
   },
   {
    "duration": 6,
    "start_time": "2023-03-18T20:02:07.530Z"
   },
   {
    "duration": 15,
    "start_time": "2023-03-18T20:02:14.788Z"
   },
   {
    "duration": 17,
    "start_time": "2023-03-18T20:02:54.153Z"
   },
   {
    "duration": 50,
    "start_time": "2023-03-18T20:03:02.036Z"
   },
   {
    "duration": 383,
    "start_time": "2023-03-18T20:03:05.622Z"
   },
   {
    "duration": 55,
    "start_time": "2023-03-18T20:03:06.007Z"
   },
   {
    "duration": 24,
    "start_time": "2023-03-18T20:03:06.065Z"
   },
   {
    "duration": 17,
    "start_time": "2023-03-18T20:03:06.091Z"
   },
   {
    "duration": 871,
    "start_time": "2023-03-18T20:03:06.110Z"
   },
   {
    "duration": 284,
    "start_time": "2023-03-18T20:03:06.983Z"
   },
   {
    "duration": 186,
    "start_time": "2023-03-18T20:03:07.269Z"
   },
   {
    "duration": 1256,
    "start_time": "2023-03-18T20:03:07.457Z"
   },
   {
    "duration": 172,
    "start_time": "2023-03-18T20:03:08.715Z"
   },
   {
    "duration": 17,
    "start_time": "2023-03-18T20:03:08.889Z"
   },
   {
    "duration": 14,
    "start_time": "2023-03-18T20:03:08.908Z"
   },
   {
    "duration": 13,
    "start_time": "2023-03-18T20:03:08.924Z"
   },
   {
    "duration": 14,
    "start_time": "2023-03-18T20:03:08.961Z"
   },
   {
    "duration": 3,
    "start_time": "2023-03-18T20:03:08.978Z"
   },
   {
    "duration": 6,
    "start_time": "2023-03-18T20:03:08.983Z"
   },
   {
    "duration": 9,
    "start_time": "2023-03-18T20:03:08.991Z"
   },
   {
    "duration": 5,
    "start_time": "2023-03-18T20:03:09.002Z"
   },
   {
    "duration": 10,
    "start_time": "2023-03-18T20:03:09.008Z"
   },
   {
    "duration": 50,
    "start_time": "2023-03-18T20:03:09.019Z"
   },
   {
    "duration": 36,
    "start_time": "2023-03-18T20:03:09.071Z"
   },
   {
    "duration": 19,
    "start_time": "2023-03-18T20:03:41.613Z"
   },
   {
    "duration": 42,
    "start_time": "2023-03-18T20:04:33.002Z"
   },
   {
    "duration": 11,
    "start_time": "2023-03-18T20:04:40.006Z"
   },
   {
    "duration": 18,
    "start_time": "2023-03-18T20:04:46.463Z"
   },
   {
    "duration": 19,
    "start_time": "2023-03-18T20:04:54.978Z"
   },
   {
    "duration": 11,
    "start_time": "2023-03-18T20:05:10.049Z"
   },
   {
    "duration": 17,
    "start_time": "2023-03-18T20:05:12.865Z"
   },
   {
    "duration": 11,
    "start_time": "2023-03-18T20:05:31.154Z"
   },
   {
    "duration": 18,
    "start_time": "2023-03-18T20:05:33.984Z"
   },
   {
    "duration": 427,
    "start_time": "2023-03-18T20:05:45.826Z"
   },
   {
    "duration": 63,
    "start_time": "2023-03-18T20:05:46.255Z"
   },
   {
    "duration": 29,
    "start_time": "2023-03-18T20:05:46.320Z"
   },
   {
    "duration": 26,
    "start_time": "2023-03-18T20:05:46.352Z"
   },
   {
    "duration": 807,
    "start_time": "2023-03-18T20:05:46.380Z"
   },
   {
    "duration": 283,
    "start_time": "2023-03-18T20:05:47.189Z"
   },
   {
    "duration": 191,
    "start_time": "2023-03-18T20:05:47.474Z"
   },
   {
    "duration": 1322,
    "start_time": "2023-03-18T20:05:47.667Z"
   },
   {
    "duration": 171,
    "start_time": "2023-03-18T20:05:48.991Z"
   },
   {
    "duration": 17,
    "start_time": "2023-03-18T20:05:49.164Z"
   },
   {
    "duration": 15,
    "start_time": "2023-03-18T20:05:49.183Z"
   },
   {
    "duration": 15,
    "start_time": "2023-03-18T20:05:49.199Z"
   },
   {
    "duration": 16,
    "start_time": "2023-03-18T20:05:49.216Z"
   },
   {
    "duration": 5,
    "start_time": "2023-03-18T20:05:49.262Z"
   },
   {
    "duration": 6,
    "start_time": "2023-03-18T20:05:49.268Z"
   },
   {
    "duration": 10,
    "start_time": "2023-03-18T20:05:49.276Z"
   },
   {
    "duration": 5,
    "start_time": "2023-03-18T20:05:49.288Z"
   },
   {
    "duration": 7,
    "start_time": "2023-03-18T20:05:49.295Z"
   },
   {
    "duration": 24,
    "start_time": "2023-03-18T20:05:49.304Z"
   },
   {
    "duration": 42,
    "start_time": "2023-03-18T20:05:49.330Z"
   },
   {
    "duration": 10,
    "start_time": "2023-03-18T20:05:49.373Z"
   },
   {
    "duration": 13,
    "start_time": "2023-03-18T20:05:59.503Z"
   },
   {
    "duration": 62,
    "start_time": "2023-03-18T20:07:41.716Z"
   },
   {
    "duration": 16,
    "start_time": "2023-03-18T20:07:59.204Z"
   },
   {
    "duration": 392,
    "start_time": "2023-03-18T20:08:27.477Z"
   },
   {
    "duration": 50,
    "start_time": "2023-03-18T20:08:27.871Z"
   },
   {
    "duration": 21,
    "start_time": "2023-03-18T20:08:27.922Z"
   },
   {
    "duration": 14,
    "start_time": "2023-03-18T20:08:27.944Z"
   },
   {
    "duration": 708,
    "start_time": "2023-03-18T20:08:27.960Z"
   },
   {
    "duration": 221,
    "start_time": "2023-03-18T20:08:28.669Z"
   },
   {
    "duration": 175,
    "start_time": "2023-03-18T20:08:28.891Z"
   },
   {
    "duration": 1185,
    "start_time": "2023-03-18T20:08:29.067Z"
   },
   {
    "duration": 175,
    "start_time": "2023-03-18T20:08:30.254Z"
   },
   {
    "duration": 18,
    "start_time": "2023-03-18T20:08:30.431Z"
   },
   {
    "duration": 18,
    "start_time": "2023-03-18T20:08:30.462Z"
   },
   {
    "duration": 16,
    "start_time": "2023-03-18T20:08:30.482Z"
   },
   {
    "duration": 43,
    "start_time": "2023-03-18T20:08:30.500Z"
   },
   {
    "duration": 21,
    "start_time": "2023-03-18T20:08:30.546Z"
   },
   {
    "duration": 22,
    "start_time": "2023-03-18T20:08:30.568Z"
   },
   {
    "duration": 38,
    "start_time": "2023-03-18T20:08:30.592Z"
   },
   {
    "duration": 28,
    "start_time": "2023-03-18T20:08:30.631Z"
   },
   {
    "duration": 30,
    "start_time": "2023-03-18T20:08:30.661Z"
   },
   {
    "duration": 37,
    "start_time": "2023-03-18T20:08:30.693Z"
   },
   {
    "duration": 21,
    "start_time": "2023-03-18T20:08:30.732Z"
   },
   {
    "duration": 11,
    "start_time": "2023-03-18T20:08:56.581Z"
   },
   {
    "duration": 80,
    "start_time": "2023-03-18T20:09:38.067Z"
   },
   {
    "duration": 17,
    "start_time": "2023-03-18T20:11:06.778Z"
   },
   {
    "duration": 46,
    "start_time": "2023-03-18T20:12:07.798Z"
   },
   {
    "duration": 381,
    "start_time": "2023-03-18T20:12:11.189Z"
   },
   {
    "duration": 50,
    "start_time": "2023-03-18T20:12:11.573Z"
   },
   {
    "duration": 22,
    "start_time": "2023-03-18T20:12:11.624Z"
   },
   {
    "duration": 15,
    "start_time": "2023-03-18T20:12:11.648Z"
   },
   {
    "duration": 765,
    "start_time": "2023-03-18T20:12:11.666Z"
   },
   {
    "duration": 241,
    "start_time": "2023-03-18T20:12:12.432Z"
   },
   {
    "duration": 186,
    "start_time": "2023-03-18T20:12:12.674Z"
   },
   {
    "duration": 1301,
    "start_time": "2023-03-18T20:12:12.862Z"
   },
   {
    "duration": 171,
    "start_time": "2023-03-18T20:12:14.165Z"
   },
   {
    "duration": 30,
    "start_time": "2023-03-18T20:12:14.338Z"
   },
   {
    "duration": 15,
    "start_time": "2023-03-18T20:12:14.370Z"
   },
   {
    "duration": 17,
    "start_time": "2023-03-18T20:12:14.387Z"
   },
   {
    "duration": 16,
    "start_time": "2023-03-18T20:12:14.406Z"
   },
   {
    "duration": 35,
    "start_time": "2023-03-18T20:12:14.426Z"
   },
   {
    "duration": 4,
    "start_time": "2023-03-18T20:12:14.464Z"
   },
   {
    "duration": 12,
    "start_time": "2023-03-18T20:12:14.470Z"
   },
   {
    "duration": 5,
    "start_time": "2023-03-18T20:12:14.484Z"
   },
   {
    "duration": 17,
    "start_time": "2023-03-18T20:12:14.491Z"
   },
   {
    "duration": 43,
    "start_time": "2023-03-18T20:12:14.509Z"
   },
   {
    "duration": 52,
    "start_time": "2023-03-18T20:27:24.913Z"
   },
   {
    "duration": 722,
    "start_time": "2023-03-18T20:27:29.039Z"
   },
   {
    "duration": 5,
    "start_time": "2023-03-18T20:27:39.620Z"
   },
   {
    "duration": 435,
    "start_time": "2023-03-18T20:28:02.031Z"
   },
   {
    "duration": 53,
    "start_time": "2023-03-18T20:28:02.468Z"
   },
   {
    "duration": 21,
    "start_time": "2023-03-18T20:28:02.522Z"
   },
   {
    "duration": 38,
    "start_time": "2023-03-18T20:28:02.545Z"
   },
   {
    "duration": 749,
    "start_time": "2023-03-18T20:28:02.584Z"
   },
   {
    "duration": 228,
    "start_time": "2023-03-18T20:28:03.335Z"
   },
   {
    "duration": 163,
    "start_time": "2023-03-18T20:28:03.565Z"
   },
   {
    "duration": 1334,
    "start_time": "2023-03-18T20:28:03.729Z"
   },
   {
    "duration": 184,
    "start_time": "2023-03-18T20:28:05.066Z"
   },
   {
    "duration": 18,
    "start_time": "2023-03-18T20:28:05.261Z"
   },
   {
    "duration": 15,
    "start_time": "2023-03-18T20:28:05.281Z"
   },
   {
    "duration": 17,
    "start_time": "2023-03-18T20:28:05.298Z"
   },
   {
    "duration": 48,
    "start_time": "2023-03-18T20:28:05.318Z"
   },
   {
    "duration": 4,
    "start_time": "2023-03-18T20:28:05.368Z"
   },
   {
    "duration": 7,
    "start_time": "2023-03-18T20:28:05.374Z"
   },
   {
    "duration": 9,
    "start_time": "2023-03-18T20:28:05.383Z"
   },
   {
    "duration": 9,
    "start_time": "2023-03-18T20:28:05.394Z"
   },
   {
    "duration": 5,
    "start_time": "2023-03-18T20:35:02.506Z"
   },
   {
    "duration": 14,
    "start_time": "2023-03-18T20:35:09.073Z"
   },
   {
    "duration": 7,
    "start_time": "2023-03-18T20:41:26.671Z"
   },
   {
    "duration": 6,
    "start_time": "2023-03-18T20:49:42.457Z"
   },
   {
    "duration": 151,
    "start_time": "2023-03-18T21:07:32.475Z"
   },
   {
    "duration": 138,
    "start_time": "2023-03-18T21:07:36.967Z"
   },
   {
    "duration": 223,
    "start_time": "2023-03-18T21:07:55.401Z"
   },
   {
    "duration": 156,
    "start_time": "2023-03-18T21:08:01.207Z"
   },
   {
    "duration": 146,
    "start_time": "2023-03-18T21:08:05.820Z"
   },
   {
    "duration": 125,
    "start_time": "2023-03-18T21:08:17.892Z"
   },
   {
    "duration": 135,
    "start_time": "2023-03-18T21:08:36.787Z"
   },
   {
    "duration": 218,
    "start_time": "2023-03-18T21:09:20.436Z"
   },
   {
    "duration": 142,
    "start_time": "2023-03-18T21:09:30.260Z"
   },
   {
    "duration": 135,
    "start_time": "2023-03-18T21:09:50.253Z"
   },
   {
    "duration": 131,
    "start_time": "2023-03-18T21:10:08.796Z"
   },
   {
    "duration": 133,
    "start_time": "2023-03-18T21:11:09.757Z"
   },
   {
    "duration": 6,
    "start_time": "2023-03-18T21:11:41.395Z"
   },
   {
    "duration": 9,
    "start_time": "2023-03-18T21:19:28.537Z"
   },
   {
    "duration": 8,
    "start_time": "2023-03-18T21:19:38.719Z"
   },
   {
    "duration": 10,
    "start_time": "2023-03-18T21:19:49.557Z"
   },
   {
    "duration": 14,
    "start_time": "2023-03-18T21:21:57.792Z"
   },
   {
    "duration": 12,
    "start_time": "2023-03-18T21:22:22.697Z"
   },
   {
    "duration": 91,
    "start_time": "2023-03-18T21:23:51.194Z"
   },
   {
    "duration": 2769,
    "start_time": "2023-03-18T21:24:24.296Z"
   },
   {
    "duration": 79,
    "start_time": "2023-03-18T21:24:33.598Z"
   },
   {
    "duration": 9,
    "start_time": "2023-03-18T21:25:21.510Z"
   },
   {
    "duration": 8,
    "start_time": "2023-03-18T21:30:50.097Z"
   },
   {
    "duration": 14,
    "start_time": "2023-03-18T21:35:55.122Z"
   },
   {
    "duration": 5,
    "start_time": "2023-03-18T21:36:01.751Z"
   },
   {
    "duration": 8,
    "start_time": "2023-03-18T21:36:12.847Z"
   },
   {
    "duration": 539,
    "start_time": "2023-03-18T21:36:27.842Z"
   },
   {
    "duration": 6,
    "start_time": "2023-03-18T21:36:41.781Z"
   },
   {
    "duration": 9,
    "start_time": "2023-03-18T21:37:19.580Z"
   },
   {
    "duration": 8,
    "start_time": "2023-03-18T21:37:53.003Z"
   },
   {
    "duration": 71,
    "start_time": "2023-03-18T21:37:58.584Z"
   },
   {
    "duration": 52,
    "start_time": "2023-03-18T21:38:22.239Z"
   },
   {
    "duration": 6,
    "start_time": "2023-03-18T21:38:26.905Z"
   },
   {
    "duration": 24,
    "start_time": "2023-03-18T21:39:22.694Z"
   },
   {
    "duration": 6,
    "start_time": "2023-03-18T21:39:27.700Z"
   },
   {
    "duration": 74,
    "start_time": "2023-03-18T21:39:47.187Z"
   },
   {
    "duration": 6,
    "start_time": "2023-03-18T21:40:11.296Z"
   },
   {
    "duration": 7,
    "start_time": "2023-03-18T21:40:24.635Z"
   },
   {
    "duration": 13,
    "start_time": "2023-03-18T21:40:32.661Z"
   },
   {
    "duration": 6,
    "start_time": "2023-03-18T21:41:23.856Z"
   },
   {
    "duration": 8,
    "start_time": "2023-03-18T21:41:34.813Z"
   },
   {
    "duration": 6,
    "start_time": "2023-03-18T21:41:38.205Z"
   },
   {
    "duration": 8,
    "start_time": "2023-03-18T21:41:45.916Z"
   },
   {
    "duration": 6,
    "start_time": "2023-03-18T21:42:40.686Z"
   },
   {
    "duration": 7,
    "start_time": "2023-03-18T21:44:12.520Z"
   },
   {
    "duration": 7,
    "start_time": "2023-03-18T21:44:17.878Z"
   },
   {
    "duration": 7,
    "start_time": "2023-03-18T21:44:22.274Z"
   },
   {
    "duration": 8,
    "start_time": "2023-03-18T21:54:12.001Z"
   },
   {
    "duration": 3236,
    "start_time": "2023-03-18T21:54:16.962Z"
   },
   {
    "duration": 2635,
    "start_time": "2023-03-18T21:54:34.213Z"
   },
   {
    "duration": 142,
    "start_time": "2023-03-18T21:54:59.881Z"
   },
   {
    "duration": 25,
    "start_time": "2023-03-18T21:56:05.288Z"
   },
   {
    "duration": 16,
    "start_time": "2023-03-18T21:56:14.017Z"
   },
   {
    "duration": 5,
    "start_time": "2023-03-18T21:56:41.709Z"
   },
   {
    "duration": 8,
    "start_time": "2023-03-18T21:56:50.891Z"
   },
   {
    "duration": 12,
    "start_time": "2023-03-18T21:57:38.829Z"
   },
   {
    "duration": 10,
    "start_time": "2023-03-18T21:58:05.541Z"
   },
   {
    "duration": 7,
    "start_time": "2023-03-18T21:58:11.488Z"
   },
   {
    "duration": 15,
    "start_time": "2023-03-18T21:58:49.581Z"
   },
   {
    "duration": 777,
    "start_time": "2023-03-18T21:59:51.837Z"
   },
   {
    "duration": 16,
    "start_time": "2023-03-18T22:00:09.675Z"
   },
   {
    "duration": 767,
    "start_time": "2023-03-18T22:00:28.777Z"
   },
   {
    "duration": 12,
    "start_time": "2023-03-18T22:00:41.938Z"
   },
   {
    "duration": 13,
    "start_time": "2023-03-18T22:00:53.202Z"
   },
   {
    "duration": 14,
    "start_time": "2023-03-18T22:00:59.623Z"
   },
   {
    "duration": 419,
    "start_time": "2023-03-19T07:24:19.995Z"
   },
   {
    "duration": 190,
    "start_time": "2023-03-19T07:24:20.416Z"
   },
   {
    "duration": 20,
    "start_time": "2023-03-19T07:24:20.608Z"
   },
   {
    "duration": 35,
    "start_time": "2023-03-19T07:24:20.629Z"
   },
   {
    "duration": 954,
    "start_time": "2023-03-19T07:24:20.668Z"
   },
   {
    "duration": 209,
    "start_time": "2023-03-19T07:24:21.624Z"
   },
   {
    "duration": 215,
    "start_time": "2023-03-19T07:24:21.835Z"
   },
   {
    "duration": 1117,
    "start_time": "2023-03-19T07:24:22.051Z"
   },
   {
    "duration": 147,
    "start_time": "2023-03-19T07:24:23.170Z"
   },
   {
    "duration": 16,
    "start_time": "2023-03-19T07:24:23.319Z"
   },
   {
    "duration": 13,
    "start_time": "2023-03-19T07:24:23.337Z"
   },
   {
    "duration": 14,
    "start_time": "2023-03-19T07:24:23.351Z"
   },
   {
    "duration": 49,
    "start_time": "2023-03-19T07:24:23.367Z"
   },
   {
    "duration": 4,
    "start_time": "2023-03-19T07:24:23.419Z"
   },
   {
    "duration": 27,
    "start_time": "2023-03-19T07:24:23.425Z"
   },
   {
    "duration": 9,
    "start_time": "2023-03-19T07:24:23.454Z"
   },
   {
    "duration": 5,
    "start_time": "2023-03-19T07:24:23.465Z"
   },
   {
    "duration": 8,
    "start_time": "2023-03-19T07:24:23.471Z"
   },
   {
    "duration": 16,
    "start_time": "2023-03-19T07:24:23.481Z"
   },
   {
    "duration": 6,
    "start_time": "2023-03-19T07:24:23.499Z"
   },
   {
    "duration": 144,
    "start_time": "2023-03-19T07:24:23.507Z"
   },
   {
    "duration": 9,
    "start_time": "2023-03-19T07:24:23.653Z"
   },
   {
    "duration": 43,
    "start_time": "2023-03-19T07:24:23.663Z"
   },
   {
    "duration": 8,
    "start_time": "2023-03-19T07:24:23.709Z"
   },
   {
    "duration": 14,
    "start_time": "2023-03-19T07:24:23.719Z"
   },
   {
    "duration": 74,
    "start_time": "2023-03-19T08:21:55.803Z"
   },
   {
    "duration": 12,
    "start_time": "2023-03-19T08:22:05.971Z"
   },
   {
    "duration": 71,
    "start_time": "2023-03-19T08:22:18.043Z"
   },
   {
    "duration": 134,
    "start_time": "2023-03-19T08:29:59.631Z"
   },
   {
    "duration": 2346,
    "start_time": "2023-03-19T08:30:14.024Z"
   },
   {
    "duration": 5,
    "start_time": "2023-03-19T08:30:28.351Z"
   },
   {
    "duration": 6,
    "start_time": "2023-03-19T08:30:38.714Z"
   },
   {
    "duration": 137,
    "start_time": "2023-03-19T08:31:02.411Z"
   },
   {
    "duration": 102,
    "start_time": "2023-03-19T10:29:18.000Z"
   },
   {
    "duration": 149,
    "start_time": "2023-03-19T10:29:28.691Z"
   },
   {
    "duration": 703,
    "start_time": "2023-03-19T10:50:18.978Z"
   },
   {
    "duration": 50,
    "start_time": "2023-03-19T10:50:31.611Z"
   },
   {
    "duration": 4,
    "start_time": "2023-03-19T10:50:34.914Z"
   },
   {
    "duration": 808,
    "start_time": "2023-03-19T10:51:11.814Z"
   },
   {
    "duration": 15,
    "start_time": "2023-03-19T10:51:25.106Z"
   },
   {
    "duration": 8,
    "start_time": "2023-03-19T10:51:50.316Z"
   },
   {
    "duration": 839,
    "start_time": "2023-03-19T10:52:04.018Z"
   },
   {
    "duration": 16,
    "start_time": "2023-03-19T10:52:30.283Z"
   },
   {
    "duration": 683,
    "start_time": "2023-03-19T10:52:50.709Z"
   },
   {
    "duration": 739,
    "start_time": "2023-03-19T10:53:02.493Z"
   },
   {
    "duration": 110,
    "start_time": "2023-03-19T10:53:11.696Z"
   },
   {
    "duration": 7,
    "start_time": "2023-03-19T10:53:18.302Z"
   },
   {
    "duration": 17,
    "start_time": "2023-03-19T10:57:57.494Z"
   },
   {
    "duration": 770,
    "start_time": "2023-03-19T11:13:31.498Z"
   },
   {
    "duration": 672,
    "start_time": "2023-03-19T11:13:49.102Z"
   },
   {
    "duration": 9,
    "start_time": "2023-03-19T11:14:05.158Z"
   },
   {
    "duration": 9,
    "start_time": "2023-03-19T11:14:15.874Z"
   },
   {
    "duration": 4,
    "start_time": "2023-03-19T11:14:24.737Z"
   },
   {
    "duration": 4,
    "start_time": "2023-03-19T11:14:27.592Z"
   },
   {
    "duration": 96,
    "start_time": "2023-03-19T11:14:39.182Z"
   },
   {
    "duration": 308,
    "start_time": "2023-03-19T11:15:06.914Z"
   },
   {
    "duration": 307,
    "start_time": "2023-03-19T11:15:13.488Z"
   },
   {
    "duration": 382,
    "start_time": "2023-03-19T11:15:46.186Z"
   },
   {
    "duration": 771,
    "start_time": "2023-03-19T12:21:33.317Z"
   },
   {
    "duration": 714,
    "start_time": "2023-03-19T12:22:05.285Z"
   },
   {
    "duration": 811,
    "start_time": "2023-03-19T12:22:26.656Z"
   },
   {
    "duration": 746,
    "start_time": "2023-03-19T12:22:34.093Z"
   },
   {
    "duration": 18,
    "start_time": "2023-03-19T12:23:03.609Z"
   },
   {
    "duration": 16,
    "start_time": "2023-03-19T12:23:21.380Z"
   },
   {
    "duration": 422,
    "start_time": "2023-03-19T12:23:42.627Z"
   },
   {
    "duration": 137,
    "start_time": "2023-03-19T12:23:43.051Z"
   },
   {
    "duration": 27,
    "start_time": "2023-03-19T12:23:43.190Z"
   },
   {
    "duration": 32,
    "start_time": "2023-03-19T12:23:43.219Z"
   },
   {
    "duration": 795,
    "start_time": "2023-03-19T12:23:43.254Z"
   },
   {
    "duration": 358,
    "start_time": "2023-03-19T12:23:44.052Z"
   },
   {
    "duration": 196,
    "start_time": "2023-03-19T12:23:44.413Z"
   },
   {
    "duration": 1417,
    "start_time": "2023-03-19T12:23:44.611Z"
   },
   {
    "duration": 175,
    "start_time": "2023-03-19T12:23:46.030Z"
   },
   {
    "duration": 16,
    "start_time": "2023-03-19T12:23:46.207Z"
   },
   {
    "duration": 14,
    "start_time": "2023-03-19T12:23:46.225Z"
   },
   {
    "duration": 27,
    "start_time": "2023-03-19T12:23:46.242Z"
   },
   {
    "duration": 33,
    "start_time": "2023-03-19T12:23:46.271Z"
   },
   {
    "duration": 5,
    "start_time": "2023-03-19T12:23:46.308Z"
   },
   {
    "duration": 14,
    "start_time": "2023-03-19T12:23:46.316Z"
   },
   {
    "duration": 17,
    "start_time": "2023-03-19T12:23:46.332Z"
   },
   {
    "duration": 20,
    "start_time": "2023-03-19T12:23:46.352Z"
   },
   {
    "duration": 39,
    "start_time": "2023-03-19T12:23:46.374Z"
   },
   {
    "duration": 17,
    "start_time": "2023-03-19T12:23:46.415Z"
   },
   {
    "duration": 6,
    "start_time": "2023-03-19T12:23:46.434Z"
   },
   {
    "duration": 144,
    "start_time": "2023-03-19T12:23:46.441Z"
   },
   {
    "duration": 14,
    "start_time": "2023-03-19T12:23:46.587Z"
   },
   {
    "duration": 22,
    "start_time": "2023-03-19T12:23:46.603Z"
   },
   {
    "duration": 6,
    "start_time": "2023-03-19T12:23:46.627Z"
   },
   {
    "duration": 22,
    "start_time": "2023-03-19T12:23:46.635Z"
   },
   {
    "duration": 99,
    "start_time": "2023-03-19T12:23:46.658Z"
   },
   {
    "duration": 20,
    "start_time": "2023-03-19T12:24:10.516Z"
   },
   {
    "duration": 70,
    "start_time": "2023-03-19T12:29:48.627Z"
   },
   {
    "duration": 22,
    "start_time": "2023-03-19T12:30:02.648Z"
   },
   {
    "duration": 11,
    "start_time": "2023-03-19T12:30:06.180Z"
   },
   {
    "duration": 15,
    "start_time": "2023-03-19T12:30:11.645Z"
   },
   {
    "duration": 70,
    "start_time": "2023-03-19T12:31:23.341Z"
   },
   {
    "duration": 13,
    "start_time": "2023-03-19T12:43:09.834Z"
   },
   {
    "duration": 29,
    "start_time": "2023-03-19T12:43:14.221Z"
   },
   {
    "duration": 74,
    "start_time": "2023-03-19T12:43:15.232Z"
   },
   {
    "duration": 67,
    "start_time": "2023-03-19T13:23:24.138Z"
   },
   {
    "duration": 450,
    "start_time": "2023-03-19T13:23:28.276Z"
   },
   {
    "duration": 140,
    "start_time": "2023-03-19T13:23:28.728Z"
   },
   {
    "duration": 33,
    "start_time": "2023-03-19T13:23:28.871Z"
   },
   {
    "duration": 20,
    "start_time": "2023-03-19T13:23:28.907Z"
   },
   {
    "duration": 863,
    "start_time": "2023-03-19T13:23:28.930Z"
   },
   {
    "duration": 254,
    "start_time": "2023-03-19T13:23:29.795Z"
   },
   {
    "duration": 206,
    "start_time": "2023-03-19T13:23:30.051Z"
   },
   {
    "duration": 1269,
    "start_time": "2023-03-19T13:23:30.259Z"
   },
   {
    "duration": 197,
    "start_time": "2023-03-19T13:23:31.530Z"
   },
   {
    "duration": 17,
    "start_time": "2023-03-19T13:23:31.730Z"
   },
   {
    "duration": 18,
    "start_time": "2023-03-19T13:23:31.749Z"
   },
   {
    "duration": 44,
    "start_time": "2023-03-19T13:23:31.770Z"
   },
   {
    "duration": 37,
    "start_time": "2023-03-19T13:23:31.816Z"
   },
   {
    "duration": 14,
    "start_time": "2023-03-19T13:23:31.855Z"
   },
   {
    "duration": 12,
    "start_time": "2023-03-19T13:23:31.871Z"
   },
   {
    "duration": 34,
    "start_time": "2023-03-19T13:23:31.885Z"
   },
   {
    "duration": 9,
    "start_time": "2023-03-19T13:23:31.924Z"
   },
   {
    "duration": 43,
    "start_time": "2023-03-19T13:23:31.936Z"
   },
   {
    "duration": 30,
    "start_time": "2023-03-19T13:23:31.981Z"
   },
   {
    "duration": 24,
    "start_time": "2023-03-19T13:23:32.013Z"
   },
   {
    "duration": 144,
    "start_time": "2023-03-19T13:23:32.039Z"
   },
   {
    "duration": 43,
    "start_time": "2023-03-19T13:23:32.185Z"
   },
   {
    "duration": 99,
    "start_time": "2023-03-19T13:23:32.231Z"
   },
   {
    "duration": 77,
    "start_time": "2023-03-19T13:23:32.333Z"
   },
   {
    "duration": 0,
    "start_time": "2023-03-19T13:23:32.413Z"
   },
   {
    "duration": 209931,
    "start_time": "2023-03-19T13:24:11.288Z"
   },
   {
    "duration": 500,
    "start_time": "2023-03-19T13:37:29.481Z"
   },
   {
    "duration": 130,
    "start_time": "2023-03-19T13:38:18.411Z"
   },
   {
    "duration": 2331,
    "start_time": "2023-03-19T13:38:50.984Z"
   },
   {
    "duration": 7,
    "start_time": "2023-03-19T13:41:12.807Z"
   },
   {
    "duration": 145,
    "start_time": "2023-03-19T13:41:17.231Z"
   },
   {
    "duration": 146,
    "start_time": "2023-03-19T13:41:19.662Z"
   },
   {
    "duration": 122,
    "start_time": "2023-03-19T13:41:35.453Z"
   },
   {
    "duration": 458,
    "start_time": "2023-03-19T13:47:35.626Z"
   },
   {
    "duration": 438,
    "start_time": "2023-03-19T13:47:44.885Z"
   },
   {
    "duration": 188,
    "start_time": "2023-03-19T13:48:03.559Z"
   },
   {
    "duration": 467,
    "start_time": "2023-03-19T13:48:22.187Z"
   },
   {
    "duration": 709,
    "start_time": "2023-03-19T13:48:39.539Z"
   },
   {
    "duration": 406,
    "start_time": "2023-03-19T13:49:04.045Z"
   },
   {
    "duration": 58,
    "start_time": "2023-03-19T13:49:04.453Z"
   },
   {
    "duration": 23,
    "start_time": "2023-03-19T13:49:04.512Z"
   },
   {
    "duration": 14,
    "start_time": "2023-03-19T13:49:04.538Z"
   },
   {
    "duration": 771,
    "start_time": "2023-03-19T13:49:04.554Z"
   },
   {
    "duration": 233,
    "start_time": "2023-03-19T13:49:05.328Z"
   },
   {
    "duration": 176,
    "start_time": "2023-03-19T13:49:05.563Z"
   },
   {
    "duration": 1214,
    "start_time": "2023-03-19T13:49:05.741Z"
   },
   {
    "duration": 152,
    "start_time": "2023-03-19T13:49:06.957Z"
   },
   {
    "duration": 16,
    "start_time": "2023-03-19T13:49:07.111Z"
   },
   {
    "duration": 13,
    "start_time": "2023-03-19T13:49:07.129Z"
   },
   {
    "duration": 15,
    "start_time": "2023-03-19T13:49:07.144Z"
   },
   {
    "duration": 42,
    "start_time": "2023-03-19T13:49:07.161Z"
   },
   {
    "duration": 3,
    "start_time": "2023-03-19T13:49:07.204Z"
   },
   {
    "duration": 7,
    "start_time": "2023-03-19T13:49:07.209Z"
   },
   {
    "duration": 12,
    "start_time": "2023-03-19T13:49:07.217Z"
   },
   {
    "duration": 6,
    "start_time": "2023-03-19T13:49:07.230Z"
   },
   {
    "duration": 9,
    "start_time": "2023-03-19T13:49:07.237Z"
   },
   {
    "duration": 55,
    "start_time": "2023-03-19T13:49:07.248Z"
   },
   {
    "duration": 6,
    "start_time": "2023-03-19T13:49:07.305Z"
   },
   {
    "duration": 829,
    "start_time": "2023-03-19T13:49:07.313Z"
   },
   {
    "duration": 227,
    "start_time": "2023-03-19T13:49:15.484Z"
   },
   {
    "duration": 707,
    "start_time": "2023-03-19T14:01:49.936Z"
   },
   {
    "duration": 159,
    "start_time": "2023-03-19T14:04:54.361Z"
   },
   {
    "duration": 127,
    "start_time": "2023-03-19T14:14:16.691Z"
   },
   {
    "duration": 8,
    "start_time": "2023-03-19T14:40:12.308Z"
   },
   {
    "duration": 10,
    "start_time": "2023-03-19T14:40:24.498Z"
   },
   {
    "duration": 8,
    "start_time": "2023-03-19T14:40:38.083Z"
   },
   {
    "duration": 17,
    "start_time": "2023-03-19T15:18:30.120Z"
   },
   {
    "duration": 77,
    "start_time": "2023-03-19T15:18:45.098Z"
   },
   {
    "duration": 7,
    "start_time": "2023-03-19T15:19:08.182Z"
   },
   {
    "duration": 140,
    "start_time": "2023-03-19T15:19:26.391Z"
   },
   {
    "duration": 126,
    "start_time": "2023-03-19T15:19:34.408Z"
   },
   {
    "duration": 7,
    "start_time": "2023-03-19T15:20:16.802Z"
   },
   {
    "duration": 23,
    "start_time": "2023-03-19T15:21:52.316Z"
   },
   {
    "duration": 7,
    "start_time": "2023-03-19T15:22:02.578Z"
   },
   {
    "duration": 149,
    "start_time": "2023-03-19T15:22:12.146Z"
   },
   {
    "duration": 10,
    "start_time": "2023-03-19T15:22:25.962Z"
   },
   {
    "duration": 163,
    "start_time": "2023-03-19T15:22:39.576Z"
   },
   {
    "duration": 5,
    "start_time": "2023-03-19T15:22:54.904Z"
   },
   {
    "duration": 7,
    "start_time": "2023-03-19T15:22:57.908Z"
   },
   {
    "duration": 6,
    "start_time": "2023-03-19T15:25:50.600Z"
   },
   {
    "duration": 76,
    "start_time": "2023-03-19T15:27:57.476Z"
   },
   {
    "duration": 191,
    "start_time": "2023-03-19T15:28:42.180Z"
   },
   {
    "duration": 259,
    "start_time": "2023-03-19T15:29:04.156Z"
   },
   {
    "duration": 241,
    "start_time": "2023-03-19T15:29:12.954Z"
   },
   {
    "duration": 243,
    "start_time": "2023-03-19T15:31:17.381Z"
   },
   {
    "duration": 241,
    "start_time": "2023-03-19T16:51:55.382Z"
   },
   {
    "duration": 17,
    "start_time": "2023-03-19T17:10:24.990Z"
   },
   {
    "duration": 23,
    "start_time": "2023-03-19T17:10:30.593Z"
   },
   {
    "duration": 18,
    "start_time": "2023-03-19T17:10:35.344Z"
   },
   {
    "duration": 48,
    "start_time": "2023-03-19T17:11:57.713Z"
   },
   {
    "duration": 236,
    "start_time": "2023-03-19T17:12:07.135Z"
   },
   {
    "duration": 299,
    "start_time": "2023-03-19T17:16:54.715Z"
   },
   {
    "duration": 246,
    "start_time": "2023-03-19T17:16:58.874Z"
   },
   {
    "duration": 7,
    "start_time": "2023-03-19T17:18:39.431Z"
   },
   {
    "duration": 11,
    "start_time": "2023-03-19T17:20:07.991Z"
   },
   {
    "duration": 8,
    "start_time": "2023-03-19T17:21:01.701Z"
   },
   {
    "duration": 5,
    "start_time": "2023-03-19T17:52:46.961Z"
   },
   {
    "duration": 7,
    "start_time": "2023-03-19T18:24:27.027Z"
   },
   {
    "duration": 6,
    "start_time": "2023-03-19T18:24:43.415Z"
   },
   {
    "duration": 4,
    "start_time": "2023-03-19T18:25:40.266Z"
   },
   {
    "duration": 6,
    "start_time": "2023-03-19T18:27:05.149Z"
   },
   {
    "duration": 36,
    "start_time": "2023-03-19T18:29:37.965Z"
   },
   {
    "duration": 31,
    "start_time": "2023-03-19T18:33:35.762Z"
   },
   {
    "duration": 6,
    "start_time": "2023-03-19T20:04:54.369Z"
   },
   {
    "duration": 50,
    "start_time": "2023-03-19T20:05:18.835Z"
   },
   {
    "duration": 22,
    "start_time": "2023-03-19T20:05:22.556Z"
   },
   {
    "duration": 8,
    "start_time": "2023-03-19T21:11:29.707Z"
   },
   {
    "duration": 8,
    "start_time": "2023-03-19T21:20:06.499Z"
   },
   {
    "duration": 6,
    "start_time": "2023-03-19T21:24:30.177Z"
   },
   {
    "duration": 8,
    "start_time": "2023-03-19T21:24:40.445Z"
   },
   {
    "duration": 23,
    "start_time": "2023-03-19T21:25:14.729Z"
   },
   {
    "duration": 48,
    "start_time": "2023-03-20T09:28:16.067Z"
   },
   {
    "duration": 391,
    "start_time": "2023-03-20T09:28:21.807Z"
   },
   {
    "duration": 181,
    "start_time": "2023-03-20T09:28:22.200Z"
   },
   {
    "duration": 24,
    "start_time": "2023-03-20T09:28:22.382Z"
   },
   {
    "duration": 15,
    "start_time": "2023-03-20T09:28:22.407Z"
   },
   {
    "duration": 720,
    "start_time": "2023-03-20T09:28:22.425Z"
   },
   {
    "duration": 186,
    "start_time": "2023-03-20T09:28:23.146Z"
   },
   {
    "duration": 175,
    "start_time": "2023-03-20T09:28:23.334Z"
   },
   {
    "duration": 911,
    "start_time": "2023-03-20T09:28:23.511Z"
   },
   {
    "duration": 113,
    "start_time": "2023-03-20T09:28:24.424Z"
   },
   {
    "duration": 13,
    "start_time": "2023-03-20T09:28:24.539Z"
   },
   {
    "duration": 19,
    "start_time": "2023-03-20T09:28:24.553Z"
   },
   {
    "duration": 11,
    "start_time": "2023-03-20T09:28:24.574Z"
   },
   {
    "duration": 18,
    "start_time": "2023-03-20T09:28:24.586Z"
   },
   {
    "duration": 3,
    "start_time": "2023-03-20T09:28:24.606Z"
   },
   {
    "duration": 20,
    "start_time": "2023-03-20T09:28:24.610Z"
   },
   {
    "duration": 21,
    "start_time": "2023-03-20T09:28:24.631Z"
   },
   {
    "duration": 3,
    "start_time": "2023-03-20T09:28:24.654Z"
   },
   {
    "duration": 7,
    "start_time": "2023-03-20T09:28:24.658Z"
   },
   {
    "duration": 12,
    "start_time": "2023-03-20T09:28:24.666Z"
   },
   {
    "duration": 5,
    "start_time": "2023-03-20T09:28:24.679Z"
   },
   {
    "duration": 106,
    "start_time": "2023-03-20T09:28:24.686Z"
   },
   {
    "duration": 7,
    "start_time": "2023-03-20T09:28:24.793Z"
   },
   {
    "duration": 47,
    "start_time": "2023-03-20T09:28:24.801Z"
   },
   {
    "duration": 0,
    "start_time": "2023-03-20T09:28:24.849Z"
   },
   {
    "duration": 0,
    "start_time": "2023-03-20T09:28:24.851Z"
   },
   {
    "duration": 0,
    "start_time": "2023-03-20T09:28:24.852Z"
   },
   {
    "duration": 0,
    "start_time": "2023-03-20T09:28:24.853Z"
   },
   {
    "duration": 0,
    "start_time": "2023-03-20T09:28:24.855Z"
   },
   {
    "duration": 0,
    "start_time": "2023-03-20T09:28:24.855Z"
   },
   {
    "duration": 0,
    "start_time": "2023-03-20T09:28:24.856Z"
   },
   {
    "duration": 0,
    "start_time": "2023-03-20T09:28:24.857Z"
   },
   {
    "duration": 0,
    "start_time": "2023-03-20T09:28:24.858Z"
   },
   {
    "duration": 0,
    "start_time": "2023-03-20T09:28:24.860Z"
   },
   {
    "duration": 0,
    "start_time": "2023-03-20T09:28:24.861Z"
   },
   {
    "duration": 0,
    "start_time": "2023-03-20T09:28:24.862Z"
   },
   {
    "duration": 0,
    "start_time": "2023-03-20T09:28:24.862Z"
   },
   {
    "duration": 0,
    "start_time": "2023-03-20T09:28:24.863Z"
   },
   {
    "duration": 421,
    "start_time": "2023-03-20T09:28:51.707Z"
   },
   {
    "duration": 45,
    "start_time": "2023-03-20T09:28:52.130Z"
   },
   {
    "duration": 17,
    "start_time": "2023-03-20T09:28:52.176Z"
   },
   {
    "duration": 27,
    "start_time": "2023-03-20T09:28:52.194Z"
   },
   {
    "duration": 642,
    "start_time": "2023-03-20T09:28:52.222Z"
   },
   {
    "duration": 184,
    "start_time": "2023-03-20T09:28:52.866Z"
   },
   {
    "duration": 133,
    "start_time": "2023-03-20T09:28:53.052Z"
   },
   {
    "duration": 944,
    "start_time": "2023-03-20T09:28:53.187Z"
   },
   {
    "duration": 121,
    "start_time": "2023-03-20T09:28:54.132Z"
   },
   {
    "duration": 13,
    "start_time": "2023-03-20T09:28:54.254Z"
   },
   {
    "duration": 11,
    "start_time": "2023-03-20T09:28:54.269Z"
   },
   {
    "duration": 14,
    "start_time": "2023-03-20T09:28:54.281Z"
   },
   {
    "duration": 28,
    "start_time": "2023-03-20T09:28:54.296Z"
   },
   {
    "duration": 3,
    "start_time": "2023-03-20T09:28:54.327Z"
   },
   {
    "duration": 8,
    "start_time": "2023-03-20T09:28:54.331Z"
   },
   {
    "duration": 25,
    "start_time": "2023-03-20T09:28:54.340Z"
   },
   {
    "duration": 5,
    "start_time": "2023-03-20T09:28:54.366Z"
   },
   {
    "duration": 18,
    "start_time": "2023-03-20T09:28:54.372Z"
   },
   {
    "duration": 18,
    "start_time": "2023-03-20T09:28:54.391Z"
   },
   {
    "duration": 5,
    "start_time": "2023-03-20T09:28:54.411Z"
   },
   {
    "duration": 102,
    "start_time": "2023-03-20T09:28:54.417Z"
   },
   {
    "duration": 7,
    "start_time": "2023-03-20T09:28:54.521Z"
   },
   {
    "duration": 230,
    "start_time": "2023-03-20T09:28:54.530Z"
   },
   {
    "duration": 9,
    "start_time": "2023-03-20T09:28:54.761Z"
   },
   {
    "duration": 9,
    "start_time": "2023-03-20T09:28:54.772Z"
   },
   {
    "duration": 78,
    "start_time": "2023-03-20T09:28:54.782Z"
   },
   {
    "duration": 3,
    "start_time": "2023-03-20T09:28:54.862Z"
   },
   {
    "duration": 9,
    "start_time": "2023-03-20T09:28:54.866Z"
   },
   {
    "duration": 6,
    "start_time": "2023-03-20T09:28:54.877Z"
   },
   {
    "duration": 41,
    "start_time": "2023-03-20T09:28:54.884Z"
   },
   {
    "duration": 5,
    "start_time": "2023-03-20T09:28:54.926Z"
   },
   {
    "duration": 30,
    "start_time": "2023-03-20T09:28:54.932Z"
   },
   {
    "duration": 5,
    "start_time": "2023-03-20T09:28:54.964Z"
   },
   {
    "duration": 9,
    "start_time": "2023-03-20T09:28:54.970Z"
   },
   {
    "duration": 4,
    "start_time": "2023-03-20T09:28:54.980Z"
   },
   {
    "duration": 6,
    "start_time": "2023-03-20T09:28:54.986Z"
   },
   {
    "duration": 34,
    "start_time": "2023-03-20T09:28:54.993Z"
   },
   {
    "duration": 261,
    "start_time": "2023-03-20T09:31:43.299Z"
   },
   {
    "duration": 257,
    "start_time": "2023-03-20T09:31:59.998Z"
   },
   {
    "duration": 16,
    "start_time": "2023-03-20T09:37:10.059Z"
   },
   {
    "duration": 73,
    "start_time": "2023-03-20T10:13:06.318Z"
   },
   {
    "duration": 10,
    "start_time": "2023-03-20T10:13:09.396Z"
   },
   {
    "duration": 36,
    "start_time": "2023-03-20T10:13:09.899Z"
   },
   {
    "duration": 6,
    "start_time": "2023-03-20T10:17:26.561Z"
   },
   {
    "duration": 38,
    "start_time": "2023-03-20T10:17:27.071Z"
   },
   {
    "duration": 6,
    "start_time": "2023-03-20T10:22:29.944Z"
   },
   {
    "duration": 28,
    "start_time": "2023-03-20T10:22:42.729Z"
   },
   {
    "duration": 54,
    "start_time": "2023-03-20T11:17:51.106Z"
   },
   {
    "duration": 8,
    "start_time": "2023-03-20T11:39:16.314Z"
   },
   {
    "duration": 28,
    "start_time": "2023-03-20T14:19:22.366Z"
   },
   {
    "duration": 20,
    "start_time": "2023-03-20T14:19:47.140Z"
   },
   {
    "duration": 19,
    "start_time": "2023-03-20T14:19:51.918Z"
   },
   {
    "duration": 19,
    "start_time": "2023-03-20T14:20:01.805Z"
   },
   {
    "duration": 6,
    "start_time": "2023-03-20T14:22:16.023Z"
   },
   {
    "duration": 19,
    "start_time": "2023-03-20T14:22:27.251Z"
   },
   {
    "duration": 25,
    "start_time": "2023-03-20T14:22:45.332Z"
   },
   {
    "duration": 7,
    "start_time": "2023-03-20T14:22:46.106Z"
   },
   {
    "duration": 20,
    "start_time": "2023-03-20T14:22:47.251Z"
   },
   {
    "duration": 407,
    "start_time": "2023-03-20T14:34:23.946Z"
   },
   {
    "duration": 47,
    "start_time": "2023-03-20T14:34:24.355Z"
   },
   {
    "duration": 18,
    "start_time": "2023-03-20T14:34:24.403Z"
   },
   {
    "duration": 12,
    "start_time": "2023-03-20T14:34:24.422Z"
   },
   {
    "duration": 659,
    "start_time": "2023-03-20T14:34:24.436Z"
   },
   {
    "duration": 214,
    "start_time": "2023-03-20T14:34:25.096Z"
   },
   {
    "duration": 173,
    "start_time": "2023-03-20T14:34:25.311Z"
   },
   {
    "duration": 1099,
    "start_time": "2023-03-20T14:34:25.485Z"
   },
   {
    "duration": 141,
    "start_time": "2023-03-20T14:34:26.585Z"
   },
   {
    "duration": 20,
    "start_time": "2023-03-20T14:34:26.728Z"
   },
   {
    "duration": 16,
    "start_time": "2023-03-20T14:34:26.749Z"
   },
   {
    "duration": 12,
    "start_time": "2023-03-20T14:34:26.767Z"
   },
   {
    "duration": 20,
    "start_time": "2023-03-20T14:34:26.781Z"
   },
   {
    "duration": 4,
    "start_time": "2023-03-20T14:34:26.823Z"
   },
   {
    "duration": 9,
    "start_time": "2023-03-20T14:34:26.829Z"
   },
   {
    "duration": 14,
    "start_time": "2023-03-20T14:34:26.840Z"
   },
   {
    "duration": 7,
    "start_time": "2023-03-20T14:34:26.856Z"
   },
   {
    "duration": 11,
    "start_time": "2023-03-20T14:34:26.865Z"
   },
   {
    "duration": 23,
    "start_time": "2023-03-20T14:34:26.877Z"
   },
   {
    "duration": 6,
    "start_time": "2023-03-20T14:34:26.902Z"
   },
   {
    "duration": 144,
    "start_time": "2023-03-20T14:34:26.910Z"
   },
   {
    "duration": 11,
    "start_time": "2023-03-20T14:34:27.056Z"
   },
   {
    "duration": 293,
    "start_time": "2023-03-20T14:34:27.070Z"
   },
   {
    "duration": 10,
    "start_time": "2023-03-20T14:34:27.365Z"
   },
   {
    "duration": 8,
    "start_time": "2023-03-20T14:34:27.377Z"
   },
   {
    "duration": 12,
    "start_time": "2023-03-20T14:34:27.386Z"
   },
   {
    "duration": 108,
    "start_time": "2023-03-20T14:34:27.399Z"
   },
   {
    "duration": 16,
    "start_time": "2023-03-20T14:34:27.508Z"
   },
   {
    "duration": 43,
    "start_time": "2023-03-20T14:34:27.525Z"
   },
   {
    "duration": 24,
    "start_time": "2023-03-20T14:34:27.570Z"
   },
   {
    "duration": 38,
    "start_time": "2023-03-20T14:34:27.595Z"
   },
   {
    "duration": 67,
    "start_time": "2023-03-20T14:34:27.635Z"
   },
   {
    "duration": 0,
    "start_time": "2023-03-20T14:34:27.703Z"
   },
   {
    "duration": 0,
    "start_time": "2023-03-20T14:34:27.704Z"
   },
   {
    "duration": 0,
    "start_time": "2023-03-20T14:34:27.705Z"
   },
   {
    "duration": 55,
    "start_time": "2023-03-20T14:37:02.692Z"
   },
   {
    "duration": 406,
    "start_time": "2023-03-20T14:37:11.066Z"
   },
   {
    "duration": 67,
    "start_time": "2023-03-20T14:37:11.474Z"
   },
   {
    "duration": 30,
    "start_time": "2023-03-20T14:37:11.543Z"
   },
   {
    "duration": 19,
    "start_time": "2023-03-20T14:37:11.576Z"
   },
   {
    "duration": 717,
    "start_time": "2023-03-20T14:37:11.597Z"
   },
   {
    "duration": 260,
    "start_time": "2023-03-20T14:37:12.316Z"
   },
   {
    "duration": 189,
    "start_time": "2023-03-20T14:37:12.578Z"
   },
   {
    "duration": 1117,
    "start_time": "2023-03-20T14:37:12.769Z"
   },
   {
    "duration": 135,
    "start_time": "2023-03-20T14:37:13.889Z"
   },
   {
    "duration": 22,
    "start_time": "2023-03-20T14:37:14.028Z"
   },
   {
    "duration": 16,
    "start_time": "2023-03-20T14:37:14.052Z"
   },
   {
    "duration": 13,
    "start_time": "2023-03-20T14:37:14.070Z"
   },
   {
    "duration": 16,
    "start_time": "2023-03-20T14:37:14.084Z"
   },
   {
    "duration": 3,
    "start_time": "2023-03-20T14:37:14.124Z"
   },
   {
    "duration": 14,
    "start_time": "2023-03-20T14:37:14.129Z"
   },
   {
    "duration": 15,
    "start_time": "2023-03-20T14:37:14.144Z"
   },
   {
    "duration": 12,
    "start_time": "2023-03-20T14:37:14.161Z"
   },
   {
    "duration": 11,
    "start_time": "2023-03-20T14:37:14.175Z"
   },
   {
    "duration": 14,
    "start_time": "2023-03-20T14:37:14.187Z"
   },
   {
    "duration": 12,
    "start_time": "2023-03-20T14:37:14.203Z"
   },
   {
    "duration": 157,
    "start_time": "2023-03-20T14:37:14.216Z"
   },
   {
    "duration": 9,
    "start_time": "2023-03-20T14:37:14.375Z"
   },
   {
    "duration": 309,
    "start_time": "2023-03-20T14:37:14.386Z"
   },
   {
    "duration": 10,
    "start_time": "2023-03-20T14:37:14.697Z"
   },
   {
    "duration": 18,
    "start_time": "2023-03-20T14:37:14.709Z"
   },
   {
    "duration": 19,
    "start_time": "2023-03-20T14:37:14.729Z"
   },
   {
    "duration": 81,
    "start_time": "2023-03-20T14:37:14.751Z"
   },
   {
    "duration": 9,
    "start_time": "2023-03-20T14:37:14.836Z"
   },
   {
    "duration": 37,
    "start_time": "2023-03-20T14:37:14.847Z"
   },
   {
    "duration": 5,
    "start_time": "2023-03-20T14:37:14.886Z"
   },
   {
    "duration": 41,
    "start_time": "2023-03-20T14:37:14.892Z"
   },
   {
    "duration": 109,
    "start_time": "2023-03-20T14:37:14.936Z"
   },
   {
    "duration": 0,
    "start_time": "2023-03-20T14:37:15.047Z"
   },
   {
    "duration": 0,
    "start_time": "2023-03-20T14:37:15.049Z"
   },
   {
    "duration": 352,
    "start_time": "2023-03-20T14:37:44.258Z"
   },
   {
    "duration": 47,
    "start_time": "2023-03-20T14:37:44.612Z"
   },
   {
    "duration": 19,
    "start_time": "2023-03-20T14:37:44.661Z"
   },
   {
    "duration": 23,
    "start_time": "2023-03-20T14:37:44.682Z"
   },
   {
    "duration": 631,
    "start_time": "2023-03-20T14:37:44.707Z"
   },
   {
    "duration": 270,
    "start_time": "2023-03-20T14:37:45.339Z"
   },
   {
    "duration": 154,
    "start_time": "2023-03-20T14:37:45.610Z"
   },
   {
    "duration": 1013,
    "start_time": "2023-03-20T14:37:45.765Z"
   },
   {
    "duration": 156,
    "start_time": "2023-03-20T14:37:46.779Z"
   },
   {
    "duration": 19,
    "start_time": "2023-03-20T14:37:46.937Z"
   },
   {
    "duration": 19,
    "start_time": "2023-03-20T14:37:46.958Z"
   },
   {
    "duration": 13,
    "start_time": "2023-03-20T14:37:46.979Z"
   },
   {
    "duration": 31,
    "start_time": "2023-03-20T14:37:46.993Z"
   },
   {
    "duration": 11,
    "start_time": "2023-03-20T14:37:47.027Z"
   },
   {
    "duration": 9,
    "start_time": "2023-03-20T14:37:47.039Z"
   },
   {
    "duration": 10,
    "start_time": "2023-03-20T14:37:47.049Z"
   },
   {
    "duration": 10,
    "start_time": "2023-03-20T14:37:47.060Z"
   },
   {
    "duration": 7,
    "start_time": "2023-03-20T14:37:47.071Z"
   },
   {
    "duration": 22,
    "start_time": "2023-03-20T14:37:47.079Z"
   },
   {
    "duration": 6,
    "start_time": "2023-03-20T14:37:47.103Z"
   },
   {
    "duration": 120,
    "start_time": "2023-03-20T14:37:47.110Z"
   },
   {
    "duration": 8,
    "start_time": "2023-03-20T14:37:47.231Z"
   },
   {
    "duration": 256,
    "start_time": "2023-03-20T14:37:47.240Z"
   },
   {
    "duration": 11,
    "start_time": "2023-03-20T14:37:47.498Z"
   },
   {
    "duration": 19,
    "start_time": "2023-03-20T14:37:47.511Z"
   },
   {
    "duration": 15,
    "start_time": "2023-03-20T14:37:47.531Z"
   },
   {
    "duration": 89,
    "start_time": "2023-03-20T14:37:47.548Z"
   },
   {
    "duration": 7,
    "start_time": "2023-03-20T14:37:47.638Z"
   },
   {
    "duration": 37,
    "start_time": "2023-03-20T14:37:47.647Z"
   },
   {
    "duration": 5,
    "start_time": "2023-03-20T14:37:47.686Z"
   },
   {
    "duration": 48,
    "start_time": "2023-03-20T14:37:47.694Z"
   },
   {
    "duration": 8,
    "start_time": "2023-03-20T14:37:47.744Z"
   },
   {
    "duration": 10,
    "start_time": "2023-03-20T14:37:47.754Z"
   },
   {
    "duration": 35,
    "start_time": "2023-03-20T14:37:47.766Z"
   },
   {
    "duration": 29,
    "start_time": "2023-03-20T14:37:57.606Z"
   },
   {
    "duration": 78,
    "start_time": "2023-03-20T14:39:48.257Z"
   },
   {
    "duration": 32,
    "start_time": "2023-03-20T14:40:12.388Z"
   },
   {
    "duration": 25,
    "start_time": "2023-03-20T14:42:00.167Z"
   },
   {
    "duration": 11,
    "start_time": "2023-03-20T14:42:35.975Z"
   },
   {
    "duration": 24,
    "start_time": "2023-03-20T14:42:53.609Z"
   },
   {
    "duration": 46,
    "start_time": "2023-03-20T14:44:08.081Z"
   },
   {
    "duration": 30,
    "start_time": "2023-03-20T14:44:26.214Z"
   },
   {
    "duration": 25,
    "start_time": "2023-03-20T14:45:38.337Z"
   },
   {
    "duration": 24,
    "start_time": "2023-03-20T15:19:27.432Z"
   },
   {
    "duration": 22,
    "start_time": "2023-03-20T15:29:11.826Z"
   },
   {
    "duration": 27,
    "start_time": "2023-03-20T15:29:17.403Z"
   },
   {
    "duration": 232,
    "start_time": "2023-03-20T15:40:06.578Z"
   },
   {
    "duration": 95,
    "start_time": "2023-03-20T15:40:39.959Z"
   },
   {
    "duration": 85,
    "start_time": "2023-03-20T15:40:56.948Z"
   },
   {
    "duration": 10,
    "start_time": "2023-03-20T15:41:26.642Z"
   },
   {
    "duration": 145,
    "start_time": "2023-03-20T15:41:39.030Z"
   },
   {
    "duration": 204,
    "start_time": "2023-03-20T15:42:05.002Z"
   },
   {
    "duration": 28,
    "start_time": "2023-03-20T15:42:26.135Z"
   },
   {
    "duration": 17,
    "start_time": "2023-03-20T15:43:02.895Z"
   },
   {
    "duration": 25,
    "start_time": "2023-03-20T15:43:13.316Z"
   },
   {
    "duration": 6,
    "start_time": "2023-03-20T15:53:41.916Z"
   },
   {
    "duration": 10,
    "start_time": "2023-03-20T15:53:52.232Z"
   },
   {
    "duration": 198,
    "start_time": "2023-03-20T15:54:03.855Z"
   },
   {
    "duration": 91,
    "start_time": "2023-03-20T15:54:19.663Z"
   },
   {
    "duration": 86,
    "start_time": "2023-03-20T15:54:27.101Z"
   },
   {
    "duration": 21,
    "start_time": "2023-03-20T15:54:56.283Z"
   },
   {
    "duration": 85,
    "start_time": "2023-03-20T15:56:17.515Z"
   },
   {
    "duration": 94,
    "start_time": "2023-03-20T15:58:06.105Z"
   },
   {
    "duration": 5,
    "start_time": "2023-03-20T16:05:24.811Z"
   },
   {
    "duration": 97,
    "start_time": "2023-03-20T16:05:28.151Z"
   },
   {
    "duration": 6,
    "start_time": "2023-03-20T16:05:32.074Z"
   },
   {
    "duration": 84,
    "start_time": "2023-03-20T16:05:32.591Z"
   },
   {
    "duration": 83,
    "start_time": "2023-03-20T16:05:38.962Z"
   },
   {
    "duration": 139,
    "start_time": "2023-03-20T16:05:43.772Z"
   },
   {
    "duration": 98,
    "start_time": "2023-03-20T16:06:07.634Z"
   },
   {
    "duration": 84,
    "start_time": "2023-03-20T16:06:14.911Z"
   },
   {
    "duration": 81,
    "start_time": "2023-03-20T16:06:17.986Z"
   },
   {
    "duration": 83,
    "start_time": "2023-03-20T16:06:20.023Z"
   },
   {
    "duration": 85,
    "start_time": "2023-03-20T16:06:57.169Z"
   },
   {
    "duration": 82,
    "start_time": "2023-03-20T16:07:02.855Z"
   },
   {
    "duration": 88,
    "start_time": "2023-03-20T16:07:20.371Z"
   },
   {
    "duration": 128,
    "start_time": "2023-03-20T16:26:41.651Z"
   },
   {
    "duration": 118,
    "start_time": "2023-03-20T16:26:44.613Z"
   },
   {
    "duration": 117,
    "start_time": "2023-03-20T16:27:30.492Z"
   },
   {
    "duration": 5,
    "start_time": "2023-03-20T16:28:36.638Z"
   },
   {
    "duration": 4,
    "start_time": "2023-03-20T16:28:44.865Z"
   },
   {
    "duration": 5,
    "start_time": "2023-03-20T16:32:30.007Z"
   },
   {
    "duration": 190,
    "start_time": "2023-03-20T16:32:46.947Z"
   },
   {
    "duration": 135,
    "start_time": "2023-03-20T16:32:49.356Z"
   },
   {
    "duration": 173,
    "start_time": "2023-03-20T16:33:02.535Z"
   },
   {
    "duration": 147,
    "start_time": "2023-03-20T16:33:16.479Z"
   },
   {
    "duration": 152,
    "start_time": "2023-03-20T16:33:50.892Z"
   },
   {
    "duration": 143,
    "start_time": "2023-03-20T16:34:06.335Z"
   },
   {
    "duration": 161,
    "start_time": "2023-03-20T16:34:19.759Z"
   },
   {
    "duration": 7,
    "start_time": "2023-03-20T16:35:36.865Z"
   },
   {
    "duration": 6,
    "start_time": "2023-03-20T16:35:54.935Z"
   },
   {
    "duration": 403,
    "start_time": "2023-03-20T21:18:22.003Z"
   },
   {
    "duration": 130,
    "start_time": "2023-03-20T21:18:22.408Z"
   },
   {
    "duration": 19,
    "start_time": "2023-03-20T21:18:22.540Z"
   },
   {
    "duration": 20,
    "start_time": "2023-03-20T21:18:22.561Z"
   },
   {
    "duration": 955,
    "start_time": "2023-03-20T21:18:22.583Z"
   },
   {
    "duration": 268,
    "start_time": "2023-03-20T21:18:23.539Z"
   },
   {
    "duration": 257,
    "start_time": "2023-03-20T21:18:23.809Z"
   },
   {
    "duration": 1214,
    "start_time": "2023-03-20T21:18:24.067Z"
   },
   {
    "duration": 180,
    "start_time": "2023-03-20T21:18:25.283Z"
   },
   {
    "duration": 42,
    "start_time": "2023-03-20T21:18:25.465Z"
   },
   {
    "duration": 19,
    "start_time": "2023-03-20T21:18:25.509Z"
   },
   {
    "duration": 17,
    "start_time": "2023-03-20T21:18:25.530Z"
   },
   {
    "duration": 40,
    "start_time": "2023-03-20T21:18:25.549Z"
   },
   {
    "duration": 6,
    "start_time": "2023-03-20T21:18:25.594Z"
   },
   {
    "duration": 14,
    "start_time": "2023-03-20T21:18:25.601Z"
   },
   {
    "duration": 10,
    "start_time": "2023-03-20T21:18:25.617Z"
   },
   {
    "duration": 5,
    "start_time": "2023-03-20T21:18:25.628Z"
   },
   {
    "duration": 8,
    "start_time": "2023-03-20T21:18:25.635Z"
   },
   {
    "duration": 18,
    "start_time": "2023-03-20T21:18:25.644Z"
   },
   {
    "duration": 8,
    "start_time": "2023-03-20T21:18:25.664Z"
   },
   {
    "duration": 171,
    "start_time": "2023-03-20T21:18:25.673Z"
   },
   {
    "duration": 8,
    "start_time": "2023-03-20T21:18:25.847Z"
   },
   {
    "duration": 316,
    "start_time": "2023-03-20T21:18:25.857Z"
   },
   {
    "duration": 21,
    "start_time": "2023-03-20T21:18:26.178Z"
   },
   {
    "duration": 12,
    "start_time": "2023-03-20T21:18:26.201Z"
   },
   {
    "duration": 16,
    "start_time": "2023-03-20T21:18:26.215Z"
   },
   {
    "duration": 117,
    "start_time": "2023-03-20T21:18:26.232Z"
   },
   {
    "duration": 7,
    "start_time": "2023-03-20T21:18:26.350Z"
   },
   {
    "duration": 56,
    "start_time": "2023-03-20T21:18:26.359Z"
   },
   {
    "duration": 9,
    "start_time": "2023-03-20T21:18:26.416Z"
   },
   {
    "duration": 29,
    "start_time": "2023-03-20T21:18:26.426Z"
   },
   {
    "duration": 22,
    "start_time": "2023-03-20T21:18:26.458Z"
   },
   {
    "duration": 9,
    "start_time": "2023-03-20T21:18:26.482Z"
   },
   {
    "duration": 41,
    "start_time": "2023-03-20T21:18:26.492Z"
   },
   {
    "duration": 5,
    "start_time": "2023-03-20T21:18:26.535Z"
   },
   {
    "duration": 118,
    "start_time": "2023-03-20T21:18:26.541Z"
   },
   {
    "duration": 128,
    "start_time": "2023-03-20T21:18:26.661Z"
   },
   {
    "duration": 117,
    "start_time": "2023-03-20T21:18:26.791Z"
   },
   {
    "duration": 214,
    "start_time": "2023-03-20T21:18:26.910Z"
   },
   {
    "duration": 116,
    "start_time": "2023-03-20T21:18:27.125Z"
   },
   {
    "duration": 125,
    "start_time": "2023-03-20T21:18:27.245Z"
   },
   {
    "duration": 168,
    "start_time": "2023-03-20T21:18:27.373Z"
   },
   {
    "duration": 146,
    "start_time": "2023-03-20T21:18:27.542Z"
   },
   {
    "duration": 11,
    "start_time": "2023-03-20T21:18:27.694Z"
   },
   {
    "duration": 8,
    "start_time": "2023-03-20T21:18:27.706Z"
   },
   {
    "duration": 7,
    "start_time": "2023-03-20T21:18:27.716Z"
   },
   {
    "duration": 218,
    "start_time": "2023-03-20T21:18:27.724Z"
   },
   {
    "duration": 8,
    "start_time": "2023-03-20T21:18:27.944Z"
   },
   {
    "duration": 100,
    "start_time": "2023-03-20T21:22:18.038Z"
   },
   {
    "duration": 18,
    "start_time": "2023-03-20T21:24:04.665Z"
   },
   {
    "duration": 5,
    "start_time": "2023-03-20T21:25:31.506Z"
   },
   {
    "duration": 19,
    "start_time": "2023-03-20T21:25:37.717Z"
   },
   {
    "duration": 19,
    "start_time": "2023-03-20T21:25:59.790Z"
   },
   {
    "duration": 4,
    "start_time": "2023-03-20T21:26:08.056Z"
   },
   {
    "duration": 5,
    "start_time": "2023-03-20T21:26:44.289Z"
   },
   {
    "duration": 7,
    "start_time": "2023-03-20T21:26:48.586Z"
   },
   {
    "duration": 8,
    "start_time": "2023-03-20T21:27:00.541Z"
   },
   {
    "duration": 7,
    "start_time": "2023-03-20T21:27:06.898Z"
   },
   {
    "duration": 7,
    "start_time": "2023-03-20T21:27:12.324Z"
   },
   {
    "duration": 7,
    "start_time": "2023-03-20T21:27:30.516Z"
   },
   {
    "duration": 7,
    "start_time": "2023-03-20T21:27:43.556Z"
   },
   {
    "duration": 7,
    "start_time": "2023-03-20T21:37:28.361Z"
   },
   {
    "duration": 7,
    "start_time": "2023-03-20T21:37:46.841Z"
   },
   {
    "duration": 15,
    "start_time": "2023-03-20T21:37:52.971Z"
   },
   {
    "duration": 16,
    "start_time": "2023-03-20T21:39:34.670Z"
   },
   {
    "duration": 19,
    "start_time": "2023-03-20T21:39:39.989Z"
   },
   {
    "duration": 7,
    "start_time": "2023-03-20T21:39:42.931Z"
   },
   {
    "duration": 9,
    "start_time": "2023-03-20T21:39:57.602Z"
   },
   {
    "duration": 8,
    "start_time": "2023-03-20T21:40:15.457Z"
   },
   {
    "duration": 8,
    "start_time": "2023-03-20T21:54:46.445Z"
   },
   {
    "duration": 557,
    "start_time": "2023-03-20T22:01:55.334Z"
   },
   {
    "duration": 5,
    "start_time": "2023-03-20T22:10:00.839Z"
   },
   {
    "duration": 7,
    "start_time": "2023-03-20T22:10:05.925Z"
   },
   {
    "duration": 5,
    "start_time": "2023-03-20T22:10:06.444Z"
   },
   {
    "duration": 5,
    "start_time": "2023-03-20T22:10:30.467Z"
   },
   {
    "duration": 868,
    "start_time": "2023-03-20T22:10:41.866Z"
   },
   {
    "duration": 62,
    "start_time": "2023-03-20T22:10:42.736Z"
   },
   {
    "duration": 20,
    "start_time": "2023-03-20T22:10:42.801Z"
   },
   {
    "duration": 14,
    "start_time": "2023-03-20T22:10:42.823Z"
   },
   {
    "duration": 801,
    "start_time": "2023-03-20T22:10:42.839Z"
   },
   {
    "duration": 255,
    "start_time": "2023-03-20T22:10:43.642Z"
   },
   {
    "duration": 166,
    "start_time": "2023-03-20T22:10:43.900Z"
   },
   {
    "duration": 1199,
    "start_time": "2023-03-20T22:10:44.067Z"
   },
   {
    "duration": 162,
    "start_time": "2023-03-20T22:10:45.267Z"
   },
   {
    "duration": 17,
    "start_time": "2023-03-20T22:10:45.431Z"
   },
   {
    "duration": 46,
    "start_time": "2023-03-20T22:10:45.450Z"
   },
   {
    "duration": 18,
    "start_time": "2023-03-20T22:10:45.498Z"
   },
   {
    "duration": 26,
    "start_time": "2023-03-20T22:10:45.518Z"
   },
   {
    "duration": 4,
    "start_time": "2023-03-20T22:10:45.549Z"
   },
   {
    "duration": 57,
    "start_time": "2023-03-20T22:10:45.555Z"
   },
   {
    "duration": 11,
    "start_time": "2023-03-20T22:10:45.615Z"
   },
   {
    "duration": 11,
    "start_time": "2023-03-20T22:10:45.629Z"
   },
   {
    "duration": 10,
    "start_time": "2023-03-20T22:10:45.642Z"
   },
   {
    "duration": 20,
    "start_time": "2023-03-20T22:10:45.657Z"
   },
   {
    "duration": 46,
    "start_time": "2023-03-20T22:10:45.681Z"
   },
   {
    "duration": 156,
    "start_time": "2023-03-20T22:10:45.730Z"
   },
   {
    "duration": 11,
    "start_time": "2023-03-20T22:10:45.888Z"
   },
   {
    "duration": 317,
    "start_time": "2023-03-20T22:10:45.901Z"
   },
   {
    "duration": 12,
    "start_time": "2023-03-20T22:10:46.220Z"
   },
   {
    "duration": 29,
    "start_time": "2023-03-20T22:10:46.234Z"
   },
   {
    "duration": 23,
    "start_time": "2023-03-20T22:10:46.265Z"
   },
   {
    "duration": 144,
    "start_time": "2023-03-20T22:10:46.289Z"
   },
   {
    "duration": 106,
    "start_time": "2023-03-20T22:10:46.436Z"
   },
   {
    "duration": 50,
    "start_time": "2023-03-20T22:10:46.544Z"
   },
   {
    "duration": 9,
    "start_time": "2023-03-20T22:10:46.596Z"
   },
   {
    "duration": 30,
    "start_time": "2023-03-20T22:10:46.607Z"
   },
   {
    "duration": 7,
    "start_time": "2023-03-20T22:10:46.638Z"
   },
   {
    "duration": 9,
    "start_time": "2023-03-20T22:10:46.646Z"
   },
   {
    "duration": 52,
    "start_time": "2023-03-20T22:10:46.657Z"
   },
   {
    "duration": 6,
    "start_time": "2023-03-20T22:10:46.711Z"
   },
   {
    "duration": 121,
    "start_time": "2023-03-20T22:10:46.718Z"
   },
   {
    "duration": 115,
    "start_time": "2023-03-20T22:10:46.841Z"
   },
   {
    "duration": 110,
    "start_time": "2023-03-20T22:10:46.958Z"
   },
   {
    "duration": 121,
    "start_time": "2023-03-20T22:10:47.073Z"
   },
   {
    "duration": 115,
    "start_time": "2023-03-20T22:10:47.197Z"
   },
   {
    "duration": 120,
    "start_time": "2023-03-20T22:10:47.317Z"
   },
   {
    "duration": 152,
    "start_time": "2023-03-20T22:10:47.438Z"
   },
   {
    "duration": 128,
    "start_time": "2023-03-20T22:10:47.592Z"
   },
   {
    "duration": 5,
    "start_time": "2023-03-20T22:10:47.722Z"
   },
   {
    "duration": 9,
    "start_time": "2023-03-20T22:10:47.729Z"
   },
   {
    "duration": 6,
    "start_time": "2023-03-20T22:10:47.740Z"
   },
   {
    "duration": 214,
    "start_time": "2023-03-20T22:10:47.747Z"
   },
   {
    "duration": 24,
    "start_time": "2023-03-20T22:10:47.962Z"
   },
   {
    "duration": 16,
    "start_time": "2023-03-20T22:10:47.988Z"
   },
   {
    "duration": 10,
    "start_time": "2023-03-20T22:10:48.006Z"
   },
   {
    "duration": 8,
    "start_time": "2023-03-20T22:10:48.018Z"
   },
   {
    "duration": 7,
    "start_time": "2023-03-20T22:10:48.028Z"
   },
   {
    "duration": 7,
    "start_time": "2023-03-20T22:10:48.037Z"
   },
   {
    "duration": 9,
    "start_time": "2023-03-20T22:10:48.045Z"
   },
   {
    "duration": 12,
    "start_time": "2023-03-20T22:10:48.077Z"
   },
   {
    "duration": 8,
    "start_time": "2023-03-20T22:10:48.091Z"
   },
   {
    "duration": 7,
    "start_time": "2023-03-20T22:10:48.101Z"
   },
   {
    "duration": 10,
    "start_time": "2023-03-20T22:10:48.110Z"
   },
   {
    "duration": 13,
    "start_time": "2023-03-20T22:10:48.121Z"
   },
   {
    "duration": 7,
    "start_time": "2023-03-20T22:10:48.136Z"
   },
   {
    "duration": 6,
    "start_time": "2023-03-20T22:12:19.798Z"
   },
   {
    "duration": 5,
    "start_time": "2023-03-20T22:12:54.319Z"
   },
   {
    "duration": 7,
    "start_time": "2023-03-20T22:13:06.551Z"
   },
   {
    "duration": 5,
    "start_time": "2023-03-20T22:13:11.914Z"
   },
   {
    "duration": 6,
    "start_time": "2023-03-20T22:13:23.409Z"
   },
   {
    "duration": 6,
    "start_time": "2023-03-20T22:13:29.422Z"
   },
   {
    "duration": 6,
    "start_time": "2023-03-20T22:16:40.996Z"
   },
   {
    "duration": 117,
    "start_time": "2023-03-20T22:17:35.346Z"
   },
   {
    "duration": 8,
    "start_time": "2023-03-20T22:17:59.951Z"
   },
   {
    "duration": 15,
    "start_time": "2023-03-20T22:19:56.788Z"
   },
   {
    "duration": 7,
    "start_time": "2023-03-20T22:20:19.649Z"
   },
   {
    "duration": 815,
    "start_time": "2023-03-21T00:15:52.189Z"
   },
   {
    "duration": 201,
    "start_time": "2023-03-21T00:15:53.006Z"
   },
   {
    "duration": 22,
    "start_time": "2023-03-21T00:15:53.208Z"
   },
   {
    "duration": 16,
    "start_time": "2023-03-21T00:15:53.232Z"
   },
   {
    "duration": 925,
    "start_time": "2023-03-21T00:15:53.251Z"
   },
   {
    "duration": 229,
    "start_time": "2023-03-21T00:15:54.178Z"
   },
   {
    "duration": 173,
    "start_time": "2023-03-21T00:15:54.410Z"
   },
   {
    "duration": 1063,
    "start_time": "2023-03-21T00:15:54.585Z"
   },
   {
    "duration": 133,
    "start_time": "2023-03-21T00:15:55.650Z"
   },
   {
    "duration": 16,
    "start_time": "2023-03-21T00:15:55.784Z"
   },
   {
    "duration": 13,
    "start_time": "2023-03-21T00:15:55.801Z"
   },
   {
    "duration": 14,
    "start_time": "2023-03-21T00:15:55.815Z"
   },
   {
    "duration": 39,
    "start_time": "2023-03-21T00:15:55.830Z"
   },
   {
    "duration": 7,
    "start_time": "2023-03-21T00:15:55.872Z"
   },
   {
    "duration": 18,
    "start_time": "2023-03-21T00:15:55.880Z"
   },
   {
    "duration": 13,
    "start_time": "2023-03-21T00:15:55.900Z"
   },
   {
    "duration": 11,
    "start_time": "2023-03-21T00:15:55.915Z"
   },
   {
    "duration": 40,
    "start_time": "2023-03-21T00:15:55.928Z"
   },
   {
    "duration": 14,
    "start_time": "2023-03-21T00:15:55.969Z"
   },
   {
    "duration": 7,
    "start_time": "2023-03-21T00:15:55.985Z"
   },
   {
    "duration": 139,
    "start_time": "2023-03-21T00:15:55.994Z"
   },
   {
    "duration": 8,
    "start_time": "2023-03-21T00:15:56.135Z"
   },
   {
    "duration": 373,
    "start_time": "2023-03-21T00:15:56.145Z"
   },
   {
    "duration": 11,
    "start_time": "2023-03-21T00:15:56.520Z"
   },
   {
    "duration": 13,
    "start_time": "2023-03-21T00:15:56.533Z"
   },
   {
    "duration": 12,
    "start_time": "2023-03-21T00:15:56.562Z"
   },
   {
    "duration": 98,
    "start_time": "2023-03-21T00:15:56.576Z"
   },
   {
    "duration": 6,
    "start_time": "2023-03-21T00:15:56.675Z"
   },
   {
    "duration": 33,
    "start_time": "2023-03-21T00:15:56.683Z"
   },
   {
    "duration": 8,
    "start_time": "2023-03-21T00:15:56.717Z"
   },
   {
    "duration": 48,
    "start_time": "2023-03-21T00:15:56.727Z"
   },
   {
    "duration": 6,
    "start_time": "2023-03-21T00:15:56.777Z"
   },
   {
    "duration": 7,
    "start_time": "2023-03-21T00:15:56.785Z"
   },
   {
    "duration": 27,
    "start_time": "2023-03-21T00:15:56.794Z"
   },
   {
    "duration": 6,
    "start_time": "2023-03-21T00:15:56.822Z"
   },
   {
    "duration": 128,
    "start_time": "2023-03-21T00:15:56.829Z"
   },
   {
    "duration": 102,
    "start_time": "2023-03-21T00:15:56.961Z"
   },
   {
    "duration": 103,
    "start_time": "2023-03-21T00:15:57.065Z"
   },
   {
    "duration": 107,
    "start_time": "2023-03-21T00:15:57.170Z"
   },
   {
    "duration": 106,
    "start_time": "2023-03-21T00:15:57.279Z"
   },
   {
    "duration": 112,
    "start_time": "2023-03-21T00:15:57.389Z"
   },
   {
    "duration": 136,
    "start_time": "2023-03-21T00:15:57.502Z"
   },
   {
    "duration": 123,
    "start_time": "2023-03-21T00:15:57.640Z"
   },
   {
    "duration": 5,
    "start_time": "2023-03-21T00:15:57.764Z"
   },
   {
    "duration": 6,
    "start_time": "2023-03-21T00:15:57.771Z"
   },
   {
    "duration": 5,
    "start_time": "2023-03-21T00:15:57.779Z"
   },
   {
    "duration": 204,
    "start_time": "2023-03-21T00:15:57.786Z"
   },
   {
    "duration": 7,
    "start_time": "2023-03-21T00:15:57.992Z"
   },
   {
    "duration": 20,
    "start_time": "2023-03-21T00:15:58.000Z"
   },
   {
    "duration": 8,
    "start_time": "2023-03-21T00:15:58.022Z"
   },
   {
    "duration": 32,
    "start_time": "2023-03-21T00:15:58.031Z"
   },
   {
    "duration": 7,
    "start_time": "2023-03-21T00:15:58.065Z"
   },
   {
    "duration": 7,
    "start_time": "2023-03-21T00:15:58.073Z"
   },
   {
    "duration": 7,
    "start_time": "2023-03-21T00:15:58.082Z"
   },
   {
    "duration": 7,
    "start_time": "2023-03-21T00:15:58.090Z"
   },
   {
    "duration": 9,
    "start_time": "2023-03-21T00:15:58.098Z"
   },
   {
    "duration": 10,
    "start_time": "2023-03-21T00:15:58.109Z"
   },
   {
    "duration": 42,
    "start_time": "2023-03-21T00:15:58.120Z"
   },
   {
    "duration": 99,
    "start_time": "2023-03-21T00:15:58.165Z"
   },
   {
    "duration": 6,
    "start_time": "2023-03-21T00:15:58.266Z"
   },
   {
    "duration": 18,
    "start_time": "2023-03-21T00:15:58.274Z"
   },
   {
    "duration": 53,
    "start_time": "2023-03-21T00:47:22.978Z"
   },
   {
    "duration": 8,
    "start_time": "2023-03-21T02:18:46.377Z"
   },
   {
    "duration": 7,
    "start_time": "2023-03-21T02:18:53.835Z"
   },
   {
    "duration": 11,
    "start_time": "2023-03-21T02:19:50.160Z"
   },
   {
    "duration": 10,
    "start_time": "2023-03-21T02:20:04.467Z"
   },
   {
    "duration": 15,
    "start_time": "2023-03-21T02:20:29.852Z"
   },
   {
    "duration": 10,
    "start_time": "2023-03-21T02:20:48.101Z"
   },
   {
    "duration": 11,
    "start_time": "2023-03-21T02:43:44.415Z"
   },
   {
    "duration": 13,
    "start_time": "2023-03-21T02:44:44.004Z"
   },
   {
    "duration": 860,
    "start_time": "2023-03-22T07:32:12.365Z"
   },
   {
    "duration": 51,
    "start_time": "2023-03-22T07:32:13.227Z"
   },
   {
    "duration": 20,
    "start_time": "2023-03-22T07:32:13.279Z"
   },
   {
    "duration": 17,
    "start_time": "2023-03-22T07:32:13.300Z"
   },
   {
    "duration": 736,
    "start_time": "2023-03-22T07:32:13.319Z"
   },
   {
    "duration": 217,
    "start_time": "2023-03-22T07:32:14.057Z"
   },
   {
    "duration": 160,
    "start_time": "2023-03-22T07:32:14.276Z"
   },
   {
    "duration": 1154,
    "start_time": "2023-03-22T07:32:14.438Z"
   },
   {
    "duration": 130,
    "start_time": "2023-03-22T07:32:15.594Z"
   },
   {
    "duration": 17,
    "start_time": "2023-03-22T07:32:15.726Z"
   },
   {
    "duration": 17,
    "start_time": "2023-03-22T07:32:15.744Z"
   },
   {
    "duration": 13,
    "start_time": "2023-03-22T07:32:15.774Z"
   },
   {
    "duration": 27,
    "start_time": "2023-03-22T07:32:15.789Z"
   },
   {
    "duration": 3,
    "start_time": "2023-03-22T07:32:15.819Z"
   },
   {
    "duration": 12,
    "start_time": "2023-03-22T07:32:15.823Z"
   },
   {
    "duration": 13,
    "start_time": "2023-03-22T07:32:15.836Z"
   },
   {
    "duration": 17,
    "start_time": "2023-03-22T07:32:15.851Z"
   },
   {
    "duration": 8,
    "start_time": "2023-03-22T07:32:15.870Z"
   },
   {
    "duration": 21,
    "start_time": "2023-03-22T07:32:15.879Z"
   },
   {
    "duration": 9,
    "start_time": "2023-03-22T07:32:15.902Z"
   },
   {
    "duration": 129,
    "start_time": "2023-03-22T07:32:15.912Z"
   },
   {
    "duration": 9,
    "start_time": "2023-03-22T07:32:16.042Z"
   },
   {
    "duration": 300,
    "start_time": "2023-03-22T07:32:16.052Z"
   },
   {
    "duration": 10,
    "start_time": "2023-03-22T07:32:16.354Z"
   },
   {
    "duration": 18,
    "start_time": "2023-03-22T07:32:16.365Z"
   },
   {
    "duration": 14,
    "start_time": "2023-03-22T07:32:16.385Z"
   },
   {
    "duration": 115,
    "start_time": "2023-03-22T07:32:16.400Z"
   },
   {
    "duration": 90,
    "start_time": "2023-03-22T07:32:16.517Z"
   },
   {
    "duration": 32,
    "start_time": "2023-03-22T07:32:16.609Z"
   },
   {
    "duration": 5,
    "start_time": "2023-03-22T07:32:16.643Z"
   },
   {
    "duration": 41,
    "start_time": "2023-03-22T07:32:16.650Z"
   },
   {
    "duration": 7,
    "start_time": "2023-03-22T07:32:16.692Z"
   },
   {
    "duration": 21,
    "start_time": "2023-03-22T07:32:16.701Z"
   },
   {
    "duration": 46,
    "start_time": "2023-03-22T07:32:16.723Z"
   },
   {
    "duration": 5,
    "start_time": "2023-03-22T07:32:16.771Z"
   },
   {
    "duration": 109,
    "start_time": "2023-03-22T07:32:16.777Z"
   },
   {
    "duration": 100,
    "start_time": "2023-03-22T07:32:16.887Z"
   },
   {
    "duration": 106,
    "start_time": "2023-03-22T07:32:16.989Z"
   },
   {
    "duration": 113,
    "start_time": "2023-03-22T07:32:17.096Z"
   },
   {
    "duration": 107,
    "start_time": "2023-03-22T07:32:17.210Z"
   },
   {
    "duration": 121,
    "start_time": "2023-03-22T07:32:17.321Z"
   },
   {
    "duration": 85,
    "start_time": "2023-03-22T07:32:17.443Z"
   },
   {
    "duration": 0,
    "start_time": "2023-03-22T07:32:17.530Z"
   },
   {
    "duration": 0,
    "start_time": "2023-03-22T07:32:17.532Z"
   },
   {
    "duration": 0,
    "start_time": "2023-03-22T07:32:17.533Z"
   },
   {
    "duration": 0,
    "start_time": "2023-03-22T07:32:17.534Z"
   },
   {
    "duration": 0,
    "start_time": "2023-03-22T07:32:17.535Z"
   },
   {
    "duration": 0,
    "start_time": "2023-03-22T07:32:17.536Z"
   },
   {
    "duration": 0,
    "start_time": "2023-03-22T07:32:17.536Z"
   },
   {
    "duration": 0,
    "start_time": "2023-03-22T07:32:17.537Z"
   },
   {
    "duration": 0,
    "start_time": "2023-03-22T07:32:17.539Z"
   },
   {
    "duration": 0,
    "start_time": "2023-03-22T07:32:17.540Z"
   },
   {
    "duration": 0,
    "start_time": "2023-03-22T07:32:17.541Z"
   },
   {
    "duration": 0,
    "start_time": "2023-03-22T07:32:17.543Z"
   },
   {
    "duration": 0,
    "start_time": "2023-03-22T07:32:17.544Z"
   },
   {
    "duration": 0,
    "start_time": "2023-03-22T07:32:17.546Z"
   },
   {
    "duration": 0,
    "start_time": "2023-03-22T07:32:17.547Z"
   },
   {
    "duration": 0,
    "start_time": "2023-03-22T07:32:17.548Z"
   },
   {
    "duration": 0,
    "start_time": "2023-03-22T07:32:17.549Z"
   },
   {
    "duration": 0,
    "start_time": "2023-03-22T07:32:17.550Z"
   },
   {
    "duration": 0,
    "start_time": "2023-03-22T07:32:17.551Z"
   },
   {
    "duration": 766,
    "start_time": "2023-03-22T10:08:01.716Z"
   },
   {
    "duration": 194,
    "start_time": "2023-03-22T10:08:02.484Z"
   },
   {
    "duration": 18,
    "start_time": "2023-03-22T10:08:02.680Z"
   },
   {
    "duration": 34,
    "start_time": "2023-03-22T10:08:02.699Z"
   },
   {
    "duration": 737,
    "start_time": "2023-03-22T10:08:02.735Z"
   },
   {
    "duration": 184,
    "start_time": "2023-03-22T10:08:03.474Z"
   },
   {
    "duration": 143,
    "start_time": "2023-03-22T10:08:03.660Z"
   },
   {
    "duration": 920,
    "start_time": "2023-03-22T10:08:03.804Z"
   },
   {
    "duration": 118,
    "start_time": "2023-03-22T10:08:04.725Z"
   },
   {
    "duration": 13,
    "start_time": "2023-03-22T10:08:04.844Z"
   },
   {
    "duration": 20,
    "start_time": "2023-03-22T10:08:04.858Z"
   },
   {
    "duration": 12,
    "start_time": "2023-03-22T10:08:04.879Z"
   },
   {
    "duration": 12,
    "start_time": "2023-03-22T10:08:04.892Z"
   },
   {
    "duration": 3,
    "start_time": "2023-03-22T10:08:04.907Z"
   },
   {
    "duration": 3,
    "start_time": "2023-03-22T10:08:04.912Z"
   },
   {
    "duration": 16,
    "start_time": "2023-03-22T10:08:04.917Z"
   },
   {
    "duration": 4,
    "start_time": "2023-03-22T10:08:04.935Z"
   },
   {
    "duration": 5,
    "start_time": "2023-03-22T10:08:04.940Z"
   },
   {
    "duration": 30,
    "start_time": "2023-03-22T10:08:04.946Z"
   },
   {
    "duration": 5,
    "start_time": "2023-03-22T10:08:04.978Z"
   },
   {
    "duration": 126,
    "start_time": "2023-03-22T10:08:04.985Z"
   },
   {
    "duration": 7,
    "start_time": "2023-03-22T10:08:05.112Z"
   },
   {
    "duration": 296,
    "start_time": "2023-03-22T10:08:05.120Z"
   },
   {
    "duration": 9,
    "start_time": "2023-03-22T10:08:05.418Z"
   },
   {
    "duration": 7,
    "start_time": "2023-03-22T10:08:05.428Z"
   },
   {
    "duration": 32,
    "start_time": "2023-03-22T10:08:05.437Z"
   },
   {
    "duration": 69,
    "start_time": "2023-03-22T10:08:05.471Z"
   },
   {
    "duration": 6,
    "start_time": "2023-03-22T10:08:05.542Z"
   },
   {
    "duration": 40,
    "start_time": "2023-03-22T10:08:05.549Z"
   },
   {
    "duration": 5,
    "start_time": "2023-03-22T10:08:05.590Z"
   },
   {
    "duration": 22,
    "start_time": "2023-03-22T10:08:05.596Z"
   },
   {
    "duration": 5,
    "start_time": "2023-03-22T10:08:05.619Z"
   },
   {
    "duration": 19,
    "start_time": "2023-03-22T10:08:05.626Z"
   },
   {
    "duration": 28,
    "start_time": "2023-03-22T10:08:05.646Z"
   },
   {
    "duration": 4,
    "start_time": "2023-03-22T10:08:05.675Z"
   },
   {
    "duration": 107,
    "start_time": "2023-03-22T10:08:05.680Z"
   },
   {
    "duration": 98,
    "start_time": "2023-03-22T10:08:05.789Z"
   },
   {
    "duration": 88,
    "start_time": "2023-03-22T10:08:05.889Z"
   },
   {
    "duration": 91,
    "start_time": "2023-03-22T10:08:05.979Z"
   },
   {
    "duration": 88,
    "start_time": "2023-03-22T10:08:06.071Z"
   },
   {
    "duration": 91,
    "start_time": "2023-03-22T10:08:06.168Z"
   },
   {
    "duration": 48,
    "start_time": "2023-03-22T10:08:06.269Z"
   },
   {
    "duration": 0,
    "start_time": "2023-03-22T10:08:06.319Z"
   },
   {
    "duration": 0,
    "start_time": "2023-03-22T10:08:06.320Z"
   },
   {
    "duration": 0,
    "start_time": "2023-03-22T10:08:06.321Z"
   },
   {
    "duration": 0,
    "start_time": "2023-03-22T10:08:06.322Z"
   },
   {
    "duration": 0,
    "start_time": "2023-03-22T10:08:06.324Z"
   },
   {
    "duration": 0,
    "start_time": "2023-03-22T10:08:06.324Z"
   },
   {
    "duration": 0,
    "start_time": "2023-03-22T10:08:06.325Z"
   },
   {
    "duration": 0,
    "start_time": "2023-03-22T10:08:06.326Z"
   },
   {
    "duration": 0,
    "start_time": "2023-03-22T10:08:06.327Z"
   },
   {
    "duration": 0,
    "start_time": "2023-03-22T10:08:06.328Z"
   },
   {
    "duration": 0,
    "start_time": "2023-03-22T10:08:06.329Z"
   },
   {
    "duration": 0,
    "start_time": "2023-03-22T10:08:06.330Z"
   },
   {
    "duration": 0,
    "start_time": "2023-03-22T10:08:06.331Z"
   },
   {
    "duration": 0,
    "start_time": "2023-03-22T10:08:06.332Z"
   },
   {
    "duration": 1,
    "start_time": "2023-03-22T10:08:06.333Z"
   },
   {
    "duration": 0,
    "start_time": "2023-03-22T10:08:06.335Z"
   },
   {
    "duration": 0,
    "start_time": "2023-03-22T10:08:06.336Z"
   },
   {
    "duration": 0,
    "start_time": "2023-03-22T10:08:06.337Z"
   },
   {
    "duration": 0,
    "start_time": "2023-03-22T10:08:06.338Z"
   },
   {
    "duration": 7,
    "start_time": "2023-03-22T10:08:16.827Z"
   },
   {
    "duration": 4,
    "start_time": "2023-03-22T10:08:29.597Z"
   },
   {
    "duration": 13,
    "start_time": "2023-03-22T10:52:42.113Z"
   },
   {
    "duration": 940,
    "start_time": "2023-03-22T11:00:43.418Z"
   },
   {
    "duration": 822,
    "start_time": "2023-03-22T11:00:58.057Z"
   },
   {
    "duration": 54,
    "start_time": "2023-03-22T11:00:58.881Z"
   },
   {
    "duration": 19,
    "start_time": "2023-03-22T11:00:58.936Z"
   },
   {
    "duration": 707,
    "start_time": "2023-03-22T11:00:58.957Z"
   },
   {
    "duration": 324,
    "start_time": "2023-03-22T11:00:59.668Z"
   },
   {
    "duration": 0,
    "start_time": "2023-03-22T11:00:59.995Z"
   },
   {
    "duration": 0,
    "start_time": "2023-03-22T11:00:59.996Z"
   },
   {
    "duration": 0,
    "start_time": "2023-03-22T11:00:59.997Z"
   },
   {
    "duration": 0,
    "start_time": "2023-03-22T11:00:59.998Z"
   },
   {
    "duration": 0,
    "start_time": "2023-03-22T11:01:00.000Z"
   },
   {
    "duration": 0,
    "start_time": "2023-03-22T11:01:00.001Z"
   },
   {
    "duration": 0,
    "start_time": "2023-03-22T11:01:00.002Z"
   },
   {
    "duration": 0,
    "start_time": "2023-03-22T11:01:00.004Z"
   },
   {
    "duration": 0,
    "start_time": "2023-03-22T11:01:00.005Z"
   },
   {
    "duration": 0,
    "start_time": "2023-03-22T11:01:00.006Z"
   },
   {
    "duration": 0,
    "start_time": "2023-03-22T11:01:00.008Z"
   },
   {
    "duration": 0,
    "start_time": "2023-03-22T11:01:00.009Z"
   },
   {
    "duration": 0,
    "start_time": "2023-03-22T11:01:00.010Z"
   },
   {
    "duration": 0,
    "start_time": "2023-03-22T11:01:00.012Z"
   },
   {
    "duration": 0,
    "start_time": "2023-03-22T11:01:00.013Z"
   },
   {
    "duration": 0,
    "start_time": "2023-03-22T11:01:00.015Z"
   },
   {
    "duration": 0,
    "start_time": "2023-03-22T11:01:00.016Z"
   },
   {
    "duration": 0,
    "start_time": "2023-03-22T11:01:00.017Z"
   },
   {
    "duration": 0,
    "start_time": "2023-03-22T11:01:00.018Z"
   },
   {
    "duration": 0,
    "start_time": "2023-03-22T11:01:00.019Z"
   },
   {
    "duration": 0,
    "start_time": "2023-03-22T11:01:00.021Z"
   },
   {
    "duration": 0,
    "start_time": "2023-03-22T11:01:00.022Z"
   },
   {
    "duration": 0,
    "start_time": "2023-03-22T11:01:00.023Z"
   },
   {
    "duration": 0,
    "start_time": "2023-03-22T11:01:00.024Z"
   },
   {
    "duration": 0,
    "start_time": "2023-03-22T11:01:00.072Z"
   },
   {
    "duration": 0,
    "start_time": "2023-03-22T11:01:00.073Z"
   },
   {
    "duration": 0,
    "start_time": "2023-03-22T11:01:00.074Z"
   },
   {
    "duration": 0,
    "start_time": "2023-03-22T11:01:00.074Z"
   },
   {
    "duration": 0,
    "start_time": "2023-03-22T11:01:00.075Z"
   },
   {
    "duration": 0,
    "start_time": "2023-03-22T11:01:00.076Z"
   },
   {
    "duration": 0,
    "start_time": "2023-03-22T11:01:00.076Z"
   },
   {
    "duration": 0,
    "start_time": "2023-03-22T11:01:00.077Z"
   },
   {
    "duration": 0,
    "start_time": "2023-03-22T11:01:00.078Z"
   },
   {
    "duration": 0,
    "start_time": "2023-03-22T11:01:00.080Z"
   },
   {
    "duration": 0,
    "start_time": "2023-03-22T11:01:00.081Z"
   },
   {
    "duration": 0,
    "start_time": "2023-03-22T11:01:00.081Z"
   },
   {
    "duration": 0,
    "start_time": "2023-03-22T11:01:00.082Z"
   },
   {
    "duration": 0,
    "start_time": "2023-03-22T11:01:00.083Z"
   },
   {
    "duration": 0,
    "start_time": "2023-03-22T11:01:00.084Z"
   },
   {
    "duration": 0,
    "start_time": "2023-03-22T11:01:00.085Z"
   },
   {
    "duration": 0,
    "start_time": "2023-03-22T11:01:00.086Z"
   },
   {
    "duration": 0,
    "start_time": "2023-03-22T11:01:00.087Z"
   },
   {
    "duration": 0,
    "start_time": "2023-03-22T11:01:00.087Z"
   },
   {
    "duration": 0,
    "start_time": "2023-03-22T11:01:00.088Z"
   },
   {
    "duration": 0,
    "start_time": "2023-03-22T11:01:00.089Z"
   },
   {
    "duration": 0,
    "start_time": "2023-03-22T11:01:00.090Z"
   },
   {
    "duration": 0,
    "start_time": "2023-03-22T11:01:00.091Z"
   },
   {
    "duration": 0,
    "start_time": "2023-03-22T11:01:00.091Z"
   },
   {
    "duration": 0,
    "start_time": "2023-03-22T11:01:00.092Z"
   },
   {
    "duration": 0,
    "start_time": "2023-03-22T11:01:00.093Z"
   },
   {
    "duration": 0,
    "start_time": "2023-03-22T11:01:00.094Z"
   },
   {
    "duration": 0,
    "start_time": "2023-03-22T11:01:00.096Z"
   },
   {
    "duration": 0,
    "start_time": "2023-03-22T11:01:00.097Z"
   },
   {
    "duration": 0,
    "start_time": "2023-03-22T11:01:00.097Z"
   },
   {
    "duration": 0,
    "start_time": "2023-03-22T11:01:00.099Z"
   },
   {
    "duration": 3,
    "start_time": "2023-03-22T11:04:42.341Z"
   },
   {
    "duration": 190,
    "start_time": "2023-03-22T11:05:36.522Z"
   },
   {
    "duration": 196,
    "start_time": "2023-03-22T11:05:51.526Z"
   },
   {
    "duration": 189,
    "start_time": "2023-03-22T11:05:56.020Z"
   },
   {
    "duration": 182,
    "start_time": "2023-03-22T11:06:05.943Z"
   },
   {
    "duration": 229,
    "start_time": "2023-03-22T11:06:13.300Z"
   },
   {
    "duration": 212,
    "start_time": "2023-03-22T11:06:19.004Z"
   },
   {
    "duration": 290,
    "start_time": "2023-03-22T11:06:27.779Z"
   },
   {
    "duration": 192,
    "start_time": "2023-03-22T11:06:37.416Z"
   },
   {
    "duration": 204,
    "start_time": "2023-03-22T11:06:46.402Z"
   },
   {
    "duration": 226,
    "start_time": "2023-03-22T11:06:57.600Z"
   },
   {
    "duration": 960,
    "start_time": "2023-03-22T11:07:51.003Z"
   },
   {
    "duration": 95,
    "start_time": "2023-03-22T11:07:51.965Z"
   },
   {
    "duration": 18,
    "start_time": "2023-03-22T11:07:52.061Z"
   },
   {
    "duration": 455,
    "start_time": "2023-03-22T11:07:52.081Z"
   },
   {
    "duration": 269,
    "start_time": "2023-03-22T11:07:52.539Z"
   },
   {
    "duration": 173,
    "start_time": "2023-03-22T11:07:52.811Z"
   },
   {
    "duration": 1028,
    "start_time": "2023-03-22T11:07:52.987Z"
   },
   {
    "duration": 125,
    "start_time": "2023-03-22T11:07:54.016Z"
   },
   {
    "duration": 13,
    "start_time": "2023-03-22T11:07:54.142Z"
   },
   {
    "duration": 28,
    "start_time": "2023-03-22T11:07:54.156Z"
   },
   {
    "duration": 12,
    "start_time": "2023-03-22T11:07:54.187Z"
   },
   {
    "duration": 14,
    "start_time": "2023-03-22T11:07:54.201Z"
   },
   {
    "duration": 4,
    "start_time": "2023-03-22T11:07:54.216Z"
   },
   {
    "duration": 3,
    "start_time": "2023-03-22T11:07:54.223Z"
   },
   {
    "duration": 13,
    "start_time": "2023-03-22T11:07:54.228Z"
   },
   {
    "duration": 5,
    "start_time": "2023-03-22T11:07:54.242Z"
   },
   {
    "duration": 22,
    "start_time": "2023-03-22T11:07:54.248Z"
   },
   {
    "duration": 30,
    "start_time": "2023-03-22T11:07:54.271Z"
   },
   {
    "duration": 21,
    "start_time": "2023-03-22T11:07:54.302Z"
   },
   {
    "duration": 116,
    "start_time": "2023-03-22T11:07:54.324Z"
   },
   {
    "duration": 7,
    "start_time": "2023-03-22T11:07:54.441Z"
   },
   {
    "duration": 258,
    "start_time": "2023-03-22T11:07:54.450Z"
   },
   {
    "duration": 10,
    "start_time": "2023-03-22T11:07:54.710Z"
   },
   {
    "duration": 14,
    "start_time": "2023-03-22T11:07:54.722Z"
   },
   {
    "duration": 18,
    "start_time": "2023-03-22T11:07:54.737Z"
   },
   {
    "duration": 84,
    "start_time": "2023-03-22T11:07:54.757Z"
   },
   {
    "duration": 82,
    "start_time": "2023-03-22T11:07:54.843Z"
   },
   {
    "duration": 41,
    "start_time": "2023-03-22T11:07:54.926Z"
   },
   {
    "duration": 6,
    "start_time": "2023-03-22T11:07:54.969Z"
   },
   {
    "duration": 30,
    "start_time": "2023-03-22T11:07:54.976Z"
   },
   {
    "duration": 6,
    "start_time": "2023-03-22T11:07:55.008Z"
   },
   {
    "duration": 16,
    "start_time": "2023-03-22T11:07:55.016Z"
   },
   {
    "duration": 25,
    "start_time": "2023-03-22T11:07:55.034Z"
   },
   {
    "duration": 10,
    "start_time": "2023-03-22T11:07:55.061Z"
   },
   {
    "duration": 117,
    "start_time": "2023-03-22T11:07:55.073Z"
   },
   {
    "duration": 94,
    "start_time": "2023-03-22T11:07:55.192Z"
   },
   {
    "duration": 96,
    "start_time": "2023-03-22T11:07:55.288Z"
   },
   {
    "duration": 96,
    "start_time": "2023-03-22T11:07:55.386Z"
   },
   {
    "duration": 99,
    "start_time": "2023-03-22T11:07:55.484Z"
   },
   {
    "duration": 105,
    "start_time": "2023-03-22T11:07:55.584Z"
   },
   {
    "duration": 50,
    "start_time": "2023-03-22T11:07:55.693Z"
   },
   {
    "duration": 0,
    "start_time": "2023-03-22T11:07:55.744Z"
   },
   {
    "duration": 0,
    "start_time": "2023-03-22T11:07:55.745Z"
   },
   {
    "duration": 0,
    "start_time": "2023-03-22T11:07:55.746Z"
   },
   {
    "duration": 0,
    "start_time": "2023-03-22T11:07:55.747Z"
   },
   {
    "duration": 0,
    "start_time": "2023-03-22T11:07:55.748Z"
   },
   {
    "duration": 0,
    "start_time": "2023-03-22T11:07:55.749Z"
   },
   {
    "duration": 0,
    "start_time": "2023-03-22T11:07:55.750Z"
   },
   {
    "duration": 0,
    "start_time": "2023-03-22T11:07:55.751Z"
   },
   {
    "duration": 0,
    "start_time": "2023-03-22T11:07:55.752Z"
   },
   {
    "duration": 0,
    "start_time": "2023-03-22T11:07:55.753Z"
   },
   {
    "duration": 0,
    "start_time": "2023-03-22T11:07:55.754Z"
   },
   {
    "duration": 0,
    "start_time": "2023-03-22T11:07:55.755Z"
   },
   {
    "duration": 0,
    "start_time": "2023-03-22T11:07:55.756Z"
   },
   {
    "duration": 0,
    "start_time": "2023-03-22T11:07:55.757Z"
   },
   {
    "duration": 0,
    "start_time": "2023-03-22T11:07:55.758Z"
   },
   {
    "duration": 0,
    "start_time": "2023-03-22T11:07:55.759Z"
   },
   {
    "duration": 0,
    "start_time": "2023-03-22T11:07:55.760Z"
   },
   {
    "duration": 0,
    "start_time": "2023-03-22T11:07:55.761Z"
   },
   {
    "duration": 0,
    "start_time": "2023-03-22T11:07:55.762Z"
   },
   {
    "duration": 976,
    "start_time": "2023-03-22T11:11:14.420Z"
   },
   {
    "duration": 3,
    "start_time": "2023-03-22T11:11:23.749Z"
   },
   {
    "duration": 64,
    "start_time": "2023-03-22T11:11:23.756Z"
   },
   {
    "duration": 12,
    "start_time": "2023-03-22T11:11:23.822Z"
   },
   {
    "duration": 427,
    "start_time": "2023-03-22T11:11:23.836Z"
   },
   {
    "duration": 197,
    "start_time": "2023-03-22T11:11:24.265Z"
   },
   {
    "duration": 150,
    "start_time": "2023-03-22T11:11:24.463Z"
   },
   {
    "duration": 1092,
    "start_time": "2023-03-22T11:11:24.614Z"
   },
   {
    "duration": 127,
    "start_time": "2023-03-22T11:11:25.708Z"
   },
   {
    "duration": 15,
    "start_time": "2023-03-22T11:11:25.837Z"
   },
   {
    "duration": 20,
    "start_time": "2023-03-22T11:11:25.867Z"
   },
   {
    "duration": 13,
    "start_time": "2023-03-22T11:11:25.891Z"
   },
   {
    "duration": 13,
    "start_time": "2023-03-22T11:11:25.906Z"
   },
   {
    "duration": 3,
    "start_time": "2023-03-22T11:11:25.921Z"
   },
   {
    "duration": 4,
    "start_time": "2023-03-22T11:11:25.926Z"
   },
   {
    "duration": 8,
    "start_time": "2023-03-22T11:11:25.931Z"
   },
   {
    "duration": 42,
    "start_time": "2023-03-22T11:11:25.940Z"
   },
   {
    "duration": 10,
    "start_time": "2023-03-22T11:11:25.986Z"
   },
   {
    "duration": 23,
    "start_time": "2023-03-22T11:11:25.997Z"
   },
   {
    "duration": 6,
    "start_time": "2023-03-22T11:11:26.022Z"
   },
   {
    "duration": 124,
    "start_time": "2023-03-22T11:11:26.030Z"
   },
   {
    "duration": 7,
    "start_time": "2023-03-22T11:11:26.155Z"
   },
   {
    "duration": 268,
    "start_time": "2023-03-22T11:11:26.163Z"
   },
   {
    "duration": 9,
    "start_time": "2023-03-22T11:11:26.433Z"
   },
   {
    "duration": 7,
    "start_time": "2023-03-22T11:11:26.443Z"
   },
   {
    "duration": 32,
    "start_time": "2023-03-22T11:11:26.452Z"
   },
   {
    "duration": 89,
    "start_time": "2023-03-22T11:11:26.485Z"
   },
   {
    "duration": 11,
    "start_time": "2023-03-22T11:11:26.578Z"
   },
   {
    "duration": 26,
    "start_time": "2023-03-22T11:11:26.591Z"
   },
   {
    "duration": 5,
    "start_time": "2023-03-22T11:11:26.621Z"
   },
   {
    "duration": 20,
    "start_time": "2023-03-22T11:11:26.627Z"
   },
   {
    "duration": 29,
    "start_time": "2023-03-22T11:11:26.648Z"
   },
   {
    "duration": 7,
    "start_time": "2023-03-22T11:11:26.683Z"
   },
   {
    "duration": 29,
    "start_time": "2023-03-22T11:11:26.691Z"
   },
   {
    "duration": 5,
    "start_time": "2023-03-22T11:11:26.722Z"
   },
   {
    "duration": 122,
    "start_time": "2023-03-22T11:11:26.729Z"
   },
   {
    "duration": 104,
    "start_time": "2023-03-22T11:11:26.853Z"
   },
   {
    "duration": 93,
    "start_time": "2023-03-22T11:11:26.959Z"
   },
   {
    "duration": 105,
    "start_time": "2023-03-22T11:11:27.054Z"
   },
   {
    "duration": 162,
    "start_time": "2023-03-22T11:11:27.160Z"
   },
   {
    "duration": 104,
    "start_time": "2023-03-22T11:11:27.324Z"
   },
   {
    "duration": 71,
    "start_time": "2023-03-22T11:11:27.429Z"
   },
   {
    "duration": 0,
    "start_time": "2023-03-22T11:11:27.501Z"
   },
   {
    "duration": 0,
    "start_time": "2023-03-22T11:11:27.502Z"
   },
   {
    "duration": 0,
    "start_time": "2023-03-22T11:11:27.503Z"
   },
   {
    "duration": 0,
    "start_time": "2023-03-22T11:11:27.504Z"
   },
   {
    "duration": 0,
    "start_time": "2023-03-22T11:11:27.505Z"
   },
   {
    "duration": 0,
    "start_time": "2023-03-22T11:11:27.506Z"
   },
   {
    "duration": 0,
    "start_time": "2023-03-22T11:11:27.507Z"
   },
   {
    "duration": 0,
    "start_time": "2023-03-22T11:11:27.508Z"
   },
   {
    "duration": 0,
    "start_time": "2023-03-22T11:11:27.509Z"
   },
   {
    "duration": 0,
    "start_time": "2023-03-22T11:11:27.510Z"
   },
   {
    "duration": 0,
    "start_time": "2023-03-22T11:11:27.511Z"
   },
   {
    "duration": 0,
    "start_time": "2023-03-22T11:11:27.511Z"
   },
   {
    "duration": 0,
    "start_time": "2023-03-22T11:11:27.512Z"
   },
   {
    "duration": 0,
    "start_time": "2023-03-22T11:11:27.513Z"
   },
   {
    "duration": 0,
    "start_time": "2023-03-22T11:11:27.514Z"
   },
   {
    "duration": 0,
    "start_time": "2023-03-22T11:11:27.515Z"
   },
   {
    "duration": 0,
    "start_time": "2023-03-22T11:11:27.516Z"
   },
   {
    "duration": 0,
    "start_time": "2023-03-22T11:11:27.517Z"
   },
   {
    "duration": 0,
    "start_time": "2023-03-22T11:11:27.518Z"
   },
   {
    "duration": 42,
    "start_time": "2023-03-22T11:12:02.788Z"
   },
   {
    "duration": 42,
    "start_time": "2023-03-22T11:12:26.184Z"
   },
   {
    "duration": 978,
    "start_time": "2023-03-22T11:12:29.184Z"
   },
   {
    "duration": 100,
    "start_time": "2023-03-22T11:12:30.164Z"
   },
   {
    "duration": 15,
    "start_time": "2023-03-22T11:12:30.266Z"
   },
   {
    "duration": 487,
    "start_time": "2023-03-22T11:12:30.283Z"
   },
   {
    "duration": 216,
    "start_time": "2023-03-22T11:12:30.771Z"
   },
   {
    "duration": 158,
    "start_time": "2023-03-22T11:12:30.988Z"
   },
   {
    "duration": 1006,
    "start_time": "2023-03-22T11:12:31.148Z"
   },
   {
    "duration": 132,
    "start_time": "2023-03-22T11:12:32.156Z"
   },
   {
    "duration": 15,
    "start_time": "2023-03-22T11:12:32.289Z"
   },
   {
    "duration": 12,
    "start_time": "2023-03-22T11:12:32.306Z"
   },
   {
    "duration": 17,
    "start_time": "2023-03-22T11:12:32.319Z"
   },
   {
    "duration": 37,
    "start_time": "2023-03-22T11:12:32.338Z"
   },
   {
    "duration": 3,
    "start_time": "2023-03-22T11:12:32.377Z"
   },
   {
    "duration": 19,
    "start_time": "2023-03-22T11:12:32.383Z"
   },
   {
    "duration": 10,
    "start_time": "2023-03-22T11:12:32.404Z"
   },
   {
    "duration": 12,
    "start_time": "2023-03-22T11:12:32.416Z"
   },
   {
    "duration": 10,
    "start_time": "2023-03-22T11:12:32.429Z"
   },
   {
    "duration": 16,
    "start_time": "2023-03-22T11:12:32.440Z"
   },
   {
    "duration": 10,
    "start_time": "2023-03-22T11:12:32.458Z"
   },
   {
    "duration": 130,
    "start_time": "2023-03-22T11:12:32.470Z"
   },
   {
    "duration": 10,
    "start_time": "2023-03-22T11:12:32.602Z"
   },
   {
    "duration": 294,
    "start_time": "2023-03-22T11:12:32.614Z"
   },
   {
    "duration": 9,
    "start_time": "2023-03-22T11:12:32.909Z"
   },
   {
    "duration": 7,
    "start_time": "2023-03-22T11:12:32.919Z"
   },
   {
    "duration": 9,
    "start_time": "2023-03-22T11:12:32.928Z"
   },
   {
    "duration": 95,
    "start_time": "2023-03-22T11:12:32.938Z"
   },
   {
    "duration": 95,
    "start_time": "2023-03-22T11:12:33.035Z"
   },
   {
    "duration": 29,
    "start_time": "2023-03-22T11:12:33.131Z"
   },
   {
    "duration": 5,
    "start_time": "2023-03-22T11:12:33.167Z"
   },
   {
    "duration": 21,
    "start_time": "2023-03-22T11:12:33.173Z"
   },
   {
    "duration": 6,
    "start_time": "2023-03-22T11:12:33.196Z"
   },
   {
    "duration": 18,
    "start_time": "2023-03-22T11:12:33.204Z"
   },
   {
    "duration": 25,
    "start_time": "2023-03-22T11:12:33.224Z"
   },
   {
    "duration": 21,
    "start_time": "2023-03-22T11:12:33.250Z"
   },
   {
    "duration": 101,
    "start_time": "2023-03-22T11:12:33.273Z"
   },
   {
    "duration": 97,
    "start_time": "2023-03-22T11:12:33.375Z"
   },
   {
    "duration": 105,
    "start_time": "2023-03-22T11:12:33.473Z"
   },
   {
    "duration": 99,
    "start_time": "2023-03-22T11:12:33.580Z"
   },
   {
    "duration": 97,
    "start_time": "2023-03-22T11:12:33.680Z"
   },
   {
    "duration": 114,
    "start_time": "2023-03-22T11:12:33.778Z"
   },
   {
    "duration": 40,
    "start_time": "2023-03-22T11:12:33.898Z"
   },
   {
    "duration": 0,
    "start_time": "2023-03-22T11:12:33.940Z"
   },
   {
    "duration": 0,
    "start_time": "2023-03-22T11:12:33.941Z"
   },
   {
    "duration": 0,
    "start_time": "2023-03-22T11:12:33.942Z"
   },
   {
    "duration": 0,
    "start_time": "2023-03-22T11:12:33.943Z"
   },
   {
    "duration": 0,
    "start_time": "2023-03-22T11:12:33.944Z"
   },
   {
    "duration": 0,
    "start_time": "2023-03-22T11:12:33.945Z"
   },
   {
    "duration": 0,
    "start_time": "2023-03-22T11:12:33.947Z"
   },
   {
    "duration": 0,
    "start_time": "2023-03-22T11:12:33.948Z"
   },
   {
    "duration": 0,
    "start_time": "2023-03-22T11:12:33.949Z"
   },
   {
    "duration": 0,
    "start_time": "2023-03-22T11:12:33.950Z"
   },
   {
    "duration": 0,
    "start_time": "2023-03-22T11:12:33.951Z"
   },
   {
    "duration": 0,
    "start_time": "2023-03-22T11:12:33.952Z"
   },
   {
    "duration": 0,
    "start_time": "2023-03-22T11:12:33.953Z"
   },
   {
    "duration": 0,
    "start_time": "2023-03-22T11:12:33.954Z"
   },
   {
    "duration": 0,
    "start_time": "2023-03-22T11:12:33.955Z"
   },
   {
    "duration": 0,
    "start_time": "2023-03-22T11:12:33.956Z"
   },
   {
    "duration": 0,
    "start_time": "2023-03-22T11:12:33.957Z"
   },
   {
    "duration": 0,
    "start_time": "2023-03-22T11:12:33.958Z"
   },
   {
    "duration": 0,
    "start_time": "2023-03-22T11:12:33.959Z"
   },
   {
    "duration": 779,
    "start_time": "2023-03-22T11:13:12.362Z"
   },
   {
    "duration": 964,
    "start_time": "2023-03-22T11:13:43.958Z"
   },
   {
    "duration": 89,
    "start_time": "2023-03-22T11:13:44.924Z"
   },
   {
    "duration": 16,
    "start_time": "2023-03-22T11:13:45.014Z"
   },
   {
    "duration": 422,
    "start_time": "2023-03-22T11:13:45.031Z"
   },
   {
    "duration": 192,
    "start_time": "2023-03-22T11:13:45.454Z"
   },
   {
    "duration": 152,
    "start_time": "2023-03-22T11:13:45.648Z"
   },
   {
    "duration": 956,
    "start_time": "2023-03-22T11:13:50.450Z"
   },
   {
    "duration": 997,
    "start_time": "2023-03-22T11:14:24.327Z"
   },
   {
    "duration": 1074,
    "start_time": "2023-03-22T11:14:42.463Z"
   },
   {
    "duration": 12,
    "start_time": "2023-03-22T11:18:06.889Z"
   },
   {
    "duration": 965,
    "start_time": "2023-03-22T11:21:32.939Z"
   },
   {
    "duration": 2,
    "start_time": "2023-03-22T11:22:44.698Z"
   },
   {
    "duration": 49,
    "start_time": "2023-03-22T11:22:44.703Z"
   },
   {
    "duration": 11,
    "start_time": "2023-03-22T11:22:44.754Z"
   },
   {
    "duration": 388,
    "start_time": "2023-03-22T11:22:44.767Z"
   },
   {
    "duration": 189,
    "start_time": "2023-03-22T11:22:45.156Z"
   },
   {
    "duration": 147,
    "start_time": "2023-03-22T11:22:45.347Z"
   },
   {
    "duration": 982,
    "start_time": "2023-03-22T11:22:45.495Z"
   },
   {
    "duration": 116,
    "start_time": "2023-03-22T11:22:46.478Z"
   },
   {
    "duration": 12,
    "start_time": "2023-03-22T11:22:46.597Z"
   },
   {
    "duration": 12,
    "start_time": "2023-03-22T11:22:46.610Z"
   },
   {
    "duration": 11,
    "start_time": "2023-03-22T11:22:46.624Z"
   },
   {
    "duration": 13,
    "start_time": "2023-03-22T11:22:46.636Z"
   },
   {
    "duration": 2,
    "start_time": "2023-03-22T11:22:46.668Z"
   },
   {
    "duration": 4,
    "start_time": "2023-03-22T11:22:46.672Z"
   },
   {
    "duration": 8,
    "start_time": "2023-03-22T11:22:46.677Z"
   },
   {
    "duration": 4,
    "start_time": "2023-03-22T11:22:46.686Z"
   },
   {
    "duration": 5,
    "start_time": "2023-03-22T11:22:46.691Z"
   },
   {
    "duration": 11,
    "start_time": "2023-03-22T11:22:46.697Z"
   },
   {
    "duration": 4,
    "start_time": "2023-03-22T11:22:46.709Z"
   },
   {
    "duration": 161,
    "start_time": "2023-03-22T11:22:50.397Z"
   },
   {
    "duration": 281,
    "start_time": "2023-03-22T11:28:09.997Z"
   },
   {
    "duration": 301,
    "start_time": "2023-03-22T11:29:52.888Z"
   },
   {
    "duration": 274,
    "start_time": "2023-03-22T11:30:25.824Z"
   },
   {
    "duration": 300,
    "start_time": "2023-03-22T11:35:42.298Z"
   },
   {
    "duration": 287,
    "start_time": "2023-03-22T11:35:59.740Z"
   },
   {
    "duration": 235,
    "start_time": "2023-03-22T11:36:08.923Z"
   },
   {
    "duration": 366,
    "start_time": "2023-03-22T11:36:17.908Z"
   },
   {
    "duration": 259,
    "start_time": "2023-03-22T11:39:37.007Z"
   },
   {
    "duration": 239,
    "start_time": "2023-03-22T11:39:46.513Z"
   },
   {
    "duration": 51,
    "start_time": "2023-03-22T11:49:25.806Z"
   },
   {
    "duration": 241,
    "start_time": "2023-03-22T11:49:36.012Z"
   },
   {
    "duration": 264,
    "start_time": "2023-03-22T11:52:58.811Z"
   },
   {
    "duration": 339,
    "start_time": "2023-03-22T11:53:31.737Z"
   },
   {
    "duration": 256,
    "start_time": "2023-03-22T11:53:57.155Z"
   },
   {
    "duration": 304,
    "start_time": "2023-03-22T11:55:19.366Z"
   },
   {
    "duration": 245,
    "start_time": "2023-03-22T11:55:29.463Z"
   },
   {
    "duration": 293,
    "start_time": "2023-03-22T11:56:02.340Z"
   },
   {
    "duration": 283,
    "start_time": "2023-03-22T12:06:47.312Z"
   },
   {
    "duration": 338,
    "start_time": "2023-03-22T12:14:55.146Z"
   },
   {
    "duration": 331,
    "start_time": "2023-03-22T12:17:13.710Z"
   },
   {
    "duration": 530,
    "start_time": "2023-03-22T12:17:32.430Z"
   },
   {
    "duration": 271,
    "start_time": "2023-03-22T12:23:13.095Z"
   },
   {
    "duration": 896,
    "start_time": "2023-03-22T12:25:18.357Z"
   },
   {
    "duration": 917,
    "start_time": "2023-03-22T12:25:28.426Z"
   },
   {
    "duration": 110,
    "start_time": "2023-03-22T12:25:29.345Z"
   },
   {
    "duration": 20,
    "start_time": "2023-03-22T12:25:29.456Z"
   },
   {
    "duration": 455,
    "start_time": "2023-03-22T12:25:29.479Z"
   },
   {
    "duration": 199,
    "start_time": "2023-03-22T12:25:29.936Z"
   },
   {
    "duration": 140,
    "start_time": "2023-03-22T12:25:34.790Z"
   },
   {
    "duration": 91,
    "start_time": "2023-03-22T12:59:33.648Z"
   },
   {
    "duration": 965,
    "start_time": "2023-03-22T12:59:44.210Z"
   },
   {
    "duration": 94,
    "start_time": "2023-03-22T12:59:45.176Z"
   },
   {
    "duration": 15,
    "start_time": "2023-03-22T12:59:45.272Z"
   },
   {
    "duration": 406,
    "start_time": "2023-03-22T12:59:45.288Z"
   },
   {
    "duration": 196,
    "start_time": "2023-03-22T12:59:45.696Z"
   },
   {
    "duration": 150,
    "start_time": "2023-03-22T12:59:45.894Z"
   },
   {
    "duration": 1010,
    "start_time": "2023-03-22T12:59:46.045Z"
   },
   {
    "duration": 126,
    "start_time": "2023-03-22T12:59:47.057Z"
   },
   {
    "duration": 14,
    "start_time": "2023-03-22T12:59:47.184Z"
   },
   {
    "duration": 15,
    "start_time": "2023-03-22T12:59:47.199Z"
   },
   {
    "duration": 12,
    "start_time": "2023-03-22T12:59:47.216Z"
   },
   {
    "duration": 15,
    "start_time": "2023-03-22T12:59:47.229Z"
   },
   {
    "duration": 3,
    "start_time": "2023-03-22T12:59:47.245Z"
   },
   {
    "duration": 2,
    "start_time": "2023-03-22T12:59:47.269Z"
   },
   {
    "duration": 23,
    "start_time": "2023-03-22T12:59:47.273Z"
   },
   {
    "duration": 5,
    "start_time": "2023-03-22T12:59:47.298Z"
   },
   {
    "duration": 10,
    "start_time": "2023-03-22T12:59:47.304Z"
   },
   {
    "duration": 16,
    "start_time": "2023-03-22T12:59:47.315Z"
   },
   {
    "duration": 5,
    "start_time": "2023-03-22T12:59:47.332Z"
   },
   {
    "duration": 504,
    "start_time": "2023-03-22T12:59:47.338Z"
   },
   {
    "duration": 8,
    "start_time": "2023-03-22T12:59:47.843Z"
   },
   {
    "duration": 329,
    "start_time": "2023-03-22T12:59:47.852Z"
   },
   {
    "duration": 9,
    "start_time": "2023-03-22T12:59:48.183Z"
   },
   {
    "duration": 6,
    "start_time": "2023-03-22T12:59:48.193Z"
   },
   {
    "duration": 12,
    "start_time": "2023-03-22T12:59:48.201Z"
   },
   {
    "duration": 90,
    "start_time": "2023-03-22T12:59:48.214Z"
   },
   {
    "duration": 6,
    "start_time": "2023-03-22T12:59:48.305Z"
   },
   {
    "duration": 26,
    "start_time": "2023-03-22T12:59:48.313Z"
   },
   {
    "duration": 5,
    "start_time": "2023-03-22T12:59:48.342Z"
   },
   {
    "duration": 35,
    "start_time": "2023-03-22T12:59:48.349Z"
   },
   {
    "duration": 6,
    "start_time": "2023-03-22T12:59:48.385Z"
   },
   {
    "duration": 7,
    "start_time": "2023-03-22T12:59:48.392Z"
   },
   {
    "duration": 23,
    "start_time": "2023-03-22T12:59:48.400Z"
   },
   {
    "duration": 4,
    "start_time": "2023-03-22T12:59:48.424Z"
   },
   {
    "duration": 108,
    "start_time": "2023-03-22T12:59:48.430Z"
   },
   {
    "duration": 4,
    "start_time": "2023-03-22T12:59:52.798Z"
   },
   {
    "duration": 6,
    "start_time": "2023-03-22T13:00:04.624Z"
   },
   {
    "duration": 89,
    "start_time": "2023-03-22T13:00:28.356Z"
   },
   {
    "duration": 129,
    "start_time": "2023-03-22T13:05:39.245Z"
   },
   {
    "duration": 98,
    "start_time": "2023-03-22T13:05:50.058Z"
   },
   {
    "duration": 370,
    "start_time": "2023-03-22T13:06:09.324Z"
   },
   {
    "duration": 395,
    "start_time": "2023-03-22T13:06:12.786Z"
   },
   {
    "duration": 332,
    "start_time": "2023-03-22T13:06:16.893Z"
   },
   {
    "duration": 372,
    "start_time": "2023-03-22T13:06:43.809Z"
   },
   {
    "duration": 4,
    "start_time": "2023-03-22T13:07:25.002Z"
   },
   {
    "duration": 5,
    "start_time": "2023-03-22T13:07:52.202Z"
   },
   {
    "duration": 8,
    "start_time": "2023-03-22T13:12:30.611Z"
   },
   {
    "duration": 249,
    "start_time": "2023-03-22T13:31:25.750Z"
   },
   {
    "duration": 210,
    "start_time": "2023-03-22T13:31:30.761Z"
   },
   {
    "duration": 267,
    "start_time": "2023-03-22T13:34:34.114Z"
   },
   {
    "duration": 922,
    "start_time": "2023-03-22T13:35:43.234Z"
   },
   {
    "duration": 107,
    "start_time": "2023-03-22T13:35:44.157Z"
   },
   {
    "duration": 20,
    "start_time": "2023-03-22T13:35:44.266Z"
   },
   {
    "duration": 451,
    "start_time": "2023-03-22T13:35:44.288Z"
   },
   {
    "duration": 206,
    "start_time": "2023-03-22T13:35:44.742Z"
   },
   {
    "duration": 156,
    "start_time": "2023-03-22T13:35:44.950Z"
   },
   {
    "duration": 1058,
    "start_time": "2023-03-22T13:35:45.107Z"
   },
   {
    "duration": 135,
    "start_time": "2023-03-22T13:35:46.168Z"
   },
   {
    "duration": 17,
    "start_time": "2023-03-22T13:35:46.305Z"
   },
   {
    "duration": 12,
    "start_time": "2023-03-22T13:35:46.323Z"
   },
   {
    "duration": 32,
    "start_time": "2023-03-22T13:35:46.336Z"
   },
   {
    "duration": 15,
    "start_time": "2023-03-22T13:35:46.371Z"
   },
   {
    "duration": 3,
    "start_time": "2023-03-22T13:35:46.388Z"
   },
   {
    "duration": 7,
    "start_time": "2023-03-22T13:35:46.394Z"
   },
   {
    "duration": 9,
    "start_time": "2023-03-22T13:35:46.402Z"
   },
   {
    "duration": 8,
    "start_time": "2023-03-22T13:35:46.412Z"
   },
   {
    "duration": 27,
    "start_time": "2023-03-22T13:35:46.422Z"
   },
   {
    "duration": 13,
    "start_time": "2023-03-22T13:35:46.451Z"
   },
   {
    "duration": 7,
    "start_time": "2023-03-22T13:35:46.468Z"
   },
   {
    "duration": 496,
    "start_time": "2023-03-22T13:35:46.476Z"
   },
   {
    "duration": 9,
    "start_time": "2023-03-22T13:35:46.973Z"
   },
   {
    "duration": 351,
    "start_time": "2023-03-22T13:35:46.983Z"
   },
   {
    "duration": 9,
    "start_time": "2023-03-22T13:35:47.336Z"
   },
   {
    "duration": 11,
    "start_time": "2023-03-22T13:35:47.347Z"
   },
   {
    "duration": 25,
    "start_time": "2023-03-22T13:35:47.368Z"
   },
   {
    "duration": 75,
    "start_time": "2023-03-22T13:35:47.395Z"
   },
   {
    "duration": 5,
    "start_time": "2023-03-22T13:35:47.472Z"
   },
   {
    "duration": 26,
    "start_time": "2023-03-22T13:35:47.479Z"
   },
   {
    "duration": 4,
    "start_time": "2023-03-22T13:35:47.507Z"
   },
   {
    "duration": 20,
    "start_time": "2023-03-22T13:35:47.512Z"
   },
   {
    "duration": 5,
    "start_time": "2023-03-22T13:35:47.534Z"
   },
   {
    "duration": 7,
    "start_time": "2023-03-22T13:35:47.568Z"
   },
   {
    "duration": 25,
    "start_time": "2023-03-22T13:35:47.576Z"
   },
   {
    "duration": 4,
    "start_time": "2023-03-22T13:35:47.602Z"
   },
   {
    "duration": 229,
    "start_time": "2023-03-22T13:35:50.002Z"
   },
   {
    "duration": 27,
    "start_time": "2023-03-22T13:36:11.425Z"
   },
   {
    "duration": 7,
    "start_time": "2023-03-22T13:39:13.604Z"
   },
   {
    "duration": 975,
    "start_time": "2023-03-22T13:40:29.496Z"
   },
   {
    "duration": 85,
    "start_time": "2023-03-22T13:40:30.473Z"
   },
   {
    "duration": 24,
    "start_time": "2023-03-22T13:40:30.560Z"
   },
   {
    "duration": 456,
    "start_time": "2023-03-22T13:40:30.586Z"
   },
   {
    "duration": 214,
    "start_time": "2023-03-22T13:40:31.044Z"
   },
   {
    "duration": 148,
    "start_time": "2023-03-22T13:40:31.260Z"
   },
   {
    "duration": 1074,
    "start_time": "2023-03-22T13:40:31.410Z"
   },
   {
    "duration": 158,
    "start_time": "2023-03-22T13:40:32.486Z"
   },
   {
    "duration": 29,
    "start_time": "2023-03-22T13:40:32.646Z"
   },
   {
    "duration": 14,
    "start_time": "2023-03-22T13:40:32.678Z"
   },
   {
    "duration": 14,
    "start_time": "2023-03-22T13:40:32.694Z"
   },
   {
    "duration": 14,
    "start_time": "2023-03-22T13:40:32.710Z"
   },
   {
    "duration": 3,
    "start_time": "2023-03-22T13:40:32.726Z"
   },
   {
    "duration": 4,
    "start_time": "2023-03-22T13:40:32.731Z"
   },
   {
    "duration": 36,
    "start_time": "2023-03-22T13:40:32.736Z"
   },
   {
    "duration": 10,
    "start_time": "2023-03-22T13:40:32.773Z"
   },
   {
    "duration": 9,
    "start_time": "2023-03-22T13:40:32.784Z"
   },
   {
    "duration": 16,
    "start_time": "2023-03-22T13:40:32.794Z"
   },
   {
    "duration": 6,
    "start_time": "2023-03-22T13:40:32.811Z"
   },
   {
    "duration": 522,
    "start_time": "2023-03-22T13:40:32.818Z"
   },
   {
    "duration": 7,
    "start_time": "2023-03-22T13:40:33.342Z"
   },
   {
    "duration": 333,
    "start_time": "2023-03-22T13:40:33.351Z"
   },
   {
    "duration": 9,
    "start_time": "2023-03-22T13:40:33.686Z"
   },
   {
    "duration": 7,
    "start_time": "2023-03-22T13:40:33.697Z"
   },
   {
    "duration": 11,
    "start_time": "2023-03-22T13:40:33.706Z"
   },
   {
    "duration": 98,
    "start_time": "2023-03-22T13:40:33.718Z"
   },
   {
    "duration": 7,
    "start_time": "2023-03-22T13:40:33.817Z"
   },
   {
    "duration": 42,
    "start_time": "2023-03-22T13:40:33.826Z"
   },
   {
    "duration": 5,
    "start_time": "2023-03-22T13:40:33.870Z"
   },
   {
    "duration": 21,
    "start_time": "2023-03-22T13:40:33.876Z"
   },
   {
    "duration": 7,
    "start_time": "2023-03-22T13:40:33.898Z"
   },
   {
    "duration": 6,
    "start_time": "2023-03-22T13:40:33.906Z"
   },
   {
    "duration": 24,
    "start_time": "2023-03-22T13:40:33.914Z"
   },
   {
    "duration": 31,
    "start_time": "2023-03-22T13:40:33.939Z"
   },
   {
    "duration": 220,
    "start_time": "2023-03-22T13:40:42.295Z"
   },
   {
    "duration": 112,
    "start_time": "2023-03-22T13:48:14.667Z"
   },
   {
    "duration": 89,
    "start_time": "2023-03-22T13:49:21.926Z"
   },
   {
    "duration": 93,
    "start_time": "2023-03-22T13:49:40.148Z"
   },
   {
    "duration": 99,
    "start_time": "2023-03-22T13:49:49.887Z"
   },
   {
    "duration": 125,
    "start_time": "2023-03-22T13:50:10.655Z"
   },
   {
    "duration": 96,
    "start_time": "2023-03-22T13:50:43.400Z"
   },
   {
    "duration": 164,
    "start_time": "2023-03-22T13:50:56.627Z"
   },
   {
    "duration": 1061,
    "start_time": "2023-03-22T14:01:51.990Z"
   },
   {
    "duration": 86,
    "start_time": "2023-03-22T14:01:53.052Z"
   },
   {
    "duration": 16,
    "start_time": "2023-03-22T14:01:53.139Z"
   },
   {
    "duration": 503,
    "start_time": "2023-03-22T14:01:53.156Z"
   },
   {
    "duration": 250,
    "start_time": "2023-03-22T14:01:53.661Z"
   },
   {
    "duration": 164,
    "start_time": "2023-03-22T14:01:53.913Z"
   },
   {
    "duration": 1071,
    "start_time": "2023-03-22T14:01:54.089Z"
   },
   {
    "duration": 139,
    "start_time": "2023-03-22T14:01:55.161Z"
   },
   {
    "duration": 14,
    "start_time": "2023-03-22T14:01:55.302Z"
   },
   {
    "duration": 10,
    "start_time": "2023-03-22T14:01:55.317Z"
   },
   {
    "duration": 12,
    "start_time": "2023-03-22T14:01:55.328Z"
   },
   {
    "duration": 17,
    "start_time": "2023-03-22T14:01:55.368Z"
   },
   {
    "duration": 3,
    "start_time": "2023-03-22T14:01:55.387Z"
   },
   {
    "duration": 30,
    "start_time": "2023-03-22T14:01:55.392Z"
   },
   {
    "duration": 17,
    "start_time": "2023-03-22T14:01:55.423Z"
   },
   {
    "duration": 4,
    "start_time": "2023-03-22T14:01:55.442Z"
   },
   {
    "duration": 5,
    "start_time": "2023-03-22T14:01:55.448Z"
   },
   {
    "duration": 13,
    "start_time": "2023-03-22T14:01:55.454Z"
   },
   {
    "duration": 7,
    "start_time": "2023-03-22T14:01:55.468Z"
   },
   {
    "duration": 486,
    "start_time": "2023-03-22T14:01:55.477Z"
   },
   {
    "duration": 12,
    "start_time": "2023-03-22T14:01:55.968Z"
   },
   {
    "duration": 345,
    "start_time": "2023-03-22T14:01:55.982Z"
   },
   {
    "duration": 10,
    "start_time": "2023-03-22T14:01:56.328Z"
   },
   {
    "duration": 6,
    "start_time": "2023-03-22T14:01:56.339Z"
   },
   {
    "duration": 29,
    "start_time": "2023-03-22T14:01:56.346Z"
   },
   {
    "duration": 98,
    "start_time": "2023-03-22T14:01:56.377Z"
   },
   {
    "duration": 7,
    "start_time": "2023-03-22T14:01:56.477Z"
   },
   {
    "duration": 31,
    "start_time": "2023-03-22T14:01:56.489Z"
   },
   {
    "duration": 5,
    "start_time": "2023-03-22T14:01:56.521Z"
   },
   {
    "duration": 49,
    "start_time": "2023-03-22T14:01:56.527Z"
   },
   {
    "duration": 17,
    "start_time": "2023-03-22T14:01:56.577Z"
   },
   {
    "duration": 8,
    "start_time": "2023-03-22T14:01:56.596Z"
   },
   {
    "duration": 31,
    "start_time": "2023-03-22T14:01:56.606Z"
   },
   {
    "duration": 6,
    "start_time": "2023-03-22T14:01:56.638Z"
   },
   {
    "duration": 100,
    "start_time": "2023-03-22T14:02:01.617Z"
   },
   {
    "duration": 94,
    "start_time": "2023-03-22T14:02:29.497Z"
   },
   {
    "duration": 93,
    "start_time": "2023-03-22T14:02:30.900Z"
   },
   {
    "duration": 92,
    "start_time": "2023-03-22T14:02:38.192Z"
   },
   {
    "duration": 98,
    "start_time": "2023-03-22T14:04:49.818Z"
   },
   {
    "duration": 13,
    "start_time": "2023-03-22T14:08:29.330Z"
   },
   {
    "duration": 151,
    "start_time": "2023-03-22T14:08:51.431Z"
   },
   {
    "duration": 4,
    "start_time": "2023-03-22T14:10:17.538Z"
   },
   {
    "duration": 128,
    "start_time": "2023-03-22T14:10:29.163Z"
   },
   {
    "duration": 136,
    "start_time": "2023-03-22T14:20:02.694Z"
   },
   {
    "duration": 123,
    "start_time": "2023-03-22T14:20:03.728Z"
   },
   {
    "duration": 211,
    "start_time": "2023-03-22T14:20:04.633Z"
   },
   {
    "duration": 143,
    "start_time": "2023-03-22T14:20:04.937Z"
   },
   {
    "duration": 118,
    "start_time": "2023-03-22T14:20:05.172Z"
   },
   {
    "duration": 133,
    "start_time": "2023-03-22T14:20:05.456Z"
   },
   {
    "duration": 6,
    "start_time": "2023-03-22T14:22:36.137Z"
   },
   {
    "duration": 169,
    "start_time": "2023-03-22T14:24:04.466Z"
   },
   {
    "duration": 160,
    "start_time": "2023-03-22T14:24:25.014Z"
   },
   {
    "duration": 144,
    "start_time": "2023-03-22T14:26:18.085Z"
   },
   {
    "duration": 163,
    "start_time": "2023-03-22T14:27:57.625Z"
   },
   {
    "duration": 198,
    "start_time": "2023-03-22T14:28:51.658Z"
   },
   {
    "duration": 210,
    "start_time": "2023-03-22T14:29:07.187Z"
   },
   {
    "duration": 152,
    "start_time": "2023-03-22T14:29:41.046Z"
   },
   {
    "duration": 238,
    "start_time": "2023-03-22T14:29:54.126Z"
   },
   {
    "duration": 173,
    "start_time": "2023-03-22T14:30:23.536Z"
   },
   {
    "duration": 6,
    "start_time": "2023-03-22T14:31:50.917Z"
   },
   {
    "duration": 211,
    "start_time": "2023-03-22T14:32:01.228Z"
   },
   {
    "duration": 248,
    "start_time": "2023-03-22T14:32:07.773Z"
   },
   {
    "duration": 187,
    "start_time": "2023-03-22T14:43:48.984Z"
   },
   {
    "duration": 191,
    "start_time": "2023-03-22T14:44:26.261Z"
   },
   {
    "duration": 186,
    "start_time": "2023-03-22T14:45:19.682Z"
   },
   {
    "duration": 280,
    "start_time": "2023-03-22T14:46:42.949Z"
   },
   {
    "duration": 208,
    "start_time": "2023-03-22T14:47:10.454Z"
   },
   {
    "duration": 204,
    "start_time": "2023-03-22T14:53:35.448Z"
   },
   {
    "duration": 209,
    "start_time": "2023-03-22T14:54:31.078Z"
   },
   {
    "duration": 49,
    "start_time": "2023-03-22T14:54:37.574Z"
   },
   {
    "duration": 294,
    "start_time": "2023-03-22T14:54:39.951Z"
   },
   {
    "duration": 256,
    "start_time": "2023-03-22T14:54:42.172Z"
   },
   {
    "duration": 1088,
    "start_time": "2023-03-22T15:18:28.175Z"
   },
   {
    "duration": 103,
    "start_time": "2023-03-22T15:18:29.266Z"
   },
   {
    "duration": 20,
    "start_time": "2023-03-22T15:18:29.375Z"
   },
   {
    "duration": 465,
    "start_time": "2023-03-22T15:18:29.398Z"
   },
   {
    "duration": 313,
    "start_time": "2023-03-22T15:18:29.868Z"
   },
   {
    "duration": 161,
    "start_time": "2023-03-22T15:18:30.183Z"
   },
   {
    "duration": 1148,
    "start_time": "2023-03-22T15:18:30.345Z"
   },
   {
    "duration": 135,
    "start_time": "2023-03-22T15:18:31.495Z"
   },
   {
    "duration": 18,
    "start_time": "2023-03-22T15:18:31.631Z"
   },
   {
    "duration": 18,
    "start_time": "2023-03-22T15:18:31.668Z"
   },
   {
    "duration": 20,
    "start_time": "2023-03-22T15:18:31.688Z"
   },
   {
    "duration": 28,
    "start_time": "2023-03-22T15:18:31.714Z"
   },
   {
    "duration": 5,
    "start_time": "2023-03-22T15:18:31.744Z"
   },
   {
    "duration": 34,
    "start_time": "2023-03-22T15:18:31.751Z"
   },
   {
    "duration": 17,
    "start_time": "2023-03-22T15:18:31.788Z"
   },
   {
    "duration": 10,
    "start_time": "2023-03-22T15:18:31.807Z"
   },
   {
    "duration": 14,
    "start_time": "2023-03-22T15:18:31.819Z"
   },
   {
    "duration": 33,
    "start_time": "2023-03-22T15:18:31.835Z"
   },
   {
    "duration": 17,
    "start_time": "2023-03-22T15:18:31.870Z"
   },
   {
    "duration": 584,
    "start_time": "2023-03-22T15:18:31.888Z"
   },
   {
    "duration": 10,
    "start_time": "2023-03-22T15:18:32.474Z"
   },
   {
    "duration": 464,
    "start_time": "2023-03-22T15:18:32.485Z"
   },
   {
    "duration": 18,
    "start_time": "2023-03-22T15:18:32.951Z"
   },
   {
    "duration": 7,
    "start_time": "2023-03-22T15:18:32.970Z"
   },
   {
    "duration": 11,
    "start_time": "2023-03-22T15:18:32.978Z"
   },
   {
    "duration": 102,
    "start_time": "2023-03-22T15:18:32.991Z"
   },
   {
    "duration": 9,
    "start_time": "2023-03-22T15:18:33.095Z"
   },
   {
    "duration": 61,
    "start_time": "2023-03-22T15:18:33.108Z"
   },
   {
    "duration": 7,
    "start_time": "2023-03-22T15:18:33.171Z"
   },
   {
    "duration": 33,
    "start_time": "2023-03-22T15:18:33.179Z"
   },
   {
    "duration": 8,
    "start_time": "2023-03-22T15:18:33.214Z"
   },
   {
    "duration": 8,
    "start_time": "2023-03-22T15:18:33.223Z"
   },
   {
    "duration": 69,
    "start_time": "2023-03-22T15:18:33.233Z"
   },
   {
    "duration": 5,
    "start_time": "2023-03-22T15:18:33.304Z"
   },
   {
    "duration": 157,
    "start_time": "2023-03-22T15:18:33.311Z"
   },
   {
    "duration": 111,
    "start_time": "2023-03-22T15:18:33.471Z"
   },
   {
    "duration": 106,
    "start_time": "2023-03-22T15:18:33.584Z"
   },
   {
    "duration": 106,
    "start_time": "2023-03-22T15:18:33.691Z"
   },
   {
    "duration": 124,
    "start_time": "2023-03-22T15:18:33.799Z"
   },
   {
    "duration": 141,
    "start_time": "2023-03-22T15:18:33.925Z"
   },
   {
    "duration": 229,
    "start_time": "2023-03-22T15:18:34.068Z"
   },
   {
    "duration": 140,
    "start_time": "2023-03-22T15:18:34.298Z"
   },
   {
    "duration": 131,
    "start_time": "2023-03-22T15:18:34.440Z"
   },
   {
    "duration": 5,
    "start_time": "2023-03-22T15:18:34.573Z"
   },
   {
    "duration": 5,
    "start_time": "2023-03-22T15:18:34.579Z"
   },
   {
    "duration": 7,
    "start_time": "2023-03-22T15:18:34.585Z"
   },
   {
    "duration": 283,
    "start_time": "2023-03-22T15:18:34.594Z"
   },
   {
    "duration": 7,
    "start_time": "2023-03-22T15:18:34.879Z"
   },
   {
    "duration": 6,
    "start_time": "2023-03-22T15:18:34.888Z"
   },
   {
    "duration": 8,
    "start_time": "2023-03-22T15:18:34.895Z"
   },
   {
    "duration": 8,
    "start_time": "2023-03-22T15:18:34.905Z"
   },
   {
    "duration": 8,
    "start_time": "2023-03-22T15:18:34.914Z"
   },
   {
    "duration": 48,
    "start_time": "2023-03-22T15:18:34.924Z"
   },
   {
    "duration": 12,
    "start_time": "2023-03-22T15:18:34.975Z"
   },
   {
    "duration": 7,
    "start_time": "2023-03-22T15:18:34.988Z"
   },
   {
    "duration": 7,
    "start_time": "2023-03-22T15:18:34.997Z"
   },
   {
    "duration": 10,
    "start_time": "2023-03-22T15:18:35.006Z"
   },
   {
    "duration": 13,
    "start_time": "2023-03-22T15:18:35.018Z"
   },
   {
    "duration": 38,
    "start_time": "2023-03-22T15:18:35.032Z"
   },
   {
    "duration": 13,
    "start_time": "2023-03-22T15:18:35.073Z"
   },
   {
    "duration": 9,
    "start_time": "2023-03-22T15:19:02.788Z"
   },
   {
    "duration": 936,
    "start_time": "2023-03-22T15:25:54.234Z"
   },
   {
    "duration": 95,
    "start_time": "2023-03-22T15:25:55.172Z"
   },
   {
    "duration": 16,
    "start_time": "2023-03-22T15:25:55.269Z"
   },
   {
    "duration": 463,
    "start_time": "2023-03-22T15:25:55.288Z"
   },
   {
    "duration": 209,
    "start_time": "2023-03-22T15:25:55.755Z"
   },
   {
    "duration": 148,
    "start_time": "2023-03-22T15:25:55.968Z"
   },
   {
    "duration": 1040,
    "start_time": "2023-03-22T15:25:56.118Z"
   },
   {
    "duration": 130,
    "start_time": "2023-03-22T15:25:57.160Z"
   },
   {
    "duration": 14,
    "start_time": "2023-03-22T15:25:57.292Z"
   },
   {
    "duration": 10,
    "start_time": "2023-03-22T15:25:57.308Z"
   },
   {
    "duration": 16,
    "start_time": "2023-03-22T15:25:57.320Z"
   },
   {
    "duration": 39,
    "start_time": "2023-03-22T15:25:57.338Z"
   },
   {
    "duration": 4,
    "start_time": "2023-03-22T15:25:57.379Z"
   },
   {
    "duration": 20,
    "start_time": "2023-03-22T15:25:57.385Z"
   },
   {
    "duration": 42,
    "start_time": "2023-03-22T15:25:57.407Z"
   },
   {
    "duration": 6,
    "start_time": "2023-03-22T15:25:57.451Z"
   },
   {
    "duration": 7,
    "start_time": "2023-03-22T15:25:57.458Z"
   },
   {
    "duration": 13,
    "start_time": "2023-03-22T15:25:57.467Z"
   },
   {
    "duration": 6,
    "start_time": "2023-03-22T15:25:57.482Z"
   },
   {
    "duration": 551,
    "start_time": "2023-03-22T15:25:57.490Z"
   },
   {
    "duration": 8,
    "start_time": "2023-03-22T15:25:58.043Z"
   },
   {
    "duration": 349,
    "start_time": "2023-03-22T15:25:58.052Z"
   },
   {
    "duration": 9,
    "start_time": "2023-03-22T15:25:58.403Z"
   },
   {
    "duration": 12,
    "start_time": "2023-03-22T15:25:58.414Z"
   },
   {
    "duration": 11,
    "start_time": "2023-03-22T15:25:58.427Z"
   },
   {
    "duration": 87,
    "start_time": "2023-03-22T15:25:58.440Z"
   },
   {
    "duration": 5,
    "start_time": "2023-03-22T15:25:58.529Z"
   },
   {
    "duration": 42,
    "start_time": "2023-03-22T15:25:58.537Z"
   },
   {
    "duration": 6,
    "start_time": "2023-03-22T15:25:58.581Z"
   },
   {
    "duration": 28,
    "start_time": "2023-03-22T15:25:58.588Z"
   },
   {
    "duration": 6,
    "start_time": "2023-03-22T15:25:58.617Z"
   },
   {
    "duration": 7,
    "start_time": "2023-03-22T15:25:58.625Z"
   },
   {
    "duration": 45,
    "start_time": "2023-03-22T15:25:58.634Z"
   },
   {
    "duration": 5,
    "start_time": "2023-03-22T15:25:58.681Z"
   },
   {
    "duration": 113,
    "start_time": "2023-03-22T15:25:58.688Z"
   },
   {
    "duration": 90,
    "start_time": "2023-03-22T15:25:58.802Z"
   },
   {
    "duration": 93,
    "start_time": "2023-03-22T15:25:58.893Z"
   },
   {
    "duration": 99,
    "start_time": "2023-03-22T15:25:58.988Z"
   },
   {
    "duration": 127,
    "start_time": "2023-03-22T15:25:59.089Z"
   },
   {
    "duration": 122,
    "start_time": "2023-03-22T15:25:59.218Z"
   },
   {
    "duration": 223,
    "start_time": "2023-03-22T15:25:59.342Z"
   },
   {
    "duration": 131,
    "start_time": "2023-03-22T15:25:59.569Z"
   },
   {
    "duration": 126,
    "start_time": "2023-03-22T15:25:59.701Z"
   },
   {
    "duration": 4,
    "start_time": "2023-03-22T15:25:59.829Z"
   },
   {
    "duration": 4,
    "start_time": "2023-03-22T15:25:59.835Z"
   },
   {
    "duration": 28,
    "start_time": "2023-03-22T15:25:59.841Z"
   },
   {
    "duration": 236,
    "start_time": "2023-03-22T15:25:59.870Z"
   },
   {
    "duration": 7,
    "start_time": "2023-03-22T15:26:00.108Z"
   },
   {
    "duration": 25,
    "start_time": "2023-03-22T15:26:00.117Z"
   },
   {
    "duration": 31,
    "start_time": "2023-03-22T15:26:00.144Z"
   },
   {
    "duration": 24,
    "start_time": "2023-03-22T15:26:00.176Z"
   },
   {
    "duration": 41,
    "start_time": "2023-03-22T15:26:00.202Z"
   },
   {
    "duration": 34,
    "start_time": "2023-03-22T15:26:00.245Z"
   },
   {
    "duration": 26,
    "start_time": "2023-03-22T15:26:00.281Z"
   },
   {
    "duration": 27,
    "start_time": "2023-03-22T15:26:00.308Z"
   },
   {
    "duration": 18,
    "start_time": "2023-03-22T15:26:00.336Z"
   },
   {
    "duration": 32,
    "start_time": "2023-03-22T15:26:00.356Z"
   },
   {
    "duration": 26,
    "start_time": "2023-03-22T15:26:00.389Z"
   },
   {
    "duration": 22,
    "start_time": "2023-03-22T15:26:00.417Z"
   },
   {
    "duration": 26,
    "start_time": "2023-03-22T15:26:00.440Z"
   },
   {
    "duration": 6,
    "start_time": "2023-03-22T15:26:10.772Z"
   },
   {
    "duration": 6,
    "start_time": "2023-03-22T15:26:11.391Z"
   },
   {
    "duration": 3,
    "start_time": "2023-03-22T15:28:38.875Z"
   },
   {
    "duration": 48,
    "start_time": "2023-03-22T15:28:38.880Z"
   },
   {
    "duration": 12,
    "start_time": "2023-03-22T15:28:38.931Z"
   },
   {
    "duration": 452,
    "start_time": "2023-03-22T15:28:38.944Z"
   },
   {
    "duration": 235,
    "start_time": "2023-03-22T15:28:39.398Z"
   },
   {
    "duration": 161,
    "start_time": "2023-03-22T15:28:39.635Z"
   },
   {
    "duration": 1013,
    "start_time": "2023-03-22T15:28:39.798Z"
   },
   {
    "duration": 146,
    "start_time": "2023-03-22T15:28:40.813Z"
   },
   {
    "duration": 22,
    "start_time": "2023-03-22T15:28:40.960Z"
   },
   {
    "duration": 16,
    "start_time": "2023-03-22T15:28:40.984Z"
   },
   {
    "duration": 21,
    "start_time": "2023-03-22T15:28:41.003Z"
   },
   {
    "duration": 34,
    "start_time": "2023-03-22T15:28:41.025Z"
   },
   {
    "duration": 3,
    "start_time": "2023-03-22T15:28:41.061Z"
   },
   {
    "duration": 3,
    "start_time": "2023-03-22T15:28:41.068Z"
   },
   {
    "duration": 8,
    "start_time": "2023-03-22T15:28:41.073Z"
   },
   {
    "duration": 5,
    "start_time": "2023-03-22T15:28:41.082Z"
   },
   {
    "duration": 8,
    "start_time": "2023-03-22T15:28:41.089Z"
   },
   {
    "duration": 13,
    "start_time": "2023-03-22T15:28:41.098Z"
   },
   {
    "duration": 5,
    "start_time": "2023-03-22T15:28:41.112Z"
   },
   {
    "duration": 529,
    "start_time": "2023-03-22T15:28:41.119Z"
   },
   {
    "duration": 8,
    "start_time": "2023-03-22T15:28:41.649Z"
   },
   {
    "duration": 342,
    "start_time": "2023-03-22T15:28:41.669Z"
   },
   {
    "duration": 8,
    "start_time": "2023-03-22T15:28:42.013Z"
   },
   {
    "duration": 14,
    "start_time": "2023-03-22T15:28:42.023Z"
   },
   {
    "duration": 21,
    "start_time": "2023-03-22T15:28:42.038Z"
   },
   {
    "duration": 77,
    "start_time": "2023-03-22T15:28:42.060Z"
   },
   {
    "duration": 7,
    "start_time": "2023-03-22T15:28:42.139Z"
   },
   {
    "duration": 45,
    "start_time": "2023-03-22T15:28:42.148Z"
   },
   {
    "duration": 5,
    "start_time": "2023-03-22T15:28:42.197Z"
   },
   {
    "duration": 20,
    "start_time": "2023-03-22T15:28:42.204Z"
   },
   {
    "duration": 7,
    "start_time": "2023-03-22T15:28:42.225Z"
   },
   {
    "duration": 7,
    "start_time": "2023-03-22T15:28:42.233Z"
   },
   {
    "duration": 25,
    "start_time": "2023-03-22T15:28:42.269Z"
   },
   {
    "duration": 6,
    "start_time": "2023-03-22T15:28:42.296Z"
   },
   {
    "duration": 112,
    "start_time": "2023-03-22T15:28:42.303Z"
   },
   {
    "duration": 127,
    "start_time": "2023-03-22T15:28:42.418Z"
   },
   {
    "duration": 128,
    "start_time": "2023-03-22T15:28:42.548Z"
   },
   {
    "duration": 116,
    "start_time": "2023-03-22T15:28:42.678Z"
   },
   {
    "duration": 96,
    "start_time": "2023-03-22T15:28:42.796Z"
   },
   {
    "duration": 105,
    "start_time": "2023-03-22T15:28:42.894Z"
   },
   {
    "duration": 211,
    "start_time": "2023-03-22T15:28:43.000Z"
   },
   {
    "duration": 127,
    "start_time": "2023-03-22T15:28:43.213Z"
   },
   {
    "duration": 129,
    "start_time": "2023-03-22T15:28:43.341Z"
   },
   {
    "duration": 5,
    "start_time": "2023-03-22T15:28:43.471Z"
   },
   {
    "duration": 6,
    "start_time": "2023-03-22T15:28:43.477Z"
   },
   {
    "duration": 5,
    "start_time": "2023-03-22T15:28:43.484Z"
   },
   {
    "duration": 178,
    "start_time": "2023-03-22T15:28:43.490Z"
   },
   {
    "duration": 6,
    "start_time": "2023-03-22T15:28:43.670Z"
   },
   {
    "duration": 6,
    "start_time": "2023-03-22T15:28:43.678Z"
   },
   {
    "duration": 9,
    "start_time": "2023-03-22T15:28:43.686Z"
   },
   {
    "duration": 7,
    "start_time": "2023-03-22T15:28:43.696Z"
   },
   {
    "duration": 14,
    "start_time": "2023-03-22T15:28:43.705Z"
   },
   {
    "duration": 6,
    "start_time": "2023-03-22T15:28:43.721Z"
   },
   {
    "duration": 6,
    "start_time": "2023-03-22T15:28:43.729Z"
   },
   {
    "duration": 11,
    "start_time": "2023-03-22T15:28:43.774Z"
   },
   {
    "duration": 8,
    "start_time": "2023-03-22T15:28:43.786Z"
   },
   {
    "duration": 8,
    "start_time": "2023-03-22T15:28:43.795Z"
   },
   {
    "duration": 97,
    "start_time": "2023-03-22T15:28:43.804Z"
   },
   {
    "duration": 7,
    "start_time": "2023-03-22T15:28:43.902Z"
   },
   {
    "duration": 10,
    "start_time": "2023-03-22T15:28:43.910Z"
   },
   {
    "duration": 181,
    "start_time": "2023-03-22T15:33:33.127Z"
   },
   {
    "duration": 3,
    "start_time": "2023-03-22T15:34:43.246Z"
   },
   {
    "duration": 49,
    "start_time": "2023-03-22T15:34:43.251Z"
   },
   {
    "duration": 13,
    "start_time": "2023-03-22T15:34:43.302Z"
   },
   {
    "duration": 439,
    "start_time": "2023-03-22T15:34:43.317Z"
   },
   {
    "duration": 214,
    "start_time": "2023-03-22T15:34:43.759Z"
   },
   {
    "duration": 158,
    "start_time": "2023-03-22T15:34:43.975Z"
   },
   {
    "duration": 1016,
    "start_time": "2023-03-22T15:34:44.136Z"
   },
   {
    "duration": 126,
    "start_time": "2023-03-22T15:34:45.154Z"
   },
   {
    "duration": 14,
    "start_time": "2023-03-22T15:34:45.281Z"
   },
   {
    "duration": 10,
    "start_time": "2023-03-22T15:34:45.297Z"
   },
   {
    "duration": 12,
    "start_time": "2023-03-22T15:34:45.309Z"
   },
   {
    "duration": 15,
    "start_time": "2023-03-22T15:34:45.322Z"
   },
   {
    "duration": 30,
    "start_time": "2023-03-22T15:34:45.339Z"
   },
   {
    "duration": 4,
    "start_time": "2023-03-22T15:34:45.370Z"
   },
   {
    "duration": 8,
    "start_time": "2023-03-22T15:34:45.375Z"
   },
   {
    "duration": 15,
    "start_time": "2023-03-22T15:34:45.384Z"
   },
   {
    "duration": 5,
    "start_time": "2023-03-22T15:34:45.401Z"
   },
   {
    "duration": 16,
    "start_time": "2023-03-22T15:34:45.408Z"
   },
   {
    "duration": 10,
    "start_time": "2023-03-22T15:34:45.425Z"
   },
   {
    "duration": 507,
    "start_time": "2023-03-22T15:34:45.436Z"
   },
   {
    "duration": 8,
    "start_time": "2023-03-22T15:34:45.944Z"
   },
   {
    "duration": 351,
    "start_time": "2023-03-22T15:34:45.968Z"
   },
   {
    "duration": 10,
    "start_time": "2023-03-22T15:34:46.321Z"
   },
   {
    "duration": 7,
    "start_time": "2023-03-22T15:34:46.332Z"
   },
   {
    "duration": 29,
    "start_time": "2023-03-22T15:34:46.340Z"
   },
   {
    "duration": 72,
    "start_time": "2023-03-22T15:34:46.370Z"
   },
   {
    "duration": 6,
    "start_time": "2023-03-22T15:34:46.443Z"
   },
   {
    "duration": 42,
    "start_time": "2023-03-22T15:34:46.450Z"
   },
   {
    "duration": 5,
    "start_time": "2023-03-22T15:34:46.496Z"
   },
   {
    "duration": 20,
    "start_time": "2023-03-22T15:34:46.503Z"
   },
   {
    "duration": 6,
    "start_time": "2023-03-22T15:34:46.525Z"
   },
   {
    "duration": 9,
    "start_time": "2023-03-22T15:34:46.533Z"
   },
   {
    "duration": 54,
    "start_time": "2023-03-22T15:34:46.544Z"
   },
   {
    "duration": 5,
    "start_time": "2023-03-22T15:34:46.600Z"
   },
   {
    "duration": 104,
    "start_time": "2023-03-22T15:34:46.606Z"
   },
   {
    "duration": 99,
    "start_time": "2023-03-22T15:34:46.712Z"
   },
   {
    "duration": 92,
    "start_time": "2023-03-22T15:34:46.812Z"
   },
   {
    "duration": 95,
    "start_time": "2023-03-22T15:34:46.905Z"
   },
   {
    "duration": 97,
    "start_time": "2023-03-22T15:34:47.002Z"
   },
   {
    "duration": 104,
    "start_time": "2023-03-22T15:34:47.101Z"
   },
   {
    "duration": 205,
    "start_time": "2023-03-22T15:34:47.207Z"
   },
   {
    "duration": 127,
    "start_time": "2023-03-22T15:34:47.414Z"
   },
   {
    "duration": 137,
    "start_time": "2023-03-22T15:34:47.543Z"
   },
   {
    "duration": 5,
    "start_time": "2023-03-22T15:34:47.682Z"
   },
   {
    "duration": 6,
    "start_time": "2023-03-22T15:34:47.688Z"
   },
   {
    "duration": 10,
    "start_time": "2023-03-22T15:34:47.696Z"
   },
   {
    "duration": 199,
    "start_time": "2023-03-22T15:34:47.707Z"
   },
   {
    "duration": 7,
    "start_time": "2023-03-22T15:34:47.908Z"
   },
   {
    "duration": 13,
    "start_time": "2023-03-22T15:34:47.916Z"
   },
   {
    "duration": 6,
    "start_time": "2023-03-22T15:34:47.930Z"
   },
   {
    "duration": 31,
    "start_time": "2023-03-22T15:34:47.937Z"
   },
   {
    "duration": 13,
    "start_time": "2023-03-22T15:34:47.970Z"
   },
   {
    "duration": 6,
    "start_time": "2023-03-22T15:34:47.984Z"
   },
   {
    "duration": 14,
    "start_time": "2023-03-22T15:34:47.991Z"
   },
   {
    "duration": 11,
    "start_time": "2023-03-22T15:34:48.007Z"
   },
   {
    "duration": 12,
    "start_time": "2023-03-22T15:34:48.020Z"
   },
   {
    "duration": 6,
    "start_time": "2023-03-22T15:34:48.033Z"
   },
   {
    "duration": 6,
    "start_time": "2023-03-22T15:34:48.040Z"
   },
   {
    "duration": 105,
    "start_time": "2023-03-22T15:34:48.047Z"
   },
   {
    "duration": 18,
    "start_time": "2023-03-22T15:34:48.154Z"
   },
   {
    "duration": 11,
    "start_time": "2023-03-22T15:35:20.222Z"
   },
   {
    "duration": 1000,
    "start_time": "2023-03-22T15:35:47.161Z"
   },
   {
    "duration": 94,
    "start_time": "2023-03-22T15:35:48.164Z"
   },
   {
    "duration": 19,
    "start_time": "2023-03-22T15:35:48.261Z"
   },
   {
    "duration": 441,
    "start_time": "2023-03-22T15:35:48.281Z"
   },
   {
    "duration": 203,
    "start_time": "2023-03-22T15:35:48.725Z"
   },
   {
    "duration": 165,
    "start_time": "2023-03-22T15:35:48.930Z"
   },
   {
    "duration": 1173,
    "start_time": "2023-03-22T15:35:49.097Z"
   },
   {
    "duration": 144,
    "start_time": "2023-03-22T15:35:50.272Z"
   },
   {
    "duration": 14,
    "start_time": "2023-03-22T15:35:50.418Z"
   },
   {
    "duration": 14,
    "start_time": "2023-03-22T15:35:50.434Z"
   },
   {
    "duration": 34,
    "start_time": "2023-03-22T15:35:50.449Z"
   },
   {
    "duration": 20,
    "start_time": "2023-03-22T15:35:50.484Z"
   },
   {
    "duration": 5,
    "start_time": "2023-03-22T15:35:50.506Z"
   },
   {
    "duration": 4,
    "start_time": "2023-03-22T15:35:50.514Z"
   },
   {
    "duration": 27,
    "start_time": "2023-03-22T15:35:50.520Z"
   },
   {
    "duration": 15,
    "start_time": "2023-03-22T15:35:50.549Z"
   },
   {
    "duration": 21,
    "start_time": "2023-03-22T15:35:50.565Z"
   },
   {
    "duration": 13,
    "start_time": "2023-03-22T15:35:50.587Z"
   },
   {
    "duration": 7,
    "start_time": "2023-03-22T15:35:50.602Z"
   },
   {
    "duration": 558,
    "start_time": "2023-03-22T15:35:50.610Z"
   },
   {
    "duration": 7,
    "start_time": "2023-03-22T15:35:51.170Z"
   },
   {
    "duration": 331,
    "start_time": "2023-03-22T15:35:51.179Z"
   },
   {
    "duration": 11,
    "start_time": "2023-03-22T15:35:51.512Z"
   },
   {
    "duration": 7,
    "start_time": "2023-03-22T15:35:51.525Z"
   },
   {
    "duration": 11,
    "start_time": "2023-03-22T15:35:51.534Z"
   },
   {
    "duration": 93,
    "start_time": "2023-03-22T15:35:51.547Z"
   },
   {
    "duration": 8,
    "start_time": "2023-03-22T15:35:51.642Z"
   },
   {
    "duration": 41,
    "start_time": "2023-03-22T15:35:51.668Z"
   },
   {
    "duration": 6,
    "start_time": "2023-03-22T15:35:51.711Z"
   },
   {
    "duration": 37,
    "start_time": "2023-03-22T15:35:51.719Z"
   },
   {
    "duration": 11,
    "start_time": "2023-03-22T15:35:51.768Z"
   },
   {
    "duration": 9,
    "start_time": "2023-03-22T15:35:51.780Z"
   },
   {
    "duration": 34,
    "start_time": "2023-03-22T15:35:51.790Z"
   },
   {
    "duration": 6,
    "start_time": "2023-03-22T15:35:51.826Z"
   },
   {
    "duration": 114,
    "start_time": "2023-03-22T15:35:51.833Z"
   },
   {
    "duration": 94,
    "start_time": "2023-03-22T15:35:51.949Z"
   },
   {
    "duration": 108,
    "start_time": "2023-03-22T15:35:52.045Z"
   },
   {
    "duration": 131,
    "start_time": "2023-03-22T15:35:52.155Z"
   },
   {
    "duration": 121,
    "start_time": "2023-03-22T15:35:52.287Z"
   },
   {
    "duration": 138,
    "start_time": "2023-03-22T15:35:52.411Z"
   },
   {
    "duration": 273,
    "start_time": "2023-03-22T15:35:52.554Z"
   },
   {
    "duration": 144,
    "start_time": "2023-03-22T15:35:52.829Z"
   },
   {
    "duration": 123,
    "start_time": "2023-03-22T15:35:52.975Z"
   },
   {
    "duration": 5,
    "start_time": "2023-03-22T15:35:53.100Z"
   },
   {
    "duration": 8,
    "start_time": "2023-03-22T15:35:53.106Z"
   },
   {
    "duration": 5,
    "start_time": "2023-03-22T15:35:53.115Z"
   },
   {
    "duration": 295,
    "start_time": "2023-03-22T15:35:53.122Z"
   },
   {
    "duration": 7,
    "start_time": "2023-03-22T15:35:53.418Z"
   },
   {
    "duration": 8,
    "start_time": "2023-03-22T15:35:53.427Z"
   },
   {
    "duration": 8,
    "start_time": "2023-03-22T15:35:53.437Z"
   },
   {
    "duration": 28,
    "start_time": "2023-03-22T15:35:53.446Z"
   },
   {
    "duration": 7,
    "start_time": "2023-03-22T15:35:53.476Z"
   },
   {
    "duration": 7,
    "start_time": "2023-03-22T15:35:53.485Z"
   },
   {
    "duration": 8,
    "start_time": "2023-03-22T15:35:53.494Z"
   },
   {
    "duration": 12,
    "start_time": "2023-03-22T15:35:53.503Z"
   },
   {
    "duration": 10,
    "start_time": "2023-03-22T15:35:53.516Z"
   },
   {
    "duration": 41,
    "start_time": "2023-03-22T15:35:53.529Z"
   },
   {
    "duration": 8,
    "start_time": "2023-03-22T15:35:53.572Z"
   },
   {
    "duration": 8,
    "start_time": "2023-03-22T15:35:53.582Z"
   },
   {
    "duration": 11,
    "start_time": "2023-03-22T15:35:53.591Z"
   },
   {
    "duration": 1112,
    "start_time": "2023-03-23T10:50:32.175Z"
   },
   {
    "duration": 108,
    "start_time": "2023-03-23T10:50:33.289Z"
   },
   {
    "duration": 17,
    "start_time": "2023-03-23T10:50:33.400Z"
   },
   {
    "duration": 551,
    "start_time": "2023-03-23T10:50:33.419Z"
   },
   {
    "duration": 229,
    "start_time": "2023-03-23T10:50:33.972Z"
   },
   {
    "duration": 176,
    "start_time": "2023-03-23T10:50:34.203Z"
   },
   {
    "duration": 1770,
    "start_time": "2023-03-23T10:50:34.381Z"
   },
   {
    "duration": 323,
    "start_time": "2023-03-23T10:50:36.153Z"
   },
   {
    "duration": 72,
    "start_time": "2023-03-23T10:50:36.478Z"
   },
   {
    "duration": 87,
    "start_time": "2023-03-23T10:50:36.552Z"
   },
   {
    "duration": 22,
    "start_time": "2023-03-23T10:50:36.641Z"
   },
   {
    "duration": 83,
    "start_time": "2023-03-23T10:50:36.664Z"
   },
   {
    "duration": 31,
    "start_time": "2023-03-23T10:50:36.749Z"
   },
   {
    "duration": 4,
    "start_time": "2023-03-23T10:50:36.787Z"
   },
   {
    "duration": 67,
    "start_time": "2023-03-23T10:50:36.832Z"
   },
   {
    "duration": 5,
    "start_time": "2023-03-23T10:50:36.901Z"
   },
   {
    "duration": 73,
    "start_time": "2023-03-23T10:50:36.908Z"
   },
   {
    "duration": 64,
    "start_time": "2023-03-23T10:50:36.983Z"
   },
   {
    "duration": 33,
    "start_time": "2023-03-23T10:50:37.049Z"
   },
   {
    "duration": 645,
    "start_time": "2023-03-23T10:50:37.084Z"
   },
   {
    "duration": 13,
    "start_time": "2023-03-23T10:50:37.730Z"
   },
   {
    "duration": 383,
    "start_time": "2023-03-23T10:50:37.744Z"
   },
   {
    "duration": 9,
    "start_time": "2023-03-23T10:50:38.128Z"
   },
   {
    "duration": 33,
    "start_time": "2023-03-23T10:50:38.139Z"
   },
   {
    "duration": 18,
    "start_time": "2023-03-23T10:50:38.174Z"
   },
   {
    "duration": 125,
    "start_time": "2023-03-23T10:50:38.194Z"
   },
   {
    "duration": 23,
    "start_time": "2023-03-23T10:50:38.320Z"
   },
   {
    "duration": 44,
    "start_time": "2023-03-23T10:50:38.352Z"
   },
   {
    "duration": 5,
    "start_time": "2023-03-23T10:50:38.397Z"
   },
   {
    "duration": 44,
    "start_time": "2023-03-23T10:50:38.403Z"
   },
   {
    "duration": 26,
    "start_time": "2023-03-23T10:50:38.449Z"
   },
   {
    "duration": 7,
    "start_time": "2023-03-23T10:50:38.476Z"
   },
   {
    "duration": 36,
    "start_time": "2023-03-23T10:50:38.485Z"
   },
   {
    "duration": 19,
    "start_time": "2023-03-23T10:50:38.540Z"
   },
   {
    "duration": 105,
    "start_time": "2023-03-23T10:50:38.564Z"
   },
   {
    "duration": 98,
    "start_time": "2023-03-23T10:50:38.671Z"
   },
   {
    "duration": 102,
    "start_time": "2023-03-23T10:50:38.770Z"
   },
   {
    "duration": 142,
    "start_time": "2023-03-23T10:50:38.875Z"
   },
   {
    "duration": 152,
    "start_time": "2023-03-23T10:50:39.019Z"
   },
   {
    "duration": 146,
    "start_time": "2023-03-23T10:50:39.173Z"
   },
   {
    "duration": 263,
    "start_time": "2023-03-23T10:50:39.328Z"
   },
   {
    "duration": 153,
    "start_time": "2023-03-23T10:50:39.593Z"
   },
   {
    "duration": 161,
    "start_time": "2023-03-23T10:50:39.753Z"
   },
   {
    "duration": 31,
    "start_time": "2023-03-23T10:50:39.916Z"
   },
   {
    "duration": 38,
    "start_time": "2023-03-23T10:50:39.963Z"
   },
   {
    "duration": 9,
    "start_time": "2023-03-23T10:50:40.003Z"
   },
   {
    "duration": 375,
    "start_time": "2023-03-23T10:50:40.014Z"
   },
   {
    "duration": 9,
    "start_time": "2023-03-23T10:50:40.391Z"
   },
   {
    "duration": 37,
    "start_time": "2023-03-23T10:50:40.402Z"
   },
   {
    "duration": 28,
    "start_time": "2023-03-23T10:50:40.447Z"
   },
   {
    "duration": 10,
    "start_time": "2023-03-23T10:50:40.477Z"
   },
   {
    "duration": 15,
    "start_time": "2023-03-23T10:50:40.489Z"
   },
   {
    "duration": 41,
    "start_time": "2023-03-23T10:50:40.506Z"
   },
   {
    "duration": 8,
    "start_time": "2023-03-23T10:50:40.564Z"
   },
   {
    "duration": 8,
    "start_time": "2023-03-23T10:50:40.574Z"
   },
   {
    "duration": 31,
    "start_time": "2023-03-23T10:50:40.583Z"
   },
   {
    "duration": 53,
    "start_time": "2023-03-23T10:50:40.616Z"
   },
   {
    "duration": 10,
    "start_time": "2023-03-23T10:50:40.671Z"
   },
   {
    "duration": 29,
    "start_time": "2023-03-23T10:50:40.682Z"
   },
   {
    "duration": 84,
    "start_time": "2023-03-23T10:50:40.713Z"
   },
   {
    "duration": 1304,
    "start_time": "2023-03-23T10:51:27.099Z"
   },
   {
    "duration": 139,
    "start_time": "2023-03-23T10:51:28.405Z"
   },
   {
    "duration": 21,
    "start_time": "2023-03-23T10:51:28.546Z"
   },
   {
    "duration": 584,
    "start_time": "2023-03-23T10:51:28.571Z"
   },
   {
    "duration": 277,
    "start_time": "2023-03-23T10:51:29.158Z"
   },
   {
    "duration": 223,
    "start_time": "2023-03-23T10:51:29.439Z"
   },
   {
    "duration": 1320,
    "start_time": "2023-03-23T10:51:29.663Z"
   },
   {
    "duration": 176,
    "start_time": "2023-03-23T10:51:30.995Z"
   },
   {
    "duration": 31,
    "start_time": "2023-03-23T10:51:31.176Z"
   },
   {
    "duration": 102,
    "start_time": "2023-03-23T10:51:31.212Z"
   },
   {
    "duration": 123,
    "start_time": "2023-03-23T10:51:31.315Z"
   },
   {
    "duration": 125,
    "start_time": "2023-03-23T10:51:31.440Z"
   },
   {
    "duration": 81,
    "start_time": "2023-03-23T10:51:31.567Z"
   },
   {
    "duration": 153,
    "start_time": "2023-03-23T10:51:31.651Z"
   },
   {
    "duration": 78,
    "start_time": "2023-03-23T10:51:31.805Z"
   },
   {
    "duration": 121,
    "start_time": "2023-03-23T10:51:31.885Z"
   },
   {
    "duration": 88,
    "start_time": "2023-03-23T10:51:32.008Z"
   },
   {
    "duration": 34,
    "start_time": "2023-03-23T10:51:32.097Z"
   },
   {
    "duration": 81,
    "start_time": "2023-03-23T10:51:32.132Z"
   },
   {
    "duration": 773,
    "start_time": "2023-03-23T10:51:32.215Z"
   },
   {
    "duration": 16,
    "start_time": "2023-03-23T10:51:32.996Z"
   },
   {
    "duration": 633,
    "start_time": "2023-03-23T10:51:33.014Z"
   },
   {
    "duration": 14,
    "start_time": "2023-03-23T10:51:33.650Z"
   },
   {
    "duration": 48,
    "start_time": "2023-03-23T10:51:33.668Z"
   },
   {
    "duration": 69,
    "start_time": "2023-03-23T10:51:33.718Z"
   },
   {
    "duration": 132,
    "start_time": "2023-03-23T10:51:33.791Z"
   },
   {
    "duration": 8,
    "start_time": "2023-03-23T10:51:33.939Z"
   },
   {
    "duration": 110,
    "start_time": "2023-03-23T10:51:33.951Z"
   },
   {
    "duration": 37,
    "start_time": "2023-03-23T10:51:34.065Z"
   },
   {
    "duration": 115,
    "start_time": "2023-03-23T10:51:34.104Z"
   },
   {
    "duration": 16,
    "start_time": "2023-03-23T10:51:34.227Z"
   },
   {
    "duration": 70,
    "start_time": "2023-03-23T10:51:34.248Z"
   },
   {
    "duration": 49,
    "start_time": "2023-03-23T10:51:34.320Z"
   },
   {
    "duration": 55,
    "start_time": "2023-03-23T10:51:34.373Z"
   },
   {
    "duration": 223,
    "start_time": "2023-03-23T10:51:34.430Z"
   },
   {
    "duration": 137,
    "start_time": "2023-03-23T10:51:34.661Z"
   },
   {
    "duration": 188,
    "start_time": "2023-03-23T10:51:34.805Z"
   },
   {
    "duration": 132,
    "start_time": "2023-03-23T10:51:35.000Z"
   },
   {
    "duration": 141,
    "start_time": "2023-03-23T10:51:35.134Z"
   },
   {
    "duration": 132,
    "start_time": "2023-03-23T10:51:35.277Z"
   },
   {
    "duration": 332,
    "start_time": "2023-03-23T10:51:35.415Z"
   },
   {
    "duration": 224,
    "start_time": "2023-03-23T10:51:35.751Z"
   },
   {
    "duration": 196,
    "start_time": "2023-03-23T10:51:35.981Z"
   },
   {
    "duration": 10,
    "start_time": "2023-03-23T10:51:36.184Z"
   },
   {
    "duration": 94,
    "start_time": "2023-03-23T10:51:36.199Z"
   },
   {
    "duration": 25,
    "start_time": "2023-03-23T10:51:36.295Z"
   },
   {
    "duration": 512,
    "start_time": "2023-03-23T10:51:36.328Z"
   },
   {
    "duration": 8,
    "start_time": "2023-03-23T10:51:36.842Z"
   },
   {
    "duration": 32,
    "start_time": "2023-03-23T10:51:36.853Z"
   },
   {
    "duration": 41,
    "start_time": "2023-03-23T10:51:36.890Z"
   },
   {
    "duration": 76,
    "start_time": "2023-03-23T10:51:36.936Z"
   },
   {
    "duration": 11,
    "start_time": "2023-03-23T10:51:37.014Z"
   },
   {
    "duration": 75,
    "start_time": "2023-03-23T10:51:37.026Z"
   },
   {
    "duration": 60,
    "start_time": "2023-03-23T10:51:37.103Z"
   },
   {
    "duration": 42,
    "start_time": "2023-03-23T10:51:37.169Z"
   },
   {
    "duration": 100,
    "start_time": "2023-03-23T10:51:37.216Z"
   },
   {
    "duration": 67,
    "start_time": "2023-03-23T10:51:37.317Z"
   },
   {
    "duration": 72,
    "start_time": "2023-03-23T10:51:37.385Z"
   },
   {
    "duration": 75,
    "start_time": "2023-03-23T10:51:37.458Z"
   },
   {
    "duration": 90,
    "start_time": "2023-03-23T10:51:37.535Z"
   },
   {
    "duration": 1511,
    "start_time": "2023-03-23T10:52:57.840Z"
   },
   {
    "duration": 160,
    "start_time": "2023-03-23T10:52:59.358Z"
   },
   {
    "duration": 34,
    "start_time": "2023-03-23T10:52:59.521Z"
   },
   {
    "duration": 557,
    "start_time": "2023-03-23T10:52:59.557Z"
   },
   {
    "duration": 241,
    "start_time": "2023-03-23T10:53:00.118Z"
   },
   {
    "duration": 174,
    "start_time": "2023-03-23T10:53:00.361Z"
   },
   {
    "duration": 1356,
    "start_time": "2023-03-23T10:53:00.539Z"
   },
   {
    "duration": 179,
    "start_time": "2023-03-23T10:53:01.897Z"
   },
   {
    "duration": 23,
    "start_time": "2023-03-23T10:53:02.083Z"
   },
   {
    "duration": 152,
    "start_time": "2023-03-23T10:53:02.108Z"
   },
   {
    "duration": 46,
    "start_time": "2023-03-23T10:53:02.265Z"
   },
   {
    "duration": 60,
    "start_time": "2023-03-23T10:53:02.312Z"
   },
   {
    "duration": 32,
    "start_time": "2023-03-23T10:53:02.374Z"
   },
   {
    "duration": 20,
    "start_time": "2023-03-23T10:53:02.410Z"
   },
   {
    "duration": 57,
    "start_time": "2023-03-23T10:53:02.435Z"
   },
   {
    "duration": 15,
    "start_time": "2023-03-23T10:53:02.493Z"
   },
   {
    "duration": 62,
    "start_time": "2023-03-23T10:53:02.510Z"
   },
   {
    "duration": 27,
    "start_time": "2023-03-23T10:53:02.577Z"
   },
   {
    "duration": 25,
    "start_time": "2023-03-23T10:53:02.606Z"
   },
   {
    "duration": 623,
    "start_time": "2023-03-23T10:53:02.647Z"
   },
   {
    "duration": 10,
    "start_time": "2023-03-23T10:53:03.271Z"
   },
   {
    "duration": 425,
    "start_time": "2023-03-23T10:53:03.282Z"
   },
   {
    "duration": 10,
    "start_time": "2023-03-23T10:53:03.709Z"
   },
   {
    "duration": 81,
    "start_time": "2023-03-23T10:53:03.720Z"
   },
   {
    "duration": 58,
    "start_time": "2023-03-23T10:53:03.803Z"
   },
   {
    "duration": 140,
    "start_time": "2023-03-23T10:53:03.862Z"
   },
   {
    "duration": 11,
    "start_time": "2023-03-23T10:53:04.004Z"
   },
   {
    "duration": 103,
    "start_time": "2023-03-23T10:53:04.016Z"
   },
   {
    "duration": 14,
    "start_time": "2023-03-23T10:53:04.121Z"
   },
   {
    "duration": 85,
    "start_time": "2023-03-23T10:53:04.136Z"
   },
   {
    "duration": 7,
    "start_time": "2023-03-23T10:53:04.223Z"
   },
   {
    "duration": 67,
    "start_time": "2023-03-23T10:53:04.236Z"
   },
   {
    "duration": 34,
    "start_time": "2023-03-23T10:53:04.305Z"
   },
   {
    "duration": 6,
    "start_time": "2023-03-23T10:53:04.340Z"
   },
   {
    "duration": 187,
    "start_time": "2023-03-23T10:53:04.347Z"
   },
   {
    "duration": 109,
    "start_time": "2023-03-23T10:53:04.537Z"
   },
   {
    "duration": 142,
    "start_time": "2023-03-23T10:53:04.647Z"
   },
   {
    "duration": 147,
    "start_time": "2023-03-23T10:53:04.791Z"
   },
   {
    "duration": 132,
    "start_time": "2023-03-23T10:53:04.940Z"
   },
   {
    "duration": 230,
    "start_time": "2023-03-23T10:53:05.074Z"
   },
   {
    "duration": 508,
    "start_time": "2023-03-23T10:53:05.323Z"
   },
   {
    "duration": 288,
    "start_time": "2023-03-23T10:53:05.836Z"
   },
   {
    "duration": 254,
    "start_time": "2023-03-23T10:53:06.125Z"
   },
   {
    "duration": 14,
    "start_time": "2023-03-23T10:53:06.425Z"
   },
   {
    "duration": 72,
    "start_time": "2023-03-23T10:53:06.441Z"
   },
   {
    "duration": 88,
    "start_time": "2023-03-23T10:53:06.516Z"
   },
   {
    "duration": 585,
    "start_time": "2023-03-23T10:53:06.606Z"
   },
   {
    "duration": 34,
    "start_time": "2023-03-23T10:53:07.193Z"
   },
   {
    "duration": 93,
    "start_time": "2023-03-23T10:53:07.230Z"
   },
   {
    "duration": 86,
    "start_time": "2023-03-23T10:53:07.325Z"
   },
   {
    "duration": 18,
    "start_time": "2023-03-23T10:53:07.413Z"
   },
   {
    "duration": 66,
    "start_time": "2023-03-23T10:53:07.433Z"
   },
   {
    "duration": 7,
    "start_time": "2023-03-23T10:53:07.501Z"
   },
   {
    "duration": 50,
    "start_time": "2023-03-23T10:53:07.510Z"
   },
   {
    "duration": 35,
    "start_time": "2023-03-23T10:53:07.562Z"
   },
   {
    "duration": 32,
    "start_time": "2023-03-23T10:53:07.598Z"
   },
   {
    "duration": 80,
    "start_time": "2023-03-23T10:53:07.632Z"
   },
   {
    "duration": 21,
    "start_time": "2023-03-23T10:53:07.714Z"
   },
   {
    "duration": 55,
    "start_time": "2023-03-23T10:53:07.743Z"
   },
   {
    "duration": 18,
    "start_time": "2023-03-23T10:53:07.800Z"
   },
   {
    "duration": 56,
    "start_time": "2023-03-23T12:28:16.398Z"
   },
   {
    "duration": 1347,
    "start_time": "2023-03-23T12:28:29.636Z"
   },
   {
    "duration": 152,
    "start_time": "2023-03-23T12:28:30.986Z"
   },
   {
    "duration": 16,
    "start_time": "2023-03-23T12:28:31.139Z"
   },
   {
    "duration": 507,
    "start_time": "2023-03-23T12:28:31.157Z"
   },
   {
    "duration": 200,
    "start_time": "2023-03-23T12:28:31.666Z"
   },
   {
    "duration": 148,
    "start_time": "2023-03-23T12:28:31.867Z"
   },
   {
    "duration": 956,
    "start_time": "2023-03-23T12:28:32.016Z"
   },
   {
    "duration": 123,
    "start_time": "2023-03-23T12:28:32.974Z"
   },
   {
    "duration": 14,
    "start_time": "2023-03-23T12:28:33.098Z"
   },
   {
    "duration": 10,
    "start_time": "2023-03-23T12:28:33.114Z"
   },
   {
    "duration": 14,
    "start_time": "2023-03-23T12:28:33.126Z"
   },
   {
    "duration": 15,
    "start_time": "2023-03-23T12:28:33.160Z"
   },
   {
    "duration": 3,
    "start_time": "2023-03-23T12:28:33.177Z"
   },
   {
    "duration": 8,
    "start_time": "2023-03-23T12:28:33.184Z"
   },
   {
    "duration": 13,
    "start_time": "2023-03-23T12:28:33.194Z"
   },
   {
    "duration": 5,
    "start_time": "2023-03-23T12:28:33.209Z"
   },
   {
    "duration": 20,
    "start_time": "2023-03-23T12:28:33.215Z"
   },
   {
    "duration": 16,
    "start_time": "2023-03-23T12:28:33.236Z"
   },
   {
    "duration": 11,
    "start_time": "2023-03-23T12:28:33.253Z"
   },
   {
    "duration": 601,
    "start_time": "2023-03-23T12:28:33.266Z"
   },
   {
    "duration": 10,
    "start_time": "2023-03-23T12:28:33.869Z"
   },
   {
    "duration": 350,
    "start_time": "2023-03-23T12:28:33.880Z"
   },
   {
    "duration": 10,
    "start_time": "2023-03-23T12:28:34.231Z"
   },
   {
    "duration": 36,
    "start_time": "2023-03-23T12:28:34.242Z"
   },
   {
    "duration": 34,
    "start_time": "2023-03-23T12:28:34.280Z"
   },
   {
    "duration": 135,
    "start_time": "2023-03-23T12:28:34.315Z"
   },
   {
    "duration": 7,
    "start_time": "2023-03-23T12:28:34.452Z"
   },
   {
    "duration": 80,
    "start_time": "2023-03-23T12:28:34.461Z"
   },
   {
    "duration": 29,
    "start_time": "2023-03-23T12:28:34.543Z"
   },
   {
    "duration": 48,
    "start_time": "2023-03-23T12:28:34.574Z"
   },
   {
    "duration": 16,
    "start_time": "2023-03-23T12:28:34.624Z"
   },
   {
    "duration": 31,
    "start_time": "2023-03-23T12:28:34.642Z"
   },
   {
    "duration": 36,
    "start_time": "2023-03-23T12:28:34.675Z"
   },
   {
    "duration": 5,
    "start_time": "2023-03-23T12:28:34.713Z"
   },
   {
    "duration": 102,
    "start_time": "2023-03-23T12:28:34.719Z"
   },
   {
    "duration": 90,
    "start_time": "2023-03-23T12:28:34.823Z"
   },
   {
    "duration": 96,
    "start_time": "2023-03-23T12:28:34.914Z"
   },
   {
    "duration": 104,
    "start_time": "2023-03-23T12:28:35.012Z"
   },
   {
    "duration": 103,
    "start_time": "2023-03-23T12:28:35.118Z"
   },
   {
    "duration": 101,
    "start_time": "2023-03-23T12:28:35.223Z"
   },
   {
    "duration": 201,
    "start_time": "2023-03-23T12:28:35.327Z"
   },
   {
    "duration": 120,
    "start_time": "2023-03-23T12:28:40.151Z"
   },
   {
    "duration": 111,
    "start_time": "2023-03-23T12:30:12.610Z"
   },
   {
    "duration": 352,
    "start_time": "2023-03-23T12:37:35.846Z"
   },
   {
    "duration": 6,
    "start_time": "2023-03-23T12:42:07.595Z"
   },
   {
    "duration": 10,
    "start_time": "2023-03-23T12:42:28.797Z"
   },
   {
    "duration": 8,
    "start_time": "2023-03-23T12:43:49.551Z"
   },
   {
    "duration": 11,
    "start_time": "2023-03-23T12:44:19.251Z"
   },
   {
    "duration": 8,
    "start_time": "2023-03-23T12:44:30.153Z"
   },
   {
    "duration": 18,
    "start_time": "2023-03-23T12:45:02.577Z"
   },
   {
    "duration": 274,
    "start_time": "2023-03-23T12:45:12.841Z"
   },
   {
    "duration": 273,
    "start_time": "2023-03-23T12:46:27.660Z"
   },
   {
    "duration": 1085,
    "start_time": "2023-03-23T12:46:38.603Z"
   },
   {
    "duration": 120,
    "start_time": "2023-03-23T12:46:39.691Z"
   },
   {
    "duration": 23,
    "start_time": "2023-03-23T12:46:39.813Z"
   },
   {
    "duration": 564,
    "start_time": "2023-03-23T12:46:39.838Z"
   },
   {
    "duration": 280,
    "start_time": "2023-03-23T12:46:40.405Z"
   },
   {
    "duration": 203,
    "start_time": "2023-03-23T12:46:40.687Z"
   },
   {
    "duration": 1483,
    "start_time": "2023-03-23T12:46:40.892Z"
   },
   {
    "duration": 179,
    "start_time": "2023-03-23T12:46:42.377Z"
   },
   {
    "duration": 25,
    "start_time": "2023-03-23T12:46:42.562Z"
   },
   {
    "duration": 29,
    "start_time": "2023-03-23T12:46:42.590Z"
   },
   {
    "duration": 29,
    "start_time": "2023-03-23T12:46:42.621Z"
   },
   {
    "duration": 18,
    "start_time": "2023-03-23T12:46:42.652Z"
   },
   {
    "duration": 35,
    "start_time": "2023-03-23T12:46:42.673Z"
   },
   {
    "duration": 5,
    "start_time": "2023-03-23T12:46:42.712Z"
   },
   {
    "duration": 21,
    "start_time": "2023-03-23T12:46:42.719Z"
   },
   {
    "duration": 9,
    "start_time": "2023-03-23T12:46:42.742Z"
   },
   {
    "duration": 39,
    "start_time": "2023-03-23T12:46:42.753Z"
   },
   {
    "duration": 52,
    "start_time": "2023-03-23T12:46:42.795Z"
   },
   {
    "duration": 44,
    "start_time": "2023-03-23T12:46:42.849Z"
   },
   {
    "duration": 619,
    "start_time": "2023-03-23T12:46:42.895Z"
   },
   {
    "duration": 13,
    "start_time": "2023-03-23T12:46:43.516Z"
   },
   {
    "duration": 431,
    "start_time": "2023-03-23T12:46:43.531Z"
   },
   {
    "duration": 16,
    "start_time": "2023-03-23T12:46:43.970Z"
   },
   {
    "duration": 14,
    "start_time": "2023-03-23T12:46:43.989Z"
   },
   {
    "duration": 20,
    "start_time": "2023-03-23T12:46:44.005Z"
   },
   {
    "duration": 117,
    "start_time": "2023-03-23T12:46:44.027Z"
   },
   {
    "duration": 9,
    "start_time": "2023-03-23T12:46:44.146Z"
   },
   {
    "duration": 57,
    "start_time": "2023-03-23T12:46:44.157Z"
   },
   {
    "duration": 9,
    "start_time": "2023-03-23T12:46:44.217Z"
   },
   {
    "duration": 29,
    "start_time": "2023-03-23T12:46:44.229Z"
   },
   {
    "duration": 28,
    "start_time": "2023-03-23T12:46:44.260Z"
   },
   {
    "duration": 15,
    "start_time": "2023-03-23T12:46:44.291Z"
   },
   {
    "duration": 37,
    "start_time": "2023-03-23T12:46:44.309Z"
   },
   {
    "duration": 5,
    "start_time": "2023-03-23T12:46:44.348Z"
   },
   {
    "duration": 164,
    "start_time": "2023-03-23T12:46:44.357Z"
   },
   {
    "duration": 149,
    "start_time": "2023-03-23T12:46:44.527Z"
   },
   {
    "duration": 156,
    "start_time": "2023-03-23T12:46:44.679Z"
   },
   {
    "duration": 152,
    "start_time": "2023-03-23T12:46:44.837Z"
   },
   {
    "duration": 146,
    "start_time": "2023-03-23T12:46:44.991Z"
   },
   {
    "duration": 163,
    "start_time": "2023-03-23T12:46:45.139Z"
   },
   {
    "duration": 330,
    "start_time": "2023-03-23T12:46:45.307Z"
   },
   {
    "duration": 357,
    "start_time": "2023-03-23T12:46:45.639Z"
   },
   {
    "duration": 15,
    "start_time": "2023-03-23T12:46:46.002Z"
   },
   {
    "duration": 268,
    "start_time": "2023-03-23T13:10:24.107Z"
   },
   {
    "duration": 289,
    "start_time": "2023-03-23T13:11:08.040Z"
   },
   {
    "duration": 270,
    "start_time": "2023-03-23T13:11:38.459Z"
   },
   {
    "duration": 267,
    "start_time": "2023-03-23T13:12:42.221Z"
   },
   {
    "duration": 272,
    "start_time": "2023-03-23T13:13:30.241Z"
   },
   {
    "duration": 284,
    "start_time": "2023-03-23T13:15:02.545Z"
   },
   {
    "duration": 28,
    "start_time": "2023-03-23T13:28:28.686Z"
   },
   {
    "duration": 29,
    "start_time": "2023-03-23T13:28:39.698Z"
   },
   {
    "duration": 142,
    "start_time": "2023-03-23T13:33:52.182Z"
   },
   {
    "duration": 412,
    "start_time": "2023-03-23T13:34:08.483Z"
   },
   {
    "duration": 25,
    "start_time": "2023-03-23T13:52:17.199Z"
   },
   {
    "duration": 11,
    "start_time": "2023-03-23T13:52:34.619Z"
   },
   {
    "duration": 10,
    "start_time": "2023-03-23T13:52:51.925Z"
   },
   {
    "duration": 9,
    "start_time": "2023-03-23T13:54:47.339Z"
   },
   {
    "duration": 39,
    "start_time": "2023-03-23T13:54:58.395Z"
   },
   {
    "duration": 19,
    "start_time": "2023-03-23T13:55:16.287Z"
   },
   {
    "duration": 23,
    "start_time": "2023-03-23T14:04:51.721Z"
   },
   {
    "duration": 24,
    "start_time": "2023-03-23T14:05:06.787Z"
   },
   {
    "duration": 19,
    "start_time": "2023-03-23T14:05:19.239Z"
   },
   {
    "duration": 84,
    "start_time": "2023-03-23T14:05:53.933Z"
   },
   {
    "duration": 47,
    "start_time": "2023-03-23T14:06:11.324Z"
   },
   {
    "duration": 57,
    "start_time": "2023-03-23T14:06:24.097Z"
   },
   {
    "duration": 34,
    "start_time": "2023-03-23T14:06:41.519Z"
   },
   {
    "duration": 55,
    "start_time": "2023-03-23T14:06:56.919Z"
   },
   {
    "duration": 7,
    "start_time": "2023-03-23T14:07:33.875Z"
   },
   {
    "duration": 56,
    "start_time": "2023-03-23T14:07:39.691Z"
   },
   {
    "duration": 67,
    "start_time": "2023-03-23T14:07:58.183Z"
   },
   {
    "duration": 4,
    "start_time": "2023-03-23T14:08:07.344Z"
   },
   {
    "duration": 55,
    "start_time": "2023-03-23T14:08:21.011Z"
   },
   {
    "duration": 85,
    "start_time": "2023-03-23T14:08:47.529Z"
   },
   {
    "duration": 1071,
    "start_time": "2023-03-23T14:44:39.269Z"
   },
   {
    "duration": 100,
    "start_time": "2023-03-23T14:44:40.341Z"
   },
   {
    "duration": 39,
    "start_time": "2023-03-23T14:44:40.442Z"
   },
   {
    "duration": 494,
    "start_time": "2023-03-23T14:44:40.489Z"
   },
   {
    "duration": 222,
    "start_time": "2023-03-23T14:44:40.989Z"
   },
   {
    "duration": 178,
    "start_time": "2023-03-23T14:44:41.213Z"
   },
   {
    "duration": 1045,
    "start_time": "2023-03-23T14:44:41.393Z"
   },
   {
    "duration": 158,
    "start_time": "2023-03-23T14:44:42.439Z"
   },
   {
    "duration": 15,
    "start_time": "2023-03-23T14:44:42.599Z"
   },
   {
    "duration": 16,
    "start_time": "2023-03-23T14:44:42.616Z"
   },
   {
    "duration": 35,
    "start_time": "2023-03-23T14:44:42.634Z"
   },
   {
    "duration": 52,
    "start_time": "2023-03-23T14:44:42.670Z"
   },
   {
    "duration": 14,
    "start_time": "2023-03-23T14:44:42.723Z"
   },
   {
    "duration": 50,
    "start_time": "2023-03-23T14:44:42.739Z"
   },
   {
    "duration": 31,
    "start_time": "2023-03-23T14:44:42.791Z"
   },
   {
    "duration": 65,
    "start_time": "2023-03-23T14:44:42.824Z"
   },
   {
    "duration": 18,
    "start_time": "2023-03-23T14:44:42.891Z"
   },
   {
    "duration": 22,
    "start_time": "2023-03-23T14:44:42.910Z"
   },
   {
    "duration": 9,
    "start_time": "2023-03-23T14:44:42.933Z"
   },
   {
    "duration": 651,
    "start_time": "2023-03-23T14:44:42.944Z"
   },
   {
    "duration": 9,
    "start_time": "2023-03-23T14:44:43.598Z"
   },
   {
    "duration": 432,
    "start_time": "2023-03-23T14:44:43.609Z"
   },
   {
    "duration": 44,
    "start_time": "2023-03-23T14:44:44.043Z"
   },
   {
    "duration": 19,
    "start_time": "2023-03-23T14:44:44.093Z"
   },
   {
    "duration": 13,
    "start_time": "2023-03-23T14:44:44.113Z"
   },
   {
    "duration": 113,
    "start_time": "2023-03-23T14:44:44.127Z"
   },
   {
    "duration": 13,
    "start_time": "2023-03-23T14:44:44.241Z"
   },
   {
    "duration": 69,
    "start_time": "2023-03-23T14:44:44.257Z"
   },
   {
    "duration": 14,
    "start_time": "2023-03-23T14:44:44.328Z"
   },
   {
    "duration": 63,
    "start_time": "2023-03-23T14:44:44.343Z"
   },
   {
    "duration": 6,
    "start_time": "2023-03-23T14:44:44.408Z"
   },
   {
    "duration": 24,
    "start_time": "2023-03-23T14:44:44.416Z"
   },
   {
    "duration": 87,
    "start_time": "2023-03-23T14:44:44.441Z"
   },
   {
    "duration": 5,
    "start_time": "2023-03-23T14:44:44.530Z"
   },
   {
    "duration": 155,
    "start_time": "2023-03-23T14:44:44.536Z"
   },
   {
    "duration": 109,
    "start_time": "2023-03-23T14:44:44.692Z"
   },
   {
    "duration": 114,
    "start_time": "2023-03-23T14:44:44.803Z"
   },
   {
    "duration": 106,
    "start_time": "2023-03-23T14:44:44.918Z"
   },
   {
    "duration": 149,
    "start_time": "2023-03-23T14:44:45.025Z"
   },
   {
    "duration": 127,
    "start_time": "2023-03-23T14:44:45.198Z"
   },
   {
    "duration": 305,
    "start_time": "2023-03-23T14:44:45.329Z"
   },
   {
    "duration": 331,
    "start_time": "2023-03-23T14:44:45.636Z"
   },
   {
    "duration": 12,
    "start_time": "2023-03-23T14:44:45.973Z"
   },
   {
    "duration": 304,
    "start_time": "2023-03-23T14:44:45.990Z"
   },
   {
    "duration": 402,
    "start_time": "2023-03-23T14:44:46.296Z"
   },
   {
    "duration": 276,
    "start_time": "2023-03-23T14:44:46.699Z"
   },
   {
    "duration": 305,
    "start_time": "2023-03-23T14:44:46.976Z"
   },
   {
    "duration": 306,
    "start_time": "2023-03-23T14:44:47.295Z"
   },
   {
    "duration": 23,
    "start_time": "2023-03-23T14:44:47.602Z"
   },
   {
    "duration": 306,
    "start_time": "2023-03-23T14:44:47.628Z"
   },
   {
    "duration": 25,
    "start_time": "2023-03-23T14:44:47.936Z"
   },
   {
    "duration": 21,
    "start_time": "2023-03-23T14:44:47.975Z"
   },
   {
    "duration": 7,
    "start_time": "2023-03-23T14:44:47.997Z"
   },
   {
    "duration": 230,
    "start_time": "2023-03-23T14:44:48.005Z"
   },
   {
    "duration": 23,
    "start_time": "2023-03-23T14:44:48.236Z"
   },
   {
    "duration": 56,
    "start_time": "2023-03-23T14:44:48.276Z"
   },
   {
    "duration": 8,
    "start_time": "2023-03-23T14:44:48.333Z"
   },
   {
    "duration": 57,
    "start_time": "2023-03-23T14:44:48.342Z"
   },
   {
    "duration": 8,
    "start_time": "2023-03-23T14:44:48.400Z"
   },
   {
    "duration": 18,
    "start_time": "2023-03-23T14:44:48.409Z"
   },
   {
    "duration": 10,
    "start_time": "2023-03-23T14:44:48.428Z"
   },
   {
    "duration": 7,
    "start_time": "2023-03-23T14:44:48.439Z"
   },
   {
    "duration": 60,
    "start_time": "2023-03-23T14:44:48.448Z"
   },
   {
    "duration": 11,
    "start_time": "2023-03-23T14:44:48.509Z"
   },
   {
    "duration": 12,
    "start_time": "2023-03-23T14:44:48.521Z"
   },
   {
    "duration": 48,
    "start_time": "2023-03-23T14:44:48.534Z"
   },
   {
    "duration": 18,
    "start_time": "2023-03-23T14:44:48.584Z"
   },
   {
    "duration": 11,
    "start_time": "2023-03-23T14:44:48.604Z"
   },
   {
    "duration": 5,
    "start_time": "2023-03-23T14:49:12.774Z"
   },
   {
    "duration": 123,
    "start_time": "2023-03-23T14:49:12.780Z"
   },
   {
    "duration": 14,
    "start_time": "2023-03-23T14:49:12.904Z"
   },
   {
    "duration": 493,
    "start_time": "2023-03-23T14:49:12.920Z"
   },
   {
    "duration": 223,
    "start_time": "2023-03-23T14:49:13.420Z"
   },
   {
    "duration": 195,
    "start_time": "2023-03-23T14:49:13.645Z"
   },
   {
    "duration": 1257,
    "start_time": "2023-03-23T14:49:13.842Z"
   },
   {
    "duration": 203,
    "start_time": "2023-03-23T14:49:15.100Z"
   },
   {
    "duration": 22,
    "start_time": "2023-03-23T14:49:15.305Z"
   },
   {
    "duration": 19,
    "start_time": "2023-03-23T14:49:15.329Z"
   },
   {
    "duration": 26,
    "start_time": "2023-03-23T14:49:15.372Z"
   },
   {
    "duration": 26,
    "start_time": "2023-03-23T14:49:15.409Z"
   },
   {
    "duration": 4,
    "start_time": "2023-03-23T14:49:15.437Z"
   },
   {
    "duration": 79,
    "start_time": "2023-03-23T14:49:15.443Z"
   },
   {
    "duration": 8,
    "start_time": "2023-03-23T14:49:15.523Z"
   },
   {
    "duration": 14,
    "start_time": "2023-03-23T14:49:15.533Z"
   },
   {
    "duration": 61,
    "start_time": "2023-03-23T14:49:15.555Z"
   },
   {
    "duration": 13,
    "start_time": "2023-03-23T14:49:15.618Z"
   },
   {
    "duration": 7,
    "start_time": "2023-03-23T14:49:15.632Z"
   },
   {
    "duration": 506,
    "start_time": "2023-03-23T14:49:15.640Z"
   },
   {
    "duration": 40,
    "start_time": "2023-03-23T14:49:16.163Z"
   },
   {
    "duration": 329,
    "start_time": "2023-03-23T14:49:16.214Z"
   },
   {
    "duration": 36,
    "start_time": "2023-03-23T14:49:16.545Z"
   },
   {
    "duration": 27,
    "start_time": "2023-03-23T14:49:16.596Z"
   },
   {
    "duration": 20,
    "start_time": "2023-03-23T14:49:16.625Z"
   },
   {
    "duration": 183,
    "start_time": "2023-03-23T14:49:16.646Z"
   },
   {
    "duration": 6,
    "start_time": "2023-03-23T14:49:16.831Z"
   },
   {
    "duration": 46,
    "start_time": "2023-03-23T14:49:16.838Z"
   },
   {
    "duration": 44,
    "start_time": "2023-03-23T14:49:16.885Z"
   },
   {
    "duration": 88,
    "start_time": "2023-03-23T14:49:16.931Z"
   },
   {
    "duration": 8,
    "start_time": "2023-03-23T14:49:17.024Z"
   },
   {
    "duration": 83,
    "start_time": "2023-03-23T14:49:17.034Z"
   },
   {
    "duration": 45,
    "start_time": "2023-03-23T14:49:17.118Z"
   },
   {
    "duration": 48,
    "start_time": "2023-03-23T14:49:17.164Z"
   },
   {
    "duration": 126,
    "start_time": "2023-03-23T14:49:17.213Z"
   },
   {
    "duration": 167,
    "start_time": "2023-03-23T14:49:17.341Z"
   },
   {
    "duration": 157,
    "start_time": "2023-03-23T14:49:17.509Z"
   },
   {
    "duration": 243,
    "start_time": "2023-03-23T14:49:17.679Z"
   },
   {
    "duration": 123,
    "start_time": "2023-03-23T14:49:17.923Z"
   },
   {
    "duration": 160,
    "start_time": "2023-03-23T14:49:18.062Z"
   },
   {
    "duration": 256,
    "start_time": "2023-03-23T14:49:18.224Z"
   },
   {
    "duration": 317,
    "start_time": "2023-03-23T14:49:18.482Z"
   },
   {
    "duration": 11,
    "start_time": "2023-03-23T14:49:18.804Z"
   },
   {
    "duration": 435,
    "start_time": "2023-03-23T14:49:18.819Z"
   },
   {
    "duration": 347,
    "start_time": "2023-03-23T14:49:19.275Z"
   },
   {
    "duration": 367,
    "start_time": "2023-03-23T14:49:19.624Z"
   },
   {
    "duration": 297,
    "start_time": "2023-03-23T14:49:19.992Z"
   },
   {
    "duration": 289,
    "start_time": "2023-03-23T14:49:20.293Z"
   },
   {
    "duration": 28,
    "start_time": "2023-03-23T14:49:20.591Z"
   },
   {
    "duration": 308,
    "start_time": "2023-03-23T14:49:20.623Z"
   },
   {
    "duration": 4,
    "start_time": "2023-03-23T14:49:20.933Z"
   },
   {
    "duration": 20,
    "start_time": "2023-03-23T14:49:20.938Z"
   },
   {
    "duration": 74,
    "start_time": "2023-03-23T14:49:20.959Z"
   },
   {
    "duration": 304,
    "start_time": "2023-03-23T14:49:21.035Z"
   },
   {
    "duration": 6,
    "start_time": "2023-03-23T14:49:21.341Z"
   },
   {
    "duration": 81,
    "start_time": "2023-03-23T14:49:21.359Z"
   },
   {
    "duration": 6,
    "start_time": "2023-03-23T14:49:21.441Z"
   },
   {
    "duration": 69,
    "start_time": "2023-03-23T14:49:21.448Z"
   },
   {
    "duration": 8,
    "start_time": "2023-03-23T14:49:21.519Z"
   },
   {
    "duration": 8,
    "start_time": "2023-03-23T14:49:21.528Z"
   },
   {
    "duration": 76,
    "start_time": "2023-03-23T14:49:21.538Z"
   },
   {
    "duration": 8,
    "start_time": "2023-03-23T14:49:21.617Z"
   },
   {
    "duration": 12,
    "start_time": "2023-03-23T14:49:21.626Z"
   },
   {
    "duration": 75,
    "start_time": "2023-03-23T14:49:21.640Z"
   },
   {
    "duration": 24,
    "start_time": "2023-03-23T14:49:21.717Z"
   },
   {
    "duration": 77,
    "start_time": "2023-03-23T14:49:21.743Z"
   },
   {
    "duration": 11,
    "start_time": "2023-03-23T14:49:21.821Z"
   },
   {
    "duration": 57,
    "start_time": "2023-03-23T14:49:21.834Z"
   },
   {
    "duration": 12,
    "start_time": "2023-03-23T15:08:52.972Z"
   },
   {
    "duration": 79,
    "start_time": "2023-03-23T15:08:52.993Z"
   },
   {
    "duration": 18,
    "start_time": "2023-03-23T15:08:53.088Z"
   },
   {
    "duration": 504,
    "start_time": "2023-03-23T15:08:53.109Z"
   },
   {
    "duration": 193,
    "start_time": "2023-03-23T15:08:53.615Z"
   },
   {
    "duration": 166,
    "start_time": "2023-03-23T15:08:53.809Z"
   },
   {
    "duration": 1111,
    "start_time": "2023-03-23T15:08:53.977Z"
   },
   {
    "duration": 136,
    "start_time": "2023-03-23T15:08:55.095Z"
   },
   {
    "duration": 14,
    "start_time": "2023-03-23T15:08:55.233Z"
   },
   {
    "duration": 39,
    "start_time": "2023-03-23T15:08:55.260Z"
   },
   {
    "duration": 12,
    "start_time": "2023-03-23T15:08:55.300Z"
   },
   {
    "duration": 15,
    "start_time": "2023-03-23T15:08:55.313Z"
   },
   {
    "duration": 14,
    "start_time": "2023-03-23T15:08:55.329Z"
   },
   {
    "duration": 46,
    "start_time": "2023-03-23T15:08:55.344Z"
   },
   {
    "duration": 10,
    "start_time": "2023-03-23T15:08:55.391Z"
   },
   {
    "duration": 14,
    "start_time": "2023-03-23T15:08:55.402Z"
   },
   {
    "duration": 14,
    "start_time": "2023-03-23T15:08:55.417Z"
   },
   {
    "duration": 66,
    "start_time": "2023-03-23T15:08:55.432Z"
   },
   {
    "duration": 21,
    "start_time": "2023-03-23T15:08:55.499Z"
   },
   {
    "duration": 509,
    "start_time": "2023-03-23T15:08:55.521Z"
   },
   {
    "duration": 7,
    "start_time": "2023-03-23T15:08:56.031Z"
   },
   {
    "duration": 345,
    "start_time": "2023-03-23T15:08:56.071Z"
   },
   {
    "duration": 8,
    "start_time": "2023-03-23T15:08:56.418Z"
   },
   {
    "duration": 7,
    "start_time": "2023-03-23T15:08:56.430Z"
   },
   {
    "duration": 36,
    "start_time": "2023-03-23T15:08:56.453Z"
   },
   {
    "duration": 105,
    "start_time": "2023-03-23T15:08:56.490Z"
   },
   {
    "duration": 5,
    "start_time": "2023-03-23T15:08:56.596Z"
   },
   {
    "duration": 36,
    "start_time": "2023-03-23T15:08:56.602Z"
   },
   {
    "duration": 5,
    "start_time": "2023-03-23T15:08:56.639Z"
   },
   {
    "duration": 61,
    "start_time": "2023-03-23T15:08:56.645Z"
   },
   {
    "duration": 5,
    "start_time": "2023-03-23T15:08:56.708Z"
   },
   {
    "duration": 9,
    "start_time": "2023-03-23T15:08:56.714Z"
   },
   {
    "duration": 22,
    "start_time": "2023-03-23T15:08:56.725Z"
   },
   {
    "duration": 28,
    "start_time": "2023-03-23T15:08:56.755Z"
   },
   {
    "duration": 98,
    "start_time": "2023-03-23T15:08:56.788Z"
   },
   {
    "duration": 101,
    "start_time": "2023-03-23T15:08:56.890Z"
   },
   {
    "duration": 101,
    "start_time": "2023-03-23T15:08:56.993Z"
   },
   {
    "duration": 97,
    "start_time": "2023-03-23T15:08:57.095Z"
   },
   {
    "duration": 101,
    "start_time": "2023-03-23T15:08:57.193Z"
   },
   {
    "duration": 100,
    "start_time": "2023-03-23T15:08:57.296Z"
   },
   {
    "duration": 222,
    "start_time": "2023-03-23T15:08:57.398Z"
   },
   {
    "duration": 250,
    "start_time": "2023-03-23T15:08:57.621Z"
   },
   {
    "duration": 12,
    "start_time": "2023-03-23T15:08:57.872Z"
   },
   {
    "duration": 294,
    "start_time": "2023-03-23T15:08:57.885Z"
   },
   {
    "duration": 235,
    "start_time": "2023-03-23T15:08:58.180Z"
   },
   {
    "duration": 314,
    "start_time": "2023-03-23T15:08:58.416Z"
   },
   {
    "duration": 266,
    "start_time": "2023-03-23T15:08:58.732Z"
   },
   {
    "duration": 275,
    "start_time": "2023-03-23T15:08:59.000Z"
   },
   {
    "duration": 24,
    "start_time": "2023-03-23T15:08:59.276Z"
   },
   {
    "duration": 289,
    "start_time": "2023-03-23T15:08:59.301Z"
   },
   {
    "duration": 5,
    "start_time": "2023-03-23T15:08:59.596Z"
   },
   {
    "duration": 18,
    "start_time": "2023-03-23T15:08:59.602Z"
   },
   {
    "duration": 17,
    "start_time": "2023-03-23T15:08:59.622Z"
   },
   {
    "duration": 251,
    "start_time": "2023-03-23T15:08:59.640Z"
   },
   {
    "duration": 8,
    "start_time": "2023-03-23T15:08:59.892Z"
   },
   {
    "duration": 47,
    "start_time": "2023-03-23T15:08:59.901Z"
   },
   {
    "duration": 13,
    "start_time": "2023-03-23T15:08:59.963Z"
   },
   {
    "duration": 8,
    "start_time": "2023-03-23T15:08:59.977Z"
   },
   {
    "duration": 35,
    "start_time": "2023-03-23T15:08:59.986Z"
   },
   {
    "duration": 58,
    "start_time": "2023-03-23T15:09:00.023Z"
   },
   {
    "duration": 38,
    "start_time": "2023-03-23T15:09:00.083Z"
   },
   {
    "duration": 74,
    "start_time": "2023-03-23T15:09:00.122Z"
   },
   {
    "duration": 35,
    "start_time": "2023-03-23T15:09:00.198Z"
   },
   {
    "duration": 66,
    "start_time": "2023-03-23T15:09:00.234Z"
   },
   {
    "duration": 34,
    "start_time": "2023-03-23T15:09:00.301Z"
   },
   {
    "duration": 75,
    "start_time": "2023-03-23T15:09:00.336Z"
   },
   {
    "duration": 28,
    "start_time": "2023-03-23T15:09:00.413Z"
   },
   {
    "duration": 79,
    "start_time": "2023-03-23T15:09:00.443Z"
   },
   {
    "duration": 1001,
    "start_time": "2023-03-23T15:09:33.182Z"
   },
   {
    "duration": 104,
    "start_time": "2023-03-23T15:09:34.188Z"
   },
   {
    "duration": 15,
    "start_time": "2023-03-23T15:09:34.294Z"
   },
   {
    "duration": 475,
    "start_time": "2023-03-23T15:09:34.310Z"
   },
   {
    "duration": 215,
    "start_time": "2023-03-23T15:09:34.788Z"
   },
   {
    "duration": 174,
    "start_time": "2023-03-23T15:09:35.005Z"
   },
   {
    "duration": 1048,
    "start_time": "2023-03-23T15:09:35.184Z"
   },
   {
    "duration": 138,
    "start_time": "2023-03-23T15:09:36.233Z"
   },
   {
    "duration": 18,
    "start_time": "2023-03-23T15:09:36.372Z"
   },
   {
    "duration": 16,
    "start_time": "2023-03-23T15:09:36.392Z"
   },
   {
    "duration": 11,
    "start_time": "2023-03-23T15:09:36.410Z"
   },
   {
    "duration": 12,
    "start_time": "2023-03-23T15:09:36.422Z"
   },
   {
    "duration": 27,
    "start_time": "2023-03-23T15:09:36.436Z"
   },
   {
    "duration": 29,
    "start_time": "2023-03-23T15:09:36.466Z"
   },
   {
    "duration": 12,
    "start_time": "2023-03-23T15:09:36.496Z"
   },
   {
    "duration": 4,
    "start_time": "2023-03-23T15:09:36.510Z"
   },
   {
    "duration": 6,
    "start_time": "2023-03-23T15:09:36.515Z"
   },
   {
    "duration": 18,
    "start_time": "2023-03-23T15:09:36.522Z"
   },
   {
    "duration": 5,
    "start_time": "2023-03-23T15:09:36.541Z"
   },
   {
    "duration": 542,
    "start_time": "2023-03-23T15:09:36.547Z"
   },
   {
    "duration": 8,
    "start_time": "2023-03-23T15:09:37.091Z"
   },
   {
    "duration": 337,
    "start_time": "2023-03-23T15:09:37.100Z"
   },
   {
    "duration": 33,
    "start_time": "2023-03-23T15:09:37.438Z"
   },
   {
    "duration": 12,
    "start_time": "2023-03-23T15:09:37.487Z"
   },
   {
    "duration": 9,
    "start_time": "2023-03-23T15:09:37.501Z"
   },
   {
    "duration": 83,
    "start_time": "2023-03-23T15:09:37.512Z"
   },
   {
    "duration": 5,
    "start_time": "2023-03-23T15:09:37.597Z"
   },
   {
    "duration": 27,
    "start_time": "2023-03-23T15:09:37.603Z"
   },
   {
    "duration": 5,
    "start_time": "2023-03-23T15:09:37.631Z"
   },
   {
    "duration": 57,
    "start_time": "2023-03-23T15:09:37.637Z"
   },
   {
    "duration": 8,
    "start_time": "2023-03-23T15:09:37.695Z"
   },
   {
    "duration": 20,
    "start_time": "2023-03-23T15:09:37.704Z"
   },
   {
    "duration": 54,
    "start_time": "2023-03-23T15:09:37.725Z"
   },
   {
    "duration": 5,
    "start_time": "2023-03-23T15:09:37.788Z"
   },
   {
    "duration": 104,
    "start_time": "2023-03-23T15:09:37.794Z"
   },
   {
    "duration": 96,
    "start_time": "2023-03-23T15:09:37.899Z"
   },
   {
    "duration": 97,
    "start_time": "2023-03-23T15:09:37.996Z"
   },
   {
    "duration": 99,
    "start_time": "2023-03-23T15:09:38.094Z"
   },
   {
    "duration": 98,
    "start_time": "2023-03-23T15:09:38.195Z"
   },
   {
    "duration": 103,
    "start_time": "2023-03-23T15:09:38.295Z"
   },
   {
    "duration": 216,
    "start_time": "2023-03-23T15:09:38.402Z"
   },
   {
    "duration": 268,
    "start_time": "2023-03-23T15:09:38.620Z"
   },
   {
    "duration": 8,
    "start_time": "2023-03-23T15:09:38.890Z"
   },
   {
    "duration": 288,
    "start_time": "2023-03-23T15:09:38.899Z"
   },
   {
    "duration": 318,
    "start_time": "2023-03-23T15:09:39.189Z"
   },
   {
    "duration": 270,
    "start_time": "2023-03-23T15:09:39.509Z"
   },
   {
    "duration": 244,
    "start_time": "2023-03-23T15:09:39.780Z"
   },
   {
    "duration": 278,
    "start_time": "2023-03-23T15:09:40.025Z"
   },
   {
    "duration": 20,
    "start_time": "2023-03-23T15:09:40.304Z"
   },
   {
    "duration": 264,
    "start_time": "2023-03-23T15:09:40.326Z"
   },
   {
    "duration": 6,
    "start_time": "2023-03-23T15:09:40.592Z"
   },
   {
    "duration": 11,
    "start_time": "2023-03-23T15:09:40.599Z"
   },
   {
    "duration": 6,
    "start_time": "2023-03-23T15:09:40.612Z"
   },
   {
    "duration": 204,
    "start_time": "2023-03-23T15:09:40.619Z"
   },
   {
    "duration": 6,
    "start_time": "2023-03-23T15:09:40.824Z"
   },
   {
    "duration": 68,
    "start_time": "2023-03-23T15:09:40.832Z"
   },
   {
    "duration": 5,
    "start_time": "2023-03-23T15:09:40.902Z"
   },
   {
    "duration": 7,
    "start_time": "2023-03-23T15:09:40.909Z"
   },
   {
    "duration": 10,
    "start_time": "2023-03-23T15:09:40.918Z"
   },
   {
    "duration": 9,
    "start_time": "2023-03-23T15:09:40.929Z"
   },
   {
    "duration": 48,
    "start_time": "2023-03-23T15:09:40.940Z"
   },
   {
    "duration": 12,
    "start_time": "2023-03-23T15:09:40.989Z"
   },
   {
    "duration": 9,
    "start_time": "2023-03-23T15:09:41.002Z"
   },
   {
    "duration": 11,
    "start_time": "2023-03-23T15:09:41.012Z"
   },
   {
    "duration": 8,
    "start_time": "2023-03-23T15:09:41.024Z"
   },
   {
    "duration": 54,
    "start_time": "2023-03-23T15:09:41.033Z"
   },
   {
    "duration": 8,
    "start_time": "2023-03-23T15:09:41.089Z"
   },
   {
    "duration": 21,
    "start_time": "2023-03-23T15:09:41.098Z"
   },
   {
    "duration": 1201,
    "start_time": "2023-03-23T15:25:59.171Z"
   },
   {
    "duration": 115,
    "start_time": "2023-03-23T15:26:00.375Z"
   },
   {
    "duration": 24,
    "start_time": "2023-03-23T15:26:00.492Z"
   },
   {
    "duration": 473,
    "start_time": "2023-03-23T15:26:00.517Z"
   },
   {
    "duration": 285,
    "start_time": "2023-03-23T15:26:00.992Z"
   },
   {
    "duration": 147,
    "start_time": "2023-03-23T15:26:01.279Z"
   },
   {
    "duration": 1185,
    "start_time": "2023-03-23T15:26:01.428Z"
   },
   {
    "duration": 140,
    "start_time": "2023-03-23T15:26:02.614Z"
   },
   {
    "duration": 34,
    "start_time": "2023-03-23T15:26:02.756Z"
   },
   {
    "duration": 21,
    "start_time": "2023-03-23T15:26:02.793Z"
   },
   {
    "duration": 21,
    "start_time": "2023-03-23T15:26:02.817Z"
   },
   {
    "duration": 47,
    "start_time": "2023-03-23T15:26:02.857Z"
   },
   {
    "duration": 17,
    "start_time": "2023-03-23T15:26:02.907Z"
   },
   {
    "duration": 7,
    "start_time": "2023-03-23T15:26:02.928Z"
   },
   {
    "duration": 30,
    "start_time": "2023-03-23T15:26:02.937Z"
   },
   {
    "duration": 16,
    "start_time": "2023-03-23T15:26:02.968Z"
   },
   {
    "duration": 18,
    "start_time": "2023-03-23T15:26:02.986Z"
   },
   {
    "duration": 22,
    "start_time": "2023-03-23T15:26:03.007Z"
   },
   {
    "duration": 57,
    "start_time": "2023-03-23T15:26:03.039Z"
   },
   {
    "duration": 594,
    "start_time": "2023-03-23T15:26:03.098Z"
   },
   {
    "duration": 16,
    "start_time": "2023-03-23T15:26:03.694Z"
   },
   {
    "duration": 419,
    "start_time": "2023-03-23T15:26:03.712Z"
   },
   {
    "duration": 16,
    "start_time": "2023-03-23T15:26:04.133Z"
   },
   {
    "duration": 55,
    "start_time": "2023-03-23T15:26:04.151Z"
   },
   {
    "duration": 12,
    "start_time": "2023-03-23T15:26:04.208Z"
   },
   {
    "duration": 103,
    "start_time": "2023-03-23T15:26:04.221Z"
   },
   {
    "duration": 8,
    "start_time": "2023-03-23T15:26:04.326Z"
   },
   {
    "duration": 70,
    "start_time": "2023-03-23T15:26:04.336Z"
   },
   {
    "duration": 7,
    "start_time": "2023-03-23T15:26:04.407Z"
   },
   {
    "duration": 41,
    "start_time": "2023-03-23T15:26:04.415Z"
   },
   {
    "duration": 21,
    "start_time": "2023-03-23T15:26:04.463Z"
   },
   {
    "duration": 18,
    "start_time": "2023-03-23T15:26:04.486Z"
   },
   {
    "duration": 30,
    "start_time": "2023-03-23T15:26:04.506Z"
   },
   {
    "duration": 6,
    "start_time": "2023-03-23T15:26:04.537Z"
   },
   {
    "duration": 164,
    "start_time": "2023-03-23T15:26:04.544Z"
   },
   {
    "duration": 110,
    "start_time": "2023-03-23T15:26:04.710Z"
   },
   {
    "duration": 168,
    "start_time": "2023-03-23T15:26:04.822Z"
   },
   {
    "duration": 125,
    "start_time": "2023-03-23T15:26:04.992Z"
   },
   {
    "duration": 121,
    "start_time": "2023-03-23T15:26:05.120Z"
   },
   {
    "duration": 137,
    "start_time": "2023-03-23T15:26:05.243Z"
   },
   {
    "duration": 315,
    "start_time": "2023-03-23T15:26:05.385Z"
   },
   {
    "duration": 311,
    "start_time": "2023-03-23T15:26:05.702Z"
   },
   {
    "duration": 8,
    "start_time": "2023-03-23T15:26:06.015Z"
   },
   {
    "duration": 394,
    "start_time": "2023-03-23T15:26:06.025Z"
   },
   {
    "duration": 359,
    "start_time": "2023-03-23T15:26:06.421Z"
   },
   {
    "duration": 252,
    "start_time": "2023-03-23T15:26:06.782Z"
   },
   {
    "duration": 339,
    "start_time": "2023-03-23T15:26:07.036Z"
   },
   {
    "duration": 316,
    "start_time": "2023-03-23T15:26:07.377Z"
   },
   {
    "duration": 36,
    "start_time": "2023-03-23T15:26:07.696Z"
   },
   {
    "duration": 353,
    "start_time": "2023-03-23T15:26:07.733Z"
   },
   {
    "duration": 5,
    "start_time": "2023-03-23T15:26:08.087Z"
   },
   {
    "duration": 12,
    "start_time": "2023-03-23T15:26:08.093Z"
   },
   {
    "duration": 11,
    "start_time": "2023-03-23T15:26:08.107Z"
   },
   {
    "duration": 206,
    "start_time": "2023-03-23T15:26:08.119Z"
   },
   {
    "duration": 9,
    "start_time": "2023-03-23T15:26:08.328Z"
   },
   {
    "duration": 107,
    "start_time": "2023-03-23T15:26:08.339Z"
   },
   {
    "duration": 33,
    "start_time": "2023-03-23T15:26:08.448Z"
   },
   {
    "duration": 16,
    "start_time": "2023-03-23T15:26:08.483Z"
   },
   {
    "duration": 12,
    "start_time": "2023-03-23T15:26:08.501Z"
   },
   {
    "duration": 27,
    "start_time": "2023-03-23T15:26:08.516Z"
   },
   {
    "duration": 39,
    "start_time": "2023-03-23T15:26:08.545Z"
   },
   {
    "duration": 14,
    "start_time": "2023-03-23T15:26:08.587Z"
   },
   {
    "duration": 21,
    "start_time": "2023-03-23T15:26:08.603Z"
   },
   {
    "duration": 15,
    "start_time": "2023-03-23T15:26:08.626Z"
   },
   {
    "duration": 41,
    "start_time": "2023-03-23T15:26:08.643Z"
   },
   {
    "duration": 24,
    "start_time": "2023-03-23T15:26:08.686Z"
   },
   {
    "duration": 8,
    "start_time": "2023-03-23T15:26:08.712Z"
   },
   {
    "duration": 17,
    "start_time": "2023-03-23T15:26:08.722Z"
   },
   {
    "duration": 66,
    "start_time": "2023-03-23T15:27:56.479Z"
   },
   {
    "duration": 1109,
    "start_time": "2023-03-23T15:28:05.503Z"
   },
   {
    "duration": 90,
    "start_time": "2023-03-23T15:28:06.614Z"
   },
   {
    "duration": 18,
    "start_time": "2023-03-23T15:28:06.706Z"
   },
   {
    "duration": 472,
    "start_time": "2023-03-23T15:28:06.725Z"
   },
   {
    "duration": 212,
    "start_time": "2023-03-23T15:28:07.199Z"
   },
   {
    "duration": 198,
    "start_time": "2023-03-23T15:28:07.413Z"
   },
   {
    "duration": 1120,
    "start_time": "2023-03-23T15:28:07.613Z"
   },
   {
    "duration": 160,
    "start_time": "2023-03-23T15:28:08.735Z"
   },
   {
    "duration": 16,
    "start_time": "2023-03-23T15:28:08.897Z"
   },
   {
    "duration": 12,
    "start_time": "2023-03-23T15:28:08.914Z"
   },
   {
    "duration": 57,
    "start_time": "2023-03-23T15:28:08.927Z"
   },
   {
    "duration": 51,
    "start_time": "2023-03-23T15:28:08.986Z"
   },
   {
    "duration": 4,
    "start_time": "2023-03-23T15:28:09.039Z"
   },
   {
    "duration": 63,
    "start_time": "2023-03-23T15:28:09.046Z"
   },
   {
    "duration": 15,
    "start_time": "2023-03-23T15:28:09.111Z"
   },
   {
    "duration": 14,
    "start_time": "2023-03-23T15:28:09.128Z"
   },
   {
    "duration": 39,
    "start_time": "2023-03-23T15:28:09.144Z"
   },
   {
    "duration": 16,
    "start_time": "2023-03-23T15:28:09.185Z"
   },
   {
    "duration": 7,
    "start_time": "2023-03-23T15:28:09.203Z"
   },
   {
    "duration": 542,
    "start_time": "2023-03-23T15:28:09.212Z"
   },
   {
    "duration": 12,
    "start_time": "2023-03-23T15:28:09.755Z"
   },
   {
    "duration": 447,
    "start_time": "2023-03-23T15:28:09.770Z"
   },
   {
    "duration": 10,
    "start_time": "2023-03-23T15:28:10.219Z"
   },
   {
    "duration": 29,
    "start_time": "2023-03-23T15:28:10.230Z"
   },
   {
    "duration": 26,
    "start_time": "2023-03-23T15:28:10.267Z"
   },
   {
    "duration": 79,
    "start_time": "2023-03-23T15:28:10.295Z"
   },
   {
    "duration": 7,
    "start_time": "2023-03-23T15:28:10.375Z"
   },
   {
    "duration": 37,
    "start_time": "2023-03-23T15:28:10.384Z"
   },
   {
    "duration": 6,
    "start_time": "2023-03-23T15:28:10.423Z"
   },
   {
    "duration": 38,
    "start_time": "2023-03-23T15:28:10.431Z"
   },
   {
    "duration": 46,
    "start_time": "2023-03-23T15:28:10.471Z"
   },
   {
    "duration": 21,
    "start_time": "2023-03-23T15:28:10.518Z"
   },
   {
    "duration": 44,
    "start_time": "2023-03-23T15:28:10.540Z"
   },
   {
    "duration": 26,
    "start_time": "2023-03-23T15:28:10.586Z"
   },
   {
    "duration": 130,
    "start_time": "2023-03-23T15:28:10.614Z"
   },
   {
    "duration": 131,
    "start_time": "2023-03-23T15:28:10.746Z"
   },
   {
    "duration": 111,
    "start_time": "2023-03-23T15:28:10.879Z"
   },
   {
    "duration": 115,
    "start_time": "2023-03-23T15:28:10.991Z"
   },
   {
    "duration": 115,
    "start_time": "2023-03-23T15:28:11.107Z"
   },
   {
    "duration": 118,
    "start_time": "2023-03-23T15:28:11.224Z"
   },
   {
    "duration": 242,
    "start_time": "2023-03-23T15:28:11.348Z"
   },
   {
    "duration": 285,
    "start_time": "2023-03-23T15:28:11.592Z"
   },
   {
    "duration": 10,
    "start_time": "2023-03-23T15:28:11.879Z"
   },
   {
    "duration": 265,
    "start_time": "2023-03-23T15:28:11.891Z"
   },
   {
    "duration": 347,
    "start_time": "2023-03-23T15:28:12.158Z"
   },
   {
    "duration": 275,
    "start_time": "2023-03-23T15:28:12.507Z"
   },
   {
    "duration": 253,
    "start_time": "2023-03-23T15:28:12.784Z"
   },
   {
    "duration": 333,
    "start_time": "2023-03-23T15:28:13.039Z"
   },
   {
    "duration": 28,
    "start_time": "2023-03-23T15:28:13.375Z"
   },
   {
    "duration": 272,
    "start_time": "2023-03-23T15:28:13.404Z"
   },
   {
    "duration": 5,
    "start_time": "2023-03-23T15:28:13.678Z"
   },
   {
    "duration": 22,
    "start_time": "2023-03-23T15:28:13.684Z"
   },
   {
    "duration": 7,
    "start_time": "2023-03-23T15:28:13.707Z"
   },
   {
    "duration": 220,
    "start_time": "2023-03-23T15:28:13.715Z"
   },
   {
    "duration": 7,
    "start_time": "2023-03-23T15:28:13.936Z"
   },
   {
    "duration": 69,
    "start_time": "2023-03-23T15:28:13.949Z"
   },
   {
    "duration": 8,
    "start_time": "2023-03-23T15:28:14.020Z"
   },
   {
    "duration": 12,
    "start_time": "2023-03-23T15:28:14.030Z"
   },
   {
    "duration": 48,
    "start_time": "2023-03-23T15:28:14.044Z"
   },
   {
    "duration": 15,
    "start_time": "2023-03-23T15:28:14.095Z"
   },
   {
    "duration": 21,
    "start_time": "2023-03-23T15:28:14.112Z"
   },
   {
    "duration": 24,
    "start_time": "2023-03-23T15:28:14.135Z"
   },
   {
    "duration": 34,
    "start_time": "2023-03-23T15:28:14.161Z"
   },
   {
    "duration": 19,
    "start_time": "2023-03-23T15:28:14.197Z"
   },
   {
    "duration": 27,
    "start_time": "2023-03-23T15:28:14.219Z"
   },
   {
    "duration": 62,
    "start_time": "2023-03-23T15:28:14.247Z"
   },
   {
    "duration": 9,
    "start_time": "2023-03-23T15:28:14.311Z"
   },
   {
    "duration": 11,
    "start_time": "2023-03-23T15:28:14.323Z"
   },
   {
    "duration": 1233,
    "start_time": "2023-03-24T14:17:30.603Z"
   },
   {
    "duration": 261,
    "start_time": "2023-03-24T14:17:31.838Z"
   },
   {
    "duration": 19,
    "start_time": "2023-03-24T14:17:32.101Z"
   },
   {
    "duration": 468,
    "start_time": "2023-03-24T14:17:32.121Z"
   },
   {
    "duration": 236,
    "start_time": "2023-03-24T14:17:32.591Z"
   },
   {
    "duration": 190,
    "start_time": "2023-03-24T14:17:32.829Z"
   },
   {
    "duration": 1396,
    "start_time": "2023-03-24T14:17:33.021Z"
   },
   {
    "duration": 285,
    "start_time": "2023-03-24T14:17:34.418Z"
   },
   {
    "duration": 16,
    "start_time": "2023-03-24T14:17:34.705Z"
   },
   {
    "duration": 67,
    "start_time": "2023-03-24T14:17:34.722Z"
   },
   {
    "duration": 15,
    "start_time": "2023-03-24T14:17:34.791Z"
   },
   {
    "duration": 18,
    "start_time": "2023-03-24T14:17:34.808Z"
   },
   {
    "duration": 4,
    "start_time": "2023-03-24T14:17:34.827Z"
   },
   {
    "duration": 60,
    "start_time": "2023-03-24T14:17:34.834Z"
   },
   {
    "duration": 9,
    "start_time": "2023-03-24T14:17:34.895Z"
   },
   {
    "duration": 6,
    "start_time": "2023-03-24T14:17:34.906Z"
   },
   {
    "duration": 7,
    "start_time": "2023-03-24T14:17:34.914Z"
   },
   {
    "duration": 66,
    "start_time": "2023-03-24T14:17:34.923Z"
   },
   {
    "duration": 8,
    "start_time": "2023-03-24T14:17:34.991Z"
   },
   {
    "duration": 932,
    "start_time": "2023-03-24T14:17:35.001Z"
   },
   {
    "duration": 57,
    "start_time": "2023-03-24T14:17:35.935Z"
   },
   {
    "duration": 425,
    "start_time": "2023-03-24T14:17:35.993Z"
   },
   {
    "duration": 11,
    "start_time": "2023-03-24T14:17:36.420Z"
   },
   {
    "duration": 8,
    "start_time": "2023-03-24T14:17:36.432Z"
   },
   {
    "duration": 12,
    "start_time": "2023-03-24T14:17:36.441Z"
   },
   {
    "duration": 117,
    "start_time": "2023-03-24T14:17:36.455Z"
   },
   {
    "duration": 17,
    "start_time": "2023-03-24T14:17:36.574Z"
   },
   {
    "duration": 35,
    "start_time": "2023-03-24T14:17:36.593Z"
   },
   {
    "duration": 8,
    "start_time": "2023-03-24T14:17:36.630Z"
   },
   {
    "duration": 51,
    "start_time": "2023-03-24T14:17:36.640Z"
   },
   {
    "duration": 8,
    "start_time": "2023-03-24T14:17:36.693Z"
   },
   {
    "duration": 15,
    "start_time": "2023-03-24T14:17:36.703Z"
   },
   {
    "duration": 29,
    "start_time": "2023-03-24T14:17:36.720Z"
   },
   {
    "duration": 6,
    "start_time": "2023-03-24T14:17:36.750Z"
   },
   {
    "duration": 131,
    "start_time": "2023-03-24T14:17:36.758Z"
   },
   {
    "duration": 104,
    "start_time": "2023-03-24T14:17:36.891Z"
   },
   {
    "duration": 110,
    "start_time": "2023-03-24T14:17:36.996Z"
   },
   {
    "duration": 108,
    "start_time": "2023-03-24T14:17:37.107Z"
   },
   {
    "duration": 109,
    "start_time": "2023-03-24T14:17:37.217Z"
   },
   {
    "duration": 144,
    "start_time": "2023-03-24T14:17:37.328Z"
   },
   {
    "duration": 269,
    "start_time": "2023-03-24T14:17:37.477Z"
   },
   {
    "duration": 302,
    "start_time": "2023-03-24T14:17:37.748Z"
   },
   {
    "duration": 8,
    "start_time": "2023-03-24T14:17:38.052Z"
   },
   {
    "duration": 303,
    "start_time": "2023-03-24T14:17:38.062Z"
   },
   {
    "duration": 380,
    "start_time": "2023-03-24T14:17:38.367Z"
   },
   {
    "duration": 285,
    "start_time": "2023-03-24T14:17:38.749Z"
   },
   {
    "duration": 274,
    "start_time": "2023-03-24T14:17:39.036Z"
   },
   {
    "duration": 300,
    "start_time": "2023-03-24T14:17:39.312Z"
   },
   {
    "duration": 27,
    "start_time": "2023-03-24T14:17:39.615Z"
   },
   {
    "duration": 305,
    "start_time": "2023-03-24T14:17:39.643Z"
   },
   {
    "duration": 5,
    "start_time": "2023-03-24T14:17:39.949Z"
   },
   {
    "duration": 6,
    "start_time": "2023-03-24T14:17:39.955Z"
   },
   {
    "duration": 27,
    "start_time": "2023-03-24T14:17:39.963Z"
   },
   {
    "duration": 220,
    "start_time": "2023-03-24T14:17:39.992Z"
   },
   {
    "duration": 7,
    "start_time": "2023-03-24T14:17:40.214Z"
   },
   {
    "duration": 44,
    "start_time": "2023-03-24T14:17:40.223Z"
   },
   {
    "duration": 27,
    "start_time": "2023-03-24T14:17:40.268Z"
   },
   {
    "duration": 14,
    "start_time": "2023-03-24T14:17:40.297Z"
   },
   {
    "duration": 12,
    "start_time": "2023-03-24T14:17:40.313Z"
   },
   {
    "duration": 13,
    "start_time": "2023-03-24T14:17:40.327Z"
   },
   {
    "duration": 8,
    "start_time": "2023-03-24T14:17:40.341Z"
   },
   {
    "duration": 7,
    "start_time": "2023-03-24T14:17:40.350Z"
   },
   {
    "duration": 36,
    "start_time": "2023-03-24T14:17:40.358Z"
   },
   {
    "duration": 7,
    "start_time": "2023-03-24T14:17:40.396Z"
   },
   {
    "duration": 8,
    "start_time": "2023-03-24T14:17:40.404Z"
   },
   {
    "duration": 40,
    "start_time": "2023-03-24T14:17:40.413Z"
   },
   {
    "duration": 10,
    "start_time": "2023-03-24T14:17:40.455Z"
   },
   {
    "duration": 12,
    "start_time": "2023-03-24T14:17:40.466Z"
   }
  ],
  "kernelspec": {
   "display_name": "Python 3 (ipykernel)",
   "language": "python",
   "name": "python3"
  },
  "language_info": {
   "codemirror_mode": {
    "name": "ipython",
    "version": 3
   },
   "file_extension": ".py",
   "mimetype": "text/x-python",
   "name": "python",
   "nbconvert_exporter": "python",
   "pygments_lexer": "ipython3",
   "version": "3.10.6"
  },
  "toc": {
   "base_numbering": 1,
   "nav_menu": {},
   "number_sections": true,
   "sideBar": true,
   "skip_h1_title": true,
   "title_cell": "Table of Contents",
   "title_sidebar": "Contents",
   "toc_cell": false,
   "toc_position": {
    "height": "496.8px",
    "left": "26px",
    "top": "111.125px",
    "width": "279.825px"
   },
   "toc_section_display": true,
   "toc_window_display": true
  }
 },
 "nbformat": 4,
 "nbformat_minor": 2
}
