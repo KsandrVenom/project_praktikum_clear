{
 "cells": [
  {
   "cell_type": "markdown",
   "metadata": {},
   "source": [
    "# Определение стоимости автомобилей"
   ]
  },
  {
   "cell_type": "markdown",
   "metadata": {},
   "source": [
    "Сервис по продаже автомобилей с пробегом «Не бит, не крашен» разрабатывает приложение для привлечения новых клиентов. В нём можно быстро узнать рыночную стоимость своего автомобиля. В вашем распоряжении исторические данные: технические характеристики, комплектации и цены автомобилей. Вам нужно построить модель для определения стоимости. \n",
    "\n",
    "Заказчику важны:\n",
    "\n",
    "- качество предсказания;\n",
    "- скорость предсказания;\n",
    "- время обучения."
   ]
  },
  {
   "cell_type": "markdown",
   "metadata": {},
   "source": [
    "## Подготовка данных"
   ]
  },
  {
   "cell_type": "code",
   "execution_count": 1,
   "metadata": {},
   "outputs": [],
   "source": [
    "import pandas as pd\n",
    "pd.set_option('display.max_columns', None)\n",
    "#pd.set_option('display.max_rows', None)\n",
    "\n",
    "import seaborn as sns\n",
    "import numpy as np\n",
    "\n",
    "from sklearn.model_selection import train_test_split\n",
    "from sklearn.preprocessing import StandardScaler\n",
    "\n",
    "from sklearn.preprocessing import OrdinalEncoder\n",
    "from sklearn.preprocessing import OneHotEncoder\n",
    "\n",
    "from sklearn.linear_model import LinearRegression\n",
    "from sklearn.ensemble import RandomForestRegressor\n",
    "from catboost import CatBoostRegressor\n",
    "import lightgbm as lgb\n",
    "\n",
    "from sklearn.metrics import mean_squared_error\n",
    "\n",
    "from sklearn.model_selection import GridSearchCV"
   ]
  },
  {
   "cell_type": "code",
   "execution_count": 2,
   "metadata": {},
   "outputs": [],
   "source": [
    "RANDOM_STATE = 12345"
   ]
  },
  {
   "cell_type": "code",
   "execution_count": 3,
   "metadata": {},
   "outputs": [
    {
     "name": "stdout",
     "output_type": "stream",
     "text": [
      "Загрузилось\n"
     ]
    }
   ],
   "source": [
    "try:\n",
    "    data = pd.read_csv('/datasets/autos.csv')\n",
    "    print('Загрузилось')\n",
    "except:\n",
    "    print('Ошибка при загрузке базы данных')"
   ]
  },
  {
   "cell_type": "code",
   "execution_count": 4,
   "metadata": {
    "scrolled": true
   },
   "outputs": [
    {
     "data": {
      "text/html": [
       "<div>\n",
       "<style scoped>\n",
       "    .dataframe tbody tr th:only-of-type {\n",
       "        vertical-align: middle;\n",
       "    }\n",
       "\n",
       "    .dataframe tbody tr th {\n",
       "        vertical-align: top;\n",
       "    }\n",
       "\n",
       "    .dataframe thead th {\n",
       "        text-align: right;\n",
       "    }\n",
       "</style>\n",
       "<table border=\"1\" class=\"dataframe\">\n",
       "  <thead>\n",
       "    <tr style=\"text-align: right;\">\n",
       "      <th></th>\n",
       "      <th>DateCrawled</th>\n",
       "      <th>Price</th>\n",
       "      <th>VehicleType</th>\n",
       "      <th>RegistrationYear</th>\n",
       "      <th>Gearbox</th>\n",
       "      <th>Power</th>\n",
       "      <th>Model</th>\n",
       "      <th>Kilometer</th>\n",
       "      <th>RegistrationMonth</th>\n",
       "      <th>FuelType</th>\n",
       "      <th>Brand</th>\n",
       "      <th>Repaired</th>\n",
       "      <th>DateCreated</th>\n",
       "      <th>NumberOfPictures</th>\n",
       "      <th>PostalCode</th>\n",
       "      <th>LastSeen</th>\n",
       "    </tr>\n",
       "  </thead>\n",
       "  <tbody>\n",
       "    <tr>\n",
       "      <th>0</th>\n",
       "      <td>2016-03-24 11:52:17</td>\n",
       "      <td>480</td>\n",
       "      <td>NaN</td>\n",
       "      <td>1993</td>\n",
       "      <td>manual</td>\n",
       "      <td>0</td>\n",
       "      <td>golf</td>\n",
       "      <td>150000</td>\n",
       "      <td>0</td>\n",
       "      <td>petrol</td>\n",
       "      <td>volkswagen</td>\n",
       "      <td>NaN</td>\n",
       "      <td>2016-03-24 00:00:00</td>\n",
       "      <td>0</td>\n",
       "      <td>70435</td>\n",
       "      <td>2016-04-07 03:16:57</td>\n",
       "    </tr>\n",
       "    <tr>\n",
       "      <th>1</th>\n",
       "      <td>2016-03-24 10:58:45</td>\n",
       "      <td>18300</td>\n",
       "      <td>coupe</td>\n",
       "      <td>2011</td>\n",
       "      <td>manual</td>\n",
       "      <td>190</td>\n",
       "      <td>NaN</td>\n",
       "      <td>125000</td>\n",
       "      <td>5</td>\n",
       "      <td>gasoline</td>\n",
       "      <td>audi</td>\n",
       "      <td>yes</td>\n",
       "      <td>2016-03-24 00:00:00</td>\n",
       "      <td>0</td>\n",
       "      <td>66954</td>\n",
       "      <td>2016-04-07 01:46:50</td>\n",
       "    </tr>\n",
       "    <tr>\n",
       "      <th>2</th>\n",
       "      <td>2016-03-14 12:52:21</td>\n",
       "      <td>9800</td>\n",
       "      <td>suv</td>\n",
       "      <td>2004</td>\n",
       "      <td>auto</td>\n",
       "      <td>163</td>\n",
       "      <td>grand</td>\n",
       "      <td>125000</td>\n",
       "      <td>8</td>\n",
       "      <td>gasoline</td>\n",
       "      <td>jeep</td>\n",
       "      <td>NaN</td>\n",
       "      <td>2016-03-14 00:00:00</td>\n",
       "      <td>0</td>\n",
       "      <td>90480</td>\n",
       "      <td>2016-04-05 12:47:46</td>\n",
       "    </tr>\n",
       "    <tr>\n",
       "      <th>3</th>\n",
       "      <td>2016-03-17 16:54:04</td>\n",
       "      <td>1500</td>\n",
       "      <td>small</td>\n",
       "      <td>2001</td>\n",
       "      <td>manual</td>\n",
       "      <td>75</td>\n",
       "      <td>golf</td>\n",
       "      <td>150000</td>\n",
       "      <td>6</td>\n",
       "      <td>petrol</td>\n",
       "      <td>volkswagen</td>\n",
       "      <td>no</td>\n",
       "      <td>2016-03-17 00:00:00</td>\n",
       "      <td>0</td>\n",
       "      <td>91074</td>\n",
       "      <td>2016-03-17 17:40:17</td>\n",
       "    </tr>\n",
       "    <tr>\n",
       "      <th>4</th>\n",
       "      <td>2016-03-31 17:25:20</td>\n",
       "      <td>3600</td>\n",
       "      <td>small</td>\n",
       "      <td>2008</td>\n",
       "      <td>manual</td>\n",
       "      <td>69</td>\n",
       "      <td>fabia</td>\n",
       "      <td>90000</td>\n",
       "      <td>7</td>\n",
       "      <td>gasoline</td>\n",
       "      <td>skoda</td>\n",
       "      <td>no</td>\n",
       "      <td>2016-03-31 00:00:00</td>\n",
       "      <td>0</td>\n",
       "      <td>60437</td>\n",
       "      <td>2016-04-06 10:17:21</td>\n",
       "    </tr>\n",
       "  </tbody>\n",
       "</table>\n",
       "</div>"
      ],
      "text/plain": [
       "           DateCrawled  Price VehicleType  RegistrationYear Gearbox  Power  \\\n",
       "0  2016-03-24 11:52:17    480         NaN              1993  manual      0   \n",
       "1  2016-03-24 10:58:45  18300       coupe              2011  manual    190   \n",
       "2  2016-03-14 12:52:21   9800         suv              2004    auto    163   \n",
       "3  2016-03-17 16:54:04   1500       small              2001  manual     75   \n",
       "4  2016-03-31 17:25:20   3600       small              2008  manual     69   \n",
       "\n",
       "   Model  Kilometer  RegistrationMonth  FuelType       Brand Repaired  \\\n",
       "0   golf     150000                  0    petrol  volkswagen      NaN   \n",
       "1    NaN     125000                  5  gasoline        audi      yes   \n",
       "2  grand     125000                  8  gasoline        jeep      NaN   \n",
       "3   golf     150000                  6    petrol  volkswagen       no   \n",
       "4  fabia      90000                  7  gasoline       skoda       no   \n",
       "\n",
       "           DateCreated  NumberOfPictures  PostalCode             LastSeen  \n",
       "0  2016-03-24 00:00:00                 0       70435  2016-04-07 03:16:57  \n",
       "1  2016-03-24 00:00:00                 0       66954  2016-04-07 01:46:50  \n",
       "2  2016-03-14 00:00:00                 0       90480  2016-04-05 12:47:46  \n",
       "3  2016-03-17 00:00:00                 0       91074  2016-03-17 17:40:17  \n",
       "4  2016-03-31 00:00:00                 0       60437  2016-04-06 10:17:21  "
      ]
     },
     "execution_count": 4,
     "metadata": {},
     "output_type": "execute_result"
    }
   ],
   "source": [
    "data.head()"
   ]
  },
  {
   "cell_type": "code",
   "execution_count": 5,
   "metadata": {
    "scrolled": false
   },
   "outputs": [
    {
     "name": "stdout",
     "output_type": "stream",
     "text": [
      "<class 'pandas.core.frame.DataFrame'>\n",
      "RangeIndex: 354369 entries, 0 to 354368\n",
      "Data columns (total 16 columns):\n",
      " #   Column             Non-Null Count   Dtype \n",
      "---  ------             --------------   ----- \n",
      " 0   DateCrawled        354369 non-null  object\n",
      " 1   Price              354369 non-null  int64 \n",
      " 2   VehicleType        316879 non-null  object\n",
      " 3   RegistrationYear   354369 non-null  int64 \n",
      " 4   Gearbox            334536 non-null  object\n",
      " 5   Power              354369 non-null  int64 \n",
      " 6   Model              334664 non-null  object\n",
      " 7   Kilometer          354369 non-null  int64 \n",
      " 8   RegistrationMonth  354369 non-null  int64 \n",
      " 9   FuelType           321474 non-null  object\n",
      " 10  Brand              354369 non-null  object\n",
      " 11  Repaired           283215 non-null  object\n",
      " 12  DateCreated        354369 non-null  object\n",
      " 13  NumberOfPictures   354369 non-null  int64 \n",
      " 14  PostalCode         354369 non-null  int64 \n",
      " 15  LastSeen           354369 non-null  object\n",
      "dtypes: int64(7), object(9)\n",
      "memory usage: 43.3+ MB\n"
     ]
    }
   ],
   "source": [
    "data.info()"
   ]
  },
  {
   "cell_type": "markdown",
   "metadata": {},
   "source": [
    "<div style=\"border: 5px solid violet; border-radius: 5px;\">\n",
    "Приводим столбцы с датами к нужному типу и находим время продажи в днях. Чтобы быть уверенными, что цена адекватная/рыночная. Затем этот признак удалим, чтобы не было утечки.\n",
    "</div>"
   ]
  },
  {
   "cell_type": "code",
   "execution_count": 6,
   "metadata": {},
   "outputs": [],
   "source": [
    "data['DateCreated'] = pd.to_datetime(data['DateCreated'], format='%Y-%m-%d %H:%M:%S')\n",
    "data['LastSeen'] = pd.to_datetime(data['LastSeen'], format='%Y-%m-%d %H:%M:%S')\n",
    "data['TimeOfSale'] = abs((data['DateCreated'] - data['LastSeen']).astype('timedelta64[D]')).astype('int')"
   ]
  },
  {
   "cell_type": "code",
   "execution_count": 7,
   "metadata": {},
   "outputs": [],
   "source": [
    "# РЕВЬЮЕР ПОДШАМАНИЛ\n",
    "data['TimeOfSale'] = abs((data['DateCreated'] - data['LastSeen']).values.astype('timedelta64[D]')).astype('int')"
   ]
  },
  {
   "cell_type": "markdown",
   "metadata": {},
   "source": [
    "<div style=\"border: 5px solid violet; border-radius: 5px;\">\n",
    "Заменим `gasoline` на `petrol` - так как это одно и то же, но в разных странах.\n",
    "</div>"
   ]
  },
  {
   "cell_type": "code",
   "execution_count": 8,
   "metadata": {
    "scrolled": false
   },
   "outputs": [
    {
     "data": {
      "text/plain": [
       "petrol      216352\n",
       "gasoline     98720\n",
       "lpg           5310\n",
       "cng            565\n",
       "hybrid         233\n",
       "other          204\n",
       "electric        90\n",
       "Name: FuelType, dtype: int64"
      ]
     },
     "execution_count": 8,
     "metadata": {},
     "output_type": "execute_result"
    }
   ],
   "source": [
    "data['FuelType'].value_counts()"
   ]
  },
  {
   "cell_type": "code",
   "execution_count": 9,
   "metadata": {},
   "outputs": [],
   "source": [
    "data['FuelType'] = data['FuelType'].replace('gasoline', 'petrol')"
   ]
  },
  {
   "cell_type": "markdown",
   "metadata": {},
   "source": [
    "<div style=\"border: 5px solid violet; border-radius: 5px;\">\n",
    "Удалим дубликаты.\n",
    "    \n",
    "</div>"
   ]
  },
  {
   "cell_type": "code",
   "execution_count": 11,
   "metadata": {
    "scrolled": false
   },
   "outputs": [],
   "source": [
    "#sns.set(font_scale=5)\n",
    "#sns.set(rc = {'figure.figsize':(50,50), 'ytick.labelsize': 25, 'xtick.labelsize': 25, 'axes.titlesize': 32})\n",
    "# sns.heatmap(data.corr());\n",
    "#sns.heatmap(data.corr(numeric_only=True));"
   ]
  },
  {
   "cell_type": "code",
   "execution_count": 12,
   "metadata": {
    "scrolled": false
   },
   "outputs": [
    {
     "data": {
      "text/html": [
       "<div>\n",
       "<style scoped>\n",
       "    .dataframe tbody tr th:only-of-type {\n",
       "        vertical-align: middle;\n",
       "    }\n",
       "\n",
       "    .dataframe tbody tr th {\n",
       "        vertical-align: top;\n",
       "    }\n",
       "\n",
       "    .dataframe thead th {\n",
       "        text-align: right;\n",
       "    }\n",
       "</style>\n",
       "<table border=\"1\" class=\"dataframe\">\n",
       "  <thead>\n",
       "    <tr style=\"text-align: right;\">\n",
       "      <th></th>\n",
       "      <th>Price</th>\n",
       "      <th>RegistrationYear</th>\n",
       "      <th>Power</th>\n",
       "      <th>Kilometer</th>\n",
       "      <th>RegistrationMonth</th>\n",
       "      <th>NumberOfPictures</th>\n",
       "      <th>PostalCode</th>\n",
       "      <th>TimeOfSale</th>\n",
       "    </tr>\n",
       "  </thead>\n",
       "  <tbody>\n",
       "    <tr>\n",
       "      <th>Price</th>\n",
       "      <td>1.000000</td>\n",
       "      <td>0.026916</td>\n",
       "      <td>0.158872</td>\n",
       "      <td>-0.333199</td>\n",
       "      <td>0.110581</td>\n",
       "      <td>NaN</td>\n",
       "      <td>0.076055</td>\n",
       "      <td>0.148219</td>\n",
       "    </tr>\n",
       "    <tr>\n",
       "      <th>RegistrationYear</th>\n",
       "      <td>0.026916</td>\n",
       "      <td>1.000000</td>\n",
       "      <td>-0.000828</td>\n",
       "      <td>-0.053447</td>\n",
       "      <td>-0.011619</td>\n",
       "      <td>NaN</td>\n",
       "      <td>-0.003459</td>\n",
       "      <td>-0.000429</td>\n",
       "    </tr>\n",
       "    <tr>\n",
       "      <th>Power</th>\n",
       "      <td>0.158872</td>\n",
       "      <td>-0.000828</td>\n",
       "      <td>1.000000</td>\n",
       "      <td>0.024002</td>\n",
       "      <td>0.043380</td>\n",
       "      <td>NaN</td>\n",
       "      <td>0.021665</td>\n",
       "      <td>0.020379</td>\n",
       "    </tr>\n",
       "    <tr>\n",
       "      <th>Kilometer</th>\n",
       "      <td>-0.333199</td>\n",
       "      <td>-0.053447</td>\n",
       "      <td>0.024002</td>\n",
       "      <td>1.000000</td>\n",
       "      <td>0.009571</td>\n",
       "      <td>NaN</td>\n",
       "      <td>-0.007698</td>\n",
       "      <td>-0.067890</td>\n",
       "    </tr>\n",
       "    <tr>\n",
       "      <th>RegistrationMonth</th>\n",
       "      <td>0.110581</td>\n",
       "      <td>-0.011619</td>\n",
       "      <td>0.043380</td>\n",
       "      <td>0.009571</td>\n",
       "      <td>1.000000</td>\n",
       "      <td>NaN</td>\n",
       "      <td>0.013995</td>\n",
       "      <td>0.002898</td>\n",
       "    </tr>\n",
       "    <tr>\n",
       "      <th>NumberOfPictures</th>\n",
       "      <td>NaN</td>\n",
       "      <td>NaN</td>\n",
       "      <td>NaN</td>\n",
       "      <td>NaN</td>\n",
       "      <td>NaN</td>\n",
       "      <td>NaN</td>\n",
       "      <td>NaN</td>\n",
       "      <td>NaN</td>\n",
       "    </tr>\n",
       "    <tr>\n",
       "      <th>PostalCode</th>\n",
       "      <td>0.076055</td>\n",
       "      <td>-0.003459</td>\n",
       "      <td>0.021665</td>\n",
       "      <td>-0.007698</td>\n",
       "      <td>0.013995</td>\n",
       "      <td>NaN</td>\n",
       "      <td>1.000000</td>\n",
       "      <td>0.031016</td>\n",
       "    </tr>\n",
       "    <tr>\n",
       "      <th>TimeOfSale</th>\n",
       "      <td>0.148219</td>\n",
       "      <td>-0.000429</td>\n",
       "      <td>0.020379</td>\n",
       "      <td>-0.067890</td>\n",
       "      <td>0.002898</td>\n",
       "      <td>NaN</td>\n",
       "      <td>0.031016</td>\n",
       "      <td>1.000000</td>\n",
       "    </tr>\n",
       "  </tbody>\n",
       "</table>\n",
       "</div>"
      ],
      "text/plain": [
       "                      Price  RegistrationYear     Power  Kilometer  \\\n",
       "Price              1.000000          0.026916  0.158872  -0.333199   \n",
       "RegistrationYear   0.026916          1.000000 -0.000828  -0.053447   \n",
       "Power              0.158872         -0.000828  1.000000   0.024002   \n",
       "Kilometer         -0.333199         -0.053447  0.024002   1.000000   \n",
       "RegistrationMonth  0.110581         -0.011619  0.043380   0.009571   \n",
       "NumberOfPictures        NaN               NaN       NaN        NaN   \n",
       "PostalCode         0.076055         -0.003459  0.021665  -0.007698   \n",
       "TimeOfSale         0.148219         -0.000429  0.020379  -0.067890   \n",
       "\n",
       "                   RegistrationMonth  NumberOfPictures  PostalCode  TimeOfSale  \n",
       "Price                       0.110581               NaN    0.076055    0.148219  \n",
       "RegistrationYear           -0.011619               NaN   -0.003459   -0.000429  \n",
       "Power                       0.043380               NaN    0.021665    0.020379  \n",
       "Kilometer                   0.009571               NaN   -0.007698   -0.067890  \n",
       "RegistrationMonth           1.000000               NaN    0.013995    0.002898  \n",
       "NumberOfPictures                 NaN               NaN         NaN         NaN  \n",
       "PostalCode                  0.013995               NaN    1.000000    0.031016  \n",
       "TimeOfSale                  0.002898               NaN    0.031016    1.000000  "
      ]
     },
     "execution_count": 12,
     "metadata": {},
     "output_type": "execute_result"
    }
   ],
   "source": [
    "data.corr()"
   ]
  },
  {
   "cell_type": "markdown",
   "metadata": {},
   "source": [
    "<div style=\"border: 5px solid violet; border-radius: 5px;\">\n",
    "Каких-либо явных корреляций мы не наблюдаем. Кроме слабовыраженной между ценой и километрами, что логично.  \n",
    "</div>"
   ]
  },
  {
   "cell_type": "markdown",
   "metadata": {},
   "source": [
    "<div style=\"border: 5px solid violet; border-radius: 5px;\">\n",
    "Очень грубо прикинем графики, чтобы посмотреть на выбросы, аномалии, распределения.\n",
    "</div>"
   ]
  },
  {
   "cell_type": "code",
   "execution_count": 13,
   "metadata": {},
   "outputs": [
    {
     "data": {
      "image/png": "[encoded data removed]",
      "text/plain": [
       "<Figure size 3600x3600 with 12 Axes>"
      ]
     },
     "metadata": {
      "needs_background": "light"
     },
     "output_type": "display_data"
    }
   ],
   "source": [
    "data.hist(figsize=(50,50));"
   ]
  },
  {
   "cell_type": "code",
   "execution_count": 14,
   "metadata": {
    "scrolled": true
   },
   "outputs": [
    {
     "data": {
      "image/png": "[encoded data removed]",
      "text/plain": [
       "<Figure size 3600x3600 with 1 Axes>"
      ]
     },
     "metadata": {
      "needs_background": "light"
     },
     "output_type": "display_data"
    }
   ],
   "source": [
    "data.boxplot(figsize=(50, 50));"
   ]
  },
  {
   "cell_type": "markdown",
   "metadata": {},
   "source": [
    "<div style=\"border: 5px solid violet; border-radius: 5px;\">\n",
    "Столбец с количеством фото не подгрузился, удалим его. Также удалим столбцы, которые нам не нужны. Избавимся от неадекватных объектов в виде цены 0. Также избавимся от аномалий и технического столбца со временем продаж. Перед этим в базе оставим только те объекты, которые продались за 100 дней(по правде 30)\n",
    "</div>"
   ]
  },
  {
   "cell_type": "code",
   "execution_count": 15,
   "metadata": {
    "scrolled": false
   },
   "outputs": [
    {
     "data": {
      "text/plain": [
       "0    354369\n",
       "Name: NumberOfPictures, dtype: int64"
      ]
     },
     "execution_count": 15,
     "metadata": {},
     "output_type": "execute_result"
    }
   ],
   "source": [
    "data['NumberOfPictures'].value_counts()"
   ]
  },
  {
   "cell_type": "code",
   "execution_count": 16,
   "metadata": {},
   "outputs": [],
   "source": [
    "data = data.drop(['DateCrawled', 'DateCreated', 'NumberOfPictures', 'PostalCode', 'LastSeen', 'RegistrationMonth'], axis=1)"
   ]
  },
  {
   "cell_type": "code",
   "execution_count": 17,
   "metadata": {},
   "outputs": [
    {
     "name": "stdout",
     "output_type": "stream",
     "text": [
      "0        10772\n",
      "500       5670\n",
      "1500      5394\n",
      "1000      4649\n",
      "1200      4594\n",
      "         ...  \n",
      "13180        1\n",
      "10879        1\n",
      "2683         1\n",
      "634          1\n",
      "8188         1\n",
      "Name: Price, Length: 3731, dtype: int64\n"
     ]
    }
   ],
   "source": [
    "print(data['Price'].value_counts())\n",
    "data = data[data['Price'] != 0]"
   ]
  },
  {
   "cell_type": "code",
   "execution_count": 18,
   "metadata": {},
   "outputs": [],
   "source": [
    "data = data[data['Power'] <= 1000]\n",
    "data = data[data['TimeOfSale'] <= 100]"
   ]
  },
  {
   "cell_type": "code",
   "execution_count": 19,
   "metadata": {},
   "outputs": [
    {
     "data": {
      "text/html": [
       "<div>\n",
       "<style scoped>\n",
       "    .dataframe tbody tr th:only-of-type {\n",
       "        vertical-align: middle;\n",
       "    }\n",
       "\n",
       "    .dataframe tbody tr th {\n",
       "        vertical-align: top;\n",
       "    }\n",
       "\n",
       "    .dataframe thead th {\n",
       "        text-align: right;\n",
       "    }\n",
       "</style>\n",
       "<table border=\"1\" class=\"dataframe\">\n",
       "  <thead>\n",
       "    <tr style=\"text-align: right;\">\n",
       "      <th></th>\n",
       "      <th>Price</th>\n",
       "      <th>VehicleType</th>\n",
       "      <th>RegistrationYear</th>\n",
       "      <th>Gearbox</th>\n",
       "      <th>Power</th>\n",
       "      <th>Model</th>\n",
       "      <th>Kilometer</th>\n",
       "      <th>FuelType</th>\n",
       "      <th>Brand</th>\n",
       "      <th>Repaired</th>\n",
       "      <th>TimeOfSale</th>\n",
       "    </tr>\n",
       "  </thead>\n",
       "  <tbody>\n",
       "    <tr>\n",
       "      <th>0</th>\n",
       "      <td>480</td>\n",
       "      <td>NaN</td>\n",
       "      <td>1993</td>\n",
       "      <td>manual</td>\n",
       "      <td>0</td>\n",
       "      <td>golf</td>\n",
       "      <td>150000</td>\n",
       "      <td>petrol</td>\n",
       "      <td>volkswagen</td>\n",
       "      <td>NaN</td>\n",
       "      <td>15</td>\n",
       "    </tr>\n",
       "    <tr>\n",
       "      <th>1</th>\n",
       "      <td>18300</td>\n",
       "      <td>coupe</td>\n",
       "      <td>2011</td>\n",
       "      <td>manual</td>\n",
       "      <td>190</td>\n",
       "      <td>NaN</td>\n",
       "      <td>125000</td>\n",
       "      <td>petrol</td>\n",
       "      <td>audi</td>\n",
       "      <td>yes</td>\n",
       "      <td>15</td>\n",
       "    </tr>\n",
       "    <tr>\n",
       "      <th>2</th>\n",
       "      <td>9800</td>\n",
       "      <td>suv</td>\n",
       "      <td>2004</td>\n",
       "      <td>auto</td>\n",
       "      <td>163</td>\n",
       "      <td>grand</td>\n",
       "      <td>125000</td>\n",
       "      <td>petrol</td>\n",
       "      <td>jeep</td>\n",
       "      <td>NaN</td>\n",
       "      <td>23</td>\n",
       "    </tr>\n",
       "    <tr>\n",
       "      <th>3</th>\n",
       "      <td>1500</td>\n",
       "      <td>small</td>\n",
       "      <td>2001</td>\n",
       "      <td>manual</td>\n",
       "      <td>75</td>\n",
       "      <td>golf</td>\n",
       "      <td>150000</td>\n",
       "      <td>petrol</td>\n",
       "      <td>volkswagen</td>\n",
       "      <td>no</td>\n",
       "      <td>1</td>\n",
       "    </tr>\n",
       "    <tr>\n",
       "      <th>4</th>\n",
       "      <td>3600</td>\n",
       "      <td>small</td>\n",
       "      <td>2008</td>\n",
       "      <td>manual</td>\n",
       "      <td>69</td>\n",
       "      <td>fabia</td>\n",
       "      <td>90000</td>\n",
       "      <td>petrol</td>\n",
       "      <td>skoda</td>\n",
       "      <td>no</td>\n",
       "      <td>7</td>\n",
       "    </tr>\n",
       "  </tbody>\n",
       "</table>\n",
       "</div>"
      ],
      "text/plain": [
       "   Price VehicleType  RegistrationYear Gearbox  Power  Model  Kilometer  \\\n",
       "0    480         NaN              1993  manual      0   golf     150000   \n",
       "1  18300       coupe              2011  manual    190    NaN     125000   \n",
       "2   9800         suv              2004    auto    163  grand     125000   \n",
       "3   1500       small              2001  manual     75   golf     150000   \n",
       "4   3600       small              2008  manual     69  fabia      90000   \n",
       "\n",
       "  FuelType       Brand Repaired  TimeOfSale  \n",
       "0   petrol  volkswagen      NaN          15  \n",
       "1   petrol        audi      yes          15  \n",
       "2   petrol        jeep      NaN          23  \n",
       "3   petrol  volkswagen       no           1  \n",
       "4   petrol       skoda       no           7  "
      ]
     },
     "execution_count": 19,
     "metadata": {},
     "output_type": "execute_result"
    }
   ],
   "source": [
    "data.head()"
   ]
  },
  {
   "cell_type": "code",
   "execution_count": 20,
   "metadata": {},
   "outputs": [
    {
     "data": {
      "image/png": "[encoded data removed]",
      "text/plain": [
       "<Figure size 432x288 with 6 Axes>"
      ]
     },
     "metadata": {
      "needs_background": "light"
     },
     "output_type": "display_data"
    }
   ],
   "source": [
    "data.hist();"
   ]
  },
  {
   "cell_type": "code",
   "execution_count": 21,
   "metadata": {},
   "outputs": [
    {
     "name": "stdout",
     "output_type": "stream",
     "text": [
      "<class 'pandas.core.frame.DataFrame'>\n",
      "Int64Index: 343289 entries, 0 to 354368\n",
      "Data columns (total 11 columns):\n",
      " #   Column            Non-Null Count   Dtype \n",
      "---  ------            --------------   ----- \n",
      " 0   Price             343289 non-null  int64 \n",
      " 1   VehicleType       309582 non-null  object\n",
      " 2   RegistrationYear  343289 non-null  int64 \n",
      " 3   Gearbox           325952 non-null  object\n",
      " 4   Power             343289 non-null  int64 \n",
      " 5   Model             325803 non-null  object\n",
      " 6   Kilometer         343289 non-null  int64 \n",
      " 7   FuelType          313885 non-null  object\n",
      " 8   Brand             343289 non-null  object\n",
      " 9   Repaired          277528 non-null  object\n",
      " 10  TimeOfSale        343289 non-null  int64 \n",
      "dtypes: int64(5), object(6)\n",
      "memory usage: 31.4+ MB\n"
     ]
    }
   ],
   "source": [
    "data.info()"
   ]
  },
  {
   "cell_type": "code",
   "execution_count": 22,
   "metadata": {
    "scrolled": true
   },
   "outputs": [
    {
     "data": {
      "image/png": "[encoded data removed]",
      "text/plain": [
       "<Figure size 432x288 with 1 Axes>"
      ]
     },
     "metadata": {
      "needs_background": "light"
     },
     "output_type": "display_data"
    }
   ],
   "source": [
    "data.boxplot();"
   ]
  },
  {
   "cell_type": "code",
   "execution_count": 23,
   "metadata": {},
   "outputs": [],
   "source": [
    "data = data.drop(['TimeOfSale'], axis=1)"
   ]
  },
  {
   "cell_type": "code",
   "execution_count": 24,
   "metadata": {},
   "outputs": [
    {
     "data": {
      "text/html": [
       "<div>\n",
       "<style scoped>\n",
       "    .dataframe tbody tr th:only-of-type {\n",
       "        vertical-align: middle;\n",
       "    }\n",
       "\n",
       "    .dataframe tbody tr th {\n",
       "        vertical-align: top;\n",
       "    }\n",
       "\n",
       "    .dataframe thead th {\n",
       "        text-align: right;\n",
       "    }\n",
       "</style>\n",
       "<table border=\"1\" class=\"dataframe\">\n",
       "  <thead>\n",
       "    <tr style=\"text-align: right;\">\n",
       "      <th></th>\n",
       "      <th>Price</th>\n",
       "      <th>RegistrationYear</th>\n",
       "      <th>Power</th>\n",
       "      <th>Kilometer</th>\n",
       "    </tr>\n",
       "  </thead>\n",
       "  <tbody>\n",
       "    <tr>\n",
       "      <th>count</th>\n",
       "      <td>343289.000000</td>\n",
       "      <td>343289.000000</td>\n",
       "      <td>343289.000000</td>\n",
       "      <td>343289.000000</td>\n",
       "    </tr>\n",
       "    <tr>\n",
       "      <th>mean</th>\n",
       "      <td>4556.134927</td>\n",
       "      <td>2004.083766</td>\n",
       "      <td>107.620961</td>\n",
       "      <td>128341.514001</td>\n",
       "    </tr>\n",
       "    <tr>\n",
       "      <th>std</th>\n",
       "      <td>4515.700601</td>\n",
       "      <td>78.251382</td>\n",
       "      <td>63.733085</td>\n",
       "      <td>37513.180301</td>\n",
       "    </tr>\n",
       "    <tr>\n",
       "      <th>min</th>\n",
       "      <td>1.000000</td>\n",
       "      <td>1000.000000</td>\n",
       "      <td>0.000000</td>\n",
       "      <td>5000.000000</td>\n",
       "    </tr>\n",
       "    <tr>\n",
       "      <th>25%</th>\n",
       "      <td>1200.000000</td>\n",
       "      <td>1999.000000</td>\n",
       "      <td>69.000000</td>\n",
       "      <td>125000.000000</td>\n",
       "    </tr>\n",
       "    <tr>\n",
       "      <th>50%</th>\n",
       "      <td>2890.000000</td>\n",
       "      <td>2003.000000</td>\n",
       "      <td>105.000000</td>\n",
       "      <td>150000.000000</td>\n",
       "    </tr>\n",
       "    <tr>\n",
       "      <th>75%</th>\n",
       "      <td>6500.000000</td>\n",
       "      <td>2008.000000</td>\n",
       "      <td>143.000000</td>\n",
       "      <td>150000.000000</td>\n",
       "    </tr>\n",
       "    <tr>\n",
       "      <th>max</th>\n",
       "      <td>20000.000000</td>\n",
       "      <td>9999.000000</td>\n",
       "      <td>1000.000000</td>\n",
       "      <td>150000.000000</td>\n",
       "    </tr>\n",
       "  </tbody>\n",
       "</table>\n",
       "</div>"
      ],
      "text/plain": [
       "               Price  RegistrationYear          Power      Kilometer\n",
       "count  343289.000000     343289.000000  343289.000000  343289.000000\n",
       "mean     4556.134927       2004.083766     107.620961  128341.514001\n",
       "std      4515.700601         78.251382      63.733085   37513.180301\n",
       "min         1.000000       1000.000000       0.000000    5000.000000\n",
       "25%      1200.000000       1999.000000      69.000000  125000.000000\n",
       "50%      2890.000000       2003.000000     105.000000  150000.000000\n",
       "75%      6500.000000       2008.000000     143.000000  150000.000000\n",
       "max     20000.000000       9999.000000    1000.000000  150000.000000"
      ]
     },
     "execution_count": 24,
     "metadata": {},
     "output_type": "execute_result"
    }
   ],
   "source": [
    "# КОД РЕВЬЮЕРА\n",
    "data.describe()"
   ]
  },
  {
   "cell_type": "code",
   "execution_count": 25,
   "metadata": {
    "scrolled": true
   },
   "outputs": [
    {
     "data": {
      "text/plain": [
       "array([1000, 1001, 1039, 1111, 1234, 1255, 1300, 1500, 1600, 1602, 1800,\n",
       "       1910, 1923, 1925, 1927, 1928, 1929, 1930, 1931, 1932, 1933, 1934,\n",
       "       1935, 1936, 1937, 1938, 1940, 1941, 1942, 1943, 1944, 1945, 1946,\n",
       "       1947, 1948, 1949, 1950, 1951, 1952, 1953, 1954, 1955, 1956, 1957,\n",
       "       1958, 1959, 1960, 1961, 1962, 1963, 1964, 1965, 1966, 1967, 1968,\n",
       "       1969, 1970, 1971, 1972, 1973, 1974, 1975, 1976, 1977, 1978, 1979,\n",
       "       1980, 1981, 1982, 1983, 1984, 1985, 1986, 1987, 1988, 1989, 1990,\n",
       "       1991, 1992, 1993, 1994, 1995, 1996, 1997, 1998, 1999, 2000, 2001,\n",
       "       2002, 2003, 2004, 2005, 2006, 2007, 2008, 2009, 2010, 2011, 2012,\n",
       "       2013, 2014, 2015, 2016, 2017, 2018, 2019, 2066, 2200, 2222, 2290,\n",
       "       2500, 2800, 2900, 3000, 3200, 3700, 3800, 4000, 4100, 4500, 4800,\n",
       "       5000, 5300, 5555, 5600, 5900, 5911, 6000, 6500, 7000, 7100, 7800,\n",
       "       8000, 8200, 8500, 8888, 9000, 9450, 9999])"
      ]
     },
     "execution_count": 25,
     "metadata": {},
     "output_type": "execute_result"
    }
   ],
   "source": [
    "data['RegistrationYear'].sort_values().unique()"
   ]
  },
  {
   "cell_type": "code",
   "execution_count": 26,
   "metadata": {},
   "outputs": [],
   "source": [
    "data = data[(data['RegistrationYear'] <= 2016) & (data['RegistrationYear'] >= 1910)]"
   ]
  },
  {
   "cell_type": "code",
   "execution_count": 27,
   "metadata": {},
   "outputs": [
    {
     "data": {
      "text/plain": [
       "43099"
      ]
     },
     "execution_count": 27,
     "metadata": {},
     "output_type": "execute_result"
    }
   ],
   "source": [
    "# КОД РЕВЬЮЕРА\n",
    "data.duplicated().sum()"
   ]
  },
  {
   "cell_type": "code",
   "execution_count": 28,
   "metadata": {
    "scrolled": true
   },
   "outputs": [
    {
     "name": "stdout",
     "output_type": "stream",
     "text": [
      "43099\n"
     ]
    }
   ],
   "source": [
    "print(data.duplicated().sum())\n",
    "data = data.drop_duplicates()"
   ]
  },
  {
   "cell_type": "code",
   "execution_count": 29,
   "metadata": {},
   "outputs": [
    {
     "data": {
      "text/plain": [
       "(286382, 10)"
      ]
     },
     "execution_count": 29,
     "metadata": {},
     "output_type": "execute_result"
    }
   ],
   "source": [
    "data.shape"
   ]
  },
  {
   "cell_type": "code",
   "execution_count": 30,
   "metadata": {},
   "outputs": [
    {
     "data": {
      "text/plain": [
       "Price                   0\n",
       "VehicleType         18670\n",
       "RegistrationYear        0\n",
       "Gearbox             13734\n",
       "Power                   0\n",
       "Model               14837\n",
       "Kilometer               0\n",
       "FuelType            23010\n",
       "Brand                   0\n",
       "Repaired            54548\n",
       "dtype: int64"
      ]
     },
     "execution_count": 30,
     "metadata": {},
     "output_type": "execute_result"
    }
   ],
   "source": [
    "# КОД РЕВЬЮЕРА\n",
    "data.isna().sum()"
   ]
  },
  {
   "cell_type": "code",
   "execution_count": 31,
   "metadata": {},
   "outputs": [
    {
     "name": "stdout",
     "output_type": "stream",
     "text": [
      "Price               0\n",
      "VehicleType         0\n",
      "RegistrationYear    0\n",
      "Gearbox             0\n",
      "Power               0\n",
      "Model               0\n",
      "Kilometer           0\n",
      "FuelType            0\n",
      "Brand               0\n",
      "Repaired            0\n",
      "dtype: int64\n"
     ]
    },
    {
     "data": {
      "text/plain": [
       "(286382, 10)"
      ]
     },
     "execution_count": 31,
     "metadata": {},
     "output_type": "execute_result"
    }
   ],
   "source": [
    "data = data.fillna('UNKNOWN', axis=0)\n",
    "print(data.isna().sum())\n",
    "data.shape"
   ]
  },
  {
   "cell_type": "code",
   "execution_count": 32,
   "metadata": {},
   "outputs": [
    {
     "data": {
      "text/html": [
       "<div>\n",
       "<style scoped>\n",
       "    .dataframe tbody tr th:only-of-type {\n",
       "        vertical-align: middle;\n",
       "    }\n",
       "\n",
       "    .dataframe tbody tr th {\n",
       "        vertical-align: top;\n",
       "    }\n",
       "\n",
       "    .dataframe thead th {\n",
       "        text-align: right;\n",
       "    }\n",
       "</style>\n",
       "<table border=\"1\" class=\"dataframe\">\n",
       "  <thead>\n",
       "    <tr style=\"text-align: right;\">\n",
       "      <th></th>\n",
       "      <th>Price</th>\n",
       "      <th>VehicleType</th>\n",
       "      <th>RegistrationYear</th>\n",
       "      <th>Gearbox</th>\n",
       "      <th>Power</th>\n",
       "      <th>Model</th>\n",
       "      <th>Kilometer</th>\n",
       "      <th>FuelType</th>\n",
       "      <th>Brand</th>\n",
       "      <th>Repaired</th>\n",
       "    </tr>\n",
       "  </thead>\n",
       "  <tbody>\n",
       "    <tr>\n",
       "      <th>0</th>\n",
       "      <td>480</td>\n",
       "      <td>UNKNOWN</td>\n",
       "      <td>1993</td>\n",
       "      <td>manual</td>\n",
       "      <td>0</td>\n",
       "      <td>golf</td>\n",
       "      <td>150000</td>\n",
       "      <td>petrol</td>\n",
       "      <td>volkswagen</td>\n",
       "      <td>UNKNOWN</td>\n",
       "    </tr>\n",
       "    <tr>\n",
       "      <th>1</th>\n",
       "      <td>18300</td>\n",
       "      <td>coupe</td>\n",
       "      <td>2011</td>\n",
       "      <td>manual</td>\n",
       "      <td>190</td>\n",
       "      <td>UNKNOWN</td>\n",
       "      <td>125000</td>\n",
       "      <td>petrol</td>\n",
       "      <td>audi</td>\n",
       "      <td>yes</td>\n",
       "    </tr>\n",
       "    <tr>\n",
       "      <th>2</th>\n",
       "      <td>9800</td>\n",
       "      <td>suv</td>\n",
       "      <td>2004</td>\n",
       "      <td>auto</td>\n",
       "      <td>163</td>\n",
       "      <td>grand</td>\n",
       "      <td>125000</td>\n",
       "      <td>petrol</td>\n",
       "      <td>jeep</td>\n",
       "      <td>UNKNOWN</td>\n",
       "    </tr>\n",
       "    <tr>\n",
       "      <th>3</th>\n",
       "      <td>1500</td>\n",
       "      <td>small</td>\n",
       "      <td>2001</td>\n",
       "      <td>manual</td>\n",
       "      <td>75</td>\n",
       "      <td>golf</td>\n",
       "      <td>150000</td>\n",
       "      <td>petrol</td>\n",
       "      <td>volkswagen</td>\n",
       "      <td>no</td>\n",
       "    </tr>\n",
       "    <tr>\n",
       "      <th>4</th>\n",
       "      <td>3600</td>\n",
       "      <td>small</td>\n",
       "      <td>2008</td>\n",
       "      <td>manual</td>\n",
       "      <td>69</td>\n",
       "      <td>fabia</td>\n",
       "      <td>90000</td>\n",
       "      <td>petrol</td>\n",
       "      <td>skoda</td>\n",
       "      <td>no</td>\n",
       "    </tr>\n",
       "  </tbody>\n",
       "</table>\n",
       "</div>"
      ],
      "text/plain": [
       "   Price VehicleType  RegistrationYear Gearbox  Power    Model  Kilometer  \\\n",
       "0    480     UNKNOWN              1993  manual      0     golf     150000   \n",
       "1  18300       coupe              2011  manual    190  UNKNOWN     125000   \n",
       "2   9800         suv              2004    auto    163    grand     125000   \n",
       "3   1500       small              2001  manual     75     golf     150000   \n",
       "4   3600       small              2008  manual     69    fabia      90000   \n",
       "\n",
       "  FuelType       Brand Repaired  \n",
       "0   petrol  volkswagen  UNKNOWN  \n",
       "1   petrol        audi      yes  \n",
       "2   petrol        jeep  UNKNOWN  \n",
       "3   petrol  volkswagen       no  \n",
       "4   petrol       skoda       no  "
      ]
     },
     "execution_count": 32,
     "metadata": {},
     "output_type": "execute_result"
    }
   ],
   "source": [
    "data.head()"
   ]
  },
  {
   "cell_type": "code",
   "execution_count": 33,
   "metadata": {},
   "outputs": [],
   "source": [
    "data_ohe = pd.get_dummies(data, drop_first=True)"
   ]
  },
  {
   "cell_type": "markdown",
   "metadata": {},
   "source": [
    "<div style=\"border: 5px solid violet; border-radius: 5px;\">\n",
    "Разобьем на выборки, для корректного обучения и проверки модели, в соотношении 3:1:1\n",
    "</div>"
   ]
  },
  {
   "cell_type": "code",
   "execution_count": 35,
   "metadata": {},
   "outputs": [
    {
     "name": "stdout",
     "output_type": "stream",
     "text": [
      "(229105, 310) (229105,)\n",
      "(57277, 310) (57277,)\n",
      "(171828, 310) (171828,)\n",
      "(57277, 310) (57277,)\n",
      "(57277, 310) (57277,)\n"
     ]
    }
   ],
   "source": [
    "target = data_ohe['Price']\n",
    "features = data_ohe.drop('Price', axis=1)\n",
    "features_work, features_test, target_work, target_test = train_test_split(features, target, test_size=0.2, random_state=RANDOM_STATE)\n",
    "features_train, features_valid, target_train, target_valid = train_test_split(features_work, target_work, test_size=0.25, random_state=RANDOM_STATE)\n",
    "print(features_work.shape, target_work.shape)\n",
    "print(features_test.shape, target_test.shape)\n",
    "print(features_train.shape, target_train.shape)\n",
    "print(features_valid.shape, target_valid.shape)\n",
    "print(features_test.shape, target_test.shape)"
   ]
  },
  {
   "cell_type": "code",
   "execution_count": 36,
   "metadata": {},
   "outputs": [],
   "source": [
    "#cat_features = ['VehicleType', 'FuelType', 'Gearbox', 'Brand', 'Model']\n",
    "\n",
    "#ohe_encoder = OneHotEncoder(drop='first', sparse=False, handle_unknown='ignore')\n",
    "\n",
    "#train_temp = ohe_encoder.fit_transform(features_train[cat_features]) # обучили на трейне и сразу к нему применили\n",
    "#features_train[ohe_encoder.get_feature_names()] = train_temp # вписали новые признаки\n",
    "#features_train.drop(cat_features, axis=1, inplace=True) # удалили старые признаки\n",
    "\n",
    "#test_temp = ohe_encoder.transform(features_test[cat_features]) # обученный энкодер применили к тест. выборке\n",
    "#features_test[ohe_encoder.get_feature_names()] = test_temp # вписали новые признаки\n",
    "#features_test.drop(cat_features, axis=1, inplace=True) # удалили старые признаки\n",
    "\n",
    "#features_test.head()"
   ]
  },
  {
   "cell_type": "code",
   "execution_count": 37,
   "metadata": {
    "scrolled": true
   },
   "outputs": [
    {
     "name": "stderr",
     "output_type": "stream",
     "text": [
      "/tmp/ipykernel_332/513222539.py:6: SettingWithCopyWarning: \n",
      "A value is trying to be set on a copy of a slice from a DataFrame.\n",
      "Try using .loc[row_indexer,col_indexer] = value instead\n",
      "\n",
      "See the caveats in the documentation: https://pandas.pydata.org/pandas-docs/stable/user_guide/indexing.html#returning-a-view-versus-a-copy\n",
      "  features_train[numeric] = scaler.transform(features_train[numeric])\n",
      "/opt/conda/lib/python3.9/site-packages/pandas/core/indexing.py:1738: SettingWithCopyWarning: \n",
      "A value is trying to be set on a copy of a slice from a DataFrame.\n",
      "Try using .loc[row_indexer,col_indexer] = value instead\n",
      "\n",
      "See the caveats in the documentation: https://pandas.pydata.org/pandas-docs/stable/user_guide/indexing.html#returning-a-view-versus-a-copy\n",
      "  self._setitem_single_column(loc, value[:, i].tolist(), pi)\n",
      "/tmp/ipykernel_332/513222539.py:7: SettingWithCopyWarning: \n",
      "A value is trying to be set on a copy of a slice from a DataFrame.\n",
      "Try using .loc[row_indexer,col_indexer] = value instead\n",
      "\n",
      "See the caveats in the documentation: https://pandas.pydata.org/pandas-docs/stable/user_guide/indexing.html#returning-a-view-versus-a-copy\n",
      "  features_valid[numeric] = scaler.transform(features_valid[numeric])\n",
      "/opt/conda/lib/python3.9/site-packages/pandas/core/indexing.py:1738: SettingWithCopyWarning: \n",
      "A value is trying to be set on a copy of a slice from a DataFrame.\n",
      "Try using .loc[row_indexer,col_indexer] = value instead\n",
      "\n",
      "See the caveats in the documentation: https://pandas.pydata.org/pandas-docs/stable/user_guide/indexing.html#returning-a-view-versus-a-copy\n",
      "  self._setitem_single_column(loc, value[:, i].tolist(), pi)\n",
      "/tmp/ipykernel_332/513222539.py:8: SettingWithCopyWarning: \n",
      "A value is trying to be set on a copy of a slice from a DataFrame.\n",
      "Try using .loc[row_indexer,col_indexer] = value instead\n",
      "\n",
      "See the caveats in the documentation: https://pandas.pydata.org/pandas-docs/stable/user_guide/indexing.html#returning-a-view-versus-a-copy\n",
      "  features_test[numeric] = scaler.transform(features_test[numeric])\n",
      "/opt/conda/lib/python3.9/site-packages/pandas/core/indexing.py:1738: SettingWithCopyWarning: \n",
      "A value is trying to be set on a copy of a slice from a DataFrame.\n",
      "Try using .loc[row_indexer,col_indexer] = value instead\n",
      "\n",
      "See the caveats in the documentation: https://pandas.pydata.org/pandas-docs/stable/user_guide/indexing.html#returning-a-view-versus-a-copy\n",
      "  self._setitem_single_column(loc, value[:, i].tolist(), pi)\n"
     ]
    }
   ],
   "source": [
    "numeric = ['RegistrationYear', 'Power', 'Kilometer']\n",
    "\n",
    "scaler = StandardScaler()\n",
    "scaler.fit(features_train[numeric])\n",
    "\n",
    "features_train[numeric] = scaler.transform(features_train[numeric])\n",
    "features_valid[numeric] = scaler.transform(features_valid[numeric])\n",
    "features_test[numeric] = scaler.transform(features_test[numeric])\n"
   ]
  },
  {
   "cell_type": "code",
   "execution_count": 38,
   "metadata": {},
   "outputs": [
    {
     "data": {
      "text/html": [
       "<div>\n",
       "<style scoped>\n",
       "    .dataframe tbody tr th:only-of-type {\n",
       "        vertical-align: middle;\n",
       "    }\n",
       "\n",
       "    .dataframe tbody tr th {\n",
       "        vertical-align: top;\n",
       "    }\n",
       "\n",
       "    .dataframe thead th {\n",
       "        text-align: right;\n",
       "    }\n",
       "</style>\n",
       "<table border=\"1\" class=\"dataframe\">\n",
       "  <thead>\n",
       "    <tr style=\"text-align: right;\">\n",
       "      <th></th>\n",
       "      <th>RegistrationYear</th>\n",
       "      <th>Power</th>\n",
       "      <th>Kilometer</th>\n",
       "      <th>VehicleType_bus</th>\n",
       "      <th>VehicleType_convertible</th>\n",
       "      <th>VehicleType_coupe</th>\n",
       "      <th>VehicleType_other</th>\n",
       "      <th>VehicleType_sedan</th>\n",
       "      <th>VehicleType_small</th>\n",
       "      <th>VehicleType_suv</th>\n",
       "      <th>VehicleType_wagon</th>\n",
       "      <th>Gearbox_auto</th>\n",
       "      <th>Gearbox_manual</th>\n",
       "      <th>Model_145</th>\n",
       "      <th>Model_147</th>\n",
       "      <th>Model_156</th>\n",
       "      <th>Model_159</th>\n",
       "      <th>Model_1_reihe</th>\n",
       "      <th>Model_1er</th>\n",
       "      <th>Model_200</th>\n",
       "      <th>Model_2_reihe</th>\n",
       "      <th>Model_300c</th>\n",
       "      <th>Model_3_reihe</th>\n",
       "      <th>Model_3er</th>\n",
       "      <th>Model_4_reihe</th>\n",
       "      <th>Model_500</th>\n",
       "      <th>Model_5_reihe</th>\n",
       "      <th>Model_5er</th>\n",
       "      <th>Model_601</th>\n",
       "      <th>Model_6_reihe</th>\n",
       "      <th>Model_6er</th>\n",
       "      <th>Model_7er</th>\n",
       "      <th>Model_80</th>\n",
       "      <th>Model_850</th>\n",
       "      <th>Model_90</th>\n",
       "      <th>Model_900</th>\n",
       "      <th>Model_9000</th>\n",
       "      <th>Model_911</th>\n",
       "      <th>Model_UNKNOWN</th>\n",
       "      <th>Model_a1</th>\n",
       "      <th>Model_a2</th>\n",
       "      <th>Model_a3</th>\n",
       "      <th>Model_a4</th>\n",
       "      <th>Model_a5</th>\n",
       "      <th>Model_a6</th>\n",
       "      <th>Model_a8</th>\n",
       "      <th>Model_a_klasse</th>\n",
       "      <th>Model_accord</th>\n",
       "      <th>Model_agila</th>\n",
       "      <th>Model_alhambra</th>\n",
       "      <th>Model_almera</th>\n",
       "      <th>Model_altea</th>\n",
       "      <th>Model_amarok</th>\n",
       "      <th>Model_antara</th>\n",
       "      <th>Model_arosa</th>\n",
       "      <th>Model_astra</th>\n",
       "      <th>Model_auris</th>\n",
       "      <th>Model_avensis</th>\n",
       "      <th>Model_aveo</th>\n",
       "      <th>Model_aygo</th>\n",
       "      <th>Model_b_klasse</th>\n",
       "      <th>Model_b_max</th>\n",
       "      <th>Model_beetle</th>\n",
       "      <th>Model_berlingo</th>\n",
       "      <th>Model_bora</th>\n",
       "      <th>Model_boxster</th>\n",
       "      <th>Model_bravo</th>\n",
       "      <th>Model_c1</th>\n",
       "      <th>Model_c2</th>\n",
       "      <th>Model_c3</th>\n",
       "      <th>Model_c4</th>\n",
       "      <th>Model_c5</th>\n",
       "      <th>Model_c_klasse</th>\n",
       "      <th>Model_c_max</th>\n",
       "      <th>Model_c_reihe</th>\n",
       "      <th>Model_caddy</th>\n",
       "      <th>Model_calibra</th>\n",
       "      <th>Model_captiva</th>\n",
       "      <th>Model_carisma</th>\n",
       "      <th>Model_carnival</th>\n",
       "      <th>Model_cayenne</th>\n",
       "      <th>Model_cc</th>\n",
       "      <th>Model_ceed</th>\n",
       "      <th>Model_charade</th>\n",
       "      <th>Model_cherokee</th>\n",
       "      <th>Model_citigo</th>\n",
       "      <th>Model_civic</th>\n",
       "      <th>Model_cl</th>\n",
       "      <th>Model_clio</th>\n",
       "      <th>Model_clk</th>\n",
       "      <th>Model_clubman</th>\n",
       "      <th>Model_colt</th>\n",
       "      <th>Model_combo</th>\n",
       "      <th>Model_cooper</th>\n",
       "      <th>Model_cordoba</th>\n",
       "      <th>Model_corolla</th>\n",
       "      <th>Model_corsa</th>\n",
       "      <th>Model_cr_reihe</th>\n",
       "      <th>Model_croma</th>\n",
       "      <th>Model_crossfire</th>\n",
       "      <th>Model_cuore</th>\n",
       "      <th>Model_cx_reihe</th>\n",
       "      <th>Model_defender</th>\n",
       "      <th>Model_delta</th>\n",
       "      <th>Model_discovery</th>\n",
       "      <th>Model_doblo</th>\n",
       "      <th>Model_ducato</th>\n",
       "      <th>Model_duster</th>\n",
       "      <th>Model_e_klasse</th>\n",
       "      <th>Model_elefantino</th>\n",
       "      <th>Model_eos</th>\n",
       "      <th>Model_escort</th>\n",
       "      <th>Model_espace</th>\n",
       "      <th>Model_exeo</th>\n",
       "      <th>Model_fabia</th>\n",
       "      <th>Model_fiesta</th>\n",
       "      <th>Model_focus</th>\n",
       "      <th>Model_forester</th>\n",
       "      <th>Model_forfour</th>\n",
       "      <th>Model_fortwo</th>\n",
       "      <th>Model_fox</th>\n",
       "      <th>Model_freelander</th>\n",
       "      <th>Model_fusion</th>\n",
       "      <th>Model_g_klasse</th>\n",
       "      <th>Model_galant</th>\n",
       "      <th>Model_galaxy</th>\n",
       "      <th>Model_getz</th>\n",
       "      <th>Model_gl</th>\n",
       "      <th>Model_glk</th>\n",
       "      <th>Model_golf</th>\n",
       "      <th>Model_grand</th>\n",
       "      <th>Model_i3</th>\n",
       "      <th>Model_i_reihe</th>\n",
       "      <th>Model_ibiza</th>\n",
       "      <th>Model_impreza</th>\n",
       "      <th>Model_insignia</th>\n",
       "      <th>Model_jazz</th>\n",
       "      <th>Model_jetta</th>\n",
       "      <th>Model_jimny</th>\n",
       "      <th>Model_juke</th>\n",
       "      <th>Model_justy</th>\n",
       "      <th>Model_ka</th>\n",
       "      <th>Model_kadett</th>\n",
       "      <th>Model_kaefer</th>\n",
       "      <th>Model_kalina</th>\n",
       "      <th>Model_kalos</th>\n",
       "      <th>Model_kangoo</th>\n",
       "      <th>Model_kappa</th>\n",
       "      <th>Model_kuga</th>\n",
       "      <th>Model_laguna</th>\n",
       "      <th>Model_lancer</th>\n",
       "      <th>Model_lanos</th>\n",
       "      <th>Model_legacy</th>\n",
       "      <th>Model_leon</th>\n",
       "      <th>Model_lodgy</th>\n",
       "      <th>Model_logan</th>\n",
       "      <th>Model_lupo</th>\n",
       "      <th>Model_lybra</th>\n",
       "      <th>Model_m_klasse</th>\n",
       "      <th>Model_m_reihe</th>\n",
       "      <th>Model_materia</th>\n",
       "      <th>Model_matiz</th>\n",
       "      <th>Model_megane</th>\n",
       "      <th>Model_meriva</th>\n",
       "      <th>Model_micra</th>\n",
       "      <th>Model_mii</th>\n",
       "      <th>Model_modus</th>\n",
       "      <th>Model_mondeo</th>\n",
       "      <th>Model_move</th>\n",
       "      <th>Model_musa</th>\n",
       "      <th>Model_mustang</th>\n",
       "      <th>Model_mx_reihe</th>\n",
       "      <th>Model_navara</th>\n",
       "      <th>Model_niva</th>\n",
       "      <th>Model_note</th>\n",
       "      <th>Model_nubira</th>\n",
       "      <th>Model_octavia</th>\n",
       "      <th>Model_omega</th>\n",
       "      <th>Model_one</th>\n",
       "      <th>Model_other</th>\n",
       "      <th>Model_outlander</th>\n",
       "      <th>Model_pajero</th>\n",
       "      <th>Model_panda</th>\n",
       "      <th>Model_passat</th>\n",
       "      <th>Model_phaeton</th>\n",
       "      <th>Model_picanto</th>\n",
       "      <th>Model_polo</th>\n",
       "      <th>Model_primera</th>\n",
       "      <th>Model_ptcruiser</th>\n",
       "      <th>Model_punto</th>\n",
       "      <th>Model_q3</th>\n",
       "      <th>Model_q5</th>\n",
       "      <th>Model_q7</th>\n",
       "      <th>Model_qashqai</th>\n",
       "      <th>Model_r19</th>\n",
       "      <th>Model_range_rover</th>\n",
       "      <th>Model_range_rover_evoque</th>\n",
       "      <th>Model_range_rover_sport</th>\n",
       "      <th>Model_rangerover</th>\n",
       "      <th>Model_rav</th>\n",
       "      <th>Model_rio</th>\n",
       "      <th>Model_roadster</th>\n",
       "      <th>Model_roomster</th>\n",
       "      <th>Model_rx_reihe</th>\n",
       "      <th>Model_s60</th>\n",
       "      <th>Model_s_klasse</th>\n",
       "      <th>Model_s_max</th>\n",
       "      <th>Model_s_type</th>\n",
       "      <th>Model_samara</th>\n",
       "      <th>Model_sandero</th>\n",
       "      <th>Model_santa</th>\n",
       "      <th>Model_scenic</th>\n",
       "      <th>Model_scirocco</th>\n",
       "      <th>Model_seicento</th>\n",
       "      <th>Model_serie_1</th>\n",
       "      <th>Model_serie_2</th>\n",
       "      <th>Model_serie_3</th>\n",
       "      <th>Model_sharan</th>\n",
       "      <th>Model_signum</th>\n",
       "      <th>Model_sirion</th>\n",
       "      <th>Model_sl</th>\n",
       "      <th>Model_slk</th>\n",
       "      <th>Model_sorento</th>\n",
       "      <th>Model_spark</th>\n",
       "      <th>Model_spider</th>\n",
       "      <th>Model_sportage</th>\n",
       "      <th>Model_sprinter</th>\n",
       "      <th>Model_stilo</th>\n",
       "      <th>Model_superb</th>\n",
       "      <th>Model_swift</th>\n",
       "      <th>Model_terios</th>\n",
       "      <th>Model_tigra</th>\n",
       "      <th>Model_tiguan</th>\n",
       "      <th>Model_toledo</th>\n",
       "      <th>Model_touareg</th>\n",
       "      <th>Model_touran</th>\n",
       "      <th>Model_transit</th>\n",
       "      <th>Model_transporter</th>\n",
       "      <th>Model_tt</th>\n",
       "      <th>Model_tucson</th>\n",
       "      <th>Model_twingo</th>\n",
       "      <th>Model_up</th>\n",
       "      <th>Model_v40</th>\n",
       "      <th>Model_v50</th>\n",
       "      <th>Model_v60</th>\n",
       "      <th>Model_v70</th>\n",
       "      <th>Model_v_klasse</th>\n",
       "      <th>Model_vectra</th>\n",
       "      <th>Model_verso</th>\n",
       "      <th>Model_viano</th>\n",
       "      <th>Model_vito</th>\n",
       "      <th>Model_vivaro</th>\n",
       "      <th>Model_voyager</th>\n",
       "      <th>Model_wrangler</th>\n",
       "      <th>Model_x_reihe</th>\n",
       "      <th>Model_x_trail</th>\n",
       "      <th>Model_x_type</th>\n",
       "      <th>Model_xc_reihe</th>\n",
       "      <th>Model_yaris</th>\n",
       "      <th>Model_yeti</th>\n",
       "      <th>Model_ypsilon</th>\n",
       "      <th>Model_z_reihe</th>\n",
       "      <th>Model_zafira</th>\n",
       "      <th>FuelType_cng</th>\n",
       "      <th>FuelType_electric</th>\n",
       "      <th>FuelType_hybrid</th>\n",
       "      <th>FuelType_lpg</th>\n",
       "      <th>FuelType_other</th>\n",
       "      <th>FuelType_petrol</th>\n",
       "      <th>Brand_audi</th>\n",
       "      <th>Brand_bmw</th>\n",
       "      <th>Brand_chevrolet</th>\n",
       "      <th>Brand_chrysler</th>\n",
       "      <th>Brand_citroen</th>\n",
       "      <th>Brand_dacia</th>\n",
       "      <th>Brand_daewoo</th>\n",
       "      <th>Brand_daihatsu</th>\n",
       "      <th>Brand_fiat</th>\n",
       "      <th>Brand_ford</th>\n",
       "      <th>Brand_honda</th>\n",
       "      <th>Brand_hyundai</th>\n",
       "      <th>Brand_jaguar</th>\n",
       "      <th>Brand_jeep</th>\n",
       "      <th>Brand_kia</th>\n",
       "      <th>Brand_lada</th>\n",
       "      <th>Brand_lancia</th>\n",
       "      <th>Brand_land_rover</th>\n",
       "      <th>Brand_mazda</th>\n",
       "      <th>Brand_mercedes_benz</th>\n",
       "      <th>Brand_mini</th>\n",
       "      <th>Brand_mitsubishi</th>\n",
       "      <th>Brand_nissan</th>\n",
       "      <th>Brand_opel</th>\n",
       "      <th>Brand_peugeot</th>\n",
       "      <th>Brand_porsche</th>\n",
       "      <th>Brand_renault</th>\n",
       "      <th>Brand_rover</th>\n",
       "      <th>Brand_saab</th>\n",
       "      <th>Brand_seat</th>\n",
       "      <th>Brand_skoda</th>\n",
       "      <th>Brand_smart</th>\n",
       "      <th>Brand_sonstige_autos</th>\n",
       "      <th>Brand_subaru</th>\n",
       "      <th>Brand_suzuki</th>\n",
       "      <th>Brand_toyota</th>\n",
       "      <th>Brand_trabant</th>\n",
       "      <th>Brand_volkswagen</th>\n",
       "      <th>Brand_volvo</th>\n",
       "      <th>Repaired_no</th>\n",
       "      <th>Repaired_yes</th>\n",
       "    </tr>\n",
       "  </thead>\n",
       "  <tbody>\n",
       "    <tr>\n",
       "      <th>18639</th>\n",
       "      <td>0.196118</td>\n",
       "      <td>-0.296292</td>\n",
       "      <td>-1.487206</td>\n",
       "      <td>0</td>\n",
       "      <td>0</td>\n",
       "      <td>0</td>\n",
       "      <td>0</td>\n",
       "      <td>0</td>\n",
       "      <td>1</td>\n",
       "      <td>0</td>\n",
       "      <td>0</td>\n",
       "      <td>1</td>\n",
       "      <td>0</td>\n",
       "      <td>0</td>\n",
       "      <td>0</td>\n",
       "      <td>0</td>\n",
       "      <td>0</td>\n",
       "      <td>0</td>\n",
       "      <td>0</td>\n",
       "      <td>0</td>\n",
       "      <td>0</td>\n",
       "      <td>0</td>\n",
       "      <td>0</td>\n",
       "      <td>0</td>\n",
       "      <td>0</td>\n",
       "      <td>0</td>\n",
       "      <td>0</td>\n",
       "      <td>0</td>\n",
       "      <td>0</td>\n",
       "      <td>0</td>\n",
       "      <td>0</td>\n",
       "      <td>0</td>\n",
       "      <td>0</td>\n",
       "      <td>0</td>\n",
       "      <td>0</td>\n",
       "      <td>0</td>\n",
       "      <td>0</td>\n",
       "      <td>0</td>\n",
       "      <td>0</td>\n",
       "      <td>0</td>\n",
       "      <td>0</td>\n",
       "      <td>0</td>\n",
       "      <td>0</td>\n",
       "      <td>0</td>\n",
       "      <td>0</td>\n",
       "      <td>0</td>\n",
       "      <td>0</td>\n",
       "      <td>0</td>\n",
       "      <td>0</td>\n",
       "      <td>0</td>\n",
       "      <td>0</td>\n",
       "      <td>0</td>\n",
       "      <td>0</td>\n",
       "      <td>0</td>\n",
       "      <td>0</td>\n",
       "      <td>0</td>\n",
       "      <td>0</td>\n",
       "      <td>0</td>\n",
       "      <td>0</td>\n",
       "      <td>0</td>\n",
       "      <td>0</td>\n",
       "      <td>0</td>\n",
       "      <td>0</td>\n",
       "      <td>0</td>\n",
       "      <td>0</td>\n",
       "      <td>0</td>\n",
       "      <td>0</td>\n",
       "      <td>0</td>\n",
       "      <td>0</td>\n",
       "      <td>0</td>\n",
       "      <td>0</td>\n",
       "      <td>0</td>\n",
       "      <td>0</td>\n",
       "      <td>0</td>\n",
       "      <td>0</td>\n",
       "      <td>0</td>\n",
       "      <td>0</td>\n",
       "      <td>0</td>\n",
       "      <td>0</td>\n",
       "      <td>0</td>\n",
       "      <td>0</td>\n",
       "      <td>0</td>\n",
       "      <td>0</td>\n",
       "      <td>0</td>\n",
       "      <td>0</td>\n",
       "      <td>0</td>\n",
       "      <td>0</td>\n",
       "      <td>0</td>\n",
       "      <td>0</td>\n",
       "      <td>0</td>\n",
       "      <td>0</td>\n",
       "      <td>0</td>\n",
       "      <td>0</td>\n",
       "      <td>0</td>\n",
       "      <td>0</td>\n",
       "      <td>0</td>\n",
       "      <td>1</td>\n",
       "      <td>0</td>\n",
       "      <td>0</td>\n",
       "      <td>0</td>\n",
       "      <td>0</td>\n",
       "      <td>0</td>\n",
       "      <td>0</td>\n",
       "      <td>0</td>\n",
       "      <td>0</td>\n",
       "      <td>0</td>\n",
       "      <td>0</td>\n",
       "      <td>0</td>\n",
       "      <td>0</td>\n",
       "      <td>0</td>\n",
       "      <td>0</td>\n",
       "      <td>0</td>\n",
       "      <td>0</td>\n",
       "      <td>0</td>\n",
       "      <td>0</td>\n",
       "      <td>0</td>\n",
       "      <td>0</td>\n",
       "      <td>0</td>\n",
       "      <td>0</td>\n",
       "      <td>0</td>\n",
       "      <td>0</td>\n",
       "      <td>0</td>\n",
       "      <td>0</td>\n",
       "      <td>0</td>\n",
       "      <td>0</td>\n",
       "      <td>0</td>\n",
       "      <td>0</td>\n",
       "      <td>0</td>\n",
       "      <td>0</td>\n",
       "      <td>0</td>\n",
       "      <td>0</td>\n",
       "      <td>0</td>\n",
       "      <td>0</td>\n",
       "      <td>0</td>\n",
       "      <td>0</td>\n",
       "      <td>0</td>\n",
       "      <td>0</td>\n",
       "      <td>0</td>\n",
       "      <td>0</td>\n",
       "      <td>0</td>\n",
       "      <td>0</td>\n",
       "      <td>0</td>\n",
       "      <td>0</td>\n",
       "      <td>0</td>\n",
       "      <td>0</td>\n",
       "      <td>0</td>\n",
       "      <td>0</td>\n",
       "      <td>0</td>\n",
       "      <td>0</td>\n",
       "      <td>0</td>\n",
       "      <td>0</td>\n",
       "      <td>0</td>\n",
       "      <td>0</td>\n",
       "      <td>0</td>\n",
       "      <td>0</td>\n",
       "      <td>0</td>\n",
       "      <td>0</td>\n",
       "      <td>0</td>\n",
       "      <td>0</td>\n",
       "      <td>0</td>\n",
       "      <td>0</td>\n",
       "      <td>0</td>\n",
       "      <td>0</td>\n",
       "      <td>0</td>\n",
       "      <td>0</td>\n",
       "      <td>0</td>\n",
       "      <td>0</td>\n",
       "      <td>0</td>\n",
       "      <td>0</td>\n",
       "      <td>0</td>\n",
       "      <td>0</td>\n",
       "      <td>0</td>\n",
       "      <td>0</td>\n",
       "      <td>0</td>\n",
       "      <td>0</td>\n",
       "      <td>0</td>\n",
       "      <td>0</td>\n",
       "      <td>0</td>\n",
       "      <td>0</td>\n",
       "      <td>0</td>\n",
       "      <td>0</td>\n",
       "      <td>0</td>\n",
       "      <td>0</td>\n",
       "      <td>0</td>\n",
       "      <td>0</td>\n",
       "      <td>0</td>\n",
       "      <td>0</td>\n",
       "      <td>0</td>\n",
       "      <td>0</td>\n",
       "      <td>0</td>\n",
       "      <td>0</td>\n",
       "      <td>0</td>\n",
       "      <td>0</td>\n",
       "      <td>0</td>\n",
       "      <td>0</td>\n",
       "      <td>0</td>\n",
       "      <td>0</td>\n",
       "      <td>0</td>\n",
       "      <td>0</td>\n",
       "      <td>0</td>\n",
       "      <td>0</td>\n",
       "      <td>0</td>\n",
       "      <td>0</td>\n",
       "      <td>0</td>\n",
       "      <td>0</td>\n",
       "      <td>0</td>\n",
       "      <td>0</td>\n",
       "      <td>0</td>\n",
       "      <td>0</td>\n",
       "      <td>0</td>\n",
       "      <td>0</td>\n",
       "      <td>0</td>\n",
       "      <td>0</td>\n",
       "      <td>0</td>\n",
       "      <td>0</td>\n",
       "      <td>0</td>\n",
       "      <td>0</td>\n",
       "      <td>0</td>\n",
       "      <td>0</td>\n",
       "      <td>0</td>\n",
       "      <td>0</td>\n",
       "      <td>0</td>\n",
       "      <td>0</td>\n",
       "      <td>0</td>\n",
       "      <td>0</td>\n",
       "      <td>0</td>\n",
       "      <td>0</td>\n",
       "      <td>0</td>\n",
       "      <td>0</td>\n",
       "      <td>0</td>\n",
       "      <td>0</td>\n",
       "      <td>0</td>\n",
       "      <td>0</td>\n",
       "      <td>0</td>\n",
       "      <td>0</td>\n",
       "      <td>0</td>\n",
       "      <td>0</td>\n",
       "      <td>0</td>\n",
       "      <td>0</td>\n",
       "      <td>0</td>\n",
       "      <td>0</td>\n",
       "      <td>0</td>\n",
       "      <td>0</td>\n",
       "      <td>0</td>\n",
       "      <td>0</td>\n",
       "      <td>0</td>\n",
       "      <td>0</td>\n",
       "      <td>0</td>\n",
       "      <td>0</td>\n",
       "      <td>0</td>\n",
       "      <td>0</td>\n",
       "      <td>0</td>\n",
       "      <td>0</td>\n",
       "      <td>0</td>\n",
       "      <td>0</td>\n",
       "      <td>0</td>\n",
       "      <td>0</td>\n",
       "      <td>0</td>\n",
       "      <td>0</td>\n",
       "      <td>0</td>\n",
       "      <td>0</td>\n",
       "      <td>0</td>\n",
       "      <td>0</td>\n",
       "      <td>0</td>\n",
       "      <td>0</td>\n",
       "      <td>0</td>\n",
       "      <td>0</td>\n",
       "      <td>0</td>\n",
       "      <td>1</td>\n",
       "      <td>0</td>\n",
       "      <td>0</td>\n",
       "      <td>0</td>\n",
       "      <td>0</td>\n",
       "      <td>0</td>\n",
       "      <td>0</td>\n",
       "      <td>0</td>\n",
       "      <td>0</td>\n",
       "      <td>0</td>\n",
       "      <td>0</td>\n",
       "      <td>0</td>\n",
       "      <td>0</td>\n",
       "      <td>0</td>\n",
       "      <td>0</td>\n",
       "      <td>0</td>\n",
       "      <td>0</td>\n",
       "      <td>0</td>\n",
       "      <td>0</td>\n",
       "      <td>0</td>\n",
       "      <td>0</td>\n",
       "      <td>0</td>\n",
       "      <td>0</td>\n",
       "      <td>0</td>\n",
       "      <td>1</td>\n",
       "      <td>0</td>\n",
       "      <td>0</td>\n",
       "      <td>0</td>\n",
       "      <td>0</td>\n",
       "      <td>0</td>\n",
       "      <td>0</td>\n",
       "      <td>0</td>\n",
       "      <td>0</td>\n",
       "      <td>0</td>\n",
       "      <td>0</td>\n",
       "      <td>0</td>\n",
       "      <td>0</td>\n",
       "      <td>0</td>\n",
       "      <td>0</td>\n",
       "      <td>0</td>\n",
       "      <td>1</td>\n",
       "      <td>0</td>\n",
       "    </tr>\n",
       "    <tr>\n",
       "      <th>206110</th>\n",
       "      <td>0.196118</td>\n",
       "      <td>1.905297</td>\n",
       "      <td>-0.052500</td>\n",
       "      <td>0</td>\n",
       "      <td>1</td>\n",
       "      <td>0</td>\n",
       "      <td>0</td>\n",
       "      <td>0</td>\n",
       "      <td>0</td>\n",
       "      <td>0</td>\n",
       "      <td>0</td>\n",
       "      <td>0</td>\n",
       "      <td>0</td>\n",
       "      <td>0</td>\n",
       "      <td>0</td>\n",
       "      <td>0</td>\n",
       "      <td>0</td>\n",
       "      <td>0</td>\n",
       "      <td>0</td>\n",
       "      <td>0</td>\n",
       "      <td>0</td>\n",
       "      <td>0</td>\n",
       "      <td>0</td>\n",
       "      <td>0</td>\n",
       "      <td>0</td>\n",
       "      <td>0</td>\n",
       "      <td>0</td>\n",
       "      <td>0</td>\n",
       "      <td>0</td>\n",
       "      <td>0</td>\n",
       "      <td>0</td>\n",
       "      <td>0</td>\n",
       "      <td>0</td>\n",
       "      <td>0</td>\n",
       "      <td>0</td>\n",
       "      <td>0</td>\n",
       "      <td>0</td>\n",
       "      <td>0</td>\n",
       "      <td>0</td>\n",
       "      <td>0</td>\n",
       "      <td>0</td>\n",
       "      <td>0</td>\n",
       "      <td>0</td>\n",
       "      <td>0</td>\n",
       "      <td>0</td>\n",
       "      <td>0</td>\n",
       "      <td>0</td>\n",
       "      <td>0</td>\n",
       "      <td>0</td>\n",
       "      <td>0</td>\n",
       "      <td>0</td>\n",
       "      <td>0</td>\n",
       "      <td>0</td>\n",
       "      <td>0</td>\n",
       "      <td>0</td>\n",
       "      <td>0</td>\n",
       "      <td>0</td>\n",
       "      <td>0</td>\n",
       "      <td>0</td>\n",
       "      <td>0</td>\n",
       "      <td>0</td>\n",
       "      <td>0</td>\n",
       "      <td>0</td>\n",
       "      <td>0</td>\n",
       "      <td>0</td>\n",
       "      <td>0</td>\n",
       "      <td>0</td>\n",
       "      <td>0</td>\n",
       "      <td>0</td>\n",
       "      <td>0</td>\n",
       "      <td>0</td>\n",
       "      <td>0</td>\n",
       "      <td>0</td>\n",
       "      <td>0</td>\n",
       "      <td>0</td>\n",
       "      <td>0</td>\n",
       "      <td>0</td>\n",
       "      <td>0</td>\n",
       "      <td>0</td>\n",
       "      <td>0</td>\n",
       "      <td>0</td>\n",
       "      <td>0</td>\n",
       "      <td>0</td>\n",
       "      <td>0</td>\n",
       "      <td>0</td>\n",
       "      <td>0</td>\n",
       "      <td>0</td>\n",
       "      <td>0</td>\n",
       "      <td>0</td>\n",
       "      <td>0</td>\n",
       "      <td>0</td>\n",
       "      <td>0</td>\n",
       "      <td>0</td>\n",
       "      <td>0</td>\n",
       "      <td>0</td>\n",
       "      <td>0</td>\n",
       "      <td>0</td>\n",
       "      <td>0</td>\n",
       "      <td>0</td>\n",
       "      <td>0</td>\n",
       "      <td>0</td>\n",
       "      <td>0</td>\n",
       "      <td>0</td>\n",
       "      <td>0</td>\n",
       "      <td>0</td>\n",
       "      <td>0</td>\n",
       "      <td>0</td>\n",
       "      <td>0</td>\n",
       "      <td>0</td>\n",
       "      <td>0</td>\n",
       "      <td>0</td>\n",
       "      <td>0</td>\n",
       "      <td>0</td>\n",
       "      <td>0</td>\n",
       "      <td>0</td>\n",
       "      <td>0</td>\n",
       "      <td>0</td>\n",
       "      <td>0</td>\n",
       "      <td>0</td>\n",
       "      <td>0</td>\n",
       "      <td>0</td>\n",
       "      <td>0</td>\n",
       "      <td>0</td>\n",
       "      <td>0</td>\n",
       "      <td>0</td>\n",
       "      <td>0</td>\n",
       "      <td>0</td>\n",
       "      <td>0</td>\n",
       "      <td>0</td>\n",
       "      <td>0</td>\n",
       "      <td>0</td>\n",
       "      <td>0</td>\n",
       "      <td>0</td>\n",
       "      <td>0</td>\n",
       "      <td>0</td>\n",
       "      <td>0</td>\n",
       "      <td>0</td>\n",
       "      <td>0</td>\n",
       "      <td>0</td>\n",
       "      <td>0</td>\n",
       "      <td>0</td>\n",
       "      <td>0</td>\n",
       "      <td>0</td>\n",
       "      <td>0</td>\n",
       "      <td>0</td>\n",
       "      <td>0</td>\n",
       "      <td>0</td>\n",
       "      <td>0</td>\n",
       "      <td>0</td>\n",
       "      <td>0</td>\n",
       "      <td>0</td>\n",
       "      <td>0</td>\n",
       "      <td>0</td>\n",
       "      <td>0</td>\n",
       "      <td>0</td>\n",
       "      <td>0</td>\n",
       "      <td>0</td>\n",
       "      <td>0</td>\n",
       "      <td>0</td>\n",
       "      <td>0</td>\n",
       "      <td>0</td>\n",
       "      <td>0</td>\n",
       "      <td>0</td>\n",
       "      <td>0</td>\n",
       "      <td>0</td>\n",
       "      <td>0</td>\n",
       "      <td>0</td>\n",
       "      <td>0</td>\n",
       "      <td>0</td>\n",
       "      <td>0</td>\n",
       "      <td>0</td>\n",
       "      <td>0</td>\n",
       "      <td>0</td>\n",
       "      <td>0</td>\n",
       "      <td>0</td>\n",
       "      <td>0</td>\n",
       "      <td>0</td>\n",
       "      <td>0</td>\n",
       "      <td>0</td>\n",
       "      <td>0</td>\n",
       "      <td>0</td>\n",
       "      <td>0</td>\n",
       "      <td>0</td>\n",
       "      <td>0</td>\n",
       "      <td>0</td>\n",
       "      <td>0</td>\n",
       "      <td>0</td>\n",
       "      <td>0</td>\n",
       "      <td>0</td>\n",
       "      <td>0</td>\n",
       "      <td>0</td>\n",
       "      <td>0</td>\n",
       "      <td>0</td>\n",
       "      <td>0</td>\n",
       "      <td>0</td>\n",
       "      <td>0</td>\n",
       "      <td>0</td>\n",
       "      <td>0</td>\n",
       "      <td>0</td>\n",
       "      <td>0</td>\n",
       "      <td>0</td>\n",
       "      <td>0</td>\n",
       "      <td>0</td>\n",
       "      <td>0</td>\n",
       "      <td>0</td>\n",
       "      <td>0</td>\n",
       "      <td>0</td>\n",
       "      <td>0</td>\n",
       "      <td>0</td>\n",
       "      <td>0</td>\n",
       "      <td>0</td>\n",
       "      <td>0</td>\n",
       "      <td>0</td>\n",
       "      <td>0</td>\n",
       "      <td>0</td>\n",
       "      <td>0</td>\n",
       "      <td>0</td>\n",
       "      <td>0</td>\n",
       "      <td>0</td>\n",
       "      <td>0</td>\n",
       "      <td>0</td>\n",
       "      <td>0</td>\n",
       "      <td>0</td>\n",
       "      <td>0</td>\n",
       "      <td>0</td>\n",
       "      <td>0</td>\n",
       "      <td>0</td>\n",
       "      <td>0</td>\n",
       "      <td>0</td>\n",
       "      <td>0</td>\n",
       "      <td>0</td>\n",
       "      <td>0</td>\n",
       "      <td>0</td>\n",
       "      <td>0</td>\n",
       "      <td>0</td>\n",
       "      <td>0</td>\n",
       "      <td>0</td>\n",
       "      <td>0</td>\n",
       "      <td>0</td>\n",
       "      <td>0</td>\n",
       "      <td>0</td>\n",
       "      <td>0</td>\n",
       "      <td>0</td>\n",
       "      <td>0</td>\n",
       "      <td>0</td>\n",
       "      <td>0</td>\n",
       "      <td>0</td>\n",
       "      <td>0</td>\n",
       "      <td>0</td>\n",
       "      <td>0</td>\n",
       "      <td>0</td>\n",
       "      <td>0</td>\n",
       "      <td>0</td>\n",
       "      <td>0</td>\n",
       "      <td>0</td>\n",
       "      <td>0</td>\n",
       "      <td>0</td>\n",
       "      <td>0</td>\n",
       "      <td>0</td>\n",
       "      <td>0</td>\n",
       "      <td>0</td>\n",
       "      <td>1</td>\n",
       "      <td>0</td>\n",
       "      <td>0</td>\n",
       "      <td>0</td>\n",
       "      <td>0</td>\n",
       "      <td>0</td>\n",
       "      <td>0</td>\n",
       "      <td>1</td>\n",
       "      <td>0</td>\n",
       "      <td>1</td>\n",
       "      <td>0</td>\n",
       "      <td>0</td>\n",
       "      <td>0</td>\n",
       "      <td>0</td>\n",
       "      <td>0</td>\n",
       "      <td>0</td>\n",
       "      <td>0</td>\n",
       "      <td>0</td>\n",
       "      <td>0</td>\n",
       "      <td>0</td>\n",
       "      <td>0</td>\n",
       "      <td>0</td>\n",
       "      <td>0</td>\n",
       "      <td>0</td>\n",
       "      <td>0</td>\n",
       "      <td>0</td>\n",
       "      <td>0</td>\n",
       "      <td>0</td>\n",
       "      <td>0</td>\n",
       "      <td>0</td>\n",
       "      <td>0</td>\n",
       "      <td>0</td>\n",
       "      <td>0</td>\n",
       "      <td>0</td>\n",
       "      <td>0</td>\n",
       "      <td>0</td>\n",
       "      <td>0</td>\n",
       "      <td>0</td>\n",
       "      <td>0</td>\n",
       "      <td>0</td>\n",
       "      <td>0</td>\n",
       "      <td>0</td>\n",
       "      <td>0</td>\n",
       "      <td>0</td>\n",
       "      <td>0</td>\n",
       "      <td>0</td>\n",
       "      <td>0</td>\n",
       "      <td>1</td>\n",
       "      <td>0</td>\n",
       "    </tr>\n",
       "    <tr>\n",
       "      <th>326232</th>\n",
       "      <td>0.196118</td>\n",
       "      <td>0.375115</td>\n",
       "      <td>0.599638</td>\n",
       "      <td>0</td>\n",
       "      <td>0</td>\n",
       "      <td>0</td>\n",
       "      <td>0</td>\n",
       "      <td>1</td>\n",
       "      <td>0</td>\n",
       "      <td>0</td>\n",
       "      <td>0</td>\n",
       "      <td>1</td>\n",
       "      <td>0</td>\n",
       "      <td>0</td>\n",
       "      <td>0</td>\n",
       "      <td>0</td>\n",
       "      <td>0</td>\n",
       "      <td>0</td>\n",
       "      <td>0</td>\n",
       "      <td>0</td>\n",
       "      <td>0</td>\n",
       "      <td>0</td>\n",
       "      <td>0</td>\n",
       "      <td>0</td>\n",
       "      <td>0</td>\n",
       "      <td>0</td>\n",
       "      <td>0</td>\n",
       "      <td>0</td>\n",
       "      <td>0</td>\n",
       "      <td>0</td>\n",
       "      <td>0</td>\n",
       "      <td>0</td>\n",
       "      <td>0</td>\n",
       "      <td>0</td>\n",
       "      <td>0</td>\n",
       "      <td>0</td>\n",
       "      <td>0</td>\n",
       "      <td>0</td>\n",
       "      <td>0</td>\n",
       "      <td>0</td>\n",
       "      <td>0</td>\n",
       "      <td>0</td>\n",
       "      <td>0</td>\n",
       "      <td>0</td>\n",
       "      <td>0</td>\n",
       "      <td>0</td>\n",
       "      <td>0</td>\n",
       "      <td>0</td>\n",
       "      <td>0</td>\n",
       "      <td>0</td>\n",
       "      <td>0</td>\n",
       "      <td>0</td>\n",
       "      <td>0</td>\n",
       "      <td>0</td>\n",
       "      <td>0</td>\n",
       "      <td>0</td>\n",
       "      <td>0</td>\n",
       "      <td>0</td>\n",
       "      <td>0</td>\n",
       "      <td>0</td>\n",
       "      <td>0</td>\n",
       "      <td>0</td>\n",
       "      <td>0</td>\n",
       "      <td>0</td>\n",
       "      <td>0</td>\n",
       "      <td>0</td>\n",
       "      <td>0</td>\n",
       "      <td>0</td>\n",
       "      <td>0</td>\n",
       "      <td>0</td>\n",
       "      <td>0</td>\n",
       "      <td>0</td>\n",
       "      <td>0</td>\n",
       "      <td>0</td>\n",
       "      <td>0</td>\n",
       "      <td>0</td>\n",
       "      <td>0</td>\n",
       "      <td>0</td>\n",
       "      <td>0</td>\n",
       "      <td>0</td>\n",
       "      <td>0</td>\n",
       "      <td>0</td>\n",
       "      <td>0</td>\n",
       "      <td>0</td>\n",
       "      <td>0</td>\n",
       "      <td>0</td>\n",
       "      <td>0</td>\n",
       "      <td>0</td>\n",
       "      <td>0</td>\n",
       "      <td>0</td>\n",
       "      <td>0</td>\n",
       "      <td>0</td>\n",
       "      <td>0</td>\n",
       "      <td>0</td>\n",
       "      <td>0</td>\n",
       "      <td>0</td>\n",
       "      <td>0</td>\n",
       "      <td>0</td>\n",
       "      <td>0</td>\n",
       "      <td>0</td>\n",
       "      <td>0</td>\n",
       "      <td>0</td>\n",
       "      <td>0</td>\n",
       "      <td>0</td>\n",
       "      <td>0</td>\n",
       "      <td>0</td>\n",
       "      <td>0</td>\n",
       "      <td>0</td>\n",
       "      <td>0</td>\n",
       "      <td>0</td>\n",
       "      <td>0</td>\n",
       "      <td>0</td>\n",
       "      <td>0</td>\n",
       "      <td>0</td>\n",
       "      <td>0</td>\n",
       "      <td>0</td>\n",
       "      <td>0</td>\n",
       "      <td>0</td>\n",
       "      <td>0</td>\n",
       "      <td>0</td>\n",
       "      <td>0</td>\n",
       "      <td>0</td>\n",
       "      <td>0</td>\n",
       "      <td>0</td>\n",
       "      <td>0</td>\n",
       "      <td>0</td>\n",
       "      <td>0</td>\n",
       "      <td>0</td>\n",
       "      <td>0</td>\n",
       "      <td>0</td>\n",
       "      <td>0</td>\n",
       "      <td>0</td>\n",
       "      <td>0</td>\n",
       "      <td>0</td>\n",
       "      <td>0</td>\n",
       "      <td>0</td>\n",
       "      <td>0</td>\n",
       "      <td>0</td>\n",
       "      <td>0</td>\n",
       "      <td>0</td>\n",
       "      <td>0</td>\n",
       "      <td>0</td>\n",
       "      <td>0</td>\n",
       "      <td>0</td>\n",
       "      <td>0</td>\n",
       "      <td>0</td>\n",
       "      <td>0</td>\n",
       "      <td>0</td>\n",
       "      <td>0</td>\n",
       "      <td>0</td>\n",
       "      <td>0</td>\n",
       "      <td>0</td>\n",
       "      <td>0</td>\n",
       "      <td>0</td>\n",
       "      <td>0</td>\n",
       "      <td>0</td>\n",
       "      <td>0</td>\n",
       "      <td>0</td>\n",
       "      <td>0</td>\n",
       "      <td>0</td>\n",
       "      <td>0</td>\n",
       "      <td>0</td>\n",
       "      <td>0</td>\n",
       "      <td>0</td>\n",
       "      <td>0</td>\n",
       "      <td>0</td>\n",
       "      <td>0</td>\n",
       "      <td>0</td>\n",
       "      <td>0</td>\n",
       "      <td>0</td>\n",
       "      <td>0</td>\n",
       "      <td>0</td>\n",
       "      <td>0</td>\n",
       "      <td>0</td>\n",
       "      <td>0</td>\n",
       "      <td>0</td>\n",
       "      <td>0</td>\n",
       "      <td>0</td>\n",
       "      <td>0</td>\n",
       "      <td>1</td>\n",
       "      <td>0</td>\n",
       "      <td>0</td>\n",
       "      <td>0</td>\n",
       "      <td>0</td>\n",
       "      <td>0</td>\n",
       "      <td>0</td>\n",
       "      <td>0</td>\n",
       "      <td>0</td>\n",
       "      <td>0</td>\n",
       "      <td>0</td>\n",
       "      <td>0</td>\n",
       "      <td>0</td>\n",
       "      <td>0</td>\n",
       "      <td>0</td>\n",
       "      <td>0</td>\n",
       "      <td>0</td>\n",
       "      <td>0</td>\n",
       "      <td>0</td>\n",
       "      <td>0</td>\n",
       "      <td>0</td>\n",
       "      <td>0</td>\n",
       "      <td>0</td>\n",
       "      <td>0</td>\n",
       "      <td>0</td>\n",
       "      <td>0</td>\n",
       "      <td>0</td>\n",
       "      <td>0</td>\n",
       "      <td>0</td>\n",
       "      <td>0</td>\n",
       "      <td>0</td>\n",
       "      <td>0</td>\n",
       "      <td>0</td>\n",
       "      <td>0</td>\n",
       "      <td>0</td>\n",
       "      <td>0</td>\n",
       "      <td>0</td>\n",
       "      <td>0</td>\n",
       "      <td>0</td>\n",
       "      <td>0</td>\n",
       "      <td>0</td>\n",
       "      <td>0</td>\n",
       "      <td>0</td>\n",
       "      <td>0</td>\n",
       "      <td>0</td>\n",
       "      <td>0</td>\n",
       "      <td>0</td>\n",
       "      <td>0</td>\n",
       "      <td>0</td>\n",
       "      <td>0</td>\n",
       "      <td>0</td>\n",
       "      <td>0</td>\n",
       "      <td>0</td>\n",
       "      <td>0</td>\n",
       "      <td>0</td>\n",
       "      <td>0</td>\n",
       "      <td>0</td>\n",
       "      <td>0</td>\n",
       "      <td>0</td>\n",
       "      <td>0</td>\n",
       "      <td>0</td>\n",
       "      <td>0</td>\n",
       "      <td>0</td>\n",
       "      <td>0</td>\n",
       "      <td>0</td>\n",
       "      <td>0</td>\n",
       "      <td>0</td>\n",
       "      <td>0</td>\n",
       "      <td>0</td>\n",
       "      <td>0</td>\n",
       "      <td>0</td>\n",
       "      <td>0</td>\n",
       "      <td>0</td>\n",
       "      <td>0</td>\n",
       "      <td>0</td>\n",
       "      <td>0</td>\n",
       "      <td>0</td>\n",
       "      <td>0</td>\n",
       "      <td>0</td>\n",
       "      <td>0</td>\n",
       "      <td>0</td>\n",
       "      <td>0</td>\n",
       "      <td>0</td>\n",
       "      <td>0</td>\n",
       "      <td>0</td>\n",
       "      <td>0</td>\n",
       "      <td>0</td>\n",
       "      <td>0</td>\n",
       "      <td>0</td>\n",
       "      <td>1</td>\n",
       "      <td>0</td>\n",
       "      <td>0</td>\n",
       "      <td>0</td>\n",
       "      <td>0</td>\n",
       "      <td>0</td>\n",
       "      <td>0</td>\n",
       "      <td>0</td>\n",
       "      <td>0</td>\n",
       "      <td>0</td>\n",
       "      <td>0</td>\n",
       "      <td>0</td>\n",
       "      <td>0</td>\n",
       "      <td>0</td>\n",
       "      <td>0</td>\n",
       "      <td>0</td>\n",
       "      <td>0</td>\n",
       "      <td>0</td>\n",
       "      <td>0</td>\n",
       "      <td>0</td>\n",
       "      <td>0</td>\n",
       "      <td>0</td>\n",
       "      <td>0</td>\n",
       "      <td>0</td>\n",
       "      <td>0</td>\n",
       "      <td>1</td>\n",
       "      <td>0</td>\n",
       "      <td>0</td>\n",
       "      <td>0</td>\n",
       "      <td>0</td>\n",
       "      <td>0</td>\n",
       "      <td>0</td>\n",
       "      <td>0</td>\n",
       "      <td>0</td>\n",
       "      <td>0</td>\n",
       "      <td>0</td>\n",
       "      <td>0</td>\n",
       "      <td>0</td>\n",
       "      <td>0</td>\n",
       "      <td>0</td>\n",
       "      <td>0</td>\n",
       "      <td>0</td>\n",
       "    </tr>\n",
       "    <tr>\n",
       "      <th>203948</th>\n",
       "      <td>-1.772826</td>\n",
       "      <td>0.749853</td>\n",
       "      <td>0.599638</td>\n",
       "      <td>0</td>\n",
       "      <td>1</td>\n",
       "      <td>0</td>\n",
       "      <td>0</td>\n",
       "      <td>0</td>\n",
       "      <td>0</td>\n",
       "      <td>0</td>\n",
       "      <td>0</td>\n",
       "      <td>0</td>\n",
       "      <td>1</td>\n",
       "      <td>0</td>\n",
       "      <td>0</td>\n",
       "      <td>0</td>\n",
       "      <td>0</td>\n",
       "      <td>0</td>\n",
       "      <td>0</td>\n",
       "      <td>0</td>\n",
       "      <td>0</td>\n",
       "      <td>0</td>\n",
       "      <td>0</td>\n",
       "      <td>0</td>\n",
       "      <td>0</td>\n",
       "      <td>0</td>\n",
       "      <td>0</td>\n",
       "      <td>0</td>\n",
       "      <td>0</td>\n",
       "      <td>0</td>\n",
       "      <td>0</td>\n",
       "      <td>0</td>\n",
       "      <td>0</td>\n",
       "      <td>0</td>\n",
       "      <td>0</td>\n",
       "      <td>0</td>\n",
       "      <td>0</td>\n",
       "      <td>0</td>\n",
       "      <td>0</td>\n",
       "      <td>0</td>\n",
       "      <td>0</td>\n",
       "      <td>0</td>\n",
       "      <td>0</td>\n",
       "      <td>0</td>\n",
       "      <td>0</td>\n",
       "      <td>0</td>\n",
       "      <td>0</td>\n",
       "      <td>0</td>\n",
       "      <td>0</td>\n",
       "      <td>0</td>\n",
       "      <td>0</td>\n",
       "      <td>0</td>\n",
       "      <td>0</td>\n",
       "      <td>0</td>\n",
       "      <td>0</td>\n",
       "      <td>0</td>\n",
       "      <td>0</td>\n",
       "      <td>0</td>\n",
       "      <td>0</td>\n",
       "      <td>0</td>\n",
       "      <td>0</td>\n",
       "      <td>0</td>\n",
       "      <td>0</td>\n",
       "      <td>0</td>\n",
       "      <td>0</td>\n",
       "      <td>0</td>\n",
       "      <td>0</td>\n",
       "      <td>0</td>\n",
       "      <td>0</td>\n",
       "      <td>0</td>\n",
       "      <td>0</td>\n",
       "      <td>0</td>\n",
       "      <td>0</td>\n",
       "      <td>0</td>\n",
       "      <td>0</td>\n",
       "      <td>0</td>\n",
       "      <td>0</td>\n",
       "      <td>0</td>\n",
       "      <td>0</td>\n",
       "      <td>0</td>\n",
       "      <td>0</td>\n",
       "      <td>0</td>\n",
       "      <td>0</td>\n",
       "      <td>0</td>\n",
       "      <td>0</td>\n",
       "      <td>0</td>\n",
       "      <td>0</td>\n",
       "      <td>0</td>\n",
       "      <td>0</td>\n",
       "      <td>0</td>\n",
       "      <td>0</td>\n",
       "      <td>0</td>\n",
       "      <td>0</td>\n",
       "      <td>0</td>\n",
       "      <td>0</td>\n",
       "      <td>0</td>\n",
       "      <td>0</td>\n",
       "      <td>0</td>\n",
       "      <td>0</td>\n",
       "      <td>0</td>\n",
       "      <td>0</td>\n",
       "      <td>0</td>\n",
       "      <td>0</td>\n",
       "      <td>0</td>\n",
       "      <td>0</td>\n",
       "      <td>0</td>\n",
       "      <td>0</td>\n",
       "      <td>0</td>\n",
       "      <td>0</td>\n",
       "      <td>0</td>\n",
       "      <td>0</td>\n",
       "      <td>0</td>\n",
       "      <td>0</td>\n",
       "      <td>0</td>\n",
       "      <td>0</td>\n",
       "      <td>0</td>\n",
       "      <td>0</td>\n",
       "      <td>0</td>\n",
       "      <td>0</td>\n",
       "      <td>0</td>\n",
       "      <td>0</td>\n",
       "      <td>0</td>\n",
       "      <td>0</td>\n",
       "      <td>0</td>\n",
       "      <td>0</td>\n",
       "      <td>0</td>\n",
       "      <td>0</td>\n",
       "      <td>0</td>\n",
       "      <td>0</td>\n",
       "      <td>0</td>\n",
       "      <td>0</td>\n",
       "      <td>0</td>\n",
       "      <td>0</td>\n",
       "      <td>0</td>\n",
       "      <td>0</td>\n",
       "      <td>0</td>\n",
       "      <td>0</td>\n",
       "      <td>0</td>\n",
       "      <td>0</td>\n",
       "      <td>0</td>\n",
       "      <td>0</td>\n",
       "      <td>0</td>\n",
       "      <td>0</td>\n",
       "      <td>0</td>\n",
       "      <td>0</td>\n",
       "      <td>0</td>\n",
       "      <td>0</td>\n",
       "      <td>0</td>\n",
       "      <td>0</td>\n",
       "      <td>0</td>\n",
       "      <td>0</td>\n",
       "      <td>0</td>\n",
       "      <td>0</td>\n",
       "      <td>0</td>\n",
       "      <td>0</td>\n",
       "      <td>0</td>\n",
       "      <td>0</td>\n",
       "      <td>0</td>\n",
       "      <td>0</td>\n",
       "      <td>0</td>\n",
       "      <td>0</td>\n",
       "      <td>0</td>\n",
       "      <td>0</td>\n",
       "      <td>0</td>\n",
       "      <td>0</td>\n",
       "      <td>0</td>\n",
       "      <td>0</td>\n",
       "      <td>0</td>\n",
       "      <td>0</td>\n",
       "      <td>0</td>\n",
       "      <td>0</td>\n",
       "      <td>0</td>\n",
       "      <td>0</td>\n",
       "      <td>0</td>\n",
       "      <td>0</td>\n",
       "      <td>0</td>\n",
       "      <td>0</td>\n",
       "      <td>0</td>\n",
       "      <td>0</td>\n",
       "      <td>1</td>\n",
       "      <td>0</td>\n",
       "      <td>0</td>\n",
       "      <td>0</td>\n",
       "      <td>0</td>\n",
       "      <td>0</td>\n",
       "      <td>0</td>\n",
       "      <td>0</td>\n",
       "      <td>0</td>\n",
       "      <td>0</td>\n",
       "      <td>0</td>\n",
       "      <td>0</td>\n",
       "      <td>0</td>\n",
       "      <td>0</td>\n",
       "      <td>0</td>\n",
       "      <td>0</td>\n",
       "      <td>0</td>\n",
       "      <td>0</td>\n",
       "      <td>0</td>\n",
       "      <td>0</td>\n",
       "      <td>0</td>\n",
       "      <td>0</td>\n",
       "      <td>0</td>\n",
       "      <td>0</td>\n",
       "      <td>0</td>\n",
       "      <td>0</td>\n",
       "      <td>0</td>\n",
       "      <td>0</td>\n",
       "      <td>0</td>\n",
       "      <td>0</td>\n",
       "      <td>0</td>\n",
       "      <td>0</td>\n",
       "      <td>0</td>\n",
       "      <td>0</td>\n",
       "      <td>0</td>\n",
       "      <td>0</td>\n",
       "      <td>0</td>\n",
       "      <td>0</td>\n",
       "      <td>0</td>\n",
       "      <td>0</td>\n",
       "      <td>0</td>\n",
       "      <td>0</td>\n",
       "      <td>0</td>\n",
       "      <td>0</td>\n",
       "      <td>0</td>\n",
       "      <td>0</td>\n",
       "      <td>0</td>\n",
       "      <td>0</td>\n",
       "      <td>0</td>\n",
       "      <td>0</td>\n",
       "      <td>0</td>\n",
       "      <td>0</td>\n",
       "      <td>0</td>\n",
       "      <td>0</td>\n",
       "      <td>0</td>\n",
       "      <td>0</td>\n",
       "      <td>0</td>\n",
       "      <td>0</td>\n",
       "      <td>0</td>\n",
       "      <td>0</td>\n",
       "      <td>0</td>\n",
       "      <td>0</td>\n",
       "      <td>0</td>\n",
       "      <td>0</td>\n",
       "      <td>0</td>\n",
       "      <td>0</td>\n",
       "      <td>0</td>\n",
       "      <td>0</td>\n",
       "      <td>0</td>\n",
       "      <td>0</td>\n",
       "      <td>0</td>\n",
       "      <td>0</td>\n",
       "      <td>0</td>\n",
       "      <td>0</td>\n",
       "      <td>0</td>\n",
       "      <td>0</td>\n",
       "      <td>0</td>\n",
       "      <td>0</td>\n",
       "      <td>0</td>\n",
       "      <td>0</td>\n",
       "      <td>0</td>\n",
       "      <td>0</td>\n",
       "      <td>0</td>\n",
       "      <td>0</td>\n",
       "      <td>0</td>\n",
       "      <td>0</td>\n",
       "      <td>0</td>\n",
       "      <td>0</td>\n",
       "      <td>0</td>\n",
       "      <td>1</td>\n",
       "      <td>0</td>\n",
       "      <td>0</td>\n",
       "      <td>0</td>\n",
       "      <td>0</td>\n",
       "      <td>0</td>\n",
       "      <td>0</td>\n",
       "      <td>0</td>\n",
       "      <td>0</td>\n",
       "      <td>0</td>\n",
       "      <td>0</td>\n",
       "      <td>0</td>\n",
       "      <td>0</td>\n",
       "      <td>0</td>\n",
       "      <td>0</td>\n",
       "      <td>0</td>\n",
       "      <td>0</td>\n",
       "      <td>0</td>\n",
       "      <td>0</td>\n",
       "      <td>0</td>\n",
       "      <td>0</td>\n",
       "      <td>0</td>\n",
       "      <td>0</td>\n",
       "      <td>0</td>\n",
       "      <td>0</td>\n",
       "      <td>0</td>\n",
       "      <td>0</td>\n",
       "      <td>0</td>\n",
       "      <td>0</td>\n",
       "      <td>0</td>\n",
       "      <td>0</td>\n",
       "      <td>0</td>\n",
       "      <td>0</td>\n",
       "      <td>0</td>\n",
       "      <td>0</td>\n",
       "      <td>0</td>\n",
       "      <td>1</td>\n",
       "      <td>0</td>\n",
       "      <td>0</td>\n",
       "      <td>0</td>\n",
       "      <td>0</td>\n",
       "      <td>0</td>\n",
       "    </tr>\n",
       "    <tr>\n",
       "      <th>87277</th>\n",
       "      <td>0.899313</td>\n",
       "      <td>-0.749100</td>\n",
       "      <td>-2.008917</td>\n",
       "      <td>0</td>\n",
       "      <td>0</td>\n",
       "      <td>0</td>\n",
       "      <td>0</td>\n",
       "      <td>0</td>\n",
       "      <td>1</td>\n",
       "      <td>0</td>\n",
       "      <td>0</td>\n",
       "      <td>0</td>\n",
       "      <td>0</td>\n",
       "      <td>0</td>\n",
       "      <td>0</td>\n",
       "      <td>0</td>\n",
       "      <td>0</td>\n",
       "      <td>0</td>\n",
       "      <td>0</td>\n",
       "      <td>0</td>\n",
       "      <td>0</td>\n",
       "      <td>0</td>\n",
       "      <td>0</td>\n",
       "      <td>0</td>\n",
       "      <td>0</td>\n",
       "      <td>0</td>\n",
       "      <td>0</td>\n",
       "      <td>0</td>\n",
       "      <td>0</td>\n",
       "      <td>0</td>\n",
       "      <td>0</td>\n",
       "      <td>0</td>\n",
       "      <td>0</td>\n",
       "      <td>0</td>\n",
       "      <td>0</td>\n",
       "      <td>0</td>\n",
       "      <td>0</td>\n",
       "      <td>0</td>\n",
       "      <td>0</td>\n",
       "      <td>0</td>\n",
       "      <td>0</td>\n",
       "      <td>0</td>\n",
       "      <td>0</td>\n",
       "      <td>0</td>\n",
       "      <td>0</td>\n",
       "      <td>0</td>\n",
       "      <td>0</td>\n",
       "      <td>0</td>\n",
       "      <td>0</td>\n",
       "      <td>0</td>\n",
       "      <td>0</td>\n",
       "      <td>0</td>\n",
       "      <td>0</td>\n",
       "      <td>0</td>\n",
       "      <td>0</td>\n",
       "      <td>0</td>\n",
       "      <td>0</td>\n",
       "      <td>0</td>\n",
       "      <td>0</td>\n",
       "      <td>0</td>\n",
       "      <td>0</td>\n",
       "      <td>0</td>\n",
       "      <td>0</td>\n",
       "      <td>0</td>\n",
       "      <td>0</td>\n",
       "      <td>0</td>\n",
       "      <td>0</td>\n",
       "      <td>0</td>\n",
       "      <td>0</td>\n",
       "      <td>0</td>\n",
       "      <td>0</td>\n",
       "      <td>0</td>\n",
       "      <td>0</td>\n",
       "      <td>0</td>\n",
       "      <td>0</td>\n",
       "      <td>0</td>\n",
       "      <td>0</td>\n",
       "      <td>0</td>\n",
       "      <td>0</td>\n",
       "      <td>0</td>\n",
       "      <td>0</td>\n",
       "      <td>0</td>\n",
       "      <td>0</td>\n",
       "      <td>0</td>\n",
       "      <td>0</td>\n",
       "      <td>0</td>\n",
       "      <td>0</td>\n",
       "      <td>0</td>\n",
       "      <td>0</td>\n",
       "      <td>0</td>\n",
       "      <td>0</td>\n",
       "      <td>0</td>\n",
       "      <td>0</td>\n",
       "      <td>0</td>\n",
       "      <td>0</td>\n",
       "      <td>0</td>\n",
       "      <td>0</td>\n",
       "      <td>0</td>\n",
       "      <td>0</td>\n",
       "      <td>0</td>\n",
       "      <td>0</td>\n",
       "      <td>0</td>\n",
       "      <td>0</td>\n",
       "      <td>0</td>\n",
       "      <td>0</td>\n",
       "      <td>0</td>\n",
       "      <td>0</td>\n",
       "      <td>0</td>\n",
       "      <td>0</td>\n",
       "      <td>0</td>\n",
       "      <td>0</td>\n",
       "      <td>0</td>\n",
       "      <td>0</td>\n",
       "      <td>0</td>\n",
       "      <td>0</td>\n",
       "      <td>0</td>\n",
       "      <td>0</td>\n",
       "      <td>0</td>\n",
       "      <td>0</td>\n",
       "      <td>1</td>\n",
       "      <td>0</td>\n",
       "      <td>0</td>\n",
       "      <td>0</td>\n",
       "      <td>0</td>\n",
       "      <td>0</td>\n",
       "      <td>0</td>\n",
       "      <td>0</td>\n",
       "      <td>0</td>\n",
       "      <td>0</td>\n",
       "      <td>0</td>\n",
       "      <td>0</td>\n",
       "      <td>0</td>\n",
       "      <td>0</td>\n",
       "      <td>0</td>\n",
       "      <td>0</td>\n",
       "      <td>0</td>\n",
       "      <td>0</td>\n",
       "      <td>0</td>\n",
       "      <td>0</td>\n",
       "      <td>0</td>\n",
       "      <td>0</td>\n",
       "      <td>0</td>\n",
       "      <td>0</td>\n",
       "      <td>0</td>\n",
       "      <td>0</td>\n",
       "      <td>0</td>\n",
       "      <td>0</td>\n",
       "      <td>0</td>\n",
       "      <td>0</td>\n",
       "      <td>0</td>\n",
       "      <td>0</td>\n",
       "      <td>0</td>\n",
       "      <td>0</td>\n",
       "      <td>0</td>\n",
       "      <td>0</td>\n",
       "      <td>0</td>\n",
       "      <td>0</td>\n",
       "      <td>0</td>\n",
       "      <td>0</td>\n",
       "      <td>0</td>\n",
       "      <td>0</td>\n",
       "      <td>0</td>\n",
       "      <td>0</td>\n",
       "      <td>0</td>\n",
       "      <td>0</td>\n",
       "      <td>0</td>\n",
       "      <td>0</td>\n",
       "      <td>0</td>\n",
       "      <td>0</td>\n",
       "      <td>0</td>\n",
       "      <td>0</td>\n",
       "      <td>0</td>\n",
       "      <td>0</td>\n",
       "      <td>0</td>\n",
       "      <td>0</td>\n",
       "      <td>0</td>\n",
       "      <td>0</td>\n",
       "      <td>0</td>\n",
       "      <td>0</td>\n",
       "      <td>0</td>\n",
       "      <td>0</td>\n",
       "      <td>0</td>\n",
       "      <td>0</td>\n",
       "      <td>0</td>\n",
       "      <td>0</td>\n",
       "      <td>0</td>\n",
       "      <td>0</td>\n",
       "      <td>0</td>\n",
       "      <td>0</td>\n",
       "      <td>0</td>\n",
       "      <td>0</td>\n",
       "      <td>0</td>\n",
       "      <td>0</td>\n",
       "      <td>0</td>\n",
       "      <td>0</td>\n",
       "      <td>0</td>\n",
       "      <td>0</td>\n",
       "      <td>0</td>\n",
       "      <td>0</td>\n",
       "      <td>0</td>\n",
       "      <td>0</td>\n",
       "      <td>0</td>\n",
       "      <td>0</td>\n",
       "      <td>0</td>\n",
       "      <td>0</td>\n",
       "      <td>0</td>\n",
       "      <td>0</td>\n",
       "      <td>0</td>\n",
       "      <td>0</td>\n",
       "      <td>0</td>\n",
       "      <td>0</td>\n",
       "      <td>0</td>\n",
       "      <td>0</td>\n",
       "      <td>0</td>\n",
       "      <td>0</td>\n",
       "      <td>0</td>\n",
       "      <td>0</td>\n",
       "      <td>0</td>\n",
       "      <td>0</td>\n",
       "      <td>0</td>\n",
       "      <td>0</td>\n",
       "      <td>0</td>\n",
       "      <td>0</td>\n",
       "      <td>0</td>\n",
       "      <td>0</td>\n",
       "      <td>0</td>\n",
       "      <td>0</td>\n",
       "      <td>0</td>\n",
       "      <td>0</td>\n",
       "      <td>0</td>\n",
       "      <td>0</td>\n",
       "      <td>0</td>\n",
       "      <td>0</td>\n",
       "      <td>0</td>\n",
       "      <td>0</td>\n",
       "      <td>0</td>\n",
       "      <td>0</td>\n",
       "      <td>0</td>\n",
       "      <td>0</td>\n",
       "      <td>0</td>\n",
       "      <td>0</td>\n",
       "      <td>0</td>\n",
       "      <td>0</td>\n",
       "      <td>0</td>\n",
       "      <td>0</td>\n",
       "      <td>0</td>\n",
       "      <td>0</td>\n",
       "      <td>0</td>\n",
       "      <td>0</td>\n",
       "      <td>0</td>\n",
       "      <td>0</td>\n",
       "      <td>0</td>\n",
       "      <td>0</td>\n",
       "      <td>0</td>\n",
       "      <td>0</td>\n",
       "      <td>0</td>\n",
       "      <td>0</td>\n",
       "      <td>0</td>\n",
       "      <td>0</td>\n",
       "      <td>0</td>\n",
       "      <td>0</td>\n",
       "      <td>0</td>\n",
       "      <td>0</td>\n",
       "      <td>0</td>\n",
       "      <td>0</td>\n",
       "      <td>0</td>\n",
       "      <td>0</td>\n",
       "      <td>0</td>\n",
       "      <td>1</td>\n",
       "      <td>0</td>\n",
       "      <td>0</td>\n",
       "      <td>0</td>\n",
       "      <td>0</td>\n",
       "      <td>0</td>\n",
       "      <td>0</td>\n",
       "      <td>0</td>\n",
       "      <td>0</td>\n",
       "      <td>0</td>\n",
       "      <td>0</td>\n",
       "      <td>0</td>\n",
       "      <td>0</td>\n",
       "      <td>0</td>\n",
       "      <td>0</td>\n",
       "      <td>0</td>\n",
       "      <td>0</td>\n",
       "      <td>0</td>\n",
       "      <td>0</td>\n",
       "      <td>0</td>\n",
       "      <td>0</td>\n",
       "      <td>0</td>\n",
       "      <td>0</td>\n",
       "      <td>0</td>\n",
       "      <td>0</td>\n",
       "      <td>0</td>\n",
       "      <td>0</td>\n",
       "      <td>0</td>\n",
       "      <td>0</td>\n",
       "      <td>0</td>\n",
       "      <td>0</td>\n",
       "      <td>0</td>\n",
       "      <td>1</td>\n",
       "      <td>0</td>\n",
       "      <td>0</td>\n",
       "      <td>0</td>\n",
       "      <td>0</td>\n",
       "      <td>0</td>\n",
       "      <td>0</td>\n",
       "      <td>0</td>\n",
       "      <td>1</td>\n",
       "      <td>0</td>\n",
       "    </tr>\n",
       "  </tbody>\n",
       "</table>\n",
       "</div>"
      ],
      "text/plain": [
       "        RegistrationYear     Power  Kilometer  VehicleType_bus  \\\n",
       "18639           0.196118 -0.296292  -1.487206                0   \n",
       "206110          0.196118  1.905297  -0.052500                0   \n",
       "326232          0.196118  0.375115   0.599638                0   \n",
       "203948         -1.772826  0.749853   0.599638                0   \n",
       "87277           0.899313 -0.749100  -2.008917                0   \n",
       "\n",
       "        VehicleType_convertible  VehicleType_coupe  VehicleType_other  \\\n",
       "18639                         0                  0                  0   \n",
       "206110                        1                  0                  0   \n",
       "326232                        0                  0                  0   \n",
       "203948                        1                  0                  0   \n",
       "87277                         0                  0                  0   \n",
       "\n",
       "        VehicleType_sedan  VehicleType_small  VehicleType_suv  \\\n",
       "18639                   0                  1                0   \n",
       "206110                  0                  0                0   \n",
       "326232                  1                  0                0   \n",
       "203948                  0                  0                0   \n",
       "87277                   0                  1                0   \n",
       "\n",
       "        VehicleType_wagon  Gearbox_auto  Gearbox_manual  Model_145  Model_147  \\\n",
       "18639                   0             1               0          0          0   \n",
       "206110                  0             0               0          0          0   \n",
       "326232                  0             1               0          0          0   \n",
       "203948                  0             0               1          0          0   \n",
       "87277                   0             0               0          0          0   \n",
       "\n",
       "        Model_156  Model_159  Model_1_reihe  Model_1er  Model_200  \\\n",
       "18639           0          0              0          0          0   \n",
       "206110          0          0              0          0          0   \n",
       "326232          0          0              0          0          0   \n",
       "203948          0          0              0          0          0   \n",
       "87277           0          0              0          0          0   \n",
       "\n",
       "        Model_2_reihe  Model_300c  Model_3_reihe  Model_3er  Model_4_reihe  \\\n",
       "18639               0           0              0          0              0   \n",
       "206110              0           0              0          0              0   \n",
       "326232              0           0              0          0              0   \n",
       "203948              0           0              0          0              0   \n",
       "87277               0           0              0          0              0   \n",
       "\n",
       "        Model_500  Model_5_reihe  Model_5er  Model_601  Model_6_reihe  \\\n",
       "18639           0              0          0          0              0   \n",
       "206110          0              0          0          0              0   \n",
       "326232          0              0          0          0              0   \n",
       "203948          0              0          0          0              0   \n",
       "87277           0              0          0          0              0   \n",
       "\n",
       "        Model_6er  Model_7er  Model_80  Model_850  Model_90  Model_900  \\\n",
       "18639           0          0         0          0         0          0   \n",
       "206110          0          0         0          0         0          0   \n",
       "326232          0          0         0          0         0          0   \n",
       "203948          0          0         0          0         0          0   \n",
       "87277           0          0         0          0         0          0   \n",
       "\n",
       "        Model_9000  Model_911  Model_UNKNOWN  Model_a1  Model_a2  Model_a3  \\\n",
       "18639            0          0              0         0         0         0   \n",
       "206110           0          0              0         0         0         0   \n",
       "326232           0          0              0         0         0         0   \n",
       "203948           0          0              0         0         0         0   \n",
       "87277            0          0              0         0         0         0   \n",
       "\n",
       "        Model_a4  Model_a5  Model_a6  Model_a8  Model_a_klasse  Model_accord  \\\n",
       "18639          0         0         0         0               0             0   \n",
       "206110         0         0         0         0               0             0   \n",
       "326232         0         0         0         0               0             0   \n",
       "203948         0         0         0         0               0             0   \n",
       "87277          0         0         0         0               0             0   \n",
       "\n",
       "        Model_agila  Model_alhambra  Model_almera  Model_altea  Model_amarok  \\\n",
       "18639             0               0             0            0             0   \n",
       "206110            0               0             0            0             0   \n",
       "326232            0               0             0            0             0   \n",
       "203948            0               0             0            0             0   \n",
       "87277             0               0             0            0             0   \n",
       "\n",
       "        Model_antara  Model_arosa  Model_astra  Model_auris  Model_avensis  \\\n",
       "18639              0            0            0            0              0   \n",
       "206110             0            0            0            0              0   \n",
       "326232             0            0            0            0              0   \n",
       "203948             0            0            0            0              0   \n",
       "87277              0            0            0            0              0   \n",
       "\n",
       "        Model_aveo  Model_aygo  Model_b_klasse  Model_b_max  Model_beetle  \\\n",
       "18639            0           0               0            0             0   \n",
       "206110           0           0               0            0             0   \n",
       "326232           0           0               0            0             0   \n",
       "203948           0           0               0            0             0   \n",
       "87277            0           0               0            0             0   \n",
       "\n",
       "        Model_berlingo  Model_bora  Model_boxster  Model_bravo  Model_c1  \\\n",
       "18639                0           0              0            0         0   \n",
       "206110               0           0              0            0         0   \n",
       "326232               0           0              0            0         0   \n",
       "203948               0           0              0            0         0   \n",
       "87277                0           0              0            0         0   \n",
       "\n",
       "        Model_c2  Model_c3  Model_c4  Model_c5  Model_c_klasse  Model_c_max  \\\n",
       "18639          0         0         0         0               0            0   \n",
       "206110         0         0         0         0               0            0   \n",
       "326232         0         0         0         0               0            0   \n",
       "203948         0         0         0         0               0            0   \n",
       "87277          0         0         0         0               0            0   \n",
       "\n",
       "        Model_c_reihe  Model_caddy  Model_calibra  Model_captiva  \\\n",
       "18639               0            0              0              0   \n",
       "206110              0            0              0              0   \n",
       "326232              0            0              0              0   \n",
       "203948              0            0              0              0   \n",
       "87277               0            0              0              0   \n",
       "\n",
       "        Model_carisma  Model_carnival  Model_cayenne  Model_cc  Model_ceed  \\\n",
       "18639               0               0              0         0           0   \n",
       "206110              0               0              0         0           0   \n",
       "326232              0               0              0         0           0   \n",
       "203948              0               0              0         0           0   \n",
       "87277               0               0              0         0           0   \n",
       "\n",
       "        Model_charade  Model_cherokee  Model_citigo  Model_civic  Model_cl  \\\n",
       "18639               0               0             0            0         0   \n",
       "206110              0               0             0            0         0   \n",
       "326232              0               0             0            0         0   \n",
       "203948              0               0             0            0         0   \n",
       "87277               0               0             0            0         0   \n",
       "\n",
       "        Model_clio  Model_clk  Model_clubman  Model_colt  Model_combo  \\\n",
       "18639            0          0              0           0            0   \n",
       "206110           0          0              0           0            0   \n",
       "326232           0          0              0           0            0   \n",
       "203948           0          0              0           0            0   \n",
       "87277            0          0              0           0            0   \n",
       "\n",
       "        Model_cooper  Model_cordoba  Model_corolla  Model_corsa  \\\n",
       "18639              0              0              0            1   \n",
       "206110             0              0              0            0   \n",
       "326232             0              0              0            0   \n",
       "203948             0              0              0            0   \n",
       "87277              0              0              0            0   \n",
       "\n",
       "        Model_cr_reihe  Model_croma  Model_crossfire  Model_cuore  \\\n",
       "18639                0            0                0            0   \n",
       "206110               0            0                0            0   \n",
       "326232               0            0                0            0   \n",
       "203948               0            0                0            0   \n",
       "87277                0            0                0            0   \n",
       "\n",
       "        Model_cx_reihe  Model_defender  Model_delta  Model_discovery  \\\n",
       "18639                0               0            0                0   \n",
       "206110               0               0            0                0   \n",
       "326232               0               0            0                0   \n",
       "203948               0               0            0                0   \n",
       "87277                0               0            0                0   \n",
       "\n",
       "        Model_doblo  Model_ducato  Model_duster  Model_e_klasse  \\\n",
       "18639             0             0             0               0   \n",
       "206110            0             0             0               0   \n",
       "326232            0             0             0               0   \n",
       "203948            0             0             0               0   \n",
       "87277             0             0             0               0   \n",
       "\n",
       "        Model_elefantino  Model_eos  Model_escort  Model_espace  Model_exeo  \\\n",
       "18639                  0          0             0             0           0   \n",
       "206110                 0          0             0             0           0   \n",
       "326232                 0          0             0             0           0   \n",
       "203948                 0          0             0             0           0   \n",
       "87277                  0          0             0             0           0   \n",
       "\n",
       "        Model_fabia  Model_fiesta  Model_focus  Model_forester  Model_forfour  \\\n",
       "18639             0             0            0               0              0   \n",
       "206110            0             0            0               0              0   \n",
       "326232            0             0            0               0              0   \n",
       "203948            0             0            0               0              0   \n",
       "87277             0             0            0               0              0   \n",
       "\n",
       "        Model_fortwo  Model_fox  Model_freelander  Model_fusion  \\\n",
       "18639              0          0                 0             0   \n",
       "206110             0          0                 0             0   \n",
       "326232             0          0                 0             0   \n",
       "203948             0          0                 0             0   \n",
       "87277              1          0                 0             0   \n",
       "\n",
       "        Model_g_klasse  Model_galant  Model_galaxy  Model_getz  Model_gl  \\\n",
       "18639                0             0             0           0         0   \n",
       "206110               0             0             0           0         0   \n",
       "326232               0             0             0           0         0   \n",
       "203948               0             0             0           0         0   \n",
       "87277                0             0             0           0         0   \n",
       "\n",
       "        Model_glk  Model_golf  Model_grand  Model_i3  Model_i_reihe  \\\n",
       "18639           0           0            0         0              0   \n",
       "206110          0           0            0         0              0   \n",
       "326232          0           0            0         0              0   \n",
       "203948          0           0            0         0              0   \n",
       "87277           0           0            0         0              0   \n",
       "\n",
       "        Model_ibiza  Model_impreza  Model_insignia  Model_jazz  Model_jetta  \\\n",
       "18639             0              0               0           0            0   \n",
       "206110            0              0               0           0            0   \n",
       "326232            0              0               0           0            0   \n",
       "203948            0              0               0           0            0   \n",
       "87277             0              0               0           0            0   \n",
       "\n",
       "        Model_jimny  Model_juke  Model_justy  Model_ka  Model_kadett  \\\n",
       "18639             0           0            0         0             0   \n",
       "206110            0           0            0         0             0   \n",
       "326232            0           0            0         0             0   \n",
       "203948            0           0            0         0             0   \n",
       "87277             0           0            0         0             0   \n",
       "\n",
       "        Model_kaefer  Model_kalina  Model_kalos  Model_kangoo  Model_kappa  \\\n",
       "18639              0             0            0             0            0   \n",
       "206110             0             0            0             0            0   \n",
       "326232             0             0            0             0            0   \n",
       "203948             0             0            0             0            0   \n",
       "87277              0             0            0             0            0   \n",
       "\n",
       "        Model_kuga  Model_laguna  Model_lancer  Model_lanos  Model_legacy  \\\n",
       "18639            0             0             0            0             0   \n",
       "206110           0             0             0            0             0   \n",
       "326232           0             0             0            0             0   \n",
       "203948           0             0             0            0             0   \n",
       "87277            0             0             0            0             0   \n",
       "\n",
       "        Model_leon  Model_lodgy  Model_logan  Model_lupo  Model_lybra  \\\n",
       "18639            0            0            0           0            0   \n",
       "206110           0            0            0           0            0   \n",
       "326232           0            0            0           0            0   \n",
       "203948           0            0            0           0            0   \n",
       "87277            0            0            0           0            0   \n",
       "\n",
       "        Model_m_klasse  Model_m_reihe  Model_materia  Model_matiz  \\\n",
       "18639                0              0              0            0   \n",
       "206110               0              0              0            0   \n",
       "326232               0              0              0            0   \n",
       "203948               0              0              0            0   \n",
       "87277                0              0              0            0   \n",
       "\n",
       "        Model_megane  Model_meriva  Model_micra  Model_mii  Model_modus  \\\n",
       "18639              0             0            0          0            0   \n",
       "206110             0             0            0          0            0   \n",
       "326232             0             0            0          0            0   \n",
       "203948             0             0            0          0            0   \n",
       "87277              0             0            0          0            0   \n",
       "\n",
       "        Model_mondeo  Model_move  Model_musa  Model_mustang  Model_mx_reihe  \\\n",
       "18639              0           0           0              0               0   \n",
       "206110             0           0           0              0               0   \n",
       "326232             0           0           0              0               0   \n",
       "203948             0           0           0              0               0   \n",
       "87277              0           0           0              0               0   \n",
       "\n",
       "        Model_navara  Model_niva  Model_note  Model_nubira  Model_octavia  \\\n",
       "18639              0           0           0             0              0   \n",
       "206110             0           0           0             0              0   \n",
       "326232             0           0           0             0              0   \n",
       "203948             0           0           0             0              0   \n",
       "87277              0           0           0             0              0   \n",
       "\n",
       "        Model_omega  Model_one  Model_other  Model_outlander  Model_pajero  \\\n",
       "18639             0          0            0                0             0   \n",
       "206110            0          0            0                0             0   \n",
       "326232            0          0            1                0             0   \n",
       "203948            0          0            1                0             0   \n",
       "87277             0          0            0                0             0   \n",
       "\n",
       "        Model_panda  Model_passat  Model_phaeton  Model_picanto  Model_polo  \\\n",
       "18639             0             0              0              0           0   \n",
       "206110            0             0              0              0           0   \n",
       "326232            0             0              0              0           0   \n",
       "203948            0             0              0              0           0   \n",
       "87277             0             0              0              0           0   \n",
       "\n",
       "        Model_primera  Model_ptcruiser  Model_punto  Model_q3  Model_q5  \\\n",
       "18639               0                0            0         0         0   \n",
       "206110              0                0            0         0         0   \n",
       "326232              0                0            0         0         0   \n",
       "203948              0                0            0         0         0   \n",
       "87277               0                0            0         0         0   \n",
       "\n",
       "        Model_q7  Model_qashqai  Model_r19  Model_range_rover  \\\n",
       "18639          0              0          0                  0   \n",
       "206110         0              0          0                  0   \n",
       "326232         0              0          0                  0   \n",
       "203948         0              0          0                  0   \n",
       "87277          0              0          0                  0   \n",
       "\n",
       "        Model_range_rover_evoque  Model_range_rover_sport  Model_rangerover  \\\n",
       "18639                          0                        0                 0   \n",
       "206110                         0                        0                 0   \n",
       "326232                         0                        0                 0   \n",
       "203948                         0                        0                 0   \n",
       "87277                          0                        0                 0   \n",
       "\n",
       "        Model_rav  Model_rio  Model_roadster  Model_roomster  Model_rx_reihe  \\\n",
       "18639           0          0               0               0               0   \n",
       "206110          0          0               0               0               0   \n",
       "326232          0          0               0               0               0   \n",
       "203948          0          0               0               0               0   \n",
       "87277           0          0               0               0               0   \n",
       "\n",
       "        Model_s60  Model_s_klasse  Model_s_max  Model_s_type  Model_samara  \\\n",
       "18639           0               0            0             0             0   \n",
       "206110          0               0            0             0             0   \n",
       "326232          0               0            0             0             0   \n",
       "203948          0               0            0             0             0   \n",
       "87277           0               0            0             0             0   \n",
       "\n",
       "        Model_sandero  Model_santa  Model_scenic  Model_scirocco  \\\n",
       "18639               0            0             0               0   \n",
       "206110              0            0             0               0   \n",
       "326232              0            0             0               0   \n",
       "203948              0            0             0               0   \n",
       "87277               0            0             0               0   \n",
       "\n",
       "        Model_seicento  Model_serie_1  Model_serie_2  Model_serie_3  \\\n",
       "18639                0              0              0              0   \n",
       "206110               0              0              0              0   \n",
       "326232               0              0              0              0   \n",
       "203948               0              0              0              0   \n",
       "87277                0              0              0              0   \n",
       "\n",
       "        Model_sharan  Model_signum  Model_sirion  Model_sl  Model_slk  \\\n",
       "18639              0             0             0         0          0   \n",
       "206110             0             0             0         0          0   \n",
       "326232             0             0             0         0          0   \n",
       "203948             0             0             0         0          0   \n",
       "87277              0             0             0         0          0   \n",
       "\n",
       "        Model_sorento  Model_spark  Model_spider  Model_sportage  \\\n",
       "18639               0            0             0               0   \n",
       "206110              0            0             0               0   \n",
       "326232              0            0             0               0   \n",
       "203948              0            0             0               0   \n",
       "87277               0            0             0               0   \n",
       "\n",
       "        Model_sprinter  Model_stilo  Model_superb  Model_swift  Model_terios  \\\n",
       "18639                0            0             0            0             0   \n",
       "206110               0            0             0            0             0   \n",
       "326232               0            0             0            0             0   \n",
       "203948               0            0             0            0             0   \n",
       "87277                0            0             0            0             0   \n",
       "\n",
       "        Model_tigra  Model_tiguan  Model_toledo  Model_touareg  Model_touran  \\\n",
       "18639             0             0             0              0             0   \n",
       "206110            0             0             0              0             0   \n",
       "326232            0             0             0              0             0   \n",
       "203948            0             0             0              0             0   \n",
       "87277             0             0             0              0             0   \n",
       "\n",
       "        Model_transit  Model_transporter  Model_tt  Model_tucson  \\\n",
       "18639               0                  0         0             0   \n",
       "206110              0                  0         0             0   \n",
       "326232              0                  0         0             0   \n",
       "203948              0                  0         0             0   \n",
       "87277               0                  0         0             0   \n",
       "\n",
       "        Model_twingo  Model_up  Model_v40  Model_v50  Model_v60  Model_v70  \\\n",
       "18639              0         0          0          0          0          0   \n",
       "206110             0         0          0          0          0          0   \n",
       "326232             0         0          0          0          0          0   \n",
       "203948             0         0          0          0          0          0   \n",
       "87277              0         0          0          0          0          0   \n",
       "\n",
       "        Model_v_klasse  Model_vectra  Model_verso  Model_viano  Model_vito  \\\n",
       "18639                0             0            0            0           0   \n",
       "206110               0             0            0            0           0   \n",
       "326232               0             0            0            0           0   \n",
       "203948               0             0            0            0           0   \n",
       "87277                0             0            0            0           0   \n",
       "\n",
       "        Model_vivaro  Model_voyager  Model_wrangler  Model_x_reihe  \\\n",
       "18639              0              0               0              0   \n",
       "206110             0              0               0              0   \n",
       "326232             0              0               0              0   \n",
       "203948             0              0               0              0   \n",
       "87277              0              0               0              0   \n",
       "\n",
       "        Model_x_trail  Model_x_type  Model_xc_reihe  Model_yaris  Model_yeti  \\\n",
       "18639               0             0               0            0           0   \n",
       "206110              0             0               0            0           0   \n",
       "326232              0             0               0            0           0   \n",
       "203948              0             0               0            0           0   \n",
       "87277               0             0               0            0           0   \n",
       "\n",
       "        Model_ypsilon  Model_z_reihe  Model_zafira  FuelType_cng  \\\n",
       "18639               0              0             0             0   \n",
       "206110              0              1             0             0   \n",
       "326232              0              0             0             0   \n",
       "203948              0              0             0             0   \n",
       "87277               0              0             0             0   \n",
       "\n",
       "        FuelType_electric  FuelType_hybrid  FuelType_lpg  FuelType_other  \\\n",
       "18639                   0                0             0               0   \n",
       "206110                  0                0             0               0   \n",
       "326232                  0                0             0               0   \n",
       "203948                  0                0             0               0   \n",
       "87277                   0                0             0               0   \n",
       "\n",
       "        FuelType_petrol  Brand_audi  Brand_bmw  Brand_chevrolet  \\\n",
       "18639                 1           0          0                0   \n",
       "206110                1           0          1                0   \n",
       "326232                1           0          0                0   \n",
       "203948                1           0          0                0   \n",
       "87277                 1           0          0                0   \n",
       "\n",
       "        Brand_chrysler  Brand_citroen  Brand_dacia  Brand_daewoo  \\\n",
       "18639                0              0            0             0   \n",
       "206110               0              0            0             0   \n",
       "326232               0              0            0             0   \n",
       "203948               0              0            0             0   \n",
       "87277                0              0            0             0   \n",
       "\n",
       "        Brand_daihatsu  Brand_fiat  Brand_ford  Brand_honda  Brand_hyundai  \\\n",
       "18639                0           0           0            0              0   \n",
       "206110               0           0           0            0              0   \n",
       "326232               0           0           0            0              0   \n",
       "203948               0           0           0            0              0   \n",
       "87277                0           0           0            0              0   \n",
       "\n",
       "        Brand_jaguar  Brand_jeep  Brand_kia  Brand_lada  Brand_lancia  \\\n",
       "18639              0           0          0           0             0   \n",
       "206110             0           0          0           0             0   \n",
       "326232             0           0          0           0             0   \n",
       "203948             0           0          0           0             0   \n",
       "87277              0           0          0           0             0   \n",
       "\n",
       "        Brand_land_rover  Brand_mazda  Brand_mercedes_benz  Brand_mini  \\\n",
       "18639                  0            0                    0           0   \n",
       "206110                 0            0                    0           0   \n",
       "326232                 0            0                    0           0   \n",
       "203948                 0            0                    0           0   \n",
       "87277                  0            0                    0           0   \n",
       "\n",
       "        Brand_mitsubishi  Brand_nissan  Brand_opel  Brand_peugeot  \\\n",
       "18639                  0             0           1              0   \n",
       "206110                 0             0           0              0   \n",
       "326232                 0             0           0              1   \n",
       "203948                 0             0           0              0   \n",
       "87277                  0             0           0              0   \n",
       "\n",
       "        Brand_porsche  Brand_renault  Brand_rover  Brand_saab  Brand_seat  \\\n",
       "18639               0              0            0           0           0   \n",
       "206110              0              0            0           0           0   \n",
       "326232              0              0            0           0           0   \n",
       "203948              0              0            0           0           0   \n",
       "87277               0              0            0           0           0   \n",
       "\n",
       "        Brand_skoda  Brand_smart  Brand_sonstige_autos  Brand_subaru  \\\n",
       "18639             0            0                     0             0   \n",
       "206110            0            0                     0             0   \n",
       "326232            0            0                     0             0   \n",
       "203948            0            0                     0             0   \n",
       "87277             0            1                     0             0   \n",
       "\n",
       "        Brand_suzuki  Brand_toyota  Brand_trabant  Brand_volkswagen  \\\n",
       "18639              0             0              0                 0   \n",
       "206110             0             0              0                 0   \n",
       "326232             0             0              0                 0   \n",
       "203948             0             1              0                 0   \n",
       "87277              0             0              0                 0   \n",
       "\n",
       "        Brand_volvo  Repaired_no  Repaired_yes  \n",
       "18639             0            1             0  \n",
       "206110            0            1             0  \n",
       "326232            0            0             0  \n",
       "203948            0            0             0  \n",
       "87277             0            1             0  "
      ]
     },
     "metadata": {},
     "output_type": "display_data"
    },
    {
     "data": {
      "text/html": [
       "<div>\n",
       "<style scoped>\n",
       "    .dataframe tbody tr th:only-of-type {\n",
       "        vertical-align: middle;\n",
       "    }\n",
       "\n",
       "    .dataframe tbody tr th {\n",
       "        vertical-align: top;\n",
       "    }\n",
       "\n",
       "    .dataframe thead th {\n",
       "        text-align: right;\n",
       "    }\n",
       "</style>\n",
       "<table border=\"1\" class=\"dataframe\">\n",
       "  <thead>\n",
       "    <tr style=\"text-align: right;\">\n",
       "      <th></th>\n",
       "      <th>RegistrationYear</th>\n",
       "      <th>Power</th>\n",
       "      <th>Kilometer</th>\n",
       "      <th>VehicleType_bus</th>\n",
       "      <th>VehicleType_convertible</th>\n",
       "      <th>VehicleType_coupe</th>\n",
       "      <th>VehicleType_other</th>\n",
       "      <th>VehicleType_sedan</th>\n",
       "      <th>VehicleType_small</th>\n",
       "      <th>VehicleType_suv</th>\n",
       "      <th>VehicleType_wagon</th>\n",
       "      <th>Gearbox_auto</th>\n",
       "      <th>Gearbox_manual</th>\n",
       "      <th>Model_145</th>\n",
       "      <th>Model_147</th>\n",
       "      <th>Model_156</th>\n",
       "      <th>Model_159</th>\n",
       "      <th>Model_1_reihe</th>\n",
       "      <th>Model_1er</th>\n",
       "      <th>Model_200</th>\n",
       "      <th>Model_2_reihe</th>\n",
       "      <th>Model_300c</th>\n",
       "      <th>Model_3_reihe</th>\n",
       "      <th>Model_3er</th>\n",
       "      <th>Model_4_reihe</th>\n",
       "      <th>Model_500</th>\n",
       "      <th>Model_5_reihe</th>\n",
       "      <th>Model_5er</th>\n",
       "      <th>Model_601</th>\n",
       "      <th>Model_6_reihe</th>\n",
       "      <th>Model_6er</th>\n",
       "      <th>Model_7er</th>\n",
       "      <th>Model_80</th>\n",
       "      <th>Model_850</th>\n",
       "      <th>Model_90</th>\n",
       "      <th>Model_900</th>\n",
       "      <th>Model_9000</th>\n",
       "      <th>Model_911</th>\n",
       "      <th>Model_UNKNOWN</th>\n",
       "      <th>Model_a1</th>\n",
       "      <th>Model_a2</th>\n",
       "      <th>Model_a3</th>\n",
       "      <th>Model_a4</th>\n",
       "      <th>Model_a5</th>\n",
       "      <th>Model_a6</th>\n",
       "      <th>Model_a8</th>\n",
       "      <th>Model_a_klasse</th>\n",
       "      <th>Model_accord</th>\n",
       "      <th>Model_agila</th>\n",
       "      <th>Model_alhambra</th>\n",
       "      <th>Model_almera</th>\n",
       "      <th>Model_altea</th>\n",
       "      <th>Model_amarok</th>\n",
       "      <th>Model_antara</th>\n",
       "      <th>Model_arosa</th>\n",
       "      <th>Model_astra</th>\n",
       "      <th>Model_auris</th>\n",
       "      <th>Model_avensis</th>\n",
       "      <th>Model_aveo</th>\n",
       "      <th>Model_aygo</th>\n",
       "      <th>Model_b_klasse</th>\n",
       "      <th>Model_b_max</th>\n",
       "      <th>Model_beetle</th>\n",
       "      <th>Model_berlingo</th>\n",
       "      <th>Model_bora</th>\n",
       "      <th>Model_boxster</th>\n",
       "      <th>Model_bravo</th>\n",
       "      <th>Model_c1</th>\n",
       "      <th>Model_c2</th>\n",
       "      <th>Model_c3</th>\n",
       "      <th>Model_c4</th>\n",
       "      <th>Model_c5</th>\n",
       "      <th>Model_c_klasse</th>\n",
       "      <th>Model_c_max</th>\n",
       "      <th>Model_c_reihe</th>\n",
       "      <th>Model_caddy</th>\n",
       "      <th>Model_calibra</th>\n",
       "      <th>Model_captiva</th>\n",
       "      <th>Model_carisma</th>\n",
       "      <th>Model_carnival</th>\n",
       "      <th>Model_cayenne</th>\n",
       "      <th>Model_cc</th>\n",
       "      <th>Model_ceed</th>\n",
       "      <th>Model_charade</th>\n",
       "      <th>Model_cherokee</th>\n",
       "      <th>Model_citigo</th>\n",
       "      <th>Model_civic</th>\n",
       "      <th>Model_cl</th>\n",
       "      <th>Model_clio</th>\n",
       "      <th>Model_clk</th>\n",
       "      <th>Model_clubman</th>\n",
       "      <th>Model_colt</th>\n",
       "      <th>Model_combo</th>\n",
       "      <th>Model_cooper</th>\n",
       "      <th>Model_cordoba</th>\n",
       "      <th>Model_corolla</th>\n",
       "      <th>Model_corsa</th>\n",
       "      <th>Model_cr_reihe</th>\n",
       "      <th>Model_croma</th>\n",
       "      <th>Model_crossfire</th>\n",
       "      <th>Model_cuore</th>\n",
       "      <th>Model_cx_reihe</th>\n",
       "      <th>Model_defender</th>\n",
       "      <th>Model_delta</th>\n",
       "      <th>Model_discovery</th>\n",
       "      <th>Model_doblo</th>\n",
       "      <th>Model_ducato</th>\n",
       "      <th>Model_duster</th>\n",
       "      <th>Model_e_klasse</th>\n",
       "      <th>Model_elefantino</th>\n",
       "      <th>Model_eos</th>\n",
       "      <th>Model_escort</th>\n",
       "      <th>Model_espace</th>\n",
       "      <th>Model_exeo</th>\n",
       "      <th>Model_fabia</th>\n",
       "      <th>Model_fiesta</th>\n",
       "      <th>Model_focus</th>\n",
       "      <th>Model_forester</th>\n",
       "      <th>Model_forfour</th>\n",
       "      <th>Model_fortwo</th>\n",
       "      <th>Model_fox</th>\n",
       "      <th>Model_freelander</th>\n",
       "      <th>Model_fusion</th>\n",
       "      <th>Model_g_klasse</th>\n",
       "      <th>Model_galant</th>\n",
       "      <th>Model_galaxy</th>\n",
       "      <th>Model_getz</th>\n",
       "      <th>Model_gl</th>\n",
       "      <th>Model_glk</th>\n",
       "      <th>Model_golf</th>\n",
       "      <th>Model_grand</th>\n",
       "      <th>Model_i3</th>\n",
       "      <th>Model_i_reihe</th>\n",
       "      <th>Model_ibiza</th>\n",
       "      <th>Model_impreza</th>\n",
       "      <th>Model_insignia</th>\n",
       "      <th>Model_jazz</th>\n",
       "      <th>Model_jetta</th>\n",
       "      <th>Model_jimny</th>\n",
       "      <th>Model_juke</th>\n",
       "      <th>Model_justy</th>\n",
       "      <th>Model_ka</th>\n",
       "      <th>Model_kadett</th>\n",
       "      <th>Model_kaefer</th>\n",
       "      <th>Model_kalina</th>\n",
       "      <th>Model_kalos</th>\n",
       "      <th>Model_kangoo</th>\n",
       "      <th>Model_kappa</th>\n",
       "      <th>Model_kuga</th>\n",
       "      <th>Model_laguna</th>\n",
       "      <th>Model_lancer</th>\n",
       "      <th>Model_lanos</th>\n",
       "      <th>Model_legacy</th>\n",
       "      <th>Model_leon</th>\n",
       "      <th>Model_lodgy</th>\n",
       "      <th>Model_logan</th>\n",
       "      <th>Model_lupo</th>\n",
       "      <th>Model_lybra</th>\n",
       "      <th>Model_m_klasse</th>\n",
       "      <th>Model_m_reihe</th>\n",
       "      <th>Model_materia</th>\n",
       "      <th>Model_matiz</th>\n",
       "      <th>Model_megane</th>\n",
       "      <th>Model_meriva</th>\n",
       "      <th>Model_micra</th>\n",
       "      <th>Model_mii</th>\n",
       "      <th>Model_modus</th>\n",
       "      <th>Model_mondeo</th>\n",
       "      <th>Model_move</th>\n",
       "      <th>Model_musa</th>\n",
       "      <th>Model_mustang</th>\n",
       "      <th>Model_mx_reihe</th>\n",
       "      <th>Model_navara</th>\n",
       "      <th>Model_niva</th>\n",
       "      <th>Model_note</th>\n",
       "      <th>Model_nubira</th>\n",
       "      <th>Model_octavia</th>\n",
       "      <th>Model_omega</th>\n",
       "      <th>Model_one</th>\n",
       "      <th>Model_other</th>\n",
       "      <th>Model_outlander</th>\n",
       "      <th>Model_pajero</th>\n",
       "      <th>Model_panda</th>\n",
       "      <th>Model_passat</th>\n",
       "      <th>Model_phaeton</th>\n",
       "      <th>Model_picanto</th>\n",
       "      <th>Model_polo</th>\n",
       "      <th>Model_primera</th>\n",
       "      <th>Model_ptcruiser</th>\n",
       "      <th>Model_punto</th>\n",
       "      <th>Model_q3</th>\n",
       "      <th>Model_q5</th>\n",
       "      <th>Model_q7</th>\n",
       "      <th>Model_qashqai</th>\n",
       "      <th>Model_r19</th>\n",
       "      <th>Model_range_rover</th>\n",
       "      <th>Model_range_rover_evoque</th>\n",
       "      <th>Model_range_rover_sport</th>\n",
       "      <th>Model_rangerover</th>\n",
       "      <th>Model_rav</th>\n",
       "      <th>Model_rio</th>\n",
       "      <th>Model_roadster</th>\n",
       "      <th>Model_roomster</th>\n",
       "      <th>Model_rx_reihe</th>\n",
       "      <th>Model_s60</th>\n",
       "      <th>Model_s_klasse</th>\n",
       "      <th>Model_s_max</th>\n",
       "      <th>Model_s_type</th>\n",
       "      <th>Model_samara</th>\n",
       "      <th>Model_sandero</th>\n",
       "      <th>Model_santa</th>\n",
       "      <th>Model_scenic</th>\n",
       "      <th>Model_scirocco</th>\n",
       "      <th>Model_seicento</th>\n",
       "      <th>Model_serie_1</th>\n",
       "      <th>Model_serie_2</th>\n",
       "      <th>Model_serie_3</th>\n",
       "      <th>Model_sharan</th>\n",
       "      <th>Model_signum</th>\n",
       "      <th>Model_sirion</th>\n",
       "      <th>Model_sl</th>\n",
       "      <th>Model_slk</th>\n",
       "      <th>Model_sorento</th>\n",
       "      <th>Model_spark</th>\n",
       "      <th>Model_spider</th>\n",
       "      <th>Model_sportage</th>\n",
       "      <th>Model_sprinter</th>\n",
       "      <th>Model_stilo</th>\n",
       "      <th>Model_superb</th>\n",
       "      <th>Model_swift</th>\n",
       "      <th>Model_terios</th>\n",
       "      <th>Model_tigra</th>\n",
       "      <th>Model_tiguan</th>\n",
       "      <th>Model_toledo</th>\n",
       "      <th>Model_touareg</th>\n",
       "      <th>Model_touran</th>\n",
       "      <th>Model_transit</th>\n",
       "      <th>Model_transporter</th>\n",
       "      <th>Model_tt</th>\n",
       "      <th>Model_tucson</th>\n",
       "      <th>Model_twingo</th>\n",
       "      <th>Model_up</th>\n",
       "      <th>Model_v40</th>\n",
       "      <th>Model_v50</th>\n",
       "      <th>Model_v60</th>\n",
       "      <th>Model_v70</th>\n",
       "      <th>Model_v_klasse</th>\n",
       "      <th>Model_vectra</th>\n",
       "      <th>Model_verso</th>\n",
       "      <th>Model_viano</th>\n",
       "      <th>Model_vito</th>\n",
       "      <th>Model_vivaro</th>\n",
       "      <th>Model_voyager</th>\n",
       "      <th>Model_wrangler</th>\n",
       "      <th>Model_x_reihe</th>\n",
       "      <th>Model_x_trail</th>\n",
       "      <th>Model_x_type</th>\n",
       "      <th>Model_xc_reihe</th>\n",
       "      <th>Model_yaris</th>\n",
       "      <th>Model_yeti</th>\n",
       "      <th>Model_ypsilon</th>\n",
       "      <th>Model_z_reihe</th>\n",
       "      <th>Model_zafira</th>\n",
       "      <th>FuelType_cng</th>\n",
       "      <th>FuelType_electric</th>\n",
       "      <th>FuelType_hybrid</th>\n",
       "      <th>FuelType_lpg</th>\n",
       "      <th>FuelType_other</th>\n",
       "      <th>FuelType_petrol</th>\n",
       "      <th>Brand_audi</th>\n",
       "      <th>Brand_bmw</th>\n",
       "      <th>Brand_chevrolet</th>\n",
       "      <th>Brand_chrysler</th>\n",
       "      <th>Brand_citroen</th>\n",
       "      <th>Brand_dacia</th>\n",
       "      <th>Brand_daewoo</th>\n",
       "      <th>Brand_daihatsu</th>\n",
       "      <th>Brand_fiat</th>\n",
       "      <th>Brand_ford</th>\n",
       "      <th>Brand_honda</th>\n",
       "      <th>Brand_hyundai</th>\n",
       "      <th>Brand_jaguar</th>\n",
       "      <th>Brand_jeep</th>\n",
       "      <th>Brand_kia</th>\n",
       "      <th>Brand_lada</th>\n",
       "      <th>Brand_lancia</th>\n",
       "      <th>Brand_land_rover</th>\n",
       "      <th>Brand_mazda</th>\n",
       "      <th>Brand_mercedes_benz</th>\n",
       "      <th>Brand_mini</th>\n",
       "      <th>Brand_mitsubishi</th>\n",
       "      <th>Brand_nissan</th>\n",
       "      <th>Brand_opel</th>\n",
       "      <th>Brand_peugeot</th>\n",
       "      <th>Brand_porsche</th>\n",
       "      <th>Brand_renault</th>\n",
       "      <th>Brand_rover</th>\n",
       "      <th>Brand_saab</th>\n",
       "      <th>Brand_seat</th>\n",
       "      <th>Brand_skoda</th>\n",
       "      <th>Brand_smart</th>\n",
       "      <th>Brand_sonstige_autos</th>\n",
       "      <th>Brand_subaru</th>\n",
       "      <th>Brand_suzuki</th>\n",
       "      <th>Brand_toyota</th>\n",
       "      <th>Brand_trabant</th>\n",
       "      <th>Brand_volkswagen</th>\n",
       "      <th>Brand_volvo</th>\n",
       "      <th>Repaired_no</th>\n",
       "      <th>Repaired_yes</th>\n",
       "    </tr>\n",
       "  </thead>\n",
       "  <tbody>\n",
       "    <tr>\n",
       "      <th>180390</th>\n",
       "      <td>-4.444964</td>\n",
       "      <td>-0.920856</td>\n",
       "      <td>-1.487206</td>\n",
       "      <td>0</td>\n",
       "      <td>0</td>\n",
       "      <td>1</td>\n",
       "      <td>0</td>\n",
       "      <td>0</td>\n",
       "      <td>0</td>\n",
       "      <td>0</td>\n",
       "      <td>0</td>\n",
       "      <td>0</td>\n",
       "      <td>1</td>\n",
       "      <td>0</td>\n",
       "      <td>0</td>\n",
       "      <td>0</td>\n",
       "      <td>0</td>\n",
       "      <td>0</td>\n",
       "      <td>0</td>\n",
       "      <td>0</td>\n",
       "      <td>0</td>\n",
       "      <td>0</td>\n",
       "      <td>0</td>\n",
       "      <td>0</td>\n",
       "      <td>0</td>\n",
       "      <td>0</td>\n",
       "      <td>0</td>\n",
       "      <td>0</td>\n",
       "      <td>0</td>\n",
       "      <td>0</td>\n",
       "      <td>0</td>\n",
       "      <td>0</td>\n",
       "      <td>0</td>\n",
       "      <td>0</td>\n",
       "      <td>0</td>\n",
       "      <td>0</td>\n",
       "      <td>0</td>\n",
       "      <td>0</td>\n",
       "      <td>0</td>\n",
       "      <td>0</td>\n",
       "      <td>0</td>\n",
       "      <td>0</td>\n",
       "      <td>0</td>\n",
       "      <td>0</td>\n",
       "      <td>0</td>\n",
       "      <td>0</td>\n",
       "      <td>0</td>\n",
       "      <td>0</td>\n",
       "      <td>0</td>\n",
       "      <td>0</td>\n",
       "      <td>0</td>\n",
       "      <td>0</td>\n",
       "      <td>0</td>\n",
       "      <td>0</td>\n",
       "      <td>0</td>\n",
       "      <td>0</td>\n",
       "      <td>0</td>\n",
       "      <td>0</td>\n",
       "      <td>0</td>\n",
       "      <td>0</td>\n",
       "      <td>0</td>\n",
       "      <td>0</td>\n",
       "      <td>0</td>\n",
       "      <td>0</td>\n",
       "      <td>0</td>\n",
       "      <td>0</td>\n",
       "      <td>0</td>\n",
       "      <td>0</td>\n",
       "      <td>0</td>\n",
       "      <td>0</td>\n",
       "      <td>0</td>\n",
       "      <td>0</td>\n",
       "      <td>0</td>\n",
       "      <td>0</td>\n",
       "      <td>0</td>\n",
       "      <td>0</td>\n",
       "      <td>0</td>\n",
       "      <td>0</td>\n",
       "      <td>0</td>\n",
       "      <td>0</td>\n",
       "      <td>0</td>\n",
       "      <td>0</td>\n",
       "      <td>0</td>\n",
       "      <td>0</td>\n",
       "      <td>0</td>\n",
       "      <td>0</td>\n",
       "      <td>0</td>\n",
       "      <td>0</td>\n",
       "      <td>0</td>\n",
       "      <td>0</td>\n",
       "      <td>0</td>\n",
       "      <td>0</td>\n",
       "      <td>0</td>\n",
       "      <td>0</td>\n",
       "      <td>0</td>\n",
       "      <td>0</td>\n",
       "      <td>0</td>\n",
       "      <td>0</td>\n",
       "      <td>0</td>\n",
       "      <td>0</td>\n",
       "      <td>0</td>\n",
       "      <td>0</td>\n",
       "      <td>0</td>\n",
       "      <td>0</td>\n",
       "      <td>0</td>\n",
       "      <td>0</td>\n",
       "      <td>0</td>\n",
       "      <td>0</td>\n",
       "      <td>0</td>\n",
       "      <td>0</td>\n",
       "      <td>0</td>\n",
       "      <td>0</td>\n",
       "      <td>0</td>\n",
       "      <td>0</td>\n",
       "      <td>0</td>\n",
       "      <td>0</td>\n",
       "      <td>0</td>\n",
       "      <td>0</td>\n",
       "      <td>0</td>\n",
       "      <td>0</td>\n",
       "      <td>0</td>\n",
       "      <td>0</td>\n",
       "      <td>0</td>\n",
       "      <td>0</td>\n",
       "      <td>0</td>\n",
       "      <td>0</td>\n",
       "      <td>0</td>\n",
       "      <td>0</td>\n",
       "      <td>0</td>\n",
       "      <td>0</td>\n",
       "      <td>0</td>\n",
       "      <td>0</td>\n",
       "      <td>0</td>\n",
       "      <td>0</td>\n",
       "      <td>0</td>\n",
       "      <td>0</td>\n",
       "      <td>0</td>\n",
       "      <td>0</td>\n",
       "      <td>0</td>\n",
       "      <td>0</td>\n",
       "      <td>0</td>\n",
       "      <td>0</td>\n",
       "      <td>0</td>\n",
       "      <td>0</td>\n",
       "      <td>0</td>\n",
       "      <td>0</td>\n",
       "      <td>0</td>\n",
       "      <td>0</td>\n",
       "      <td>0</td>\n",
       "      <td>0</td>\n",
       "      <td>0</td>\n",
       "      <td>0</td>\n",
       "      <td>0</td>\n",
       "      <td>0</td>\n",
       "      <td>0</td>\n",
       "      <td>0</td>\n",
       "      <td>0</td>\n",
       "      <td>0</td>\n",
       "      <td>0</td>\n",
       "      <td>0</td>\n",
       "      <td>0</td>\n",
       "      <td>0</td>\n",
       "      <td>0</td>\n",
       "      <td>0</td>\n",
       "      <td>0</td>\n",
       "      <td>0</td>\n",
       "      <td>0</td>\n",
       "      <td>0</td>\n",
       "      <td>0</td>\n",
       "      <td>0</td>\n",
       "      <td>0</td>\n",
       "      <td>0</td>\n",
       "      <td>0</td>\n",
       "      <td>0</td>\n",
       "      <td>0</td>\n",
       "      <td>0</td>\n",
       "      <td>0</td>\n",
       "      <td>0</td>\n",
       "      <td>0</td>\n",
       "      <td>1</td>\n",
       "      <td>0</td>\n",
       "      <td>0</td>\n",
       "      <td>0</td>\n",
       "      <td>0</td>\n",
       "      <td>0</td>\n",
       "      <td>0</td>\n",
       "      <td>0</td>\n",
       "      <td>0</td>\n",
       "      <td>0</td>\n",
       "      <td>0</td>\n",
       "      <td>0</td>\n",
       "      <td>0</td>\n",
       "      <td>0</td>\n",
       "      <td>0</td>\n",
       "      <td>0</td>\n",
       "      <td>0</td>\n",
       "      <td>0</td>\n",
       "      <td>0</td>\n",
       "      <td>0</td>\n",
       "      <td>0</td>\n",
       "      <td>0</td>\n",
       "      <td>0</td>\n",
       "      <td>0</td>\n",
       "      <td>0</td>\n",
       "      <td>0</td>\n",
       "      <td>0</td>\n",
       "      <td>0</td>\n",
       "      <td>0</td>\n",
       "      <td>0</td>\n",
       "      <td>0</td>\n",
       "      <td>0</td>\n",
       "      <td>0</td>\n",
       "      <td>0</td>\n",
       "      <td>0</td>\n",
       "      <td>0</td>\n",
       "      <td>0</td>\n",
       "      <td>0</td>\n",
       "      <td>0</td>\n",
       "      <td>0</td>\n",
       "      <td>0</td>\n",
       "      <td>0</td>\n",
       "      <td>0</td>\n",
       "      <td>0</td>\n",
       "      <td>0</td>\n",
       "      <td>0</td>\n",
       "      <td>0</td>\n",
       "      <td>0</td>\n",
       "      <td>0</td>\n",
       "      <td>0</td>\n",
       "      <td>0</td>\n",
       "      <td>0</td>\n",
       "      <td>0</td>\n",
       "      <td>0</td>\n",
       "      <td>0</td>\n",
       "      <td>0</td>\n",
       "      <td>0</td>\n",
       "      <td>0</td>\n",
       "      <td>0</td>\n",
       "      <td>0</td>\n",
       "      <td>0</td>\n",
       "      <td>0</td>\n",
       "      <td>0</td>\n",
       "      <td>0</td>\n",
       "      <td>0</td>\n",
       "      <td>0</td>\n",
       "      <td>0</td>\n",
       "      <td>0</td>\n",
       "      <td>0</td>\n",
       "      <td>0</td>\n",
       "      <td>0</td>\n",
       "      <td>0</td>\n",
       "      <td>0</td>\n",
       "      <td>0</td>\n",
       "      <td>0</td>\n",
       "      <td>0</td>\n",
       "      <td>0</td>\n",
       "      <td>0</td>\n",
       "      <td>0</td>\n",
       "      <td>0</td>\n",
       "      <td>0</td>\n",
       "      <td>0</td>\n",
       "      <td>0</td>\n",
       "      <td>0</td>\n",
       "      <td>0</td>\n",
       "      <td>0</td>\n",
       "      <td>0</td>\n",
       "      <td>0</td>\n",
       "      <td>0</td>\n",
       "      <td>1</td>\n",
       "      <td>0</td>\n",
       "      <td>0</td>\n",
       "      <td>0</td>\n",
       "      <td>0</td>\n",
       "      <td>0</td>\n",
       "      <td>0</td>\n",
       "      <td>0</td>\n",
       "      <td>0</td>\n",
       "      <td>0</td>\n",
       "      <td>0</td>\n",
       "      <td>0</td>\n",
       "      <td>0</td>\n",
       "      <td>0</td>\n",
       "      <td>0</td>\n",
       "      <td>0</td>\n",
       "      <td>0</td>\n",
       "      <td>0</td>\n",
       "      <td>0</td>\n",
       "      <td>0</td>\n",
       "      <td>0</td>\n",
       "      <td>0</td>\n",
       "      <td>0</td>\n",
       "      <td>0</td>\n",
       "      <td>0</td>\n",
       "      <td>0</td>\n",
       "      <td>0</td>\n",
       "      <td>0</td>\n",
       "      <td>0</td>\n",
       "      <td>0</td>\n",
       "      <td>0</td>\n",
       "      <td>0</td>\n",
       "      <td>0</td>\n",
       "      <td>0</td>\n",
       "      <td>0</td>\n",
       "      <td>0</td>\n",
       "      <td>0</td>\n",
       "      <td>0</td>\n",
       "      <td>1</td>\n",
       "      <td>0</td>\n",
       "      <td>1</td>\n",
       "      <td>0</td>\n",
       "    </tr>\n",
       "    <tr>\n",
       "      <th>322856</th>\n",
       "      <td>0.336757</td>\n",
       "      <td>-0.062080</td>\n",
       "      <td>0.599638</td>\n",
       "      <td>0</td>\n",
       "      <td>0</td>\n",
       "      <td>0</td>\n",
       "      <td>0</td>\n",
       "      <td>0</td>\n",
       "      <td>0</td>\n",
       "      <td>0</td>\n",
       "      <td>0</td>\n",
       "      <td>0</td>\n",
       "      <td>1</td>\n",
       "      <td>0</td>\n",
       "      <td>0</td>\n",
       "      <td>0</td>\n",
       "      <td>0</td>\n",
       "      <td>0</td>\n",
       "      <td>0</td>\n",
       "      <td>0</td>\n",
       "      <td>0</td>\n",
       "      <td>0</td>\n",
       "      <td>0</td>\n",
       "      <td>0</td>\n",
       "      <td>0</td>\n",
       "      <td>0</td>\n",
       "      <td>0</td>\n",
       "      <td>0</td>\n",
       "      <td>0</td>\n",
       "      <td>0</td>\n",
       "      <td>0</td>\n",
       "      <td>0</td>\n",
       "      <td>0</td>\n",
       "      <td>0</td>\n",
       "      <td>0</td>\n",
       "      <td>0</td>\n",
       "      <td>0</td>\n",
       "      <td>0</td>\n",
       "      <td>0</td>\n",
       "      <td>0</td>\n",
       "      <td>0</td>\n",
       "      <td>0</td>\n",
       "      <td>0</td>\n",
       "      <td>0</td>\n",
       "      <td>0</td>\n",
       "      <td>0</td>\n",
       "      <td>0</td>\n",
       "      <td>0</td>\n",
       "      <td>0</td>\n",
       "      <td>0</td>\n",
       "      <td>0</td>\n",
       "      <td>0</td>\n",
       "      <td>0</td>\n",
       "      <td>0</td>\n",
       "      <td>0</td>\n",
       "      <td>1</td>\n",
       "      <td>0</td>\n",
       "      <td>0</td>\n",
       "      <td>0</td>\n",
       "      <td>0</td>\n",
       "      <td>0</td>\n",
       "      <td>0</td>\n",
       "      <td>0</td>\n",
       "      <td>0</td>\n",
       "      <td>0</td>\n",
       "      <td>0</td>\n",
       "      <td>0</td>\n",
       "      <td>0</td>\n",
       "      <td>0</td>\n",
       "      <td>0</td>\n",
       "      <td>0</td>\n",
       "      <td>0</td>\n",
       "      <td>0</td>\n",
       "      <td>0</td>\n",
       "      <td>0</td>\n",
       "      <td>0</td>\n",
       "      <td>0</td>\n",
       "      <td>0</td>\n",
       "      <td>0</td>\n",
       "      <td>0</td>\n",
       "      <td>0</td>\n",
       "      <td>0</td>\n",
       "      <td>0</td>\n",
       "      <td>0</td>\n",
       "      <td>0</td>\n",
       "      <td>0</td>\n",
       "      <td>0</td>\n",
       "      <td>0</td>\n",
       "      <td>0</td>\n",
       "      <td>0</td>\n",
       "      <td>0</td>\n",
       "      <td>0</td>\n",
       "      <td>0</td>\n",
       "      <td>0</td>\n",
       "      <td>0</td>\n",
       "      <td>0</td>\n",
       "      <td>0</td>\n",
       "      <td>0</td>\n",
       "      <td>0</td>\n",
       "      <td>0</td>\n",
       "      <td>0</td>\n",
       "      <td>0</td>\n",
       "      <td>0</td>\n",
       "      <td>0</td>\n",
       "      <td>0</td>\n",
       "      <td>0</td>\n",
       "      <td>0</td>\n",
       "      <td>0</td>\n",
       "      <td>0</td>\n",
       "      <td>0</td>\n",
       "      <td>0</td>\n",
       "      <td>0</td>\n",
       "      <td>0</td>\n",
       "      <td>0</td>\n",
       "      <td>0</td>\n",
       "      <td>0</td>\n",
       "      <td>0</td>\n",
       "      <td>0</td>\n",
       "      <td>0</td>\n",
       "      <td>0</td>\n",
       "      <td>0</td>\n",
       "      <td>0</td>\n",
       "      <td>0</td>\n",
       "      <td>0</td>\n",
       "      <td>0</td>\n",
       "      <td>0</td>\n",
       "      <td>0</td>\n",
       "      <td>0</td>\n",
       "      <td>0</td>\n",
       "      <td>0</td>\n",
       "      <td>0</td>\n",
       "      <td>0</td>\n",
       "      <td>0</td>\n",
       "      <td>0</td>\n",
       "      <td>0</td>\n",
       "      <td>0</td>\n",
       "      <td>0</td>\n",
       "      <td>0</td>\n",
       "      <td>0</td>\n",
       "      <td>0</td>\n",
       "      <td>0</td>\n",
       "      <td>0</td>\n",
       "      <td>0</td>\n",
       "      <td>0</td>\n",
       "      <td>0</td>\n",
       "      <td>0</td>\n",
       "      <td>0</td>\n",
       "      <td>0</td>\n",
       "      <td>0</td>\n",
       "      <td>0</td>\n",
       "      <td>0</td>\n",
       "      <td>0</td>\n",
       "      <td>0</td>\n",
       "      <td>0</td>\n",
       "      <td>0</td>\n",
       "      <td>0</td>\n",
       "      <td>0</td>\n",
       "      <td>0</td>\n",
       "      <td>0</td>\n",
       "      <td>0</td>\n",
       "      <td>0</td>\n",
       "      <td>0</td>\n",
       "      <td>0</td>\n",
       "      <td>0</td>\n",
       "      <td>0</td>\n",
       "      <td>0</td>\n",
       "      <td>0</td>\n",
       "      <td>0</td>\n",
       "      <td>0</td>\n",
       "      <td>0</td>\n",
       "      <td>0</td>\n",
       "      <td>0</td>\n",
       "      <td>0</td>\n",
       "      <td>0</td>\n",
       "      <td>0</td>\n",
       "      <td>0</td>\n",
       "      <td>0</td>\n",
       "      <td>0</td>\n",
       "      <td>0</td>\n",
       "      <td>0</td>\n",
       "      <td>0</td>\n",
       "      <td>0</td>\n",
       "      <td>0</td>\n",
       "      <td>0</td>\n",
       "      <td>0</td>\n",
       "      <td>0</td>\n",
       "      <td>0</td>\n",
       "      <td>0</td>\n",
       "      <td>0</td>\n",
       "      <td>0</td>\n",
       "      <td>0</td>\n",
       "      <td>0</td>\n",
       "      <td>0</td>\n",
       "      <td>0</td>\n",
       "      <td>0</td>\n",
       "      <td>0</td>\n",
       "      <td>0</td>\n",
       "      <td>0</td>\n",
       "      <td>0</td>\n",
       "      <td>0</td>\n",
       "      <td>0</td>\n",
       "      <td>0</td>\n",
       "      <td>0</td>\n",
       "      <td>0</td>\n",
       "      <td>0</td>\n",
       "      <td>0</td>\n",
       "      <td>0</td>\n",
       "      <td>0</td>\n",
       "      <td>0</td>\n",
       "      <td>0</td>\n",
       "      <td>0</td>\n",
       "      <td>0</td>\n",
       "      <td>0</td>\n",
       "      <td>0</td>\n",
       "      <td>0</td>\n",
       "      <td>0</td>\n",
       "      <td>0</td>\n",
       "      <td>0</td>\n",
       "      <td>0</td>\n",
       "      <td>0</td>\n",
       "      <td>0</td>\n",
       "      <td>0</td>\n",
       "      <td>0</td>\n",
       "      <td>0</td>\n",
       "      <td>0</td>\n",
       "      <td>0</td>\n",
       "      <td>0</td>\n",
       "      <td>0</td>\n",
       "      <td>0</td>\n",
       "      <td>0</td>\n",
       "      <td>0</td>\n",
       "      <td>0</td>\n",
       "      <td>0</td>\n",
       "      <td>0</td>\n",
       "      <td>0</td>\n",
       "      <td>0</td>\n",
       "      <td>0</td>\n",
       "      <td>0</td>\n",
       "      <td>0</td>\n",
       "      <td>0</td>\n",
       "      <td>0</td>\n",
       "      <td>0</td>\n",
       "      <td>0</td>\n",
       "      <td>0</td>\n",
       "      <td>0</td>\n",
       "      <td>0</td>\n",
       "      <td>0</td>\n",
       "      <td>0</td>\n",
       "      <td>0</td>\n",
       "      <td>0</td>\n",
       "      <td>0</td>\n",
       "      <td>0</td>\n",
       "      <td>0</td>\n",
       "      <td>0</td>\n",
       "      <td>0</td>\n",
       "      <td>0</td>\n",
       "      <td>0</td>\n",
       "      <td>0</td>\n",
       "      <td>0</td>\n",
       "      <td>0</td>\n",
       "      <td>0</td>\n",
       "      <td>0</td>\n",
       "      <td>0</td>\n",
       "      <td>0</td>\n",
       "      <td>0</td>\n",
       "      <td>0</td>\n",
       "      <td>0</td>\n",
       "      <td>0</td>\n",
       "      <td>1</td>\n",
       "      <td>0</td>\n",
       "      <td>0</td>\n",
       "      <td>0</td>\n",
       "      <td>0</td>\n",
       "      <td>0</td>\n",
       "      <td>0</td>\n",
       "      <td>0</td>\n",
       "      <td>0</td>\n",
       "      <td>0</td>\n",
       "      <td>0</td>\n",
       "      <td>0</td>\n",
       "      <td>0</td>\n",
       "      <td>0</td>\n",
       "      <td>0</td>\n",
       "      <td>0</td>\n",
       "      <td>0</td>\n",
       "      <td>0</td>\n",
       "      <td>0</td>\n",
       "      <td>0</td>\n",
       "      <td>0</td>\n",
       "      <td>0</td>\n",
       "      <td>0</td>\n",
       "      <td>0</td>\n",
       "      <td>1</td>\n",
       "      <td>0</td>\n",
       "      <td>0</td>\n",
       "      <td>0</td>\n",
       "      <td>0</td>\n",
       "      <td>0</td>\n",
       "      <td>0</td>\n",
       "      <td>0</td>\n",
       "      <td>0</td>\n",
       "      <td>0</td>\n",
       "      <td>0</td>\n",
       "      <td>0</td>\n",
       "      <td>0</td>\n",
       "      <td>0</td>\n",
       "      <td>0</td>\n",
       "      <td>0</td>\n",
       "      <td>0</td>\n",
       "      <td>0</td>\n",
       "    </tr>\n",
       "    <tr>\n",
       "      <th>114679</th>\n",
       "      <td>-1.069631</td>\n",
       "      <td>-1.701561</td>\n",
       "      <td>0.599638</td>\n",
       "      <td>0</td>\n",
       "      <td>0</td>\n",
       "      <td>0</td>\n",
       "      <td>0</td>\n",
       "      <td>0</td>\n",
       "      <td>1</td>\n",
       "      <td>0</td>\n",
       "      <td>0</td>\n",
       "      <td>0</td>\n",
       "      <td>1</td>\n",
       "      <td>0</td>\n",
       "      <td>0</td>\n",
       "      <td>0</td>\n",
       "      <td>0</td>\n",
       "      <td>0</td>\n",
       "      <td>0</td>\n",
       "      <td>0</td>\n",
       "      <td>0</td>\n",
       "      <td>0</td>\n",
       "      <td>0</td>\n",
       "      <td>0</td>\n",
       "      <td>0</td>\n",
       "      <td>0</td>\n",
       "      <td>0</td>\n",
       "      <td>0</td>\n",
       "      <td>0</td>\n",
       "      <td>0</td>\n",
       "      <td>0</td>\n",
       "      <td>0</td>\n",
       "      <td>0</td>\n",
       "      <td>0</td>\n",
       "      <td>0</td>\n",
       "      <td>0</td>\n",
       "      <td>0</td>\n",
       "      <td>0</td>\n",
       "      <td>1</td>\n",
       "      <td>0</td>\n",
       "      <td>0</td>\n",
       "      <td>0</td>\n",
       "      <td>0</td>\n",
       "      <td>0</td>\n",
       "      <td>0</td>\n",
       "      <td>0</td>\n",
       "      <td>0</td>\n",
       "      <td>0</td>\n",
       "      <td>0</td>\n",
       "      <td>0</td>\n",
       "      <td>0</td>\n",
       "      <td>0</td>\n",
       "      <td>0</td>\n",
       "      <td>0</td>\n",
       "      <td>0</td>\n",
       "      <td>0</td>\n",
       "      <td>0</td>\n",
       "      <td>0</td>\n",
       "      <td>0</td>\n",
       "      <td>0</td>\n",
       "      <td>0</td>\n",
       "      <td>0</td>\n",
       "      <td>0</td>\n",
       "      <td>0</td>\n",
       "      <td>0</td>\n",
       "      <td>0</td>\n",
       "      <td>0</td>\n",
       "      <td>0</td>\n",
       "      <td>0</td>\n",
       "      <td>0</td>\n",
       "      <td>0</td>\n",
       "      <td>0</td>\n",
       "      <td>0</td>\n",
       "      <td>0</td>\n",
       "      <td>0</td>\n",
       "      <td>0</td>\n",
       "      <td>0</td>\n",
       "      <td>0</td>\n",
       "      <td>0</td>\n",
       "      <td>0</td>\n",
       "      <td>0</td>\n",
       "      <td>0</td>\n",
       "      <td>0</td>\n",
       "      <td>0</td>\n",
       "      <td>0</td>\n",
       "      <td>0</td>\n",
       "      <td>0</td>\n",
       "      <td>0</td>\n",
       "      <td>0</td>\n",
       "      <td>0</td>\n",
       "      <td>0</td>\n",
       "      <td>0</td>\n",
       "      <td>0</td>\n",
       "      <td>0</td>\n",
       "      <td>0</td>\n",
       "      <td>0</td>\n",
       "      <td>0</td>\n",
       "      <td>0</td>\n",
       "      <td>0</td>\n",
       "      <td>0</td>\n",
       "      <td>0</td>\n",
       "      <td>0</td>\n",
       "      <td>0</td>\n",
       "      <td>0</td>\n",
       "      <td>0</td>\n",
       "      <td>0</td>\n",
       "      <td>0</td>\n",
       "      <td>0</td>\n",
       "      <td>0</td>\n",
       "      <td>0</td>\n",
       "      <td>0</td>\n",
       "      <td>0</td>\n",
       "      <td>0</td>\n",
       "      <td>0</td>\n",
       "      <td>0</td>\n",
       "      <td>0</td>\n",
       "      <td>0</td>\n",
       "      <td>0</td>\n",
       "      <td>0</td>\n",
       "      <td>0</td>\n",
       "      <td>0</td>\n",
       "      <td>0</td>\n",
       "      <td>0</td>\n",
       "      <td>0</td>\n",
       "      <td>0</td>\n",
       "      <td>0</td>\n",
       "      <td>0</td>\n",
       "      <td>0</td>\n",
       "      <td>0</td>\n",
       "      <td>0</td>\n",
       "      <td>0</td>\n",
       "      <td>0</td>\n",
       "      <td>0</td>\n",
       "      <td>0</td>\n",
       "      <td>0</td>\n",
       "      <td>0</td>\n",
       "      <td>0</td>\n",
       "      <td>0</td>\n",
       "      <td>0</td>\n",
       "      <td>0</td>\n",
       "      <td>0</td>\n",
       "      <td>0</td>\n",
       "      <td>0</td>\n",
       "      <td>0</td>\n",
       "      <td>0</td>\n",
       "      <td>0</td>\n",
       "      <td>0</td>\n",
       "      <td>0</td>\n",
       "      <td>0</td>\n",
       "      <td>0</td>\n",
       "      <td>0</td>\n",
       "      <td>0</td>\n",
       "      <td>0</td>\n",
       "      <td>0</td>\n",
       "      <td>0</td>\n",
       "      <td>0</td>\n",
       "      <td>0</td>\n",
       "      <td>0</td>\n",
       "      <td>0</td>\n",
       "      <td>0</td>\n",
       "      <td>0</td>\n",
       "      <td>0</td>\n",
       "      <td>0</td>\n",
       "      <td>0</td>\n",
       "      <td>0</td>\n",
       "      <td>0</td>\n",
       "      <td>0</td>\n",
       "      <td>0</td>\n",
       "      <td>0</td>\n",
       "      <td>0</td>\n",
       "      <td>0</td>\n",
       "      <td>0</td>\n",
       "      <td>0</td>\n",
       "      <td>0</td>\n",
       "      <td>0</td>\n",
       "      <td>0</td>\n",
       "      <td>0</td>\n",
       "      <td>0</td>\n",
       "      <td>0</td>\n",
       "      <td>0</td>\n",
       "      <td>0</td>\n",
       "      <td>0</td>\n",
       "      <td>0</td>\n",
       "      <td>0</td>\n",
       "      <td>0</td>\n",
       "      <td>0</td>\n",
       "      <td>0</td>\n",
       "      <td>0</td>\n",
       "      <td>0</td>\n",
       "      <td>0</td>\n",
       "      <td>0</td>\n",
       "      <td>0</td>\n",
       "      <td>0</td>\n",
       "      <td>0</td>\n",
       "      <td>0</td>\n",
       "      <td>0</td>\n",
       "      <td>0</td>\n",
       "      <td>0</td>\n",
       "      <td>0</td>\n",
       "      <td>0</td>\n",
       "      <td>0</td>\n",
       "      <td>0</td>\n",
       "      <td>0</td>\n",
       "      <td>0</td>\n",
       "      <td>0</td>\n",
       "      <td>0</td>\n",
       "      <td>0</td>\n",
       "      <td>0</td>\n",
       "      <td>0</td>\n",
       "      <td>0</td>\n",
       "      <td>0</td>\n",
       "      <td>0</td>\n",
       "      <td>0</td>\n",
       "      <td>0</td>\n",
       "      <td>0</td>\n",
       "      <td>0</td>\n",
       "      <td>0</td>\n",
       "      <td>0</td>\n",
       "      <td>0</td>\n",
       "      <td>0</td>\n",
       "      <td>0</td>\n",
       "      <td>0</td>\n",
       "      <td>0</td>\n",
       "      <td>0</td>\n",
       "      <td>0</td>\n",
       "      <td>0</td>\n",
       "      <td>0</td>\n",
       "      <td>0</td>\n",
       "      <td>0</td>\n",
       "      <td>0</td>\n",
       "      <td>0</td>\n",
       "      <td>0</td>\n",
       "      <td>0</td>\n",
       "      <td>0</td>\n",
       "      <td>0</td>\n",
       "      <td>0</td>\n",
       "      <td>0</td>\n",
       "      <td>0</td>\n",
       "      <td>0</td>\n",
       "      <td>0</td>\n",
       "      <td>0</td>\n",
       "      <td>0</td>\n",
       "      <td>0</td>\n",
       "      <td>0</td>\n",
       "      <td>0</td>\n",
       "      <td>0</td>\n",
       "      <td>0</td>\n",
       "      <td>0</td>\n",
       "      <td>0</td>\n",
       "      <td>0</td>\n",
       "      <td>0</td>\n",
       "      <td>0</td>\n",
       "      <td>0</td>\n",
       "      <td>0</td>\n",
       "      <td>0</td>\n",
       "      <td>0</td>\n",
       "      <td>0</td>\n",
       "      <td>0</td>\n",
       "      <td>0</td>\n",
       "      <td>0</td>\n",
       "      <td>0</td>\n",
       "      <td>0</td>\n",
       "      <td>0</td>\n",
       "      <td>0</td>\n",
       "      <td>0</td>\n",
       "      <td>0</td>\n",
       "      <td>0</td>\n",
       "      <td>0</td>\n",
       "      <td>1</td>\n",
       "      <td>0</td>\n",
       "      <td>0</td>\n",
       "      <td>0</td>\n",
       "      <td>0</td>\n",
       "      <td>0</td>\n",
       "      <td>0</td>\n",
       "      <td>0</td>\n",
       "      <td>0</td>\n",
       "      <td>0</td>\n",
       "      <td>0</td>\n",
       "      <td>0</td>\n",
       "      <td>0</td>\n",
       "      <td>0</td>\n",
       "      <td>0</td>\n",
       "      <td>0</td>\n",
       "      <td>0</td>\n",
       "      <td>0</td>\n",
       "      <td>0</td>\n",
       "      <td>0</td>\n",
       "      <td>0</td>\n",
       "      <td>0</td>\n",
       "      <td>0</td>\n",
       "      <td>0</td>\n",
       "      <td>0</td>\n",
       "      <td>0</td>\n",
       "      <td>0</td>\n",
       "      <td>0</td>\n",
       "      <td>0</td>\n",
       "      <td>0</td>\n",
       "      <td>0</td>\n",
       "      <td>0</td>\n",
       "      <td>0</td>\n",
       "      <td>0</td>\n",
       "      <td>0</td>\n",
       "      <td>0</td>\n",
       "      <td>0</td>\n",
       "      <td>0</td>\n",
       "      <td>1</td>\n",
       "      <td>0</td>\n",
       "      <td>1</td>\n",
       "      <td>0</td>\n",
       "    </tr>\n",
       "    <tr>\n",
       "      <th>312099</th>\n",
       "      <td>1.180590</td>\n",
       "      <td>0.952837</td>\n",
       "      <td>-2.008917</td>\n",
       "      <td>1</td>\n",
       "      <td>0</td>\n",
       "      <td>0</td>\n",
       "      <td>0</td>\n",
       "      <td>0</td>\n",
       "      <td>0</td>\n",
       "      <td>0</td>\n",
       "      <td>0</td>\n",
       "      <td>1</td>\n",
       "      <td>0</td>\n",
       "      <td>0</td>\n",
       "      <td>0</td>\n",
       "      <td>0</td>\n",
       "      <td>0</td>\n",
       "      <td>0</td>\n",
       "      <td>0</td>\n",
       "      <td>0</td>\n",
       "      <td>0</td>\n",
       "      <td>0</td>\n",
       "      <td>0</td>\n",
       "      <td>0</td>\n",
       "      <td>0</td>\n",
       "      <td>0</td>\n",
       "      <td>0</td>\n",
       "      <td>0</td>\n",
       "      <td>0</td>\n",
       "      <td>0</td>\n",
       "      <td>0</td>\n",
       "      <td>0</td>\n",
       "      <td>0</td>\n",
       "      <td>0</td>\n",
       "      <td>0</td>\n",
       "      <td>0</td>\n",
       "      <td>0</td>\n",
       "      <td>0</td>\n",
       "      <td>0</td>\n",
       "      <td>0</td>\n",
       "      <td>0</td>\n",
       "      <td>0</td>\n",
       "      <td>0</td>\n",
       "      <td>0</td>\n",
       "      <td>0</td>\n",
       "      <td>0</td>\n",
       "      <td>0</td>\n",
       "      <td>0</td>\n",
       "      <td>0</td>\n",
       "      <td>0</td>\n",
       "      <td>0</td>\n",
       "      <td>0</td>\n",
       "      <td>0</td>\n",
       "      <td>0</td>\n",
       "      <td>0</td>\n",
       "      <td>0</td>\n",
       "      <td>0</td>\n",
       "      <td>0</td>\n",
       "      <td>0</td>\n",
       "      <td>0</td>\n",
       "      <td>0</td>\n",
       "      <td>0</td>\n",
       "      <td>0</td>\n",
       "      <td>0</td>\n",
       "      <td>0</td>\n",
       "      <td>0</td>\n",
       "      <td>0</td>\n",
       "      <td>0</td>\n",
       "      <td>0</td>\n",
       "      <td>0</td>\n",
       "      <td>0</td>\n",
       "      <td>0</td>\n",
       "      <td>0</td>\n",
       "      <td>0</td>\n",
       "      <td>0</td>\n",
       "      <td>0</td>\n",
       "      <td>0</td>\n",
       "      <td>0</td>\n",
       "      <td>0</td>\n",
       "      <td>0</td>\n",
       "      <td>0</td>\n",
       "      <td>0</td>\n",
       "      <td>0</td>\n",
       "      <td>0</td>\n",
       "      <td>0</td>\n",
       "      <td>0</td>\n",
       "      <td>0</td>\n",
       "      <td>0</td>\n",
       "      <td>0</td>\n",
       "      <td>0</td>\n",
       "      <td>0</td>\n",
       "      <td>0</td>\n",
       "      <td>0</td>\n",
       "      <td>0</td>\n",
       "      <td>0</td>\n",
       "      <td>0</td>\n",
       "      <td>0</td>\n",
       "      <td>0</td>\n",
       "      <td>0</td>\n",
       "      <td>0</td>\n",
       "      <td>0</td>\n",
       "      <td>0</td>\n",
       "      <td>0</td>\n",
       "      <td>0</td>\n",
       "      <td>0</td>\n",
       "      <td>0</td>\n",
       "      <td>0</td>\n",
       "      <td>0</td>\n",
       "      <td>0</td>\n",
       "      <td>0</td>\n",
       "      <td>0</td>\n",
       "      <td>0</td>\n",
       "      <td>0</td>\n",
       "      <td>0</td>\n",
       "      <td>0</td>\n",
       "      <td>0</td>\n",
       "      <td>0</td>\n",
       "      <td>0</td>\n",
       "      <td>0</td>\n",
       "      <td>0</td>\n",
       "      <td>0</td>\n",
       "      <td>0</td>\n",
       "      <td>0</td>\n",
       "      <td>0</td>\n",
       "      <td>0</td>\n",
       "      <td>0</td>\n",
       "      <td>0</td>\n",
       "      <td>0</td>\n",
       "      <td>0</td>\n",
       "      <td>0</td>\n",
       "      <td>0</td>\n",
       "      <td>0</td>\n",
       "      <td>0</td>\n",
       "      <td>0</td>\n",
       "      <td>0</td>\n",
       "      <td>0</td>\n",
       "      <td>0</td>\n",
       "      <td>0</td>\n",
       "      <td>0</td>\n",
       "      <td>0</td>\n",
       "      <td>0</td>\n",
       "      <td>0</td>\n",
       "      <td>0</td>\n",
       "      <td>0</td>\n",
       "      <td>0</td>\n",
       "      <td>0</td>\n",
       "      <td>0</td>\n",
       "      <td>0</td>\n",
       "      <td>0</td>\n",
       "      <td>0</td>\n",
       "      <td>0</td>\n",
       "      <td>0</td>\n",
       "      <td>0</td>\n",
       "      <td>0</td>\n",
       "      <td>0</td>\n",
       "      <td>0</td>\n",
       "      <td>0</td>\n",
       "      <td>0</td>\n",
       "      <td>0</td>\n",
       "      <td>0</td>\n",
       "      <td>0</td>\n",
       "      <td>0</td>\n",
       "      <td>0</td>\n",
       "      <td>0</td>\n",
       "      <td>0</td>\n",
       "      <td>0</td>\n",
       "      <td>0</td>\n",
       "      <td>0</td>\n",
       "      <td>0</td>\n",
       "      <td>0</td>\n",
       "      <td>0</td>\n",
       "      <td>0</td>\n",
       "      <td>0</td>\n",
       "      <td>0</td>\n",
       "      <td>0</td>\n",
       "      <td>0</td>\n",
       "      <td>0</td>\n",
       "      <td>0</td>\n",
       "      <td>0</td>\n",
       "      <td>0</td>\n",
       "      <td>0</td>\n",
       "      <td>0</td>\n",
       "      <td>0</td>\n",
       "      <td>0</td>\n",
       "      <td>0</td>\n",
       "      <td>0</td>\n",
       "      <td>0</td>\n",
       "      <td>0</td>\n",
       "      <td>0</td>\n",
       "      <td>0</td>\n",
       "      <td>0</td>\n",
       "      <td>0</td>\n",
       "      <td>0</td>\n",
       "      <td>0</td>\n",
       "      <td>0</td>\n",
       "      <td>0</td>\n",
       "      <td>0</td>\n",
       "      <td>0</td>\n",
       "      <td>0</td>\n",
       "      <td>0</td>\n",
       "      <td>0</td>\n",
       "      <td>0</td>\n",
       "      <td>0</td>\n",
       "      <td>0</td>\n",
       "      <td>0</td>\n",
       "      <td>0</td>\n",
       "      <td>0</td>\n",
       "      <td>0</td>\n",
       "      <td>0</td>\n",
       "      <td>0</td>\n",
       "      <td>0</td>\n",
       "      <td>0</td>\n",
       "      <td>0</td>\n",
       "      <td>0</td>\n",
       "      <td>0</td>\n",
       "      <td>0</td>\n",
       "      <td>0</td>\n",
       "      <td>0</td>\n",
       "      <td>0</td>\n",
       "      <td>0</td>\n",
       "      <td>0</td>\n",
       "      <td>0</td>\n",
       "      <td>0</td>\n",
       "      <td>0</td>\n",
       "      <td>0</td>\n",
       "      <td>0</td>\n",
       "      <td>0</td>\n",
       "      <td>0</td>\n",
       "      <td>0</td>\n",
       "      <td>0</td>\n",
       "      <td>0</td>\n",
       "      <td>0</td>\n",
       "      <td>0</td>\n",
       "      <td>0</td>\n",
       "      <td>0</td>\n",
       "      <td>1</td>\n",
       "      <td>0</td>\n",
       "      <td>0</td>\n",
       "      <td>0</td>\n",
       "      <td>0</td>\n",
       "      <td>0</td>\n",
       "      <td>0</td>\n",
       "      <td>0</td>\n",
       "      <td>0</td>\n",
       "      <td>0</td>\n",
       "      <td>0</td>\n",
       "      <td>0</td>\n",
       "      <td>0</td>\n",
       "      <td>0</td>\n",
       "      <td>0</td>\n",
       "      <td>0</td>\n",
       "      <td>0</td>\n",
       "      <td>0</td>\n",
       "      <td>0</td>\n",
       "      <td>0</td>\n",
       "      <td>0</td>\n",
       "      <td>0</td>\n",
       "      <td>0</td>\n",
       "      <td>0</td>\n",
       "      <td>0</td>\n",
       "      <td>0</td>\n",
       "      <td>0</td>\n",
       "      <td>0</td>\n",
       "      <td>0</td>\n",
       "      <td>0</td>\n",
       "      <td>0</td>\n",
       "      <td>0</td>\n",
       "      <td>0</td>\n",
       "      <td>1</td>\n",
       "      <td>0</td>\n",
       "      <td>0</td>\n",
       "      <td>0</td>\n",
       "      <td>0</td>\n",
       "      <td>0</td>\n",
       "      <td>0</td>\n",
       "      <td>0</td>\n",
       "      <td>0</td>\n",
       "      <td>0</td>\n",
       "      <td>0</td>\n",
       "      <td>0</td>\n",
       "      <td>0</td>\n",
       "      <td>0</td>\n",
       "      <td>0</td>\n",
       "      <td>0</td>\n",
       "      <td>0</td>\n",
       "      <td>0</td>\n",
       "      <td>0</td>\n",
       "      <td>0</td>\n",
       "      <td>0</td>\n",
       "      <td>0</td>\n",
       "      <td>0</td>\n",
       "      <td>0</td>\n",
       "      <td>0</td>\n",
       "      <td>0</td>\n",
       "      <td>0</td>\n",
       "      <td>0</td>\n",
       "      <td>0</td>\n",
       "      <td>0</td>\n",
       "      <td>0</td>\n",
       "      <td>0</td>\n",
       "      <td>0</td>\n",
       "      <td>0</td>\n",
       "      <td>0</td>\n",
       "      <td>0</td>\n",
       "      <td>0</td>\n",
       "      <td>0</td>\n",
       "      <td>1</td>\n",
       "      <td>0</td>\n",
       "      <td>1</td>\n",
       "      <td>0</td>\n",
       "    </tr>\n",
       "    <tr>\n",
       "      <th>285283</th>\n",
       "      <td>-0.647715</td>\n",
       "      <td>-0.530503</td>\n",
       "      <td>0.599638</td>\n",
       "      <td>0</td>\n",
       "      <td>0</td>\n",
       "      <td>0</td>\n",
       "      <td>0</td>\n",
       "      <td>1</td>\n",
       "      <td>0</td>\n",
       "      <td>0</td>\n",
       "      <td>0</td>\n",
       "      <td>0</td>\n",
       "      <td>0</td>\n",
       "      <td>0</td>\n",
       "      <td>0</td>\n",
       "      <td>0</td>\n",
       "      <td>0</td>\n",
       "      <td>0</td>\n",
       "      <td>0</td>\n",
       "      <td>0</td>\n",
       "      <td>0</td>\n",
       "      <td>0</td>\n",
       "      <td>0</td>\n",
       "      <td>0</td>\n",
       "      <td>0</td>\n",
       "      <td>0</td>\n",
       "      <td>0</td>\n",
       "      <td>0</td>\n",
       "      <td>0</td>\n",
       "      <td>0</td>\n",
       "      <td>0</td>\n",
       "      <td>0</td>\n",
       "      <td>0</td>\n",
       "      <td>0</td>\n",
       "      <td>0</td>\n",
       "      <td>0</td>\n",
       "      <td>0</td>\n",
       "      <td>0</td>\n",
       "      <td>0</td>\n",
       "      <td>0</td>\n",
       "      <td>0</td>\n",
       "      <td>0</td>\n",
       "      <td>0</td>\n",
       "      <td>0</td>\n",
       "      <td>0</td>\n",
       "      <td>0</td>\n",
       "      <td>0</td>\n",
       "      <td>0</td>\n",
       "      <td>0</td>\n",
       "      <td>0</td>\n",
       "      <td>1</td>\n",
       "      <td>0</td>\n",
       "      <td>0</td>\n",
       "      <td>0</td>\n",
       "      <td>0</td>\n",
       "      <td>0</td>\n",
       "      <td>0</td>\n",
       "      <td>0</td>\n",
       "      <td>0</td>\n",
       "      <td>0</td>\n",
       "      <td>0</td>\n",
       "      <td>0</td>\n",
       "      <td>0</td>\n",
       "      <td>0</td>\n",
       "      <td>0</td>\n",
       "      <td>0</td>\n",
       "      <td>0</td>\n",
       "      <td>0</td>\n",
       "      <td>0</td>\n",
       "      <td>0</td>\n",
       "      <td>0</td>\n",
       "      <td>0</td>\n",
       "      <td>0</td>\n",
       "      <td>0</td>\n",
       "      <td>0</td>\n",
       "      <td>0</td>\n",
       "      <td>0</td>\n",
       "      <td>0</td>\n",
       "      <td>0</td>\n",
       "      <td>0</td>\n",
       "      <td>0</td>\n",
       "      <td>0</td>\n",
       "      <td>0</td>\n",
       "      <td>0</td>\n",
       "      <td>0</td>\n",
       "      <td>0</td>\n",
       "      <td>0</td>\n",
       "      <td>0</td>\n",
       "      <td>0</td>\n",
       "      <td>0</td>\n",
       "      <td>0</td>\n",
       "      <td>0</td>\n",
       "      <td>0</td>\n",
       "      <td>0</td>\n",
       "      <td>0</td>\n",
       "      <td>0</td>\n",
       "      <td>0</td>\n",
       "      <td>0</td>\n",
       "      <td>0</td>\n",
       "      <td>0</td>\n",
       "      <td>0</td>\n",
       "      <td>0</td>\n",
       "      <td>0</td>\n",
       "      <td>0</td>\n",
       "      <td>0</td>\n",
       "      <td>0</td>\n",
       "      <td>0</td>\n",
       "      <td>0</td>\n",
       "      <td>0</td>\n",
       "      <td>0</td>\n",
       "      <td>0</td>\n",
       "      <td>0</td>\n",
       "      <td>0</td>\n",
       "      <td>0</td>\n",
       "      <td>0</td>\n",
       "      <td>0</td>\n",
       "      <td>0</td>\n",
       "      <td>0</td>\n",
       "      <td>0</td>\n",
       "      <td>0</td>\n",
       "      <td>0</td>\n",
       "      <td>0</td>\n",
       "      <td>0</td>\n",
       "      <td>0</td>\n",
       "      <td>0</td>\n",
       "      <td>0</td>\n",
       "      <td>0</td>\n",
       "      <td>0</td>\n",
       "      <td>0</td>\n",
       "      <td>0</td>\n",
       "      <td>0</td>\n",
       "      <td>0</td>\n",
       "      <td>0</td>\n",
       "      <td>0</td>\n",
       "      <td>0</td>\n",
       "      <td>0</td>\n",
       "      <td>0</td>\n",
       "      <td>0</td>\n",
       "      <td>0</td>\n",
       "      <td>0</td>\n",
       "      <td>0</td>\n",
       "      <td>0</td>\n",
       "      <td>0</td>\n",
       "      <td>0</td>\n",
       "      <td>0</td>\n",
       "      <td>0</td>\n",
       "      <td>0</td>\n",
       "      <td>0</td>\n",
       "      <td>0</td>\n",
       "      <td>0</td>\n",
       "      <td>0</td>\n",
       "      <td>0</td>\n",
       "      <td>0</td>\n",
       "      <td>0</td>\n",
       "      <td>0</td>\n",
       "      <td>0</td>\n",
       "      <td>0</td>\n",
       "      <td>0</td>\n",
       "      <td>0</td>\n",
       "      <td>0</td>\n",
       "      <td>0</td>\n",
       "      <td>0</td>\n",
       "      <td>0</td>\n",
       "      <td>0</td>\n",
       "      <td>0</td>\n",
       "      <td>0</td>\n",
       "      <td>0</td>\n",
       "      <td>0</td>\n",
       "      <td>0</td>\n",
       "      <td>0</td>\n",
       "      <td>0</td>\n",
       "      <td>0</td>\n",
       "      <td>0</td>\n",
       "      <td>0</td>\n",
       "      <td>0</td>\n",
       "      <td>0</td>\n",
       "      <td>0</td>\n",
       "      <td>0</td>\n",
       "      <td>0</td>\n",
       "      <td>0</td>\n",
       "      <td>0</td>\n",
       "      <td>0</td>\n",
       "      <td>0</td>\n",
       "      <td>0</td>\n",
       "      <td>0</td>\n",
       "      <td>0</td>\n",
       "      <td>0</td>\n",
       "      <td>0</td>\n",
       "      <td>0</td>\n",
       "      <td>0</td>\n",
       "      <td>0</td>\n",
       "      <td>0</td>\n",
       "      <td>0</td>\n",
       "      <td>0</td>\n",
       "      <td>0</td>\n",
       "      <td>0</td>\n",
       "      <td>0</td>\n",
       "      <td>0</td>\n",
       "      <td>0</td>\n",
       "      <td>0</td>\n",
       "      <td>0</td>\n",
       "      <td>0</td>\n",
       "      <td>0</td>\n",
       "      <td>0</td>\n",
       "      <td>0</td>\n",
       "      <td>0</td>\n",
       "      <td>0</td>\n",
       "      <td>0</td>\n",
       "      <td>0</td>\n",
       "      <td>0</td>\n",
       "      <td>0</td>\n",
       "      <td>0</td>\n",
       "      <td>0</td>\n",
       "      <td>0</td>\n",
       "      <td>0</td>\n",
       "      <td>0</td>\n",
       "      <td>0</td>\n",
       "      <td>0</td>\n",
       "      <td>0</td>\n",
       "      <td>0</td>\n",
       "      <td>0</td>\n",
       "      <td>0</td>\n",
       "      <td>0</td>\n",
       "      <td>0</td>\n",
       "      <td>0</td>\n",
       "      <td>0</td>\n",
       "      <td>0</td>\n",
       "      <td>0</td>\n",
       "      <td>0</td>\n",
       "      <td>0</td>\n",
       "      <td>0</td>\n",
       "      <td>0</td>\n",
       "      <td>0</td>\n",
       "      <td>0</td>\n",
       "      <td>0</td>\n",
       "      <td>0</td>\n",
       "      <td>0</td>\n",
       "      <td>0</td>\n",
       "      <td>0</td>\n",
       "      <td>0</td>\n",
       "      <td>0</td>\n",
       "      <td>0</td>\n",
       "      <td>0</td>\n",
       "      <td>0</td>\n",
       "      <td>0</td>\n",
       "      <td>0</td>\n",
       "      <td>0</td>\n",
       "      <td>0</td>\n",
       "      <td>0</td>\n",
       "      <td>0</td>\n",
       "      <td>0</td>\n",
       "      <td>0</td>\n",
       "      <td>0</td>\n",
       "      <td>0</td>\n",
       "      <td>0</td>\n",
       "      <td>0</td>\n",
       "      <td>0</td>\n",
       "      <td>0</td>\n",
       "      <td>0</td>\n",
       "      <td>0</td>\n",
       "      <td>0</td>\n",
       "      <td>0</td>\n",
       "      <td>0</td>\n",
       "      <td>0</td>\n",
       "      <td>0</td>\n",
       "      <td>0</td>\n",
       "      <td>0</td>\n",
       "      <td>0</td>\n",
       "      <td>0</td>\n",
       "      <td>0</td>\n",
       "      <td>0</td>\n",
       "      <td>0</td>\n",
       "      <td>0</td>\n",
       "      <td>0</td>\n",
       "      <td>0</td>\n",
       "      <td>0</td>\n",
       "      <td>0</td>\n",
       "      <td>0</td>\n",
       "      <td>0</td>\n",
       "      <td>0</td>\n",
       "      <td>0</td>\n",
       "      <td>0</td>\n",
       "      <td>0</td>\n",
       "      <td>0</td>\n",
       "      <td>0</td>\n",
       "      <td>0</td>\n",
       "      <td>0</td>\n",
       "      <td>0</td>\n",
       "      <td>0</td>\n",
       "      <td>0</td>\n",
       "      <td>0</td>\n",
       "      <td>1</td>\n",
       "      <td>0</td>\n",
       "      <td>0</td>\n",
       "      <td>0</td>\n",
       "      <td>0</td>\n",
       "      <td>0</td>\n",
       "      <td>0</td>\n",
       "      <td>0</td>\n",
       "      <td>0</td>\n",
       "      <td>0</td>\n",
       "      <td>0</td>\n",
       "      <td>0</td>\n",
       "      <td>0</td>\n",
       "      <td>0</td>\n",
       "      <td>0</td>\n",
       "      <td>0</td>\n",
       "      <td>0</td>\n",
       "      <td>0</td>\n",
       "      <td>0</td>\n",
       "    </tr>\n",
       "  </tbody>\n",
       "</table>\n",
       "</div>"
      ],
      "text/plain": [
       "        RegistrationYear     Power  Kilometer  VehicleType_bus  \\\n",
       "180390         -4.444964 -0.920856  -1.487206                0   \n",
       "322856          0.336757 -0.062080   0.599638                0   \n",
       "114679         -1.069631 -1.701561   0.599638                0   \n",
       "312099          1.180590  0.952837  -2.008917                1   \n",
       "285283         -0.647715 -0.530503   0.599638                0   \n",
       "\n",
       "        VehicleType_convertible  VehicleType_coupe  VehicleType_other  \\\n",
       "180390                        0                  1                  0   \n",
       "322856                        0                  0                  0   \n",
       "114679                        0                  0                  0   \n",
       "312099                        0                  0                  0   \n",
       "285283                        0                  0                  0   \n",
       "\n",
       "        VehicleType_sedan  VehicleType_small  VehicleType_suv  \\\n",
       "180390                  0                  0                0   \n",
       "322856                  0                  0                0   \n",
       "114679                  0                  1                0   \n",
       "312099                  0                  0                0   \n",
       "285283                  1                  0                0   \n",
       "\n",
       "        VehicleType_wagon  Gearbox_auto  Gearbox_manual  Model_145  Model_147  \\\n",
       "180390                  0             0               1          0          0   \n",
       "322856                  0             0               1          0          0   \n",
       "114679                  0             0               1          0          0   \n",
       "312099                  0             1               0          0          0   \n",
       "285283                  0             0               0          0          0   \n",
       "\n",
       "        Model_156  Model_159  Model_1_reihe  Model_1er  Model_200  \\\n",
       "180390          0          0              0          0          0   \n",
       "322856          0          0              0          0          0   \n",
       "114679          0          0              0          0          0   \n",
       "312099          0          0              0          0          0   \n",
       "285283          0          0              0          0          0   \n",
       "\n",
       "        Model_2_reihe  Model_300c  Model_3_reihe  Model_3er  Model_4_reihe  \\\n",
       "180390              0           0              0          0              0   \n",
       "322856              0           0              0          0              0   \n",
       "114679              0           0              0          0              0   \n",
       "312099              0           0              0          0              0   \n",
       "285283              0           0              0          0              0   \n",
       "\n",
       "        Model_500  Model_5_reihe  Model_5er  Model_601  Model_6_reihe  \\\n",
       "180390          0              0          0          0              0   \n",
       "322856          0              0          0          0              0   \n",
       "114679          0              0          0          0              0   \n",
       "312099          0              0          0          0              0   \n",
       "285283          0              0          0          0              0   \n",
       "\n",
       "        Model_6er  Model_7er  Model_80  Model_850  Model_90  Model_900  \\\n",
       "180390          0          0         0          0         0          0   \n",
       "322856          0          0         0          0         0          0   \n",
       "114679          0          0         0          0         0          0   \n",
       "312099          0          0         0          0         0          0   \n",
       "285283          0          0         0          0         0          0   \n",
       "\n",
       "        Model_9000  Model_911  Model_UNKNOWN  Model_a1  Model_a2  Model_a3  \\\n",
       "180390           0          0              0         0         0         0   \n",
       "322856           0          0              0         0         0         0   \n",
       "114679           0          0              1         0         0         0   \n",
       "312099           0          0              0         0         0         0   \n",
       "285283           0          0              0         0         0         0   \n",
       "\n",
       "        Model_a4  Model_a5  Model_a6  Model_a8  Model_a_klasse  Model_accord  \\\n",
       "180390         0         0         0         0               0             0   \n",
       "322856         0         0         0         0               0             0   \n",
       "114679         0         0         0         0               0             0   \n",
       "312099         0         0         0         0               0             0   \n",
       "285283         0         0         0         0               0             0   \n",
       "\n",
       "        Model_agila  Model_alhambra  Model_almera  Model_altea  Model_amarok  \\\n",
       "180390            0               0             0            0             0   \n",
       "322856            0               0             0            0             0   \n",
       "114679            0               0             0            0             0   \n",
       "312099            0               0             0            0             0   \n",
       "285283            0               0             1            0             0   \n",
       "\n",
       "        Model_antara  Model_arosa  Model_astra  Model_auris  Model_avensis  \\\n",
       "180390             0            0            0            0              0   \n",
       "322856             0            0            1            0              0   \n",
       "114679             0            0            0            0              0   \n",
       "312099             0            0            0            0              0   \n",
       "285283             0            0            0            0              0   \n",
       "\n",
       "        Model_aveo  Model_aygo  Model_b_klasse  Model_b_max  Model_beetle  \\\n",
       "180390           0           0               0            0             0   \n",
       "322856           0           0               0            0             0   \n",
       "114679           0           0               0            0             0   \n",
       "312099           0           0               0            0             0   \n",
       "285283           0           0               0            0             0   \n",
       "\n",
       "        Model_berlingo  Model_bora  Model_boxster  Model_bravo  Model_c1  \\\n",
       "180390               0           0              0            0         0   \n",
       "322856               0           0              0            0         0   \n",
       "114679               0           0              0            0         0   \n",
       "312099               0           0              0            0         0   \n",
       "285283               0           0              0            0         0   \n",
       "\n",
       "        Model_c2  Model_c3  Model_c4  Model_c5  Model_c_klasse  Model_c_max  \\\n",
       "180390         0         0         0         0               0            0   \n",
       "322856         0         0         0         0               0            0   \n",
       "114679         0         0         0         0               0            0   \n",
       "312099         0         0         0         0               0            0   \n",
       "285283         0         0         0         0               0            0   \n",
       "\n",
       "        Model_c_reihe  Model_caddy  Model_calibra  Model_captiva  \\\n",
       "180390              0            0              0              0   \n",
       "322856              0            0              0              0   \n",
       "114679              0            0              0              0   \n",
       "312099              0            0              0              0   \n",
       "285283              0            0              0              0   \n",
       "\n",
       "        Model_carisma  Model_carnival  Model_cayenne  Model_cc  Model_ceed  \\\n",
       "180390              0               0              0         0           0   \n",
       "322856              0               0              0         0           0   \n",
       "114679              0               0              0         0           0   \n",
       "312099              0               0              0         0           0   \n",
       "285283              0               0              0         0           0   \n",
       "\n",
       "        Model_charade  Model_cherokee  Model_citigo  Model_civic  Model_cl  \\\n",
       "180390              0               0             0            0         0   \n",
       "322856              0               0             0            0         0   \n",
       "114679              0               0             0            0         0   \n",
       "312099              0               0             0            0         0   \n",
       "285283              0               0             0            0         0   \n",
       "\n",
       "        Model_clio  Model_clk  Model_clubman  Model_colt  Model_combo  \\\n",
       "180390           0          0              0           0            0   \n",
       "322856           0          0              0           0            0   \n",
       "114679           0          0              0           0            0   \n",
       "312099           0          0              0           0            0   \n",
       "285283           0          0              0           0            0   \n",
       "\n",
       "        Model_cooper  Model_cordoba  Model_corolla  Model_corsa  \\\n",
       "180390             0              0              0            0   \n",
       "322856             0              0              0            0   \n",
       "114679             0              0              0            0   \n",
       "312099             0              0              0            0   \n",
       "285283             0              0              0            0   \n",
       "\n",
       "        Model_cr_reihe  Model_croma  Model_crossfire  Model_cuore  \\\n",
       "180390               0            0                0            0   \n",
       "322856               0            0                0            0   \n",
       "114679               0            0                0            0   \n",
       "312099               0            0                0            0   \n",
       "285283               0            0                0            0   \n",
       "\n",
       "        Model_cx_reihe  Model_defender  Model_delta  Model_discovery  \\\n",
       "180390               0               0            0                0   \n",
       "322856               0               0            0                0   \n",
       "114679               0               0            0                0   \n",
       "312099               0               0            0                0   \n",
       "285283               0               0            0                0   \n",
       "\n",
       "        Model_doblo  Model_ducato  Model_duster  Model_e_klasse  \\\n",
       "180390            0             0             0               0   \n",
       "322856            0             0             0               0   \n",
       "114679            0             0             0               0   \n",
       "312099            0             0             0               0   \n",
       "285283            0             0             0               0   \n",
       "\n",
       "        Model_elefantino  Model_eos  Model_escort  Model_espace  Model_exeo  \\\n",
       "180390                 0          0             0             0           0   \n",
       "322856                 0          0             0             0           0   \n",
       "114679                 0          0             0             0           0   \n",
       "312099                 0          0             0             0           0   \n",
       "285283                 0          0             0             0           0   \n",
       "\n",
       "        Model_fabia  Model_fiesta  Model_focus  Model_forester  Model_forfour  \\\n",
       "180390            0             0            0               0              0   \n",
       "322856            0             0            0               0              0   \n",
       "114679            0             0            0               0              0   \n",
       "312099            0             0            0               0              0   \n",
       "285283            0             0            0               0              0   \n",
       "\n",
       "        Model_fortwo  Model_fox  Model_freelander  Model_fusion  \\\n",
       "180390             0          0                 0             0   \n",
       "322856             0          0                 0             0   \n",
       "114679             0          0                 0             0   \n",
       "312099             0          0                 0             0   \n",
       "285283             0          0                 0             0   \n",
       "\n",
       "        Model_g_klasse  Model_galant  Model_galaxy  Model_getz  Model_gl  \\\n",
       "180390               0             0             0           0         0   \n",
       "322856               0             0             0           0         0   \n",
       "114679               0             0             0           0         0   \n",
       "312099               0             0             0           0         0   \n",
       "285283               0             0             0           0         0   \n",
       "\n",
       "        Model_glk  Model_golf  Model_grand  Model_i3  Model_i_reihe  \\\n",
       "180390          0           0            0         0              0   \n",
       "322856          0           0            0         0              0   \n",
       "114679          0           0            0         0              0   \n",
       "312099          0           0            0         0              0   \n",
       "285283          0           0            0         0              0   \n",
       "\n",
       "        Model_ibiza  Model_impreza  Model_insignia  Model_jazz  Model_jetta  \\\n",
       "180390            0              0               0           0            0   \n",
       "322856            0              0               0           0            0   \n",
       "114679            0              0               0           0            0   \n",
       "312099            0              0               0           0            0   \n",
       "285283            0              0               0           0            0   \n",
       "\n",
       "        Model_jimny  Model_juke  Model_justy  Model_ka  Model_kadett  \\\n",
       "180390            0           0            0         0             0   \n",
       "322856            0           0            0         0             0   \n",
       "114679            0           0            0         0             0   \n",
       "312099            0           0            0         0             0   \n",
       "285283            0           0            0         0             0   \n",
       "\n",
       "        Model_kaefer  Model_kalina  Model_kalos  Model_kangoo  Model_kappa  \\\n",
       "180390             0             0            0             0            0   \n",
       "322856             0             0            0             0            0   \n",
       "114679             0             0            0             0            0   \n",
       "312099             0             0            0             0            0   \n",
       "285283             0             0            0             0            0   \n",
       "\n",
       "        Model_kuga  Model_laguna  Model_lancer  Model_lanos  Model_legacy  \\\n",
       "180390           0             0             0            0             0   \n",
       "322856           0             0             0            0             0   \n",
       "114679           0             0             0            0             0   \n",
       "312099           0             0             0            0             0   \n",
       "285283           0             0             0            0             0   \n",
       "\n",
       "        Model_leon  Model_lodgy  Model_logan  Model_lupo  Model_lybra  \\\n",
       "180390           0            0            0           0            0   \n",
       "322856           0            0            0           0            0   \n",
       "114679           0            0            0           0            0   \n",
       "312099           0            0            0           0            0   \n",
       "285283           0            0            0           0            0   \n",
       "\n",
       "        Model_m_klasse  Model_m_reihe  Model_materia  Model_matiz  \\\n",
       "180390               0              0              0            0   \n",
       "322856               0              0              0            0   \n",
       "114679               0              0              0            0   \n",
       "312099               0              0              0            0   \n",
       "285283               0              0              0            0   \n",
       "\n",
       "        Model_megane  Model_meriva  Model_micra  Model_mii  Model_modus  \\\n",
       "180390             0             0            0          0            0   \n",
       "322856             0             0            0          0            0   \n",
       "114679             0             0            0          0            0   \n",
       "312099             0             0            0          0            0   \n",
       "285283             0             0            0          0            0   \n",
       "\n",
       "        Model_mondeo  Model_move  Model_musa  Model_mustang  Model_mx_reihe  \\\n",
       "180390             0           0           0              0               0   \n",
       "322856             0           0           0              0               0   \n",
       "114679             0           0           0              0               0   \n",
       "312099             0           0           0              0               0   \n",
       "285283             0           0           0              0               0   \n",
       "\n",
       "        Model_navara  Model_niva  Model_note  Model_nubira  Model_octavia  \\\n",
       "180390             0           0           0             0              0   \n",
       "322856             0           0           0             0              0   \n",
       "114679             0           0           0             0              0   \n",
       "312099             0           0           0             0              0   \n",
       "285283             0           0           0             0              0   \n",
       "\n",
       "        Model_omega  Model_one  Model_other  Model_outlander  Model_pajero  \\\n",
       "180390            0          0            1                0             0   \n",
       "322856            0          0            0                0             0   \n",
       "114679            0          0            0                0             0   \n",
       "312099            0          0            0                0             0   \n",
       "285283            0          0            0                0             0   \n",
       "\n",
       "        Model_panda  Model_passat  Model_phaeton  Model_picanto  Model_polo  \\\n",
       "180390            0             0              0              0           0   \n",
       "322856            0             0              0              0           0   \n",
       "114679            0             0              0              0           0   \n",
       "312099            0             0              0              0           0   \n",
       "285283            0             0              0              0           0   \n",
       "\n",
       "        Model_primera  Model_ptcruiser  Model_punto  Model_q3  Model_q5  \\\n",
       "180390              0                0            0         0         0   \n",
       "322856              0                0            0         0         0   \n",
       "114679              0                0            0         0         0   \n",
       "312099              0                0            0         0         0   \n",
       "285283              0                0            0         0         0   \n",
       "\n",
       "        Model_q7  Model_qashqai  Model_r19  Model_range_rover  \\\n",
       "180390         0              0          0                  0   \n",
       "322856         0              0          0                  0   \n",
       "114679         0              0          0                  0   \n",
       "312099         0              0          0                  0   \n",
       "285283         0              0          0                  0   \n",
       "\n",
       "        Model_range_rover_evoque  Model_range_rover_sport  Model_rangerover  \\\n",
       "180390                         0                        0                 0   \n",
       "322856                         0                        0                 0   \n",
       "114679                         0                        0                 0   \n",
       "312099                         0                        0                 0   \n",
       "285283                         0                        0                 0   \n",
       "\n",
       "        Model_rav  Model_rio  Model_roadster  Model_roomster  Model_rx_reihe  \\\n",
       "180390          0          0               0               0               0   \n",
       "322856          0          0               0               0               0   \n",
       "114679          0          0               0               0               0   \n",
       "312099          0          0               0               0               0   \n",
       "285283          0          0               0               0               0   \n",
       "\n",
       "        Model_s60  Model_s_klasse  Model_s_max  Model_s_type  Model_samara  \\\n",
       "180390          0               0            0             0             0   \n",
       "322856          0               0            0             0             0   \n",
       "114679          0               0            0             0             0   \n",
       "312099          0               0            0             0             0   \n",
       "285283          0               0            0             0             0   \n",
       "\n",
       "        Model_sandero  Model_santa  Model_scenic  Model_scirocco  \\\n",
       "180390              0            0             0               0   \n",
       "322856              0            0             0               0   \n",
       "114679              0            0             0               0   \n",
       "312099              0            0             0               0   \n",
       "285283              0            0             0               0   \n",
       "\n",
       "        Model_seicento  Model_serie_1  Model_serie_2  Model_serie_3  \\\n",
       "180390               0              0              0              0   \n",
       "322856               0              0              0              0   \n",
       "114679               0              0              0              0   \n",
       "312099               0              0              0              0   \n",
       "285283               0              0              0              0   \n",
       "\n",
       "        Model_sharan  Model_signum  Model_sirion  Model_sl  Model_slk  \\\n",
       "180390             0             0             0         0          0   \n",
       "322856             0             0             0         0          0   \n",
       "114679             0             0             0         0          0   \n",
       "312099             0             0             0         0          0   \n",
       "285283             0             0             0         0          0   \n",
       "\n",
       "        Model_sorento  Model_spark  Model_spider  Model_sportage  \\\n",
       "180390              0            0             0               0   \n",
       "322856              0            0             0               0   \n",
       "114679              0            0             0               0   \n",
       "312099              0            0             0               0   \n",
       "285283              0            0             0               0   \n",
       "\n",
       "        Model_sprinter  Model_stilo  Model_superb  Model_swift  Model_terios  \\\n",
       "180390               0            0             0            0             0   \n",
       "322856               0            0             0            0             0   \n",
       "114679               0            0             0            0             0   \n",
       "312099               0            0             0            0             0   \n",
       "285283               0            0             0            0             0   \n",
       "\n",
       "        Model_tigra  Model_tiguan  Model_toledo  Model_touareg  Model_touran  \\\n",
       "180390            0             0             0              0             0   \n",
       "322856            0             0             0              0             0   \n",
       "114679            0             0             0              0             0   \n",
       "312099            0             0             0              0             1   \n",
       "285283            0             0             0              0             0   \n",
       "\n",
       "        Model_transit  Model_transporter  Model_tt  Model_tucson  \\\n",
       "180390              0                  0         0             0   \n",
       "322856              0                  0         0             0   \n",
       "114679              0                  0         0             0   \n",
       "312099              0                  0         0             0   \n",
       "285283              0                  0         0             0   \n",
       "\n",
       "        Model_twingo  Model_up  Model_v40  Model_v50  Model_v60  Model_v70  \\\n",
       "180390             0         0          0          0          0          0   \n",
       "322856             0         0          0          0          0          0   \n",
       "114679             0         0          0          0          0          0   \n",
       "312099             0         0          0          0          0          0   \n",
       "285283             0         0          0          0          0          0   \n",
       "\n",
       "        Model_v_klasse  Model_vectra  Model_verso  Model_viano  Model_vito  \\\n",
       "180390               0             0            0            0           0   \n",
       "322856               0             0            0            0           0   \n",
       "114679               0             0            0            0           0   \n",
       "312099               0             0            0            0           0   \n",
       "285283               0             0            0            0           0   \n",
       "\n",
       "        Model_vivaro  Model_voyager  Model_wrangler  Model_x_reihe  \\\n",
       "180390             0              0               0              0   \n",
       "322856             0              0               0              0   \n",
       "114679             0              0               0              0   \n",
       "312099             0              0               0              0   \n",
       "285283             0              0               0              0   \n",
       "\n",
       "        Model_x_trail  Model_x_type  Model_xc_reihe  Model_yaris  Model_yeti  \\\n",
       "180390              0             0               0            0           0   \n",
       "322856              0             0               0            0           0   \n",
       "114679              0             0               0            0           0   \n",
       "312099              0             0               0            0           0   \n",
       "285283              0             0               0            0           0   \n",
       "\n",
       "        Model_ypsilon  Model_z_reihe  Model_zafira  FuelType_cng  \\\n",
       "180390              0              0             0             0   \n",
       "322856              0              0             0             0   \n",
       "114679              0              0             0             0   \n",
       "312099              0              0             0             0   \n",
       "285283              0              0             0             0   \n",
       "\n",
       "        FuelType_electric  FuelType_hybrid  FuelType_lpg  FuelType_other  \\\n",
       "180390                  0                0             0               0   \n",
       "322856                  0                0             0               0   \n",
       "114679                  0                0             0               0   \n",
       "312099                  0                0             0               0   \n",
       "285283                  0                0             0               0   \n",
       "\n",
       "        FuelType_petrol  Brand_audi  Brand_bmw  Brand_chevrolet  \\\n",
       "180390                1           0          0                0   \n",
       "322856                1           0          0                0   \n",
       "114679                1           0          0                0   \n",
       "312099                1           0          0                0   \n",
       "285283                0           0          0                0   \n",
       "\n",
       "        Brand_chrysler  Brand_citroen  Brand_dacia  Brand_daewoo  \\\n",
       "180390               0              0            0             0   \n",
       "322856               0              0            0             0   \n",
       "114679               0              0            0             0   \n",
       "312099               0              0            0             0   \n",
       "285283               0              0            0             0   \n",
       "\n",
       "        Brand_daihatsu  Brand_fiat  Brand_ford  Brand_honda  Brand_hyundai  \\\n",
       "180390               0           0           0            0              0   \n",
       "322856               0           0           0            0              0   \n",
       "114679               0           0           0            0              0   \n",
       "312099               0           0           0            0              0   \n",
       "285283               0           0           0            0              0   \n",
       "\n",
       "        Brand_jaguar  Brand_jeep  Brand_kia  Brand_lada  Brand_lancia  \\\n",
       "180390             0           0          0           0             0   \n",
       "322856             0           0          0           0             0   \n",
       "114679             0           0          0           0             0   \n",
       "312099             0           0          0           0             0   \n",
       "285283             0           0          0           0             0   \n",
       "\n",
       "        Brand_land_rover  Brand_mazda  Brand_mercedes_benz  Brand_mini  \\\n",
       "180390                 0            0                    0           0   \n",
       "322856                 0            0                    0           0   \n",
       "114679                 0            0                    0           0   \n",
       "312099                 0            0                    0           0   \n",
       "285283                 0            0                    0           0   \n",
       "\n",
       "        Brand_mitsubishi  Brand_nissan  Brand_opel  Brand_peugeot  \\\n",
       "180390                 0             0           0              0   \n",
       "322856                 0             0           1              0   \n",
       "114679                 0             0           0              0   \n",
       "312099                 0             0           0              0   \n",
       "285283                 0             1           0              0   \n",
       "\n",
       "        Brand_porsche  Brand_renault  Brand_rover  Brand_saab  Brand_seat  \\\n",
       "180390              0              0            0           0           0   \n",
       "322856              0              0            0           0           0   \n",
       "114679              0              0            0           0           0   \n",
       "312099              0              0            0           0           0   \n",
       "285283              0              0            0           0           0   \n",
       "\n",
       "        Brand_skoda  Brand_smart  Brand_sonstige_autos  Brand_subaru  \\\n",
       "180390            0            0                     0             0   \n",
       "322856            0            0                     0             0   \n",
       "114679            0            0                     0             0   \n",
       "312099            0            0                     0             0   \n",
       "285283            0            0                     0             0   \n",
       "\n",
       "        Brand_suzuki  Brand_toyota  Brand_trabant  Brand_volkswagen  \\\n",
       "180390             0             0              0                 1   \n",
       "322856             0             0              0                 0   \n",
       "114679             0             0              0                 1   \n",
       "312099             0             0              0                 1   \n",
       "285283             0             0              0                 0   \n",
       "\n",
       "        Brand_volvo  Repaired_no  Repaired_yes  \n",
       "180390            0            1             0  \n",
       "322856            0            0             0  \n",
       "114679            0            1             0  \n",
       "312099            0            1             0  \n",
       "285283            0            0             0  "
      ]
     },
     "metadata": {},
     "output_type": "display_data"
    },
    {
     "data": {
      "text/html": [
       "<div>\n",
       "<style scoped>\n",
       "    .dataframe tbody tr th:only-of-type {\n",
       "        vertical-align: middle;\n",
       "    }\n",
       "\n",
       "    .dataframe tbody tr th {\n",
       "        vertical-align: top;\n",
       "    }\n",
       "\n",
       "    .dataframe thead th {\n",
       "        text-align: right;\n",
       "    }\n",
       "</style>\n",
       "<table border=\"1\" class=\"dataframe\">\n",
       "  <thead>\n",
       "    <tr style=\"text-align: right;\">\n",
       "      <th></th>\n",
       "      <th>RegistrationYear</th>\n",
       "      <th>Power</th>\n",
       "      <th>Kilometer</th>\n",
       "      <th>VehicleType_bus</th>\n",
       "      <th>VehicleType_convertible</th>\n",
       "      <th>VehicleType_coupe</th>\n",
       "      <th>VehicleType_other</th>\n",
       "      <th>VehicleType_sedan</th>\n",
       "      <th>VehicleType_small</th>\n",
       "      <th>VehicleType_suv</th>\n",
       "      <th>VehicleType_wagon</th>\n",
       "      <th>Gearbox_auto</th>\n",
       "      <th>Gearbox_manual</th>\n",
       "      <th>Model_145</th>\n",
       "      <th>Model_147</th>\n",
       "      <th>Model_156</th>\n",
       "      <th>Model_159</th>\n",
       "      <th>Model_1_reihe</th>\n",
       "      <th>Model_1er</th>\n",
       "      <th>Model_200</th>\n",
       "      <th>Model_2_reihe</th>\n",
       "      <th>Model_300c</th>\n",
       "      <th>Model_3_reihe</th>\n",
       "      <th>Model_3er</th>\n",
       "      <th>Model_4_reihe</th>\n",
       "      <th>Model_500</th>\n",
       "      <th>Model_5_reihe</th>\n",
       "      <th>Model_5er</th>\n",
       "      <th>Model_601</th>\n",
       "      <th>Model_6_reihe</th>\n",
       "      <th>Model_6er</th>\n",
       "      <th>Model_7er</th>\n",
       "      <th>Model_80</th>\n",
       "      <th>Model_850</th>\n",
       "      <th>Model_90</th>\n",
       "      <th>Model_900</th>\n",
       "      <th>Model_9000</th>\n",
       "      <th>Model_911</th>\n",
       "      <th>Model_UNKNOWN</th>\n",
       "      <th>Model_a1</th>\n",
       "      <th>Model_a2</th>\n",
       "      <th>Model_a3</th>\n",
       "      <th>Model_a4</th>\n",
       "      <th>Model_a5</th>\n",
       "      <th>Model_a6</th>\n",
       "      <th>Model_a8</th>\n",
       "      <th>Model_a_klasse</th>\n",
       "      <th>Model_accord</th>\n",
       "      <th>Model_agila</th>\n",
       "      <th>Model_alhambra</th>\n",
       "      <th>Model_almera</th>\n",
       "      <th>Model_altea</th>\n",
       "      <th>Model_amarok</th>\n",
       "      <th>Model_antara</th>\n",
       "      <th>Model_arosa</th>\n",
       "      <th>Model_astra</th>\n",
       "      <th>Model_auris</th>\n",
       "      <th>Model_avensis</th>\n",
       "      <th>Model_aveo</th>\n",
       "      <th>Model_aygo</th>\n",
       "      <th>Model_b_klasse</th>\n",
       "      <th>Model_b_max</th>\n",
       "      <th>Model_beetle</th>\n",
       "      <th>Model_berlingo</th>\n",
       "      <th>Model_bora</th>\n",
       "      <th>Model_boxster</th>\n",
       "      <th>Model_bravo</th>\n",
       "      <th>Model_c1</th>\n",
       "      <th>Model_c2</th>\n",
       "      <th>Model_c3</th>\n",
       "      <th>Model_c4</th>\n",
       "      <th>Model_c5</th>\n",
       "      <th>Model_c_klasse</th>\n",
       "      <th>Model_c_max</th>\n",
       "      <th>Model_c_reihe</th>\n",
       "      <th>Model_caddy</th>\n",
       "      <th>Model_calibra</th>\n",
       "      <th>Model_captiva</th>\n",
       "      <th>Model_carisma</th>\n",
       "      <th>Model_carnival</th>\n",
       "      <th>Model_cayenne</th>\n",
       "      <th>Model_cc</th>\n",
       "      <th>Model_ceed</th>\n",
       "      <th>Model_charade</th>\n",
       "      <th>Model_cherokee</th>\n",
       "      <th>Model_citigo</th>\n",
       "      <th>Model_civic</th>\n",
       "      <th>Model_cl</th>\n",
       "      <th>Model_clio</th>\n",
       "      <th>Model_clk</th>\n",
       "      <th>Model_clubman</th>\n",
       "      <th>Model_colt</th>\n",
       "      <th>Model_combo</th>\n",
       "      <th>Model_cooper</th>\n",
       "      <th>Model_cordoba</th>\n",
       "      <th>Model_corolla</th>\n",
       "      <th>Model_corsa</th>\n",
       "      <th>Model_cr_reihe</th>\n",
       "      <th>Model_croma</th>\n",
       "      <th>Model_crossfire</th>\n",
       "      <th>Model_cuore</th>\n",
       "      <th>Model_cx_reihe</th>\n",
       "      <th>Model_defender</th>\n",
       "      <th>Model_delta</th>\n",
       "      <th>Model_discovery</th>\n",
       "      <th>Model_doblo</th>\n",
       "      <th>Model_ducato</th>\n",
       "      <th>Model_duster</th>\n",
       "      <th>Model_e_klasse</th>\n",
       "      <th>Model_elefantino</th>\n",
       "      <th>Model_eos</th>\n",
       "      <th>Model_escort</th>\n",
       "      <th>Model_espace</th>\n",
       "      <th>Model_exeo</th>\n",
       "      <th>Model_fabia</th>\n",
       "      <th>Model_fiesta</th>\n",
       "      <th>Model_focus</th>\n",
       "      <th>Model_forester</th>\n",
       "      <th>Model_forfour</th>\n",
       "      <th>Model_fortwo</th>\n",
       "      <th>Model_fox</th>\n",
       "      <th>Model_freelander</th>\n",
       "      <th>Model_fusion</th>\n",
       "      <th>Model_g_klasse</th>\n",
       "      <th>Model_galant</th>\n",
       "      <th>Model_galaxy</th>\n",
       "      <th>Model_getz</th>\n",
       "      <th>Model_gl</th>\n",
       "      <th>Model_glk</th>\n",
       "      <th>Model_golf</th>\n",
       "      <th>Model_grand</th>\n",
       "      <th>Model_i3</th>\n",
       "      <th>Model_i_reihe</th>\n",
       "      <th>Model_ibiza</th>\n",
       "      <th>Model_impreza</th>\n",
       "      <th>Model_insignia</th>\n",
       "      <th>Model_jazz</th>\n",
       "      <th>Model_jetta</th>\n",
       "      <th>Model_jimny</th>\n",
       "      <th>Model_juke</th>\n",
       "      <th>Model_justy</th>\n",
       "      <th>Model_ka</th>\n",
       "      <th>Model_kadett</th>\n",
       "      <th>Model_kaefer</th>\n",
       "      <th>Model_kalina</th>\n",
       "      <th>Model_kalos</th>\n",
       "      <th>Model_kangoo</th>\n",
       "      <th>Model_kappa</th>\n",
       "      <th>Model_kuga</th>\n",
       "      <th>Model_laguna</th>\n",
       "      <th>Model_lancer</th>\n",
       "      <th>Model_lanos</th>\n",
       "      <th>Model_legacy</th>\n",
       "      <th>Model_leon</th>\n",
       "      <th>Model_lodgy</th>\n",
       "      <th>Model_logan</th>\n",
       "      <th>Model_lupo</th>\n",
       "      <th>Model_lybra</th>\n",
       "      <th>Model_m_klasse</th>\n",
       "      <th>Model_m_reihe</th>\n",
       "      <th>Model_materia</th>\n",
       "      <th>Model_matiz</th>\n",
       "      <th>Model_megane</th>\n",
       "      <th>Model_meriva</th>\n",
       "      <th>Model_micra</th>\n",
       "      <th>Model_mii</th>\n",
       "      <th>Model_modus</th>\n",
       "      <th>Model_mondeo</th>\n",
       "      <th>Model_move</th>\n",
       "      <th>Model_musa</th>\n",
       "      <th>Model_mustang</th>\n",
       "      <th>Model_mx_reihe</th>\n",
       "      <th>Model_navara</th>\n",
       "      <th>Model_niva</th>\n",
       "      <th>Model_note</th>\n",
       "      <th>Model_nubira</th>\n",
       "      <th>Model_octavia</th>\n",
       "      <th>Model_omega</th>\n",
       "      <th>Model_one</th>\n",
       "      <th>Model_other</th>\n",
       "      <th>Model_outlander</th>\n",
       "      <th>Model_pajero</th>\n",
       "      <th>Model_panda</th>\n",
       "      <th>Model_passat</th>\n",
       "      <th>Model_phaeton</th>\n",
       "      <th>Model_picanto</th>\n",
       "      <th>Model_polo</th>\n",
       "      <th>Model_primera</th>\n",
       "      <th>Model_ptcruiser</th>\n",
       "      <th>Model_punto</th>\n",
       "      <th>Model_q3</th>\n",
       "      <th>Model_q5</th>\n",
       "      <th>Model_q7</th>\n",
       "      <th>Model_qashqai</th>\n",
       "      <th>Model_r19</th>\n",
       "      <th>Model_range_rover</th>\n",
       "      <th>Model_range_rover_evoque</th>\n",
       "      <th>Model_range_rover_sport</th>\n",
       "      <th>Model_rangerover</th>\n",
       "      <th>Model_rav</th>\n",
       "      <th>Model_rio</th>\n",
       "      <th>Model_roadster</th>\n",
       "      <th>Model_roomster</th>\n",
       "      <th>Model_rx_reihe</th>\n",
       "      <th>Model_s60</th>\n",
       "      <th>Model_s_klasse</th>\n",
       "      <th>Model_s_max</th>\n",
       "      <th>Model_s_type</th>\n",
       "      <th>Model_samara</th>\n",
       "      <th>Model_sandero</th>\n",
       "      <th>Model_santa</th>\n",
       "      <th>Model_scenic</th>\n",
       "      <th>Model_scirocco</th>\n",
       "      <th>Model_seicento</th>\n",
       "      <th>Model_serie_1</th>\n",
       "      <th>Model_serie_2</th>\n",
       "      <th>Model_serie_3</th>\n",
       "      <th>Model_sharan</th>\n",
       "      <th>Model_signum</th>\n",
       "      <th>Model_sirion</th>\n",
       "      <th>Model_sl</th>\n",
       "      <th>Model_slk</th>\n",
       "      <th>Model_sorento</th>\n",
       "      <th>Model_spark</th>\n",
       "      <th>Model_spider</th>\n",
       "      <th>Model_sportage</th>\n",
       "      <th>Model_sprinter</th>\n",
       "      <th>Model_stilo</th>\n",
       "      <th>Model_superb</th>\n",
       "      <th>Model_swift</th>\n",
       "      <th>Model_terios</th>\n",
       "      <th>Model_tigra</th>\n",
       "      <th>Model_tiguan</th>\n",
       "      <th>Model_toledo</th>\n",
       "      <th>Model_touareg</th>\n",
       "      <th>Model_touran</th>\n",
       "      <th>Model_transit</th>\n",
       "      <th>Model_transporter</th>\n",
       "      <th>Model_tt</th>\n",
       "      <th>Model_tucson</th>\n",
       "      <th>Model_twingo</th>\n",
       "      <th>Model_up</th>\n",
       "      <th>Model_v40</th>\n",
       "      <th>Model_v50</th>\n",
       "      <th>Model_v60</th>\n",
       "      <th>Model_v70</th>\n",
       "      <th>Model_v_klasse</th>\n",
       "      <th>Model_vectra</th>\n",
       "      <th>Model_verso</th>\n",
       "      <th>Model_viano</th>\n",
       "      <th>Model_vito</th>\n",
       "      <th>Model_vivaro</th>\n",
       "      <th>Model_voyager</th>\n",
       "      <th>Model_wrangler</th>\n",
       "      <th>Model_x_reihe</th>\n",
       "      <th>Model_x_trail</th>\n",
       "      <th>Model_x_type</th>\n",
       "      <th>Model_xc_reihe</th>\n",
       "      <th>Model_yaris</th>\n",
       "      <th>Model_yeti</th>\n",
       "      <th>Model_ypsilon</th>\n",
       "      <th>Model_z_reihe</th>\n",
       "      <th>Model_zafira</th>\n",
       "      <th>FuelType_cng</th>\n",
       "      <th>FuelType_electric</th>\n",
       "      <th>FuelType_hybrid</th>\n",
       "      <th>FuelType_lpg</th>\n",
       "      <th>FuelType_other</th>\n",
       "      <th>FuelType_petrol</th>\n",
       "      <th>Brand_audi</th>\n",
       "      <th>Brand_bmw</th>\n",
       "      <th>Brand_chevrolet</th>\n",
       "      <th>Brand_chrysler</th>\n",
       "      <th>Brand_citroen</th>\n",
       "      <th>Brand_dacia</th>\n",
       "      <th>Brand_daewoo</th>\n",
       "      <th>Brand_daihatsu</th>\n",
       "      <th>Brand_fiat</th>\n",
       "      <th>Brand_ford</th>\n",
       "      <th>Brand_honda</th>\n",
       "      <th>Brand_hyundai</th>\n",
       "      <th>Brand_jaguar</th>\n",
       "      <th>Brand_jeep</th>\n",
       "      <th>Brand_kia</th>\n",
       "      <th>Brand_lada</th>\n",
       "      <th>Brand_lancia</th>\n",
       "      <th>Brand_land_rover</th>\n",
       "      <th>Brand_mazda</th>\n",
       "      <th>Brand_mercedes_benz</th>\n",
       "      <th>Brand_mini</th>\n",
       "      <th>Brand_mitsubishi</th>\n",
       "      <th>Brand_nissan</th>\n",
       "      <th>Brand_opel</th>\n",
       "      <th>Brand_peugeot</th>\n",
       "      <th>Brand_porsche</th>\n",
       "      <th>Brand_renault</th>\n",
       "      <th>Brand_rover</th>\n",
       "      <th>Brand_saab</th>\n",
       "      <th>Brand_seat</th>\n",
       "      <th>Brand_skoda</th>\n",
       "      <th>Brand_smart</th>\n",
       "      <th>Brand_sonstige_autos</th>\n",
       "      <th>Brand_subaru</th>\n",
       "      <th>Brand_suzuki</th>\n",
       "      <th>Brand_toyota</th>\n",
       "      <th>Brand_trabant</th>\n",
       "      <th>Brand_volkswagen</th>\n",
       "      <th>Brand_volvo</th>\n",
       "      <th>Repaired_no</th>\n",
       "      <th>Repaired_yes</th>\n",
       "    </tr>\n",
       "  </thead>\n",
       "  <tbody>\n",
       "    <tr>\n",
       "      <th>167334</th>\n",
       "      <td>-0.647715</td>\n",
       "      <td>-0.530503</td>\n",
       "      <td>0.599638</td>\n",
       "      <td>0</td>\n",
       "      <td>0</td>\n",
       "      <td>0</td>\n",
       "      <td>0</td>\n",
       "      <td>1</td>\n",
       "      <td>0</td>\n",
       "      <td>0</td>\n",
       "      <td>0</td>\n",
       "      <td>0</td>\n",
       "      <td>1</td>\n",
       "      <td>0</td>\n",
       "      <td>0</td>\n",
       "      <td>0</td>\n",
       "      <td>0</td>\n",
       "      <td>0</td>\n",
       "      <td>0</td>\n",
       "      <td>0</td>\n",
       "      <td>0</td>\n",
       "      <td>0</td>\n",
       "      <td>0</td>\n",
       "      <td>0</td>\n",
       "      <td>0</td>\n",
       "      <td>0</td>\n",
       "      <td>0</td>\n",
       "      <td>0</td>\n",
       "      <td>0</td>\n",
       "      <td>0</td>\n",
       "      <td>0</td>\n",
       "      <td>0</td>\n",
       "      <td>0</td>\n",
       "      <td>0</td>\n",
       "      <td>0</td>\n",
       "      <td>0</td>\n",
       "      <td>0</td>\n",
       "      <td>0</td>\n",
       "      <td>0</td>\n",
       "      <td>0</td>\n",
       "      <td>0</td>\n",
       "      <td>0</td>\n",
       "      <td>0</td>\n",
       "      <td>0</td>\n",
       "      <td>0</td>\n",
       "      <td>0</td>\n",
       "      <td>0</td>\n",
       "      <td>0</td>\n",
       "      <td>0</td>\n",
       "      <td>0</td>\n",
       "      <td>0</td>\n",
       "      <td>0</td>\n",
       "      <td>0</td>\n",
       "      <td>0</td>\n",
       "      <td>0</td>\n",
       "      <td>0</td>\n",
       "      <td>0</td>\n",
       "      <td>0</td>\n",
       "      <td>0</td>\n",
       "      <td>0</td>\n",
       "      <td>0</td>\n",
       "      <td>0</td>\n",
       "      <td>0</td>\n",
       "      <td>0</td>\n",
       "      <td>0</td>\n",
       "      <td>0</td>\n",
       "      <td>0</td>\n",
       "      <td>0</td>\n",
       "      <td>0</td>\n",
       "      <td>0</td>\n",
       "      <td>0</td>\n",
       "      <td>0</td>\n",
       "      <td>0</td>\n",
       "      <td>0</td>\n",
       "      <td>0</td>\n",
       "      <td>0</td>\n",
       "      <td>0</td>\n",
       "      <td>0</td>\n",
       "      <td>0</td>\n",
       "      <td>0</td>\n",
       "      <td>0</td>\n",
       "      <td>0</td>\n",
       "      <td>0</td>\n",
       "      <td>0</td>\n",
       "      <td>0</td>\n",
       "      <td>0</td>\n",
       "      <td>0</td>\n",
       "      <td>0</td>\n",
       "      <td>0</td>\n",
       "      <td>0</td>\n",
       "      <td>0</td>\n",
       "      <td>1</td>\n",
       "      <td>0</td>\n",
       "      <td>0</td>\n",
       "      <td>0</td>\n",
       "      <td>0</td>\n",
       "      <td>0</td>\n",
       "      <td>0</td>\n",
       "      <td>0</td>\n",
       "      <td>0</td>\n",
       "      <td>0</td>\n",
       "      <td>0</td>\n",
       "      <td>0</td>\n",
       "      <td>0</td>\n",
       "      <td>0</td>\n",
       "      <td>0</td>\n",
       "      <td>0</td>\n",
       "      <td>0</td>\n",
       "      <td>0</td>\n",
       "      <td>0</td>\n",
       "      <td>0</td>\n",
       "      <td>0</td>\n",
       "      <td>0</td>\n",
       "      <td>0</td>\n",
       "      <td>0</td>\n",
       "      <td>0</td>\n",
       "      <td>0</td>\n",
       "      <td>0</td>\n",
       "      <td>0</td>\n",
       "      <td>0</td>\n",
       "      <td>0</td>\n",
       "      <td>0</td>\n",
       "      <td>0</td>\n",
       "      <td>0</td>\n",
       "      <td>0</td>\n",
       "      <td>0</td>\n",
       "      <td>0</td>\n",
       "      <td>0</td>\n",
       "      <td>0</td>\n",
       "      <td>0</td>\n",
       "      <td>0</td>\n",
       "      <td>0</td>\n",
       "      <td>0</td>\n",
       "      <td>0</td>\n",
       "      <td>0</td>\n",
       "      <td>0</td>\n",
       "      <td>0</td>\n",
       "      <td>0</td>\n",
       "      <td>0</td>\n",
       "      <td>0</td>\n",
       "      <td>0</td>\n",
       "      <td>0</td>\n",
       "      <td>0</td>\n",
       "      <td>0</td>\n",
       "      <td>0</td>\n",
       "      <td>0</td>\n",
       "      <td>0</td>\n",
       "      <td>0</td>\n",
       "      <td>0</td>\n",
       "      <td>0</td>\n",
       "      <td>0</td>\n",
       "      <td>0</td>\n",
       "      <td>0</td>\n",
       "      <td>0</td>\n",
       "      <td>0</td>\n",
       "      <td>0</td>\n",
       "      <td>0</td>\n",
       "      <td>0</td>\n",
       "      <td>0</td>\n",
       "      <td>0</td>\n",
       "      <td>0</td>\n",
       "      <td>0</td>\n",
       "      <td>0</td>\n",
       "      <td>0</td>\n",
       "      <td>0</td>\n",
       "      <td>0</td>\n",
       "      <td>0</td>\n",
       "      <td>0</td>\n",
       "      <td>0</td>\n",
       "      <td>0</td>\n",
       "      <td>0</td>\n",
       "      <td>0</td>\n",
       "      <td>0</td>\n",
       "      <td>0</td>\n",
       "      <td>0</td>\n",
       "      <td>0</td>\n",
       "      <td>0</td>\n",
       "      <td>0</td>\n",
       "      <td>0</td>\n",
       "      <td>0</td>\n",
       "      <td>0</td>\n",
       "      <td>0</td>\n",
       "      <td>0</td>\n",
       "      <td>0</td>\n",
       "      <td>0</td>\n",
       "      <td>0</td>\n",
       "      <td>0</td>\n",
       "      <td>0</td>\n",
       "      <td>0</td>\n",
       "      <td>0</td>\n",
       "      <td>0</td>\n",
       "      <td>0</td>\n",
       "      <td>0</td>\n",
       "      <td>0</td>\n",
       "      <td>0</td>\n",
       "      <td>0</td>\n",
       "      <td>0</td>\n",
       "      <td>0</td>\n",
       "      <td>0</td>\n",
       "      <td>0</td>\n",
       "      <td>0</td>\n",
       "      <td>0</td>\n",
       "      <td>0</td>\n",
       "      <td>0</td>\n",
       "      <td>0</td>\n",
       "      <td>0</td>\n",
       "      <td>0</td>\n",
       "      <td>0</td>\n",
       "      <td>0</td>\n",
       "      <td>0</td>\n",
       "      <td>0</td>\n",
       "      <td>0</td>\n",
       "      <td>0</td>\n",
       "      <td>0</td>\n",
       "      <td>0</td>\n",
       "      <td>0</td>\n",
       "      <td>0</td>\n",
       "      <td>0</td>\n",
       "      <td>0</td>\n",
       "      <td>0</td>\n",
       "      <td>0</td>\n",
       "      <td>0</td>\n",
       "      <td>0</td>\n",
       "      <td>0</td>\n",
       "      <td>0</td>\n",
       "      <td>0</td>\n",
       "      <td>0</td>\n",
       "      <td>0</td>\n",
       "      <td>0</td>\n",
       "      <td>0</td>\n",
       "      <td>0</td>\n",
       "      <td>0</td>\n",
       "      <td>0</td>\n",
       "      <td>0</td>\n",
       "      <td>0</td>\n",
       "      <td>0</td>\n",
       "      <td>0</td>\n",
       "      <td>0</td>\n",
       "      <td>0</td>\n",
       "      <td>0</td>\n",
       "      <td>0</td>\n",
       "      <td>0</td>\n",
       "      <td>0</td>\n",
       "      <td>0</td>\n",
       "      <td>0</td>\n",
       "      <td>0</td>\n",
       "      <td>0</td>\n",
       "      <td>0</td>\n",
       "      <td>0</td>\n",
       "      <td>0</td>\n",
       "      <td>0</td>\n",
       "      <td>0</td>\n",
       "      <td>0</td>\n",
       "      <td>0</td>\n",
       "      <td>0</td>\n",
       "      <td>0</td>\n",
       "      <td>0</td>\n",
       "      <td>0</td>\n",
       "      <td>0</td>\n",
       "      <td>0</td>\n",
       "      <td>0</td>\n",
       "      <td>0</td>\n",
       "      <td>0</td>\n",
       "      <td>0</td>\n",
       "      <td>0</td>\n",
       "      <td>0</td>\n",
       "      <td>0</td>\n",
       "      <td>0</td>\n",
       "      <td>1</td>\n",
       "      <td>0</td>\n",
       "      <td>0</td>\n",
       "      <td>0</td>\n",
       "      <td>0</td>\n",
       "      <td>0</td>\n",
       "      <td>0</td>\n",
       "      <td>0</td>\n",
       "      <td>0</td>\n",
       "      <td>0</td>\n",
       "      <td>0</td>\n",
       "      <td>0</td>\n",
       "      <td>0</td>\n",
       "      <td>0</td>\n",
       "      <td>0</td>\n",
       "      <td>0</td>\n",
       "      <td>0</td>\n",
       "      <td>0</td>\n",
       "      <td>0</td>\n",
       "      <td>0</td>\n",
       "      <td>0</td>\n",
       "      <td>0</td>\n",
       "      <td>1</td>\n",
       "      <td>0</td>\n",
       "      <td>0</td>\n",
       "      <td>0</td>\n",
       "      <td>0</td>\n",
       "      <td>0</td>\n",
       "      <td>0</td>\n",
       "      <td>0</td>\n",
       "      <td>0</td>\n",
       "      <td>0</td>\n",
       "      <td>0</td>\n",
       "      <td>0</td>\n",
       "      <td>0</td>\n",
       "      <td>0</td>\n",
       "      <td>0</td>\n",
       "      <td>0</td>\n",
       "      <td>0</td>\n",
       "      <td>0</td>\n",
       "      <td>1</td>\n",
       "      <td>0</td>\n",
       "    </tr>\n",
       "    <tr>\n",
       "      <th>231450</th>\n",
       "      <td>-0.647715</td>\n",
       "      <td>-0.858399</td>\n",
       "      <td>-1.226350</td>\n",
       "      <td>0</td>\n",
       "      <td>0</td>\n",
       "      <td>0</td>\n",
       "      <td>0</td>\n",
       "      <td>0</td>\n",
       "      <td>1</td>\n",
       "      <td>0</td>\n",
       "      <td>0</td>\n",
       "      <td>0</td>\n",
       "      <td>1</td>\n",
       "      <td>0</td>\n",
       "      <td>0</td>\n",
       "      <td>0</td>\n",
       "      <td>0</td>\n",
       "      <td>0</td>\n",
       "      <td>0</td>\n",
       "      <td>0</td>\n",
       "      <td>0</td>\n",
       "      <td>0</td>\n",
       "      <td>0</td>\n",
       "      <td>0</td>\n",
       "      <td>0</td>\n",
       "      <td>0</td>\n",
       "      <td>0</td>\n",
       "      <td>0</td>\n",
       "      <td>0</td>\n",
       "      <td>0</td>\n",
       "      <td>0</td>\n",
       "      <td>0</td>\n",
       "      <td>0</td>\n",
       "      <td>0</td>\n",
       "      <td>0</td>\n",
       "      <td>0</td>\n",
       "      <td>0</td>\n",
       "      <td>0</td>\n",
       "      <td>1</td>\n",
       "      <td>0</td>\n",
       "      <td>0</td>\n",
       "      <td>0</td>\n",
       "      <td>0</td>\n",
       "      <td>0</td>\n",
       "      <td>0</td>\n",
       "      <td>0</td>\n",
       "      <td>0</td>\n",
       "      <td>0</td>\n",
       "      <td>0</td>\n",
       "      <td>0</td>\n",
       "      <td>0</td>\n",
       "      <td>0</td>\n",
       "      <td>0</td>\n",
       "      <td>0</td>\n",
       "      <td>0</td>\n",
       "      <td>0</td>\n",
       "      <td>0</td>\n",
       "      <td>0</td>\n",
       "      <td>0</td>\n",
       "      <td>0</td>\n",
       "      <td>0</td>\n",
       "      <td>0</td>\n",
       "      <td>0</td>\n",
       "      <td>0</td>\n",
       "      <td>0</td>\n",
       "      <td>0</td>\n",
       "      <td>0</td>\n",
       "      <td>0</td>\n",
       "      <td>0</td>\n",
       "      <td>0</td>\n",
       "      <td>0</td>\n",
       "      <td>0</td>\n",
       "      <td>0</td>\n",
       "      <td>0</td>\n",
       "      <td>0</td>\n",
       "      <td>0</td>\n",
       "      <td>0</td>\n",
       "      <td>0</td>\n",
       "      <td>0</td>\n",
       "      <td>0</td>\n",
       "      <td>0</td>\n",
       "      <td>0</td>\n",
       "      <td>0</td>\n",
       "      <td>0</td>\n",
       "      <td>0</td>\n",
       "      <td>0</td>\n",
       "      <td>0</td>\n",
       "      <td>0</td>\n",
       "      <td>0</td>\n",
       "      <td>0</td>\n",
       "      <td>0</td>\n",
       "      <td>0</td>\n",
       "      <td>0</td>\n",
       "      <td>0</td>\n",
       "      <td>0</td>\n",
       "      <td>0</td>\n",
       "      <td>0</td>\n",
       "      <td>0</td>\n",
       "      <td>0</td>\n",
       "      <td>0</td>\n",
       "      <td>0</td>\n",
       "      <td>0</td>\n",
       "      <td>0</td>\n",
       "      <td>0</td>\n",
       "      <td>0</td>\n",
       "      <td>0</td>\n",
       "      <td>0</td>\n",
       "      <td>0</td>\n",
       "      <td>0</td>\n",
       "      <td>0</td>\n",
       "      <td>0</td>\n",
       "      <td>0</td>\n",
       "      <td>0</td>\n",
       "      <td>0</td>\n",
       "      <td>0</td>\n",
       "      <td>0</td>\n",
       "      <td>0</td>\n",
       "      <td>0</td>\n",
       "      <td>0</td>\n",
       "      <td>0</td>\n",
       "      <td>0</td>\n",
       "      <td>0</td>\n",
       "      <td>0</td>\n",
       "      <td>0</td>\n",
       "      <td>0</td>\n",
       "      <td>0</td>\n",
       "      <td>0</td>\n",
       "      <td>0</td>\n",
       "      <td>0</td>\n",
       "      <td>0</td>\n",
       "      <td>0</td>\n",
       "      <td>0</td>\n",
       "      <td>0</td>\n",
       "      <td>0</td>\n",
       "      <td>0</td>\n",
       "      <td>0</td>\n",
       "      <td>0</td>\n",
       "      <td>0</td>\n",
       "      <td>0</td>\n",
       "      <td>0</td>\n",
       "      <td>0</td>\n",
       "      <td>0</td>\n",
       "      <td>0</td>\n",
       "      <td>0</td>\n",
       "      <td>0</td>\n",
       "      <td>0</td>\n",
       "      <td>0</td>\n",
       "      <td>0</td>\n",
       "      <td>0</td>\n",
       "      <td>0</td>\n",
       "      <td>0</td>\n",
       "      <td>0</td>\n",
       "      <td>0</td>\n",
       "      <td>0</td>\n",
       "      <td>0</td>\n",
       "      <td>0</td>\n",
       "      <td>0</td>\n",
       "      <td>0</td>\n",
       "      <td>0</td>\n",
       "      <td>0</td>\n",
       "      <td>0</td>\n",
       "      <td>0</td>\n",
       "      <td>0</td>\n",
       "      <td>0</td>\n",
       "      <td>0</td>\n",
       "      <td>0</td>\n",
       "      <td>0</td>\n",
       "      <td>0</td>\n",
       "      <td>0</td>\n",
       "      <td>0</td>\n",
       "      <td>0</td>\n",
       "      <td>0</td>\n",
       "      <td>0</td>\n",
       "      <td>0</td>\n",
       "      <td>0</td>\n",
       "      <td>0</td>\n",
       "      <td>0</td>\n",
       "      <td>0</td>\n",
       "      <td>0</td>\n",
       "      <td>0</td>\n",
       "      <td>0</td>\n",
       "      <td>0</td>\n",
       "      <td>0</td>\n",
       "      <td>0</td>\n",
       "      <td>0</td>\n",
       "      <td>0</td>\n",
       "      <td>0</td>\n",
       "      <td>0</td>\n",
       "      <td>0</td>\n",
       "      <td>0</td>\n",
       "      <td>0</td>\n",
       "      <td>0</td>\n",
       "      <td>0</td>\n",
       "      <td>0</td>\n",
       "      <td>0</td>\n",
       "      <td>0</td>\n",
       "      <td>0</td>\n",
       "      <td>0</td>\n",
       "      <td>0</td>\n",
       "      <td>0</td>\n",
       "      <td>0</td>\n",
       "      <td>0</td>\n",
       "      <td>0</td>\n",
       "      <td>0</td>\n",
       "      <td>0</td>\n",
       "      <td>0</td>\n",
       "      <td>0</td>\n",
       "      <td>0</td>\n",
       "      <td>0</td>\n",
       "      <td>0</td>\n",
       "      <td>0</td>\n",
       "      <td>0</td>\n",
       "      <td>0</td>\n",
       "      <td>0</td>\n",
       "      <td>0</td>\n",
       "      <td>0</td>\n",
       "      <td>0</td>\n",
       "      <td>0</td>\n",
       "      <td>0</td>\n",
       "      <td>0</td>\n",
       "      <td>0</td>\n",
       "      <td>0</td>\n",
       "      <td>0</td>\n",
       "      <td>0</td>\n",
       "      <td>0</td>\n",
       "      <td>0</td>\n",
       "      <td>0</td>\n",
       "      <td>0</td>\n",
       "      <td>0</td>\n",
       "      <td>0</td>\n",
       "      <td>0</td>\n",
       "      <td>0</td>\n",
       "      <td>0</td>\n",
       "      <td>0</td>\n",
       "      <td>0</td>\n",
       "      <td>0</td>\n",
       "      <td>0</td>\n",
       "      <td>0</td>\n",
       "      <td>0</td>\n",
       "      <td>0</td>\n",
       "      <td>0</td>\n",
       "      <td>0</td>\n",
       "      <td>0</td>\n",
       "      <td>0</td>\n",
       "      <td>0</td>\n",
       "      <td>0</td>\n",
       "      <td>0</td>\n",
       "      <td>0</td>\n",
       "      <td>0</td>\n",
       "      <td>0</td>\n",
       "      <td>0</td>\n",
       "      <td>0</td>\n",
       "      <td>0</td>\n",
       "      <td>0</td>\n",
       "      <td>0</td>\n",
       "      <td>0</td>\n",
       "      <td>0</td>\n",
       "      <td>0</td>\n",
       "      <td>0</td>\n",
       "      <td>0</td>\n",
       "      <td>0</td>\n",
       "      <td>0</td>\n",
       "      <td>0</td>\n",
       "      <td>0</td>\n",
       "      <td>0</td>\n",
       "      <td>0</td>\n",
       "      <td>0</td>\n",
       "      <td>0</td>\n",
       "      <td>1</td>\n",
       "      <td>0</td>\n",
       "      <td>0</td>\n",
       "      <td>0</td>\n",
       "      <td>0</td>\n",
       "      <td>0</td>\n",
       "      <td>0</td>\n",
       "      <td>0</td>\n",
       "      <td>0</td>\n",
       "      <td>0</td>\n",
       "      <td>0</td>\n",
       "      <td>0</td>\n",
       "      <td>0</td>\n",
       "      <td>0</td>\n",
       "      <td>0</td>\n",
       "      <td>0</td>\n",
       "      <td>0</td>\n",
       "      <td>0</td>\n",
       "      <td>0</td>\n",
       "      <td>0</td>\n",
       "      <td>0</td>\n",
       "      <td>0</td>\n",
       "      <td>0</td>\n",
       "      <td>0</td>\n",
       "      <td>1</td>\n",
       "      <td>0</td>\n",
       "      <td>0</td>\n",
       "      <td>0</td>\n",
       "      <td>0</td>\n",
       "      <td>0</td>\n",
       "      <td>0</td>\n",
       "      <td>0</td>\n",
       "      <td>0</td>\n",
       "      <td>0</td>\n",
       "      <td>0</td>\n",
       "      <td>0</td>\n",
       "      <td>0</td>\n",
       "      <td>0</td>\n",
       "      <td>0</td>\n",
       "      <td>0</td>\n",
       "      <td>1</td>\n",
       "      <td>0</td>\n",
       "    </tr>\n",
       "    <tr>\n",
       "      <th>72136</th>\n",
       "      <td>-0.225798</td>\n",
       "      <td>-0.764715</td>\n",
       "      <td>0.599638</td>\n",
       "      <td>0</td>\n",
       "      <td>0</td>\n",
       "      <td>0</td>\n",
       "      <td>0</td>\n",
       "      <td>0</td>\n",
       "      <td>1</td>\n",
       "      <td>0</td>\n",
       "      <td>0</td>\n",
       "      <td>0</td>\n",
       "      <td>1</td>\n",
       "      <td>0</td>\n",
       "      <td>0</td>\n",
       "      <td>0</td>\n",
       "      <td>0</td>\n",
       "      <td>0</td>\n",
       "      <td>0</td>\n",
       "      <td>0</td>\n",
       "      <td>0</td>\n",
       "      <td>0</td>\n",
       "      <td>0</td>\n",
       "      <td>0</td>\n",
       "      <td>0</td>\n",
       "      <td>0</td>\n",
       "      <td>0</td>\n",
       "      <td>0</td>\n",
       "      <td>0</td>\n",
       "      <td>0</td>\n",
       "      <td>0</td>\n",
       "      <td>0</td>\n",
       "      <td>0</td>\n",
       "      <td>0</td>\n",
       "      <td>0</td>\n",
       "      <td>0</td>\n",
       "      <td>0</td>\n",
       "      <td>0</td>\n",
       "      <td>0</td>\n",
       "      <td>0</td>\n",
       "      <td>0</td>\n",
       "      <td>0</td>\n",
       "      <td>0</td>\n",
       "      <td>0</td>\n",
       "      <td>0</td>\n",
       "      <td>0</td>\n",
       "      <td>0</td>\n",
       "      <td>0</td>\n",
       "      <td>0</td>\n",
       "      <td>0</td>\n",
       "      <td>0</td>\n",
       "      <td>0</td>\n",
       "      <td>0</td>\n",
       "      <td>0</td>\n",
       "      <td>1</td>\n",
       "      <td>0</td>\n",
       "      <td>0</td>\n",
       "      <td>0</td>\n",
       "      <td>0</td>\n",
       "      <td>0</td>\n",
       "      <td>0</td>\n",
       "      <td>0</td>\n",
       "      <td>0</td>\n",
       "      <td>0</td>\n",
       "      <td>0</td>\n",
       "      <td>0</td>\n",
       "      <td>0</td>\n",
       "      <td>0</td>\n",
       "      <td>0</td>\n",
       "      <td>0</td>\n",
       "      <td>0</td>\n",
       "      <td>0</td>\n",
       "      <td>0</td>\n",
       "      <td>0</td>\n",
       "      <td>0</td>\n",
       "      <td>0</td>\n",
       "      <td>0</td>\n",
       "      <td>0</td>\n",
       "      <td>0</td>\n",
       "      <td>0</td>\n",
       "      <td>0</td>\n",
       "      <td>0</td>\n",
       "      <td>0</td>\n",
       "      <td>0</td>\n",
       "      <td>0</td>\n",
       "      <td>0</td>\n",
       "      <td>0</td>\n",
       "      <td>0</td>\n",
       "      <td>0</td>\n",
       "      <td>0</td>\n",
       "      <td>0</td>\n",
       "      <td>0</td>\n",
       "      <td>0</td>\n",
       "      <td>0</td>\n",
       "      <td>0</td>\n",
       "      <td>0</td>\n",
       "      <td>0</td>\n",
       "      <td>0</td>\n",
       "      <td>0</td>\n",
       "      <td>0</td>\n",
       "      <td>0</td>\n",
       "      <td>0</td>\n",
       "      <td>0</td>\n",
       "      <td>0</td>\n",
       "      <td>0</td>\n",
       "      <td>0</td>\n",
       "      <td>0</td>\n",
       "      <td>0</td>\n",
       "      <td>0</td>\n",
       "      <td>0</td>\n",
       "      <td>0</td>\n",
       "      <td>0</td>\n",
       "      <td>0</td>\n",
       "      <td>0</td>\n",
       "      <td>0</td>\n",
       "      <td>0</td>\n",
       "      <td>0</td>\n",
       "      <td>0</td>\n",
       "      <td>0</td>\n",
       "      <td>0</td>\n",
       "      <td>0</td>\n",
       "      <td>0</td>\n",
       "      <td>0</td>\n",
       "      <td>0</td>\n",
       "      <td>0</td>\n",
       "      <td>0</td>\n",
       "      <td>0</td>\n",
       "      <td>0</td>\n",
       "      <td>0</td>\n",
       "      <td>0</td>\n",
       "      <td>0</td>\n",
       "      <td>0</td>\n",
       "      <td>0</td>\n",
       "      <td>0</td>\n",
       "      <td>0</td>\n",
       "      <td>0</td>\n",
       "      <td>0</td>\n",
       "      <td>0</td>\n",
       "      <td>0</td>\n",
       "      <td>0</td>\n",
       "      <td>0</td>\n",
       "      <td>0</td>\n",
       "      <td>0</td>\n",
       "      <td>0</td>\n",
       "      <td>0</td>\n",
       "      <td>0</td>\n",
       "      <td>0</td>\n",
       "      <td>0</td>\n",
       "      <td>0</td>\n",
       "      <td>0</td>\n",
       "      <td>0</td>\n",
       "      <td>0</td>\n",
       "      <td>0</td>\n",
       "      <td>0</td>\n",
       "      <td>0</td>\n",
       "      <td>0</td>\n",
       "      <td>0</td>\n",
       "      <td>0</td>\n",
       "      <td>0</td>\n",
       "      <td>0</td>\n",
       "      <td>0</td>\n",
       "      <td>0</td>\n",
       "      <td>0</td>\n",
       "      <td>0</td>\n",
       "      <td>0</td>\n",
       "      <td>0</td>\n",
       "      <td>0</td>\n",
       "      <td>0</td>\n",
       "      <td>0</td>\n",
       "      <td>0</td>\n",
       "      <td>0</td>\n",
       "      <td>0</td>\n",
       "      <td>0</td>\n",
       "      <td>0</td>\n",
       "      <td>0</td>\n",
       "      <td>0</td>\n",
       "      <td>0</td>\n",
       "      <td>0</td>\n",
       "      <td>0</td>\n",
       "      <td>0</td>\n",
       "      <td>0</td>\n",
       "      <td>0</td>\n",
       "      <td>0</td>\n",
       "      <td>0</td>\n",
       "      <td>0</td>\n",
       "      <td>0</td>\n",
       "      <td>0</td>\n",
       "      <td>0</td>\n",
       "      <td>0</td>\n",
       "      <td>0</td>\n",
       "      <td>0</td>\n",
       "      <td>0</td>\n",
       "      <td>0</td>\n",
       "      <td>0</td>\n",
       "      <td>0</td>\n",
       "      <td>0</td>\n",
       "      <td>0</td>\n",
       "      <td>0</td>\n",
       "      <td>0</td>\n",
       "      <td>0</td>\n",
       "      <td>0</td>\n",
       "      <td>0</td>\n",
       "      <td>0</td>\n",
       "      <td>0</td>\n",
       "      <td>0</td>\n",
       "      <td>0</td>\n",
       "      <td>0</td>\n",
       "      <td>0</td>\n",
       "      <td>0</td>\n",
       "      <td>0</td>\n",
       "      <td>0</td>\n",
       "      <td>0</td>\n",
       "      <td>0</td>\n",
       "      <td>0</td>\n",
       "      <td>0</td>\n",
       "      <td>0</td>\n",
       "      <td>0</td>\n",
       "      <td>0</td>\n",
       "      <td>0</td>\n",
       "      <td>0</td>\n",
       "      <td>0</td>\n",
       "      <td>0</td>\n",
       "      <td>0</td>\n",
       "      <td>0</td>\n",
       "      <td>0</td>\n",
       "      <td>0</td>\n",
       "      <td>0</td>\n",
       "      <td>0</td>\n",
       "      <td>0</td>\n",
       "      <td>0</td>\n",
       "      <td>0</td>\n",
       "      <td>0</td>\n",
       "      <td>0</td>\n",
       "      <td>0</td>\n",
       "      <td>0</td>\n",
       "      <td>0</td>\n",
       "      <td>0</td>\n",
       "      <td>0</td>\n",
       "      <td>0</td>\n",
       "      <td>0</td>\n",
       "      <td>0</td>\n",
       "      <td>0</td>\n",
       "      <td>0</td>\n",
       "      <td>0</td>\n",
       "      <td>0</td>\n",
       "      <td>0</td>\n",
       "      <td>0</td>\n",
       "      <td>0</td>\n",
       "      <td>0</td>\n",
       "      <td>0</td>\n",
       "      <td>0</td>\n",
       "      <td>0</td>\n",
       "      <td>0</td>\n",
       "      <td>0</td>\n",
       "      <td>0</td>\n",
       "      <td>0</td>\n",
       "      <td>0</td>\n",
       "      <td>0</td>\n",
       "      <td>0</td>\n",
       "      <td>0</td>\n",
       "      <td>0</td>\n",
       "      <td>0</td>\n",
       "      <td>0</td>\n",
       "      <td>0</td>\n",
       "      <td>0</td>\n",
       "      <td>0</td>\n",
       "      <td>0</td>\n",
       "      <td>0</td>\n",
       "      <td>1</td>\n",
       "      <td>0</td>\n",
       "      <td>0</td>\n",
       "      <td>0</td>\n",
       "      <td>0</td>\n",
       "      <td>0</td>\n",
       "      <td>0</td>\n",
       "      <td>0</td>\n",
       "      <td>0</td>\n",
       "      <td>0</td>\n",
       "      <td>0</td>\n",
       "      <td>0</td>\n",
       "      <td>0</td>\n",
       "      <td>0</td>\n",
       "      <td>0</td>\n",
       "      <td>0</td>\n",
       "      <td>0</td>\n",
       "      <td>0</td>\n",
       "      <td>0</td>\n",
       "      <td>0</td>\n",
       "      <td>0</td>\n",
       "      <td>0</td>\n",
       "      <td>0</td>\n",
       "      <td>0</td>\n",
       "      <td>0</td>\n",
       "      <td>0</td>\n",
       "      <td>0</td>\n",
       "      <td>0</td>\n",
       "      <td>0</td>\n",
       "      <td>0</td>\n",
       "      <td>1</td>\n",
       "      <td>0</td>\n",
       "      <td>0</td>\n",
       "      <td>0</td>\n",
       "      <td>0</td>\n",
       "      <td>0</td>\n",
       "      <td>0</td>\n",
       "      <td>0</td>\n",
       "      <td>0</td>\n",
       "      <td>0</td>\n",
       "      <td>1</td>\n",
       "      <td>0</td>\n",
       "    </tr>\n",
       "    <tr>\n",
       "      <th>163937</th>\n",
       "      <td>0.618035</td>\n",
       "      <td>-0.858399</td>\n",
       "      <td>0.599638</td>\n",
       "      <td>0</td>\n",
       "      <td>0</td>\n",
       "      <td>0</td>\n",
       "      <td>0</td>\n",
       "      <td>0</td>\n",
       "      <td>1</td>\n",
       "      <td>0</td>\n",
       "      <td>0</td>\n",
       "      <td>0</td>\n",
       "      <td>1</td>\n",
       "      <td>0</td>\n",
       "      <td>0</td>\n",
       "      <td>0</td>\n",
       "      <td>0</td>\n",
       "      <td>0</td>\n",
       "      <td>0</td>\n",
       "      <td>0</td>\n",
       "      <td>0</td>\n",
       "      <td>0</td>\n",
       "      <td>0</td>\n",
       "      <td>0</td>\n",
       "      <td>0</td>\n",
       "      <td>0</td>\n",
       "      <td>0</td>\n",
       "      <td>0</td>\n",
       "      <td>0</td>\n",
       "      <td>0</td>\n",
       "      <td>0</td>\n",
       "      <td>0</td>\n",
       "      <td>0</td>\n",
       "      <td>0</td>\n",
       "      <td>0</td>\n",
       "      <td>0</td>\n",
       "      <td>0</td>\n",
       "      <td>0</td>\n",
       "      <td>0</td>\n",
       "      <td>0</td>\n",
       "      <td>0</td>\n",
       "      <td>0</td>\n",
       "      <td>0</td>\n",
       "      <td>0</td>\n",
       "      <td>0</td>\n",
       "      <td>0</td>\n",
       "      <td>0</td>\n",
       "      <td>0</td>\n",
       "      <td>0</td>\n",
       "      <td>0</td>\n",
       "      <td>0</td>\n",
       "      <td>0</td>\n",
       "      <td>0</td>\n",
       "      <td>0</td>\n",
       "      <td>0</td>\n",
       "      <td>0</td>\n",
       "      <td>0</td>\n",
       "      <td>0</td>\n",
       "      <td>0</td>\n",
       "      <td>0</td>\n",
       "      <td>0</td>\n",
       "      <td>0</td>\n",
       "      <td>0</td>\n",
       "      <td>0</td>\n",
       "      <td>0</td>\n",
       "      <td>0</td>\n",
       "      <td>0</td>\n",
       "      <td>0</td>\n",
       "      <td>0</td>\n",
       "      <td>0</td>\n",
       "      <td>0</td>\n",
       "      <td>0</td>\n",
       "      <td>0</td>\n",
       "      <td>0</td>\n",
       "      <td>0</td>\n",
       "      <td>0</td>\n",
       "      <td>0</td>\n",
       "      <td>0</td>\n",
       "      <td>0</td>\n",
       "      <td>0</td>\n",
       "      <td>0</td>\n",
       "      <td>0</td>\n",
       "      <td>0</td>\n",
       "      <td>0</td>\n",
       "      <td>0</td>\n",
       "      <td>0</td>\n",
       "      <td>0</td>\n",
       "      <td>0</td>\n",
       "      <td>0</td>\n",
       "      <td>0</td>\n",
       "      <td>0</td>\n",
       "      <td>0</td>\n",
       "      <td>0</td>\n",
       "      <td>0</td>\n",
       "      <td>0</td>\n",
       "      <td>0</td>\n",
       "      <td>0</td>\n",
       "      <td>0</td>\n",
       "      <td>0</td>\n",
       "      <td>0</td>\n",
       "      <td>0</td>\n",
       "      <td>0</td>\n",
       "      <td>0</td>\n",
       "      <td>0</td>\n",
       "      <td>0</td>\n",
       "      <td>0</td>\n",
       "      <td>0</td>\n",
       "      <td>0</td>\n",
       "      <td>0</td>\n",
       "      <td>0</td>\n",
       "      <td>0</td>\n",
       "      <td>0</td>\n",
       "      <td>0</td>\n",
       "      <td>0</td>\n",
       "      <td>0</td>\n",
       "      <td>0</td>\n",
       "      <td>0</td>\n",
       "      <td>0</td>\n",
       "      <td>0</td>\n",
       "      <td>0</td>\n",
       "      <td>1</td>\n",
       "      <td>0</td>\n",
       "      <td>0</td>\n",
       "      <td>0</td>\n",
       "      <td>0</td>\n",
       "      <td>0</td>\n",
       "      <td>0</td>\n",
       "      <td>0</td>\n",
       "      <td>0</td>\n",
       "      <td>0</td>\n",
       "      <td>0</td>\n",
       "      <td>0</td>\n",
       "      <td>0</td>\n",
       "      <td>0</td>\n",
       "      <td>0</td>\n",
       "      <td>0</td>\n",
       "      <td>0</td>\n",
       "      <td>0</td>\n",
       "      <td>0</td>\n",
       "      <td>0</td>\n",
       "      <td>0</td>\n",
       "      <td>0</td>\n",
       "      <td>0</td>\n",
       "      <td>0</td>\n",
       "      <td>0</td>\n",
       "      <td>0</td>\n",
       "      <td>0</td>\n",
       "      <td>0</td>\n",
       "      <td>0</td>\n",
       "      <td>0</td>\n",
       "      <td>0</td>\n",
       "      <td>0</td>\n",
       "      <td>0</td>\n",
       "      <td>0</td>\n",
       "      <td>0</td>\n",
       "      <td>0</td>\n",
       "      <td>0</td>\n",
       "      <td>0</td>\n",
       "      <td>0</td>\n",
       "      <td>0</td>\n",
       "      <td>0</td>\n",
       "      <td>0</td>\n",
       "      <td>0</td>\n",
       "      <td>0</td>\n",
       "      <td>0</td>\n",
       "      <td>0</td>\n",
       "      <td>0</td>\n",
       "      <td>0</td>\n",
       "      <td>0</td>\n",
       "      <td>0</td>\n",
       "      <td>0</td>\n",
       "      <td>0</td>\n",
       "      <td>0</td>\n",
       "      <td>0</td>\n",
       "      <td>0</td>\n",
       "      <td>0</td>\n",
       "      <td>0</td>\n",
       "      <td>0</td>\n",
       "      <td>0</td>\n",
       "      <td>0</td>\n",
       "      <td>0</td>\n",
       "      <td>0</td>\n",
       "      <td>0</td>\n",
       "      <td>0</td>\n",
       "      <td>0</td>\n",
       "      <td>0</td>\n",
       "      <td>0</td>\n",
       "      <td>0</td>\n",
       "      <td>0</td>\n",
       "      <td>0</td>\n",
       "      <td>0</td>\n",
       "      <td>0</td>\n",
       "      <td>0</td>\n",
       "      <td>0</td>\n",
       "      <td>0</td>\n",
       "      <td>0</td>\n",
       "      <td>0</td>\n",
       "      <td>0</td>\n",
       "      <td>0</td>\n",
       "      <td>0</td>\n",
       "      <td>0</td>\n",
       "      <td>0</td>\n",
       "      <td>0</td>\n",
       "      <td>0</td>\n",
       "      <td>0</td>\n",
       "      <td>0</td>\n",
       "      <td>0</td>\n",
       "      <td>0</td>\n",
       "      <td>0</td>\n",
       "      <td>0</td>\n",
       "      <td>0</td>\n",
       "      <td>0</td>\n",
       "      <td>0</td>\n",
       "      <td>0</td>\n",
       "      <td>0</td>\n",
       "      <td>0</td>\n",
       "      <td>0</td>\n",
       "      <td>0</td>\n",
       "      <td>0</td>\n",
       "      <td>0</td>\n",
       "      <td>0</td>\n",
       "      <td>0</td>\n",
       "      <td>0</td>\n",
       "      <td>0</td>\n",
       "      <td>0</td>\n",
       "      <td>0</td>\n",
       "      <td>0</td>\n",
       "      <td>0</td>\n",
       "      <td>0</td>\n",
       "      <td>0</td>\n",
       "      <td>0</td>\n",
       "      <td>0</td>\n",
       "      <td>0</td>\n",
       "      <td>0</td>\n",
       "      <td>0</td>\n",
       "      <td>0</td>\n",
       "      <td>0</td>\n",
       "      <td>0</td>\n",
       "      <td>0</td>\n",
       "      <td>0</td>\n",
       "      <td>0</td>\n",
       "      <td>0</td>\n",
       "      <td>0</td>\n",
       "      <td>0</td>\n",
       "      <td>0</td>\n",
       "      <td>0</td>\n",
       "      <td>0</td>\n",
       "      <td>0</td>\n",
       "      <td>0</td>\n",
       "      <td>0</td>\n",
       "      <td>0</td>\n",
       "      <td>0</td>\n",
       "      <td>0</td>\n",
       "      <td>0</td>\n",
       "      <td>0</td>\n",
       "      <td>0</td>\n",
       "      <td>0</td>\n",
       "      <td>0</td>\n",
       "      <td>0</td>\n",
       "      <td>0</td>\n",
       "      <td>0</td>\n",
       "      <td>0</td>\n",
       "      <td>0</td>\n",
       "      <td>0</td>\n",
       "      <td>0</td>\n",
       "      <td>0</td>\n",
       "      <td>0</td>\n",
       "      <td>0</td>\n",
       "      <td>1</td>\n",
       "      <td>0</td>\n",
       "      <td>0</td>\n",
       "      <td>0</td>\n",
       "      <td>0</td>\n",
       "      <td>0</td>\n",
       "      <td>0</td>\n",
       "      <td>0</td>\n",
       "      <td>0</td>\n",
       "      <td>0</td>\n",
       "      <td>0</td>\n",
       "      <td>0</td>\n",
       "      <td>0</td>\n",
       "      <td>0</td>\n",
       "      <td>0</td>\n",
       "      <td>0</td>\n",
       "      <td>0</td>\n",
       "      <td>0</td>\n",
       "      <td>0</td>\n",
       "      <td>0</td>\n",
       "      <td>0</td>\n",
       "      <td>0</td>\n",
       "      <td>0</td>\n",
       "      <td>0</td>\n",
       "      <td>0</td>\n",
       "      <td>0</td>\n",
       "      <td>0</td>\n",
       "      <td>0</td>\n",
       "      <td>0</td>\n",
       "      <td>0</td>\n",
       "      <td>0</td>\n",
       "      <td>0</td>\n",
       "      <td>0</td>\n",
       "      <td>0</td>\n",
       "      <td>0</td>\n",
       "      <td>0</td>\n",
       "      <td>0</td>\n",
       "      <td>0</td>\n",
       "      <td>1</td>\n",
       "      <td>0</td>\n",
       "      <td>1</td>\n",
       "      <td>0</td>\n",
       "    </tr>\n",
       "    <tr>\n",
       "      <th>345192</th>\n",
       "      <td>-0.928993</td>\n",
       "      <td>-0.530503</td>\n",
       "      <td>0.599638</td>\n",
       "      <td>0</td>\n",
       "      <td>0</td>\n",
       "      <td>0</td>\n",
       "      <td>0</td>\n",
       "      <td>0</td>\n",
       "      <td>0</td>\n",
       "      <td>0</td>\n",
       "      <td>1</td>\n",
       "      <td>0</td>\n",
       "      <td>1</td>\n",
       "      <td>0</td>\n",
       "      <td>0</td>\n",
       "      <td>0</td>\n",
       "      <td>0</td>\n",
       "      <td>0</td>\n",
       "      <td>0</td>\n",
       "      <td>0</td>\n",
       "      <td>0</td>\n",
       "      <td>0</td>\n",
       "      <td>0</td>\n",
       "      <td>0</td>\n",
       "      <td>0</td>\n",
       "      <td>0</td>\n",
       "      <td>0</td>\n",
       "      <td>0</td>\n",
       "      <td>0</td>\n",
       "      <td>0</td>\n",
       "      <td>0</td>\n",
       "      <td>0</td>\n",
       "      <td>0</td>\n",
       "      <td>0</td>\n",
       "      <td>0</td>\n",
       "      <td>0</td>\n",
       "      <td>0</td>\n",
       "      <td>0</td>\n",
       "      <td>0</td>\n",
       "      <td>0</td>\n",
       "      <td>0</td>\n",
       "      <td>0</td>\n",
       "      <td>0</td>\n",
       "      <td>0</td>\n",
       "      <td>0</td>\n",
       "      <td>0</td>\n",
       "      <td>0</td>\n",
       "      <td>0</td>\n",
       "      <td>0</td>\n",
       "      <td>0</td>\n",
       "      <td>0</td>\n",
       "      <td>0</td>\n",
       "      <td>0</td>\n",
       "      <td>0</td>\n",
       "      <td>0</td>\n",
       "      <td>1</td>\n",
       "      <td>0</td>\n",
       "      <td>0</td>\n",
       "      <td>0</td>\n",
       "      <td>0</td>\n",
       "      <td>0</td>\n",
       "      <td>0</td>\n",
       "      <td>0</td>\n",
       "      <td>0</td>\n",
       "      <td>0</td>\n",
       "      <td>0</td>\n",
       "      <td>0</td>\n",
       "      <td>0</td>\n",
       "      <td>0</td>\n",
       "      <td>0</td>\n",
       "      <td>0</td>\n",
       "      <td>0</td>\n",
       "      <td>0</td>\n",
       "      <td>0</td>\n",
       "      <td>0</td>\n",
       "      <td>0</td>\n",
       "      <td>0</td>\n",
       "      <td>0</td>\n",
       "      <td>0</td>\n",
       "      <td>0</td>\n",
       "      <td>0</td>\n",
       "      <td>0</td>\n",
       "      <td>0</td>\n",
       "      <td>0</td>\n",
       "      <td>0</td>\n",
       "      <td>0</td>\n",
       "      <td>0</td>\n",
       "      <td>0</td>\n",
       "      <td>0</td>\n",
       "      <td>0</td>\n",
       "      <td>0</td>\n",
       "      <td>0</td>\n",
       "      <td>0</td>\n",
       "      <td>0</td>\n",
       "      <td>0</td>\n",
       "      <td>0</td>\n",
       "      <td>0</td>\n",
       "      <td>0</td>\n",
       "      <td>0</td>\n",
       "      <td>0</td>\n",
       "      <td>0</td>\n",
       "      <td>0</td>\n",
       "      <td>0</td>\n",
       "      <td>0</td>\n",
       "      <td>0</td>\n",
       "      <td>0</td>\n",
       "      <td>0</td>\n",
       "      <td>0</td>\n",
       "      <td>0</td>\n",
       "      <td>0</td>\n",
       "      <td>0</td>\n",
       "      <td>0</td>\n",
       "      <td>0</td>\n",
       "      <td>0</td>\n",
       "      <td>0</td>\n",
       "      <td>0</td>\n",
       "      <td>0</td>\n",
       "      <td>0</td>\n",
       "      <td>0</td>\n",
       "      <td>0</td>\n",
       "      <td>0</td>\n",
       "      <td>0</td>\n",
       "      <td>0</td>\n",
       "      <td>0</td>\n",
       "      <td>0</td>\n",
       "      <td>0</td>\n",
       "      <td>0</td>\n",
       "      <td>0</td>\n",
       "      <td>0</td>\n",
       "      <td>0</td>\n",
       "      <td>0</td>\n",
       "      <td>0</td>\n",
       "      <td>0</td>\n",
       "      <td>0</td>\n",
       "      <td>0</td>\n",
       "      <td>0</td>\n",
       "      <td>0</td>\n",
       "      <td>0</td>\n",
       "      <td>0</td>\n",
       "      <td>0</td>\n",
       "      <td>0</td>\n",
       "      <td>0</td>\n",
       "      <td>0</td>\n",
       "      <td>0</td>\n",
       "      <td>0</td>\n",
       "      <td>0</td>\n",
       "      <td>0</td>\n",
       "      <td>0</td>\n",
       "      <td>0</td>\n",
       "      <td>0</td>\n",
       "      <td>0</td>\n",
       "      <td>0</td>\n",
       "      <td>0</td>\n",
       "      <td>0</td>\n",
       "      <td>0</td>\n",
       "      <td>0</td>\n",
       "      <td>0</td>\n",
       "      <td>0</td>\n",
       "      <td>0</td>\n",
       "      <td>0</td>\n",
       "      <td>0</td>\n",
       "      <td>0</td>\n",
       "      <td>0</td>\n",
       "      <td>0</td>\n",
       "      <td>0</td>\n",
       "      <td>0</td>\n",
       "      <td>0</td>\n",
       "      <td>0</td>\n",
       "      <td>0</td>\n",
       "      <td>0</td>\n",
       "      <td>0</td>\n",
       "      <td>0</td>\n",
       "      <td>0</td>\n",
       "      <td>0</td>\n",
       "      <td>0</td>\n",
       "      <td>0</td>\n",
       "      <td>0</td>\n",
       "      <td>0</td>\n",
       "      <td>0</td>\n",
       "      <td>0</td>\n",
       "      <td>0</td>\n",
       "      <td>0</td>\n",
       "      <td>0</td>\n",
       "      <td>0</td>\n",
       "      <td>0</td>\n",
       "      <td>0</td>\n",
       "      <td>0</td>\n",
       "      <td>0</td>\n",
       "      <td>0</td>\n",
       "      <td>0</td>\n",
       "      <td>0</td>\n",
       "      <td>0</td>\n",
       "      <td>0</td>\n",
       "      <td>0</td>\n",
       "      <td>0</td>\n",
       "      <td>0</td>\n",
       "      <td>0</td>\n",
       "      <td>0</td>\n",
       "      <td>0</td>\n",
       "      <td>0</td>\n",
       "      <td>0</td>\n",
       "      <td>0</td>\n",
       "      <td>0</td>\n",
       "      <td>0</td>\n",
       "      <td>0</td>\n",
       "      <td>0</td>\n",
       "      <td>0</td>\n",
       "      <td>0</td>\n",
       "      <td>0</td>\n",
       "      <td>0</td>\n",
       "      <td>0</td>\n",
       "      <td>0</td>\n",
       "      <td>0</td>\n",
       "      <td>0</td>\n",
       "      <td>0</td>\n",
       "      <td>0</td>\n",
       "      <td>0</td>\n",
       "      <td>0</td>\n",
       "      <td>0</td>\n",
       "      <td>0</td>\n",
       "      <td>0</td>\n",
       "      <td>0</td>\n",
       "      <td>0</td>\n",
       "      <td>0</td>\n",
       "      <td>0</td>\n",
       "      <td>0</td>\n",
       "      <td>0</td>\n",
       "      <td>0</td>\n",
       "      <td>0</td>\n",
       "      <td>0</td>\n",
       "      <td>0</td>\n",
       "      <td>0</td>\n",
       "      <td>0</td>\n",
       "      <td>0</td>\n",
       "      <td>0</td>\n",
       "      <td>0</td>\n",
       "      <td>0</td>\n",
       "      <td>0</td>\n",
       "      <td>0</td>\n",
       "      <td>0</td>\n",
       "      <td>0</td>\n",
       "      <td>0</td>\n",
       "      <td>0</td>\n",
       "      <td>0</td>\n",
       "      <td>0</td>\n",
       "      <td>0</td>\n",
       "      <td>0</td>\n",
       "      <td>0</td>\n",
       "      <td>0</td>\n",
       "      <td>0</td>\n",
       "      <td>0</td>\n",
       "      <td>0</td>\n",
       "      <td>0</td>\n",
       "      <td>0</td>\n",
       "      <td>0</td>\n",
       "      <td>0</td>\n",
       "      <td>0</td>\n",
       "      <td>0</td>\n",
       "      <td>0</td>\n",
       "      <td>0</td>\n",
       "      <td>0</td>\n",
       "      <td>0</td>\n",
       "      <td>0</td>\n",
       "      <td>0</td>\n",
       "      <td>0</td>\n",
       "      <td>0</td>\n",
       "      <td>0</td>\n",
       "      <td>0</td>\n",
       "      <td>1</td>\n",
       "      <td>0</td>\n",
       "      <td>0</td>\n",
       "      <td>0</td>\n",
       "      <td>0</td>\n",
       "      <td>0</td>\n",
       "      <td>0</td>\n",
       "      <td>0</td>\n",
       "      <td>0</td>\n",
       "      <td>0</td>\n",
       "      <td>0</td>\n",
       "      <td>0</td>\n",
       "      <td>0</td>\n",
       "      <td>0</td>\n",
       "      <td>0</td>\n",
       "      <td>0</td>\n",
       "      <td>0</td>\n",
       "      <td>0</td>\n",
       "      <td>0</td>\n",
       "      <td>0</td>\n",
       "      <td>0</td>\n",
       "      <td>0</td>\n",
       "      <td>0</td>\n",
       "      <td>0</td>\n",
       "      <td>1</td>\n",
       "      <td>0</td>\n",
       "      <td>0</td>\n",
       "      <td>0</td>\n",
       "      <td>0</td>\n",
       "      <td>0</td>\n",
       "      <td>0</td>\n",
       "      <td>0</td>\n",
       "      <td>0</td>\n",
       "      <td>0</td>\n",
       "      <td>0</td>\n",
       "      <td>0</td>\n",
       "      <td>0</td>\n",
       "      <td>0</td>\n",
       "      <td>0</td>\n",
       "      <td>0</td>\n",
       "      <td>0</td>\n",
       "      <td>1</td>\n",
       "    </tr>\n",
       "  </tbody>\n",
       "</table>\n",
       "</div>"
      ],
      "text/plain": [
       "        RegistrationYear     Power  Kilometer  VehicleType_bus  \\\n",
       "167334         -0.647715 -0.530503   0.599638                0   \n",
       "231450         -0.647715 -0.858399  -1.226350                0   \n",
       "72136          -0.225798 -0.764715   0.599638                0   \n",
       "163937          0.618035 -0.858399   0.599638                0   \n",
       "345192         -0.928993 -0.530503   0.599638                0   \n",
       "\n",
       "        VehicleType_convertible  VehicleType_coupe  VehicleType_other  \\\n",
       "167334                        0                  0                  0   \n",
       "231450                        0                  0                  0   \n",
       "72136                         0                  0                  0   \n",
       "163937                        0                  0                  0   \n",
       "345192                        0                  0                  0   \n",
       "\n",
       "        VehicleType_sedan  VehicleType_small  VehicleType_suv  \\\n",
       "167334                  1                  0                0   \n",
       "231450                  0                  1                0   \n",
       "72136                   0                  1                0   \n",
       "163937                  0                  1                0   \n",
       "345192                  0                  0                0   \n",
       "\n",
       "        VehicleType_wagon  Gearbox_auto  Gearbox_manual  Model_145  Model_147  \\\n",
       "167334                  0             0               1          0          0   \n",
       "231450                  0             0               1          0          0   \n",
       "72136                   0             0               1          0          0   \n",
       "163937                  0             0               1          0          0   \n",
       "345192                  1             0               1          0          0   \n",
       "\n",
       "        Model_156  Model_159  Model_1_reihe  Model_1er  Model_200  \\\n",
       "167334          0          0              0          0          0   \n",
       "231450          0          0              0          0          0   \n",
       "72136           0          0              0          0          0   \n",
       "163937          0          0              0          0          0   \n",
       "345192          0          0              0          0          0   \n",
       "\n",
       "        Model_2_reihe  Model_300c  Model_3_reihe  Model_3er  Model_4_reihe  \\\n",
       "167334              0           0              0          0              0   \n",
       "231450              0           0              0          0              0   \n",
       "72136               0           0              0          0              0   \n",
       "163937              0           0              0          0              0   \n",
       "345192              0           0              0          0              0   \n",
       "\n",
       "        Model_500  Model_5_reihe  Model_5er  Model_601  Model_6_reihe  \\\n",
       "167334          0              0          0          0              0   \n",
       "231450          0              0          0          0              0   \n",
       "72136           0              0          0          0              0   \n",
       "163937          0              0          0          0              0   \n",
       "345192          0              0          0          0              0   \n",
       "\n",
       "        Model_6er  Model_7er  Model_80  Model_850  Model_90  Model_900  \\\n",
       "167334          0          0         0          0         0          0   \n",
       "231450          0          0         0          0         0          0   \n",
       "72136           0          0         0          0         0          0   \n",
       "163937          0          0         0          0         0          0   \n",
       "345192          0          0         0          0         0          0   \n",
       "\n",
       "        Model_9000  Model_911  Model_UNKNOWN  Model_a1  Model_a2  Model_a3  \\\n",
       "167334           0          0              0         0         0         0   \n",
       "231450           0          0              1         0         0         0   \n",
       "72136            0          0              0         0         0         0   \n",
       "163937           0          0              0         0         0         0   \n",
       "345192           0          0              0         0         0         0   \n",
       "\n",
       "        Model_a4  Model_a5  Model_a6  Model_a8  Model_a_klasse  Model_accord  \\\n",
       "167334         0         0         0         0               0             0   \n",
       "231450         0         0         0         0               0             0   \n",
       "72136          0         0         0         0               0             0   \n",
       "163937         0         0         0         0               0             0   \n",
       "345192         0         0         0         0               0             0   \n",
       "\n",
       "        Model_agila  Model_alhambra  Model_almera  Model_altea  Model_amarok  \\\n",
       "167334            0               0             0            0             0   \n",
       "231450            0               0             0            0             0   \n",
       "72136             0               0             0            0             0   \n",
       "163937            0               0             0            0             0   \n",
       "345192            0               0             0            0             0   \n",
       "\n",
       "        Model_antara  Model_arosa  Model_astra  Model_auris  Model_avensis  \\\n",
       "167334             0            0            0            0              0   \n",
       "231450             0            0            0            0              0   \n",
       "72136              0            1            0            0              0   \n",
       "163937             0            0            0            0              0   \n",
       "345192             0            0            1            0              0   \n",
       "\n",
       "        Model_aveo  Model_aygo  Model_b_klasse  Model_b_max  Model_beetle  \\\n",
       "167334           0           0               0            0             0   \n",
       "231450           0           0               0            0             0   \n",
       "72136            0           0               0            0             0   \n",
       "163937           0           0               0            0             0   \n",
       "345192           0           0               0            0             0   \n",
       "\n",
       "        Model_berlingo  Model_bora  Model_boxster  Model_bravo  Model_c1  \\\n",
       "167334               0           0              0            0         0   \n",
       "231450               0           0              0            0         0   \n",
       "72136                0           0              0            0         0   \n",
       "163937               0           0              0            0         0   \n",
       "345192               0           0              0            0         0   \n",
       "\n",
       "        Model_c2  Model_c3  Model_c4  Model_c5  Model_c_klasse  Model_c_max  \\\n",
       "167334         0         0         0         0               0            0   \n",
       "231450         0         0         0         0               0            0   \n",
       "72136          0         0         0         0               0            0   \n",
       "163937         0         0         0         0               0            0   \n",
       "345192         0         0         0         0               0            0   \n",
       "\n",
       "        Model_c_reihe  Model_caddy  Model_calibra  Model_captiva  \\\n",
       "167334              0            0              0              0   \n",
       "231450              0            0              0              0   \n",
       "72136               0            0              0              0   \n",
       "163937              0            0              0              0   \n",
       "345192              0            0              0              0   \n",
       "\n",
       "        Model_carisma  Model_carnival  Model_cayenne  Model_cc  Model_ceed  \\\n",
       "167334              0               0              0         0           0   \n",
       "231450              0               0              0         0           0   \n",
       "72136               0               0              0         0           0   \n",
       "163937              0               0              0         0           0   \n",
       "345192              0               0              0         0           0   \n",
       "\n",
       "        Model_charade  Model_cherokee  Model_citigo  Model_civic  Model_cl  \\\n",
       "167334              0               0             0            0         0   \n",
       "231450              0               0             0            0         0   \n",
       "72136               0               0             0            0         0   \n",
       "163937              0               0             0            0         0   \n",
       "345192              0               0             0            0         0   \n",
       "\n",
       "        Model_clio  Model_clk  Model_clubman  Model_colt  Model_combo  \\\n",
       "167334           0          0              0           1            0   \n",
       "231450           0          0              0           0            0   \n",
       "72136            0          0              0           0            0   \n",
       "163937           0          0              0           0            0   \n",
       "345192           0          0              0           0            0   \n",
       "\n",
       "        Model_cooper  Model_cordoba  Model_corolla  Model_corsa  \\\n",
       "167334             0              0              0            0   \n",
       "231450             0              0              0            0   \n",
       "72136              0              0              0            0   \n",
       "163937             0              0              0            0   \n",
       "345192             0              0              0            0   \n",
       "\n",
       "        Model_cr_reihe  Model_croma  Model_crossfire  Model_cuore  \\\n",
       "167334               0            0                0            0   \n",
       "231450               0            0                0            0   \n",
       "72136                0            0                0            0   \n",
       "163937               0            0                0            0   \n",
       "345192               0            0                0            0   \n",
       "\n",
       "        Model_cx_reihe  Model_defender  Model_delta  Model_discovery  \\\n",
       "167334               0               0            0                0   \n",
       "231450               0               0            0                0   \n",
       "72136                0               0            0                0   \n",
       "163937               0               0            0                0   \n",
       "345192               0               0            0                0   \n",
       "\n",
       "        Model_doblo  Model_ducato  Model_duster  Model_e_klasse  \\\n",
       "167334            0             0             0               0   \n",
       "231450            0             0             0               0   \n",
       "72136             0             0             0               0   \n",
       "163937            0             0             0               0   \n",
       "345192            0             0             0               0   \n",
       "\n",
       "        Model_elefantino  Model_eos  Model_escort  Model_espace  Model_exeo  \\\n",
       "167334                 0          0             0             0           0   \n",
       "231450                 0          0             0             0           0   \n",
       "72136                  0          0             0             0           0   \n",
       "163937                 0          0             0             0           0   \n",
       "345192                 0          0             0             0           0   \n",
       "\n",
       "        Model_fabia  Model_fiesta  Model_focus  Model_forester  Model_forfour  \\\n",
       "167334            0             0            0               0              0   \n",
       "231450            0             0            0               0              0   \n",
       "72136             0             0            0               0              0   \n",
       "163937            0             0            0               0              0   \n",
       "345192            0             0            0               0              0   \n",
       "\n",
       "        Model_fortwo  Model_fox  Model_freelander  Model_fusion  \\\n",
       "167334             0          0                 0             0   \n",
       "231450             0          0                 0             0   \n",
       "72136              0          0                 0             0   \n",
       "163937             0          1                 0             0   \n",
       "345192             0          0                 0             0   \n",
       "\n",
       "        Model_g_klasse  Model_galant  Model_galaxy  Model_getz  Model_gl  \\\n",
       "167334               0             0             0           0         0   \n",
       "231450               0             0             0           0         0   \n",
       "72136                0             0             0           0         0   \n",
       "163937               0             0             0           0         0   \n",
       "345192               0             0             0           0         0   \n",
       "\n",
       "        Model_glk  Model_golf  Model_grand  Model_i3  Model_i_reihe  \\\n",
       "167334          0           0            0         0              0   \n",
       "231450          0           0            0         0              0   \n",
       "72136           0           0            0         0              0   \n",
       "163937          0           0            0         0              0   \n",
       "345192          0           0            0         0              0   \n",
       "\n",
       "        Model_ibiza  Model_impreza  Model_insignia  Model_jazz  Model_jetta  \\\n",
       "167334            0              0               0           0            0   \n",
       "231450            0              0               0           0            0   \n",
       "72136             0              0               0           0            0   \n",
       "163937            0              0               0           0            0   \n",
       "345192            0              0               0           0            0   \n",
       "\n",
       "        Model_jimny  Model_juke  Model_justy  Model_ka  Model_kadett  \\\n",
       "167334            0           0            0         0             0   \n",
       "231450            0           0            0         0             0   \n",
       "72136             0           0            0         0             0   \n",
       "163937            0           0            0         0             0   \n",
       "345192            0           0            0         0             0   \n",
       "\n",
       "        Model_kaefer  Model_kalina  Model_kalos  Model_kangoo  Model_kappa  \\\n",
       "167334             0             0            0             0            0   \n",
       "231450             0             0            0             0            0   \n",
       "72136              0             0            0             0            0   \n",
       "163937             0             0            0             0            0   \n",
       "345192             0             0            0             0            0   \n",
       "\n",
       "        Model_kuga  Model_laguna  Model_lancer  Model_lanos  Model_legacy  \\\n",
       "167334           0             0             0            0             0   \n",
       "231450           0             0             0            0             0   \n",
       "72136            0             0             0            0             0   \n",
       "163937           0             0             0            0             0   \n",
       "345192           0             0             0            0             0   \n",
       "\n",
       "        Model_leon  Model_lodgy  Model_logan  Model_lupo  Model_lybra  \\\n",
       "167334           0            0            0           0            0   \n",
       "231450           0            0            0           0            0   \n",
       "72136            0            0            0           0            0   \n",
       "163937           0            0            0           0            0   \n",
       "345192           0            0            0           0            0   \n",
       "\n",
       "        Model_m_klasse  Model_m_reihe  Model_materia  Model_matiz  \\\n",
       "167334               0              0              0            0   \n",
       "231450               0              0              0            0   \n",
       "72136                0              0              0            0   \n",
       "163937               0              0              0            0   \n",
       "345192               0              0              0            0   \n",
       "\n",
       "        Model_megane  Model_meriva  Model_micra  Model_mii  Model_modus  \\\n",
       "167334             0             0            0          0            0   \n",
       "231450             0             0            0          0            0   \n",
       "72136              0             0            0          0            0   \n",
       "163937             0             0            0          0            0   \n",
       "345192             0             0            0          0            0   \n",
       "\n",
       "        Model_mondeo  Model_move  Model_musa  Model_mustang  Model_mx_reihe  \\\n",
       "167334             0           0           0              0               0   \n",
       "231450             0           0           0              0               0   \n",
       "72136              0           0           0              0               0   \n",
       "163937             0           0           0              0               0   \n",
       "345192             0           0           0              0               0   \n",
       "\n",
       "        Model_navara  Model_niva  Model_note  Model_nubira  Model_octavia  \\\n",
       "167334             0           0           0             0              0   \n",
       "231450             0           0           0             0              0   \n",
       "72136              0           0           0             0              0   \n",
       "163937             0           0           0             0              0   \n",
       "345192             0           0           0             0              0   \n",
       "\n",
       "        Model_omega  Model_one  Model_other  Model_outlander  Model_pajero  \\\n",
       "167334            0          0            0                0             0   \n",
       "231450            0          0            0                0             0   \n",
       "72136             0          0            0                0             0   \n",
       "163937            0          0            0                0             0   \n",
       "345192            0          0            0                0             0   \n",
       "\n",
       "        Model_panda  Model_passat  Model_phaeton  Model_picanto  Model_polo  \\\n",
       "167334            0             0              0              0           0   \n",
       "231450            0             0              0              0           0   \n",
       "72136             0             0              0              0           0   \n",
       "163937            0             0              0              0           0   \n",
       "345192            0             0              0              0           0   \n",
       "\n",
       "        Model_primera  Model_ptcruiser  Model_punto  Model_q3  Model_q5  \\\n",
       "167334              0                0            0         0         0   \n",
       "231450              0                0            0         0         0   \n",
       "72136               0                0            0         0         0   \n",
       "163937              0                0            0         0         0   \n",
       "345192              0                0            0         0         0   \n",
       "\n",
       "        Model_q7  Model_qashqai  Model_r19  Model_range_rover  \\\n",
       "167334         0              0          0                  0   \n",
       "231450         0              0          0                  0   \n",
       "72136          0              0          0                  0   \n",
       "163937         0              0          0                  0   \n",
       "345192         0              0          0                  0   \n",
       "\n",
       "        Model_range_rover_evoque  Model_range_rover_sport  Model_rangerover  \\\n",
       "167334                         0                        0                 0   \n",
       "231450                         0                        0                 0   \n",
       "72136                          0                        0                 0   \n",
       "163937                         0                        0                 0   \n",
       "345192                         0                        0                 0   \n",
       "\n",
       "        Model_rav  Model_rio  Model_roadster  Model_roomster  Model_rx_reihe  \\\n",
       "167334          0          0               0               0               0   \n",
       "231450          0          0               0               0               0   \n",
       "72136           0          0               0               0               0   \n",
       "163937          0          0               0               0               0   \n",
       "345192          0          0               0               0               0   \n",
       "\n",
       "        Model_s60  Model_s_klasse  Model_s_max  Model_s_type  Model_samara  \\\n",
       "167334          0               0            0             0             0   \n",
       "231450          0               0            0             0             0   \n",
       "72136           0               0            0             0             0   \n",
       "163937          0               0            0             0             0   \n",
       "345192          0               0            0             0             0   \n",
       "\n",
       "        Model_sandero  Model_santa  Model_scenic  Model_scirocco  \\\n",
       "167334              0            0             0               0   \n",
       "231450              0            0             0               0   \n",
       "72136               0            0             0               0   \n",
       "163937              0            0             0               0   \n",
       "345192              0            0             0               0   \n",
       "\n",
       "        Model_seicento  Model_serie_1  Model_serie_2  Model_serie_3  \\\n",
       "167334               0              0              0              0   \n",
       "231450               0              0              0              0   \n",
       "72136                0              0              0              0   \n",
       "163937               0              0              0              0   \n",
       "345192               0              0              0              0   \n",
       "\n",
       "        Model_sharan  Model_signum  Model_sirion  Model_sl  Model_slk  \\\n",
       "167334             0             0             0         0          0   \n",
       "231450             0             0             0         0          0   \n",
       "72136              0             0             0         0          0   \n",
       "163937             0             0             0         0          0   \n",
       "345192             0             0             0         0          0   \n",
       "\n",
       "        Model_sorento  Model_spark  Model_spider  Model_sportage  \\\n",
       "167334              0            0             0               0   \n",
       "231450              0            0             0               0   \n",
       "72136               0            0             0               0   \n",
       "163937              0            0             0               0   \n",
       "345192              0            0             0               0   \n",
       "\n",
       "        Model_sprinter  Model_stilo  Model_superb  Model_swift  Model_terios  \\\n",
       "167334               0            0             0            0             0   \n",
       "231450               0            0             0            0             0   \n",
       "72136                0            0             0            0             0   \n",
       "163937               0            0             0            0             0   \n",
       "345192               0            0             0            0             0   \n",
       "\n",
       "        Model_tigra  Model_tiguan  Model_toledo  Model_touareg  Model_touran  \\\n",
       "167334            0             0             0              0             0   \n",
       "231450            0             0             0              0             0   \n",
       "72136             0             0             0              0             0   \n",
       "163937            0             0             0              0             0   \n",
       "345192            0             0             0              0             0   \n",
       "\n",
       "        Model_transit  Model_transporter  Model_tt  Model_tucson  \\\n",
       "167334              0                  0         0             0   \n",
       "231450              0                  0         0             0   \n",
       "72136               0                  0         0             0   \n",
       "163937              0                  0         0             0   \n",
       "345192              0                  0         0             0   \n",
       "\n",
       "        Model_twingo  Model_up  Model_v40  Model_v50  Model_v60  Model_v70  \\\n",
       "167334             0         0          0          0          0          0   \n",
       "231450             0         0          0          0          0          0   \n",
       "72136              0         0          0          0          0          0   \n",
       "163937             0         0          0          0          0          0   \n",
       "345192             0         0          0          0          0          0   \n",
       "\n",
       "        Model_v_klasse  Model_vectra  Model_verso  Model_viano  Model_vito  \\\n",
       "167334               0             0            0            0           0   \n",
       "231450               0             0            0            0           0   \n",
       "72136                0             0            0            0           0   \n",
       "163937               0             0            0            0           0   \n",
       "345192               0             0            0            0           0   \n",
       "\n",
       "        Model_vivaro  Model_voyager  Model_wrangler  Model_x_reihe  \\\n",
       "167334             0              0               0              0   \n",
       "231450             0              0               0              0   \n",
       "72136              0              0               0              0   \n",
       "163937             0              0               0              0   \n",
       "345192             0              0               0              0   \n",
       "\n",
       "        Model_x_trail  Model_x_type  Model_xc_reihe  Model_yaris  Model_yeti  \\\n",
       "167334              0             0               0            0           0   \n",
       "231450              0             0               0            0           0   \n",
       "72136               0             0               0            0           0   \n",
       "163937              0             0               0            0           0   \n",
       "345192              0             0               0            0           0   \n",
       "\n",
       "        Model_ypsilon  Model_z_reihe  Model_zafira  FuelType_cng  \\\n",
       "167334              0              0             0             0   \n",
       "231450              0              0             0             0   \n",
       "72136               0              0             0             0   \n",
       "163937              0              0             0             0   \n",
       "345192              0              0             0             0   \n",
       "\n",
       "        FuelType_electric  FuelType_hybrid  FuelType_lpg  FuelType_other  \\\n",
       "167334                  0                0             0               0   \n",
       "231450                  0                0             0               0   \n",
       "72136                   0                0             0               0   \n",
       "163937                  0                0             0               0   \n",
       "345192                  0                0             0               0   \n",
       "\n",
       "        FuelType_petrol  Brand_audi  Brand_bmw  Brand_chevrolet  \\\n",
       "167334                1           0          0                0   \n",
       "231450                1           0          0                0   \n",
       "72136                 1           0          0                0   \n",
       "163937                1           0          0                0   \n",
       "345192                1           0          0                0   \n",
       "\n",
       "        Brand_chrysler  Brand_citroen  Brand_dacia  Brand_daewoo  \\\n",
       "167334               0              0            0             0   \n",
       "231450               0              0            0             0   \n",
       "72136                0              0            0             0   \n",
       "163937               0              0            0             0   \n",
       "345192               0              0            0             0   \n",
       "\n",
       "        Brand_daihatsu  Brand_fiat  Brand_ford  Brand_honda  Brand_hyundai  \\\n",
       "167334               0           0           0            0              0   \n",
       "231450               0           0           0            0              0   \n",
       "72136                0           0           0            0              0   \n",
       "163937               0           0           0            0              0   \n",
       "345192               0           0           0            0              0   \n",
       "\n",
       "        Brand_jaguar  Brand_jeep  Brand_kia  Brand_lada  Brand_lancia  \\\n",
       "167334             0           0          0           0             0   \n",
       "231450             0           0          0           0             0   \n",
       "72136              0           0          0           0             0   \n",
       "163937             0           0          0           0             0   \n",
       "345192             0           0          0           0             0   \n",
       "\n",
       "        Brand_land_rover  Brand_mazda  Brand_mercedes_benz  Brand_mini  \\\n",
       "167334                 0            0                    0           0   \n",
       "231450                 0            0                    0           0   \n",
       "72136                  0            0                    0           0   \n",
       "163937                 0            0                    0           0   \n",
       "345192                 0            0                    0           0   \n",
       "\n",
       "        Brand_mitsubishi  Brand_nissan  Brand_opel  Brand_peugeot  \\\n",
       "167334                 1             0           0              0   \n",
       "231450                 0             0           1              0   \n",
       "72136                  0             0           0              0   \n",
       "163937                 0             0           0              0   \n",
       "345192                 0             0           1              0   \n",
       "\n",
       "        Brand_porsche  Brand_renault  Brand_rover  Brand_saab  Brand_seat  \\\n",
       "167334              0              0            0           0           0   \n",
       "231450              0              0            0           0           0   \n",
       "72136               0              0            0           0           1   \n",
       "163937              0              0            0           0           0   \n",
       "345192              0              0            0           0           0   \n",
       "\n",
       "        Brand_skoda  Brand_smart  Brand_sonstige_autos  Brand_subaru  \\\n",
       "167334            0            0                     0             0   \n",
       "231450            0            0                     0             0   \n",
       "72136             0            0                     0             0   \n",
       "163937            0            0                     0             0   \n",
       "345192            0            0                     0             0   \n",
       "\n",
       "        Brand_suzuki  Brand_toyota  Brand_trabant  Brand_volkswagen  \\\n",
       "167334             0             0              0                 0   \n",
       "231450             0             0              0                 0   \n",
       "72136              0             0              0                 0   \n",
       "163937             0             0              0                 1   \n",
       "345192             0             0              0                 0   \n",
       "\n",
       "        Brand_volvo  Repaired_no  Repaired_yes  \n",
       "167334            0            1             0  \n",
       "231450            0            1             0  \n",
       "72136             0            1             0  \n",
       "163937            0            1             0  \n",
       "345192            0            0             1  "
      ]
     },
     "metadata": {},
     "output_type": "display_data"
    }
   ],
   "source": [
    "display(features_train.head())\n",
    "display(features_valid.head())\n",
    "display(features_test.head())"
   ]
  },
  {
   "cell_type": "markdown",
   "metadata": {},
   "source": [
    "## Обучение моделей"
   ]
  },
  {
   "cell_type": "markdown",
   "metadata": {},
   "source": [
    "<div style=\"border: 5px solid violet; border-radius: 5px;\">\n",
    "Первой моделью будет линейная регрессия в силу её простоты и скорости.\n",
    "</div>"
   ]
  },
  {
   "cell_type": "code",
   "execution_count": 39,
   "metadata": {},
   "outputs": [
    {
     "name": "stdout",
     "output_type": "stream",
     "text": [
      "CPU times: user 15.8 s, sys: 18.3 s, total: 34.1 s\n",
      "Wall time: 1min 39s\n"
     ]
    }
   ],
   "source": [
    "%%time\n",
    "\n",
    "model_lin = LinearRegression()\n",
    "model_lin.fit(features_train, target_train)\n",
    "predict_lin = model_lin.predict(features_valid)"
   ]
  },
  {
   "cell_type": "code",
   "execution_count": 40,
   "metadata": {
    "scrolled": false
   },
   "outputs": [
    {
     "data": {
      "text/plain": [
       "2818.6080345102546"
      ]
     },
     "execution_count": 40,
     "metadata": {},
     "output_type": "execute_result"
    }
   ],
   "source": [
    "mean_squared_error(predict_lin, target_valid) ** 0.5"
   ]
  },
  {
   "cell_type": "markdown",
   "metadata": {},
   "source": [
    "<div style=\"border: 5px solid violet; border-radius: 5px;\">\n",
    "Смысла перебирать гиперпараметры здесь не вижу. Высокая скорость обучения, но метрика превышает нужный нам предел на порядки.\n",
    "</div>"
   ]
  },
  {
   "cell_type": "markdown",
   "metadata": {},
   "source": [
    "<div style=\"border: 5px solid violet; border-radius: 5px;\">\n",
    "Далее - случайный лес.\n",
    "Автоматическим перебором он считал у меня 20 минут - я издеваться не буду, закомментировал.\n",
    "Он выдал мне всё равно начальные параметры - 100, gini, 10 - как будто ничего не делал. \n",
    "Я просто вызвал потом случайный лес с данными параметрами.\n",
    "</div>"
   ]
  },
  {
   "cell_type": "code",
   "execution_count": 42,
   "metadata": {
    "scrolled": true
   },
   "outputs": [],
   "source": [
    "#%%time\n",
    "\n",
    "#model_forest = RandomForestRegressor(random_state=RANDOM_STATE, max_depth=100, n_estimators=100)\n",
    "#model_forest.fit(features_train, target_train)\n",
    "#predict_forest = model_forest.predict(features_valid)\n",
    "#mean_squared_error(predict_forest, target_valid) ** 0.5"
   ]
  },
  {
   "cell_type": "markdown",
   "metadata": {},
   "source": [
    "<div style=\"border: 5px solid violet; border-radius: 5px;\">\n",
    "Далее у нас будет - LightGBM. Сократил n_estimators до 10, так как по какой-то причине, без изменений n_job он стал оооочень долго считать.\n",
    "</div>"
   ]
  },
  {
   "cell_type": "code",
   "execution_count": 43,
   "metadata": {
    "scrolled": true
   },
   "outputs": [
    {
     "name": "stdout",
     "output_type": "stream",
     "text": [
      "[LightGBM] [Debug] Dataset::GetMultiBinFromSparseFeatures: sparse rate 0.912474\n",
      "[LightGBM] [Debug] Dataset::GetMultiBinFromAllFeatures: sparse rate 0.594770\n",
      "[LightGBM] [Debug] init for col-wise cost 2.747640 seconds, init for row-wise cost 2.536222 seconds\n",
      "[LightGBM] [Warning] Auto-choosing row-wise multi-threading, the overhead of testing was 3.520880 seconds.\n",
      "You can set `force_row_wise=true` to remove the overhead.\n",
      "And if memory is not enough, you can set `force_col_wise=true`.\n",
      "[LightGBM] [Debug] Using Sparse Multi-Val Bin\n",
      "[LightGBM] [Info] Total Bins 923\n",
      "[LightGBM] [Info] Number of data points in the train set: 171828, number of used features: 290\n",
      "[LightGBM] [Info] Start training from score 4678.588292\n",
      "[LightGBM] [Debug] Trained a tree with leaves = 31 and depth = 7\n",
      "[1]\tvalid_0's rmse: 4274.85\tvalid_0's l2: 1.82743e+07\n",
      "[LightGBM] [Debug] Trained a tree with leaves = 31 and depth = 8\n",
      "[2]\tvalid_0's rmse: 3989.85\tvalid_0's l2: 1.59189e+07\n",
      "[LightGBM] [Debug] Trained a tree with leaves = 31 and depth = 7\n",
      "[3]\tvalid_0's rmse: 3739.98\tvalid_0's l2: 1.39874e+07\n",
      "[LightGBM] [Debug] Trained a tree with leaves = 31 and depth = 6\n",
      "[4]\tvalid_0's rmse: 3523.26\tvalid_0's l2: 1.24133e+07\n",
      "[LightGBM] [Debug] Trained a tree with leaves = 31 and depth = 7\n",
      "[5]\tvalid_0's rmse: 3333.27\tvalid_0's l2: 1.11107e+07\n",
      "[LightGBM] [Debug] Trained a tree with leaves = 31 and depth = 7\n",
      "[6]\tvalid_0's rmse: 3170.22\tvalid_0's l2: 1.00503e+07\n",
      "[LightGBM] [Debug] Trained a tree with leaves = 31 and depth = 8\n",
      "[7]\tvalid_0's rmse: 3023.35\tvalid_0's l2: 9.14065e+06\n",
      "[LightGBM] [Debug] Trained a tree with leaves = 31 and depth = 7\n",
      "[8]\tvalid_0's rmse: 2897.95\tvalid_0's l2: 8.3981e+06\n",
      "[LightGBM] [Debug] Trained a tree with leaves = 31 and depth = 8\n",
      "[9]\tvalid_0's rmse: 2787.06\tvalid_0's l2: 7.7677e+06\n",
      "[LightGBM] [Debug] Trained a tree with leaves = 31 and depth = 9\n",
      "[10]\tvalid_0's rmse: 2687.3\tvalid_0's l2: 7.22156e+06\n",
      "CPU times: user 2min 5s, sys: 0 ns, total: 2min 5s\n",
      "Wall time: 5min 14s\n"
     ]
    },
    {
     "data": {
      "text/plain": [
       "LGBMModel(n_estimators=10, objective='regression', random_state=12345,\n",
       "          verbose=100)"
      ]
     },
     "execution_count": 43,
     "metadata": {},
     "output_type": "execute_result"
    }
   ],
   "source": [
    "%%time\n",
    "booster = lgb.LGBMModel(objective=\"regression\", n_estimators=10, verbose=100, random_state=RANDOM_STATE)\n",
    "\n",
    "booster.fit(features_train, target_train, eval_set=[(features_valid, target_valid),], eval_metric=\"rmse\")"
   ]
  },
  {
   "cell_type": "code",
   "execution_count": 44,
   "metadata": {},
   "outputs": [
    {
     "name": "stdout",
     "output_type": "stream",
     "text": [
      "CPU times: user 175 µs, sys: 0 ns, total: 175 µs\n",
      "Wall time: 179 µs\n"
     ]
    }
   ],
   "source": [
    "%%time\n",
    "\n",
    "parametrs_cat = {'n_estimators': range(100, 1101, 500),\n",
    "                 'learning_rate': [0.03, 0.1]\n",
    "                }\n",
    "model_cat = CatBoostRegressor(random_state=RANDOM_STATE)\n",
    "grid_cat = GridSearchCV(model_cat, parametrs_cat, cv=3)"
   ]
  },
  {
   "cell_type": "code",
   "execution_count": null,
   "metadata": {},
   "outputs": [
    {
     "name": "stdout",
     "output_type": "stream",
     "text": [
      "0:\tlearn: 4511.8894507\ttotal: 421ms\tremaining: 41.7s\n",
      "1:\tlearn: 4428.1484572\ttotal: 658ms\tremaining: 32.3s\n",
      "2:\tlearn: 4347.2478267\ttotal: 826ms\tremaining: 26.7s\n",
      "3:\tlearn: 4268.6321246\ttotal: 1.01s\tremaining: 24.2s\n",
      "4:\tlearn: 4191.2375769\ttotal: 1.21s\tremaining: 23s\n",
      "5:\tlearn: 4118.7898442\ttotal: 1.37s\tremaining: 21.5s\n",
      "6:\tlearn: 4049.9190835\ttotal: 1.52s\tremaining: 20.2s\n",
      "7:\tlearn: 3979.5343694\ttotal: 1.64s\tremaining: 18.9s\n",
      "8:\tlearn: 3914.5230029\ttotal: 1.76s\tremaining: 17.8s\n",
      "9:\tlearn: 3853.5189132\ttotal: 2.04s\tremaining: 18.4s\n",
      "10:\tlearn: 3792.4012733\ttotal: 2.3s\tremaining: 18.6s\n",
      "11:\tlearn: 3732.3992043\ttotal: 2.56s\tremaining: 18.8s\n",
      "12:\tlearn: 3676.6708585\ttotal: 2.87s\tremaining: 19.2s\n",
      "13:\tlearn: 3620.3758626\ttotal: 3.05s\tremaining: 18.7s\n",
      "14:\tlearn: 3565.7472578\ttotal: 3.07s\tremaining: 17.4s\n",
      "15:\tlearn: 3515.4148262\ttotal: 3.18s\tremaining: 16.7s\n",
      "16:\tlearn: 3467.4999160\ttotal: 3.36s\tremaining: 16.4s\n",
      "17:\tlearn: 3419.3195546\ttotal: 3.53s\tremaining: 16.1s\n",
      "18:\tlearn: 3373.6205260\ttotal: 3.71s\tremaining: 15.8s\n",
      "19:\tlearn: 3327.3072559\ttotal: 3.8s\tremaining: 15.2s\n",
      "20:\tlearn: 3284.3274680\ttotal: 3.94s\tremaining: 14.8s\n",
      "21:\tlearn: 3242.6757412\ttotal: 4.04s\tremaining: 14.3s\n",
      "22:\tlearn: 3203.2339944\ttotal: 4.18s\tremaining: 14s\n",
      "23:\tlearn: 3164.3438318\ttotal: 4.37s\tremaining: 13.8s\n",
      "24:\tlearn: 3128.5828602\ttotal: 4.54s\tremaining: 13.6s\n",
      "25:\tlearn: 3092.3109166\ttotal: 4.92s\tremaining: 14s\n",
      "26:\tlearn: 3058.7721151\ttotal: 5.07s\tremaining: 13.7s\n",
      "27:\tlearn: 3027.1768285\ttotal: 5.33s\tremaining: 13.7s\n",
      "28:\tlearn: 2995.0682833\ttotal: 5.46s\tremaining: 13.4s\n",
      "29:\tlearn: 2965.7876552\ttotal: 5.6s\tremaining: 13.1s\n",
      "30:\tlearn: 2937.5079067\ttotal: 5.75s\tremaining: 12.8s\n",
      "31:\tlearn: 2910.3124321\ttotal: 6.02s\tremaining: 12.8s\n",
      "32:\tlearn: 2883.5092746\ttotal: 6.27s\tremaining: 12.7s\n",
      "33:\tlearn: 2857.4006987\ttotal: 6.5s\tremaining: 12.6s\n",
      "34:\tlearn: 2832.9063311\ttotal: 6.77s\tremaining: 12.6s\n",
      "35:\tlearn: 2808.1202899\ttotal: 6.92s\tremaining: 12.3s\n",
      "36:\tlearn: 2785.7924100\ttotal: 7.19s\tremaining: 12.2s\n",
      "37:\tlearn: 2764.4630191\ttotal: 7.33s\tremaining: 12s\n",
      "38:\tlearn: 2743.7413879\ttotal: 7.42s\tremaining: 11.6s\n",
      "39:\tlearn: 2722.2928524\ttotal: 7.56s\tremaining: 11.3s\n",
      "40:\tlearn: 2702.6961624\ttotal: 7.8s\tremaining: 11.2s\n",
      "41:\tlearn: 2683.3463219\ttotal: 7.92s\tremaining: 10.9s\n",
      "42:\tlearn: 2665.2272995\ttotal: 8.06s\tremaining: 10.7s\n",
      "43:\tlearn: 2647.0638955\ttotal: 8.22s\tremaining: 10.5s\n",
      "44:\tlearn: 2628.9477403\ttotal: 8.32s\tremaining: 10.2s\n",
      "45:\tlearn: 2612.7137294\ttotal: 8.44s\tremaining: 9.9s\n",
      "46:\tlearn: 2595.9600006\ttotal: 8.6s\tremaining: 9.7s\n",
      "47:\tlearn: 2581.2743732\ttotal: 8.66s\tremaining: 9.39s\n",
      "48:\tlearn: 2566.3321323\ttotal: 8.78s\tremaining: 9.14s\n",
      "49:\tlearn: 2552.4230271\ttotal: 9.09s\tremaining: 9.09s\n",
      "50:\tlearn: 2538.0852666\ttotal: 9.29s\tremaining: 8.92s\n",
      "51:\tlearn: 2524.1391916\ttotal: 9.58s\tremaining: 8.85s\n",
      "52:\tlearn: 2510.8408828\ttotal: 9.74s\tremaining: 8.64s\n",
      "53:\tlearn: 2498.2117986\ttotal: 10.1s\tremaining: 8.62s\n",
      "54:\tlearn: 2484.8456040\ttotal: 10.3s\tremaining: 8.45s\n",
      "55:\tlearn: 2473.4928118\ttotal: 10.6s\tremaining: 8.32s\n",
      "56:\tlearn: 2461.9757691\ttotal: 10.9s\tremaining: 8.19s\n",
      "57:\tlearn: 2451.0019155\ttotal: 11s\tremaining: 7.97s\n",
      "58:\tlearn: 2440.3275481\ttotal: 11.1s\tremaining: 7.74s\n",
      "59:\tlearn: 2430.2701818\ttotal: 11.2s\tremaining: 7.49s\n",
      "60:\tlearn: 2420.5725884\ttotal: 11.4s\tremaining: 7.3s\n",
      "61:\tlearn: 2410.9207667\ttotal: 11.6s\tremaining: 7.11s\n",
      "62:\tlearn: 2401.7632935\ttotal: 11.8s\tremaining: 6.94s\n",
      "63:\tlearn: 2392.0533867\ttotal: 12s\tremaining: 6.77s\n",
      "64:\tlearn: 2383.3024660\ttotal: 12.4s\tremaining: 6.65s\n",
      "65:\tlearn: 2374.5728656\ttotal: 12.6s\tremaining: 6.47s\n",
      "66:\tlearn: 2366.1799640\ttotal: 12.9s\tremaining: 6.35s\n",
      "67:\tlearn: 2357.8897766\ttotal: 13.2s\tremaining: 6.2s\n",
      "68:\tlearn: 2348.9759017\ttotal: 13.3s\tremaining: 5.98s\n",
      "69:\tlearn: 2340.8668400\ttotal: 13.4s\tremaining: 5.76s\n",
      "70:\tlearn: 2332.6037856\ttotal: 13.5s\tremaining: 5.52s\n",
      "71:\tlearn: 2325.1530932\ttotal: 13.6s\tremaining: 5.28s\n",
      "72:\tlearn: 2315.6106042\ttotal: 13.7s\tremaining: 5.05s\n",
      "73:\tlearn: 2307.9759508\ttotal: 13.8s\tremaining: 4.86s\n",
      "74:\tlearn: 2300.8733619\ttotal: 13.8s\tremaining: 4.61s\n",
      "75:\tlearn: 2293.7351962\ttotal: 13.9s\tremaining: 4.4s\n",
      "76:\tlearn: 2287.1865143\ttotal: 14s\tremaining: 4.19s\n",
      "77:\tlearn: 2278.8887208\ttotal: 14.2s\tremaining: 4s\n",
      "78:\tlearn: 2271.0524739\ttotal: 14.5s\tremaining: 3.85s\n",
      "79:\tlearn: 2264.4653554\ttotal: 14.7s\tremaining: 3.67s\n",
      "80:\tlearn: 2258.7555332\ttotal: 14.8s\tremaining: 3.47s\n",
      "81:\tlearn: 2252.5380850\ttotal: 14.9s\tremaining: 3.27s\n",
      "82:\tlearn: 2246.7999993\ttotal: 15.1s\tremaining: 3.08s\n",
      "83:\tlearn: 2241.0420003\ttotal: 15.1s\tremaining: 2.88s\n",
      "84:\tlearn: 2235.2358207\ttotal: 15.3s\tremaining: 2.7s\n",
      "85:\tlearn: 2229.2702239\ttotal: 15.4s\tremaining: 2.51s\n",
      "86:\tlearn: 2223.6445801\ttotal: 15.6s\tremaining: 2.33s\n",
      "87:\tlearn: 2218.4544072\ttotal: 15.7s\tremaining: 2.14s\n",
      "88:\tlearn: 2212.1626057\ttotal: 15.9s\tremaining: 1.97s\n",
      "89:\tlearn: 2207.2332045\ttotal: 16.2s\tremaining: 1.8s\n",
      "90:\tlearn: 2201.3339107\ttotal: 16.4s\tremaining: 1.62s\n",
      "91:\tlearn: 2196.4014456\ttotal: 16.6s\tremaining: 1.45s\n",
      "92:\tlearn: 2191.8372264\ttotal: 16.9s\tremaining: 1.27s\n",
      "93:\tlearn: 2187.1101603\ttotal: 16.9s\tremaining: 1.08s\n",
      "94:\tlearn: 2182.7726417\ttotal: 17s\tremaining: 895ms\n",
      "95:\tlearn: 2178.3600639\ttotal: 17.1s\tremaining: 714ms\n",
      "96:\tlearn: 2173.9021633\ttotal: 17.3s\tremaining: 534ms\n",
      "97:\tlearn: 2169.7170313\ttotal: 17.6s\tremaining: 359ms\n",
      "98:\tlearn: 2165.9522204\ttotal: 17.8s\tremaining: 180ms\n",
      "99:\tlearn: 2162.1511238\ttotal: 18s\tremaining: 0us\n",
      "0:\tlearn: 4506.1411338\ttotal: 132ms\tremaining: 13.1s\n",
      "1:\tlearn: 4420.4193253\ttotal: 349ms\tremaining: 17.1s\n",
      "2:\tlearn: 4340.7293448\ttotal: 486ms\tremaining: 15.7s\n",
      "3:\tlearn: 4261.6700163\ttotal: 648ms\tremaining: 15.6s\n",
      "4:\tlearn: 4186.7158139\ttotal: 796ms\tremaining: 15.1s\n",
      "5:\tlearn: 4115.2705313\ttotal: 846ms\tremaining: 13.3s\n",
      "6:\tlearn: 4045.7820356\ttotal: 949ms\tremaining: 12.6s\n",
      "7:\tlearn: 3977.4701171\ttotal: 1.04s\tremaining: 11.9s\n",
      "8:\tlearn: 3912.5642003\ttotal: 1.14s\tremaining: 11.5s\n",
      "9:\tlearn: 3849.7462034\ttotal: 1.43s\tremaining: 12.9s\n",
      "10:\tlearn: 3788.3015061\ttotal: 1.68s\tremaining: 13.6s\n",
      "11:\tlearn: 3730.6913844\ttotal: 1.84s\tremaining: 13.5s\n",
      "12:\tlearn: 3671.8979289\ttotal: 2.05s\tremaining: 13.7s\n",
      "13:\tlearn: 3615.7440423\ttotal: 2.32s\tremaining: 14.3s\n",
      "14:\tlearn: 3560.5355578\ttotal: 2.52s\tremaining: 14.3s\n",
      "15:\tlearn: 3510.3276829\ttotal: 2.78s\tremaining: 14.6s\n",
      "16:\tlearn: 3463.2760174\ttotal: 2.93s\tremaining: 14.3s\n",
      "17:\tlearn: 3416.4528150\ttotal: 3.07s\tremaining: 14s\n",
      "18:\tlearn: 3370.7432714\ttotal: 3.29s\tremaining: 14s\n",
      "19:\tlearn: 3324.9246909\ttotal: 3.42s\tremaining: 13.7s\n",
      "20:\tlearn: 3282.9381171\ttotal: 3.58s\tremaining: 13.5s\n",
      "21:\tlearn: 3240.5507347\ttotal: 3.69s\tremaining: 13.1s\n",
      "22:\tlearn: 3203.3721643\ttotal: 3.95s\tremaining: 13.2s\n",
      "23:\tlearn: 3164.5142171\ttotal: 4.06s\tremaining: 12.9s\n",
      "24:\tlearn: 3128.2124242\ttotal: 4.16s\tremaining: 12.5s\n",
      "25:\tlearn: 3093.5240025\ttotal: 4.34s\tremaining: 12.3s\n",
      "26:\tlearn: 3059.6504246\ttotal: 4.49s\tremaining: 12.1s\n",
      "27:\tlearn: 3028.4675714\ttotal: 4.61s\tremaining: 11.9s\n",
      "28:\tlearn: 2995.9101717\ttotal: 4.72s\tremaining: 11.5s\n",
      "29:\tlearn: 2965.2297498\ttotal: 4.85s\tremaining: 11.3s\n",
      "30:\tlearn: 2937.2528534\ttotal: 5s\tremaining: 11.1s\n",
      "31:\tlearn: 2908.9842388\ttotal: 5.16s\tremaining: 11s\n",
      "32:\tlearn: 2882.3902540\ttotal: 5.35s\tremaining: 10.9s\n",
      "33:\tlearn: 2856.2472023\ttotal: 5.57s\tremaining: 10.8s\n",
      "34:\tlearn: 2831.4311454\ttotal: 5.78s\tremaining: 10.7s\n",
      "35:\tlearn: 2808.2081256\ttotal: 5.93s\tremaining: 10.6s\n",
      "36:\tlearn: 2784.3347983\ttotal: 6.13s\tremaining: 10.4s\n",
      "37:\tlearn: 2761.6215255\ttotal: 6.29s\tremaining: 10.3s\n",
      "38:\tlearn: 2740.6778336\ttotal: 6.42s\tremaining: 10s\n",
      "39:\tlearn: 2720.1075448\ttotal: 6.54s\tremaining: 9.81s\n",
      "40:\tlearn: 2700.0300193\ttotal: 6.8s\tremaining: 9.79s\n",
      "41:\tlearn: 2679.9752629\ttotal: 7.01s\tremaining: 9.68s\n",
      "42:\tlearn: 2661.4903773\ttotal: 7.15s\tremaining: 9.47s\n",
      "43:\tlearn: 2643.0273329\ttotal: 7.34s\tremaining: 9.34s\n",
      "44:\tlearn: 2625.9870900\ttotal: 7.5s\tremaining: 9.16s\n",
      "45:\tlearn: 2609.8522410\ttotal: 7.66s\tremaining: 8.99s\n",
      "46:\tlearn: 2593.8379368\ttotal: 7.83s\tremaining: 8.84s\n",
      "47:\tlearn: 2578.0825322\ttotal: 7.95s\tremaining: 8.61s\n",
      "48:\tlearn: 2563.2021328\ttotal: 8.14s\tremaining: 8.48s\n",
      "49:\tlearn: 2547.3411998\ttotal: 8.27s\tremaining: 8.27s\n",
      "50:\tlearn: 2533.4714876\ttotal: 8.49s\tremaining: 8.16s\n",
      "51:\tlearn: 2520.1229825\ttotal: 8.54s\tremaining: 7.88s\n",
      "52:\tlearn: 2506.6669392\ttotal: 8.62s\tremaining: 7.64s\n",
      "53:\tlearn: 2494.3465341\ttotal: 8.77s\tremaining: 7.47s\n",
      "54:\tlearn: 2482.3314767\ttotal: 8.94s\tremaining: 7.31s\n",
      "55:\tlearn: 2470.1918030\ttotal: 9.07s\tremaining: 7.13s\n",
      "56:\tlearn: 2459.0882095\ttotal: 9.28s\tremaining: 7s\n",
      "57:\tlearn: 2447.4746109\ttotal: 9.44s\tremaining: 6.84s\n",
      "58:\tlearn: 2435.8556984\ttotal: 9.55s\tremaining: 6.63s\n",
      "59:\tlearn: 2425.2423443\ttotal: 9.76s\tremaining: 6.5s\n",
      "60:\tlearn: 2415.2935968\ttotal: 9.86s\tremaining: 6.3s\n",
      "61:\tlearn: 2405.7005972\ttotal: 10s\tremaining: 6.14s\n",
      "62:\tlearn: 2395.7432491\ttotal: 10.2s\tremaining: 5.98s\n",
      "63:\tlearn: 2386.1889433\ttotal: 10.4s\tremaining: 5.86s\n",
      "64:\tlearn: 2376.6564211\ttotal: 10.5s\tremaining: 5.65s\n",
      "65:\tlearn: 2368.1601297\ttotal: 10.7s\tremaining: 5.51s\n",
      "66:\tlearn: 2359.5245950\ttotal: 10.9s\tremaining: 5.34s\n",
      "67:\tlearn: 2350.7466235\ttotal: 11s\tremaining: 5.18s\n",
      "68:\tlearn: 2342.3945345\ttotal: 11.1s\tremaining: 4.99s\n",
      "69:\tlearn: 2335.1030946\ttotal: 11.3s\tremaining: 4.83s\n",
      "70:\tlearn: 2325.1880334\ttotal: 11.4s\tremaining: 4.66s\n",
      "71:\tlearn: 2317.3031967\ttotal: 11.5s\tremaining: 4.49s\n",
      "72:\tlearn: 2309.1701498\ttotal: 11.7s\tremaining: 4.34s\n",
      "73:\tlearn: 2301.6207720\ttotal: 11.9s\tremaining: 4.18s\n",
      "74:\tlearn: 2293.9841220\ttotal: 12.1s\tremaining: 4.03s\n",
      "75:\tlearn: 2286.8313698\ttotal: 12.4s\tremaining: 3.9s\n",
      "76:\tlearn: 2278.2697286\ttotal: 12.5s\tremaining: 3.74s\n",
      "77:\tlearn: 2271.6959931\ttotal: 12.7s\tremaining: 3.57s\n",
      "78:\tlearn: 2265.7889116\ttotal: 12.8s\tremaining: 3.4s\n",
      "79:\tlearn: 2259.2417805\ttotal: 12.9s\tremaining: 3.23s\n",
      "80:\tlearn: 2252.9303839\ttotal: 13.1s\tremaining: 3.08s\n",
      "81:\tlearn: 2246.5087384\ttotal: 13.3s\tremaining: 2.92s\n",
      "82:\tlearn: 2240.5076811\ttotal: 13.5s\tremaining: 2.77s\n",
      "83:\tlearn: 2234.8031997\ttotal: 13.6s\tremaining: 2.59s\n",
      "84:\tlearn: 2229.3038722\ttotal: 13.8s\tremaining: 2.43s\n",
      "85:\tlearn: 2223.8079734\ttotal: 13.8s\tremaining: 2.25s\n",
      "86:\tlearn: 2217.2720139\ttotal: 13.9s\tremaining: 2.08s\n",
      "87:\tlearn: 2211.8082433\ttotal: 14.2s\tremaining: 1.93s\n",
      "88:\tlearn: 2206.8364073\ttotal: 14.3s\tremaining: 1.77s\n",
      "89:\tlearn: 2201.6423541\ttotal: 14.6s\tremaining: 1.62s\n",
      "90:\tlearn: 2196.5780442\ttotal: 15s\tremaining: 1.48s\n",
      "91:\tlearn: 2191.4964360\ttotal: 15.3s\tremaining: 1.33s\n",
      "92:\tlearn: 2186.9462303\ttotal: 15.6s\tremaining: 1.17s\n",
      "93:\tlearn: 2182.4956385\ttotal: 15.7s\tremaining: 1s\n",
      "94:\tlearn: 2177.9134121\ttotal: 15.8s\tremaining: 832ms\n",
      "95:\tlearn: 2173.3608073\ttotal: 15.9s\tremaining: 665ms\n",
      "96:\tlearn: 2168.8513911\ttotal: 16.1s\tremaining: 498ms\n",
      "97:\tlearn: 2164.9476217\ttotal: 16.4s\tremaining: 334ms\n",
      "98:\tlearn: 2159.9123762\ttotal: 16.6s\tremaining: 168ms\n",
      "99:\tlearn: 2155.8619809\ttotal: 16.8s\tremaining: 0us\n",
      "0:\tlearn: 4521.7730270\ttotal: 187ms\tremaining: 18.5s\n",
      "1:\tlearn: 4437.9372255\ttotal: 341ms\tremaining: 16.7s\n",
      "2:\tlearn: 4358.0330879\ttotal: 487ms\tremaining: 15.7s\n",
      "3:\tlearn: 4278.7385477\ttotal: 559ms\tremaining: 13.4s\n",
      "4:\tlearn: 4204.6502988\ttotal: 664ms\tremaining: 12.6s\n",
      "5:\tlearn: 4129.9995416\ttotal: 763ms\tremaining: 12s\n",
      "6:\tlearn: 4060.2522644\ttotal: 862ms\tremaining: 11.4s\n",
      "7:\tlearn: 3991.7764981\ttotal: 1.06s\tremaining: 12.2s\n",
      "8:\tlearn: 3925.0917192\ttotal: 1.32s\tremaining: 13.4s\n",
      "9:\tlearn: 3861.3166734\ttotal: 1.55s\tremaining: 13.9s\n",
      "10:\tlearn: 3801.1662088\ttotal: 1.71s\tremaining: 13.9s\n",
      "11:\tlearn: 3742.7630625\ttotal: 1.89s\tremaining: 13.8s\n",
      "12:\tlearn: 3684.8939950\ttotal: 2.11s\tremaining: 14.1s\n",
      "13:\tlearn: 3628.3137178\ttotal: 2.13s\tremaining: 13.1s\n",
      "14:\tlearn: 3575.7495738\ttotal: 2.27s\tremaining: 12.8s\n",
      "15:\tlearn: 3525.5709886\ttotal: 2.45s\tremaining: 12.8s\n",
      "16:\tlearn: 3475.6537311\ttotal: 2.61s\tremaining: 12.7s\n",
      "17:\tlearn: 3428.9016948\ttotal: 2.78s\tremaining: 12.7s\n",
      "18:\tlearn: 3383.5069001\ttotal: 3.09s\tremaining: 13.2s\n",
      "19:\tlearn: 3340.0248464\ttotal: 3.34s\tremaining: 13.4s\n",
      "20:\tlearn: 3298.2530330\ttotal: 3.6s\tremaining: 13.6s\n",
      "21:\tlearn: 3258.9737735\ttotal: 3.8s\tremaining: 13.5s\n",
      "22:\tlearn: 3218.5222329\ttotal: 3.89s\tremaining: 13s\n",
      "23:\tlearn: 3182.4442104\ttotal: 4.06s\tremaining: 12.9s\n",
      "24:\tlearn: 3148.0885570\ttotal: 4.18s\tremaining: 12.5s\n",
      "25:\tlearn: 3112.5677235\ttotal: 4.33s\tremaining: 12.3s\n",
      "26:\tlearn: 3076.6914729\ttotal: 4.55s\tremaining: 12.3s\n",
      "27:\tlearn: 3042.6769308\ttotal: 4.69s\tremaining: 12.1s\n",
      "28:\tlearn: 3011.2581125\ttotal: 4.87s\tremaining: 11.9s\n",
      "29:\tlearn: 2980.7569227\ttotal: 4.98s\tremaining: 11.6s\n",
      "30:\tlearn: 2951.6437644\ttotal: 5.18s\tremaining: 11.5s\n",
      "31:\tlearn: 2924.1956515\ttotal: 5.34s\tremaining: 11.3s\n",
      "32:\tlearn: 2896.4454411\ttotal: 5.57s\tremaining: 11.3s\n",
      "33:\tlearn: 2870.6991203\ttotal: 5.69s\tremaining: 11s\n",
      "34:\tlearn: 2846.2094872\ttotal: 5.92s\tremaining: 11s\n",
      "35:\tlearn: 2820.8003980\ttotal: 6.04s\tremaining: 10.7s\n",
      "36:\tlearn: 2797.5630587\ttotal: 6.12s\tremaining: 10.4s\n",
      "37:\tlearn: 2775.1891654\ttotal: 6.21s\tremaining: 10.1s\n",
      "38:\tlearn: 2753.6071849\ttotal: 6.39s\tremaining: 9.99s\n",
      "39:\tlearn: 2732.7816426\ttotal: 6.55s\tremaining: 9.82s\n",
      "40:\tlearn: 2712.8713393\ttotal: 6.7s\tremaining: 9.63s\n",
      "41:\tlearn: 2693.4799801\ttotal: 6.77s\tremaining: 9.35s\n",
      "42:\tlearn: 2674.8006264\ttotal: 7.02s\tremaining: 9.3s\n",
      "43:\tlearn: 2657.4143348\ttotal: 7.23s\tremaining: 9.2s\n",
      "44:\tlearn: 2639.5962102\ttotal: 7.38s\tremaining: 9.02s\n",
      "45:\tlearn: 2623.1060692\ttotal: 7.53s\tremaining: 8.84s\n",
      "46:\tlearn: 2606.9159795\ttotal: 7.71s\tremaining: 8.7s\n",
      "47:\tlearn: 2590.9304204\ttotal: 7.96s\tremaining: 8.62s\n",
      "48:\tlearn: 2576.3485717\ttotal: 8.2s\tremaining: 8.54s\n",
      "49:\tlearn: 2562.2443076\ttotal: 8.47s\tremaining: 8.47s\n",
      "50:\tlearn: 2548.1442290\ttotal: 8.6s\tremaining: 8.27s\n",
      "51:\tlearn: 2534.5676798\ttotal: 8.8s\tremaining: 8.13s\n",
      "52:\tlearn: 2520.2007403\ttotal: 9.1s\tremaining: 8.07s\n",
      "53:\tlearn: 2507.0165821\ttotal: 9.51s\tremaining: 8.1s\n",
      "54:\tlearn: 2494.9638476\ttotal: 9.62s\tremaining: 7.87s\n",
      "55:\tlearn: 2483.3216809\ttotal: 9.82s\tremaining: 7.71s\n",
      "56:\tlearn: 2471.8853683\ttotal: 9.98s\tremaining: 7.53s\n",
      "57:\tlearn: 2460.7522457\ttotal: 10.1s\tremaining: 7.32s\n",
      "58:\tlearn: 2449.8091039\ttotal: 10.3s\tremaining: 7.16s\n",
      "59:\tlearn: 2439.4217536\ttotal: 10.5s\tremaining: 6.99s\n",
      "60:\tlearn: 2429.2307876\ttotal: 10.6s\tremaining: 6.8s\n",
      "61:\tlearn: 2419.6845101\ttotal: 10.8s\tremaining: 6.6s\n",
      "62:\tlearn: 2409.9564832\ttotal: 10.9s\tremaining: 6.38s\n",
      "63:\tlearn: 2400.9947102\ttotal: 10.9s\tremaining: 6.12s\n",
      "64:\tlearn: 2392.2367559\ttotal: 11s\tremaining: 5.91s\n",
      "65:\tlearn: 2383.9144188\ttotal: 11.1s\tremaining: 5.7s\n",
      "66:\tlearn: 2375.4774072\ttotal: 11.1s\tremaining: 5.49s\n",
      "67:\tlearn: 2367.6330997\ttotal: 11.5s\tremaining: 5.42s\n",
      "68:\tlearn: 2358.8481510\ttotal: 11.9s\tremaining: 5.34s\n",
      "69:\tlearn: 2350.7425552\ttotal: 12.1s\tremaining: 5.19s\n",
      "70:\tlearn: 2342.7386490\ttotal: 12.3s\tremaining: 5.01s\n",
      "71:\tlearn: 2332.6746603\ttotal: 12.3s\tremaining: 4.79s\n",
      "72:\tlearn: 2325.5111648\ttotal: 12.4s\tremaining: 4.58s\n",
      "73:\tlearn: 2318.4753513\ttotal: 12.5s\tremaining: 4.4s\n",
      "74:\tlearn: 2309.3191983\ttotal: 12.6s\tremaining: 4.21s\n",
      "75:\tlearn: 2303.0785539\ttotal: 12.8s\tremaining: 4.06s\n",
      "76:\tlearn: 2296.0347594\ttotal: 13s\tremaining: 3.87s\n",
      "77:\tlearn: 2289.4433105\ttotal: 13.1s\tremaining: 3.7s\n",
      "78:\tlearn: 2281.1329740\ttotal: 13.3s\tremaining: 3.54s\n",
      "79:\tlearn: 2274.5967152\ttotal: 13.5s\tremaining: 3.37s\n",
      "80:\tlearn: 2268.3446751\ttotal: 13.7s\tremaining: 3.22s\n",
      "81:\tlearn: 2262.7949405\ttotal: 14.1s\tremaining: 3.1s\n",
      "82:\tlearn: 2255.3856469\ttotal: 14.5s\tremaining: 2.97s\n",
      "83:\tlearn: 2249.3087720\ttotal: 14.9s\tremaining: 2.84s\n",
      "84:\tlearn: 2244.0312477\ttotal: 14.9s\tremaining: 2.63s\n",
      "85:\tlearn: 2238.4930016\ttotal: 15.3s\tremaining: 2.5s\n",
      "86:\tlearn: 2231.7920904\ttotal: 15.6s\tremaining: 2.33s\n",
      "87:\tlearn: 2226.4339792\ttotal: 15.8s\tremaining: 2.16s\n",
      "88:\tlearn: 2221.3215403\ttotal: 16.1s\tremaining: 1.99s\n",
      "89:\tlearn: 2215.8806184\ttotal: 16.3s\tremaining: 1.81s\n",
      "90:\tlearn: 2209.8001526\ttotal: 16.5s\tremaining: 1.63s\n",
      "91:\tlearn: 2205.0242446\ttotal: 16.6s\tremaining: 1.44s\n",
      "92:\tlearn: 2200.3938859\ttotal: 16.8s\tremaining: 1.26s\n",
      "93:\tlearn: 2195.9130112\ttotal: 17.1s\tremaining: 1.09s\n",
      "94:\tlearn: 2190.2785662\ttotal: 17.3s\tremaining: 910ms\n",
      "95:\tlearn: 2186.1826407\ttotal: 17.5s\tremaining: 729ms\n",
      "96:\tlearn: 2181.9530873\ttotal: 17.7s\tremaining: 548ms\n",
      "97:\tlearn: 2178.0949950\ttotal: 17.9s\tremaining: 365ms\n",
      "98:\tlearn: 2173.0308339\ttotal: 18s\tremaining: 181ms\n",
      "99:\tlearn: 2169.3186239\ttotal: 18.1s\tremaining: 0us\n",
      "0:\tlearn: 4511.8894507\ttotal: 241ms\tremaining: 2m 24s\n",
      "1:\tlearn: 4428.1484572\ttotal: 519ms\tremaining: 2m 35s\n",
      "2:\tlearn: 4347.2478267\ttotal: 655ms\tremaining: 2m 10s\n",
      "3:\tlearn: 4268.6321246\ttotal: 877ms\tremaining: 2m 10s\n",
      "4:\tlearn: 4191.2375769\ttotal: 1.05s\tremaining: 2m 4s\n",
      "5:\tlearn: 4118.7898442\ttotal: 1.24s\tremaining: 2m 2s\n",
      "6:\tlearn: 4049.9190835\ttotal: 1.35s\tremaining: 1m 54s\n",
      "7:\tlearn: 3979.5343694\ttotal: 1.66s\tremaining: 2m 2s\n",
      "8:\tlearn: 3914.5230029\ttotal: 1.82s\tremaining: 1m 59s\n",
      "9:\tlearn: 3853.5189132\ttotal: 1.98s\tremaining: 1m 56s\n",
      "10:\tlearn: 3792.4012733\ttotal: 2.1s\tremaining: 1m 52s\n",
      "11:\tlearn: 3732.3992043\ttotal: 2.25s\tremaining: 1m 50s\n",
      "12:\tlearn: 3676.6708585\ttotal: 2.39s\tremaining: 1m 48s\n",
      "13:\tlearn: 3620.3758626\ttotal: 2.63s\tremaining: 1m 50s\n",
      "14:\tlearn: 3565.7472578\ttotal: 2.77s\tremaining: 1m 48s\n",
      "15:\tlearn: 3515.4148262\ttotal: 2.91s\tremaining: 1m 46s\n",
      "16:\tlearn: 3467.4999160\ttotal: 3.07s\tremaining: 1m 45s\n",
      "17:\tlearn: 3419.3195546\ttotal: 3.3s\tremaining: 1m 46s\n",
      "18:\tlearn: 3373.6205260\ttotal: 3.46s\tremaining: 1m 45s\n",
      "19:\tlearn: 3327.3072559\ttotal: 3.7s\tremaining: 1m 47s\n",
      "20:\tlearn: 3284.3274680\ttotal: 3.89s\tremaining: 1m 47s\n",
      "21:\tlearn: 3242.6757412\ttotal: 4.08s\tremaining: 1m 47s\n",
      "22:\tlearn: 3203.2339944\ttotal: 4.25s\tremaining: 1m 46s\n",
      "23:\tlearn: 3164.3438318\ttotal: 4.32s\tremaining: 1m 43s\n",
      "24:\tlearn: 3128.5828602\ttotal: 4.5s\tremaining: 1m 43s\n",
      "25:\tlearn: 3092.3109166\ttotal: 4.59s\tremaining: 1m 41s\n",
      "26:\tlearn: 3058.7721151\ttotal: 4.72s\tremaining: 1m 40s\n",
      "27:\tlearn: 3027.1768285\ttotal: 4.84s\tremaining: 1m 38s\n",
      "28:\tlearn: 2995.0682833\ttotal: 4.94s\tremaining: 1m 37s\n",
      "29:\tlearn: 2965.7876552\ttotal: 5.21s\tremaining: 1m 38s\n",
      "30:\tlearn: 2937.5079067\ttotal: 5.43s\tremaining: 1m 39s\n",
      "31:\tlearn: 2910.3124321\ttotal: 5.57s\tremaining: 1m 38s\n",
      "32:\tlearn: 2883.5092746\ttotal: 5.74s\tremaining: 1m 38s\n",
      "33:\tlearn: 2857.4006987\ttotal: 5.93s\tremaining: 1m 38s\n",
      "34:\tlearn: 2832.9063311\ttotal: 6.1s\tremaining: 1m 38s\n",
      "35:\tlearn: 2808.1202899\ttotal: 6.24s\tremaining: 1m 37s\n",
      "36:\tlearn: 2785.7924100\ttotal: 6.43s\tremaining: 1m 37s\n",
      "37:\tlearn: 2764.4630191\ttotal: 6.62s\tremaining: 1m 37s\n",
      "38:\tlearn: 2743.7413879\ttotal: 6.74s\tremaining: 1m 37s\n",
      "39:\tlearn: 2722.2928524\ttotal: 6.88s\tremaining: 1m 36s\n",
      "40:\tlearn: 2702.6961624\ttotal: 6.99s\tremaining: 1m 35s\n",
      "41:\tlearn: 2683.3463219\ttotal: 7.2s\tremaining: 1m 35s\n",
      "42:\tlearn: 2665.2272995\ttotal: 7.27s\tremaining: 1m 34s\n",
      "43:\tlearn: 2647.0638955\ttotal: 7.43s\tremaining: 1m 33s\n",
      "44:\tlearn: 2628.9477403\ttotal: 7.56s\tremaining: 1m 33s\n",
      "45:\tlearn: 2612.7137294\ttotal: 7.61s\tremaining: 1m 31s\n",
      "46:\tlearn: 2595.9600006\ttotal: 7.88s\tremaining: 1m 32s\n",
      "47:\tlearn: 2581.2743732\ttotal: 8.13s\tremaining: 1m 33s\n",
      "48:\tlearn: 2566.3321323\ttotal: 8.27s\tremaining: 1m 33s\n",
      "49:\tlearn: 2552.4230271\ttotal: 8.45s\tremaining: 1m 32s\n",
      "50:\tlearn: 2538.0852666\ttotal: 8.64s\tremaining: 1m 33s\n",
      "51:\tlearn: 2524.1391916\ttotal: 8.85s\tremaining: 1m 33s\n"
     ]
    }
   ],
   "source": [
    "%%time\n",
    "grid_cat.fit(features_train, target_train)"
   ]
  },
  {
   "cell_type": "code",
   "execution_count": null,
   "metadata": {},
   "outputs": [],
   "source": [
    "%%time\n",
    "\n",
    "cat = CatBoostRegressor(random_state=RANDOM_STATE, **grid_cat.best_params_)\n",
    "cat.fit(features_train,target_train, plot=True, verbose=False)"
   ]
  },
  {
   "cell_type": "code",
   "execution_count": null,
   "metadata": {},
   "outputs": [],
   "source": [
    "%%time\n",
    "predict_cat = cat.predict(features_valid)\n",
    "mean_squared_error(predict_cat, target_valid) ** 0.5"
   ]
  },
  {
   "cell_type": "markdown",
   "metadata": {},
   "source": [
    "<div style=\"border: 5px solid violet; border-radius: 5px;\">\n",
    "Можно подводить итоги.\n",
    "</div>"
   ]
  },
  {
   "cell_type": "markdown",
   "metadata": {},
   "source": [
    "## Анализ моделей"
   ]
  },
  {
   "cell_type": "markdown",
   "metadata": {},
   "source": [
    "<div style=\"border: 5px solid violet; border-radius: 5px;\">\n",
    "    \n",
    "* Линейная регрессия выбыла - хорошая скорость, но другие модели демонстрировали метрики лучше на валидации и обучении.\n",
    "    \n",
    "* Случайный лес - относительно среднее качество на тренировочной выборке, но долгое время обучения. При этом автоматический подбор гиперпараметров занимает много времени. + в связке с LightGBM кладёт ядро kernel.\n",
    "    \n",
    "* LightGBM - скорость демонстрирует нестабильную, в связке со случайным лесом кладёт ядро kernel. Качество хорошее, но рулетка, просто технически невозможно иногда за адекватное время прийти к нужным метрикам.\n",
    "    \n",
    "* CatBoost - первая по качеству, время обучения сопоставимо или быстрее в 2 раза со случайным лесом, но при этом осуществлялся подбор гиперпараметров, что на мой взгляд важно, учитывая что лес и LightGBM просто легли, не говоря об автоматизации. \n",
    "    \n",
    "Я остановлюсь на CatBoost из-за высокой скорости обучения, лучшего качества и стабильности, хоть и не требовалось этого.\n",
    "    \n",
    "Время предсказания не рассматривал, в силу незначительности этой характеристики, не заметно на фоне обучения.\n",
    "    \n",
    "RMSE ниже 2500 удалось достичь на тесте.\n",
    "</div>"
   ]
  },
  {
   "cell_type": "code",
   "execution_count": null,
   "metadata": {},
   "outputs": [],
   "source": [
    "%%time\n",
    "predict_cat_test = cat.predict(features_test)\n",
    "mean_squared_error(predict_cat_test, target_test) ** 0.5"
   ]
  },
  {
   "cell_type": "code",
   "execution_count": null,
   "metadata": {},
   "outputs": [],
   "source": []
  }
 ],
 "metadata": {
  "ExecuteTimeLog": [
   {
    "duration": 363,
    "start_time": "2023-07-07T09:44:59.712Z"
   },
   {
    "duration": 1103,
    "start_time": "2023-07-07T09:48:47.468Z"
   },
   {
    "duration": 20,
    "start_time": "2023-07-07T09:48:55.238Z"
   },
   {
    "duration": 105,
    "start_time": "2023-07-07T09:49:09.339Z"
   },
   {
    "duration": 3,
    "start_time": "2023-07-07T09:51:42.871Z"
   },
   {
    "duration": 14,
    "start_time": "2023-07-07T09:51:51.974Z"
   },
   {
    "duration": 115,
    "start_time": "2023-07-07T09:51:56.485Z"
   },
   {
    "duration": 64,
    "start_time": "2023-07-07T09:52:07.974Z"
   },
   {
    "duration": 7,
    "start_time": "2023-07-07T09:52:18.010Z"
   },
   {
    "duration": 422,
    "start_time": "2023-07-07T09:52:26.547Z"
   },
   {
    "duration": 868,
    "start_time": "2023-07-07T09:52:26.971Z"
   },
   {
    "duration": 27,
    "start_time": "2023-07-07T09:52:27.841Z"
   },
   {
    "duration": 135,
    "start_time": "2023-07-07T09:52:27.871Z"
   },
   {
    "duration": 81,
    "start_time": "2023-07-07T09:52:28.007Z"
   },
   {
    "duration": 487,
    "start_time": "2023-07-07T09:53:01.328Z"
   },
   {
    "duration": 461,
    "start_time": "2023-07-07T09:53:26.769Z"
   },
   {
    "duration": 3897,
    "start_time": "2023-07-07T09:55:12.444Z"
   },
   {
    "duration": 2221,
    "start_time": "2023-07-07T09:55:25.528Z"
   },
   {
    "duration": 14,
    "start_time": "2023-07-07T09:55:42.315Z"
   },
   {
    "duration": 14,
    "start_time": "2023-07-07T09:55:50.406Z"
   },
   {
    "duration": 449,
    "start_time": "2023-07-07T09:55:57.441Z"
   },
   {
    "duration": 818,
    "start_time": "2023-07-07T09:55:57.892Z"
   },
   {
    "duration": 19,
    "start_time": "2023-07-07T09:55:58.712Z"
   },
   {
    "duration": 128,
    "start_time": "2023-07-07T09:55:58.733Z"
   },
   {
    "duration": 461,
    "start_time": "2023-07-07T09:55:58.863Z"
   },
   {
    "duration": 450,
    "start_time": "2023-07-07T09:55:59.326Z"
   },
   {
    "duration": 74,
    "start_time": "2023-07-07T09:55:59.778Z"
   },
   {
    "duration": 1800,
    "start_time": "2023-07-07T09:57:22.289Z"
   },
   {
    "duration": 12,
    "start_time": "2023-07-07T09:57:34.689Z"
   },
   {
    "duration": 16,
    "start_time": "2023-07-07T09:57:45.041Z"
   },
   {
    "duration": 14,
    "start_time": "2023-07-07T09:57:55.794Z"
   },
   {
    "duration": 1371,
    "start_time": "2023-07-07T09:58:12.280Z"
   },
   {
    "duration": 1711,
    "start_time": "2023-07-07T09:58:31.256Z"
   },
   {
    "duration": 15,
    "start_time": "2023-07-07T09:58:59.161Z"
   },
   {
    "duration": 9,
    "start_time": "2023-07-07T09:59:19.693Z"
   },
   {
    "duration": 13,
    "start_time": "2023-07-07T09:59:25.991Z"
   },
   {
    "duration": 1479,
    "start_time": "2023-07-07T09:59:33.165Z"
   },
   {
    "duration": 2049,
    "start_time": "2023-07-07T09:59:50.763Z"
   },
   {
    "duration": 15,
    "start_time": "2023-07-07T10:01:24.546Z"
   },
   {
    "duration": 20,
    "start_time": "2023-07-07T10:01:49.489Z"
   },
   {
    "duration": 15,
    "start_time": "2023-07-07T10:03:10.219Z"
   },
   {
    "duration": 944,
    "start_time": "2023-07-07T10:04:56.632Z"
   },
   {
    "duration": 1010,
    "start_time": "2023-07-07T10:05:04.058Z"
   },
   {
    "duration": 400,
    "start_time": "2023-07-07T10:05:25.554Z"
   },
   {
    "duration": 737,
    "start_time": "2023-07-07T10:05:25.956Z"
   },
   {
    "duration": 19,
    "start_time": "2023-07-07T10:05:26.695Z"
   },
   {
    "duration": 133,
    "start_time": "2023-07-07T10:05:26.715Z"
   },
   {
    "duration": 994,
    "start_time": "2023-07-07T10:05:26.852Z"
   },
   {
    "duration": 1011,
    "start_time": "2023-07-07T10:13:02.266Z"
   },
   {
    "duration": 1298,
    "start_time": "2023-07-07T10:13:10.114Z"
   },
   {
    "duration": 805,
    "start_time": "2023-07-07T10:13:11.414Z"
   },
   {
    "duration": 16,
    "start_time": "2023-07-07T10:13:12.220Z"
   },
   {
    "duration": 130,
    "start_time": "2023-07-07T10:13:12.238Z"
   },
   {
    "duration": 983,
    "start_time": "2023-07-07T10:13:12.369Z"
   },
   {
    "duration": 1220,
    "start_time": "2023-07-07T10:13:13.354Z"
   },
   {
    "duration": 81,
    "start_time": "2023-07-07T10:14:47.158Z"
   },
   {
    "duration": 7,
    "start_time": "2023-07-07T10:49:22.008Z"
   },
   {
    "duration": 4,
    "start_time": "2023-07-07T10:49:37.692Z"
   },
   {
    "duration": 9,
    "start_time": "2023-07-07T10:49:45.314Z"
   },
   {
    "duration": 17,
    "start_time": "2023-07-07T11:08:01.243Z"
   },
   {
    "duration": 179,
    "start_time": "2023-07-07T11:08:53.098Z"
   },
   {
    "duration": 25,
    "start_time": "2023-07-07T11:09:00.413Z"
   },
   {
    "duration": 11,
    "start_time": "2023-07-07T11:09:03.036Z"
   },
   {
    "duration": 5,
    "start_time": "2023-07-07T11:09:18.605Z"
   },
   {
    "duration": 21,
    "start_time": "2023-07-07T11:09:24.850Z"
   },
   {
    "duration": 15,
    "start_time": "2023-07-07T11:09:28.338Z"
   },
   {
    "duration": 34,
    "start_time": "2023-07-07T11:13:51.355Z"
   },
   {
    "duration": 19,
    "start_time": "2023-07-07T11:14:11.028Z"
   },
   {
    "duration": 22,
    "start_time": "2023-07-07T11:14:30.881Z"
   },
   {
    "duration": 29,
    "start_time": "2023-07-07T11:14:47.302Z"
   },
   {
    "duration": 20,
    "start_time": "2023-07-07T11:15:00.987Z"
   },
   {
    "duration": 95,
    "start_time": "2023-07-07T11:15:25.423Z"
   },
   {
    "duration": 1396,
    "start_time": "2023-07-07T11:28:32.587Z"
   },
   {
    "duration": 1413,
    "start_time": "2023-07-07T11:28:35.390Z"
   },
   {
    "duration": 2031,
    "start_time": "2023-07-07T11:28:43.941Z"
   },
   {
    "duration": 2252,
    "start_time": "2023-07-07T11:28:47.566Z"
   },
   {
    "duration": 3758,
    "start_time": "2023-07-07T13:48:51.017Z"
   },
   {
    "duration": 1252,
    "start_time": "2023-07-07T13:49:04.581Z"
   },
   {
    "duration": 781,
    "start_time": "2023-07-07T13:49:05.835Z"
   },
   {
    "duration": 16,
    "start_time": "2023-07-07T13:49:06.617Z"
   },
   {
    "duration": 2700,
    "start_time": "2023-07-07T13:49:06.634Z"
   },
   {
    "duration": 0,
    "start_time": "2023-07-07T13:49:09.336Z"
   },
   {
    "duration": 0,
    "start_time": "2023-07-07T13:49:09.338Z"
   },
   {
    "duration": 0,
    "start_time": "2023-07-07T13:49:09.339Z"
   },
   {
    "duration": 0,
    "start_time": "2023-07-07T13:49:09.340Z"
   },
   {
    "duration": 0,
    "start_time": "2023-07-07T13:49:09.342Z"
   },
   {
    "duration": 0,
    "start_time": "2023-07-07T13:49:09.343Z"
   },
   {
    "duration": 0,
    "start_time": "2023-07-07T13:49:09.344Z"
   },
   {
    "duration": 0,
    "start_time": "2023-07-07T13:49:09.345Z"
   },
   {
    "duration": 2902,
    "start_time": "2023-07-07T13:49:24.058Z"
   },
   {
    "duration": 1750,
    "start_time": "2023-07-07T13:49:36.532Z"
   },
   {
    "duration": 1878,
    "start_time": "2023-07-07T13:52:10.542Z"
   },
   {
    "duration": 92,
    "start_time": "2023-07-07T13:53:06.982Z"
   },
   {
    "duration": 98,
    "start_time": "2023-07-07T13:53:22.323Z"
   },
   {
    "duration": 192,
    "start_time": "2023-07-07T14:18:42.060Z"
   },
   {
    "duration": 1199,
    "start_time": "2023-07-07T14:18:51.147Z"
   },
   {
    "duration": 847,
    "start_time": "2023-07-07T14:18:52.348Z"
   },
   {
    "duration": 17,
    "start_time": "2023-07-07T14:18:53.196Z"
   },
   {
    "duration": 303,
    "start_time": "2023-07-07T14:18:53.214Z"
   },
   {
    "duration": 85,
    "start_time": "2023-07-07T14:18:53.519Z"
   },
   {
    "duration": 618,
    "start_time": "2023-07-07T14:18:53.606Z"
   },
   {
    "duration": 1184,
    "start_time": "2023-07-07T14:18:54.226Z"
   },
   {
    "duration": 90,
    "start_time": "2023-07-07T14:18:55.412Z"
   },
   {
    "duration": 10,
    "start_time": "2023-07-07T14:18:55.504Z"
   },
   {
    "duration": 4,
    "start_time": "2023-07-07T14:18:55.516Z"
   },
   {
    "duration": 2983,
    "start_time": "2023-07-07T14:18:55.521Z"
   },
   {
    "duration": 2655,
    "start_time": "2023-07-07T14:18:58.505Z"
   },
   {
    "duration": 15,
    "start_time": "2023-07-07T14:19:19.649Z"
   },
   {
    "duration": 11,
    "start_time": "2023-07-07T14:19:22.483Z"
   },
   {
    "duration": 115,
    "start_time": "2023-07-07T14:19:34.820Z"
   },
   {
    "duration": 15,
    "start_time": "2023-07-07T14:19:39.134Z"
   },
   {
    "duration": 14,
    "start_time": "2023-07-07T14:19:48.361Z"
   },
   {
    "duration": 16,
    "start_time": "2023-07-07T14:21:15.036Z"
   },
   {
    "duration": 11,
    "start_time": "2023-07-07T14:21:21.392Z"
   },
   {
    "duration": 21,
    "start_time": "2023-07-07T14:21:25.625Z"
   },
   {
    "duration": 3,
    "start_time": "2023-07-07T14:21:51.143Z"
   },
   {
    "duration": 17,
    "start_time": "2023-07-07T14:21:59.582Z"
   },
   {
    "duration": 15,
    "start_time": "2023-07-07T14:22:04.059Z"
   },
   {
    "duration": 1160,
    "start_time": "2023-07-07T14:22:12.346Z"
   },
   {
    "duration": 834,
    "start_time": "2023-07-07T14:22:13.508Z"
   },
   {
    "duration": 20,
    "start_time": "2023-07-07T14:22:14.344Z"
   },
   {
    "duration": 290,
    "start_time": "2023-07-07T14:22:14.365Z"
   },
   {
    "duration": 110,
    "start_time": "2023-07-07T14:22:14.657Z"
   },
   {
    "duration": 0,
    "start_time": "2023-07-07T14:22:14.769Z"
   },
   {
    "duration": 0,
    "start_time": "2023-07-07T14:22:14.770Z"
   },
   {
    "duration": 0,
    "start_time": "2023-07-07T14:22:14.770Z"
   },
   {
    "duration": 0,
    "start_time": "2023-07-07T14:22:14.771Z"
   },
   {
    "duration": 0,
    "start_time": "2023-07-07T14:22:14.772Z"
   },
   {
    "duration": 0,
    "start_time": "2023-07-07T14:22:14.773Z"
   },
   {
    "duration": 0,
    "start_time": "2023-07-07T14:22:14.774Z"
   },
   {
    "duration": 0,
    "start_time": "2023-07-07T14:22:14.775Z"
   },
   {
    "duration": 306,
    "start_time": "2023-07-07T14:24:23.383Z"
   },
   {
    "duration": 14,
    "start_time": "2023-07-07T14:25:05.978Z"
   },
   {
    "duration": 16,
    "start_time": "2023-07-07T14:26:31.787Z"
   },
   {
    "duration": 22,
    "start_time": "2023-07-07T14:26:51.115Z"
   },
   {
    "duration": 23,
    "start_time": "2023-07-07T14:27:19.618Z"
   },
   {
    "duration": 143,
    "start_time": "2023-07-07T14:27:34.978Z"
   },
   {
    "duration": 125,
    "start_time": "2023-07-07T14:27:43.389Z"
   },
   {
    "duration": 156,
    "start_time": "2023-07-07T14:28:01.517Z"
   },
   {
    "duration": 131,
    "start_time": "2023-07-07T14:28:45.578Z"
   },
   {
    "duration": 159,
    "start_time": "2023-07-07T14:28:57.985Z"
   },
   {
    "duration": 153,
    "start_time": "2023-07-07T14:29:16.628Z"
   },
   {
    "duration": 15,
    "start_time": "2023-07-07T14:29:21.890Z"
   },
   {
    "duration": 10,
    "start_time": "2023-07-07T14:29:51.994Z"
   },
   {
    "duration": 9,
    "start_time": "2023-07-07T14:29:57.561Z"
   },
   {
    "duration": 13,
    "start_time": "2023-07-07T14:30:26.970Z"
   },
   {
    "duration": 10,
    "start_time": "2023-07-07T14:30:33.382Z"
   },
   {
    "duration": 11,
    "start_time": "2023-07-07T14:30:54.219Z"
   },
   {
    "duration": 154,
    "start_time": "2023-07-07T14:31:31.893Z"
   },
   {
    "duration": 16,
    "start_time": "2023-07-07T14:31:51.773Z"
   },
   {
    "duration": 15,
    "start_time": "2023-07-07T14:32:00.673Z"
   },
   {
    "duration": 13,
    "start_time": "2023-07-07T14:32:09.871Z"
   },
   {
    "duration": 12,
    "start_time": "2023-07-07T15:03:53.247Z"
   },
   {
    "duration": 28,
    "start_time": "2023-07-07T15:04:06.767Z"
   },
   {
    "duration": 23,
    "start_time": "2023-07-07T15:04:34.840Z"
   },
   {
    "duration": 6,
    "start_time": "2023-07-07T15:06:00.791Z"
   },
   {
    "duration": 9,
    "start_time": "2023-07-07T15:06:09.567Z"
   },
   {
    "duration": 10,
    "start_time": "2023-07-07T15:06:12.411Z"
   },
   {
    "duration": 9,
    "start_time": "2023-07-07T15:06:14.653Z"
   },
   {
    "duration": 11,
    "start_time": "2023-07-07T15:06:24.382Z"
   },
   {
    "duration": 16,
    "start_time": "2023-07-07T15:06:44.041Z"
   },
   {
    "duration": 17,
    "start_time": "2023-07-07T15:07:00.018Z"
   },
   {
    "duration": 18,
    "start_time": "2023-07-07T15:07:16.943Z"
   },
   {
    "duration": 18,
    "start_time": "2023-07-07T15:07:27.966Z"
   },
   {
    "duration": 18,
    "start_time": "2023-07-07T15:07:32.891Z"
   },
   {
    "duration": 17,
    "start_time": "2023-07-07T15:07:38.053Z"
   },
   {
    "duration": 17,
    "start_time": "2023-07-07T15:07:39.991Z"
   },
   {
    "duration": 14,
    "start_time": "2023-07-07T15:07:45.195Z"
   },
   {
    "duration": 56,
    "start_time": "2023-07-07T15:09:05.150Z"
   },
   {
    "duration": 65,
    "start_time": "2023-07-07T15:09:08.913Z"
   },
   {
    "duration": 1120,
    "start_time": "2023-07-07T15:09:35.960Z"
   },
   {
    "duration": 786,
    "start_time": "2023-07-07T15:09:37.082Z"
   },
   {
    "duration": 16,
    "start_time": "2023-07-07T15:09:37.870Z"
   },
   {
    "duration": 294,
    "start_time": "2023-07-07T15:09:37.888Z"
   },
   {
    "duration": 212,
    "start_time": "2023-07-07T15:09:38.184Z"
   },
   {
    "duration": 18,
    "start_time": "2023-07-07T15:09:38.397Z"
   },
   {
    "duration": 100,
    "start_time": "2023-07-07T15:09:38.417Z"
   },
   {
    "duration": 84,
    "start_time": "2023-07-07T15:09:38.518Z"
   },
   {
    "duration": 542,
    "start_time": "2023-07-07T15:09:38.604Z"
   },
   {
    "duration": 1112,
    "start_time": "2023-07-07T15:09:39.147Z"
   },
   {
    "duration": 70,
    "start_time": "2023-07-07T15:09:40.261Z"
   },
   {
    "duration": 7,
    "start_time": "2023-07-07T15:09:40.332Z"
   },
   {
    "duration": 12,
    "start_time": "2023-07-07T15:09:40.340Z"
   },
   {
    "duration": 2686,
    "start_time": "2023-07-07T15:09:40.354Z"
   },
   {
    "duration": 2699,
    "start_time": "2023-07-07T15:09:43.042Z"
   },
   {
    "duration": 311,
    "start_time": "2023-07-07T15:10:05.713Z"
   },
   {
    "duration": 1122,
    "start_time": "2023-07-07T15:10:15.575Z"
   },
   {
    "duration": 770,
    "start_time": "2023-07-07T15:10:16.699Z"
   },
   {
    "duration": 16,
    "start_time": "2023-07-07T15:10:17.470Z"
   },
   {
    "duration": 283,
    "start_time": "2023-07-07T15:10:17.487Z"
   },
   {
    "duration": 167,
    "start_time": "2023-07-07T15:10:17.772Z"
   },
   {
    "duration": 19,
    "start_time": "2023-07-07T15:10:17.941Z"
   },
   {
    "duration": 1157,
    "start_time": "2023-07-07T15:10:30.637Z"
   },
   {
    "duration": 807,
    "start_time": "2023-07-07T15:10:31.796Z"
   },
   {
    "duration": 16,
    "start_time": "2023-07-07T15:10:32.605Z"
   },
   {
    "duration": 280,
    "start_time": "2023-07-07T15:10:32.622Z"
   },
   {
    "duration": 161,
    "start_time": "2023-07-07T15:10:32.904Z"
   },
   {
    "duration": 13,
    "start_time": "2023-07-07T15:10:33.066Z"
   },
   {
    "duration": 11357,
    "start_time": "2023-07-07T15:10:33.081Z"
   },
   {
    "duration": 0,
    "start_time": "2023-07-07T15:10:44.440Z"
   },
   {
    "duration": 0,
    "start_time": "2023-07-07T15:10:44.442Z"
   },
   {
    "duration": 0,
    "start_time": "2023-07-07T15:10:44.443Z"
   },
   {
    "duration": 0,
    "start_time": "2023-07-07T15:10:44.444Z"
   },
   {
    "duration": 0,
    "start_time": "2023-07-07T15:10:44.445Z"
   },
   {
    "duration": 0,
    "start_time": "2023-07-07T15:10:44.452Z"
   },
   {
    "duration": 0,
    "start_time": "2023-07-07T15:10:44.453Z"
   },
   {
    "duration": 0,
    "start_time": "2023-07-07T15:10:44.454Z"
   },
   {
    "duration": 62,
    "start_time": "2023-07-07T15:10:57.001Z"
   },
   {
    "duration": 48,
    "start_time": "2023-07-07T15:11:02.899Z"
   },
   {
    "duration": 57,
    "start_time": "2023-07-07T15:11:07.238Z"
   },
   {
    "duration": 62,
    "start_time": "2023-07-07T15:11:26.864Z"
   },
   {
    "duration": 62,
    "start_time": "2023-07-07T15:11:40.392Z"
   },
   {
    "duration": 58,
    "start_time": "2023-07-07T15:12:05.874Z"
   },
   {
    "duration": 58,
    "start_time": "2023-07-07T15:12:23.618Z"
   },
   {
    "duration": 70,
    "start_time": "2023-07-07T15:12:49.096Z"
   },
   {
    "duration": 66,
    "start_time": "2023-07-07T15:13:00.358Z"
   },
   {
    "duration": 62,
    "start_time": "2023-07-07T15:13:13.138Z"
   },
   {
    "duration": 61,
    "start_time": "2023-07-07T15:14:02.957Z"
   },
   {
    "duration": 66,
    "start_time": "2023-07-07T15:14:43.963Z"
   },
   {
    "duration": 3,
    "start_time": "2023-07-07T15:23:22.161Z"
   },
   {
    "duration": 14,
    "start_time": "2023-07-07T15:23:30.171Z"
   },
   {
    "duration": 14,
    "start_time": "2023-07-07T15:23:39.731Z"
   },
   {
    "duration": 1838,
    "start_time": "2023-07-07T15:25:12.638Z"
   },
   {
    "duration": 10,
    "start_time": "2023-07-07T15:26:52.843Z"
   },
   {
    "duration": 14,
    "start_time": "2023-07-07T15:27:05.335Z"
   },
   {
    "duration": 20,
    "start_time": "2023-07-07T15:31:17.239Z"
   },
   {
    "duration": 22,
    "start_time": "2023-07-07T15:31:44.055Z"
   },
   {
    "duration": 25,
    "start_time": "2023-07-07T15:31:57.281Z"
   },
   {
    "duration": 31,
    "start_time": "2023-07-07T15:32:08.341Z"
   },
   {
    "duration": 30,
    "start_time": "2023-07-07T15:32:14.271Z"
   },
   {
    "duration": 21,
    "start_time": "2023-07-07T15:32:20.839Z"
   },
   {
    "duration": 20,
    "start_time": "2023-07-07T15:36:19.998Z"
   },
   {
    "duration": 37,
    "start_time": "2023-07-07T15:36:35.333Z"
   },
   {
    "duration": 16,
    "start_time": "2023-07-07T15:59:10.263Z"
   },
   {
    "duration": 40,
    "start_time": "2023-07-07T15:59:55.449Z"
   },
   {
    "duration": 1389,
    "start_time": "2023-07-07T18:27:29.723Z"
   },
   {
    "duration": 1083,
    "start_time": "2023-07-07T18:27:31.114Z"
   },
   {
    "duration": 18,
    "start_time": "2023-07-07T18:27:32.199Z"
   },
   {
    "duration": 213,
    "start_time": "2023-07-07T18:27:32.219Z"
   },
   {
    "duration": 31,
    "start_time": "2023-07-07T18:27:32.434Z"
   },
   {
    "duration": 26,
    "start_time": "2023-07-07T18:27:32.467Z"
   },
   {
    "duration": 792,
    "start_time": "2023-07-07T18:27:32.495Z"
   },
   {
    "duration": 1203,
    "start_time": "2023-07-07T18:27:33.288Z"
   },
   {
    "duration": 82,
    "start_time": "2023-07-07T18:27:34.493Z"
   },
   {
    "duration": 2685,
    "start_time": "2023-07-07T18:27:34.577Z"
   },
   {
    "duration": 2889,
    "start_time": "2023-07-07T18:27:37.263Z"
   },
   {
    "duration": 8,
    "start_time": "2023-07-07T18:27:40.153Z"
   },
   {
    "duration": 3,
    "start_time": "2023-07-07T18:27:40.163Z"
   },
   {
    "duration": 1130,
    "start_time": "2023-07-07T18:33:42.048Z"
   },
   {
    "duration": 788,
    "start_time": "2023-07-07T18:33:43.180Z"
   },
   {
    "duration": 17,
    "start_time": "2023-07-07T18:33:43.970Z"
   },
   {
    "duration": 225,
    "start_time": "2023-07-07T18:33:43.990Z"
   },
   {
    "duration": 36,
    "start_time": "2023-07-07T18:33:44.217Z"
   },
   {
    "duration": 16,
    "start_time": "2023-07-07T18:33:44.254Z"
   },
   {
    "duration": 824,
    "start_time": "2023-07-07T18:33:44.271Z"
   },
   {
    "duration": 1002,
    "start_time": "2023-07-07T18:33:45.097Z"
   },
   {
    "duration": 1981,
    "start_time": "2023-07-07T18:33:46.101Z"
   },
   {
    "duration": 1186,
    "start_time": "2023-07-07T18:33:48.085Z"
   },
   {
    "duration": 106,
    "start_time": "2023-07-07T18:33:49.273Z"
   },
   {
    "duration": 10,
    "start_time": "2023-07-07T18:33:49.382Z"
   },
   {
    "duration": 6,
    "start_time": "2023-07-07T18:33:49.394Z"
   },
   {
    "duration": 2865,
    "start_time": "2023-07-07T18:34:25.999Z"
   },
   {
    "duration": 2880,
    "start_time": "2023-07-07T18:34:47.961Z"
   },
   {
    "duration": 1143,
    "start_time": "2023-07-07T18:36:14.585Z"
   },
   {
    "duration": 800,
    "start_time": "2023-07-07T18:36:15.730Z"
   },
   {
    "duration": 26,
    "start_time": "2023-07-07T18:36:16.532Z"
   },
   {
    "duration": 210,
    "start_time": "2023-07-07T18:36:16.560Z"
   },
   {
    "duration": 28,
    "start_time": "2023-07-07T18:36:16.771Z"
   },
   {
    "duration": 21,
    "start_time": "2023-07-07T18:36:16.800Z"
   },
   {
    "duration": 776,
    "start_time": "2023-07-07T18:36:16.822Z"
   },
   {
    "duration": 2242,
    "start_time": "2023-07-07T18:36:17.600Z"
   },
   {
    "duration": 2655,
    "start_time": "2023-07-07T18:36:19.844Z"
   },
   {
    "duration": 1267,
    "start_time": "2023-07-07T18:36:22.501Z"
   },
   {
    "duration": 109,
    "start_time": "2023-07-07T18:36:23.770Z"
   },
   {
    "duration": 8,
    "start_time": "2023-07-07T18:36:23.880Z"
   },
   {
    "duration": 3,
    "start_time": "2023-07-07T18:36:23.889Z"
   },
   {
    "duration": 2663,
    "start_time": "2023-07-07T18:36:41.587Z"
   },
   {
    "duration": 1213,
    "start_time": "2023-07-07T18:38:15.244Z"
   },
   {
    "duration": 826,
    "start_time": "2023-07-07T18:38:16.459Z"
   },
   {
    "duration": 18,
    "start_time": "2023-07-07T18:38:17.286Z"
   },
   {
    "duration": 231,
    "start_time": "2023-07-07T18:38:17.306Z"
   },
   {
    "duration": 31,
    "start_time": "2023-07-07T18:38:17.539Z"
   },
   {
    "duration": 23,
    "start_time": "2023-07-07T18:38:17.572Z"
   },
   {
    "duration": 885,
    "start_time": "2023-07-07T18:38:17.597Z"
   },
   {
    "duration": 1226,
    "start_time": "2023-07-07T18:38:18.485Z"
   },
   {
    "duration": 85,
    "start_time": "2023-07-07T18:38:19.712Z"
   },
   {
    "duration": 2702,
    "start_time": "2023-07-07T18:38:19.798Z"
   },
   {
    "duration": 3101,
    "start_time": "2023-07-07T18:38:22.502Z"
   },
   {
    "duration": 8,
    "start_time": "2023-07-07T18:38:25.605Z"
   },
   {
    "duration": 4,
    "start_time": "2023-07-07T18:38:25.615Z"
   },
   {
    "duration": 3235,
    "start_time": "2023-07-07T18:40:49.251Z"
   },
   {
    "duration": 121,
    "start_time": "2023-07-07T18:42:34.574Z"
   },
   {
    "duration": 1318,
    "start_time": "2023-07-07T18:45:26.808Z"
   },
   {
    "duration": 2976,
    "start_time": "2023-07-07T18:45:31.083Z"
   },
   {
    "duration": 3049,
    "start_time": "2023-07-07T18:45:34.062Z"
   },
   {
    "duration": 2889,
    "start_time": "2023-07-07T18:48:11.494Z"
   },
   {
    "duration": 85,
    "start_time": "2023-07-07T19:12:07.829Z"
   },
   {
    "duration": 9,
    "start_time": "2023-07-07T19:15:44.728Z"
   },
   {
    "duration": 7,
    "start_time": "2023-07-07T19:16:08.383Z"
   },
   {
    "duration": 11,
    "start_time": "2023-07-07T19:16:14.021Z"
   },
   {
    "duration": 7,
    "start_time": "2023-07-07T19:16:21.145Z"
   },
   {
    "duration": 7,
    "start_time": "2023-07-07T19:16:36.143Z"
   },
   {
    "duration": 34,
    "start_time": "2023-07-07T19:18:26.041Z"
   },
   {
    "duration": 3,
    "start_time": "2023-07-07T19:18:50.565Z"
   },
   {
    "duration": 33,
    "start_time": "2023-07-07T19:18:53.723Z"
   },
   {
    "duration": 831,
    "start_time": "2023-07-07T19:21:41.326Z"
   },
   {
    "duration": 993,
    "start_time": "2023-07-07T19:21:56.632Z"
   },
   {
    "duration": 823,
    "start_time": "2023-07-07T19:22:06.673Z"
   },
   {
    "duration": 928,
    "start_time": "2023-07-07T19:22:23.799Z"
   },
   {
    "duration": 14,
    "start_time": "2023-07-07T19:22:59.549Z"
   },
   {
    "duration": 3,
    "start_time": "2023-07-07T19:25:03.984Z"
   },
   {
    "duration": 1158,
    "start_time": "2023-07-07T19:25:09.151Z"
   },
   {
    "duration": 779,
    "start_time": "2023-07-07T19:25:10.311Z"
   },
   {
    "duration": 18,
    "start_time": "2023-07-07T19:25:11.092Z"
   },
   {
    "duration": 125,
    "start_time": "2023-07-07T19:25:11.111Z"
   },
   {
    "duration": 215,
    "start_time": "2023-07-07T19:25:11.238Z"
   },
   {
    "duration": 28,
    "start_time": "2023-07-07T19:25:11.455Z"
   },
   {
    "duration": 17,
    "start_time": "2023-07-07T19:25:11.484Z"
   },
   {
    "duration": 779,
    "start_time": "2023-07-07T19:25:11.503Z"
   },
   {
    "duration": 1154,
    "start_time": "2023-07-07T19:25:12.284Z"
   },
   {
    "duration": 85,
    "start_time": "2023-07-07T19:25:13.440Z"
   },
   {
    "duration": 2687,
    "start_time": "2023-07-07T19:25:13.526Z"
   },
   {
    "duration": 2679,
    "start_time": "2023-07-07T19:25:16.214Z"
   },
   {
    "duration": 7,
    "start_time": "2023-07-07T19:25:18.895Z"
   },
   {
    "duration": 10,
    "start_time": "2023-07-07T19:25:18.905Z"
   },
   {
    "duration": 2,
    "start_time": "2023-07-07T19:25:18.917Z"
   },
   {
    "duration": 7,
    "start_time": "2023-07-07T19:26:48.757Z"
   },
   {
    "duration": 100,
    "start_time": "2023-07-07T19:26:56.773Z"
   },
   {
    "duration": 6,
    "start_time": "2023-07-07T19:27:18.612Z"
   },
   {
    "duration": 5,
    "start_time": "2023-07-07T19:27:21.781Z"
   },
   {
    "duration": 1190,
    "start_time": "2023-07-07T19:27:30.489Z"
   },
   {
    "duration": 865,
    "start_time": "2023-07-07T19:27:31.681Z"
   },
   {
    "duration": 26,
    "start_time": "2023-07-07T19:27:32.548Z"
   },
   {
    "duration": 125,
    "start_time": "2023-07-07T19:27:32.577Z"
   },
   {
    "duration": 233,
    "start_time": "2023-07-07T19:27:32.704Z"
   },
   {
    "duration": 32,
    "start_time": "2023-07-07T19:27:32.939Z"
   },
   {
    "duration": 36,
    "start_time": "2023-07-07T19:27:32.972Z"
   },
   {
    "duration": 876,
    "start_time": "2023-07-07T19:27:33.009Z"
   },
   {
    "duration": 1256,
    "start_time": "2023-07-07T19:27:33.887Z"
   },
   {
    "duration": 99,
    "start_time": "2023-07-07T19:27:35.146Z"
   },
   {
    "duration": 2831,
    "start_time": "2023-07-07T19:27:35.246Z"
   },
   {
    "duration": 3143,
    "start_time": "2023-07-07T19:27:38.079Z"
   },
   {
    "duration": 7,
    "start_time": "2023-07-07T19:27:41.224Z"
   },
   {
    "duration": 21,
    "start_time": "2023-07-07T19:27:41.233Z"
   },
   {
    "duration": 3,
    "start_time": "2023-07-07T19:27:41.255Z"
   },
   {
    "duration": 101,
    "start_time": "2023-07-07T19:28:02.777Z"
   },
   {
    "duration": 6,
    "start_time": "2023-07-07T19:29:01.452Z"
   },
   {
    "duration": 5,
    "start_time": "2023-07-07T19:29:13.270Z"
   },
   {
    "duration": 8,
    "start_time": "2023-07-07T19:29:49.092Z"
   },
   {
    "duration": 5,
    "start_time": "2023-07-07T19:29:54.133Z"
   },
   {
    "duration": 45,
    "start_time": "2023-07-07T19:40:34.218Z"
   },
   {
    "duration": 40,
    "start_time": "2023-07-07T19:40:40.421Z"
   },
   {
    "duration": 1123,
    "start_time": "2023-07-07T19:42:05.842Z"
   },
   {
    "duration": 789,
    "start_time": "2023-07-07T19:42:06.968Z"
   },
   {
    "duration": 18,
    "start_time": "2023-07-07T19:42:07.759Z"
   },
   {
    "duration": 133,
    "start_time": "2023-07-07T19:42:07.779Z"
   },
   {
    "duration": 202,
    "start_time": "2023-07-07T19:42:07.914Z"
   },
   {
    "duration": 35,
    "start_time": "2023-07-07T19:42:08.118Z"
   },
   {
    "duration": 44,
    "start_time": "2023-07-07T19:42:08.155Z"
   },
   {
    "duration": 805,
    "start_time": "2023-07-07T19:42:08.200Z"
   },
   {
    "duration": 1143,
    "start_time": "2023-07-07T19:42:09.007Z"
   },
   {
    "duration": 87,
    "start_time": "2023-07-07T19:42:10.152Z"
   },
   {
    "duration": 2691,
    "start_time": "2023-07-07T19:42:10.251Z"
   },
   {
    "duration": 2791,
    "start_time": "2023-07-07T19:42:12.944Z"
   },
   {
    "duration": 16,
    "start_time": "2023-07-07T19:42:15.737Z"
   },
   {
    "duration": 5,
    "start_time": "2023-07-07T19:42:15.754Z"
   },
   {
    "duration": 21,
    "start_time": "2023-07-07T19:42:15.761Z"
   },
   {
    "duration": 8,
    "start_time": "2023-07-07T19:43:17.258Z"
   },
   {
    "duration": 23,
    "start_time": "2023-07-07T19:50:17.348Z"
   },
   {
    "duration": 54,
    "start_time": "2023-07-07T19:54:21.469Z"
   },
   {
    "duration": 52,
    "start_time": "2023-07-07T19:54:40.139Z"
   },
   {
    "duration": 1155,
    "start_time": "2023-07-07T19:55:13.746Z"
   },
   {
    "duration": 866,
    "start_time": "2023-07-07T19:55:14.903Z"
   },
   {
    "duration": 17,
    "start_time": "2023-07-07T19:55:15.770Z"
   },
   {
    "duration": 134,
    "start_time": "2023-07-07T19:55:15.789Z"
   },
   {
    "duration": 205,
    "start_time": "2023-07-07T19:55:15.925Z"
   },
   {
    "duration": 35,
    "start_time": "2023-07-07T19:55:16.132Z"
   },
   {
    "duration": 34,
    "start_time": "2023-07-07T19:55:16.168Z"
   },
   {
    "duration": 831,
    "start_time": "2023-07-07T19:55:16.203Z"
   },
   {
    "duration": 1213,
    "start_time": "2023-07-07T19:55:17.036Z"
   },
   {
    "duration": 105,
    "start_time": "2023-07-07T19:55:18.252Z"
   },
   {
    "duration": 2655,
    "start_time": "2023-07-07T19:55:18.359Z"
   },
   {
    "duration": 2635,
    "start_time": "2023-07-07T19:55:21.016Z"
   },
   {
    "duration": 7,
    "start_time": "2023-07-07T19:55:23.653Z"
   },
   {
    "duration": 43,
    "start_time": "2023-07-07T19:55:23.661Z"
   },
   {
    "duration": 47,
    "start_time": "2023-07-07T19:55:23.706Z"
   },
   {
    "duration": 1122,
    "start_time": "2023-07-07T19:57:00.800Z"
   },
   {
    "duration": 765,
    "start_time": "2023-07-07T19:57:01.925Z"
   },
   {
    "duration": 17,
    "start_time": "2023-07-07T19:57:02.691Z"
   },
   {
    "duration": 127,
    "start_time": "2023-07-07T19:57:02.709Z"
   },
   {
    "duration": 223,
    "start_time": "2023-07-07T19:57:02.838Z"
   },
   {
    "duration": 30,
    "start_time": "2023-07-07T19:57:03.063Z"
   },
   {
    "duration": 43,
    "start_time": "2023-07-07T19:57:03.094Z"
   },
   {
    "duration": 769,
    "start_time": "2023-07-07T19:57:03.139Z"
   },
   {
    "duration": 1138,
    "start_time": "2023-07-07T19:57:03.909Z"
   },
   {
    "duration": 91,
    "start_time": "2023-07-07T19:57:05.048Z"
   },
   {
    "duration": 2798,
    "start_time": "2023-07-07T19:57:05.140Z"
   },
   {
    "duration": 2807,
    "start_time": "2023-07-07T19:57:07.941Z"
   },
   {
    "duration": 10,
    "start_time": "2023-07-07T19:57:10.749Z"
   },
   {
    "duration": 25,
    "start_time": "2023-07-07T19:57:10.762Z"
   },
   {
    "duration": 64,
    "start_time": "2023-07-07T19:57:10.788Z"
   },
   {
    "duration": 10,
    "start_time": "2023-07-07T19:57:10.854Z"
   },
   {
    "duration": 1738,
    "start_time": "2023-07-07T19:57:10.866Z"
   },
   {
    "duration": 75,
    "start_time": "2023-07-07T19:57:12.605Z"
   },
   {
    "duration": 2176,
    "start_time": "2023-07-07T19:57:12.682Z"
   },
   {
    "duration": 1151,
    "start_time": "2023-07-07T20:00:48.076Z"
   },
   {
    "duration": 779,
    "start_time": "2023-07-07T20:00:49.229Z"
   },
   {
    "duration": 17,
    "start_time": "2023-07-07T20:00:50.009Z"
   },
   {
    "duration": 177,
    "start_time": "2023-07-07T20:00:50.027Z"
   },
   {
    "duration": 235,
    "start_time": "2023-07-07T20:00:50.206Z"
   },
   {
    "duration": 45,
    "start_time": "2023-07-07T20:00:50.443Z"
   },
   {
    "duration": 16,
    "start_time": "2023-07-07T20:00:50.491Z"
   },
   {
    "duration": 805,
    "start_time": "2023-07-07T20:00:50.509Z"
   },
   {
    "duration": 1235,
    "start_time": "2023-07-07T20:00:51.316Z"
   },
   {
    "duration": 106,
    "start_time": "2023-07-07T20:00:52.553Z"
   },
   {
    "duration": 2905,
    "start_time": "2023-07-07T20:00:52.661Z"
   },
   {
    "duration": 3109,
    "start_time": "2023-07-07T20:00:55.568Z"
   },
   {
    "duration": 8,
    "start_time": "2023-07-07T20:00:58.678Z"
   },
   {
    "duration": 39,
    "start_time": "2023-07-07T20:00:58.688Z"
   },
   {
    "duration": 97,
    "start_time": "2023-07-07T20:00:58.729Z"
   },
   {
    "duration": 11,
    "start_time": "2023-07-07T20:00:58.828Z"
   },
   {
    "duration": 1868,
    "start_time": "2023-07-07T20:00:58.851Z"
   },
   {
    "duration": 85,
    "start_time": "2023-07-07T20:01:00.721Z"
   },
   {
    "duration": 2457,
    "start_time": "2023-07-07T20:01:00.808Z"
   },
   {
    "duration": 1192,
    "start_time": "2023-07-07T20:01:52.616Z"
   },
   {
    "duration": 865,
    "start_time": "2023-07-07T20:01:53.811Z"
   },
   {
    "duration": 23,
    "start_time": "2023-07-07T20:01:54.678Z"
   },
   {
    "duration": 143,
    "start_time": "2023-07-07T20:01:54.703Z"
   },
   {
    "duration": 232,
    "start_time": "2023-07-07T20:01:54.852Z"
   },
   {
    "duration": 30,
    "start_time": "2023-07-07T20:01:55.086Z"
   },
   {
    "duration": 26,
    "start_time": "2023-07-07T20:01:55.117Z"
   },
   {
    "duration": 959,
    "start_time": "2023-07-07T20:01:55.145Z"
   },
   {
    "duration": 1425,
    "start_time": "2023-07-07T20:01:56.106Z"
   },
   {
    "duration": 96,
    "start_time": "2023-07-07T20:01:57.534Z"
   },
   {
    "duration": 3004,
    "start_time": "2023-07-07T20:01:57.632Z"
   },
   {
    "duration": 3005,
    "start_time": "2023-07-07T20:02:00.638Z"
   },
   {
    "duration": 10,
    "start_time": "2023-07-07T20:02:03.645Z"
   },
   {
    "duration": 38,
    "start_time": "2023-07-07T20:02:03.658Z"
   },
   {
    "duration": 44,
    "start_time": "2023-07-07T20:02:03.697Z"
   },
   {
    "duration": 4,
    "start_time": "2023-07-07T20:02:03.752Z"
   },
   {
    "duration": 24,
    "start_time": "2023-07-07T20:02:03.758Z"
   },
   {
    "duration": 1919,
    "start_time": "2023-07-07T20:02:03.784Z"
   },
   {
    "duration": 89,
    "start_time": "2023-07-07T20:02:05.705Z"
   },
   {
    "duration": 2358,
    "start_time": "2023-07-07T20:02:05.796Z"
   },
   {
    "duration": 1131,
    "start_time": "2023-07-07T20:03:05.375Z"
   },
   {
    "duration": 797,
    "start_time": "2023-07-07T20:03:06.507Z"
   },
   {
    "duration": 16,
    "start_time": "2023-07-07T20:03:07.306Z"
   },
   {
    "duration": 128,
    "start_time": "2023-07-07T20:03:07.324Z"
   },
   {
    "duration": 213,
    "start_time": "2023-07-07T20:03:07.453Z"
   },
   {
    "duration": 29,
    "start_time": "2023-07-07T20:03:07.668Z"
   },
   {
    "duration": 19,
    "start_time": "2023-07-07T20:03:07.699Z"
   },
   {
    "duration": 880,
    "start_time": "2023-07-07T20:03:07.720Z"
   },
   {
    "duration": 1173,
    "start_time": "2023-07-07T20:03:08.602Z"
   },
   {
    "duration": 92,
    "start_time": "2023-07-07T20:03:09.776Z"
   },
   {
    "duration": 2803,
    "start_time": "2023-07-07T20:03:09.870Z"
   },
   {
    "duration": 2851,
    "start_time": "2023-07-07T20:03:12.675Z"
   },
   {
    "duration": 8,
    "start_time": "2023-07-07T20:03:15.528Z"
   },
   {
    "duration": 41,
    "start_time": "2023-07-07T20:03:15.537Z"
   },
   {
    "duration": 51,
    "start_time": "2023-07-07T20:03:15.580Z"
   },
   {
    "duration": 67,
    "start_time": "2023-07-07T20:03:15.633Z"
   },
   {
    "duration": 3,
    "start_time": "2023-07-07T20:03:15.702Z"
   },
   {
    "duration": 19,
    "start_time": "2023-07-07T20:03:15.707Z"
   },
   {
    "duration": 1814,
    "start_time": "2023-07-07T20:03:15.728Z"
   },
   {
    "duration": 78,
    "start_time": "2023-07-07T20:03:17.544Z"
   },
   {
    "duration": 2324,
    "start_time": "2023-07-07T20:03:17.623Z"
   },
   {
    "duration": 1048,
    "start_time": "2023-07-07T20:05:47.370Z"
   },
   {
    "duration": 919,
    "start_time": "2023-07-07T20:06:07.772Z"
   },
   {
    "duration": 843,
    "start_time": "2023-07-07T20:06:22.148Z"
   },
   {
    "duration": 826,
    "start_time": "2023-07-07T20:08:35.662Z"
   },
   {
    "duration": 1147,
    "start_time": "2023-07-07T20:09:21.873Z"
   },
   {
    "duration": 786,
    "start_time": "2023-07-07T20:09:23.022Z"
   },
   {
    "duration": 15,
    "start_time": "2023-07-07T20:09:23.810Z"
   },
   {
    "duration": 125,
    "start_time": "2023-07-07T20:09:23.827Z"
   },
   {
    "duration": 222,
    "start_time": "2023-07-07T20:09:23.953Z"
   },
   {
    "duration": 33,
    "start_time": "2023-07-07T20:09:24.177Z"
   },
   {
    "duration": 17,
    "start_time": "2023-07-07T20:09:24.212Z"
   },
   {
    "duration": 815,
    "start_time": "2023-07-07T20:09:24.231Z"
   },
   {
    "duration": 1207,
    "start_time": "2023-07-07T20:09:25.051Z"
   },
   {
    "duration": 94,
    "start_time": "2023-07-07T20:09:26.262Z"
   },
   {
    "duration": 2903,
    "start_time": "2023-07-07T20:09:26.359Z"
   },
   {
    "duration": 2835,
    "start_time": "2023-07-07T20:09:29.264Z"
   },
   {
    "duration": 8,
    "start_time": "2023-07-07T20:09:32.101Z"
   },
   {
    "duration": 42,
    "start_time": "2023-07-07T20:09:32.111Z"
   },
   {
    "duration": 33,
    "start_time": "2023-07-07T20:09:32.154Z"
   },
   {
    "duration": 69,
    "start_time": "2023-07-07T20:09:32.189Z"
   },
   {
    "duration": 4,
    "start_time": "2023-07-07T20:09:32.260Z"
   },
   {
    "duration": 28,
    "start_time": "2023-07-07T20:09:32.266Z"
   },
   {
    "duration": 982,
    "start_time": "2023-07-07T20:09:32.296Z"
   },
   {
    "duration": 76,
    "start_time": "2023-07-07T20:09:33.279Z"
   },
   {
    "duration": 2341,
    "start_time": "2023-07-07T20:09:33.357Z"
   },
   {
    "duration": 17,
    "start_time": "2023-07-07T20:11:16.599Z"
   },
   {
    "duration": 284,
    "start_time": "2023-07-07T20:50:45.892Z"
   },
   {
    "duration": 1510,
    "start_time": "2023-07-07T21:23:14.932Z"
   },
   {
    "duration": 888,
    "start_time": "2023-07-07T21:23:16.444Z"
   },
   {
    "duration": 29,
    "start_time": "2023-07-07T21:23:17.334Z"
   },
   {
    "duration": 145,
    "start_time": "2023-07-07T21:23:17.365Z"
   },
   {
    "duration": 268,
    "start_time": "2023-07-07T21:23:17.513Z"
   },
   {
    "duration": 29,
    "start_time": "2023-07-07T21:23:17.783Z"
   },
   {
    "duration": 38,
    "start_time": "2023-07-07T21:23:17.814Z"
   },
   {
    "duration": 886,
    "start_time": "2023-07-07T21:23:17.854Z"
   },
   {
    "duration": 1171,
    "start_time": "2023-07-07T21:23:18.742Z"
   },
   {
    "duration": 101,
    "start_time": "2023-07-07T21:23:19.915Z"
   },
   {
    "duration": 2837,
    "start_time": "2023-07-07T21:23:20.018Z"
   },
   {
    "duration": 2929,
    "start_time": "2023-07-07T21:23:22.858Z"
   },
   {
    "duration": 8,
    "start_time": "2023-07-07T21:23:25.789Z"
   },
   {
    "duration": 42,
    "start_time": "2023-07-07T21:23:25.800Z"
   },
   {
    "duration": 35,
    "start_time": "2023-07-07T21:23:25.852Z"
   },
   {
    "duration": 77,
    "start_time": "2023-07-07T21:23:25.889Z"
   },
   {
    "duration": 4,
    "start_time": "2023-07-07T21:23:25.968Z"
   },
   {
    "duration": 23,
    "start_time": "2023-07-07T21:23:25.974Z"
   },
   {
    "duration": 971,
    "start_time": "2023-07-07T21:23:25.999Z"
   },
   {
    "duration": 91,
    "start_time": "2023-07-07T21:23:26.972Z"
   },
   {
    "duration": 2575,
    "start_time": "2023-07-07T21:23:27.065Z"
   },
   {
    "duration": 24,
    "start_time": "2023-07-07T21:23:29.642Z"
   },
   {
    "duration": 124,
    "start_time": "2023-07-07T21:23:29.668Z"
   },
   {
    "duration": 145,
    "start_time": "2023-07-07T21:23:29.793Z"
   },
   {
    "duration": 1381,
    "start_time": "2023-07-07T21:54:12.646Z"
   },
   {
    "duration": 850,
    "start_time": "2023-07-07T21:54:14.028Z"
   },
   {
    "duration": 17,
    "start_time": "2023-07-07T21:54:14.879Z"
   },
   {
    "duration": 136,
    "start_time": "2023-07-07T21:54:14.898Z"
   },
   {
    "duration": 236,
    "start_time": "2023-07-07T21:54:15.036Z"
   },
   {
    "duration": 31,
    "start_time": "2023-07-07T21:54:15.278Z"
   },
   {
    "duration": 25,
    "start_time": "2023-07-07T21:54:15.311Z"
   },
   {
    "duration": 875,
    "start_time": "2023-07-07T21:54:15.338Z"
   },
   {
    "duration": 1168,
    "start_time": "2023-07-07T21:54:16.215Z"
   },
   {
    "duration": 101,
    "start_time": "2023-07-07T21:54:17.386Z"
   },
   {
    "duration": 3088,
    "start_time": "2023-07-07T21:54:17.488Z"
   },
   {
    "duration": 2997,
    "start_time": "2023-07-07T21:54:20.577Z"
   },
   {
    "duration": 7,
    "start_time": "2023-07-07T21:54:23.576Z"
   },
   {
    "duration": 25,
    "start_time": "2023-07-07T21:54:23.585Z"
   },
   {
    "duration": 58,
    "start_time": "2023-07-07T21:54:23.612Z"
   },
   {
    "duration": 61,
    "start_time": "2023-07-07T21:54:23.673Z"
   },
   {
    "duration": 19,
    "start_time": "2023-07-07T21:54:23.736Z"
   },
   {
    "duration": 17,
    "start_time": "2023-07-07T21:54:23.762Z"
   },
   {
    "duration": 1016,
    "start_time": "2023-07-07T21:54:23.782Z"
   },
   {
    "duration": 93,
    "start_time": "2023-07-07T21:54:24.799Z"
   },
   {
    "duration": 2481,
    "start_time": "2023-07-07T21:54:24.893Z"
   },
   {
    "duration": 19,
    "start_time": "2023-07-07T21:54:27.376Z"
   },
   {
    "duration": 951,
    "start_time": "2023-07-07T21:54:27.397Z"
   },
   {
    "duration": 141,
    "start_time": "2023-07-07T21:54:28.351Z"
   },
   {
    "duration": 170,
    "start_time": "2023-07-07T21:54:28.494Z"
   },
   {
    "duration": 1428,
    "start_time": "2023-07-07T21:54:56.642Z"
   },
   {
    "duration": 900,
    "start_time": "2023-07-07T21:54:58.072Z"
   },
   {
    "duration": 18,
    "start_time": "2023-07-07T21:54:58.973Z"
   },
   {
    "duration": 133,
    "start_time": "2023-07-07T21:54:58.993Z"
   },
   {
    "duration": 221,
    "start_time": "2023-07-07T21:54:59.128Z"
   },
   {
    "duration": 38,
    "start_time": "2023-07-07T21:54:59.354Z"
   },
   {
    "duration": 26,
    "start_time": "2023-07-07T21:54:59.394Z"
   },
   {
    "duration": 925,
    "start_time": "2023-07-07T21:54:59.421Z"
   },
   {
    "duration": 1269,
    "start_time": "2023-07-07T21:55:00.348Z"
   },
   {
    "duration": 101,
    "start_time": "2023-07-07T21:55:01.621Z"
   },
   {
    "duration": 3051,
    "start_time": "2023-07-07T21:55:01.723Z"
   },
   {
    "duration": 2944,
    "start_time": "2023-07-07T21:55:04.776Z"
   },
   {
    "duration": 7,
    "start_time": "2023-07-07T21:55:07.722Z"
   },
   {
    "duration": 44,
    "start_time": "2023-07-07T21:55:07.732Z"
   },
   {
    "duration": 37,
    "start_time": "2023-07-07T21:55:07.778Z"
   },
   {
    "duration": 69,
    "start_time": "2023-07-07T21:55:07.817Z"
   },
   {
    "duration": 4,
    "start_time": "2023-07-07T21:55:07.888Z"
   },
   {
    "duration": 15,
    "start_time": "2023-07-07T21:55:07.893Z"
   },
   {
    "duration": 964,
    "start_time": "2023-07-07T21:55:07.910Z"
   },
   {
    "duration": 95,
    "start_time": "2023-07-07T21:55:08.876Z"
   },
   {
    "duration": 2156,
    "start_time": "2023-07-07T21:55:08.973Z"
   },
   {
    "duration": 33,
    "start_time": "2023-07-07T21:55:11.133Z"
   },
   {
    "duration": 900,
    "start_time": "2023-07-07T21:55:11.169Z"
   },
   {
    "duration": 563,
    "start_time": "2023-07-07T21:55:12.071Z"
   },
   {
    "duration": 191,
    "start_time": "2023-07-07T21:55:12.637Z"
   },
   {
    "duration": 109,
    "start_time": "2023-07-07T22:06:40.607Z"
   },
   {
    "duration": 1613,
    "start_time": "2023-07-07T22:06:46.830Z"
   },
   {
    "duration": 893,
    "start_time": "2023-07-07T22:06:48.445Z"
   },
   {
    "duration": 37,
    "start_time": "2023-07-07T22:06:49.340Z"
   },
   {
    "duration": 119,
    "start_time": "2023-07-07T22:06:49.379Z"
   },
   {
    "duration": 225,
    "start_time": "2023-07-07T22:06:49.501Z"
   },
   {
    "duration": 43,
    "start_time": "2023-07-07T22:06:49.728Z"
   },
   {
    "duration": 21,
    "start_time": "2023-07-07T22:06:49.773Z"
   },
   {
    "duration": 889,
    "start_time": "2023-07-07T22:06:49.796Z"
   },
   {
    "duration": 1231,
    "start_time": "2023-07-07T22:06:50.687Z"
   },
   {
    "duration": 122,
    "start_time": "2023-07-07T22:06:51.920Z"
   },
   {
    "duration": 3325,
    "start_time": "2023-07-07T22:06:52.044Z"
   },
   {
    "duration": 3599,
    "start_time": "2023-07-07T22:06:55.379Z"
   },
   {
    "duration": 7,
    "start_time": "2023-07-07T22:06:58.981Z"
   },
   {
    "duration": 31,
    "start_time": "2023-07-07T22:06:58.991Z"
   },
   {
    "duration": 52,
    "start_time": "2023-07-07T22:06:59.024Z"
   },
   {
    "duration": 50,
    "start_time": "2023-07-07T22:06:59.077Z"
   },
   {
    "duration": 5,
    "start_time": "2023-07-07T22:06:59.129Z"
   },
   {
    "duration": 21,
    "start_time": "2023-07-07T22:06:59.154Z"
   },
   {
    "duration": 926,
    "start_time": "2023-07-07T22:06:59.176Z"
   },
   {
    "duration": 90,
    "start_time": "2023-07-07T22:07:00.104Z"
   },
   {
    "duration": 2450,
    "start_time": "2023-07-07T22:07:00.196Z"
   },
   {
    "duration": 25,
    "start_time": "2023-07-07T22:07:02.648Z"
   },
   {
    "duration": 1004,
    "start_time": "2023-07-07T22:07:02.675Z"
   },
   {
    "duration": 632,
    "start_time": "2023-07-07T22:07:03.682Z"
   },
   {
    "duration": 206,
    "start_time": "2023-07-07T22:07:04.316Z"
   },
   {
    "duration": 51535,
    "start_time": "2023-07-07T22:07:04.524Z"
   },
   {
    "duration": 6,
    "start_time": "2023-07-07T22:08:18.138Z"
   },
   {
    "duration": 1597,
    "start_time": "2023-07-07T22:32:34.159Z"
   },
   {
    "duration": 834,
    "start_time": "2023-07-07T22:32:35.758Z"
   },
   {
    "duration": 17,
    "start_time": "2023-07-07T22:32:36.594Z"
   },
   {
    "duration": 139,
    "start_time": "2023-07-07T22:32:36.613Z"
   },
   {
    "duration": 219,
    "start_time": "2023-07-07T22:32:36.754Z"
   },
   {
    "duration": 29,
    "start_time": "2023-07-07T22:32:36.974Z"
   },
   {
    "duration": 18,
    "start_time": "2023-07-07T22:32:37.005Z"
   },
   {
    "duration": 827,
    "start_time": "2023-07-07T22:32:37.025Z"
   },
   {
    "duration": 1198,
    "start_time": "2023-07-07T22:32:37.854Z"
   },
   {
    "duration": 83,
    "start_time": "2023-07-07T22:32:39.054Z"
   },
   {
    "duration": 2940,
    "start_time": "2023-07-07T22:32:39.138Z"
   },
   {
    "duration": 2754,
    "start_time": "2023-07-07T22:32:42.080Z"
   },
   {
    "duration": 17,
    "start_time": "2023-07-07T22:32:44.836Z"
   },
   {
    "duration": 25,
    "start_time": "2023-07-07T22:32:44.855Z"
   },
   {
    "duration": 33,
    "start_time": "2023-07-07T22:32:44.882Z"
   },
   {
    "duration": 68,
    "start_time": "2023-07-07T22:32:44.916Z"
   },
   {
    "duration": 3,
    "start_time": "2023-07-07T22:32:44.986Z"
   },
   {
    "duration": 52,
    "start_time": "2023-07-07T22:32:44.991Z"
   },
   {
    "duration": 895,
    "start_time": "2023-07-07T22:32:45.045Z"
   },
   {
    "duration": 84,
    "start_time": "2023-07-07T22:32:45.942Z"
   },
   {
    "duration": 2170,
    "start_time": "2023-07-07T22:32:46.028Z"
   },
   {
    "duration": 20,
    "start_time": "2023-07-07T22:32:48.200Z"
   },
   {
    "duration": 974,
    "start_time": "2023-07-07T22:32:48.223Z"
   },
   {
    "duration": 542,
    "start_time": "2023-07-07T22:32:49.199Z"
   },
   {
    "duration": 187,
    "start_time": "2023-07-07T22:32:49.743Z"
   },
   {
    "duration": 29627,
    "start_time": "2023-07-07T22:32:49.932Z"
   },
   {
    "duration": 93,
    "start_time": "2023-07-07T22:33:19.562Z"
   },
   {
    "duration": 408,
    "start_time": "2023-07-07T22:33:19.657Z"
   },
   {
    "duration": 0,
    "start_time": "2023-07-07T22:33:20.067Z"
   },
   {
    "duration": 0,
    "start_time": "2023-07-07T22:33:20.069Z"
   },
   {
    "duration": 0,
    "start_time": "2023-07-07T22:33:20.070Z"
   },
   {
    "duration": 344,
    "start_time": "2023-07-07T22:40:56.001Z"
   },
   {
    "duration": 126,
    "start_time": "2023-07-07T22:41:07.943Z"
   },
   {
    "duration": 86,
    "start_time": "2023-07-07T22:41:30.825Z"
   },
   {
    "duration": 94,
    "start_time": "2023-07-07T22:42:00.791Z"
   },
   {
    "duration": 1203354,
    "start_time": "2023-07-07T22:42:21.238Z"
   },
   {
    "duration": 5,
    "start_time": "2023-07-07T23:02:24.595Z"
   },
   {
    "duration": 230,
    "start_time": "2023-07-07T23:02:24.602Z"
   },
   {
    "duration": 0,
    "start_time": "2023-07-07T23:02:24.834Z"
   },
   {
    "duration": 16,
    "start_time": "2023-07-07T23:03:28.451Z"
   },
   {
    "duration": 7,
    "start_time": "2023-07-07T23:03:32.283Z"
   },
   {
    "duration": 5,
    "start_time": "2023-07-07T23:04:44.211Z"
   },
   {
    "duration": 3,
    "start_time": "2023-07-07T23:12:45.578Z"
   },
   {
    "duration": 11,
    "start_time": "2023-07-07T23:12:49.930Z"
   },
   {
    "duration": 14,
    "start_time": "2023-07-07T23:14:11.550Z"
   },
   {
    "duration": 20,
    "start_time": "2023-07-07T23:14:19.048Z"
   },
   {
    "duration": 14,
    "start_time": "2023-07-07T23:14:31.214Z"
   },
   {
    "duration": 13,
    "start_time": "2023-07-07T23:14:42.843Z"
   },
   {
    "duration": 9,
    "start_time": "2023-07-07T23:14:52.086Z"
   },
   {
    "duration": 10,
    "start_time": "2023-07-07T23:14:55.506Z"
   },
   {
    "duration": 15,
    "start_time": "2023-07-07T23:14:58.068Z"
   },
   {
    "duration": 10,
    "start_time": "2023-07-07T23:15:06.578Z"
   },
   {
    "duration": 11,
    "start_time": "2023-07-07T23:15:30.428Z"
   },
   {
    "duration": 10,
    "start_time": "2023-07-07T23:16:39.836Z"
   },
   {
    "duration": 9,
    "start_time": "2023-07-07T23:17:20.015Z"
   },
   {
    "duration": 10,
    "start_time": "2023-07-07T23:17:23.988Z"
   },
   {
    "duration": 12,
    "start_time": "2023-07-07T23:23:29.513Z"
   },
   {
    "duration": 493,
    "start_time": "2023-07-07T23:23:34.447Z"
   },
   {
    "duration": 376691,
    "start_time": "2023-07-07T23:23:59.913Z"
   },
   {
    "duration": 11,
    "start_time": "2023-07-07T23:30:16.606Z"
   },
   {
    "duration": 4,
    "start_time": "2023-07-07T23:30:59.124Z"
   },
   {
    "duration": 7,
    "start_time": "2023-07-07T23:31:20.175Z"
   },
   {
    "duration": 6,
    "start_time": "2023-07-07T23:31:35.794Z"
   },
   {
    "duration": 6,
    "start_time": "2023-07-07T23:31:59.390Z"
   },
   {
    "duration": 12,
    "start_time": "2023-07-07T23:32:07.443Z"
   },
   {
    "duration": 5,
    "start_time": "2023-07-07T23:32:14.917Z"
   },
   {
    "duration": 5,
    "start_time": "2023-07-07T23:32:23.585Z"
   },
   {
    "duration": 383,
    "start_time": "2023-07-07T23:49:06.312Z"
   },
   {
    "duration": 23,
    "start_time": "2023-07-07T23:52:59.770Z"
   },
   {
    "duration": 4331,
    "start_time": "2023-07-07T23:53:07.021Z"
   },
   {
    "duration": 12296,
    "start_time": "2023-07-07T23:53:25.268Z"
   },
   {
    "duration": 62737,
    "start_time": "2023-07-07T23:54:11.327Z"
   },
   {
    "duration": 60359,
    "start_time": "2023-07-08T00:06:11.803Z"
   },
   {
    "duration": 21,
    "start_time": "2023-07-08T00:20:02.908Z"
   },
   {
    "duration": 3,
    "start_time": "2023-07-08T00:25:12.619Z"
   },
   {
    "duration": 91,
    "start_time": "2023-07-08T00:26:37.730Z"
   },
   {
    "duration": 90,
    "start_time": "2023-07-08T00:26:59.391Z"
   },
   {
    "duration": 36786,
    "start_time": "2023-07-08T00:27:04.766Z"
   },
   {
    "duration": 747,
    "start_time": "2023-07-08T00:29:45.831Z"
   },
   {
    "duration": 84,
    "start_time": "2023-07-08T00:29:57.764Z"
   },
   {
    "duration": 64806,
    "start_time": "2023-07-08T00:30:07.762Z"
   },
   {
    "duration": 162,
    "start_time": "2023-07-08T00:33:27.109Z"
   },
   {
    "duration": 147,
    "start_time": "2023-07-08T00:33:55.803Z"
   },
   {
    "duration": 152,
    "start_time": "2023-07-08T00:34:06.698Z"
   },
   {
    "duration": 3164,
    "start_time": "2023-07-08T00:39:22.508Z"
   },
   {
    "duration": 18,
    "start_time": "2023-07-08T00:39:27.623Z"
   },
   {
    "duration": 8,
    "start_time": "2023-07-08T00:39:46.263Z"
   },
   {
    "duration": 11,
    "start_time": "2023-07-08T00:48:25.027Z"
   },
   {
    "duration": 118,
    "start_time": "2023-07-08T00:50:11.765Z"
   },
   {
    "duration": 136,
    "start_time": "2023-07-08T00:51:01.687Z"
   },
   {
    "duration": 96,
    "start_time": "2023-07-08T00:51:12.486Z"
   },
   {
    "duration": 104,
    "start_time": "2023-07-08T00:51:36.642Z"
   },
   {
    "duration": 117,
    "start_time": "2023-07-08T00:52:57.603Z"
   },
   {
    "duration": 137,
    "start_time": "2023-07-08T00:53:14.296Z"
   },
   {
    "duration": 86,
    "start_time": "2023-07-08T00:57:55.191Z"
   },
   {
    "duration": 81,
    "start_time": "2023-07-08T00:58:21.328Z"
   },
   {
    "duration": 1514,
    "start_time": "2023-07-08T01:26:23.526Z"
   },
   {
    "duration": 896,
    "start_time": "2023-07-08T01:26:25.042Z"
   },
   {
    "duration": 20,
    "start_time": "2023-07-08T01:26:25.940Z"
   },
   {
    "duration": 138,
    "start_time": "2023-07-08T01:26:25.962Z"
   },
   {
    "duration": 238,
    "start_time": "2023-07-08T01:26:26.102Z"
   },
   {
    "duration": 33,
    "start_time": "2023-07-08T01:26:26.342Z"
   },
   {
    "duration": 26,
    "start_time": "2023-07-08T01:26:26.376Z"
   },
   {
    "duration": 831,
    "start_time": "2023-07-08T01:26:26.404Z"
   },
   {
    "duration": 1268,
    "start_time": "2023-07-08T01:26:27.236Z"
   },
   {
    "duration": 97,
    "start_time": "2023-07-08T01:26:28.506Z"
   },
   {
    "duration": 2909,
    "start_time": "2023-07-08T01:26:28.605Z"
   },
   {
    "duration": 2836,
    "start_time": "2023-07-08T01:26:31.516Z"
   },
   {
    "duration": 7,
    "start_time": "2023-07-08T01:26:34.354Z"
   },
   {
    "duration": 31,
    "start_time": "2023-07-08T01:26:34.363Z"
   },
   {
    "duration": 31,
    "start_time": "2023-07-08T01:26:34.396Z"
   },
   {
    "duration": 73,
    "start_time": "2023-07-08T01:26:34.429Z"
   },
   {
    "duration": 4,
    "start_time": "2023-07-08T01:26:34.503Z"
   },
   {
    "duration": 19,
    "start_time": "2023-07-08T01:26:34.508Z"
   },
   {
    "duration": 868,
    "start_time": "2023-07-08T01:26:34.528Z"
   },
   {
    "duration": 76,
    "start_time": "2023-07-08T01:26:35.398Z"
   },
   {
    "duration": 2058,
    "start_time": "2023-07-08T01:26:35.475Z"
   },
   {
    "duration": 26,
    "start_time": "2023-07-08T01:26:37.535Z"
   },
   {
    "duration": 1022,
    "start_time": "2023-07-08T01:26:37.563Z"
   },
   {
    "duration": 770,
    "start_time": "2023-07-08T01:26:38.587Z"
   },
   {
    "duration": 335,
    "start_time": "2023-07-08T01:26:39.358Z"
   },
   {
    "duration": 26058,
    "start_time": "2023-07-08T01:26:39.695Z"
   },
   {
    "duration": 6,
    "start_time": "2023-07-08T01:27:05.754Z"
   },
   {
    "duration": 101,
    "start_time": "2023-07-08T01:27:05.761Z"
   },
   {
    "duration": 7,
    "start_time": "2023-07-08T01:27:05.863Z"
   },
   {
    "duration": 11,
    "start_time": "2023-07-08T01:27:05.871Z"
   },
   {
    "duration": 360269,
    "start_time": "2023-07-08T01:27:05.883Z"
   },
   {
    "duration": 413,
    "start_time": "2023-07-08T01:33:06.153Z"
   },
   {
    "duration": 5,
    "start_time": "2023-07-08T01:33:06.567Z"
   },
   {
    "duration": 49493,
    "start_time": "2023-07-08T01:33:06.573Z"
   },
   {
    "duration": 37487,
    "start_time": "2023-07-08T01:33:56.067Z"
   },
   {
    "duration": 159,
    "start_time": "2023-07-08T01:34:33.556Z"
   },
   {
    "duration": 4,
    "start_time": "2023-07-08T02:13:41.328Z"
   },
   {
    "duration": 725,
    "start_time": "2023-07-08T02:13:41.334Z"
   },
   {
    "duration": 13,
    "start_time": "2023-07-08T02:13:42.061Z"
   },
   {
    "duration": 118,
    "start_time": "2023-07-08T02:13:42.076Z"
   },
   {
    "duration": 153,
    "start_time": "2023-07-08T02:13:42.195Z"
   },
   {
    "duration": 31,
    "start_time": "2023-07-08T02:13:42.352Z"
   },
   {
    "duration": 19,
    "start_time": "2023-07-08T02:13:42.384Z"
   },
   {
    "duration": 686,
    "start_time": "2023-07-08T02:13:42.404Z"
   },
   {
    "duration": 1084,
    "start_time": "2023-07-08T02:13:43.092Z"
   },
   {
    "duration": 90,
    "start_time": "2023-07-08T02:13:44.178Z"
   },
   {
    "duration": 2627,
    "start_time": "2023-07-08T02:13:44.270Z"
   },
   {
    "duration": 2791,
    "start_time": "2023-07-08T02:13:46.899Z"
   },
   {
    "duration": 7,
    "start_time": "2023-07-08T02:13:49.692Z"
   },
   {
    "duration": 26,
    "start_time": "2023-07-08T02:13:49.701Z"
   },
   {
    "duration": 50,
    "start_time": "2023-07-08T02:13:49.729Z"
   },
   {
    "duration": 51,
    "start_time": "2023-07-08T02:13:49.780Z"
   },
   {
    "duration": 4,
    "start_time": "2023-07-08T02:13:49.832Z"
   },
   {
    "duration": 11,
    "start_time": "2023-07-08T02:13:49.852Z"
   },
   {
    "duration": 887,
    "start_time": "2023-07-08T02:13:49.864Z"
   },
   {
    "duration": 65,
    "start_time": "2023-07-08T02:13:50.753Z"
   },
   {
    "duration": 2006,
    "start_time": "2023-07-08T02:13:50.820Z"
   },
   {
    "duration": 28,
    "start_time": "2023-07-08T02:13:52.828Z"
   },
   {
    "duration": 863,
    "start_time": "2023-07-08T02:13:52.857Z"
   },
   {
    "duration": 539,
    "start_time": "2023-07-08T02:13:53.722Z"
   },
   {
    "duration": 180,
    "start_time": "2023-07-08T02:13:54.262Z"
   },
   {
    "duration": 22911,
    "start_time": "2023-07-08T02:13:54.444Z"
   },
   {
    "duration": 96,
    "start_time": "2023-07-08T02:14:17.357Z"
   },
   {
    "duration": 6,
    "start_time": "2023-07-08T02:14:17.456Z"
   },
   {
    "duration": 7,
    "start_time": "2023-07-08T02:14:17.463Z"
   },
   {
    "duration": 6,
    "start_time": "2023-07-08T02:14:17.471Z"
   },
   {
    "duration": 348355,
    "start_time": "2023-07-08T02:14:17.479Z"
   },
   {
    "duration": 397,
    "start_time": "2023-07-08T02:20:05.836Z"
   },
   {
    "duration": 6,
    "start_time": "2023-07-08T02:20:06.234Z"
   },
   {
    "duration": 58432,
    "start_time": "2023-07-08T02:20:06.241Z"
   },
   {
    "duration": 35420,
    "start_time": "2023-07-08T02:21:04.674Z"
   },
   {
    "duration": 232,
    "start_time": "2023-07-08T02:21:40.096Z"
   },
   {
    "duration": 4663,
    "start_time": "2023-07-08T03:19:57.774Z"
   },
   {
    "duration": 4,
    "start_time": "2023-07-08T03:20:47.139Z"
   },
   {
    "duration": 1322,
    "start_time": "2023-07-08T03:20:55.979Z"
   },
   {
    "duration": 72,
    "start_time": "2023-07-08T03:21:15.064Z"
   },
   {
    "duration": 150,
    "start_time": "2023-07-08T03:21:15.847Z"
   },
   {
    "duration": 291,
    "start_time": "2023-07-08T03:21:26.235Z"
   },
   {
    "duration": 4,
    "start_time": "2023-07-08T04:10:28.124Z"
   },
   {
    "duration": 49,
    "start_time": "2023-07-08T04:10:32.442Z"
   },
   {
    "duration": 3778,
    "start_time": "2023-07-08T04:10:38.160Z"
   },
   {
    "duration": 1288,
    "start_time": "2023-07-08T04:10:41.940Z"
   },
   {
    "duration": 64,
    "start_time": "2023-07-08T04:10:45.187Z"
   },
   {
    "duration": 152,
    "start_time": "2023-07-08T04:10:45.800Z"
   },
   {
    "duration": 284,
    "start_time": "2023-07-08T04:10:47.432Z"
   },
   {
    "duration": 13,
    "start_time": "2023-07-08T04:12:27.169Z"
   },
   {
    "duration": 22,
    "start_time": "2023-07-08T04:13:05.232Z"
   },
   {
    "duration": 32,
    "start_time": "2023-07-08T04:13:07.977Z"
   },
   {
    "duration": 770,
    "start_time": "2023-07-08T04:13:27.265Z"
   },
   {
    "duration": 33,
    "start_time": "2023-07-08T04:14:05.847Z"
   },
   {
    "duration": 49,
    "start_time": "2023-07-08T04:14:25.638Z"
   },
   {
    "duration": 4076,
    "start_time": "2023-07-08T04:14:35.434Z"
   },
   {
    "duration": 1320,
    "start_time": "2023-07-08T04:14:39.512Z"
   },
   {
    "duration": 71,
    "start_time": "2023-07-08T04:14:40.834Z"
   },
   {
    "duration": 163,
    "start_time": "2023-07-08T04:14:40.907Z"
   },
   {
    "duration": 156,
    "start_time": "2023-07-08T04:14:41.071Z"
   },
   {
    "duration": 23,
    "start_time": "2023-07-08T04:14:41.228Z"
   },
   {
    "duration": 198,
    "start_time": "2023-07-08T04:14:47.451Z"
   },
   {
    "duration": 13,
    "start_time": "2023-07-08T04:14:48.583Z"
   },
   {
    "duration": 28,
    "start_time": "2023-07-08T04:14:51.017Z"
   },
   {
    "duration": 26,
    "start_time": "2023-07-08T04:14:51.566Z"
   },
   {
    "duration": 784,
    "start_time": "2023-07-08T04:14:52.753Z"
   },
   {
    "duration": 660,
    "start_time": "2023-07-08T04:14:54.784Z"
   },
   {
    "duration": 3695,
    "start_time": "2023-07-08T04:15:15.490Z"
   },
   {
    "duration": 1314,
    "start_time": "2023-07-08T04:15:19.187Z"
   },
   {
    "duration": 71,
    "start_time": "2023-07-08T04:15:20.503Z"
   },
   {
    "duration": 158,
    "start_time": "2023-07-08T04:15:20.576Z"
   },
   {
    "duration": 339,
    "start_time": "2023-07-08T04:15:20.736Z"
   },
   {
    "duration": 0,
    "start_time": "2023-07-08T04:15:21.077Z"
   },
   {
    "duration": 0,
    "start_time": "2023-07-08T04:15:21.078Z"
   },
   {
    "duration": 0,
    "start_time": "2023-07-08T04:15:21.079Z"
   },
   {
    "duration": 0,
    "start_time": "2023-07-08T04:15:21.080Z"
   },
   {
    "duration": 0,
    "start_time": "2023-07-08T04:15:21.082Z"
   },
   {
    "duration": 4071,
    "start_time": "2023-07-08T04:16:20.518Z"
   },
   {
    "duration": 13,
    "start_time": "2023-07-08T04:16:33.021Z"
   },
   {
    "duration": 23,
    "start_time": "2023-07-08T04:16:35.848Z"
   },
   {
    "duration": 25,
    "start_time": "2023-07-08T04:16:36.224Z"
   },
   {
    "duration": 48,
    "start_time": "2023-07-08T04:16:48.643Z"
   },
   {
    "duration": 3733,
    "start_time": "2023-07-08T04:16:52.925Z"
   },
   {
    "duration": 1289,
    "start_time": "2023-07-08T04:16:56.660Z"
   },
   {
    "duration": 62,
    "start_time": "2023-07-08T04:16:57.951Z"
   },
   {
    "duration": 155,
    "start_time": "2023-07-08T04:16:58.015Z"
   },
   {
    "duration": 162,
    "start_time": "2023-07-08T04:16:59.366Z"
   },
   {
    "duration": 185,
    "start_time": "2023-07-08T04:17:03.239Z"
   },
   {
    "duration": 14,
    "start_time": "2023-07-08T04:17:03.489Z"
   },
   {
    "duration": 28,
    "start_time": "2023-07-08T04:17:07.187Z"
   },
   {
    "duration": 776,
    "start_time": "2023-07-08T04:17:09.425Z"
   },
   {
    "duration": 34,
    "start_time": "2023-07-08T04:17:15.147Z"
   },
   {
    "duration": 51,
    "start_time": "2023-07-08T04:17:17.709Z"
   },
   {
    "duration": 3,
    "start_time": "2023-07-08T04:19:47.208Z"
   },
   {
    "duration": 10,
    "start_time": "2023-07-08T04:19:47.638Z"
   },
   {
    "duration": 482,
    "start_time": "2023-07-08T04:19:48.156Z"
   },
   {
    "duration": 69,
    "start_time": "2023-07-08T04:19:49.189Z"
   },
   {
    "duration": 18,
    "start_time": "2023-07-08T04:19:57.858Z"
   },
   {
    "duration": 56,
    "start_time": "2023-07-08T04:20:07.420Z"
   },
   {
    "duration": 221,
    "start_time": "2023-07-08T04:21:16.171Z"
   },
   {
    "duration": 1423,
    "start_time": "2023-07-08T04:21:59.514Z"
   },
   {
    "duration": 193,
    "start_time": "2023-07-08T04:22:06.188Z"
   },
   {
    "duration": 2987,
    "start_time": "2023-07-08T04:24:34.632Z"
   },
   {
    "duration": 48,
    "start_time": "2023-07-08T04:24:42.088Z"
   },
   {
    "duration": 4351,
    "start_time": "2023-07-08T04:24:47.937Z"
   },
   {
    "duration": 9,
    "start_time": "2023-07-08T04:25:00.436Z"
   },
   {
    "duration": 43,
    "start_time": "2023-07-08T04:25:04.984Z"
   },
   {
    "duration": 3,
    "start_time": "2023-07-08T04:25:09.572Z"
   },
   {
    "duration": 3982,
    "start_time": "2023-07-08T04:25:12.787Z"
   },
   {
    "duration": 1278,
    "start_time": "2023-07-08T04:25:16.771Z"
   },
   {
    "duration": 59,
    "start_time": "2023-07-08T04:25:21.219Z"
   },
   {
    "duration": 158,
    "start_time": "2023-07-08T04:25:21.764Z"
   },
   {
    "duration": 167,
    "start_time": "2023-07-08T04:25:25.875Z"
   },
   {
    "duration": 179,
    "start_time": "2023-07-08T04:25:28.282Z"
   },
   {
    "duration": 12,
    "start_time": "2023-07-08T04:25:28.585Z"
   },
   {
    "duration": 31,
    "start_time": "2023-07-08T04:25:30.364Z"
   },
   {
    "duration": 28,
    "start_time": "2023-07-08T04:25:30.608Z"
   },
   {
    "duration": 1699,
    "start_time": "2023-07-08T10:42:13.168Z"
   },
   {
    "duration": 1389,
    "start_time": "2023-07-08T11:42:52.130Z"
   },
   {
    "duration": 756,
    "start_time": "2023-07-08T11:42:53.524Z"
   },
   {
    "duration": 28,
    "start_time": "2023-07-08T11:42:54.281Z"
   },
   {
    "duration": 127,
    "start_time": "2023-07-08T11:42:54.311Z"
   },
   {
    "duration": 205,
    "start_time": "2023-07-08T11:42:54.440Z"
   },
   {
    "duration": 8,
    "start_time": "2023-07-08T11:42:54.647Z"
   },
   {
    "duration": 34,
    "start_time": "2023-07-08T11:42:54.656Z"
   },
   {
    "duration": 26,
    "start_time": "2023-07-08T11:42:54.692Z"
   },
   {
    "duration": 728,
    "start_time": "2023-07-08T11:42:54.722Z"
   },
   {
    "duration": 130,
    "start_time": "2023-07-08T11:42:55.453Z"
   },
   {
    "duration": 0,
    "start_time": "2023-07-08T11:42:55.584Z"
   },
   {
    "duration": 0,
    "start_time": "2023-07-08T11:42:55.585Z"
   },
   {
    "duration": 0,
    "start_time": "2023-07-08T11:42:55.586Z"
   },
   {
    "duration": 0,
    "start_time": "2023-07-08T11:42:55.587Z"
   },
   {
    "duration": 0,
    "start_time": "2023-07-08T11:42:55.588Z"
   },
   {
    "duration": 0,
    "start_time": "2023-07-08T11:42:55.605Z"
   },
   {
    "duration": 0,
    "start_time": "2023-07-08T11:42:55.606Z"
   },
   {
    "duration": 0,
    "start_time": "2023-07-08T11:42:55.606Z"
   },
   {
    "duration": 0,
    "start_time": "2023-07-08T11:42:55.607Z"
   },
   {
    "duration": 0,
    "start_time": "2023-07-08T11:42:55.608Z"
   },
   {
    "duration": 0,
    "start_time": "2023-07-08T11:42:55.608Z"
   },
   {
    "duration": 0,
    "start_time": "2023-07-08T11:42:55.609Z"
   },
   {
    "duration": 0,
    "start_time": "2023-07-08T11:42:55.609Z"
   },
   {
    "duration": 0,
    "start_time": "2023-07-08T11:42:55.610Z"
   },
   {
    "duration": 0,
    "start_time": "2023-07-08T11:42:55.611Z"
   },
   {
    "duration": 0,
    "start_time": "2023-07-08T11:42:55.613Z"
   },
   {
    "duration": 0,
    "start_time": "2023-07-08T11:42:55.614Z"
   },
   {
    "duration": 0,
    "start_time": "2023-07-08T11:42:55.615Z"
   },
   {
    "duration": 0,
    "start_time": "2023-07-08T11:42:55.616Z"
   },
   {
    "duration": 0,
    "start_time": "2023-07-08T11:42:55.616Z"
   },
   {
    "duration": 0,
    "start_time": "2023-07-08T11:42:55.617Z"
   },
   {
    "duration": 0,
    "start_time": "2023-07-08T11:42:55.619Z"
   },
   {
    "duration": 0,
    "start_time": "2023-07-08T11:42:55.619Z"
   },
   {
    "duration": 0,
    "start_time": "2023-07-08T11:42:55.623Z"
   },
   {
    "duration": 0,
    "start_time": "2023-07-08T11:42:55.624Z"
   },
   {
    "duration": 1,
    "start_time": "2023-07-08T11:42:55.624Z"
   },
   {
    "duration": 0,
    "start_time": "2023-07-08T11:42:55.626Z"
   },
   {
    "duration": 0,
    "start_time": "2023-07-08T11:42:55.628Z"
   },
   {
    "duration": 0,
    "start_time": "2023-07-08T11:42:55.629Z"
   },
   {
    "duration": 0,
    "start_time": "2023-07-08T11:42:55.633Z"
   },
   {
    "duration": 0,
    "start_time": "2023-07-08T11:42:55.635Z"
   },
   {
    "duration": 1455,
    "start_time": "2023-07-08T11:53:56.416Z"
   },
   {
    "duration": 853,
    "start_time": "2023-07-08T11:53:57.872Z"
   },
   {
    "duration": 16,
    "start_time": "2023-07-08T11:53:58.726Z"
   },
   {
    "duration": 135,
    "start_time": "2023-07-08T11:53:58.744Z"
   },
   {
    "duration": 194,
    "start_time": "2023-07-08T11:53:58.881Z"
   },
   {
    "duration": 9,
    "start_time": "2023-07-08T11:53:59.076Z"
   },
   {
    "duration": 44,
    "start_time": "2023-07-08T11:53:59.086Z"
   },
   {
    "duration": 20,
    "start_time": "2023-07-08T11:53:59.132Z"
   },
   {
    "duration": 2,
    "start_time": "2023-07-08T11:53:59.154Z"
   },
   {
    "duration": 5,
    "start_time": "2023-07-08T11:53:59.157Z"
   },
   {
    "duration": 130,
    "start_time": "2023-07-08T11:53:59.163Z"
   },
   {
    "duration": 2244,
    "start_time": "2023-07-08T11:53:59.294Z"
   },
   {
    "duration": 2824,
    "start_time": "2023-07-08T11:54:01.540Z"
   },
   {
    "duration": 7,
    "start_time": "2023-07-08T11:54:04.367Z"
   },
   {
    "duration": 35,
    "start_time": "2023-07-08T11:54:04.375Z"
   },
   {
    "duration": 33,
    "start_time": "2023-07-08T11:54:04.412Z"
   },
   {
    "duration": 40,
    "start_time": "2023-07-08T11:54:04.447Z"
   },
   {
    "duration": 4,
    "start_time": "2023-07-08T11:54:04.509Z"
   },
   {
    "duration": 11,
    "start_time": "2023-07-08T11:54:04.514Z"
   },
   {
    "duration": 135,
    "start_time": "2023-07-08T11:54:04.526Z"
   },
   {
    "duration": 75,
    "start_time": "2023-07-08T11:54:04.662Z"
   },
   {
    "duration": 1400,
    "start_time": "2023-07-08T11:54:04.739Z"
   },
   {
    "duration": 16,
    "start_time": "2023-07-08T11:54:06.141Z"
   },
   {
    "duration": 72,
    "start_time": "2023-07-08T11:54:06.159Z"
   },
   {
    "duration": 181,
    "start_time": "2023-07-08T11:54:06.234Z"
   },
   {
    "duration": 68,
    "start_time": "2023-07-08T11:54:06.417Z"
   },
   {
    "duration": 531,
    "start_time": "2023-07-08T11:54:06.486Z"
   },
   {
    "duration": 5898,
    "start_time": "2023-07-08T11:54:07.019Z"
   },
   {
    "duration": 375,
    "start_time": "2023-07-08T11:54:12.918Z"
   },
   {
    "duration": 196,
    "start_time": "2023-07-08T11:54:13.294Z"
   },
   {
    "duration": 43722,
    "start_time": "2023-07-08T11:54:13.492Z"
   },
   {
    "duration": 94,
    "start_time": "2023-07-08T11:54:57.216Z"
   },
   {
    "duration": 4,
    "start_time": "2023-07-08T11:54:57.312Z"
   },
   {
    "duration": 12,
    "start_time": "2023-07-08T11:54:57.318Z"
   },
   {
    "duration": 8,
    "start_time": "2023-07-08T11:54:57.331Z"
   },
   {
    "duration": 247597,
    "start_time": "2023-07-08T11:54:57.340Z"
   },
   {
    "duration": 345,
    "start_time": "2023-07-08T11:59:04.939Z"
   },
   {
    "duration": 5,
    "start_time": "2023-07-08T11:59:05.286Z"
   },
   {
    "duration": 1445,
    "start_time": "2023-07-08T12:02:35.243Z"
   },
   {
    "duration": 740,
    "start_time": "2023-07-08T12:02:36.690Z"
   },
   {
    "duration": 15,
    "start_time": "2023-07-08T12:02:37.432Z"
   },
   {
    "duration": 128,
    "start_time": "2023-07-08T12:02:37.449Z"
   },
   {
    "duration": 211,
    "start_time": "2023-07-08T12:02:37.578Z"
   },
   {
    "duration": 18,
    "start_time": "2023-07-08T12:02:37.791Z"
   },
   {
    "duration": 30,
    "start_time": "2023-07-08T12:02:37.811Z"
   },
   {
    "duration": 21,
    "start_time": "2023-07-08T12:02:37.843Z"
   },
   {
    "duration": 6,
    "start_time": "2023-07-08T12:02:37.866Z"
   },
   {
    "duration": 5,
    "start_time": "2023-07-08T12:02:37.874Z"
   },
   {
    "duration": 119,
    "start_time": "2023-07-08T12:02:37.881Z"
   },
   {
    "duration": 2312,
    "start_time": "2023-07-08T12:02:38.010Z"
   },
   {
    "duration": 2939,
    "start_time": "2023-07-08T12:02:40.325Z"
   },
   {
    "duration": 7,
    "start_time": "2023-07-08T12:02:43.266Z"
   },
   {
    "duration": 40,
    "start_time": "2023-07-08T12:02:43.275Z"
   },
   {
    "duration": 33,
    "start_time": "2023-07-08T12:02:43.316Z"
   },
   {
    "duration": 62,
    "start_time": "2023-07-08T12:02:43.351Z"
   },
   {
    "duration": 4,
    "start_time": "2023-07-08T12:02:43.415Z"
   },
   {
    "duration": 12,
    "start_time": "2023-07-08T12:02:43.420Z"
   },
   {
    "duration": 147,
    "start_time": "2023-07-08T12:02:43.434Z"
   },
   {
    "duration": 85,
    "start_time": "2023-07-08T12:02:43.582Z"
   },
   {
    "duration": 1382,
    "start_time": "2023-07-08T12:02:43.668Z"
   },
   {
    "duration": 14,
    "start_time": "2023-07-08T12:02:45.052Z"
   },
   {
    "duration": 63,
    "start_time": "2023-07-08T12:02:45.068Z"
   },
   {
    "duration": 165,
    "start_time": "2023-07-08T12:02:45.133Z"
   },
   {
    "duration": 71,
    "start_time": "2023-07-08T12:02:45.305Z"
   },
   {
    "duration": 532,
    "start_time": "2023-07-08T12:02:45.378Z"
   },
   {
    "duration": 6636,
    "start_time": "2023-07-08T12:02:45.911Z"
   },
   {
    "duration": 386,
    "start_time": "2023-07-08T12:02:52.549Z"
   },
   {
    "duration": 195,
    "start_time": "2023-07-08T12:02:52.936Z"
   },
   {
    "duration": 53277,
    "start_time": "2023-07-08T12:02:53.132Z"
   },
   {
    "duration": 15,
    "start_time": "2023-07-08T12:03:46.411Z"
   },
   {
    "duration": 90,
    "start_time": "2023-07-08T12:03:46.428Z"
   },
   {
    "duration": 4,
    "start_time": "2023-07-08T12:03:46.519Z"
   },
   {
    "duration": 13,
    "start_time": "2023-07-08T12:03:46.525Z"
   },
   {
    "duration": 258430,
    "start_time": "2023-07-08T12:03:46.539Z"
   },
   {
    "duration": 404,
    "start_time": "2023-07-08T12:08:04.970Z"
   },
   {
    "duration": 5,
    "start_time": "2023-07-08T12:08:05.375Z"
   },
   {
    "duration": 47,
    "start_time": "2023-07-08T12:44:47.512Z"
   },
   {
    "duration": 1377,
    "start_time": "2023-07-08T12:44:51.558Z"
   },
   {
    "duration": 702,
    "start_time": "2023-07-08T12:44:52.936Z"
   },
   {
    "duration": 14,
    "start_time": "2023-07-08T12:44:53.639Z"
   },
   {
    "duration": 118,
    "start_time": "2023-07-08T12:44:53.655Z"
   },
   {
    "duration": 168,
    "start_time": "2023-07-08T12:44:53.774Z"
   },
   {
    "duration": 9,
    "start_time": "2023-07-08T12:44:53.944Z"
   },
   {
    "duration": 28,
    "start_time": "2023-07-08T12:44:53.955Z"
   },
   {
    "duration": 17,
    "start_time": "2023-07-08T12:44:54.008Z"
   },
   {
    "duration": 3,
    "start_time": "2023-07-08T12:44:54.026Z"
   },
   {
    "duration": 3,
    "start_time": "2023-07-08T12:44:54.032Z"
   },
   {
    "duration": 113,
    "start_time": "2023-07-08T12:44:54.036Z"
   },
   {
    "duration": 2236,
    "start_time": "2023-07-08T12:44:54.150Z"
   },
   {
    "duration": 2735,
    "start_time": "2023-07-08T12:44:56.388Z"
   },
   {
    "duration": 7,
    "start_time": "2023-07-08T12:44:59.124Z"
   },
   {
    "duration": 24,
    "start_time": "2023-07-08T12:44:59.132Z"
   },
   {
    "duration": 46,
    "start_time": "2023-07-08T12:44:59.157Z"
   },
   {
    "duration": 40,
    "start_time": "2023-07-08T12:44:59.210Z"
   },
   {
    "duration": 9,
    "start_time": "2023-07-08T12:44:59.252Z"
   },
   {
    "duration": 384,
    "start_time": "2023-07-08T12:44:59.263Z"
   },
   {
    "duration": 73,
    "start_time": "2023-07-08T12:44:59.648Z"
   },
   {
    "duration": 1292,
    "start_time": "2023-07-08T12:44:59.723Z"
   },
   {
    "duration": 14,
    "start_time": "2023-07-08T12:45:01.016Z"
   },
   {
    "duration": 80,
    "start_time": "2023-07-08T12:45:01.031Z"
   },
   {
    "duration": 4,
    "start_time": "2023-07-08T12:47:21.161Z"
   },
   {
    "duration": 5,
    "start_time": "2023-07-08T12:47:25.823Z"
   },
   {
    "duration": 83,
    "start_time": "2023-07-08T12:47:37.447Z"
   },
   {
    "duration": 13,
    "start_time": "2023-07-08T12:47:46.097Z"
   },
   {
    "duration": 4,
    "start_time": "2023-07-08T12:47:48.415Z"
   },
   {
    "duration": 10,
    "start_time": "2023-07-08T12:48:07.112Z"
   },
   {
    "duration": 9,
    "start_time": "2023-07-08T12:48:11.001Z"
   },
   {
    "duration": 25,
    "start_time": "2023-07-08T12:48:15.016Z"
   },
   {
    "duration": 28,
    "start_time": "2023-07-08T12:48:36.870Z"
   },
   {
    "duration": 9,
    "start_time": "2023-07-08T12:50:01.711Z"
   },
   {
    "duration": 4,
    "start_time": "2023-07-08T12:50:04.658Z"
   },
   {
    "duration": 9,
    "start_time": "2023-07-08T12:50:20.511Z"
   },
   {
    "duration": 167,
    "start_time": "2023-07-08T13:09:21.832Z"
   },
   {
    "duration": 285,
    "start_time": "2023-07-08T13:09:51.991Z"
   },
   {
    "duration": 309,
    "start_time": "2023-07-08T13:10:00.770Z"
   },
   {
    "duration": 1414,
    "start_time": "2023-07-08T13:10:23.974Z"
   },
   {
    "duration": 737,
    "start_time": "2023-07-08T13:10:25.390Z"
   },
   {
    "duration": 20,
    "start_time": "2023-07-08T13:10:26.129Z"
   },
   {
    "duration": 125,
    "start_time": "2023-07-08T13:10:26.151Z"
   },
   {
    "duration": 193,
    "start_time": "2023-07-08T13:10:26.278Z"
   },
   {
    "duration": 8,
    "start_time": "2023-07-08T13:10:26.473Z"
   },
   {
    "duration": 37,
    "start_time": "2023-07-08T13:10:26.482Z"
   },
   {
    "duration": 15,
    "start_time": "2023-07-08T13:10:26.520Z"
   },
   {
    "duration": 2,
    "start_time": "2023-07-08T13:10:26.537Z"
   },
   {
    "duration": 13,
    "start_time": "2023-07-08T13:10:26.540Z"
   },
   {
    "duration": 112,
    "start_time": "2023-07-08T13:10:26.554Z"
   },
   {
    "duration": 2167,
    "start_time": "2023-07-08T13:10:26.667Z"
   },
   {
    "duration": 2696,
    "start_time": "2023-07-08T13:10:28.836Z"
   },
   {
    "duration": 7,
    "start_time": "2023-07-08T13:10:31.535Z"
   },
   {
    "duration": 55,
    "start_time": "2023-07-08T13:10:31.544Z"
   },
   {
    "duration": 53,
    "start_time": "2023-07-08T13:10:31.600Z"
   },
   {
    "duration": 42,
    "start_time": "2023-07-08T13:10:31.654Z"
   },
   {
    "duration": 10,
    "start_time": "2023-07-08T13:10:31.698Z"
   },
   {
    "duration": 409,
    "start_time": "2023-07-08T13:10:31.710Z"
   },
   {
    "duration": 68,
    "start_time": "2023-07-08T13:10:32.120Z"
   },
   {
    "duration": 1312,
    "start_time": "2023-07-08T13:10:32.190Z"
   },
   {
    "duration": 16,
    "start_time": "2023-07-08T13:10:33.504Z"
   },
   {
    "duration": 67,
    "start_time": "2023-07-08T13:10:33.522Z"
   },
   {
    "duration": 28,
    "start_time": "2023-07-08T13:10:33.590Z"
   },
   {
    "duration": 166,
    "start_time": "2023-07-08T13:10:33.620Z"
   },
   {
    "duration": 295,
    "start_time": "2023-07-08T13:10:33.787Z"
   },
   {
    "duration": 1383,
    "start_time": "2023-07-08T13:11:03.644Z"
   },
   {
    "duration": 716,
    "start_time": "2023-07-08T13:11:05.029Z"
   },
   {
    "duration": 15,
    "start_time": "2023-07-08T13:11:05.747Z"
   },
   {
    "duration": 132,
    "start_time": "2023-07-08T13:11:05.764Z"
   },
   {
    "duration": 219,
    "start_time": "2023-07-08T13:11:05.900Z"
   },
   {
    "duration": 10,
    "start_time": "2023-07-08T13:11:06.121Z"
   },
   {
    "duration": 42,
    "start_time": "2023-07-08T13:11:06.133Z"
   },
   {
    "duration": 31,
    "start_time": "2023-07-08T13:11:06.176Z"
   },
   {
    "duration": 7,
    "start_time": "2023-07-08T13:11:06.208Z"
   },
   {
    "duration": 11,
    "start_time": "2023-07-08T13:11:06.216Z"
   },
   {
    "duration": 110,
    "start_time": "2023-07-08T13:11:06.229Z"
   },
   {
    "duration": 2185,
    "start_time": "2023-07-08T13:11:06.341Z"
   },
   {
    "duration": 2674,
    "start_time": "2023-07-08T13:11:08.528Z"
   },
   {
    "duration": 7,
    "start_time": "2023-07-08T13:11:11.205Z"
   },
   {
    "duration": 27,
    "start_time": "2023-07-08T13:11:11.213Z"
   },
   {
    "duration": 33,
    "start_time": "2023-07-08T13:11:11.241Z"
   },
   {
    "duration": 61,
    "start_time": "2023-07-08T13:11:11.276Z"
   },
   {
    "duration": 10,
    "start_time": "2023-07-08T13:11:11.338Z"
   },
   {
    "duration": 392,
    "start_time": "2023-07-08T13:11:11.349Z"
   },
   {
    "duration": 71,
    "start_time": "2023-07-08T13:11:11.743Z"
   },
   {
    "duration": 1305,
    "start_time": "2023-07-08T13:11:11.816Z"
   },
   {
    "duration": 15,
    "start_time": "2023-07-08T13:11:13.122Z"
   },
   {
    "duration": 61,
    "start_time": "2023-07-08T13:11:13.139Z"
   },
   {
    "duration": 24,
    "start_time": "2023-07-08T13:11:13.202Z"
   },
   {
    "duration": 27,
    "start_time": "2023-07-08T13:11:13.228Z"
   },
   {
    "duration": 44,
    "start_time": "2023-07-08T13:11:13.256Z"
   },
   {
    "duration": 145,
    "start_time": "2023-07-08T13:11:13.301Z"
   },
   {
    "duration": 64,
    "start_time": "2023-07-08T13:11:13.447Z"
   },
   {
    "duration": 516,
    "start_time": "2023-07-08T13:11:13.512Z"
   },
   {
    "duration": 7069,
    "start_time": "2023-07-08T13:11:14.029Z"
   },
   {
    "duration": 1384,
    "start_time": "2023-07-08T13:11:25.879Z"
   },
   {
    "duration": 713,
    "start_time": "2023-07-08T13:11:27.264Z"
   },
   {
    "duration": 21,
    "start_time": "2023-07-08T13:11:27.979Z"
   },
   {
    "duration": 108,
    "start_time": "2023-07-08T13:11:28.001Z"
   },
   {
    "duration": 188,
    "start_time": "2023-07-08T13:11:28.111Z"
   },
   {
    "duration": 8,
    "start_time": "2023-07-08T13:11:28.301Z"
   },
   {
    "duration": 38,
    "start_time": "2023-07-08T13:11:28.310Z"
   },
   {
    "duration": 17,
    "start_time": "2023-07-08T13:11:28.349Z"
   },
   {
    "duration": 2,
    "start_time": "2023-07-08T13:11:28.368Z"
   },
   {
    "duration": 16,
    "start_time": "2023-07-08T13:11:28.371Z"
   },
   {
    "duration": 112,
    "start_time": "2023-07-08T13:11:28.388Z"
   },
   {
    "duration": 2180,
    "start_time": "2023-07-08T13:11:28.502Z"
   },
   {
    "duration": 2696,
    "start_time": "2023-07-08T13:11:30.684Z"
   },
   {
    "duration": 6,
    "start_time": "2023-07-08T13:11:33.383Z"
   },
   {
    "duration": 40,
    "start_time": "2023-07-08T13:11:33.390Z"
   },
   {
    "duration": 47,
    "start_time": "2023-07-08T13:11:33.431Z"
   },
   {
    "duration": 45,
    "start_time": "2023-07-08T13:11:33.479Z"
   },
   {
    "duration": 9,
    "start_time": "2023-07-08T13:11:33.525Z"
   },
   {
    "duration": 396,
    "start_time": "2023-07-08T13:11:33.535Z"
   },
   {
    "duration": 76,
    "start_time": "2023-07-08T13:11:33.932Z"
   },
   {
    "duration": 1281,
    "start_time": "2023-07-08T13:11:34.009Z"
   },
   {
    "duration": 16,
    "start_time": "2023-07-08T13:11:35.292Z"
   },
   {
    "duration": 91,
    "start_time": "2023-07-08T13:11:35.309Z"
   },
   {
    "duration": 28,
    "start_time": "2023-07-08T13:11:35.402Z"
   },
   {
    "duration": 49,
    "start_time": "2023-07-08T13:11:35.431Z"
   },
   {
    "duration": 31,
    "start_time": "2023-07-08T13:11:35.482Z"
   },
   {
    "duration": 145,
    "start_time": "2023-07-08T13:11:51.334Z"
   },
   {
    "duration": 284,
    "start_time": "2023-07-08T13:20:08.069Z"
   },
   {
    "duration": 4,
    "start_time": "2023-07-08T13:20:17.982Z"
   },
   {
    "duration": 2,
    "start_time": "2023-07-08T13:21:42.504Z"
   },
   {
    "duration": 1361,
    "start_time": "2023-07-08T13:49:58.391Z"
   },
   {
    "duration": 3,
    "start_time": "2023-07-08T13:49:59.753Z"
   },
   {
    "duration": 708,
    "start_time": "2023-07-08T13:49:59.758Z"
   },
   {
    "duration": 16,
    "start_time": "2023-07-08T13:50:00.467Z"
   },
   {
    "duration": 130,
    "start_time": "2023-07-08T13:50:00.485Z"
   },
   {
    "duration": 196,
    "start_time": "2023-07-08T13:50:00.617Z"
   },
   {
    "duration": 9,
    "start_time": "2023-07-08T13:50:00.814Z"
   },
   {
    "duration": 43,
    "start_time": "2023-07-08T13:50:00.825Z"
   },
   {
    "duration": 58,
    "start_time": "2023-07-08T13:50:00.869Z"
   },
   {
    "duration": 31,
    "start_time": "2023-07-08T13:50:00.929Z"
   },
   {
    "duration": 88,
    "start_time": "2023-07-08T13:50:00.962Z"
   },
   {
    "duration": 177,
    "start_time": "2023-07-08T13:50:01.054Z"
   },
   {
    "duration": 2234,
    "start_time": "2023-07-08T13:50:01.232Z"
   },
   {
    "duration": 2758,
    "start_time": "2023-07-08T13:50:03.469Z"
   },
   {
    "duration": 7,
    "start_time": "2023-07-08T13:50:06.228Z"
   },
   {
    "duration": 23,
    "start_time": "2023-07-08T13:50:06.236Z"
   },
   {
    "duration": 46,
    "start_time": "2023-07-08T13:50:06.261Z"
   },
   {
    "duration": 41,
    "start_time": "2023-07-08T13:50:06.309Z"
   },
   {
    "duration": 10,
    "start_time": "2023-07-08T13:50:06.351Z"
   },
   {
    "duration": 400,
    "start_time": "2023-07-08T13:50:06.362Z"
   },
   {
    "duration": 69,
    "start_time": "2023-07-08T13:50:06.763Z"
   },
   {
    "duration": 1296,
    "start_time": "2023-07-08T13:50:06.834Z"
   },
   {
    "duration": 16,
    "start_time": "2023-07-08T13:50:08.131Z"
   },
   {
    "duration": 72,
    "start_time": "2023-07-08T13:50:08.148Z"
   },
   {
    "duration": 26,
    "start_time": "2023-07-08T13:50:08.221Z"
   },
   {
    "duration": 33,
    "start_time": "2023-07-08T13:50:08.248Z"
   },
   {
    "duration": 160,
    "start_time": "2023-07-08T13:50:08.282Z"
   },
   {
    "duration": 281,
    "start_time": "2023-07-08T13:50:08.443Z"
   },
   {
    "duration": 3,
    "start_time": "2023-07-08T13:50:08.726Z"
   },
   {
    "duration": 58,
    "start_time": "2023-07-08T13:50:08.730Z"
   },
   {
    "duration": 143,
    "start_time": "2023-07-08T14:44:35.731Z"
   },
   {
    "duration": 147,
    "start_time": "2023-07-08T14:44:42.994Z"
   },
   {
    "duration": 1330,
    "start_time": "2023-07-08T15:23:37.417Z"
   },
   {
    "duration": 2,
    "start_time": "2023-07-08T15:23:38.749Z"
   },
   {
    "duration": 695,
    "start_time": "2023-07-08T15:23:38.752Z"
   },
   {
    "duration": 14,
    "start_time": "2023-07-08T15:23:39.448Z"
   },
   {
    "duration": 119,
    "start_time": "2023-07-08T15:23:39.464Z"
   },
   {
    "duration": 188,
    "start_time": "2023-07-08T15:23:39.584Z"
   },
   {
    "duration": 8,
    "start_time": "2023-07-08T15:23:39.773Z"
   },
   {
    "duration": 41,
    "start_time": "2023-07-08T15:23:39.782Z"
   },
   {
    "duration": 17,
    "start_time": "2023-07-08T15:23:39.825Z"
   },
   {
    "duration": 2,
    "start_time": "2023-07-08T15:23:39.844Z"
   },
   {
    "duration": 4,
    "start_time": "2023-07-08T15:23:39.848Z"
   },
   {
    "duration": 127,
    "start_time": "2023-07-08T15:23:39.855Z"
   },
   {
    "duration": 2110,
    "start_time": "2023-07-08T15:23:39.984Z"
   },
   {
    "duration": 2601,
    "start_time": "2023-07-08T15:23:42.097Z"
   },
   {
    "duration": 7,
    "start_time": "2023-07-08T15:23:44.699Z"
   },
   {
    "duration": 23,
    "start_time": "2023-07-08T15:23:44.708Z"
   },
   {
    "duration": 32,
    "start_time": "2023-07-08T15:23:44.733Z"
   },
   {
    "duration": 67,
    "start_time": "2023-07-08T15:23:44.767Z"
   },
   {
    "duration": 10,
    "start_time": "2023-07-08T15:23:44.836Z"
   },
   {
    "duration": 384,
    "start_time": "2023-07-08T15:23:44.848Z"
   },
   {
    "duration": 71,
    "start_time": "2023-07-08T15:23:45.233Z"
   },
   {
    "duration": 1254,
    "start_time": "2023-07-08T15:23:45.305Z"
   },
   {
    "duration": 14,
    "start_time": "2023-07-08T15:23:46.560Z"
   },
   {
    "duration": 53,
    "start_time": "2023-07-08T15:23:46.576Z"
   },
   {
    "duration": 24,
    "start_time": "2023-07-08T15:23:46.631Z"
   },
   {
    "duration": 25,
    "start_time": "2023-07-08T15:23:46.656Z"
   },
   {
    "duration": 153,
    "start_time": "2023-07-08T15:23:46.682Z"
   },
   {
    "duration": 280,
    "start_time": "2023-07-08T15:23:46.836Z"
   },
   {
    "duration": 3,
    "start_time": "2023-07-08T15:23:47.117Z"
   },
   {
    "duration": 60,
    "start_time": "2023-07-08T15:23:47.122Z"
   },
   {
    "duration": 107,
    "start_time": "2023-07-08T15:23:47.184Z"
   },
   {
    "duration": 290,
    "start_time": "2023-07-08T15:23:47.292Z"
   },
   {
    "duration": 3,
    "start_time": "2023-07-08T15:23:47.583Z"
   },
   {
    "duration": 210,
    "start_time": "2023-07-08T15:23:47.587Z"
   },
   {
    "duration": 134,
    "start_time": "2023-07-08T15:23:47.799Z"
   },
   {
    "duration": 9394,
    "start_time": "2023-07-08T15:23:47.934Z"
   },
   {
    "duration": 9,
    "start_time": "2023-07-08T15:23:57.401Z"
   },
   {
    "duration": 19,
    "start_time": "2023-07-08T15:23:57.499Z"
   },
   {
    "duration": 18,
    "start_time": "2023-07-08T15:23:57.520Z"
   },
   {
    "duration": 13,
    "start_time": "2023-07-08T15:23:57.540Z"
   },
   {
    "duration": 122723,
    "start_time": "2023-07-08T15:23:57.556Z"
   },
   {
    "duration": 217,
    "start_time": "2023-07-08T15:26:00.281Z"
   },
   {
    "duration": 4,
    "start_time": "2023-07-08T15:26:00.500Z"
   },
   {
    "duration": 39207,
    "start_time": "2023-07-08T15:26:00.505Z"
   },
   {
    "duration": 20566,
    "start_time": "2023-07-08T15:26:39.713Z"
   },
   {
    "duration": 89,
    "start_time": "2023-07-08T15:27:00.281Z"
   },
   {
    "duration": 1486,
    "start_time": "2023-07-08T15:27:39.969Z"
   },
   {
    "duration": 3,
    "start_time": "2023-07-08T15:27:41.457Z"
   },
   {
    "duration": 809,
    "start_time": "2023-07-08T15:27:41.461Z"
   },
   {
    "duration": 14,
    "start_time": "2023-07-08T15:27:42.271Z"
   },
   {
    "duration": 120,
    "start_time": "2023-07-08T15:27:42.287Z"
   },
   {
    "duration": 192,
    "start_time": "2023-07-08T15:27:42.408Z"
   },
   {
    "duration": 9,
    "start_time": "2023-07-08T15:27:42.602Z"
   },
   {
    "duration": 96,
    "start_time": "2023-07-08T15:27:42.613Z"
   },
   {
    "duration": 19,
    "start_time": "2023-07-08T15:27:42.711Z"
   },
   {
    "duration": 2,
    "start_time": "2023-07-08T15:27:42.732Z"
   },
   {
    "duration": 5,
    "start_time": "2023-07-08T15:27:42.736Z"
   },
   {
    "duration": 115,
    "start_time": "2023-07-08T15:27:42.743Z"
   },
   {
    "duration": 2303,
    "start_time": "2023-07-08T15:27:42.859Z"
   },
   {
    "duration": 3022,
    "start_time": "2023-07-08T15:27:45.165Z"
   },
   {
    "duration": 13,
    "start_time": "2023-07-08T15:27:48.190Z"
   },
   {
    "duration": 27,
    "start_time": "2023-07-08T15:27:48.205Z"
   },
   {
    "duration": 29,
    "start_time": "2023-07-08T15:27:48.234Z"
   },
   {
    "duration": 56,
    "start_time": "2023-07-08T15:27:48.264Z"
   },
   {
    "duration": 14,
    "start_time": "2023-07-08T15:27:48.322Z"
   },
   {
    "duration": 409,
    "start_time": "2023-07-08T15:27:48.337Z"
   },
   {
    "duration": 74,
    "start_time": "2023-07-08T15:27:48.748Z"
   },
   {
    "duration": 1377,
    "start_time": "2023-07-08T15:27:48.824Z"
   },
   {
    "duration": 18,
    "start_time": "2023-07-08T15:27:50.203Z"
   },
   {
    "duration": 76,
    "start_time": "2023-07-08T15:27:50.223Z"
   },
   {
    "duration": 28,
    "start_time": "2023-07-08T15:27:50.301Z"
   },
   {
    "duration": 30,
    "start_time": "2023-07-08T15:27:50.330Z"
   },
   {
    "duration": 173,
    "start_time": "2023-07-08T15:27:50.362Z"
   },
   {
    "duration": 310,
    "start_time": "2023-07-08T15:27:50.537Z"
   },
   {
    "duration": 4,
    "start_time": "2023-07-08T15:27:50.848Z"
   },
   {
    "duration": 80,
    "start_time": "2023-07-08T15:27:50.853Z"
   },
   {
    "duration": 2,
    "start_time": "2023-07-08T15:27:50.934Z"
   },
   {
    "duration": 466,
    "start_time": "2023-07-08T15:27:50.938Z"
   },
   {
    "duration": 3,
    "start_time": "2023-07-08T15:27:51.406Z"
   },
   {
    "duration": 322,
    "start_time": "2023-07-08T15:27:51.410Z"
   },
   {
    "duration": 160,
    "start_time": "2023-07-08T15:27:51.733Z"
   },
   {
    "duration": 18117,
    "start_time": "2023-07-08T15:27:51.894Z"
   },
   {
    "duration": 5,
    "start_time": "2023-07-08T15:28:10.103Z"
   },
   {
    "duration": 3,
    "start_time": "2023-07-08T15:28:10.109Z"
   },
   {
    "duration": 6,
    "start_time": "2023-07-08T15:28:10.114Z"
   },
   {
    "duration": 3,
    "start_time": "2023-07-08T15:28:10.199Z"
   },
   {
    "duration": 204204,
    "start_time": "2023-07-08T15:28:10.205Z"
   },
   {
    "duration": 312,
    "start_time": "2023-07-08T15:31:34.411Z"
   },
   {
    "duration": 5,
    "start_time": "2023-07-08T15:31:34.724Z"
   },
   {
    "duration": 279473,
    "start_time": "2023-07-08T15:31:34.730Z"
   },
   {
    "duration": 29326,
    "start_time": "2023-07-08T15:36:14.204Z"
   },
   {
    "duration": 115,
    "start_time": "2023-07-08T15:36:43.532Z"
   },
   {
    "duration": 111,
    "start_time": "2023-07-08T15:48:04.746Z"
   },
   {
    "duration": 1330,
    "start_time": "2023-07-08T16:44:00.116Z"
   },
   {
    "duration": 2,
    "start_time": "2023-07-08T16:44:01.448Z"
   },
   {
    "duration": 721,
    "start_time": "2023-07-08T16:44:01.451Z"
   },
   {
    "duration": 14,
    "start_time": "2023-07-08T16:44:02.174Z"
   },
   {
    "duration": 121,
    "start_time": "2023-07-08T16:44:02.190Z"
   },
   {
    "duration": 195,
    "start_time": "2023-07-08T16:44:02.313Z"
   },
   {
    "duration": 7,
    "start_time": "2023-07-08T16:44:02.510Z"
   },
   {
    "duration": 36,
    "start_time": "2023-07-08T16:44:02.519Z"
   },
   {
    "duration": 35,
    "start_time": "2023-07-08T16:44:02.556Z"
   },
   {
    "duration": 18,
    "start_time": "2023-07-08T16:44:02.594Z"
   },
   {
    "duration": 15,
    "start_time": "2023-07-08T16:44:02.613Z"
   },
   {
    "duration": 135,
    "start_time": "2023-07-08T16:44:02.629Z"
   },
   {
    "duration": 2117,
    "start_time": "2023-07-08T16:44:02.765Z"
   },
   {
    "duration": 2650,
    "start_time": "2023-07-08T16:44:04.884Z"
   },
   {
    "duration": 7,
    "start_time": "2023-07-08T16:44:07.536Z"
   },
   {
    "duration": 22,
    "start_time": "2023-07-08T16:44:07.545Z"
   },
   {
    "duration": 50,
    "start_time": "2023-07-08T16:44:07.569Z"
   },
   {
    "duration": 39,
    "start_time": "2023-07-08T16:44:07.621Z"
   },
   {
    "duration": 9,
    "start_time": "2023-07-08T16:44:07.661Z"
   },
   {
    "duration": 382,
    "start_time": "2023-07-08T16:44:07.672Z"
   },
   {
    "duration": 68,
    "start_time": "2023-07-08T16:44:08.055Z"
   },
   {
    "duration": 1214,
    "start_time": "2023-07-08T16:44:08.125Z"
   },
   {
    "duration": 15,
    "start_time": "2023-07-08T16:44:09.340Z"
   },
   {
    "duration": 56,
    "start_time": "2023-07-08T16:44:09.356Z"
   },
   {
    "duration": 25,
    "start_time": "2023-07-08T16:44:09.413Z"
   },
   {
    "duration": 26,
    "start_time": "2023-07-08T16:44:09.439Z"
   },
   {
    "duration": 161,
    "start_time": "2023-07-08T16:44:09.467Z"
   },
   {
    "duration": 283,
    "start_time": "2023-07-08T16:44:09.631Z"
   },
   {
    "duration": 3,
    "start_time": "2023-07-08T16:44:09.915Z"
   },
   {
    "duration": 95,
    "start_time": "2023-07-08T16:44:09.920Z"
   },
   {
    "duration": 136,
    "start_time": "2023-07-08T16:44:10.016Z"
   },
   {
    "duration": 2,
    "start_time": "2023-07-08T16:44:10.153Z"
   },
   {
    "duration": 13,
    "start_time": "2023-07-08T16:44:10.156Z"
   },
   {
    "duration": 47,
    "start_time": "2023-07-08T16:44:10.170Z"
   },
   {
    "duration": 23855,
    "start_time": "2023-07-08T16:44:10.218Z"
   },
   {
    "duration": 0,
    "start_time": "2023-07-08T16:44:34.074Z"
   },
   {
    "duration": 0,
    "start_time": "2023-07-08T16:44:34.075Z"
   },
   {
    "duration": 0,
    "start_time": "2023-07-08T16:44:34.076Z"
   },
   {
    "duration": 0,
    "start_time": "2023-07-08T16:44:34.076Z"
   },
   {
    "duration": 0,
    "start_time": "2023-07-08T16:44:34.077Z"
   },
   {
    "duration": 0,
    "start_time": "2023-07-08T16:44:34.078Z"
   },
   {
    "duration": 0,
    "start_time": "2023-07-08T16:44:34.079Z"
   },
   {
    "duration": 0,
    "start_time": "2023-07-08T16:44:34.079Z"
   },
   {
    "duration": 0,
    "start_time": "2023-07-08T16:44:34.080Z"
   },
   {
    "duration": 0,
    "start_time": "2023-07-08T16:44:34.081Z"
   },
   {
    "duration": 0,
    "start_time": "2023-07-08T16:44:34.099Z"
   },
   {
    "duration": 0,
    "start_time": "2023-07-08T16:44:34.100Z"
   },
   {
    "duration": 12,
    "start_time": "2023-07-08T16:45:12.746Z"
   },
   {
    "duration": 1288,
    "start_time": "2023-07-08T16:45:29.353Z"
   },
   {
    "duration": 3,
    "start_time": "2023-07-08T16:45:30.643Z"
   },
   {
    "duration": 720,
    "start_time": "2023-07-08T16:45:30.647Z"
   },
   {
    "duration": 14,
    "start_time": "2023-07-08T16:45:31.369Z"
   },
   {
    "duration": 131,
    "start_time": "2023-07-08T16:45:31.384Z"
   },
   {
    "duration": 196,
    "start_time": "2023-07-08T16:45:31.516Z"
   },
   {
    "duration": 7,
    "start_time": "2023-07-08T16:45:31.713Z"
   },
   {
    "duration": 63,
    "start_time": "2023-07-08T16:45:31.721Z"
   },
   {
    "duration": 34,
    "start_time": "2023-07-08T16:45:31.786Z"
   },
   {
    "duration": 56,
    "start_time": "2023-07-08T16:45:31.823Z"
   },
   {
    "duration": 14,
    "start_time": "2023-07-08T16:45:31.880Z"
   },
   {
    "duration": 138,
    "start_time": "2023-07-08T16:45:31.895Z"
   },
   {
    "duration": 2104,
    "start_time": "2023-07-08T16:45:32.034Z"
   },
   {
    "duration": 2653,
    "start_time": "2023-07-08T16:45:34.139Z"
   },
   {
    "duration": 8,
    "start_time": "2023-07-08T16:45:36.799Z"
   },
   {
    "duration": 27,
    "start_time": "2023-07-08T16:45:36.808Z"
   },
   {
    "duration": 33,
    "start_time": "2023-07-08T16:45:36.837Z"
   },
   {
    "duration": 53,
    "start_time": "2023-07-08T16:45:36.871Z"
   },
   {
    "duration": 9,
    "start_time": "2023-07-08T16:45:36.925Z"
   },
   {
    "duration": 391,
    "start_time": "2023-07-08T16:45:36.935Z"
   },
   {
    "duration": 73,
    "start_time": "2023-07-08T16:45:37.327Z"
   },
   {
    "duration": 1218,
    "start_time": "2023-07-08T16:45:37.401Z"
   },
   {
    "duration": 15,
    "start_time": "2023-07-08T16:45:38.620Z"
   },
   {
    "duration": 61,
    "start_time": "2023-07-08T16:45:38.636Z"
   },
   {
    "duration": 24,
    "start_time": "2023-07-08T16:45:38.699Z"
   },
   {
    "duration": 27,
    "start_time": "2023-07-08T16:45:38.724Z"
   },
   {
    "duration": 150,
    "start_time": "2023-07-08T16:45:38.752Z"
   },
   {
    "duration": 278,
    "start_time": "2023-07-08T16:45:38.905Z"
   },
   {
    "duration": 3,
    "start_time": "2023-07-08T16:45:39.185Z"
   },
   {
    "duration": 67,
    "start_time": "2023-07-08T16:45:39.189Z"
   },
   {
    "duration": 107,
    "start_time": "2023-07-08T16:45:39.258Z"
   },
   {
    "duration": 2,
    "start_time": "2023-07-08T16:45:39.366Z"
   },
   {
    "duration": 10,
    "start_time": "2023-07-08T16:45:39.369Z"
   },
   {
    "duration": 47,
    "start_time": "2023-07-08T16:45:39.380Z"
   },
   {
    "duration": 3222,
    "start_time": "2023-07-08T16:45:39.428Z"
   },
   {
    "duration": 96,
    "start_time": "2023-07-08T16:45:42.651Z"
   },
   {
    "duration": 679,
    "start_time": "2023-07-08T16:45:42.748Z"
   },
   {
    "duration": 8,
    "start_time": "2023-07-08T16:45:43.428Z"
   },
   {
    "duration": 0,
    "start_time": "2023-07-08T16:45:43.438Z"
   },
   {
    "duration": 0,
    "start_time": "2023-07-08T16:45:43.439Z"
   },
   {
    "duration": 0,
    "start_time": "2023-07-08T16:45:43.439Z"
   },
   {
    "duration": 0,
    "start_time": "2023-07-08T16:45:43.440Z"
   },
   {
    "duration": 0,
    "start_time": "2023-07-08T16:45:43.441Z"
   },
   {
    "duration": 0,
    "start_time": "2023-07-08T16:45:43.442Z"
   },
   {
    "duration": 0,
    "start_time": "2023-07-08T16:45:43.443Z"
   },
   {
    "duration": 0,
    "start_time": "2023-07-08T16:45:43.444Z"
   },
   {
    "duration": 0,
    "start_time": "2023-07-08T16:45:43.445Z"
   },
   {
    "duration": 3,
    "start_time": "2023-07-08T16:47:07.336Z"
   },
   {
    "duration": 1454,
    "start_time": "2023-07-08T16:47:15.383Z"
   },
   {
    "duration": 2,
    "start_time": "2023-07-08T16:47:16.839Z"
   },
   {
    "duration": 763,
    "start_time": "2023-07-08T16:47:16.843Z"
   },
   {
    "duration": 15,
    "start_time": "2023-07-08T16:47:17.608Z"
   },
   {
    "duration": 131,
    "start_time": "2023-07-08T16:47:17.625Z"
   },
   {
    "duration": 209,
    "start_time": "2023-07-08T16:47:17.758Z"
   },
   {
    "duration": 8,
    "start_time": "2023-07-08T16:47:17.969Z"
   },
   {
    "duration": 37,
    "start_time": "2023-07-08T16:47:17.979Z"
   },
   {
    "duration": 19,
    "start_time": "2023-07-08T16:47:18.017Z"
   },
   {
    "duration": 2,
    "start_time": "2023-07-08T16:47:18.037Z"
   },
   {
    "duration": 13,
    "start_time": "2023-07-08T16:47:18.041Z"
   },
   {
    "duration": 129,
    "start_time": "2023-07-08T16:47:18.055Z"
   },
   {
    "duration": 2309,
    "start_time": "2023-07-08T16:47:18.185Z"
   },
   {
    "duration": 2741,
    "start_time": "2023-07-08T16:47:20.497Z"
   },
   {
    "duration": 7,
    "start_time": "2023-07-08T16:47:23.239Z"
   },
   {
    "duration": 73,
    "start_time": "2023-07-08T16:47:23.248Z"
   },
   {
    "duration": 45,
    "start_time": "2023-07-08T16:47:23.322Z"
   },
   {
    "duration": 39,
    "start_time": "2023-07-08T16:47:23.369Z"
   },
   {
    "duration": 10,
    "start_time": "2023-07-08T16:47:23.409Z"
   },
   {
    "duration": 382,
    "start_time": "2023-07-08T16:47:23.420Z"
   },
   {
    "duration": 63,
    "start_time": "2023-07-08T16:47:23.803Z"
   },
   {
    "duration": 1224,
    "start_time": "2023-07-08T16:47:23.868Z"
   },
   {
    "duration": 16,
    "start_time": "2023-07-08T16:47:25.093Z"
   },
   {
    "duration": 48,
    "start_time": "2023-07-08T16:47:25.111Z"
   },
   {
    "duration": 39,
    "start_time": "2023-07-08T16:47:25.161Z"
   },
   {
    "duration": 26,
    "start_time": "2023-07-08T16:47:25.201Z"
   },
   {
    "duration": 154,
    "start_time": "2023-07-08T16:47:25.228Z"
   },
   {
    "duration": 284,
    "start_time": "2023-07-08T16:47:25.383Z"
   },
   {
    "duration": 3,
    "start_time": "2023-07-08T16:47:25.668Z"
   },
   {
    "duration": 59,
    "start_time": "2023-07-08T16:47:25.672Z"
   },
   {
    "duration": 114,
    "start_time": "2023-07-08T16:47:25.733Z"
   },
   {
    "duration": 2,
    "start_time": "2023-07-08T16:47:25.848Z"
   },
   {
    "duration": 23,
    "start_time": "2023-07-08T16:47:25.851Z"
   },
   {
    "duration": 34,
    "start_time": "2023-07-08T16:47:25.876Z"
   },
   {
    "duration": 3066,
    "start_time": "2023-07-08T16:47:25.911Z"
   },
   {
    "duration": 95,
    "start_time": "2023-07-08T16:47:28.979Z"
   },
   {
    "duration": 3,
    "start_time": "2023-07-08T16:47:29.075Z"
   },
   {
    "duration": 10,
    "start_time": "2023-07-08T16:47:29.079Z"
   },
   {
    "duration": 9,
    "start_time": "2023-07-08T16:47:29.090Z"
   },
   {
    "duration": 7,
    "start_time": "2023-07-08T16:47:29.101Z"
   },
   {
    "duration": 6,
    "start_time": "2023-07-08T16:47:29.112Z"
   },
   {
    "duration": 666,
    "start_time": "2023-07-08T16:47:29.119Z"
   },
   {
    "duration": 80,
    "start_time": "2023-07-08T16:47:29.787Z"
   },
   {
    "duration": 9,
    "start_time": "2023-07-08T16:47:29.869Z"
   },
   {
    "duration": 0,
    "start_time": "2023-07-08T16:47:29.879Z"
   },
   {
    "duration": 0,
    "start_time": "2023-07-08T16:47:29.880Z"
   },
   {
    "duration": 0,
    "start_time": "2023-07-08T16:47:29.882Z"
   },
   {
    "duration": 1462,
    "start_time": "2023-07-08T16:53:17.305Z"
   },
   {
    "duration": 3,
    "start_time": "2023-07-08T16:53:18.769Z"
   },
   {
    "duration": 759,
    "start_time": "2023-07-08T16:53:18.773Z"
   },
   {
    "duration": 16,
    "start_time": "2023-07-08T16:53:19.533Z"
   },
   {
    "duration": 124,
    "start_time": "2023-07-08T16:53:19.550Z"
   },
   {
    "duration": 208,
    "start_time": "2023-07-08T16:53:19.676Z"
   },
   {
    "duration": 8,
    "start_time": "2023-07-08T16:53:19.885Z"
   },
   {
    "duration": 30,
    "start_time": "2023-07-08T16:53:19.900Z"
   },
   {
    "duration": 21,
    "start_time": "2023-07-08T16:53:19.931Z"
   },
   {
    "duration": 2,
    "start_time": "2023-07-08T16:53:19.953Z"
   },
   {
    "duration": 6,
    "start_time": "2023-07-08T16:53:19.956Z"
   },
   {
    "duration": 127,
    "start_time": "2023-07-08T16:53:19.963Z"
   },
   {
    "duration": 2175,
    "start_time": "2023-07-08T16:53:20.091Z"
   },
   {
    "duration": 2728,
    "start_time": "2023-07-08T16:53:22.269Z"
   },
   {
    "duration": 9,
    "start_time": "2023-07-08T16:53:24.999Z"
   },
   {
    "duration": 24,
    "start_time": "2023-07-08T16:53:25.009Z"
   },
   {
    "duration": 34,
    "start_time": "2023-07-08T16:53:25.034Z"
   },
   {
    "duration": 65,
    "start_time": "2023-07-08T16:53:25.070Z"
   },
   {
    "duration": 10,
    "start_time": "2023-07-08T16:53:25.137Z"
   },
   {
    "duration": 397,
    "start_time": "2023-07-08T16:53:25.148Z"
   },
   {
    "duration": 73,
    "start_time": "2023-07-08T16:53:25.546Z"
   },
   {
    "duration": 1273,
    "start_time": "2023-07-08T16:53:25.620Z"
   },
   {
    "duration": 18,
    "start_time": "2023-07-08T16:53:26.895Z"
   },
   {
    "duration": 53,
    "start_time": "2023-07-08T16:53:26.914Z"
   },
   {
    "duration": 44,
    "start_time": "2023-07-08T16:53:26.968Z"
   },
   {
    "duration": 27,
    "start_time": "2023-07-08T16:53:27.014Z"
   },
   {
    "duration": 156,
    "start_time": "2023-07-08T16:53:27.043Z"
   },
   {
    "duration": 287,
    "start_time": "2023-07-08T16:53:27.201Z"
   },
   {
    "duration": 11,
    "start_time": "2023-07-08T16:53:27.489Z"
   },
   {
    "duration": 65,
    "start_time": "2023-07-08T16:53:27.502Z"
   },
   {
    "duration": 113,
    "start_time": "2023-07-08T16:53:27.569Z"
   },
   {
    "duration": 2,
    "start_time": "2023-07-08T16:53:27.683Z"
   },
   {
    "duration": 13,
    "start_time": "2023-07-08T16:53:27.686Z"
   },
   {
    "duration": 37,
    "start_time": "2023-07-08T16:53:27.700Z"
   },
   {
    "duration": 3277,
    "start_time": "2023-07-08T16:53:27.738Z"
   },
   {
    "duration": 103,
    "start_time": "2023-07-08T16:53:31.017Z"
   },
   {
    "duration": 717,
    "start_time": "2023-07-08T16:53:31.122Z"
   },
   {
    "duration": 9,
    "start_time": "2023-07-08T16:53:31.841Z"
   },
   {
    "duration": 0,
    "start_time": "2023-07-08T16:53:31.852Z"
   },
   {
    "duration": 0,
    "start_time": "2023-07-08T16:53:31.853Z"
   },
   {
    "duration": 0,
    "start_time": "2023-07-08T16:53:31.854Z"
   },
   {
    "duration": 0,
    "start_time": "2023-07-08T16:53:31.855Z"
   },
   {
    "duration": 0,
    "start_time": "2023-07-08T16:53:31.856Z"
   },
   {
    "duration": 0,
    "start_time": "2023-07-08T16:53:31.857Z"
   },
   {
    "duration": 0,
    "start_time": "2023-07-08T16:53:31.858Z"
   },
   {
    "duration": 0,
    "start_time": "2023-07-08T16:53:31.859Z"
   },
   {
    "duration": 0,
    "start_time": "2023-07-08T16:53:31.861Z"
   },
   {
    "duration": 1422,
    "start_time": "2023-07-08T16:54:16.303Z"
   },
   {
    "duration": 3,
    "start_time": "2023-07-08T16:54:17.728Z"
   },
   {
    "duration": 774,
    "start_time": "2023-07-08T16:54:17.733Z"
   },
   {
    "duration": 17,
    "start_time": "2023-07-08T16:54:18.508Z"
   },
   {
    "duration": 127,
    "start_time": "2023-07-08T16:54:18.527Z"
   },
   {
    "duration": 208,
    "start_time": "2023-07-08T16:54:18.656Z"
   },
   {
    "duration": 10,
    "start_time": "2023-07-08T16:54:18.866Z"
   },
   {
    "duration": 46,
    "start_time": "2023-07-08T16:54:18.877Z"
   },
   {
    "duration": 19,
    "start_time": "2023-07-08T16:54:18.925Z"
   },
   {
    "duration": 2,
    "start_time": "2023-07-08T16:54:18.946Z"
   },
   {
    "duration": 8,
    "start_time": "2023-07-08T16:54:18.950Z"
   },
   {
    "duration": 139,
    "start_time": "2023-07-08T16:54:18.961Z"
   },
   {
    "duration": 2184,
    "start_time": "2023-07-08T16:54:19.102Z"
   },
   {
    "duration": 2732,
    "start_time": "2023-07-08T16:54:21.290Z"
   },
   {
    "duration": 7,
    "start_time": "2023-07-08T16:54:24.023Z"
   },
   {
    "duration": 41,
    "start_time": "2023-07-08T16:54:24.031Z"
   },
   {
    "duration": 34,
    "start_time": "2023-07-08T16:54:24.074Z"
   },
   {
    "duration": 41,
    "start_time": "2023-07-08T16:54:24.109Z"
   },
   {
    "duration": 8,
    "start_time": "2023-07-08T16:54:24.152Z"
   },
   {
    "duration": 373,
    "start_time": "2023-07-08T16:54:24.162Z"
   },
   {
    "duration": 68,
    "start_time": "2023-07-08T16:54:24.537Z"
   },
   {
    "duration": 1282,
    "start_time": "2023-07-08T16:54:24.606Z"
   },
   {
    "duration": 22,
    "start_time": "2023-07-08T16:54:25.889Z"
   },
   {
    "duration": 67,
    "start_time": "2023-07-08T16:54:25.913Z"
   },
   {
    "duration": 40,
    "start_time": "2023-07-08T16:54:25.982Z"
   },
   {
    "duration": 32,
    "start_time": "2023-07-08T16:54:26.024Z"
   },
   {
    "duration": 158,
    "start_time": "2023-07-08T16:54:26.058Z"
   },
   {
    "duration": 281,
    "start_time": "2023-07-08T16:54:26.218Z"
   },
   {
    "duration": 4,
    "start_time": "2023-07-08T16:54:26.500Z"
   },
   {
    "duration": 60,
    "start_time": "2023-07-08T16:54:26.505Z"
   },
   {
    "duration": 113,
    "start_time": "2023-07-08T16:54:26.567Z"
   },
   {
    "duration": 2,
    "start_time": "2023-07-08T16:54:26.681Z"
   },
   {
    "duration": 5,
    "start_time": "2023-07-08T16:54:26.684Z"
   },
   {
    "duration": 32,
    "start_time": "2023-07-08T16:54:26.699Z"
   },
   {
    "duration": 24691,
    "start_time": "2023-07-08T16:54:26.733Z"
   },
   {
    "duration": 0,
    "start_time": "2023-07-08T16:54:51.425Z"
   },
   {
    "duration": 0,
    "start_time": "2023-07-08T16:54:51.426Z"
   },
   {
    "duration": 0,
    "start_time": "2023-07-08T16:54:51.427Z"
   },
   {
    "duration": 0,
    "start_time": "2023-07-08T16:54:51.428Z"
   },
   {
    "duration": 0,
    "start_time": "2023-07-08T16:54:51.429Z"
   },
   {
    "duration": 0,
    "start_time": "2023-07-08T16:54:51.430Z"
   },
   {
    "duration": 0,
    "start_time": "2023-07-08T16:54:51.430Z"
   },
   {
    "duration": 0,
    "start_time": "2023-07-08T16:54:51.431Z"
   },
   {
    "duration": 0,
    "start_time": "2023-07-08T16:54:51.433Z"
   },
   {
    "duration": 0,
    "start_time": "2023-07-08T16:54:51.433Z"
   },
   {
    "duration": 0,
    "start_time": "2023-07-08T16:54:51.434Z"
   },
   {
    "duration": 0,
    "start_time": "2023-07-08T16:54:51.435Z"
   },
   {
    "duration": 1356,
    "start_time": "2023-07-08T16:57:20.008Z"
   },
   {
    "duration": 2,
    "start_time": "2023-07-08T16:57:21.366Z"
   },
   {
    "duration": 729,
    "start_time": "2023-07-08T16:57:21.370Z"
   },
   {
    "duration": 15,
    "start_time": "2023-07-08T16:57:22.101Z"
   },
   {
    "duration": 126,
    "start_time": "2023-07-08T16:57:22.118Z"
   },
   {
    "duration": 183,
    "start_time": "2023-07-08T16:57:22.245Z"
   },
   {
    "duration": 8,
    "start_time": "2023-07-08T16:57:22.430Z"
   },
   {
    "duration": 29,
    "start_time": "2023-07-08T16:57:22.439Z"
   },
   {
    "duration": 30,
    "start_time": "2023-07-08T16:57:22.470Z"
   },
   {
    "duration": 2,
    "start_time": "2023-07-08T16:57:22.501Z"
   },
   {
    "duration": 10,
    "start_time": "2023-07-08T16:57:22.504Z"
   },
   {
    "duration": 119,
    "start_time": "2023-07-08T16:57:22.516Z"
   },
   {
    "duration": 2133,
    "start_time": "2023-07-08T16:57:22.637Z"
   },
   {
    "duration": 2686,
    "start_time": "2023-07-08T16:57:24.773Z"
   },
   {
    "duration": 6,
    "start_time": "2023-07-08T16:57:27.460Z"
   },
   {
    "duration": 37,
    "start_time": "2023-07-08T16:57:27.467Z"
   },
   {
    "duration": 36,
    "start_time": "2023-07-08T16:57:27.505Z"
   },
   {
    "duration": 40,
    "start_time": "2023-07-08T16:57:27.542Z"
   },
   {
    "duration": 23,
    "start_time": "2023-07-08T16:57:27.583Z"
   },
   {
    "duration": 366,
    "start_time": "2023-07-08T16:57:27.608Z"
   },
   {
    "duration": 66,
    "start_time": "2023-07-08T16:57:27.975Z"
   },
   {
    "duration": 1249,
    "start_time": "2023-07-08T16:57:28.043Z"
   },
   {
    "duration": 18,
    "start_time": "2023-07-08T16:57:29.294Z"
   },
   {
    "duration": 52,
    "start_time": "2023-07-08T16:57:29.314Z"
   },
   {
    "duration": 38,
    "start_time": "2023-07-08T16:57:29.367Z"
   },
   {
    "duration": 26,
    "start_time": "2023-07-08T16:57:29.406Z"
   },
   {
    "duration": 144,
    "start_time": "2023-07-08T16:57:29.434Z"
   },
   {
    "duration": 274,
    "start_time": "2023-07-08T16:57:29.579Z"
   },
   {
    "duration": 3,
    "start_time": "2023-07-08T16:57:29.855Z"
   },
   {
    "duration": 67,
    "start_time": "2023-07-08T16:57:29.859Z"
   },
   {
    "duration": 116,
    "start_time": "2023-07-08T16:57:29.928Z"
   },
   {
    "duration": 2,
    "start_time": "2023-07-08T16:57:30.046Z"
   },
   {
    "duration": 35,
    "start_time": "2023-07-08T16:57:30.049Z"
   },
   {
    "duration": 43,
    "start_time": "2023-07-08T16:57:30.086Z"
   },
   {
    "duration": 122,
    "start_time": "2023-07-08T16:57:30.130Z"
   },
   {
    "duration": 0,
    "start_time": "2023-07-08T16:57:30.254Z"
   },
   {
    "duration": 0,
    "start_time": "2023-07-08T16:57:30.255Z"
   },
   {
    "duration": 0,
    "start_time": "2023-07-08T16:57:30.256Z"
   },
   {
    "duration": 0,
    "start_time": "2023-07-08T16:57:30.257Z"
   },
   {
    "duration": 0,
    "start_time": "2023-07-08T16:57:30.257Z"
   },
   {
    "duration": 0,
    "start_time": "2023-07-08T16:57:30.258Z"
   },
   {
    "duration": 0,
    "start_time": "2023-07-08T16:57:30.259Z"
   },
   {
    "duration": 0,
    "start_time": "2023-07-08T16:57:30.260Z"
   },
   {
    "duration": 0,
    "start_time": "2023-07-08T16:57:30.260Z"
   },
   {
    "duration": 0,
    "start_time": "2023-07-08T16:57:30.261Z"
   },
   {
    "duration": 0,
    "start_time": "2023-07-08T16:57:30.262Z"
   },
   {
    "duration": 0,
    "start_time": "2023-07-08T16:57:30.263Z"
   },
   {
    "duration": 1348,
    "start_time": "2023-07-08T17:05:29.832Z"
   },
   {
    "duration": 2,
    "start_time": "2023-07-08T17:05:31.183Z"
   },
   {
    "duration": 758,
    "start_time": "2023-07-08T17:05:31.186Z"
   },
   {
    "duration": 15,
    "start_time": "2023-07-08T17:05:31.945Z"
   },
   {
    "duration": 122,
    "start_time": "2023-07-08T17:05:31.962Z"
   },
   {
    "duration": 203,
    "start_time": "2023-07-08T17:05:32.086Z"
   },
   {
    "duration": 11,
    "start_time": "2023-07-08T17:05:32.290Z"
   },
   {
    "duration": 45,
    "start_time": "2023-07-08T17:05:32.303Z"
   },
   {
    "duration": 46,
    "start_time": "2023-07-08T17:05:32.350Z"
   },
   {
    "duration": 2,
    "start_time": "2023-07-08T17:05:32.398Z"
   },
   {
    "duration": 17,
    "start_time": "2023-07-08T17:05:32.401Z"
   },
   {
    "duration": 115,
    "start_time": "2023-07-08T17:05:32.420Z"
   },
   {
    "duration": 2249,
    "start_time": "2023-07-08T17:05:32.537Z"
   },
   {
    "duration": 2905,
    "start_time": "2023-07-08T17:05:34.789Z"
   },
   {
    "duration": 7,
    "start_time": "2023-07-08T17:05:37.695Z"
   },
   {
    "duration": 27,
    "start_time": "2023-07-08T17:05:37.703Z"
   },
   {
    "duration": 34,
    "start_time": "2023-07-08T17:05:37.732Z"
   },
   {
    "duration": 67,
    "start_time": "2023-07-08T17:05:37.768Z"
   },
   {
    "duration": 9,
    "start_time": "2023-07-08T17:05:37.837Z"
   },
   {
    "duration": 411,
    "start_time": "2023-07-08T17:05:37.846Z"
   },
   {
    "duration": 112,
    "start_time": "2023-07-08T17:05:38.258Z"
   },
   {
    "duration": 1376,
    "start_time": "2023-07-08T17:05:38.371Z"
   },
   {
    "duration": 16,
    "start_time": "2023-07-08T17:05:39.748Z"
   },
   {
    "duration": 68,
    "start_time": "2023-07-08T17:05:39.765Z"
   },
   {
    "duration": 35,
    "start_time": "2023-07-08T17:05:39.835Z"
   },
   {
    "duration": 50,
    "start_time": "2023-07-08T17:05:39.871Z"
   },
   {
    "duration": 193,
    "start_time": "2023-07-08T17:05:39.922Z"
   },
   {
    "duration": 286,
    "start_time": "2023-07-08T17:05:40.117Z"
   },
   {
    "duration": 4,
    "start_time": "2023-07-08T17:05:40.405Z"
   },
   {
    "duration": 59,
    "start_time": "2023-07-08T17:05:40.410Z"
   },
   {
    "duration": 142,
    "start_time": "2023-07-08T17:05:40.471Z"
   },
   {
    "duration": 3,
    "start_time": "2023-07-08T17:05:40.614Z"
   },
   {
    "duration": 13,
    "start_time": "2023-07-08T17:05:40.618Z"
   },
   {
    "duration": 57,
    "start_time": "2023-07-08T17:05:40.633Z"
   },
   {
    "duration": 121,
    "start_time": "2023-07-08T17:05:40.692Z"
   },
   {
    "duration": 0,
    "start_time": "2023-07-08T17:05:40.814Z"
   },
   {
    "duration": 0,
    "start_time": "2023-07-08T17:05:40.815Z"
   },
   {
    "duration": 0,
    "start_time": "2023-07-08T17:05:40.816Z"
   },
   {
    "duration": 0,
    "start_time": "2023-07-08T17:05:40.818Z"
   },
   {
    "duration": 0,
    "start_time": "2023-07-08T17:05:40.819Z"
   },
   {
    "duration": 0,
    "start_time": "2023-07-08T17:05:40.819Z"
   },
   {
    "duration": 0,
    "start_time": "2023-07-08T17:05:40.821Z"
   },
   {
    "duration": 0,
    "start_time": "2023-07-08T17:05:40.821Z"
   },
   {
    "duration": 0,
    "start_time": "2023-07-08T17:05:40.822Z"
   },
   {
    "duration": 0,
    "start_time": "2023-07-08T17:05:40.823Z"
   },
   {
    "duration": 0,
    "start_time": "2023-07-08T17:05:40.824Z"
   },
   {
    "duration": 0,
    "start_time": "2023-07-08T17:05:40.825Z"
   },
   {
    "duration": 1396,
    "start_time": "2023-07-08T17:06:29.114Z"
   },
   {
    "duration": 3,
    "start_time": "2023-07-08T17:06:30.512Z"
   },
   {
    "duration": 799,
    "start_time": "2023-07-08T17:06:30.516Z"
   },
   {
    "duration": 16,
    "start_time": "2023-07-08T17:06:31.317Z"
   },
   {
    "duration": 134,
    "start_time": "2023-07-08T17:06:31.335Z"
   },
   {
    "duration": 215,
    "start_time": "2023-07-08T17:06:31.471Z"
   },
   {
    "duration": 24,
    "start_time": "2023-07-08T17:06:31.688Z"
   },
   {
    "duration": 80,
    "start_time": "2023-07-08T17:06:31.714Z"
   },
   {
    "duration": 59,
    "start_time": "2023-07-08T17:06:31.796Z"
   },
   {
    "duration": 28,
    "start_time": "2023-07-08T17:06:31.856Z"
   },
   {
    "duration": 54,
    "start_time": "2023-07-08T17:06:31.886Z"
   },
   {
    "duration": 153,
    "start_time": "2023-07-08T17:06:31.941Z"
   },
   {
    "duration": 2318,
    "start_time": "2023-07-08T17:06:32.095Z"
   },
   {
    "duration": 2993,
    "start_time": "2023-07-08T17:06:34.416Z"
   },
   {
    "duration": 7,
    "start_time": "2023-07-08T17:06:37.414Z"
   },
   {
    "duration": 27,
    "start_time": "2023-07-08T17:06:37.422Z"
   },
   {
    "duration": 38,
    "start_time": "2023-07-08T17:06:37.451Z"
   },
   {
    "duration": 40,
    "start_time": "2023-07-08T17:06:37.513Z"
   },
   {
    "duration": 11,
    "start_time": "2023-07-08T17:06:37.554Z"
   },
   {
    "duration": 390,
    "start_time": "2023-07-08T17:06:37.566Z"
   },
   {
    "duration": 82,
    "start_time": "2023-07-08T17:06:37.958Z"
   },
   {
    "duration": 1400,
    "start_time": "2023-07-08T17:06:38.042Z"
   },
   {
    "duration": 16,
    "start_time": "2023-07-08T17:06:39.443Z"
   },
   {
    "duration": 65,
    "start_time": "2023-07-08T17:06:39.460Z"
   },
   {
    "duration": 25,
    "start_time": "2023-07-08T17:06:39.526Z"
   },
   {
    "duration": 27,
    "start_time": "2023-07-08T17:06:39.552Z"
   },
   {
    "duration": 172,
    "start_time": "2023-07-08T17:06:39.580Z"
   },
   {
    "duration": 314,
    "start_time": "2023-07-08T17:06:39.754Z"
   },
   {
    "duration": 4,
    "start_time": "2023-07-08T17:06:40.069Z"
   },
   {
    "duration": 75,
    "start_time": "2023-07-08T17:06:40.075Z"
   },
   {
    "duration": 110,
    "start_time": "2023-07-08T17:06:40.152Z"
   },
   {
    "duration": 3,
    "start_time": "2023-07-08T17:06:40.264Z"
   },
   {
    "duration": 10,
    "start_time": "2023-07-08T17:06:40.268Z"
   },
   {
    "duration": 50,
    "start_time": "2023-07-08T17:06:40.280Z"
   },
   {
    "duration": 131,
    "start_time": "2023-07-08T17:06:40.331Z"
   },
   {
    "duration": 0,
    "start_time": "2023-07-08T17:06:40.464Z"
   },
   {
    "duration": 0,
    "start_time": "2023-07-08T17:06:40.465Z"
   },
   {
    "duration": 0,
    "start_time": "2023-07-08T17:06:40.466Z"
   },
   {
    "duration": 0,
    "start_time": "2023-07-08T17:06:40.467Z"
   },
   {
    "duration": 0,
    "start_time": "2023-07-08T17:06:40.468Z"
   },
   {
    "duration": 0,
    "start_time": "2023-07-08T17:06:40.468Z"
   },
   {
    "duration": 0,
    "start_time": "2023-07-08T17:06:40.469Z"
   },
   {
    "duration": 0,
    "start_time": "2023-07-08T17:06:40.470Z"
   },
   {
    "duration": 0,
    "start_time": "2023-07-08T17:06:40.471Z"
   },
   {
    "duration": 0,
    "start_time": "2023-07-08T17:06:40.472Z"
   },
   {
    "duration": 0,
    "start_time": "2023-07-08T17:06:40.473Z"
   },
   {
    "duration": 0,
    "start_time": "2023-07-08T17:06:40.474Z"
   },
   {
    "duration": 1353,
    "start_time": "2023-07-08T17:07:13.451Z"
   },
   {
    "duration": 3,
    "start_time": "2023-07-08T17:07:14.807Z"
   },
   {
    "duration": 738,
    "start_time": "2023-07-08T17:07:14.812Z"
   },
   {
    "duration": 14,
    "start_time": "2023-07-08T17:07:15.552Z"
   },
   {
    "duration": 119,
    "start_time": "2023-07-08T17:07:15.568Z"
   },
   {
    "duration": 203,
    "start_time": "2023-07-08T17:07:15.688Z"
   },
   {
    "duration": 10,
    "start_time": "2023-07-08T17:07:15.892Z"
   },
   {
    "duration": 28,
    "start_time": "2023-07-08T17:07:15.903Z"
   },
   {
    "duration": 32,
    "start_time": "2023-07-08T17:07:15.932Z"
   },
   {
    "duration": 9,
    "start_time": "2023-07-08T17:07:15.967Z"
   },
   {
    "duration": 13,
    "start_time": "2023-07-08T17:07:15.977Z"
   },
   {
    "duration": 137,
    "start_time": "2023-07-08T17:07:15.992Z"
   },
   {
    "duration": 2424,
    "start_time": "2023-07-08T17:07:16.130Z"
   },
   {
    "duration": 2816,
    "start_time": "2023-07-08T17:07:18.558Z"
   },
   {
    "duration": 7,
    "start_time": "2023-07-08T17:07:21.376Z"
   },
   {
    "duration": 38,
    "start_time": "2023-07-08T17:07:21.384Z"
   },
   {
    "duration": 41,
    "start_time": "2023-07-08T17:07:21.424Z"
   },
   {
    "duration": 43,
    "start_time": "2023-07-08T17:07:21.467Z"
   },
   {
    "duration": 15,
    "start_time": "2023-07-08T17:07:21.512Z"
   },
   {
    "duration": 411,
    "start_time": "2023-07-08T17:07:21.529Z"
   },
   {
    "duration": 78,
    "start_time": "2023-07-08T17:07:21.942Z"
   },
   {
    "duration": 1352,
    "start_time": "2023-07-08T17:07:22.022Z"
   },
   {
    "duration": 15,
    "start_time": "2023-07-08T17:07:23.376Z"
   },
   {
    "duration": 52,
    "start_time": "2023-07-08T17:07:23.399Z"
   },
   {
    "duration": 24,
    "start_time": "2023-07-08T17:07:23.453Z"
   },
   {
    "duration": 42,
    "start_time": "2023-07-08T17:07:23.479Z"
   },
   {
    "duration": 154,
    "start_time": "2023-07-08T17:07:23.523Z"
   },
   {
    "duration": 285,
    "start_time": "2023-07-08T17:07:23.679Z"
   },
   {
    "duration": 4,
    "start_time": "2023-07-08T17:07:23.966Z"
   },
   {
    "duration": 79,
    "start_time": "2023-07-08T17:07:23.972Z"
   },
   {
    "duration": 158,
    "start_time": "2023-07-08T17:07:24.053Z"
   },
   {
    "duration": 2,
    "start_time": "2023-07-08T17:07:24.212Z"
   },
   {
    "duration": 15,
    "start_time": "2023-07-08T17:07:24.215Z"
   },
   {
    "duration": 44,
    "start_time": "2023-07-08T17:07:24.231Z"
   },
   {
    "duration": 112,
    "start_time": "2023-07-08T17:07:24.276Z"
   },
   {
    "duration": 0,
    "start_time": "2023-07-08T17:07:24.389Z"
   },
   {
    "duration": 0,
    "start_time": "2023-07-08T17:07:24.390Z"
   },
   {
    "duration": 0,
    "start_time": "2023-07-08T17:07:24.399Z"
   },
   {
    "duration": 0,
    "start_time": "2023-07-08T17:07:24.400Z"
   },
   {
    "duration": 0,
    "start_time": "2023-07-08T17:07:24.401Z"
   },
   {
    "duration": 0,
    "start_time": "2023-07-08T17:07:24.401Z"
   },
   {
    "duration": 0,
    "start_time": "2023-07-08T17:07:24.402Z"
   },
   {
    "duration": 0,
    "start_time": "2023-07-08T17:07:24.403Z"
   },
   {
    "duration": 0,
    "start_time": "2023-07-08T17:07:24.404Z"
   },
   {
    "duration": 0,
    "start_time": "2023-07-08T17:07:24.405Z"
   },
   {
    "duration": 0,
    "start_time": "2023-07-08T17:07:24.406Z"
   },
   {
    "duration": 0,
    "start_time": "2023-07-08T17:07:24.407Z"
   },
   {
    "duration": 1367,
    "start_time": "2023-07-08T17:07:38.676Z"
   },
   {
    "duration": 2,
    "start_time": "2023-07-08T17:07:40.045Z"
   },
   {
    "duration": 743,
    "start_time": "2023-07-08T17:07:40.048Z"
   },
   {
    "duration": 19,
    "start_time": "2023-07-08T17:07:40.792Z"
   },
   {
    "duration": 129,
    "start_time": "2023-07-08T17:07:40.813Z"
   },
   {
    "duration": 216,
    "start_time": "2023-07-08T17:07:40.944Z"
   },
   {
    "duration": 9,
    "start_time": "2023-07-08T17:07:41.161Z"
   },
   {
    "duration": 40,
    "start_time": "2023-07-08T17:07:41.172Z"
   },
   {
    "duration": 16,
    "start_time": "2023-07-08T17:07:41.214Z"
   },
   {
    "duration": 2,
    "start_time": "2023-07-08T17:07:41.232Z"
   },
   {
    "duration": 3,
    "start_time": "2023-07-08T17:07:41.236Z"
   },
   {
    "duration": 143,
    "start_time": "2023-07-08T17:07:41.241Z"
   },
   {
    "duration": 2361,
    "start_time": "2023-07-08T17:07:41.385Z"
   },
   {
    "duration": 2781,
    "start_time": "2023-07-08T17:07:43.749Z"
   },
   {
    "duration": 7,
    "start_time": "2023-07-08T17:07:46.532Z"
   },
   {
    "duration": 29,
    "start_time": "2023-07-08T17:07:46.540Z"
   },
   {
    "duration": 45,
    "start_time": "2023-07-08T17:07:46.570Z"
   },
   {
    "duration": 43,
    "start_time": "2023-07-08T17:07:46.616Z"
   },
   {
    "duration": 10,
    "start_time": "2023-07-08T17:07:46.660Z"
   },
   {
    "duration": 409,
    "start_time": "2023-07-08T17:07:46.672Z"
   },
   {
    "duration": 71,
    "start_time": "2023-07-08T17:07:47.082Z"
   },
   {
    "duration": 1287,
    "start_time": "2023-07-08T17:07:47.154Z"
   },
   {
    "duration": 15,
    "start_time": "2023-07-08T17:07:48.442Z"
   },
   {
    "duration": 65,
    "start_time": "2023-07-08T17:07:48.459Z"
   },
   {
    "duration": 25,
    "start_time": "2023-07-08T17:07:48.525Z"
   },
   {
    "duration": 25,
    "start_time": "2023-07-08T17:07:48.552Z"
   },
   {
    "duration": 165,
    "start_time": "2023-07-08T17:07:48.579Z"
   },
   {
    "duration": 283,
    "start_time": "2023-07-08T17:07:48.745Z"
   },
   {
    "duration": 3,
    "start_time": "2023-07-08T17:07:49.030Z"
   },
   {
    "duration": 67,
    "start_time": "2023-07-08T17:07:49.034Z"
   },
   {
    "duration": 116,
    "start_time": "2023-07-08T17:07:49.103Z"
   },
   {
    "duration": 2,
    "start_time": "2023-07-08T17:07:49.220Z"
   },
   {
    "duration": 6,
    "start_time": "2023-07-08T17:07:49.223Z"
   },
   {
    "duration": 48,
    "start_time": "2023-07-08T17:07:49.230Z"
   },
   {
    "duration": 252,
    "start_time": "2023-07-08T17:07:49.280Z"
   },
   {
    "duration": 0,
    "start_time": "2023-07-08T17:07:49.533Z"
   },
   {
    "duration": 0,
    "start_time": "2023-07-08T17:07:49.535Z"
   },
   {
    "duration": 0,
    "start_time": "2023-07-08T17:07:49.536Z"
   },
   {
    "duration": 0,
    "start_time": "2023-07-08T17:07:49.537Z"
   },
   {
    "duration": 0,
    "start_time": "2023-07-08T17:07:49.538Z"
   },
   {
    "duration": 0,
    "start_time": "2023-07-08T17:07:49.538Z"
   },
   {
    "duration": 0,
    "start_time": "2023-07-08T17:07:49.539Z"
   },
   {
    "duration": 0,
    "start_time": "2023-07-08T17:07:49.540Z"
   },
   {
    "duration": 0,
    "start_time": "2023-07-08T17:07:49.542Z"
   },
   {
    "duration": 0,
    "start_time": "2023-07-08T17:07:49.543Z"
   },
   {
    "duration": 0,
    "start_time": "2023-07-08T17:07:49.543Z"
   },
   {
    "duration": 0,
    "start_time": "2023-07-08T17:07:49.544Z"
   },
   {
    "duration": 1366,
    "start_time": "2023-07-08T17:08:11.510Z"
   },
   {
    "duration": 2,
    "start_time": "2023-07-08T17:08:12.878Z"
   },
   {
    "duration": 728,
    "start_time": "2023-07-08T17:08:12.882Z"
   },
   {
    "duration": 16,
    "start_time": "2023-07-08T17:08:13.612Z"
   },
   {
    "duration": 123,
    "start_time": "2023-07-08T17:08:13.630Z"
   },
   {
    "duration": 192,
    "start_time": "2023-07-08T17:08:13.755Z"
   },
   {
    "duration": 8,
    "start_time": "2023-07-08T17:08:13.949Z"
   },
   {
    "duration": 43,
    "start_time": "2023-07-08T17:08:13.958Z"
   },
   {
    "duration": 20,
    "start_time": "2023-07-08T17:08:14.002Z"
   },
   {
    "duration": 2,
    "start_time": "2023-07-08T17:08:14.024Z"
   },
   {
    "duration": 17,
    "start_time": "2023-07-08T17:08:14.027Z"
   },
   {
    "duration": 118,
    "start_time": "2023-07-08T17:08:14.045Z"
   },
   {
    "duration": 2306,
    "start_time": "2023-07-08T17:08:14.164Z"
   },
   {
    "duration": 2700,
    "start_time": "2023-07-08T17:08:16.473Z"
   },
   {
    "duration": 7,
    "start_time": "2023-07-08T17:08:19.175Z"
   },
   {
    "duration": 34,
    "start_time": "2023-07-08T17:08:19.183Z"
   },
   {
    "duration": 34,
    "start_time": "2023-07-08T17:08:19.219Z"
   },
   {
    "duration": 56,
    "start_time": "2023-07-08T17:08:19.255Z"
   },
   {
    "duration": 10,
    "start_time": "2023-07-08T17:08:19.312Z"
   },
   {
    "duration": 389,
    "start_time": "2023-07-08T17:08:19.323Z"
   },
   {
    "duration": 71,
    "start_time": "2023-07-08T17:08:19.713Z"
   },
   {
    "duration": 1327,
    "start_time": "2023-07-08T17:08:19.785Z"
   },
   {
    "duration": 15,
    "start_time": "2023-07-08T17:08:21.114Z"
   },
   {
    "duration": 50,
    "start_time": "2023-07-08T17:08:21.131Z"
   },
   {
    "duration": 39,
    "start_time": "2023-07-08T17:08:21.183Z"
   },
   {
    "duration": 27,
    "start_time": "2023-07-08T17:08:21.224Z"
   },
   {
    "duration": 158,
    "start_time": "2023-07-08T17:08:21.252Z"
   },
   {
    "duration": 308,
    "start_time": "2023-07-08T17:08:21.412Z"
   },
   {
    "duration": 3,
    "start_time": "2023-07-08T17:08:21.721Z"
   },
   {
    "duration": 74,
    "start_time": "2023-07-08T17:08:21.726Z"
   },
   {
    "duration": 146,
    "start_time": "2023-07-08T17:08:21.802Z"
   },
   {
    "duration": 3,
    "start_time": "2023-07-08T17:08:21.949Z"
   },
   {
    "duration": 5,
    "start_time": "2023-07-08T17:08:21.953Z"
   },
   {
    "duration": 50,
    "start_time": "2023-07-08T17:08:21.960Z"
   },
   {
    "duration": 800,
    "start_time": "2023-07-08T17:08:22.011Z"
   },
   {
    "duration": 93,
    "start_time": "2023-07-08T17:08:22.813Z"
   },
   {
    "duration": 345,
    "start_time": "2023-07-08T17:08:22.908Z"
   },
   {
    "duration": 9,
    "start_time": "2023-07-08T17:08:23.255Z"
   },
   {
    "duration": 0,
    "start_time": "2023-07-08T17:08:23.266Z"
   },
   {
    "duration": 0,
    "start_time": "2023-07-08T17:08:23.267Z"
   },
   {
    "duration": 0,
    "start_time": "2023-07-08T17:08:23.268Z"
   },
   {
    "duration": 0,
    "start_time": "2023-07-08T17:08:23.269Z"
   },
   {
    "duration": 0,
    "start_time": "2023-07-08T17:08:23.270Z"
   },
   {
    "duration": 0,
    "start_time": "2023-07-08T17:08:23.271Z"
   },
   {
    "duration": 0,
    "start_time": "2023-07-08T17:08:23.272Z"
   },
   {
    "duration": 0,
    "start_time": "2023-07-08T17:08:23.272Z"
   },
   {
    "duration": 0,
    "start_time": "2023-07-08T17:08:23.273Z"
   },
   {
    "duration": 1321,
    "start_time": "2023-07-08T17:17:18.246Z"
   },
   {
    "duration": 2,
    "start_time": "2023-07-08T17:17:19.569Z"
   },
   {
    "duration": 704,
    "start_time": "2023-07-08T17:17:19.573Z"
   },
   {
    "duration": 13,
    "start_time": "2023-07-08T17:17:20.279Z"
   },
   {
    "duration": 105,
    "start_time": "2023-07-08T17:17:20.294Z"
   },
   {
    "duration": 193,
    "start_time": "2023-07-08T17:17:20.401Z"
   },
   {
    "duration": 10,
    "start_time": "2023-07-08T17:17:20.595Z"
   },
   {
    "duration": 28,
    "start_time": "2023-07-08T17:17:20.606Z"
   },
   {
    "duration": 20,
    "start_time": "2023-07-08T17:17:20.635Z"
   },
   {
    "duration": 2,
    "start_time": "2023-07-08T17:17:20.659Z"
   },
   {
    "duration": 13,
    "start_time": "2023-07-08T17:17:20.662Z"
   },
   {
    "duration": 110,
    "start_time": "2023-07-08T17:17:20.677Z"
   },
   {
    "duration": 2226,
    "start_time": "2023-07-08T17:17:20.788Z"
   },
   {
    "duration": 2656,
    "start_time": "2023-07-08T17:17:23.016Z"
   },
   {
    "duration": 8,
    "start_time": "2023-07-08T17:17:25.674Z"
   },
   {
    "duration": 33,
    "start_time": "2023-07-08T17:17:25.683Z"
   },
   {
    "duration": 34,
    "start_time": "2023-07-08T17:17:25.718Z"
   },
   {
    "duration": 62,
    "start_time": "2023-07-08T17:17:25.754Z"
   },
   {
    "duration": 9,
    "start_time": "2023-07-08T17:17:25.817Z"
   },
   {
    "duration": 406,
    "start_time": "2023-07-08T17:17:25.827Z"
   },
   {
    "duration": 70,
    "start_time": "2023-07-08T17:17:26.234Z"
   },
   {
    "duration": 1228,
    "start_time": "2023-07-08T17:17:26.305Z"
   },
   {
    "duration": 16,
    "start_time": "2023-07-08T17:17:27.535Z"
   },
   {
    "duration": 63,
    "start_time": "2023-07-08T17:17:27.553Z"
   },
   {
    "duration": 24,
    "start_time": "2023-07-08T17:17:27.617Z"
   },
   {
    "duration": 27,
    "start_time": "2023-07-08T17:17:27.642Z"
   },
   {
    "duration": 149,
    "start_time": "2023-07-08T17:17:27.670Z"
   },
   {
    "duration": 275,
    "start_time": "2023-07-08T17:17:27.822Z"
   },
   {
    "duration": 4,
    "start_time": "2023-07-08T17:17:28.099Z"
   },
   {
    "duration": 61,
    "start_time": "2023-07-08T17:17:28.104Z"
   },
   {
    "duration": 123,
    "start_time": "2023-07-08T17:17:28.166Z"
   },
   {
    "duration": 283,
    "start_time": "2023-07-08T17:17:28.300Z"
   },
   {
    "duration": 3,
    "start_time": "2023-07-08T17:17:28.584Z"
   },
   {
    "duration": 38,
    "start_time": "2023-07-08T17:17:28.588Z"
   },
   {
    "duration": 2,
    "start_time": "2023-07-08T17:17:28.628Z"
   },
   {
    "duration": 117,
    "start_time": "2023-07-08T17:17:28.631Z"
   },
   {
    "duration": 0,
    "start_time": "2023-07-08T17:17:28.749Z"
   },
   {
    "duration": 0,
    "start_time": "2023-07-08T17:17:28.750Z"
   },
   {
    "duration": 0,
    "start_time": "2023-07-08T17:17:28.751Z"
   },
   {
    "duration": 0,
    "start_time": "2023-07-08T17:17:28.752Z"
   },
   {
    "duration": 0,
    "start_time": "2023-07-08T17:17:28.753Z"
   },
   {
    "duration": 0,
    "start_time": "2023-07-08T17:17:28.754Z"
   },
   {
    "duration": 0,
    "start_time": "2023-07-08T17:17:28.755Z"
   },
   {
    "duration": 0,
    "start_time": "2023-07-08T17:17:28.756Z"
   },
   {
    "duration": 0,
    "start_time": "2023-07-08T17:17:28.757Z"
   },
   {
    "duration": 0,
    "start_time": "2023-07-08T17:17:28.758Z"
   },
   {
    "duration": 0,
    "start_time": "2023-07-08T17:17:28.759Z"
   },
   {
    "duration": 1371,
    "start_time": "2023-07-08T17:18:01.635Z"
   },
   {
    "duration": 2,
    "start_time": "2023-07-08T17:18:03.008Z"
   },
   {
    "duration": 723,
    "start_time": "2023-07-08T17:18:03.011Z"
   },
   {
    "duration": 15,
    "start_time": "2023-07-08T17:18:03.736Z"
   },
   {
    "duration": 119,
    "start_time": "2023-07-08T17:18:03.754Z"
   },
   {
    "duration": 195,
    "start_time": "2023-07-08T17:18:03.875Z"
   },
   {
    "duration": 7,
    "start_time": "2023-07-08T17:18:04.072Z"
   },
   {
    "duration": 39,
    "start_time": "2023-07-08T17:18:04.081Z"
   },
   {
    "duration": 22,
    "start_time": "2023-07-08T17:18:04.121Z"
   },
   {
    "duration": 2,
    "start_time": "2023-07-08T17:18:04.144Z"
   },
   {
    "duration": 9,
    "start_time": "2023-07-08T17:18:04.147Z"
   },
   {
    "duration": 108,
    "start_time": "2023-07-08T17:18:04.158Z"
   },
   {
    "duration": 2183,
    "start_time": "2023-07-08T17:18:04.267Z"
   },
   {
    "duration": 2608,
    "start_time": "2023-07-08T17:18:06.454Z"
   },
   {
    "duration": 8,
    "start_time": "2023-07-08T17:18:09.064Z"
   },
   {
    "duration": 35,
    "start_time": "2023-07-08T17:18:09.074Z"
   },
   {
    "duration": 34,
    "start_time": "2023-07-08T17:18:09.111Z"
   },
   {
    "duration": 54,
    "start_time": "2023-07-08T17:18:09.147Z"
   },
   {
    "duration": 9,
    "start_time": "2023-07-08T17:18:09.203Z"
   },
   {
    "duration": 386,
    "start_time": "2023-07-08T17:18:09.214Z"
   },
   {
    "duration": 67,
    "start_time": "2023-07-08T17:18:09.602Z"
   },
   {
    "duration": 1309,
    "start_time": "2023-07-08T17:18:09.670Z"
   },
   {
    "duration": 22,
    "start_time": "2023-07-08T17:18:10.981Z"
   },
   {
    "duration": 56,
    "start_time": "2023-07-08T17:18:11.005Z"
   },
   {
    "duration": 42,
    "start_time": "2023-07-08T17:18:11.063Z"
   },
   {
    "duration": 26,
    "start_time": "2023-07-08T17:18:11.106Z"
   },
   {
    "duration": 144,
    "start_time": "2023-07-08T17:18:11.134Z"
   },
   {
    "duration": 313,
    "start_time": "2023-07-08T17:18:11.280Z"
   },
   {
    "duration": 6,
    "start_time": "2023-07-08T17:18:11.595Z"
   },
   {
    "duration": 56,
    "start_time": "2023-07-08T17:18:11.602Z"
   },
   {
    "duration": 115,
    "start_time": "2023-07-08T17:18:11.660Z"
   },
   {
    "duration": 295,
    "start_time": "2023-07-08T17:18:11.776Z"
   },
   {
    "duration": 3,
    "start_time": "2023-07-08T17:18:12.072Z"
   },
   {
    "duration": 46,
    "start_time": "2023-07-08T17:18:12.076Z"
   },
   {
    "duration": 2,
    "start_time": "2023-07-08T17:18:12.124Z"
   },
   {
    "duration": 68,
    "start_time": "2023-07-08T17:18:12.127Z"
   },
   {
    "duration": 226,
    "start_time": "2023-07-08T17:18:12.200Z"
   },
   {
    "duration": 9,
    "start_time": "2023-07-08T17:18:12.427Z"
   },
   {
    "duration": 0,
    "start_time": "2023-07-08T17:18:12.438Z"
   },
   {
    "duration": 0,
    "start_time": "2023-07-08T17:18:12.439Z"
   },
   {
    "duration": 0,
    "start_time": "2023-07-08T17:18:12.440Z"
   },
   {
    "duration": 0,
    "start_time": "2023-07-08T17:18:12.441Z"
   },
   {
    "duration": 0,
    "start_time": "2023-07-08T17:18:12.441Z"
   },
   {
    "duration": 0,
    "start_time": "2023-07-08T17:18:12.442Z"
   },
   {
    "duration": 0,
    "start_time": "2023-07-08T17:18:12.443Z"
   },
   {
    "duration": 0,
    "start_time": "2023-07-08T17:18:12.444Z"
   },
   {
    "duration": 0,
    "start_time": "2023-07-08T17:18:12.445Z"
   },
   {
    "duration": 1360,
    "start_time": "2023-07-08T17:19:09.369Z"
   },
   {
    "duration": 3,
    "start_time": "2023-07-08T17:19:10.730Z"
   },
   {
    "duration": 690,
    "start_time": "2023-07-08T17:19:10.734Z"
   },
   {
    "duration": 15,
    "start_time": "2023-07-08T17:19:11.426Z"
   },
   {
    "duration": 113,
    "start_time": "2023-07-08T17:19:11.443Z"
   },
   {
    "duration": 198,
    "start_time": "2023-07-08T17:19:11.558Z"
   },
   {
    "duration": 8,
    "start_time": "2023-07-08T17:19:11.757Z"
   },
   {
    "duration": 38,
    "start_time": "2023-07-08T17:19:11.766Z"
   },
   {
    "duration": 27,
    "start_time": "2023-07-08T17:19:11.805Z"
   },
   {
    "duration": 5,
    "start_time": "2023-07-08T17:19:11.834Z"
   },
   {
    "duration": 12,
    "start_time": "2023-07-08T17:19:11.840Z"
   },
   {
    "duration": 110,
    "start_time": "2023-07-08T17:19:11.853Z"
   },
   {
    "duration": 2305,
    "start_time": "2023-07-08T17:19:11.965Z"
   },
   {
    "duration": 2999,
    "start_time": "2023-07-08T17:19:14.273Z"
   },
   {
    "duration": 9,
    "start_time": "2023-07-08T17:19:17.274Z"
   },
   {
    "duration": 40,
    "start_time": "2023-07-08T17:19:17.285Z"
   },
   {
    "duration": 37,
    "start_time": "2023-07-08T17:19:17.328Z"
   },
   {
    "duration": 61,
    "start_time": "2023-07-08T17:19:17.367Z"
   },
   {
    "duration": 12,
    "start_time": "2023-07-08T17:19:17.430Z"
   },
   {
    "duration": 429,
    "start_time": "2023-07-08T17:19:17.444Z"
   },
   {
    "duration": 98,
    "start_time": "2023-07-08T17:19:17.875Z"
   },
   {
    "duration": 1451,
    "start_time": "2023-07-08T17:19:17.974Z"
   },
   {
    "duration": 18,
    "start_time": "2023-07-08T17:19:19.426Z"
   },
   {
    "duration": 80,
    "start_time": "2023-07-08T17:19:19.446Z"
   },
   {
    "duration": 39,
    "start_time": "2023-07-08T17:19:19.528Z"
   },
   {
    "duration": 50,
    "start_time": "2023-07-08T17:19:19.569Z"
   },
   {
    "duration": 162,
    "start_time": "2023-07-08T17:19:19.621Z"
   },
   {
    "duration": 319,
    "start_time": "2023-07-08T17:19:19.785Z"
   },
   {
    "duration": 4,
    "start_time": "2023-07-08T17:19:20.106Z"
   },
   {
    "duration": 125,
    "start_time": "2023-07-08T17:19:20.111Z"
   },
   {
    "duration": 202,
    "start_time": "2023-07-08T17:19:20.238Z"
   },
   {
    "duration": 290,
    "start_time": "2023-07-08T17:19:20.441Z"
   },
   {
    "duration": 2,
    "start_time": "2023-07-08T17:19:20.733Z"
   },
   {
    "duration": 40,
    "start_time": "2023-07-08T17:19:20.737Z"
   },
   {
    "duration": 2,
    "start_time": "2023-07-08T17:19:20.779Z"
   },
   {
    "duration": 81,
    "start_time": "2023-07-08T17:19:20.783Z"
   },
   {
    "duration": 248,
    "start_time": "2023-07-08T17:19:20.865Z"
   },
   {
    "duration": 11,
    "start_time": "2023-07-08T17:19:21.114Z"
   },
   {
    "duration": 0,
    "start_time": "2023-07-08T17:19:21.126Z"
   },
   {
    "duration": 0,
    "start_time": "2023-07-08T17:19:21.128Z"
   },
   {
    "duration": 0,
    "start_time": "2023-07-08T17:19:21.129Z"
   },
   {
    "duration": 0,
    "start_time": "2023-07-08T17:19:21.130Z"
   },
   {
    "duration": 0,
    "start_time": "2023-07-08T17:19:21.131Z"
   },
   {
    "duration": 0,
    "start_time": "2023-07-08T17:19:21.132Z"
   },
   {
    "duration": 0,
    "start_time": "2023-07-08T17:19:21.133Z"
   },
   {
    "duration": 0,
    "start_time": "2023-07-08T17:19:21.134Z"
   },
   {
    "duration": 0,
    "start_time": "2023-07-08T17:19:21.135Z"
   },
   {
    "duration": 1311,
    "start_time": "2023-07-08T17:22:54.237Z"
   },
   {
    "duration": 2,
    "start_time": "2023-07-08T17:22:55.550Z"
   },
   {
    "duration": 732,
    "start_time": "2023-07-08T17:22:55.554Z"
   },
   {
    "duration": 21,
    "start_time": "2023-07-08T17:22:56.288Z"
   },
   {
    "duration": 98,
    "start_time": "2023-07-08T17:22:56.310Z"
   },
   {
    "duration": 184,
    "start_time": "2023-07-08T17:22:56.409Z"
   },
   {
    "duration": 10,
    "start_time": "2023-07-08T17:22:56.595Z"
   },
   {
    "duration": 31,
    "start_time": "2023-07-08T17:22:56.606Z"
   },
   {
    "duration": 21,
    "start_time": "2023-07-08T17:22:56.639Z"
   },
   {
    "duration": 2,
    "start_time": "2023-07-08T17:22:56.663Z"
   },
   {
    "duration": 4,
    "start_time": "2023-07-08T17:22:56.666Z"
   },
   {
    "duration": 117,
    "start_time": "2023-07-08T17:22:56.671Z"
   },
   {
    "duration": 2133,
    "start_time": "2023-07-08T17:22:56.789Z"
   },
   {
    "duration": 2641,
    "start_time": "2023-07-08T17:22:58.923Z"
   },
   {
    "duration": 6,
    "start_time": "2023-07-08T17:23:01.565Z"
   },
   {
    "duration": 43,
    "start_time": "2023-07-08T17:23:01.573Z"
   },
   {
    "duration": 40,
    "start_time": "2023-07-08T17:23:01.618Z"
   },
   {
    "duration": 44,
    "start_time": "2023-07-08T17:23:01.660Z"
   },
   {
    "duration": 10,
    "start_time": "2023-07-08T17:23:01.705Z"
   },
   {
    "duration": 396,
    "start_time": "2023-07-08T17:23:01.716Z"
   },
   {
    "duration": 66,
    "start_time": "2023-07-08T17:23:02.114Z"
   },
   {
    "duration": 1251,
    "start_time": "2023-07-08T17:23:02.181Z"
   },
   {
    "duration": 17,
    "start_time": "2023-07-08T17:23:03.433Z"
   },
   {
    "duration": 69,
    "start_time": "2023-07-08T17:23:03.451Z"
   },
   {
    "duration": 25,
    "start_time": "2023-07-08T17:23:03.521Z"
   },
   {
    "duration": 25,
    "start_time": "2023-07-08T17:23:03.547Z"
   },
   {
    "duration": 156,
    "start_time": "2023-07-08T17:23:03.574Z"
   },
   {
    "duration": 296,
    "start_time": "2023-07-08T17:23:03.733Z"
   },
   {
    "duration": 4,
    "start_time": "2023-07-08T17:23:04.030Z"
   },
   {
    "duration": 81,
    "start_time": "2023-07-08T17:23:04.036Z"
   },
   {
    "duration": 105,
    "start_time": "2023-07-08T17:23:04.119Z"
   },
   {
    "duration": 286,
    "start_time": "2023-07-08T17:23:04.225Z"
   },
   {
    "duration": 2,
    "start_time": "2023-07-08T17:23:04.513Z"
   },
   {
    "duration": 216,
    "start_time": "2023-07-08T17:23:04.516Z"
   },
   {
    "duration": 2,
    "start_time": "2023-07-08T17:23:04.733Z"
   },
   {
    "duration": 141,
    "start_time": "2023-07-08T17:23:04.737Z"
   },
   {
    "duration": 9851,
    "start_time": "2023-07-08T17:23:04.879Z"
   },
   {
    "duration": 70,
    "start_time": "2023-07-08T17:23:14.731Z"
   },
   {
    "duration": 108,
    "start_time": "2023-07-08T17:23:14.803Z"
   },
   {
    "duration": 7,
    "start_time": "2023-07-08T17:23:14.913Z"
   },
   {
    "duration": 15,
    "start_time": "2023-07-08T17:23:14.921Z"
   },
   {
    "duration": 123899,
    "start_time": "2023-07-08T17:23:14.937Z"
   },
   {
    "duration": 230,
    "start_time": "2023-07-08T17:25:18.837Z"
   },
   {
    "duration": 5,
    "start_time": "2023-07-08T17:25:19.068Z"
   },
   {
    "duration": 36635,
    "start_time": "2023-07-08T17:25:19.074Z"
   },
   {
    "duration": 20281,
    "start_time": "2023-07-08T17:25:55.711Z"
   },
   {
    "duration": 107,
    "start_time": "2023-07-08T17:26:15.994Z"
   },
   {
    "duration": 1550,
    "start_time": "2023-07-08T17:45:41.599Z"
   },
   {
    "duration": 3,
    "start_time": "2023-07-08T17:45:43.151Z"
   },
   {
    "duration": 724,
    "start_time": "2023-07-08T17:45:43.155Z"
   },
   {
    "duration": 25,
    "start_time": "2023-07-08T17:45:43.881Z"
   },
   {
    "duration": 106,
    "start_time": "2023-07-08T17:45:43.908Z"
   },
   {
    "duration": 174,
    "start_time": "2023-07-08T17:45:44.016Z"
   },
   {
    "duration": 11,
    "start_time": "2023-07-08T17:45:44.192Z"
   },
   {
    "duration": 31,
    "start_time": "2023-07-08T17:45:44.205Z"
   },
   {
    "duration": 24,
    "start_time": "2023-07-08T17:45:44.237Z"
   },
   {
    "duration": 4,
    "start_time": "2023-07-08T17:45:44.263Z"
   },
   {
    "duration": 5,
    "start_time": "2023-07-08T17:45:44.268Z"
   },
   {
    "duration": 126,
    "start_time": "2023-07-08T17:45:44.275Z"
   },
   {
    "duration": 2350,
    "start_time": "2023-07-08T17:45:44.404Z"
   },
   {
    "duration": 2886,
    "start_time": "2023-07-08T17:45:46.757Z"
   },
   {
    "duration": 7,
    "start_time": "2023-07-08T17:45:49.645Z"
   },
   {
    "duration": 28,
    "start_time": "2023-07-08T17:45:49.653Z"
   },
   {
    "duration": 41,
    "start_time": "2023-07-08T17:45:49.683Z"
   },
   {
    "duration": 41,
    "start_time": "2023-07-08T17:45:49.725Z"
   },
   {
    "duration": 10,
    "start_time": "2023-07-08T17:45:49.768Z"
   },
   {
    "duration": 426,
    "start_time": "2023-07-08T17:45:49.780Z"
   },
   {
    "duration": 73,
    "start_time": "2023-07-08T17:45:50.207Z"
   },
   {
    "duration": 1368,
    "start_time": "2023-07-08T17:45:50.281Z"
   },
   {
    "duration": 15,
    "start_time": "2023-07-08T17:45:51.650Z"
   },
   {
    "duration": 71,
    "start_time": "2023-07-08T17:45:51.667Z"
   },
   {
    "duration": 27,
    "start_time": "2023-07-08T17:45:51.740Z"
   },
   {
    "duration": 39,
    "start_time": "2023-07-08T17:45:51.768Z"
   },
   {
    "duration": 158,
    "start_time": "2023-07-08T17:45:51.808Z"
   },
   {
    "duration": 313,
    "start_time": "2023-07-08T17:45:51.968Z"
   },
   {
    "duration": 3,
    "start_time": "2023-07-08T17:45:52.282Z"
   },
   {
    "duration": 69,
    "start_time": "2023-07-08T17:45:52.286Z"
   },
   {
    "duration": 122,
    "start_time": "2023-07-08T17:45:52.356Z"
   },
   {
    "duration": 286,
    "start_time": "2023-07-08T17:45:52.480Z"
   },
   {
    "duration": 2,
    "start_time": "2023-07-08T17:45:52.768Z"
   },
   {
    "duration": 232,
    "start_time": "2023-07-08T17:45:52.771Z"
   },
   {
    "duration": 2,
    "start_time": "2023-07-08T17:45:53.005Z"
   },
   {
    "duration": 187,
    "start_time": "2023-07-08T17:45:53.008Z"
   },
   {
    "duration": 12983,
    "start_time": "2023-07-08T17:45:53.197Z"
   },
   {
    "duration": 9,
    "start_time": "2023-07-08T17:46:06.182Z"
   },
   {
    "duration": 0,
    "start_time": "2023-07-08T17:46:06.193Z"
   },
   {
    "duration": 0,
    "start_time": "2023-07-08T17:46:06.194Z"
   },
   {
    "duration": 0,
    "start_time": "2023-07-08T17:46:06.195Z"
   },
   {
    "duration": 0,
    "start_time": "2023-07-08T17:46:06.196Z"
   },
   {
    "duration": 0,
    "start_time": "2023-07-08T17:46:06.198Z"
   },
   {
    "duration": 0,
    "start_time": "2023-07-08T17:46:06.199Z"
   },
   {
    "duration": 11358,
    "start_time": "2023-07-08T17:46:19.342Z"
   },
   {
    "duration": 14,
    "start_time": "2023-07-08T17:46:30.704Z"
   },
   {
    "duration": 1419,
    "start_time": "2023-07-08T18:04:13.644Z"
   },
   {
    "duration": 3,
    "start_time": "2023-07-08T18:04:15.065Z"
   },
   {
    "duration": 958,
    "start_time": "2023-07-08T18:04:15.069Z"
   },
   {
    "duration": 17,
    "start_time": "2023-07-08T18:04:16.028Z"
   },
   {
    "duration": 217,
    "start_time": "2023-07-08T18:04:16.047Z"
   },
   {
    "duration": 251,
    "start_time": "2023-07-08T18:04:16.265Z"
   },
   {
    "duration": 9,
    "start_time": "2023-07-08T18:04:16.526Z"
   },
   {
    "duration": 31,
    "start_time": "2023-07-08T18:04:16.537Z"
   },
   {
    "duration": 19,
    "start_time": "2023-07-08T18:04:16.570Z"
   },
   {
    "duration": 2,
    "start_time": "2023-07-08T18:04:16.591Z"
   },
   {
    "duration": 38,
    "start_time": "2023-07-08T18:04:16.594Z"
   },
   {
    "duration": 123,
    "start_time": "2023-07-08T18:04:16.634Z"
   },
   {
    "duration": 2568,
    "start_time": "2023-07-08T18:04:16.758Z"
   },
   {
    "duration": 3046,
    "start_time": "2023-07-08T18:04:19.329Z"
   },
   {
    "duration": 9,
    "start_time": "2023-07-08T18:04:22.377Z"
   },
   {
    "duration": 43,
    "start_time": "2023-07-08T18:04:22.387Z"
   },
   {
    "duration": 58,
    "start_time": "2023-07-08T18:04:22.432Z"
   },
   {
    "duration": 53,
    "start_time": "2023-07-08T18:04:22.491Z"
   },
   {
    "duration": 23,
    "start_time": "2023-07-08T18:04:22.545Z"
   },
   {
    "duration": 420,
    "start_time": "2023-07-08T18:04:22.570Z"
   },
   {
    "duration": 92,
    "start_time": "2023-07-08T18:04:22.992Z"
   },
   {
    "duration": 1472,
    "start_time": "2023-07-08T18:04:23.085Z"
   },
   {
    "duration": 15,
    "start_time": "2023-07-08T18:04:24.558Z"
   },
   {
    "duration": 69,
    "start_time": "2023-07-08T18:04:24.574Z"
   },
   {
    "duration": 25,
    "start_time": "2023-07-08T18:04:24.644Z"
   },
   {
    "duration": 46,
    "start_time": "2023-07-08T18:04:24.670Z"
   },
   {
    "duration": 155,
    "start_time": "2023-07-08T18:04:24.733Z"
   },
   {
    "duration": 304,
    "start_time": "2023-07-08T18:04:24.890Z"
   },
   {
    "duration": 12,
    "start_time": "2023-07-08T18:04:25.195Z"
   },
   {
    "duration": 82,
    "start_time": "2023-07-08T18:04:25.209Z"
   },
   {
    "duration": 156,
    "start_time": "2023-07-08T18:04:25.292Z"
   },
   {
    "duration": 293,
    "start_time": "2023-07-08T18:04:25.449Z"
   },
   {
    "duration": 2,
    "start_time": "2023-07-08T18:04:25.743Z"
   },
   {
    "duration": 246,
    "start_time": "2023-07-08T18:04:25.747Z"
   },
   {
    "duration": 9,
    "start_time": "2023-07-08T18:04:25.996Z"
   },
   {
    "duration": 223,
    "start_time": "2023-07-08T18:04:26.006Z"
   },
   {
    "duration": 54286,
    "start_time": "2023-07-08T18:04:26.232Z"
   },
   {
    "duration": 91,
    "start_time": "2023-07-08T18:05:20.520Z"
   },
   {
    "duration": 1439,
    "start_time": "2023-07-08T18:10:07.426Z"
   },
   {
    "duration": 3,
    "start_time": "2023-07-08T18:10:08.867Z"
   },
   {
    "duration": 808,
    "start_time": "2023-07-08T18:10:08.871Z"
   },
   {
    "duration": 48,
    "start_time": "2023-07-08T18:10:09.681Z"
   },
   {
    "duration": 123,
    "start_time": "2023-07-08T18:10:09.731Z"
   },
   {
    "duration": 252,
    "start_time": "2023-07-08T18:10:09.856Z"
   },
   {
    "duration": 16,
    "start_time": "2023-07-08T18:10:10.109Z"
   },
   {
    "duration": 39,
    "start_time": "2023-07-08T18:10:10.129Z"
   },
   {
    "duration": 14,
    "start_time": "2023-07-08T18:10:10.170Z"
   },
   {
    "duration": 1,
    "start_time": "2023-07-08T18:10:10.186Z"
   },
   {
    "duration": 37,
    "start_time": "2023-07-08T18:10:10.188Z"
   },
   {
    "duration": 117,
    "start_time": "2023-07-08T18:10:10.227Z"
   },
   {
    "duration": 2344,
    "start_time": "2023-07-08T18:10:10.346Z"
   },
   {
    "duration": 3113,
    "start_time": "2023-07-08T18:10:12.692Z"
   },
   {
    "duration": 22,
    "start_time": "2023-07-08T18:10:15.806Z"
   },
   {
    "duration": 32,
    "start_time": "2023-07-08T18:10:15.829Z"
   },
   {
    "duration": 33,
    "start_time": "2023-07-08T18:10:15.863Z"
   },
   {
    "duration": 47,
    "start_time": "2023-07-08T18:10:15.897Z"
   },
   {
    "duration": 9,
    "start_time": "2023-07-08T18:10:15.946Z"
   },
   {
    "duration": 512,
    "start_time": "2023-07-08T18:10:15.956Z"
   },
   {
    "duration": 163,
    "start_time": "2023-07-08T18:10:16.470Z"
   },
   {
    "duration": 1716,
    "start_time": "2023-07-08T18:10:16.642Z"
   },
   {
    "duration": 15,
    "start_time": "2023-07-08T18:10:18.360Z"
   },
   {
    "duration": 64,
    "start_time": "2023-07-08T18:10:18.377Z"
   },
   {
    "duration": 28,
    "start_time": "2023-07-08T18:10:18.442Z"
   },
   {
    "duration": 63,
    "start_time": "2023-07-08T18:10:18.471Z"
   },
   {
    "duration": 192,
    "start_time": "2023-07-08T18:10:18.536Z"
   },
   {
    "duration": 340,
    "start_time": "2023-07-08T18:10:18.729Z"
   },
   {
    "duration": 4,
    "start_time": "2023-07-08T18:10:19.070Z"
   },
   {
    "duration": 84,
    "start_time": "2023-07-08T18:10:19.076Z"
   },
   {
    "duration": 133,
    "start_time": "2023-07-08T18:10:19.161Z"
   },
   {
    "duration": 320,
    "start_time": "2023-07-08T18:10:19.305Z"
   },
   {
    "duration": 4,
    "start_time": "2023-07-08T18:10:19.627Z"
   },
   {
    "duration": 224,
    "start_time": "2023-07-08T18:10:19.633Z"
   },
   {
    "duration": 3,
    "start_time": "2023-07-08T18:10:19.859Z"
   },
   {
    "duration": 213,
    "start_time": "2023-07-08T18:10:19.864Z"
   },
   {
    "duration": 55646,
    "start_time": "2023-07-08T18:10:20.079Z"
   },
   {
    "duration": 15,
    "start_time": "2023-07-08T18:11:15.801Z"
   },
   {
    "duration": 1423,
    "start_time": "2023-07-08T19:06:40.159Z"
   },
   {
    "duration": 3,
    "start_time": "2023-07-08T19:06:41.584Z"
   },
   {
    "duration": 799,
    "start_time": "2023-07-08T19:06:41.588Z"
   },
   {
    "duration": 36,
    "start_time": "2023-07-08T19:06:42.388Z"
   },
   {
    "duration": 139,
    "start_time": "2023-07-08T19:06:42.426Z"
   },
   {
    "duration": 222,
    "start_time": "2023-07-08T19:06:42.567Z"
   },
   {
    "duration": 13,
    "start_time": "2023-07-08T19:06:42.791Z"
   },
   {
    "duration": 59,
    "start_time": "2023-07-08T19:06:42.805Z"
   },
   {
    "duration": 22,
    "start_time": "2023-07-08T19:06:42.865Z"
   },
   {
    "duration": 2,
    "start_time": "2023-07-08T19:06:42.889Z"
   },
   {
    "duration": 25,
    "start_time": "2023-07-08T19:06:42.892Z"
   },
   {
    "duration": 156,
    "start_time": "2023-07-08T19:06:42.926Z"
   },
   {
    "duration": 2314,
    "start_time": "2023-07-08T19:06:43.084Z"
   },
   {
    "duration": 3073,
    "start_time": "2023-07-08T19:06:45.412Z"
   },
   {
    "duration": 16,
    "start_time": "2023-07-08T19:06:48.486Z"
   },
   {
    "duration": 26,
    "start_time": "2023-07-08T19:06:48.510Z"
   },
   {
    "duration": 36,
    "start_time": "2023-07-08T19:06:48.537Z"
   },
   {
    "duration": 61,
    "start_time": "2023-07-08T19:06:48.574Z"
   },
   {
    "duration": 9,
    "start_time": "2023-07-08T19:06:48.637Z"
   },
   {
    "duration": 405,
    "start_time": "2023-07-08T19:06:48.648Z"
   },
   {
    "duration": 79,
    "start_time": "2023-07-08T19:06:49.055Z"
   },
   {
    "duration": 1501,
    "start_time": "2023-07-08T19:06:49.136Z"
   },
   {
    "duration": 16,
    "start_time": "2023-07-08T19:06:50.638Z"
   },
   {
    "duration": 230,
    "start_time": "2023-07-08T19:06:50.656Z"
   },
   {
    "duration": 46,
    "start_time": "2023-07-08T19:06:50.887Z"
   },
   {
    "duration": 32,
    "start_time": "2023-07-08T19:06:50.936Z"
   },
   {
    "duration": 159,
    "start_time": "2023-07-08T19:06:50.970Z"
   },
   {
    "duration": 315,
    "start_time": "2023-07-08T19:06:51.130Z"
   },
   {
    "duration": 4,
    "start_time": "2023-07-08T19:06:51.446Z"
   },
   {
    "duration": 91,
    "start_time": "2023-07-08T19:06:51.452Z"
   },
   {
    "duration": 129,
    "start_time": "2023-07-08T19:06:51.545Z"
   },
   {
    "duration": 289,
    "start_time": "2023-07-08T19:06:51.676Z"
   },
   {
    "duration": 3,
    "start_time": "2023-07-08T19:06:51.966Z"
   },
   {
    "duration": 239,
    "start_time": "2023-07-08T19:06:51.970Z"
   },
   {
    "duration": 12,
    "start_time": "2023-07-08T19:06:52.221Z"
   },
   {
    "duration": 146,
    "start_time": "2023-07-08T19:06:52.235Z"
   },
   {
    "duration": 55141,
    "start_time": "2023-07-08T19:06:52.382Z"
   },
   {
    "duration": 25,
    "start_time": "2023-07-08T19:07:47.603Z"
   },
   {
    "duration": 1468,
    "start_time": "2023-07-08T19:13:41.665Z"
   },
   {
    "duration": 7,
    "start_time": "2023-07-08T19:13:43.139Z"
   },
   {
    "duration": 877,
    "start_time": "2023-07-08T19:13:43.148Z"
   },
   {
    "duration": 20,
    "start_time": "2023-07-08T19:13:44.029Z"
   },
   {
    "duration": 155,
    "start_time": "2023-07-08T19:13:44.052Z"
   },
   {
    "duration": 220,
    "start_time": "2023-07-08T19:13:44.228Z"
   },
   {
    "duration": 8,
    "start_time": "2023-07-08T19:13:44.450Z"
   },
   {
    "duration": 75,
    "start_time": "2023-07-08T19:13:44.459Z"
   },
   {
    "duration": 20,
    "start_time": "2023-07-08T19:13:44.535Z"
   },
   {
    "duration": 4,
    "start_time": "2023-07-08T19:13:44.557Z"
   },
   {
    "duration": 7,
    "start_time": "2023-07-08T19:13:44.563Z"
   },
   {
    "duration": 161,
    "start_time": "2023-07-08T19:13:44.572Z"
   },
   {
    "duration": 2754,
    "start_time": "2023-07-08T19:13:44.741Z"
   },
   {
    "duration": 3323,
    "start_time": "2023-07-08T19:13:47.498Z"
   },
   {
    "duration": 19,
    "start_time": "2023-07-08T19:13:50.822Z"
   },
   {
    "duration": 28,
    "start_time": "2023-07-08T19:13:50.846Z"
   },
   {
    "duration": 54,
    "start_time": "2023-07-08T19:13:50.875Z"
   },
   {
    "duration": 48,
    "start_time": "2023-07-08T19:13:50.930Z"
   },
   {
    "duration": 16,
    "start_time": "2023-07-08T19:13:50.980Z"
   },
   {
    "duration": 469,
    "start_time": "2023-07-08T19:13:50.999Z"
   },
   {
    "duration": 171,
    "start_time": "2023-07-08T19:13:51.470Z"
   },
   {
    "duration": 1677,
    "start_time": "2023-07-08T19:13:51.644Z"
   },
   {
    "duration": 19,
    "start_time": "2023-07-08T19:13:53.322Z"
   },
   {
    "duration": 75,
    "start_time": "2023-07-08T19:13:53.342Z"
   },
   {
    "duration": 35,
    "start_time": "2023-07-08T19:13:53.418Z"
   },
   {
    "duration": 37,
    "start_time": "2023-07-08T19:13:53.456Z"
   },
   {
    "duration": 300,
    "start_time": "2023-07-08T19:13:53.496Z"
   },
   {
    "duration": 438,
    "start_time": "2023-07-08T19:13:53.799Z"
   },
   {
    "duration": 6,
    "start_time": "2023-07-08T19:13:54.248Z"
   },
   {
    "duration": 115,
    "start_time": "2023-07-08T19:13:54.256Z"
   },
   {
    "duration": 150,
    "start_time": "2023-07-08T19:13:54.373Z"
   },
   {
    "duration": 339,
    "start_time": "2023-07-08T19:13:54.524Z"
   },
   {
    "duration": 2,
    "start_time": "2023-07-08T19:13:54.865Z"
   },
   {
    "duration": 224,
    "start_time": "2023-07-08T19:13:54.869Z"
   },
   {
    "duration": 23,
    "start_time": "2023-07-08T19:13:55.094Z"
   },
   {
    "duration": 249,
    "start_time": "2023-07-08T19:13:55.126Z"
   },
   {
    "duration": 45133,
    "start_time": "2023-07-08T19:13:55.377Z"
   },
   {
    "duration": 12,
    "start_time": "2023-07-08T19:14:40.514Z"
   },
   {
    "duration": 1409,
    "start_time": "2023-07-08T19:16:43.220Z"
   },
   {
    "duration": 3,
    "start_time": "2023-07-08T19:16:44.633Z"
   },
   {
    "duration": 795,
    "start_time": "2023-07-08T19:16:44.638Z"
   },
   {
    "duration": 15,
    "start_time": "2023-07-08T19:16:45.443Z"
   },
   {
    "duration": 149,
    "start_time": "2023-07-08T19:16:45.460Z"
   },
   {
    "duration": 226,
    "start_time": "2023-07-08T19:16:45.611Z"
   },
   {
    "duration": 8,
    "start_time": "2023-07-08T19:16:45.839Z"
   },
   {
    "duration": 28,
    "start_time": "2023-07-08T19:16:45.849Z"
   },
   {
    "duration": 50,
    "start_time": "2023-07-08T19:16:45.878Z"
   },
   {
    "duration": 21,
    "start_time": "2023-07-08T19:16:45.929Z"
   },
   {
    "duration": 4,
    "start_time": "2023-07-08T19:16:45.952Z"
   },
   {
    "duration": 119,
    "start_time": "2023-07-08T19:16:45.957Z"
   },
   {
    "duration": 2447,
    "start_time": "2023-07-08T19:16:46.078Z"
   },
   {
    "duration": 3125,
    "start_time": "2023-07-08T19:16:48.527Z"
   },
   {
    "duration": 11,
    "start_time": "2023-07-08T19:16:51.654Z"
   },
   {
    "duration": 54,
    "start_time": "2023-07-08T19:16:51.667Z"
   },
   {
    "duration": 48,
    "start_time": "2023-07-08T19:16:51.723Z"
   },
   {
    "duration": 69,
    "start_time": "2023-07-08T19:16:51.773Z"
   },
   {
    "duration": 15,
    "start_time": "2023-07-08T19:16:51.844Z"
   },
   {
    "duration": 483,
    "start_time": "2023-07-08T19:16:51.861Z"
   },
   {
    "duration": 87,
    "start_time": "2023-07-08T19:16:52.346Z"
   },
   {
    "duration": 1511,
    "start_time": "2023-07-08T19:16:52.442Z"
   },
   {
    "duration": 17,
    "start_time": "2023-07-08T19:16:53.954Z"
   },
   {
    "duration": 72,
    "start_time": "2023-07-08T19:16:53.973Z"
   },
   {
    "duration": 26,
    "start_time": "2023-07-08T19:16:54.046Z"
   },
   {
    "duration": 56,
    "start_time": "2023-07-08T19:16:54.073Z"
   },
   {
    "duration": 204,
    "start_time": "2023-07-08T19:16:54.132Z"
   },
   {
    "duration": 330,
    "start_time": "2023-07-08T19:16:54.338Z"
   },
   {
    "duration": 4,
    "start_time": "2023-07-08T19:16:54.670Z"
   },
   {
    "duration": 81,
    "start_time": "2023-07-08T19:16:54.675Z"
   },
   {
    "duration": 135,
    "start_time": "2023-07-08T19:16:54.758Z"
   },
   {
    "duration": 331,
    "start_time": "2023-07-08T19:16:54.894Z"
   },
   {
    "duration": 7,
    "start_time": "2023-07-08T19:16:55.226Z"
   },
   {
    "duration": 245,
    "start_time": "2023-07-08T19:16:55.234Z"
   },
   {
    "duration": 3,
    "start_time": "2023-07-08T19:16:55.481Z"
   },
   {
    "duration": 190,
    "start_time": "2023-07-08T19:16:55.487Z"
   },
   {
    "duration": 44838,
    "start_time": "2023-07-08T19:16:55.678Z"
   },
   {
    "duration": 18,
    "start_time": "2023-07-08T19:17:40.521Z"
   },
   {
    "duration": 97,
    "start_time": "2023-07-08T19:17:40.541Z"
   },
   {
    "duration": 1509,
    "start_time": "2023-07-08T20:12:35.046Z"
   },
   {
    "duration": 2,
    "start_time": "2023-07-08T20:12:36.557Z"
   },
   {
    "duration": 729,
    "start_time": "2023-07-08T20:12:36.561Z"
   },
   {
    "duration": 25,
    "start_time": "2023-07-08T20:12:37.292Z"
   },
   {
    "duration": 151,
    "start_time": "2023-07-08T20:12:37.318Z"
   },
   {
    "duration": 278,
    "start_time": "2023-07-08T20:12:37.471Z"
   },
   {
    "duration": 62,
    "start_time": "2023-07-08T20:12:37.751Z"
   },
   {
    "duration": 90,
    "start_time": "2023-07-08T20:12:37.814Z"
   },
   {
    "duration": 25,
    "start_time": "2023-07-08T20:12:37.906Z"
   },
   {
    "duration": 3,
    "start_time": "2023-07-08T20:12:37.935Z"
   },
   {
    "duration": 5,
    "start_time": "2023-07-08T20:12:37.939Z"
   },
   {
    "duration": 203,
    "start_time": "2023-07-08T20:12:37.945Z"
   },
   {
    "duration": 3356,
    "start_time": "2023-07-08T20:12:38.149Z"
   },
   {
    "duration": 2815,
    "start_time": "2023-07-08T20:12:41.513Z"
   },
   {
    "duration": 10,
    "start_time": "2023-07-08T20:12:44.331Z"
   },
   {
    "duration": 28,
    "start_time": "2023-07-08T20:12:44.342Z"
   },
   {
    "duration": 63,
    "start_time": "2023-07-08T20:12:44.371Z"
   },
   {
    "duration": 44,
    "start_time": "2023-07-08T20:12:44.436Z"
   },
   {
    "duration": 36,
    "start_time": "2023-07-08T20:12:44.482Z"
   },
   {
    "duration": 403,
    "start_time": "2023-07-08T20:12:44.520Z"
   },
   {
    "duration": 91,
    "start_time": "2023-07-08T20:12:44.924Z"
   },
   {
    "duration": 1524,
    "start_time": "2023-07-08T20:12:45.017Z"
   },
   {
    "duration": 16,
    "start_time": "2023-07-08T20:12:46.542Z"
   },
   {
    "duration": 90,
    "start_time": "2023-07-08T20:12:46.559Z"
   },
   {
    "duration": 26,
    "start_time": "2023-07-08T20:12:46.651Z"
   },
   {
    "duration": 46,
    "start_time": "2023-07-08T20:12:46.679Z"
   },
   {
    "duration": 150,
    "start_time": "2023-07-08T20:12:46.727Z"
   },
   {
    "duration": 337,
    "start_time": "2023-07-08T20:12:46.880Z"
   },
   {
    "duration": 4,
    "start_time": "2023-07-08T20:12:47.219Z"
   },
   {
    "duration": 106,
    "start_time": "2023-07-08T20:12:47.225Z"
   },
   {
    "duration": 119,
    "start_time": "2023-07-08T20:12:47.333Z"
   },
   {
    "duration": 302,
    "start_time": "2023-07-08T20:12:47.453Z"
   },
   {
    "duration": 3,
    "start_time": "2023-07-08T20:12:47.757Z"
   },
   {
    "duration": 248,
    "start_time": "2023-07-08T20:12:47.761Z"
   },
   {
    "duration": 4,
    "start_time": "2023-07-08T20:12:48.019Z"
   },
   {
    "duration": 165,
    "start_time": "2023-07-08T20:12:48.025Z"
   },
   {
    "duration": 35328,
    "start_time": "2023-07-08T20:12:48.192Z"
   },
   {
    "duration": 16,
    "start_time": "2023-07-08T20:13:23.525Z"
   },
   {
    "duration": 225214,
    "start_time": "2023-07-08T20:13:23.602Z"
   },
   {
    "duration": 1532,
    "start_time": "2023-07-08T20:36:02.483Z"
   },
   {
    "duration": 3,
    "start_time": "2023-07-08T20:36:04.017Z"
   },
   {
    "duration": 805,
    "start_time": "2023-07-08T20:36:04.024Z"
   },
   {
    "duration": 19,
    "start_time": "2023-07-08T20:36:04.833Z"
   },
   {
    "duration": 148,
    "start_time": "2023-07-08T20:36:04.854Z"
   },
   {
    "duration": 206,
    "start_time": "2023-07-08T20:36:05.004Z"
   },
   {
    "duration": 9,
    "start_time": "2023-07-08T20:36:05.212Z"
   },
   {
    "duration": 66,
    "start_time": "2023-07-08T20:36:05.222Z"
   },
   {
    "duration": 21,
    "start_time": "2023-07-08T20:36:05.290Z"
   },
   {
    "duration": 25,
    "start_time": "2023-07-08T20:36:05.315Z"
   },
   {
    "duration": 17,
    "start_time": "2023-07-08T20:36:05.342Z"
   },
   {
    "duration": 128,
    "start_time": "2023-07-08T20:36:05.360Z"
   },
   {
    "duration": 2477,
    "start_time": "2023-07-08T20:36:05.490Z"
   },
   {
    "duration": 4141,
    "start_time": "2023-07-08T20:36:07.968Z"
   },
   {
    "duration": 8,
    "start_time": "2023-07-08T20:36:12.118Z"
   },
   {
    "duration": 24,
    "start_time": "2023-07-08T20:36:12.128Z"
   },
   {
    "duration": 28,
    "start_time": "2023-07-08T20:36:12.154Z"
   },
   {
    "duration": 53,
    "start_time": "2023-07-08T20:36:12.184Z"
   },
   {
    "duration": 10,
    "start_time": "2023-07-08T20:36:12.238Z"
   },
   {
    "duration": 435,
    "start_time": "2023-07-08T20:36:12.249Z"
   },
   {
    "duration": 96,
    "start_time": "2023-07-08T20:36:12.686Z"
   },
   {
    "duration": 1626,
    "start_time": "2023-07-08T20:36:12.784Z"
   },
   {
    "duration": 23,
    "start_time": "2023-07-08T20:36:14.411Z"
   },
   {
    "duration": 73,
    "start_time": "2023-07-08T20:36:14.437Z"
   },
   {
    "duration": 30,
    "start_time": "2023-07-08T20:36:14.512Z"
   },
   {
    "duration": 30,
    "start_time": "2023-07-08T20:36:14.544Z"
   },
   {
    "duration": 195,
    "start_time": "2023-07-08T20:36:14.576Z"
   },
   {
    "duration": 357,
    "start_time": "2023-07-08T20:36:14.775Z"
   },
   {
    "duration": 4,
    "start_time": "2023-07-08T20:36:15.134Z"
   },
   {
    "duration": 82,
    "start_time": "2023-07-08T20:36:15.139Z"
   },
   {
    "duration": 143,
    "start_time": "2023-07-08T20:36:15.223Z"
   },
   {
    "duration": 315,
    "start_time": "2023-07-08T20:36:15.367Z"
   },
   {
    "duration": 2,
    "start_time": "2023-07-08T20:36:15.684Z"
   },
   {
    "duration": 252,
    "start_time": "2023-07-08T20:36:15.688Z"
   },
   {
    "duration": 3,
    "start_time": "2023-07-08T20:36:15.941Z"
   },
   {
    "duration": 204,
    "start_time": "2023-07-08T20:36:15.946Z"
   },
   {
    "duration": 29752,
    "start_time": "2023-07-08T20:36:16.153Z"
   },
   {
    "duration": 5,
    "start_time": "2023-07-08T20:36:45.907Z"
   },
   {
    "duration": 232948,
    "start_time": "2023-07-08T20:36:45.914Z"
   },
   {
    "duration": 1361,
    "start_time": "2023-07-08T20:43:12.666Z"
   },
   {
    "duration": 3,
    "start_time": "2023-07-08T20:43:14.029Z"
   },
   {
    "duration": 710,
    "start_time": "2023-07-08T20:43:14.034Z"
   },
   {
    "duration": 17,
    "start_time": "2023-07-08T20:43:14.745Z"
   },
   {
    "duration": 109,
    "start_time": "2023-07-08T20:43:14.764Z"
   },
   {
    "duration": 185,
    "start_time": "2023-07-08T20:43:14.874Z"
   },
   {
    "duration": 9,
    "start_time": "2023-07-08T20:43:15.060Z"
   },
   {
    "duration": 40,
    "start_time": "2023-07-08T20:43:15.071Z"
   },
   {
    "duration": 15,
    "start_time": "2023-07-08T20:43:15.113Z"
   },
   {
    "duration": 3,
    "start_time": "2023-07-08T20:43:15.129Z"
   },
   {
    "duration": 6,
    "start_time": "2023-07-08T20:43:15.133Z"
   },
   {
    "duration": 116,
    "start_time": "2023-07-08T20:43:15.140Z"
   },
   {
    "duration": 2309,
    "start_time": "2023-07-08T20:43:15.258Z"
   },
   {
    "duration": 2856,
    "start_time": "2023-07-08T20:43:17.571Z"
   },
   {
    "duration": 8,
    "start_time": "2023-07-08T20:43:20.429Z"
   },
   {
    "duration": 23,
    "start_time": "2023-07-08T20:43:20.439Z"
   },
   {
    "duration": 52,
    "start_time": "2023-07-08T20:43:20.464Z"
   },
   {
    "duration": 40,
    "start_time": "2023-07-08T20:43:20.518Z"
   },
   {
    "duration": 10,
    "start_time": "2023-07-08T20:43:20.560Z"
   },
   {
    "duration": 380,
    "start_time": "2023-07-08T20:43:20.572Z"
   },
   {
    "duration": 74,
    "start_time": "2023-07-08T20:43:20.954Z"
   },
   {
    "duration": 1232,
    "start_time": "2023-07-08T20:43:21.029Z"
   },
   {
    "duration": 13,
    "start_time": "2023-07-08T20:43:22.262Z"
   },
   {
    "duration": 64,
    "start_time": "2023-07-08T20:43:22.277Z"
   },
   {
    "duration": 30,
    "start_time": "2023-07-08T20:43:22.342Z"
   },
   {
    "duration": 44,
    "start_time": "2023-07-08T20:43:22.374Z"
   },
   {
    "duration": 166,
    "start_time": "2023-07-08T20:43:22.420Z"
   },
   {
    "duration": 316,
    "start_time": "2023-07-08T20:43:22.588Z"
   },
   {
    "duration": 4,
    "start_time": "2023-07-08T20:43:22.906Z"
   },
   {
    "duration": 67,
    "start_time": "2023-07-08T20:43:22.912Z"
   },
   {
    "duration": 132,
    "start_time": "2023-07-08T20:43:22.980Z"
   },
   {
    "duration": 298,
    "start_time": "2023-07-08T20:43:23.113Z"
   },
   {
    "duration": 2,
    "start_time": "2023-07-08T20:43:23.413Z"
   },
   {
    "duration": 218,
    "start_time": "2023-07-08T20:43:23.417Z"
   },
   {
    "duration": 3,
    "start_time": "2023-07-08T20:43:23.636Z"
   },
   {
    "duration": 150,
    "start_time": "2023-07-08T20:43:23.641Z"
   },
   {
    "duration": 10411,
    "start_time": "2023-07-08T20:43:23.793Z"
   },
   {
    "duration": 93,
    "start_time": "2023-07-08T20:43:34.206Z"
   },
   {
    "duration": 2,
    "start_time": "2023-07-08T20:43:34.301Z"
   },
   {
    "duration": 5,
    "start_time": "2023-07-08T20:43:34.305Z"
   },
   {
    "duration": 184,
    "start_time": "2023-07-08T20:43:34.313Z"
   },
   {
    "duration": 62,
    "start_time": "2023-07-08T20:43:34.499Z"
   },
   {
    "duration": 0,
    "start_time": "2023-07-08T20:43:34.563Z"
   },
   {
    "duration": 77,
    "start_time": "2023-07-08T20:43:57.503Z"
   },
   {
    "duration": 4,
    "start_time": "2023-07-08T20:44:05.346Z"
   },
   {
    "duration": 39,
    "start_time": "2023-07-08T20:44:12.665Z"
   },
   {
    "duration": 107,
    "start_time": "2023-07-08T20:44:23.764Z"
   },
   {
    "duration": 78,
    "start_time": "2023-07-08T20:44:56.483Z"
   },
   {
    "duration": 4,
    "start_time": "2023-07-08T20:45:00.042Z"
   },
   {
    "duration": 105,
    "start_time": "2023-07-08T20:45:01.219Z"
   },
   {
    "duration": 85,
    "start_time": "2023-07-08T20:45:39.178Z"
   },
   {
    "duration": 94,
    "start_time": "2023-07-08T20:45:44.053Z"
   },
   {
    "duration": 1407,
    "start_time": "2023-07-08T20:46:57.618Z"
   },
   {
    "duration": 3,
    "start_time": "2023-07-08T20:46:59.028Z"
   },
   {
    "duration": 769,
    "start_time": "2023-07-08T20:46:59.032Z"
   },
   {
    "duration": 22,
    "start_time": "2023-07-08T20:46:59.803Z"
   },
   {
    "duration": 131,
    "start_time": "2023-07-08T20:46:59.827Z"
   },
   {
    "duration": 199,
    "start_time": "2023-07-08T20:46:59.960Z"
   },
   {
    "duration": 8,
    "start_time": "2023-07-08T20:47:00.160Z"
   },
   {
    "duration": 86,
    "start_time": "2023-07-08T20:47:00.170Z"
   },
   {
    "duration": 28,
    "start_time": "2023-07-08T20:47:00.257Z"
   },
   {
    "duration": 48,
    "start_time": "2023-07-08T20:47:00.287Z"
   },
   {
    "duration": 21,
    "start_time": "2023-07-08T20:47:00.336Z"
   },
   {
    "duration": 171,
    "start_time": "2023-07-08T20:47:00.358Z"
   },
   {
    "duration": 2316,
    "start_time": "2023-07-08T20:47:00.531Z"
   },
   {
    "duration": 2945,
    "start_time": "2023-07-08T20:47:02.850Z"
   },
   {
    "duration": 18,
    "start_time": "2023-07-08T20:47:05.797Z"
   },
   {
    "duration": 41,
    "start_time": "2023-07-08T20:47:05.817Z"
   },
   {
    "duration": 34,
    "start_time": "2023-07-08T20:47:05.859Z"
   },
   {
    "duration": 58,
    "start_time": "2023-07-08T20:47:05.894Z"
   },
   {
    "duration": 12,
    "start_time": "2023-07-08T20:47:05.954Z"
   },
   {
    "duration": 459,
    "start_time": "2023-07-08T20:47:05.968Z"
   },
   {
    "duration": 79,
    "start_time": "2023-07-08T20:47:06.430Z"
   },
   {
    "duration": 1436,
    "start_time": "2023-07-08T20:47:06.510Z"
   },
   {
    "duration": 18,
    "start_time": "2023-07-08T20:47:07.948Z"
   },
   {
    "duration": 71,
    "start_time": "2023-07-08T20:47:07.967Z"
   },
   {
    "duration": 26,
    "start_time": "2023-07-08T20:47:08.040Z"
   },
   {
    "duration": 43,
    "start_time": "2023-07-08T20:47:08.067Z"
   },
   {
    "duration": 183,
    "start_time": "2023-07-08T20:47:08.114Z"
   },
   {
    "duration": 338,
    "start_time": "2023-07-08T20:47:08.300Z"
   },
   {
    "duration": 4,
    "start_time": "2023-07-08T20:47:08.639Z"
   },
   {
    "duration": 69,
    "start_time": "2023-07-08T20:47:08.644Z"
   },
   {
    "duration": 136,
    "start_time": "2023-07-08T20:47:08.714Z"
   },
   {
    "duration": 290,
    "start_time": "2023-07-08T20:47:08.851Z"
   },
   {
    "duration": 3,
    "start_time": "2023-07-08T20:47:09.142Z"
   },
   {
    "duration": 224,
    "start_time": "2023-07-08T20:47:09.146Z"
   },
   {
    "duration": 2,
    "start_time": "2023-07-08T20:47:09.371Z"
   },
   {
    "duration": 158,
    "start_time": "2023-07-08T20:47:09.375Z"
   },
   {
    "duration": 12969,
    "start_time": "2023-07-08T20:47:09.534Z"
   },
   {
    "duration": 5,
    "start_time": "2023-07-08T20:47:22.505Z"
   },
   {
    "duration": 107,
    "start_time": "2023-07-08T20:47:22.512Z"
   },
   {
    "duration": 12,
    "start_time": "2023-07-08T20:47:22.620Z"
   },
   {
    "duration": 9,
    "start_time": "2023-07-08T20:47:22.635Z"
   },
   {
    "duration": 120,
    "start_time": "2023-07-08T20:47:22.645Z"
   },
   {
    "duration": 0,
    "start_time": "2023-07-08T20:47:22.766Z"
   },
   {
    "duration": 0,
    "start_time": "2023-07-08T20:47:22.767Z"
   },
   {
    "duration": 428786,
    "start_time": "2023-07-08T20:48:16.869Z"
   },
   {
    "duration": 48409,
    "start_time": "2023-07-08T20:55:25.657Z"
   },
   {
    "duration": 1356,
    "start_time": "2023-07-08T21:30:07.599Z"
   },
   {
    "duration": 3,
    "start_time": "2023-07-08T21:30:08.957Z"
   },
   {
    "duration": 747,
    "start_time": "2023-07-08T21:30:08.961Z"
   },
   {
    "duration": 15,
    "start_time": "2023-07-08T21:30:09.710Z"
   },
   {
    "duration": 110,
    "start_time": "2023-07-08T21:30:09.726Z"
   },
   {
    "duration": 189,
    "start_time": "2023-07-08T21:30:09.838Z"
   },
   {
    "duration": 7,
    "start_time": "2023-07-08T21:30:10.029Z"
   },
   {
    "duration": 48,
    "start_time": "2023-07-08T21:30:10.038Z"
   },
   {
    "duration": 24,
    "start_time": "2023-07-08T21:30:10.087Z"
   },
   {
    "duration": 3,
    "start_time": "2023-07-08T21:30:10.115Z"
   },
   {
    "duration": 7,
    "start_time": "2023-07-08T21:30:10.119Z"
   },
   {
    "duration": 114,
    "start_time": "2023-07-08T21:30:10.127Z"
   },
   {
    "duration": 2154,
    "start_time": "2023-07-08T21:30:10.243Z"
   },
   {
    "duration": 2754,
    "start_time": "2023-07-08T21:30:12.400Z"
   },
   {
    "duration": 9,
    "start_time": "2023-07-08T21:30:15.156Z"
   },
   {
    "duration": 41,
    "start_time": "2023-07-08T21:30:15.167Z"
   },
   {
    "duration": 34,
    "start_time": "2023-07-08T21:30:15.210Z"
   },
   {
    "duration": 56,
    "start_time": "2023-07-08T21:30:15.246Z"
   },
   {
    "duration": 10,
    "start_time": "2023-07-08T21:30:15.304Z"
   },
   {
    "duration": 395,
    "start_time": "2023-07-08T21:30:15.316Z"
   },
   {
    "duration": 68,
    "start_time": "2023-07-08T21:30:15.713Z"
   },
   {
    "duration": 1368,
    "start_time": "2023-07-08T21:30:15.783Z"
   },
   {
    "duration": 15,
    "start_time": "2023-07-08T21:30:17.152Z"
   },
   {
    "duration": 72,
    "start_time": "2023-07-08T21:30:17.169Z"
   },
   {
    "duration": 28,
    "start_time": "2023-07-08T21:30:17.242Z"
   },
   {
    "duration": 46,
    "start_time": "2023-07-08T21:30:17.272Z"
   },
   {
    "duration": 161,
    "start_time": "2023-07-08T21:30:17.320Z"
   },
   {
    "duration": 291,
    "start_time": "2023-07-08T21:30:17.485Z"
   },
   {
    "duration": 4,
    "start_time": "2023-07-08T21:30:17.777Z"
   },
   {
    "duration": 67,
    "start_time": "2023-07-08T21:30:17.782Z"
   },
   {
    "duration": 115,
    "start_time": "2023-07-08T21:30:17.851Z"
   },
   {
    "duration": 292,
    "start_time": "2023-07-08T21:30:17.968Z"
   },
   {
    "duration": 3,
    "start_time": "2023-07-08T21:30:18.261Z"
   },
   {
    "duration": 212,
    "start_time": "2023-07-08T21:30:18.265Z"
   },
   {
    "duration": 3,
    "start_time": "2023-07-08T21:30:18.478Z"
   },
   {
    "duration": 148,
    "start_time": "2023-07-08T21:30:18.482Z"
   },
   {
    "duration": 14470,
    "start_time": "2023-07-08T21:30:18.631Z"
   },
   {
    "duration": 9,
    "start_time": "2023-07-08T21:30:33.102Z"
   },
   {
    "duration": 215564,
    "start_time": "2023-07-08T21:30:33.113Z"
   },
   {
    "duration": 1378,
    "start_time": "2023-07-08T21:38:16.333Z"
   },
   {
    "duration": 3,
    "start_time": "2023-07-08T21:38:17.712Z"
   },
   {
    "duration": 772,
    "start_time": "2023-07-08T21:38:17.716Z"
   },
   {
    "duration": 18,
    "start_time": "2023-07-08T21:38:18.489Z"
   },
   {
    "duration": 127,
    "start_time": "2023-07-08T21:38:18.509Z"
   },
   {
    "duration": 215,
    "start_time": "2023-07-08T21:38:18.638Z"
   },
   {
    "duration": 9,
    "start_time": "2023-07-08T21:38:18.855Z"
   },
   {
    "duration": 43,
    "start_time": "2023-07-08T21:38:18.865Z"
   },
   {
    "duration": 30,
    "start_time": "2023-07-08T21:38:18.909Z"
   },
   {
    "duration": 4,
    "start_time": "2023-07-08T21:38:18.941Z"
   },
   {
    "duration": 9,
    "start_time": "2023-07-08T21:38:18.947Z"
   },
   {
    "duration": 128,
    "start_time": "2023-07-08T21:38:18.958Z"
   },
   {
    "duration": 2215,
    "start_time": "2023-07-08T21:38:19.088Z"
   },
   {
    "duration": 2746,
    "start_time": "2023-07-08T21:38:21.306Z"
   },
   {
    "duration": 7,
    "start_time": "2023-07-08T21:38:24.054Z"
   },
   {
    "duration": 22,
    "start_time": "2023-07-08T21:38:24.062Z"
   },
   {
    "duration": 39,
    "start_time": "2023-07-08T21:38:24.086Z"
   },
   {
    "duration": 41,
    "start_time": "2023-07-08T21:38:24.126Z"
   },
   {
    "duration": 10,
    "start_time": "2023-07-08T21:38:24.168Z"
   },
   {
    "duration": 387,
    "start_time": "2023-07-08T21:38:24.180Z"
   },
   {
    "duration": 73,
    "start_time": "2023-07-08T21:38:24.568Z"
   },
   {
    "duration": 1242,
    "start_time": "2023-07-08T21:38:24.642Z"
   },
   {
    "duration": 19,
    "start_time": "2023-07-08T21:38:25.886Z"
   },
   {
    "duration": 71,
    "start_time": "2023-07-08T21:38:25.907Z"
   },
   {
    "duration": 54,
    "start_time": "2023-07-08T21:38:25.980Z"
   },
   {
    "duration": 35,
    "start_time": "2023-07-08T21:38:26.036Z"
   },
   {
    "duration": 171,
    "start_time": "2023-07-08T21:38:26.074Z"
   },
   {
    "duration": 280,
    "start_time": "2023-07-08T21:38:26.247Z"
   },
   {
    "duration": 4,
    "start_time": "2023-07-08T21:38:26.528Z"
   },
   {
    "duration": 83,
    "start_time": "2023-07-08T21:38:26.533Z"
   },
   {
    "duration": 111,
    "start_time": "2023-07-08T21:38:26.618Z"
   },
   {
    "duration": 297,
    "start_time": "2023-07-08T21:38:26.731Z"
   },
   {
    "duration": 3,
    "start_time": "2023-07-08T21:38:27.029Z"
   },
   {
    "duration": 212,
    "start_time": "2023-07-08T21:38:27.034Z"
   },
   {
    "duration": 2,
    "start_time": "2023-07-08T21:38:27.249Z"
   },
   {
    "duration": 146,
    "start_time": "2023-07-08T21:38:27.253Z"
   },
   {
    "duration": 12609,
    "start_time": "2023-07-08T21:38:27.401Z"
   },
   {
    "duration": 6,
    "start_time": "2023-07-08T21:38:40.101Z"
   },
   {
    "duration": 91,
    "start_time": "2023-07-08T21:38:40.110Z"
   },
   {
    "duration": 1321,
    "start_time": "2023-07-08T21:43:00.142Z"
   },
   {
    "duration": 3,
    "start_time": "2023-07-08T21:43:01.464Z"
   },
   {
    "duration": 735,
    "start_time": "2023-07-08T21:43:01.468Z"
   },
   {
    "duration": 16,
    "start_time": "2023-07-08T21:43:02.205Z"
   },
   {
    "duration": 189,
    "start_time": "2023-07-08T21:43:02.224Z"
   },
   {
    "duration": 187,
    "start_time": "2023-07-08T21:43:02.414Z"
   },
   {
    "duration": 9,
    "start_time": "2023-07-08T21:43:02.602Z"
   },
   {
    "duration": 38,
    "start_time": "2023-07-08T21:43:02.613Z"
   },
   {
    "duration": 28,
    "start_time": "2023-07-08T21:43:02.653Z"
   },
   {
    "duration": 32,
    "start_time": "2023-07-08T21:43:02.683Z"
   },
   {
    "duration": 15,
    "start_time": "2023-07-08T21:43:02.716Z"
   },
   {
    "duration": 133,
    "start_time": "2023-07-08T21:43:02.732Z"
   },
   {
    "duration": 2122,
    "start_time": "2023-07-08T21:43:02.866Z"
   },
   {
    "duration": 2705,
    "start_time": "2023-07-08T21:43:04.991Z"
   },
   {
    "duration": 8,
    "start_time": "2023-07-08T21:43:07.697Z"
   },
   {
    "duration": 25,
    "start_time": "2023-07-08T21:43:07.706Z"
   },
   {
    "duration": 28,
    "start_time": "2023-07-08T21:43:07.732Z"
   },
   {
    "duration": 62,
    "start_time": "2023-07-08T21:43:07.762Z"
   },
   {
    "duration": 10,
    "start_time": "2023-07-08T21:43:07.825Z"
   },
   {
    "duration": 388,
    "start_time": "2023-07-08T21:43:07.837Z"
   },
   {
    "duration": 74,
    "start_time": "2023-07-08T21:43:08.226Z"
   },
   {
    "duration": 1333,
    "start_time": "2023-07-08T21:43:08.302Z"
   },
   {
    "duration": 15,
    "start_time": "2023-07-08T21:43:09.636Z"
   },
   {
    "duration": 70,
    "start_time": "2023-07-08T21:43:09.653Z"
   },
   {
    "duration": 26,
    "start_time": "2023-07-08T21:43:09.724Z"
   },
   {
    "duration": 47,
    "start_time": "2023-07-08T21:43:09.752Z"
   },
   {
    "duration": 159,
    "start_time": "2023-07-08T21:43:09.801Z"
   },
   {
    "duration": 282,
    "start_time": "2023-07-08T21:43:09.962Z"
   },
   {
    "duration": 3,
    "start_time": "2023-07-08T21:43:10.246Z"
   },
   {
    "duration": 72,
    "start_time": "2023-07-08T21:43:10.251Z"
   },
   {
    "duration": 140,
    "start_time": "2023-07-08T21:43:10.324Z"
   },
   {
    "duration": 317,
    "start_time": "2023-07-08T21:43:10.466Z"
   },
   {
    "duration": 2,
    "start_time": "2023-07-08T21:43:10.785Z"
   },
   {
    "duration": 235,
    "start_time": "2023-07-08T21:43:10.789Z"
   },
   {
    "duration": 2,
    "start_time": "2023-07-08T21:43:11.026Z"
   },
   {
    "duration": 155,
    "start_time": "2023-07-08T21:43:11.030Z"
   },
   {
    "duration": 16122,
    "start_time": "2023-07-08T21:43:11.186Z"
   },
   {
    "duration": 5,
    "start_time": "2023-07-08T21:43:27.399Z"
   },
   {
    "duration": 13,
    "start_time": "2023-07-08T21:43:27.405Z"
   },
   {
    "duration": 55184,
    "start_time": "2023-07-08T21:43:27.420Z"
   },
   {
    "duration": 4,
    "start_time": "2023-07-08T21:44:22.607Z"
   },
   {
    "duration": 184512,
    "start_time": "2023-07-08T21:44:22.612Z"
   },
   {
    "duration": 22917,
    "start_time": "2023-07-08T21:47:27.126Z"
   },
   {
    "duration": 247,
    "start_time": "2023-07-08T21:47:50.044Z"
   },
   {
    "duration": 1379,
    "start_time": "2023-07-08T22:06:18.078Z"
   },
   {
    "duration": 3,
    "start_time": "2023-07-08T22:06:19.459Z"
   },
   {
    "duration": 698,
    "start_time": "2023-07-08T22:06:19.463Z"
   },
   {
    "duration": 14,
    "start_time": "2023-07-08T22:06:20.163Z"
   },
   {
    "duration": 122,
    "start_time": "2023-07-08T22:06:20.179Z"
   },
   {
    "duration": 199,
    "start_time": "2023-07-08T22:06:20.303Z"
   },
   {
    "duration": 8,
    "start_time": "2023-07-08T22:06:20.504Z"
   },
   {
    "duration": 34,
    "start_time": "2023-07-08T22:06:20.514Z"
   },
   {
    "duration": 22,
    "start_time": "2023-07-08T22:06:20.550Z"
   },
   {
    "duration": 1,
    "start_time": "2023-07-08T22:06:20.576Z"
   },
   {
    "duration": 5,
    "start_time": "2023-07-08T22:06:20.579Z"
   },
   {
    "duration": 115,
    "start_time": "2023-07-08T22:06:20.585Z"
   },
   {
    "duration": 2143,
    "start_time": "2023-07-08T22:06:20.701Z"
   },
   {
    "duration": 2683,
    "start_time": "2023-07-08T22:06:22.845Z"
   },
   {
    "duration": 7,
    "start_time": "2023-07-08T22:06:25.530Z"
   },
   {
    "duration": 26,
    "start_time": "2023-07-08T22:06:25.538Z"
   },
   {
    "duration": 46,
    "start_time": "2023-07-08T22:06:25.566Z"
   },
   {
    "duration": 41,
    "start_time": "2023-07-08T22:06:25.614Z"
   },
   {
    "duration": 9,
    "start_time": "2023-07-08T22:06:25.657Z"
   },
   {
    "duration": 460,
    "start_time": "2023-07-08T22:06:25.667Z"
   },
   {
    "duration": 73,
    "start_time": "2023-07-08T22:06:26.128Z"
   },
   {
    "duration": 1239,
    "start_time": "2023-07-08T22:06:26.202Z"
   },
   {
    "duration": 16,
    "start_time": "2023-07-08T22:06:27.442Z"
   },
   {
    "duration": 68,
    "start_time": "2023-07-08T22:06:27.459Z"
   },
   {
    "duration": 26,
    "start_time": "2023-07-08T22:06:27.528Z"
   },
   {
    "duration": 44,
    "start_time": "2023-07-08T22:06:27.556Z"
   },
   {
    "duration": 146,
    "start_time": "2023-07-08T22:06:27.602Z"
   },
   {
    "duration": 295,
    "start_time": "2023-07-08T22:06:27.751Z"
   },
   {
    "duration": 4,
    "start_time": "2023-07-08T22:06:28.048Z"
   },
   {
    "duration": 70,
    "start_time": "2023-07-08T22:06:28.054Z"
   },
   {
    "duration": 136,
    "start_time": "2023-07-08T22:06:28.126Z"
   },
   {
    "duration": 275,
    "start_time": "2023-07-08T22:06:28.264Z"
   },
   {
    "duration": 2,
    "start_time": "2023-07-08T22:06:28.541Z"
   },
   {
    "duration": 211,
    "start_time": "2023-07-08T22:06:28.544Z"
   },
   {
    "duration": 2,
    "start_time": "2023-07-08T22:06:28.757Z"
   },
   {
    "duration": 137,
    "start_time": "2023-07-08T22:06:28.760Z"
   },
   {
    "duration": 200,
    "start_time": "2023-07-08T22:06:28.899Z"
   },
   {
    "duration": 9,
    "start_time": "2023-07-08T22:06:29.101Z"
   },
   {
    "duration": 0,
    "start_time": "2023-07-08T22:06:29.111Z"
   },
   {
    "duration": 0,
    "start_time": "2023-07-08T22:06:29.112Z"
   },
   {
    "duration": 0,
    "start_time": "2023-07-08T22:06:29.113Z"
   },
   {
    "duration": 0,
    "start_time": "2023-07-08T22:06:29.114Z"
   },
   {
    "duration": 0,
    "start_time": "2023-07-08T22:06:29.115Z"
   },
   {
    "duration": 0,
    "start_time": "2023-07-08T22:06:29.116Z"
   },
   {
    "duration": 14787,
    "start_time": "2023-07-08T22:23:19.715Z"
   },
   {
    "duration": 96,
    "start_time": "2023-07-08T22:23:34.504Z"
   },
   {
    "duration": 222008,
    "start_time": "2023-07-08T22:23:34.602Z"
   },
   {
    "duration": 2790,
    "start_time": "2023-07-08T22:27:16.612Z"
   },
   {
    "duration": 4,
    "start_time": "2023-07-08T22:27:19.404Z"
   },
   {
    "duration": 192691,
    "start_time": "2023-07-08T22:27:19.410Z"
   },
   {
    "duration": 24023,
    "start_time": "2023-07-08T22:30:32.102Z"
   },
   {
    "duration": 261,
    "start_time": "2023-07-08T22:30:56.127Z"
   },
   {
    "duration": 102,
    "start_time": "2023-07-08T22:51:52.786Z"
   },
   {
    "duration": 296,
    "start_time": "2023-07-08T22:54:01.072Z"
   },
   {
    "duration": 307,
    "start_time": "2023-07-08T22:55:05.368Z"
   },
   {
    "duration": 4,
    "start_time": "2023-07-08T23:00:16.125Z"
   },
   {
    "duration": 18,
    "start_time": "2023-07-08T23:00:16.130Z"
   },
   {
    "duration": 744,
    "start_time": "2023-07-08T23:00:16.150Z"
   },
   {
    "duration": 13,
    "start_time": "2023-07-08T23:00:16.899Z"
   },
   {
    "duration": 117,
    "start_time": "2023-07-08T23:00:16.914Z"
   },
   {
    "duration": 157,
    "start_time": "2023-07-08T23:00:17.032Z"
   },
   {
    "duration": 11,
    "start_time": "2023-07-08T23:00:17.191Z"
   },
   {
    "duration": 33,
    "start_time": "2023-07-08T23:00:17.204Z"
   },
   {
    "duration": 22,
    "start_time": "2023-07-08T23:00:17.240Z"
   },
   {
    "duration": 2,
    "start_time": "2023-07-08T23:00:17.264Z"
   },
   {
    "duration": 19,
    "start_time": "2023-07-08T23:00:17.267Z"
   },
   {
    "duration": 113,
    "start_time": "2023-07-08T23:00:17.287Z"
   },
   {
    "duration": 2164,
    "start_time": "2023-07-08T23:00:17.401Z"
   },
   {
    "duration": 2835,
    "start_time": "2023-07-08T23:00:19.566Z"
   },
   {
    "duration": 8,
    "start_time": "2023-07-08T23:00:22.402Z"
   },
   {
    "duration": 25,
    "start_time": "2023-07-08T23:00:22.411Z"
   },
   {
    "duration": 29,
    "start_time": "2023-07-08T23:00:22.437Z"
   },
   {
    "duration": 70,
    "start_time": "2023-07-08T23:00:22.468Z"
   },
   {
    "duration": 11,
    "start_time": "2023-07-08T23:00:22.539Z"
   },
   {
    "duration": 453,
    "start_time": "2023-07-08T23:00:22.552Z"
   },
   {
    "duration": 77,
    "start_time": "2023-07-08T23:00:23.007Z"
   },
   {
    "duration": 1403,
    "start_time": "2023-07-08T23:00:23.086Z"
   },
   {
    "duration": 22,
    "start_time": "2023-07-08T23:00:24.490Z"
   },
   {
    "duration": 62,
    "start_time": "2023-07-08T23:00:24.516Z"
   },
   {
    "duration": 34,
    "start_time": "2023-07-08T23:00:24.579Z"
   },
   {
    "duration": 28,
    "start_time": "2023-07-08T23:00:24.614Z"
   },
   {
    "duration": 160,
    "start_time": "2023-07-08T23:00:24.644Z"
   },
   {
    "duration": 302,
    "start_time": "2023-07-08T23:00:24.806Z"
   },
   {
    "duration": 4,
    "start_time": "2023-07-08T23:00:25.110Z"
   },
   {
    "duration": 59,
    "start_time": "2023-07-08T23:00:25.116Z"
   },
   {
    "duration": 133,
    "start_time": "2023-07-08T23:00:25.177Z"
   },
   {
    "duration": 319,
    "start_time": "2023-07-08T23:00:25.312Z"
   },
   {
    "duration": 3,
    "start_time": "2023-07-08T23:00:25.632Z"
   },
   {
    "duration": 251,
    "start_time": "2023-07-08T23:00:25.636Z"
   },
   {
    "duration": 2,
    "start_time": "2023-07-08T23:00:25.889Z"
   },
   {
    "duration": 318,
    "start_time": "2023-07-08T23:00:25.892Z"
   },
   {
    "duration": 10392,
    "start_time": "2023-07-08T23:00:26.212Z"
   },
   {
    "duration": 95,
    "start_time": "2023-07-08T23:00:36.606Z"
   },
   {
    "duration": 271310,
    "start_time": "2023-07-08T23:00:36.702Z"
   },
   {
    "duration": 2386,
    "start_time": "2023-07-08T23:05:08.013Z"
   },
   {
    "duration": 4,
    "start_time": "2023-07-08T23:05:10.401Z"
   },
   {
    "duration": 197713,
    "start_time": "2023-07-08T23:05:10.406Z"
   },
   {
    "duration": 24466,
    "start_time": "2023-07-08T23:08:28.121Z"
   },
   {
    "duration": 259,
    "start_time": "2023-07-08T23:08:52.588Z"
   },
   {
    "duration": 109,
    "start_time": "2023-07-08T23:08:52.849Z"
   },
   {
    "duration": 290,
    "start_time": "2023-07-08T23:08:52.959Z"
   },
   {
    "duration": 4,
    "start_time": "2023-07-08T23:13:37.739Z"
   },
   {
    "duration": 13,
    "start_time": "2023-07-08T23:13:37.744Z"
   },
   {
    "duration": 679,
    "start_time": "2023-07-08T23:13:37.758Z"
   },
   {
    "duration": 10,
    "start_time": "2023-07-08T23:13:38.439Z"
   },
   {
    "duration": 110,
    "start_time": "2023-07-08T23:13:38.451Z"
   },
   {
    "duration": 166,
    "start_time": "2023-07-08T23:13:38.563Z"
   },
   {
    "duration": 9,
    "start_time": "2023-07-08T23:13:38.730Z"
   },
   {
    "duration": 29,
    "start_time": "2023-07-08T23:13:38.741Z"
   },
   {
    "duration": 36,
    "start_time": "2023-07-08T23:13:38.772Z"
   },
   {
    "duration": 2,
    "start_time": "2023-07-08T23:13:38.810Z"
   },
   {
    "duration": 6,
    "start_time": "2023-07-08T23:13:38.815Z"
   },
   {
    "duration": 99,
    "start_time": "2023-07-08T23:13:38.822Z"
   },
   {
    "duration": 2019,
    "start_time": "2023-07-08T23:13:38.923Z"
   },
   {
    "duration": 2939,
    "start_time": "2023-07-08T23:13:40.943Z"
   },
   {
    "duration": 16,
    "start_time": "2023-07-08T23:13:43.884Z"
   },
   {
    "duration": 23,
    "start_time": "2023-07-08T23:13:43.902Z"
   },
   {
    "duration": 29,
    "start_time": "2023-07-08T23:13:43.927Z"
   },
   {
    "duration": 66,
    "start_time": "2023-07-08T23:13:43.958Z"
   },
   {
    "duration": 11,
    "start_time": "2023-07-08T23:13:44.026Z"
   },
   {
    "duration": 509,
    "start_time": "2023-07-08T23:13:44.039Z"
   },
   {
    "duration": 81,
    "start_time": "2023-07-08T23:13:44.550Z"
   },
   {
    "duration": 1361,
    "start_time": "2023-07-08T23:13:44.633Z"
   },
   {
    "duration": 15,
    "start_time": "2023-07-08T23:13:46.000Z"
   },
   {
    "duration": 61,
    "start_time": "2023-07-08T23:13:46.017Z"
   },
   {
    "duration": 47,
    "start_time": "2023-07-08T23:13:46.080Z"
   },
   {
    "duration": 23,
    "start_time": "2023-07-08T23:13:46.128Z"
   },
   {
    "duration": 159,
    "start_time": "2023-07-08T23:13:46.152Z"
   },
   {
    "duration": 288,
    "start_time": "2023-07-08T23:13:46.312Z"
   },
   {
    "duration": 3,
    "start_time": "2023-07-08T23:13:46.604Z"
   },
   {
    "duration": 68,
    "start_time": "2023-07-08T23:13:46.609Z"
   },
   {
    "duration": 113,
    "start_time": "2023-07-08T23:13:46.678Z"
   },
   {
    "duration": 274,
    "start_time": "2023-07-08T23:13:46.792Z"
   },
   {
    "duration": 3,
    "start_time": "2023-07-08T23:13:47.067Z"
   },
   {
    "duration": 218,
    "start_time": "2023-07-08T23:13:47.071Z"
   },
   {
    "duration": 2,
    "start_time": "2023-07-08T23:13:47.291Z"
   },
   {
    "duration": 153,
    "start_time": "2023-07-08T23:13:47.294Z"
   },
   {
    "duration": 9651,
    "start_time": "2023-07-08T23:13:47.449Z"
   },
   {
    "duration": 6,
    "start_time": "2023-07-08T23:13:57.102Z"
   },
   {
    "duration": 224198,
    "start_time": "2023-07-08T23:13:57.109Z"
   },
   {
    "duration": 7310,
    "start_time": "2023-07-08T23:17:41.309Z"
   },
   {
    "duration": 5,
    "start_time": "2023-07-08T23:17:48.700Z"
   },
   {
    "duration": 202046,
    "start_time": "2023-07-08T23:17:48.707Z"
   },
   {
    "duration": 25067,
    "start_time": "2023-07-08T23:21:10.755Z"
   },
   {
    "duration": 323,
    "start_time": "2023-07-08T23:21:35.823Z"
   },
   {
    "duration": 109,
    "start_time": "2023-07-08T23:21:36.147Z"
   },
   {
    "duration": 293,
    "start_time": "2023-07-08T23:21:36.258Z"
   },
   {
    "duration": 1747,
    "start_time": "2023-07-09T18:16:38.036Z"
   },
   {
    "duration": 3,
    "start_time": "2023-07-09T18:16:39.785Z"
   },
   {
    "duration": 1150,
    "start_time": "2023-07-09T18:16:39.789Z"
   },
   {
    "duration": 18,
    "start_time": "2023-07-09T18:16:40.942Z"
   },
   {
    "duration": 121,
    "start_time": "2023-07-09T18:17:30.083Z"
   },
   {
    "duration": 184,
    "start_time": "2023-07-09T18:17:32.501Z"
   },
   {
    "duration": 13,
    "start_time": "2023-07-09T18:17:43.008Z"
   },
   {
    "duration": 32,
    "start_time": "2023-07-09T18:18:17.449Z"
   },
   {
    "duration": 22,
    "start_time": "2023-07-09T18:18:17.961Z"
   },
   {
    "duration": 2,
    "start_time": "2023-07-09T18:18:19.883Z"
   },
   {
    "duration": 3,
    "start_time": "2023-07-09T18:18:23.208Z"
   },
   {
    "duration": 111,
    "start_time": "2023-07-09T18:18:23.905Z"
   },
   {
    "duration": 2637,
    "start_time": "2023-07-09T18:18:29.193Z"
   },
   {
    "duration": 8,
    "start_time": "2023-07-09T18:18:35.688Z"
   },
   {
    "duration": 31,
    "start_time": "2023-07-09T18:18:35.821Z"
   },
   {
    "duration": 34,
    "start_time": "2023-07-09T18:18:36.167Z"
   },
   {
    "duration": 52,
    "start_time": "2023-07-09T18:18:43.018Z"
   },
   {
    "duration": 1633,
    "start_time": "2023-07-09T19:25:17.688Z"
   },
   {
    "duration": 2,
    "start_time": "2023-07-09T19:25:19.324Z"
   },
   {
    "duration": 1018,
    "start_time": "2023-07-09T19:25:19.328Z"
   },
   {
    "duration": 16,
    "start_time": "2023-07-09T19:25:20.348Z"
   },
   {
    "duration": 123,
    "start_time": "2023-07-09T19:25:20.366Z"
   },
   {
    "duration": 196,
    "start_time": "2023-07-09T19:25:20.491Z"
   },
   {
    "duration": 12,
    "start_time": "2023-07-09T19:25:20.689Z"
   },
   {
    "duration": 31,
    "start_time": "2023-07-09T19:25:20.703Z"
   },
   {
    "duration": 19,
    "start_time": "2023-07-09T19:25:20.736Z"
   },
   {
    "duration": 2,
    "start_time": "2023-07-09T19:25:20.757Z"
   },
   {
    "duration": 3,
    "start_time": "2023-07-09T19:25:20.775Z"
   },
   {
    "duration": 125,
    "start_time": "2023-07-09T19:25:20.779Z"
   },
   {
    "duration": 2212,
    "start_time": "2023-07-09T19:25:20.905Z"
   },
   {
    "duration": 2827,
    "start_time": "2023-07-09T19:25:23.120Z"
   },
   {
    "duration": 7,
    "start_time": "2023-07-09T19:25:25.948Z"
   },
   {
    "duration": 38,
    "start_time": "2023-07-09T19:25:25.956Z"
   },
   {
    "duration": 29,
    "start_time": "2023-07-09T19:25:25.996Z"
   },
   {
    "duration": 52,
    "start_time": "2023-07-09T19:25:26.027Z"
   },
   {
    "duration": 11,
    "start_time": "2023-07-09T19:25:26.081Z"
   },
   {
    "duration": 459,
    "start_time": "2023-07-09T19:25:26.093Z"
   },
   {
    "duration": 88,
    "start_time": "2023-07-09T19:25:26.553Z"
   },
   {
    "duration": 1571,
    "start_time": "2023-07-09T19:25:26.642Z"
   },
   {
    "duration": 14,
    "start_time": "2023-07-09T19:25:28.214Z"
   },
   {
    "duration": 66,
    "start_time": "2023-07-09T19:25:28.230Z"
   },
   {
    "duration": 26,
    "start_time": "2023-07-09T19:25:28.297Z"
   },
   {
    "duration": 28,
    "start_time": "2023-07-09T19:25:28.324Z"
   },
   {
    "duration": 179,
    "start_time": "2023-07-09T19:25:28.353Z"
   },
   {
    "duration": 293,
    "start_time": "2023-07-09T19:25:28.534Z"
   },
   {
    "duration": 3,
    "start_time": "2023-07-09T19:25:28.829Z"
   },
   {
    "duration": 88,
    "start_time": "2023-07-09T19:25:28.834Z"
   },
   {
    "duration": 132,
    "start_time": "2023-07-09T19:25:28.924Z"
   },
   {
    "duration": 11,
    "start_time": "2023-07-09T19:25:44.152Z"
   },
   {
    "duration": 1457,
    "start_time": "2023-07-09T19:26:58.864Z"
   },
   {
    "duration": 3,
    "start_time": "2023-07-09T19:27:00.323Z"
   },
   {
    "duration": 864,
    "start_time": "2023-07-09T19:27:00.327Z"
   },
   {
    "duration": 16,
    "start_time": "2023-07-09T19:27:01.193Z"
   },
   {
    "duration": 206,
    "start_time": "2023-07-09T19:27:01.211Z"
   },
   {
    "duration": 193,
    "start_time": "2023-07-09T19:27:01.419Z"
   },
   {
    "duration": 12,
    "start_time": "2023-07-09T19:27:01.614Z"
   },
   {
    "duration": 193,
    "start_time": "2023-07-09T19:27:01.627Z"
   },
   {
    "duration": 80,
    "start_time": "2023-07-09T19:27:01.822Z"
   },
   {
    "duration": 14,
    "start_time": "2023-07-09T19:27:01.904Z"
   },
   {
    "duration": 42,
    "start_time": "2023-07-09T19:27:01.919Z"
   },
   {
    "duration": 148,
    "start_time": "2023-07-09T19:27:01.962Z"
   },
   {
    "duration": 2504,
    "start_time": "2023-07-09T19:27:02.112Z"
   },
   {
    "duration": 3174,
    "start_time": "2023-07-09T19:27:04.619Z"
   },
   {
    "duration": 7,
    "start_time": "2023-07-09T19:27:07.795Z"
   },
   {
    "duration": 24,
    "start_time": "2023-07-09T19:27:07.803Z"
   },
   {
    "duration": 28,
    "start_time": "2023-07-09T19:27:07.828Z"
   },
   {
    "duration": 62,
    "start_time": "2023-07-09T19:27:07.857Z"
   },
   {
    "duration": 10,
    "start_time": "2023-07-09T19:27:07.921Z"
   },
   {
    "duration": 415,
    "start_time": "2023-07-09T19:27:07.932Z"
   },
   {
    "duration": 89,
    "start_time": "2023-07-09T19:27:08.349Z"
   },
   {
    "duration": 1452,
    "start_time": "2023-07-09T19:27:08.440Z"
   },
   {
    "duration": 16,
    "start_time": "2023-07-09T19:27:09.893Z"
   },
   {
    "duration": 78,
    "start_time": "2023-07-09T19:27:09.911Z"
   },
   {
    "duration": 28,
    "start_time": "2023-07-09T19:27:09.990Z"
   },
   {
    "duration": 29,
    "start_time": "2023-07-09T19:27:10.020Z"
   },
   {
    "duration": 178,
    "start_time": "2023-07-09T19:27:10.050Z"
   },
   {
    "duration": 309,
    "start_time": "2023-07-09T19:27:10.229Z"
   },
   {
    "duration": 3,
    "start_time": "2023-07-09T19:27:10.540Z"
   },
   {
    "duration": 83,
    "start_time": "2023-07-09T19:27:10.544Z"
   },
   {
    "duration": 160,
    "start_time": "2023-07-09T19:27:10.629Z"
   },
   {
    "duration": 11,
    "start_time": "2023-07-09T19:27:10.791Z"
   },
   {
    "duration": 122,
    "start_time": "2023-07-09T19:40:49.182Z"
   },
   {
    "duration": 1478,
    "start_time": "2023-07-09T19:40:58.025Z"
   },
   {
    "duration": 2,
    "start_time": "2023-07-09T19:40:59.505Z"
   },
   {
    "duration": 841,
    "start_time": "2023-07-09T19:40:59.509Z"
   },
   {
    "duration": 24,
    "start_time": "2023-07-09T19:41:00.352Z"
   },
   {
    "duration": 137,
    "start_time": "2023-07-09T19:41:00.378Z"
   },
   {
    "duration": 178,
    "start_time": "2023-07-09T19:41:00.517Z"
   },
   {
    "duration": 12,
    "start_time": "2023-07-09T19:41:00.697Z"
   },
   {
    "duration": 78,
    "start_time": "2023-07-09T19:41:00.711Z"
   },
   {
    "duration": 58,
    "start_time": "2023-07-09T19:41:00.791Z"
   },
   {
    "duration": 40,
    "start_time": "2023-07-09T19:41:00.852Z"
   },
   {
    "duration": 37,
    "start_time": "2023-07-09T19:41:00.894Z"
   },
   {
    "duration": 177,
    "start_time": "2023-07-09T19:41:00.933Z"
   },
   {
    "duration": 2381,
    "start_time": "2023-07-09T19:41:01.112Z"
   },
   {
    "duration": 3029,
    "start_time": "2023-07-09T19:41:03.495Z"
   },
   {
    "duration": 8,
    "start_time": "2023-07-09T19:41:06.527Z"
   },
   {
    "duration": 46,
    "start_time": "2023-07-09T19:41:06.537Z"
   },
   {
    "duration": 28,
    "start_time": "2023-07-09T19:41:06.585Z"
   },
   {
    "duration": 40,
    "start_time": "2023-07-09T19:41:06.615Z"
   },
   {
    "duration": 27,
    "start_time": "2023-07-09T19:41:06.657Z"
   },
   {
    "duration": 431,
    "start_time": "2023-07-09T19:41:06.685Z"
   },
   {
    "duration": 81,
    "start_time": "2023-07-09T19:41:07.117Z"
   },
   {
    "duration": 1471,
    "start_time": "2023-07-09T19:41:07.199Z"
   },
   {
    "duration": 16,
    "start_time": "2023-07-09T19:41:08.671Z"
   },
   {
    "duration": 57,
    "start_time": "2023-07-09T19:41:08.689Z"
   },
   {
    "duration": 48,
    "start_time": "2023-07-09T19:41:08.748Z"
   },
   {
    "duration": 29,
    "start_time": "2023-07-09T19:41:08.798Z"
   },
   {
    "duration": 165,
    "start_time": "2023-07-09T19:41:08.828Z"
   },
   {
    "duration": 342,
    "start_time": "2023-07-09T19:41:08.997Z"
   },
   {
    "duration": 4,
    "start_time": "2023-07-09T19:41:09.341Z"
   },
   {
    "duration": 77,
    "start_time": "2023-07-09T19:41:09.346Z"
   },
   {
    "duration": 140,
    "start_time": "2023-07-09T19:41:09.425Z"
   },
   {
    "duration": 16,
    "start_time": "2023-07-09T19:41:09.567Z"
   },
   {
    "duration": 619,
    "start_time": "2023-07-09T19:41:09.584Z"
   },
   {
    "duration": 3,
    "start_time": "2023-07-09T19:41:10.205Z"
   },
   {
    "duration": 737,
    "start_time": "2023-07-09T19:41:10.209Z"
   },
   {
    "duration": 0,
    "start_time": "2023-07-09T19:41:10.947Z"
   },
   {
    "duration": 0,
    "start_time": "2023-07-09T19:41:10.949Z"
   },
   {
    "duration": 0,
    "start_time": "2023-07-09T19:41:10.950Z"
   },
   {
    "duration": 0,
    "start_time": "2023-07-09T19:41:10.951Z"
   },
   {
    "duration": 0,
    "start_time": "2023-07-09T19:41:10.952Z"
   },
   {
    "duration": 0,
    "start_time": "2023-07-09T19:41:10.953Z"
   },
   {
    "duration": 0,
    "start_time": "2023-07-09T19:41:10.954Z"
   },
   {
    "duration": 0,
    "start_time": "2023-07-09T19:41:10.975Z"
   },
   {
    "duration": 0,
    "start_time": "2023-07-09T19:41:10.976Z"
   },
   {
    "duration": 0,
    "start_time": "2023-07-09T19:41:10.978Z"
   },
   {
    "duration": 0,
    "start_time": "2023-07-09T19:41:10.979Z"
   },
   {
    "duration": 0,
    "start_time": "2023-07-09T19:41:10.980Z"
   },
   {
    "duration": 1925,
    "start_time": "2023-07-09T19:45:03.594Z"
   },
   {
    "duration": 3,
    "start_time": "2023-07-09T19:45:05.521Z"
   },
   {
    "duration": 896,
    "start_time": "2023-07-09T19:45:05.526Z"
   },
   {
    "duration": 16,
    "start_time": "2023-07-09T19:45:06.424Z"
   },
   {
    "duration": 139,
    "start_time": "2023-07-09T19:45:06.442Z"
   },
   {
    "duration": 207,
    "start_time": "2023-07-09T19:45:06.582Z"
   },
   {
    "duration": 12,
    "start_time": "2023-07-09T19:45:06.791Z"
   },
   {
    "duration": 32,
    "start_time": "2023-07-09T19:45:06.804Z"
   },
   {
    "duration": 42,
    "start_time": "2023-07-09T19:45:06.838Z"
   },
   {
    "duration": 3,
    "start_time": "2023-07-09T19:45:06.884Z"
   },
   {
    "duration": 6,
    "start_time": "2023-07-09T19:45:06.888Z"
   },
   {
    "duration": 128,
    "start_time": "2023-07-09T19:45:06.896Z"
   },
   {
    "duration": 2221,
    "start_time": "2023-07-09T19:45:07.026Z"
   },
   {
    "duration": 2805,
    "start_time": "2023-07-09T19:45:09.249Z"
   },
   {
    "duration": 7,
    "start_time": "2023-07-09T19:45:12.056Z"
   },
   {
    "duration": 34,
    "start_time": "2023-07-09T19:45:12.065Z"
   },
   {
    "duration": 27,
    "start_time": "2023-07-09T19:45:12.100Z"
   },
   {
    "duration": 55,
    "start_time": "2023-07-09T19:45:12.129Z"
   },
   {
    "duration": 10,
    "start_time": "2023-07-09T19:45:12.185Z"
   },
   {
    "duration": 415,
    "start_time": "2023-07-09T19:45:12.197Z"
   },
   {
    "duration": 83,
    "start_time": "2023-07-09T19:45:12.613Z"
   },
   {
    "duration": 1541,
    "start_time": "2023-07-09T19:45:19.510Z"
   },
   {
    "duration": 3,
    "start_time": "2023-07-09T19:45:21.053Z"
   },
   {
    "duration": 772,
    "start_time": "2023-07-09T19:45:21.057Z"
   },
   {
    "duration": 16,
    "start_time": "2023-07-09T19:45:21.830Z"
   },
   {
    "duration": 142,
    "start_time": "2023-07-09T19:45:21.848Z"
   },
   {
    "duration": 213,
    "start_time": "2023-07-09T19:45:21.991Z"
   },
   {
    "duration": 11,
    "start_time": "2023-07-09T19:45:22.206Z"
   },
   {
    "duration": 30,
    "start_time": "2023-07-09T19:45:22.218Z"
   },
   {
    "duration": 34,
    "start_time": "2023-07-09T19:45:22.249Z"
   },
   {
    "duration": 4,
    "start_time": "2023-07-09T19:45:22.284Z"
   },
   {
    "duration": 6,
    "start_time": "2023-07-09T19:45:22.289Z"
   },
   {
    "duration": 119,
    "start_time": "2023-07-09T19:45:22.296Z"
   },
   {
    "duration": 2201,
    "start_time": "2023-07-09T19:45:22.417Z"
   },
   {
    "duration": 2828,
    "start_time": "2023-07-09T19:45:24.622Z"
   },
   {
    "duration": 7,
    "start_time": "2023-07-09T19:45:27.451Z"
   },
   {
    "duration": 22,
    "start_time": "2023-07-09T19:45:27.475Z"
   },
   {
    "duration": 32,
    "start_time": "2023-07-09T19:45:27.498Z"
   },
   {
    "duration": 60,
    "start_time": "2023-07-09T19:45:27.532Z"
   },
   {
    "duration": 11,
    "start_time": "2023-07-09T19:45:27.594Z"
   },
   {
    "duration": 418,
    "start_time": "2023-07-09T19:45:27.606Z"
   },
   {
    "duration": 87,
    "start_time": "2023-07-09T19:45:28.026Z"
   },
   {
    "duration": 1374,
    "start_time": "2023-07-09T19:45:28.115Z"
   },
   {
    "duration": 15,
    "start_time": "2023-07-09T19:45:29.490Z"
   },
   {
    "duration": 53,
    "start_time": "2023-07-09T19:45:29.507Z"
   },
   {
    "duration": 27,
    "start_time": "2023-07-09T19:45:29.574Z"
   },
   {
    "duration": 36,
    "start_time": "2023-07-09T19:45:29.603Z"
   },
   {
    "duration": 163,
    "start_time": "2023-07-09T19:45:29.641Z"
   },
   {
    "duration": 316,
    "start_time": "2023-07-09T19:45:29.805Z"
   },
   {
    "duration": 4,
    "start_time": "2023-07-09T19:45:30.122Z"
   },
   {
    "duration": 106,
    "start_time": "2023-07-09T19:45:30.129Z"
   },
   {
    "duration": 154,
    "start_time": "2023-07-09T19:45:30.237Z"
   },
   {
    "duration": 10,
    "start_time": "2023-07-09T19:45:30.392Z"
   },
   {
    "duration": 681,
    "start_time": "2023-07-09T19:45:30.404Z"
   },
   {
    "duration": 4,
    "start_time": "2023-07-09T19:45:31.087Z"
   },
   {
    "duration": 797,
    "start_time": "2023-07-09T19:45:31.092Z"
   },
   {
    "duration": 557,
    "start_time": "2023-07-09T19:46:01.451Z"
   },
   {
    "duration": 4,
    "start_time": "2023-07-09T20:02:39.088Z"
   },
   {
    "duration": 6,
    "start_time": "2023-07-09T20:02:39.094Z"
   },
   {
    "duration": 717,
    "start_time": "2023-07-09T20:02:39.101Z"
   },
   {
    "duration": 13,
    "start_time": "2023-07-09T20:02:39.820Z"
   },
   {
    "duration": 130,
    "start_time": "2023-07-09T20:02:39.834Z"
   },
   {
    "duration": 158,
    "start_time": "2023-07-09T20:02:39.965Z"
   },
   {
    "duration": 11,
    "start_time": "2023-07-09T20:02:40.124Z"
   },
   {
    "duration": 44,
    "start_time": "2023-07-09T20:02:40.137Z"
   },
   {
    "duration": 54,
    "start_time": "2023-07-09T20:02:40.183Z"
   },
   {
    "duration": 26,
    "start_time": "2023-07-09T20:02:40.239Z"
   },
   {
    "duration": 32,
    "start_time": "2023-07-09T20:02:40.267Z"
   },
   {
    "duration": 110,
    "start_time": "2023-07-09T20:02:40.301Z"
   },
   {
    "duration": 2145,
    "start_time": "2023-07-09T20:02:40.413Z"
   },
   {
    "duration": 2772,
    "start_time": "2023-07-09T20:02:42.559Z"
   },
   {
    "duration": 7,
    "start_time": "2023-07-09T20:02:45.333Z"
   },
   {
    "duration": 41,
    "start_time": "2023-07-09T20:02:45.341Z"
   },
   {
    "duration": 28,
    "start_time": "2023-07-09T20:02:45.385Z"
   },
   {
    "duration": 41,
    "start_time": "2023-07-09T20:02:45.415Z"
   },
   {
    "duration": 25,
    "start_time": "2023-07-09T20:02:45.458Z"
   },
   {
    "duration": 405,
    "start_time": "2023-07-09T20:02:45.485Z"
   },
   {
    "duration": 91,
    "start_time": "2023-07-09T20:02:45.892Z"
   },
   {
    "duration": 1598,
    "start_time": "2023-07-09T20:02:45.985Z"
   },
   {
    "duration": 14,
    "start_time": "2023-07-09T20:02:47.585Z"
   },
   {
    "duration": 47,
    "start_time": "2023-07-09T20:02:47.602Z"
   },
   {
    "duration": 43,
    "start_time": "2023-07-09T20:02:47.651Z"
   },
   {
    "duration": 21,
    "start_time": "2023-07-09T20:02:47.696Z"
   },
   {
    "duration": 161,
    "start_time": "2023-07-09T20:02:47.719Z"
   },
   {
    "duration": 301,
    "start_time": "2023-07-09T20:02:47.882Z"
   },
   {
    "duration": 3,
    "start_time": "2023-07-09T20:02:48.185Z"
   },
   {
    "duration": 75,
    "start_time": "2023-07-09T20:02:48.189Z"
   },
   {
    "duration": 140,
    "start_time": "2023-07-09T20:02:48.266Z"
   },
   {
    "duration": 10,
    "start_time": "2023-07-09T20:02:48.408Z"
   },
   {
    "duration": 570,
    "start_time": "2023-07-09T20:02:48.420Z"
   },
   {
    "duration": 3,
    "start_time": "2023-07-09T20:02:48.993Z"
   },
   {
    "duration": 614,
    "start_time": "2023-07-09T20:02:48.998Z"
   },
   {
    "duration": 3,
    "start_time": "2023-07-09T20:02:49.614Z"
   },
   {
    "duration": 150,
    "start_time": "2023-07-09T20:02:49.619Z"
   },
   {
    "duration": 21507,
    "start_time": "2023-07-09T20:02:49.775Z"
   },
   {
    "duration": 6,
    "start_time": "2023-07-09T20:03:11.284Z"
   },
   {
    "duration": 1409,
    "start_time": "2023-07-09T20:08:34.895Z"
   },
   {
    "duration": 3,
    "start_time": "2023-07-09T20:08:36.307Z"
   },
   {
    "duration": 1150,
    "start_time": "2023-07-09T20:08:36.312Z"
   },
   {
    "duration": 16,
    "start_time": "2023-07-09T20:08:37.464Z"
   },
   {
    "duration": 129,
    "start_time": "2023-07-09T20:08:37.482Z"
   },
   {
    "duration": 211,
    "start_time": "2023-07-09T20:08:37.613Z"
   },
   {
    "duration": 11,
    "start_time": "2023-07-09T20:08:37.826Z"
   },
   {
    "duration": 40,
    "start_time": "2023-07-09T20:08:37.839Z"
   },
   {
    "duration": 22,
    "start_time": "2023-07-09T20:08:37.881Z"
   },
   {
    "duration": 2,
    "start_time": "2023-07-09T20:08:37.904Z"
   },
   {
    "duration": 9,
    "start_time": "2023-07-09T20:08:37.908Z"
   },
   {
    "duration": 120,
    "start_time": "2023-07-09T20:08:37.919Z"
   },
   {
    "duration": 2293,
    "start_time": "2023-07-09T20:08:38.041Z"
   },
   {
    "duration": 2805,
    "start_time": "2023-07-09T20:08:40.337Z"
   },
   {
    "duration": 7,
    "start_time": "2023-07-09T20:08:43.143Z"
   },
   {
    "duration": 36,
    "start_time": "2023-07-09T20:08:43.151Z"
   },
   {
    "duration": 27,
    "start_time": "2023-07-09T20:08:43.189Z"
   },
   {
    "duration": 41,
    "start_time": "2023-07-09T20:08:43.218Z"
   },
   {
    "duration": 23,
    "start_time": "2023-07-09T20:08:43.260Z"
   },
   {
    "duration": 409,
    "start_time": "2023-07-09T20:08:43.285Z"
   },
   {
    "duration": 86,
    "start_time": "2023-07-09T20:08:43.695Z"
   },
   {
    "duration": 1451,
    "start_time": "2023-07-09T20:08:43.782Z"
   },
   {
    "duration": 14,
    "start_time": "2023-07-09T20:08:45.235Z"
   },
   {
    "duration": 68,
    "start_time": "2023-07-09T20:08:45.251Z"
   },
   {
    "duration": 26,
    "start_time": "2023-07-09T20:08:45.320Z"
   },
   {
    "duration": 44,
    "start_time": "2023-07-09T20:08:45.348Z"
   },
   {
    "duration": 160,
    "start_time": "2023-07-09T20:08:45.393Z"
   },
   {
    "duration": 287,
    "start_time": "2023-07-09T20:08:45.554Z"
   },
   {
    "duration": 4,
    "start_time": "2023-07-09T20:08:45.843Z"
   },
   {
    "duration": 77,
    "start_time": "2023-07-09T20:08:45.848Z"
   },
   {
    "duration": 136,
    "start_time": "2023-07-09T20:08:45.926Z"
   },
   {
    "duration": 14,
    "start_time": "2023-07-09T20:08:46.064Z"
   },
   {
    "duration": 609,
    "start_time": "2023-07-09T20:08:46.079Z"
   },
   {
    "duration": 2,
    "start_time": "2023-07-09T20:08:46.690Z"
   },
   {
    "duration": 622,
    "start_time": "2023-07-09T20:08:46.694Z"
   },
   {
    "duration": 3,
    "start_time": "2023-07-09T20:08:47.317Z"
   },
   {
    "duration": 149,
    "start_time": "2023-07-09T20:08:47.321Z"
   },
   {
    "duration": 16206,
    "start_time": "2023-07-09T20:08:47.471Z"
   },
   {
    "duration": 97,
    "start_time": "2023-07-09T20:09:03.679Z"
   },
   {
    "duration": 330873,
    "start_time": "2023-07-09T20:09:03.778Z"
   },
   {
    "duration": 1447,
    "start_time": "2023-07-09T20:18:08.142Z"
   },
   {
    "duration": 2,
    "start_time": "2023-07-09T20:18:09.591Z"
   },
   {
    "duration": 1043,
    "start_time": "2023-07-09T20:18:09.595Z"
   },
   {
    "duration": 15,
    "start_time": "2023-07-09T20:18:10.640Z"
   },
   {
    "duration": 122,
    "start_time": "2023-07-09T20:18:10.657Z"
   },
   {
    "duration": 202,
    "start_time": "2023-07-09T20:18:10.781Z"
   },
   {
    "duration": 11,
    "start_time": "2023-07-09T20:18:10.985Z"
   },
   {
    "duration": 38,
    "start_time": "2023-07-09T20:18:10.998Z"
   },
   {
    "duration": 18,
    "start_time": "2023-07-09T20:18:11.038Z"
   },
   {
    "duration": 3,
    "start_time": "2023-07-09T20:18:11.057Z"
   },
   {
    "duration": 2,
    "start_time": "2023-07-09T20:18:11.076Z"
   },
   {
    "duration": 128,
    "start_time": "2023-07-09T20:18:11.079Z"
   },
   {
    "duration": 2211,
    "start_time": "2023-07-09T20:18:11.209Z"
   },
   {
    "duration": 2773,
    "start_time": "2023-07-09T20:18:13.422Z"
   },
   {
    "duration": 7,
    "start_time": "2023-07-09T20:18:16.197Z"
   },
   {
    "duration": 25,
    "start_time": "2023-07-09T20:18:16.205Z"
   },
   {
    "duration": 46,
    "start_time": "2023-07-09T20:18:16.232Z"
   },
   {
    "duration": 39,
    "start_time": "2023-07-09T20:18:16.280Z"
   },
   {
    "duration": 11,
    "start_time": "2023-07-09T20:18:16.320Z"
   },
   {
    "duration": 460,
    "start_time": "2023-07-09T20:18:16.332Z"
   },
   {
    "duration": 84,
    "start_time": "2023-07-09T20:18:16.794Z"
   },
   {
    "duration": 1372,
    "start_time": "2023-07-09T20:18:16.880Z"
   },
   {
    "duration": 24,
    "start_time": "2023-07-09T20:18:18.253Z"
   },
   {
    "duration": 52,
    "start_time": "2023-07-09T20:18:18.278Z"
   },
   {
    "duration": 26,
    "start_time": "2023-07-09T20:18:18.331Z"
   },
   {
    "duration": 27,
    "start_time": "2023-07-09T20:18:18.374Z"
   },
   {
    "duration": 155,
    "start_time": "2023-07-09T20:18:18.403Z"
   },
   {
    "duration": 296,
    "start_time": "2023-07-09T20:18:18.559Z"
   },
   {
    "duration": 4,
    "start_time": "2023-07-09T20:18:18.856Z"
   },
   {
    "duration": 68,
    "start_time": "2023-07-09T20:18:18.861Z"
   },
   {
    "duration": 155,
    "start_time": "2023-07-09T20:18:18.931Z"
   },
   {
    "duration": 10,
    "start_time": "2023-07-09T20:18:19.088Z"
   },
   {
    "duration": 556,
    "start_time": "2023-07-09T20:18:19.100Z"
   },
   {
    "duration": 3,
    "start_time": "2023-07-09T20:18:19.657Z"
   },
   {
    "duration": 617,
    "start_time": "2023-07-09T20:18:19.662Z"
   },
   {
    "duration": 2,
    "start_time": "2023-07-09T20:18:20.280Z"
   },
   {
    "duration": 169,
    "start_time": "2023-07-09T20:18:20.284Z"
   },
   {
    "duration": 16044,
    "start_time": "2023-07-09T20:18:20.455Z"
   },
   {
    "duration": 7,
    "start_time": "2023-07-09T20:18:36.577Z"
   },
   {
    "duration": 341617,
    "start_time": "2023-07-09T20:18:36.676Z"
   },
   {
    "duration": 1446,
    "start_time": "2023-07-09T20:25:29.820Z"
   },
   {
    "duration": 2,
    "start_time": "2023-07-09T20:25:31.268Z"
   },
   {
    "duration": 1061,
    "start_time": "2023-07-09T20:25:31.271Z"
   },
   {
    "duration": 16,
    "start_time": "2023-07-09T20:25:32.334Z"
   },
   {
    "duration": 131,
    "start_time": "2023-07-09T20:25:32.352Z"
   },
   {
    "duration": 199,
    "start_time": "2023-07-09T20:25:32.486Z"
   },
   {
    "duration": 12,
    "start_time": "2023-07-09T20:25:32.687Z"
   },
   {
    "duration": 31,
    "start_time": "2023-07-09T20:25:32.700Z"
   },
   {
    "duration": 18,
    "start_time": "2023-07-09T20:25:32.733Z"
   },
   {
    "duration": 7,
    "start_time": "2023-07-09T20:25:32.752Z"
   },
   {
    "duration": 2,
    "start_time": "2023-07-09T20:25:32.776Z"
   },
   {
    "duration": 113,
    "start_time": "2023-07-09T20:25:32.779Z"
   },
   {
    "duration": 2328,
    "start_time": "2023-07-09T20:25:32.894Z"
   },
   {
    "duration": 2950,
    "start_time": "2023-07-09T20:25:35.225Z"
   },
   {
    "duration": 7,
    "start_time": "2023-07-09T20:25:38.176Z"
   },
   {
    "duration": 25,
    "start_time": "2023-07-09T20:25:38.185Z"
   },
   {
    "duration": 37,
    "start_time": "2023-07-09T20:25:38.212Z"
   },
   {
    "duration": 43,
    "start_time": "2023-07-09T20:25:38.276Z"
   },
   {
    "duration": 11,
    "start_time": "2023-07-09T20:25:38.320Z"
   },
   {
    "duration": 438,
    "start_time": "2023-07-09T20:25:38.333Z"
   },
   {
    "duration": 83,
    "start_time": "2023-07-09T20:25:38.774Z"
   },
   {
    "duration": 1381,
    "start_time": "2023-07-09T20:25:38.874Z"
   },
   {
    "duration": 26,
    "start_time": "2023-07-09T20:25:40.257Z"
   },
   {
    "duration": 53,
    "start_time": "2023-07-09T20:25:40.285Z"
   },
   {
    "duration": 52,
    "start_time": "2023-07-09T20:25:40.340Z"
   },
   {
    "duration": 28,
    "start_time": "2023-07-09T20:25:40.393Z"
   },
   {
    "duration": 153,
    "start_time": "2023-07-09T20:25:40.423Z"
   },
   {
    "duration": 290,
    "start_time": "2023-07-09T20:25:40.578Z"
   },
   {
    "duration": 4,
    "start_time": "2023-07-09T20:25:40.874Z"
   },
   {
    "duration": 69,
    "start_time": "2023-07-09T20:25:40.880Z"
   },
   {
    "duration": 149,
    "start_time": "2023-07-09T20:25:40.951Z"
   },
   {
    "duration": 10,
    "start_time": "2023-07-09T20:25:41.102Z"
   },
   {
    "duration": 551,
    "start_time": "2023-07-09T20:25:41.113Z"
   },
   {
    "duration": 9,
    "start_time": "2023-07-09T20:25:41.666Z"
   },
   {
    "duration": 618,
    "start_time": "2023-07-09T20:25:41.677Z"
   },
   {
    "duration": 3,
    "start_time": "2023-07-09T20:25:42.296Z"
   },
   {
    "duration": 148,
    "start_time": "2023-07-09T20:25:42.301Z"
   },
   {
    "duration": 15131,
    "start_time": "2023-07-09T20:25:42.450Z"
   },
   {
    "duration": 96,
    "start_time": "2023-07-09T20:25:57.584Z"
   },
   {
    "duration": 336895,
    "start_time": "2023-07-09T20:25:57.682Z"
   },
   {
    "duration": 1480,
    "start_time": "2023-07-09T20:42:46.518Z"
   },
   {
    "duration": 3,
    "start_time": "2023-07-09T20:42:48.000Z"
   },
   {
    "duration": 1063,
    "start_time": "2023-07-09T20:42:48.004Z"
   },
   {
    "duration": 29,
    "start_time": "2023-07-09T20:42:49.069Z"
   },
   {
    "duration": 150,
    "start_time": "2023-07-09T20:42:49.101Z"
   },
   {
    "duration": 214,
    "start_time": "2023-07-09T20:42:49.252Z"
   },
   {
    "duration": 24,
    "start_time": "2023-07-09T20:42:49.467Z"
   },
   {
    "duration": 34,
    "start_time": "2023-07-09T20:42:49.494Z"
   },
   {
    "duration": 16,
    "start_time": "2023-07-09T20:42:49.529Z"
   },
   {
    "duration": 9,
    "start_time": "2023-07-09T20:42:49.549Z"
   },
   {
    "duration": 32,
    "start_time": "2023-07-09T20:42:49.559Z"
   },
   {
    "duration": 162,
    "start_time": "2023-07-09T20:42:49.594Z"
   },
   {
    "duration": 2398,
    "start_time": "2023-07-09T20:42:49.758Z"
   },
   {
    "duration": 2993,
    "start_time": "2023-07-09T20:42:52.158Z"
   },
   {
    "duration": 6,
    "start_time": "2023-07-09T20:42:55.153Z"
   },
   {
    "duration": 44,
    "start_time": "2023-07-09T20:42:55.161Z"
   },
   {
    "duration": 30,
    "start_time": "2023-07-09T20:42:55.206Z"
   },
   {
    "duration": 68,
    "start_time": "2023-07-09T20:42:55.238Z"
   },
   {
    "duration": 10,
    "start_time": "2023-07-09T20:42:55.307Z"
   },
   {
    "duration": 449,
    "start_time": "2023-07-09T20:42:55.319Z"
   },
   {
    "duration": 91,
    "start_time": "2023-07-09T20:42:55.770Z"
   },
   {
    "duration": 1674,
    "start_time": "2023-07-09T20:42:55.863Z"
   },
   {
    "duration": 14,
    "start_time": "2023-07-09T20:42:57.538Z"
   },
   {
    "duration": 79,
    "start_time": "2023-07-09T20:42:57.554Z"
   },
   {
    "duration": 25,
    "start_time": "2023-07-09T20:42:57.635Z"
   },
   {
    "duration": 47,
    "start_time": "2023-07-09T20:42:57.661Z"
   },
   {
    "duration": 176,
    "start_time": "2023-07-09T20:42:57.709Z"
   },
   {
    "duration": 357,
    "start_time": "2023-07-09T20:42:57.889Z"
   },
   {
    "duration": 4,
    "start_time": "2023-07-09T20:42:58.248Z"
   },
   {
    "duration": 102,
    "start_time": "2023-07-09T20:42:58.253Z"
   },
   {
    "duration": 169,
    "start_time": "2023-07-09T20:42:58.356Z"
   },
   {
    "duration": 9,
    "start_time": "2023-07-09T20:42:58.527Z"
   },
   {
    "duration": 634,
    "start_time": "2023-07-09T20:42:58.537Z"
   },
   {
    "duration": 3,
    "start_time": "2023-07-09T20:42:59.173Z"
   },
   {
    "duration": 684,
    "start_time": "2023-07-09T20:42:59.178Z"
   },
   {
    "duration": 2,
    "start_time": "2023-07-09T20:42:59.865Z"
   },
   {
    "duration": 195,
    "start_time": "2023-07-09T20:42:59.875Z"
   },
   {
    "duration": 44309,
    "start_time": "2023-07-09T20:43:00.072Z"
   },
   {
    "duration": 94,
    "start_time": "2023-07-09T20:43:44.388Z"
   },
   {
    "duration": 355217,
    "start_time": "2023-07-09T20:43:44.485Z"
   },
   {
    "duration": 297,
    "start_time": "2023-07-09T20:49:50.062Z"
   },
   {
    "duration": 1483,
    "start_time": "2023-07-09T20:50:24.828Z"
   },
   {
    "duration": 3,
    "start_time": "2023-07-09T20:50:26.314Z"
   },
   {
    "duration": 1199,
    "start_time": "2023-07-09T20:50:26.319Z"
   },
   {
    "duration": 16,
    "start_time": "2023-07-09T20:50:27.520Z"
   },
   {
    "duration": 152,
    "start_time": "2023-07-09T20:50:27.537Z"
   },
   {
    "duration": 233,
    "start_time": "2023-07-09T20:50:27.692Z"
   },
   {
    "duration": 10,
    "start_time": "2023-07-09T20:50:27.927Z"
   },
   {
    "duration": 50,
    "start_time": "2023-07-09T20:50:27.938Z"
   },
   {
    "duration": 21,
    "start_time": "2023-07-09T20:50:27.990Z"
   },
   {
    "duration": 2,
    "start_time": "2023-07-09T20:50:28.014Z"
   },
   {
    "duration": 8,
    "start_time": "2023-07-09T20:50:28.018Z"
   },
   {
    "duration": 129,
    "start_time": "2023-07-09T20:50:28.027Z"
   },
   {
    "duration": 2375,
    "start_time": "2023-07-09T20:50:28.158Z"
   },
   {
    "duration": 3260,
    "start_time": "2023-07-09T20:50:30.535Z"
   },
   {
    "duration": 10,
    "start_time": "2023-07-09T20:50:33.797Z"
   },
   {
    "duration": 27,
    "start_time": "2023-07-09T20:50:33.808Z"
   },
   {
    "duration": 69,
    "start_time": "2023-07-09T20:50:33.837Z"
   },
   {
    "duration": 47,
    "start_time": "2023-07-09T20:50:33.909Z"
   },
   {
    "duration": 34,
    "start_time": "2023-07-09T20:50:33.957Z"
   },
   {
    "duration": 482,
    "start_time": "2023-07-09T20:50:33.993Z"
   },
   {
    "duration": 80,
    "start_time": "2023-07-09T20:50:34.476Z"
   },
   {
    "duration": 1526,
    "start_time": "2023-07-09T20:50:34.557Z"
   },
   {
    "duration": 19,
    "start_time": "2023-07-09T20:50:36.085Z"
   },
   {
    "duration": 56,
    "start_time": "2023-07-09T20:50:36.106Z"
   },
   {
    "duration": 47,
    "start_time": "2023-07-09T20:50:36.163Z"
   },
   {
    "duration": 26,
    "start_time": "2023-07-09T20:50:36.211Z"
   },
   {
    "duration": 222,
    "start_time": "2023-07-09T20:50:36.239Z"
   },
   {
    "duration": 345,
    "start_time": "2023-07-09T20:50:36.465Z"
   },
   {
    "duration": 5,
    "start_time": "2023-07-09T20:50:36.811Z"
   },
   {
    "duration": 86,
    "start_time": "2023-07-09T20:50:36.817Z"
   },
   {
    "duration": 162,
    "start_time": "2023-07-09T20:50:36.904Z"
   },
   {
    "duration": 24,
    "start_time": "2023-07-09T20:50:37.068Z"
   },
   {
    "duration": 581,
    "start_time": "2023-07-09T20:50:37.094Z"
   },
   {
    "duration": 3,
    "start_time": "2023-07-09T20:50:37.677Z"
   },
   {
    "duration": 623,
    "start_time": "2023-07-09T20:50:37.681Z"
   },
   {
    "duration": 3,
    "start_time": "2023-07-09T20:50:38.306Z"
   },
   {
    "duration": 166,
    "start_time": "2023-07-09T20:50:38.311Z"
   },
   {
    "duration": 47905,
    "start_time": "2023-07-09T20:50:38.480Z"
   },
   {
    "duration": 99,
    "start_time": "2023-07-09T20:51:26.387Z"
   },
   {
    "duration": 19,
    "start_time": "2023-07-09T20:51:26.488Z"
   },
   {
    "duration": 67,
    "start_time": "2023-07-09T20:51:26.509Z"
   },
   {
    "duration": 9,
    "start_time": "2023-07-09T20:51:26.579Z"
   },
   {
    "duration": 221782,
    "start_time": "2023-07-09T20:51:26.591Z"
   },
   {
    "duration": 28377,
    "start_time": "2023-07-09T20:55:08.375Z"
   },
   {
    "duration": 155,
    "start_time": "2023-07-09T20:55:36.754Z"
   },
   {
    "duration": 143,
    "start_time": "2023-07-09T20:55:36.910Z"
   },
   {
    "duration": 154,
    "start_time": "2023-07-09T20:55:37.055Z"
   },
   {
    "duration": 1556,
    "start_time": "2023-07-09T20:57:05.156Z"
   },
   {
    "duration": 3,
    "start_time": "2023-07-09T20:57:06.714Z"
   },
   {
    "duration": 934,
    "start_time": "2023-07-09T20:57:06.719Z"
   },
   {
    "duration": 27,
    "start_time": "2023-07-09T20:57:07.655Z"
   },
   {
    "duration": 151,
    "start_time": "2023-07-09T20:57:07.685Z"
   },
   {
    "duration": 253,
    "start_time": "2023-07-09T20:57:07.838Z"
   },
   {
    "duration": 14,
    "start_time": "2023-07-09T20:57:08.093Z"
   },
   {
    "duration": 32,
    "start_time": "2023-07-09T20:57:08.108Z"
   },
   {
    "duration": 48,
    "start_time": "2023-07-09T20:57:08.141Z"
   },
   {
    "duration": 4,
    "start_time": "2023-07-09T20:57:08.191Z"
   },
   {
    "duration": 8,
    "start_time": "2023-07-09T20:57:08.197Z"
   },
   {
    "duration": 124,
    "start_time": "2023-07-09T20:57:08.207Z"
   },
   {
    "duration": 2546,
    "start_time": "2023-07-09T20:57:08.333Z"
   },
   {
    "duration": 3208,
    "start_time": "2023-07-09T20:57:10.883Z"
   },
   {
    "duration": 9,
    "start_time": "2023-07-09T20:57:14.095Z"
   },
   {
    "duration": 29,
    "start_time": "2023-07-09T20:57:14.105Z"
   },
   {
    "duration": 65,
    "start_time": "2023-07-09T20:57:14.135Z"
   },
   {
    "duration": 40,
    "start_time": "2023-07-09T20:57:14.202Z"
   },
   {
    "duration": 10,
    "start_time": "2023-07-09T20:57:14.243Z"
   },
   {
    "duration": 478,
    "start_time": "2023-07-09T20:57:14.255Z"
   },
   {
    "duration": 85,
    "start_time": "2023-07-09T20:57:14.735Z"
   },
   {
    "duration": 1558,
    "start_time": "2023-07-09T20:57:14.822Z"
   },
   {
    "duration": 20,
    "start_time": "2023-07-09T20:57:16.382Z"
   },
   {
    "duration": 82,
    "start_time": "2023-07-09T20:57:16.404Z"
   },
   {
    "duration": 33,
    "start_time": "2023-07-09T20:57:16.493Z"
   },
   {
    "duration": 33,
    "start_time": "2023-07-09T20:57:16.528Z"
   },
   {
    "duration": 192,
    "start_time": "2023-07-09T20:57:16.564Z"
   },
   {
    "duration": 332,
    "start_time": "2023-07-09T20:57:16.759Z"
   },
   {
    "duration": 5,
    "start_time": "2023-07-09T20:57:17.094Z"
   },
   {
    "duration": 82,
    "start_time": "2023-07-09T20:57:17.101Z"
   },
   {
    "duration": 204,
    "start_time": "2023-07-09T20:57:17.186Z"
   },
   {
    "duration": 14,
    "start_time": "2023-07-09T20:57:17.393Z"
   },
   {
    "duration": 614,
    "start_time": "2023-07-09T20:57:17.409Z"
   },
   {
    "duration": 2,
    "start_time": "2023-07-09T20:57:18.025Z"
   },
   {
    "duration": 627,
    "start_time": "2023-07-09T20:57:18.029Z"
   },
   {
    "duration": 3,
    "start_time": "2023-07-09T20:57:18.658Z"
   },
   {
    "duration": 160,
    "start_time": "2023-07-09T20:57:18.662Z"
   },
   {
    "duration": 48055,
    "start_time": "2023-07-09T20:57:18.824Z"
   },
   {
    "duration": 6,
    "start_time": "2023-07-09T20:58:06.882Z"
   },
   {
    "duration": 87,
    "start_time": "2023-07-09T20:58:06.890Z"
   },
   {
    "duration": 19805,
    "start_time": "2023-07-09T20:58:06.983Z"
   },
   {
    "duration": 4,
    "start_time": "2023-07-09T20:58:26.789Z"
   },
   {
    "duration": 0,
    "start_time": "2023-07-09T20:58:26.794Z"
   },
   {
    "duration": 0,
    "start_time": "2023-07-09T20:58:26.795Z"
   },
   {
    "duration": 0,
    "start_time": "2023-07-09T20:58:26.796Z"
   },
   {
    "duration": 0,
    "start_time": "2023-07-09T20:58:26.797Z"
   },
   {
    "duration": 0,
    "start_time": "2023-07-09T20:58:26.798Z"
   },
   {
    "duration": 1513,
    "start_time": "2023-07-09T20:59:20.065Z"
   },
   {
    "duration": 3,
    "start_time": "2023-07-09T20:59:21.580Z"
   },
   {
    "duration": 784,
    "start_time": "2023-07-09T20:59:21.584Z"
   },
   {
    "duration": 19,
    "start_time": "2023-07-09T20:59:22.370Z"
   },
   {
    "duration": 141,
    "start_time": "2023-07-09T20:59:22.391Z"
   },
   {
    "duration": 200,
    "start_time": "2023-07-09T20:59:22.534Z"
   },
   {
    "duration": 11,
    "start_time": "2023-07-09T20:59:22.736Z"
   },
   {
    "duration": 43,
    "start_time": "2023-07-09T20:59:22.748Z"
   },
   {
    "duration": 19,
    "start_time": "2023-07-09T20:59:22.792Z"
   },
   {
    "duration": 2,
    "start_time": "2023-07-09T20:59:22.812Z"
   },
   {
    "duration": 6,
    "start_time": "2023-07-09T20:59:22.815Z"
   },
   {
    "duration": 117,
    "start_time": "2023-07-09T20:59:22.822Z"
   },
   {
    "duration": 2205,
    "start_time": "2023-07-09T20:59:22.941Z"
   },
   {
    "duration": 2849,
    "start_time": "2023-07-09T20:59:25.150Z"
   },
   {
    "duration": 7,
    "start_time": "2023-07-09T20:59:28.000Z"
   },
   {
    "duration": 28,
    "start_time": "2023-07-09T20:59:28.009Z"
   },
   {
    "duration": 49,
    "start_time": "2023-07-09T20:59:28.039Z"
   },
   {
    "duration": 41,
    "start_time": "2023-07-09T20:59:28.090Z"
   },
   {
    "duration": 11,
    "start_time": "2023-07-09T20:59:28.133Z"
   },
   {
    "duration": 418,
    "start_time": "2023-07-09T20:59:28.145Z"
   },
   {
    "duration": 79,
    "start_time": "2023-07-09T20:59:28.565Z"
   },
   {
    "duration": 1397,
    "start_time": "2023-07-09T20:59:28.645Z"
   },
   {
    "duration": 32,
    "start_time": "2023-07-09T20:59:30.043Z"
   },
   {
    "duration": 61,
    "start_time": "2023-07-09T20:59:30.077Z"
   },
   {
    "duration": 55,
    "start_time": "2023-07-09T20:59:30.140Z"
   },
   {
    "duration": 39,
    "start_time": "2023-07-09T20:59:30.198Z"
   },
   {
    "duration": 169,
    "start_time": "2023-07-09T20:59:30.239Z"
   },
   {
    "duration": 300,
    "start_time": "2023-07-09T20:59:30.409Z"
   },
   {
    "duration": 4,
    "start_time": "2023-07-09T20:59:30.711Z"
   },
   {
    "duration": 143,
    "start_time": "2023-07-09T20:59:30.717Z"
   },
   {
    "duration": 202,
    "start_time": "2023-07-09T20:59:30.861Z"
   },
   {
    "duration": 14,
    "start_time": "2023-07-09T20:59:31.065Z"
   },
   {
    "duration": 643,
    "start_time": "2023-07-09T20:59:31.081Z"
   },
   {
    "duration": 2,
    "start_time": "2023-07-09T20:59:31.726Z"
   },
   {
    "duration": 642,
    "start_time": "2023-07-09T20:59:31.730Z"
   },
   {
    "duration": 3,
    "start_time": "2023-07-09T20:59:32.376Z"
   },
   {
    "duration": 221,
    "start_time": "2023-07-09T20:59:32.381Z"
   },
   {
    "duration": 19075,
    "start_time": "2023-07-09T20:59:32.603Z"
   },
   {
    "duration": 96,
    "start_time": "2023-07-09T20:59:51.682Z"
   },
   {
    "duration": 19,
    "start_time": "2023-07-09T20:59:51.780Z"
   },
   {
    "duration": 44486,
    "start_time": "2023-07-09T20:59:51.804Z"
   },
   {
    "duration": 6,
    "start_time": "2023-07-09T21:00:36.292Z"
   },
   {
    "duration": 1477,
    "start_time": "2023-07-09T21:01:49.895Z"
   },
   {
    "duration": 3,
    "start_time": "2023-07-09T21:01:51.374Z"
   },
   {
    "duration": 788,
    "start_time": "2023-07-09T21:01:51.379Z"
   },
   {
    "duration": 20,
    "start_time": "2023-07-09T21:01:52.168Z"
   },
   {
    "duration": 136,
    "start_time": "2023-07-09T21:01:52.190Z"
   },
   {
    "duration": 210,
    "start_time": "2023-07-09T21:01:52.328Z"
   },
   {
    "duration": 11,
    "start_time": "2023-07-09T21:01:52.540Z"
   },
   {
    "duration": 43,
    "start_time": "2023-07-09T21:01:52.552Z"
   },
   {
    "duration": 18,
    "start_time": "2023-07-09T21:01:52.597Z"
   },
   {
    "duration": 2,
    "start_time": "2023-07-09T21:01:52.617Z"
   },
   {
    "duration": 5,
    "start_time": "2023-07-09T21:01:52.620Z"
   },
   {
    "duration": 132,
    "start_time": "2023-07-09T21:01:52.626Z"
   },
   {
    "duration": 1401,
    "start_time": "2023-07-09T21:01:55.400Z"
   },
   {
    "duration": 3,
    "start_time": "2023-07-09T21:01:56.803Z"
   },
   {
    "duration": 802,
    "start_time": "2023-07-09T21:01:56.808Z"
   },
   {
    "duration": 16,
    "start_time": "2023-07-09T21:01:57.612Z"
   },
   {
    "duration": 135,
    "start_time": "2023-07-09T21:01:57.630Z"
   },
   {
    "duration": 200,
    "start_time": "2023-07-09T21:01:57.767Z"
   },
   {
    "duration": 17,
    "start_time": "2023-07-09T21:01:57.969Z"
   },
   {
    "duration": 35,
    "start_time": "2023-07-09T21:01:57.987Z"
   },
   {
    "duration": 34,
    "start_time": "2023-07-09T21:01:58.024Z"
   },
   {
    "duration": 7,
    "start_time": "2023-07-09T21:01:58.060Z"
   },
   {
    "duration": 5,
    "start_time": "2023-07-09T21:01:58.069Z"
   },
   {
    "duration": 108,
    "start_time": "2023-07-09T21:01:58.075Z"
   },
   {
    "duration": 2239,
    "start_time": "2023-07-09T21:01:58.185Z"
   },
   {
    "duration": 3177,
    "start_time": "2023-07-09T21:02:00.427Z"
   },
   {
    "duration": 8,
    "start_time": "2023-07-09T21:02:03.606Z"
   },
   {
    "duration": 28,
    "start_time": "2023-07-09T21:02:03.616Z"
   },
   {
    "duration": 52,
    "start_time": "2023-07-09T21:02:03.646Z"
   },
   {
    "duration": 46,
    "start_time": "2023-07-09T21:02:03.700Z"
   },
   {
    "duration": 30,
    "start_time": "2023-07-09T21:02:03.748Z"
   },
   {
    "duration": 495,
    "start_time": "2023-07-09T21:02:03.780Z"
   },
   {
    "duration": 84,
    "start_time": "2023-07-09T21:02:04.277Z"
   },
   {
    "duration": 1580,
    "start_time": "2023-07-09T21:02:04.363Z"
   },
   {
    "duration": 15,
    "start_time": "2023-07-09T21:02:05.945Z"
   },
   {
    "duration": 73,
    "start_time": "2023-07-09T21:02:05.961Z"
   },
   {
    "duration": 40,
    "start_time": "2023-07-09T21:02:06.036Z"
   },
   {
    "duration": 28,
    "start_time": "2023-07-09T21:02:06.077Z"
   },
   {
    "duration": 193,
    "start_time": "2023-07-09T21:02:06.107Z"
   },
   {
    "duration": 335,
    "start_time": "2023-07-09T21:02:06.303Z"
   },
   {
    "duration": 4,
    "start_time": "2023-07-09T21:02:06.640Z"
   },
   {
    "duration": 102,
    "start_time": "2023-07-09T21:02:06.645Z"
   },
   {
    "duration": 140,
    "start_time": "2023-07-09T21:02:06.749Z"
   },
   {
    "duration": 11,
    "start_time": "2023-07-09T21:02:06.891Z"
   },
   {
    "duration": 630,
    "start_time": "2023-07-09T21:02:06.904Z"
   },
   {
    "duration": 3,
    "start_time": "2023-07-09T21:02:07.536Z"
   },
   {
    "duration": 631,
    "start_time": "2023-07-09T21:02:07.540Z"
   },
   {
    "duration": 3,
    "start_time": "2023-07-09T21:02:08.173Z"
   },
   {
    "duration": 153,
    "start_time": "2023-07-09T21:02:08.177Z"
   },
   {
    "duration": 20851,
    "start_time": "2023-07-09T21:02:08.331Z"
   },
   {
    "duration": 95,
    "start_time": "2023-07-09T21:02:29.184Z"
   },
   {
    "duration": 341499,
    "start_time": "2023-07-09T21:02:29.281Z"
   },
   {
    "duration": 1513,
    "start_time": "2023-07-09T21:14:08.859Z"
   },
   {
    "duration": 4,
    "start_time": "2023-07-09T21:14:10.374Z"
   },
   {
    "duration": 1013,
    "start_time": "2023-07-09T21:14:10.379Z"
   },
   {
    "duration": 16,
    "start_time": "2023-07-09T21:14:11.393Z"
   },
   {
    "duration": 122,
    "start_time": "2023-07-09T21:14:11.411Z"
   },
   {
    "duration": 181,
    "start_time": "2023-07-09T21:14:11.535Z"
   },
   {
    "duration": 12,
    "start_time": "2023-07-09T21:14:11.717Z"
   },
   {
    "duration": 48,
    "start_time": "2023-07-09T21:14:11.731Z"
   },
   {
    "duration": 21,
    "start_time": "2023-07-09T21:14:11.780Z"
   },
   {
    "duration": 2,
    "start_time": "2023-07-09T21:14:11.805Z"
   },
   {
    "duration": 7,
    "start_time": "2023-07-09T21:14:11.808Z"
   },
   {
    "duration": 105,
    "start_time": "2023-07-09T21:14:11.816Z"
   },
   {
    "duration": 2220,
    "start_time": "2023-07-09T21:14:11.923Z"
   },
   {
    "duration": 2832,
    "start_time": "2023-07-09T21:14:14.145Z"
   },
   {
    "duration": 7,
    "start_time": "2023-07-09T21:14:16.979Z"
   },
   {
    "duration": 24,
    "start_time": "2023-07-09T21:14:16.987Z"
   },
   {
    "duration": 29,
    "start_time": "2023-07-09T21:14:17.013Z"
   },
   {
    "duration": 64,
    "start_time": "2023-07-09T21:14:17.044Z"
   },
   {
    "duration": 11,
    "start_time": "2023-07-09T21:14:17.110Z"
   },
   {
    "duration": 424,
    "start_time": "2023-07-09T21:14:17.122Z"
   },
   {
    "duration": 85,
    "start_time": "2023-07-09T21:14:17.548Z"
   },
   {
    "duration": 1405,
    "start_time": "2023-07-09T21:14:17.635Z"
   },
   {
    "duration": 16,
    "start_time": "2023-07-09T21:14:19.042Z"
   },
   {
    "duration": 84,
    "start_time": "2023-07-09T21:14:19.060Z"
   },
   {
    "duration": 26,
    "start_time": "2023-07-09T21:14:19.146Z"
   },
   {
    "duration": 30,
    "start_time": "2023-07-09T21:14:19.174Z"
   },
   {
    "duration": 171,
    "start_time": "2023-07-09T21:14:19.205Z"
   },
   {
    "duration": 292,
    "start_time": "2023-07-09T21:14:19.379Z"
   },
   {
    "duration": 3,
    "start_time": "2023-07-09T21:14:19.675Z"
   },
   {
    "duration": 71,
    "start_time": "2023-07-09T21:14:19.680Z"
   },
   {
    "duration": 137,
    "start_time": "2023-07-09T21:14:19.752Z"
   },
   {
    "duration": 10,
    "start_time": "2023-07-09T21:14:19.891Z"
   },
   {
    "duration": 573,
    "start_time": "2023-07-09T21:14:19.902Z"
   },
   {
    "duration": 3,
    "start_time": "2023-07-09T21:14:20.476Z"
   },
   {
    "duration": 640,
    "start_time": "2023-07-09T21:14:20.481Z"
   },
   {
    "duration": 4,
    "start_time": "2023-07-09T21:14:21.122Z"
   },
   {
    "duration": 161,
    "start_time": "2023-07-09T21:14:21.127Z"
   },
   {
    "duration": 17488,
    "start_time": "2023-07-09T21:14:21.290Z"
   },
   {
    "duration": 95,
    "start_time": "2023-07-09T21:14:38.781Z"
   },
   {
    "duration": 4,
    "start_time": "2023-07-09T21:14:38.878Z"
   },
   {
    "duration": 3196,
    "start_time": "2023-07-09T21:14:38.884Z"
   },
   {
    "duration": 4,
    "start_time": "2023-07-09T21:14:42.081Z"
   },
   {
    "duration": 201158,
    "start_time": "2023-07-09T21:14:42.086Z"
   },
   {
    "duration": 25345,
    "start_time": "2023-07-09T21:18:03.245Z"
   },
   {
    "duration": 131,
    "start_time": "2023-07-09T21:18:28.592Z"
   },
   {
    "duration": 118,
    "start_time": "2023-07-09T21:18:28.724Z"
   },
   {
    "duration": 1596,
    "start_time": "2023-07-09T21:24:59.832Z"
   },
   {
    "duration": 3,
    "start_time": "2023-07-09T21:25:01.429Z"
   },
   {
    "duration": 1047,
    "start_time": "2023-07-09T21:25:01.434Z"
   },
   {
    "duration": 26,
    "start_time": "2023-07-09T21:25:02.483Z"
   },
   {
    "duration": 165,
    "start_time": "2023-07-09T21:25:02.512Z"
   },
   {
    "duration": 245,
    "start_time": "2023-07-09T21:25:02.679Z"
   },
   {
    "duration": 11,
    "start_time": "2023-07-09T21:25:02.925Z"
   },
   {
    "duration": 42,
    "start_time": "2023-07-09T21:25:02.938Z"
   },
   {
    "duration": 23,
    "start_time": "2023-07-09T21:25:02.982Z"
   },
   {
    "duration": 2,
    "start_time": "2023-07-09T21:25:03.007Z"
   },
   {
    "duration": 18,
    "start_time": "2023-07-09T21:25:03.011Z"
   },
   {
    "duration": 123,
    "start_time": "2023-07-09T21:25:03.030Z"
   },
   {
    "duration": 2515,
    "start_time": "2023-07-09T21:25:03.155Z"
   },
   {
    "duration": 2968,
    "start_time": "2023-07-09T21:25:05.676Z"
   },
   {
    "duration": 8,
    "start_time": "2023-07-09T21:25:08.645Z"
   },
   {
    "duration": 48,
    "start_time": "2023-07-09T21:25:08.654Z"
   },
   {
    "duration": 34,
    "start_time": "2023-07-09T21:25:08.704Z"
   },
   {
    "duration": 62,
    "start_time": "2023-07-09T21:25:08.740Z"
   },
   {
    "duration": 11,
    "start_time": "2023-07-09T21:25:08.804Z"
   },
   {
    "duration": 431,
    "start_time": "2023-07-09T21:25:08.817Z"
   },
   {
    "duration": 80,
    "start_time": "2023-07-09T21:25:09.250Z"
   },
   {
    "duration": 1388,
    "start_time": "2023-07-09T21:25:09.332Z"
   },
   {
    "duration": 15,
    "start_time": "2023-07-09T21:25:10.722Z"
   },
   {
    "duration": 68,
    "start_time": "2023-07-09T21:25:10.739Z"
   },
   {
    "duration": 27,
    "start_time": "2023-07-09T21:25:10.809Z"
   },
   {
    "duration": 50,
    "start_time": "2023-07-09T21:25:10.837Z"
   },
   {
    "duration": 172,
    "start_time": "2023-07-09T21:25:10.890Z"
   },
   {
    "duration": 368,
    "start_time": "2023-07-09T21:25:11.064Z"
   },
   {
    "duration": 3,
    "start_time": "2023-07-09T21:25:11.434Z"
   },
   {
    "duration": 90,
    "start_time": "2023-07-09T21:25:11.438Z"
   },
   {
    "duration": 159,
    "start_time": "2023-07-09T21:25:11.530Z"
   },
   {
    "duration": 13,
    "start_time": "2023-07-09T21:25:11.691Z"
   },
   {
    "duration": 643,
    "start_time": "2023-07-09T21:25:11.705Z"
   },
   {
    "duration": 3,
    "start_time": "2023-07-09T21:25:12.349Z"
   },
   {
    "duration": 674,
    "start_time": "2023-07-09T21:25:12.353Z"
   },
   {
    "duration": 2,
    "start_time": "2023-07-09T21:25:13.029Z"
   },
   {
    "duration": 167,
    "start_time": "2023-07-09T21:25:13.032Z"
   },
   {
    "duration": 41282,
    "start_time": "2023-07-09T21:25:13.201Z"
   },
   {
    "duration": 7,
    "start_time": "2023-07-09T21:25:54.486Z"
   },
   {
    "duration": 114,
    "start_time": "2023-07-09T21:25:54.495Z"
   },
   {
    "duration": 48072,
    "start_time": "2023-07-09T21:25:54.613Z"
   },
   {
    "duration": 6,
    "start_time": "2023-07-09T21:26:42.687Z"
   },
   {
    "duration": 218913,
    "start_time": "2023-07-09T21:26:42.695Z"
   },
   {
    "duration": 1878,
    "start_time": "2023-07-10T15:54:24.271Z"
   },
   {
    "duration": 4,
    "start_time": "2023-07-10T15:54:26.151Z"
   },
   {
    "duration": 1126,
    "start_time": "2023-07-10T15:54:26.157Z"
   },
   {
    "duration": 14,
    "start_time": "2023-07-10T15:54:27.322Z"
   },
   {
    "duration": 109,
    "start_time": "2023-07-10T15:54:27.652Z"
   },
   {
    "duration": 178,
    "start_time": "2023-07-10T15:54:28.519Z"
   },
   {
    "duration": 9,
    "start_time": "2023-07-10T15:54:28.918Z"
   },
   {
    "duration": 52,
    "start_time": "2023-07-10T15:54:30.965Z"
   },
   {
    "duration": 17,
    "start_time": "2023-07-10T15:54:31.155Z"
   },
   {
    "duration": 2,
    "start_time": "2023-07-10T15:54:31.725Z"
   },
   {
    "duration": 3,
    "start_time": "2023-07-10T15:54:32.427Z"
   },
   {
    "duration": 102,
    "start_time": "2023-07-10T15:54:32.776Z"
   },
   {
    "duration": 2239,
    "start_time": "2023-07-10T15:54:33.307Z"
   },
   {
    "duration": 2860,
    "start_time": "2023-07-10T15:54:35.549Z"
   },
   {
    "duration": 7,
    "start_time": "2023-07-10T15:54:38.411Z"
   },
   {
    "duration": 27,
    "start_time": "2023-07-10T15:54:38.420Z"
   },
   {
    "duration": 31,
    "start_time": "2023-07-10T15:54:38.449Z"
   },
   {
    "duration": 41,
    "start_time": "2023-07-10T15:54:38.499Z"
   },
   {
    "duration": 14,
    "start_time": "2023-07-10T15:54:38.542Z"
   },
   {
    "duration": 424,
    "start_time": "2023-07-10T15:54:38.558Z"
   },
   {
    "duration": 70,
    "start_time": "2023-07-10T15:54:38.984Z"
   },
   {
    "duration": 1258,
    "start_time": "2023-07-10T15:54:39.552Z"
   },
   {
    "duration": 15,
    "start_time": "2023-07-10T15:54:40.994Z"
   },
   {
    "duration": 52,
    "start_time": "2023-07-10T15:54:41.195Z"
   },
   {
    "duration": 26,
    "start_time": "2023-07-10T15:54:42.555Z"
   },
   {
    "duration": 27,
    "start_time": "2023-07-10T15:54:43.024Z"
   },
   {
    "duration": 137,
    "start_time": "2023-07-10T15:54:46.538Z"
   },
   {
    "duration": 311,
    "start_time": "2023-07-10T15:54:48.523Z"
   },
   {
    "duration": 4,
    "start_time": "2023-07-10T15:54:48.952Z"
   },
   {
    "duration": 60,
    "start_time": "2023-07-10T15:54:49.397Z"
   },
   {
    "duration": 114,
    "start_time": "2023-07-10T15:55:08.399Z"
   },
   {
    "duration": 10,
    "start_time": "2023-07-10T15:55:09.632Z"
   },
   {
    "duration": 428,
    "start_time": "2023-07-10T15:55:21.223Z"
   },
   {
    "duration": 506,
    "start_time": "2023-07-10T15:55:25.196Z"
   },
   {
    "duration": 3,
    "start_time": "2023-07-10T15:55:27.402Z"
   },
   {
    "duration": 147,
    "start_time": "2023-07-10T15:55:30.912Z"
   },
   {
    "duration": 17384,
    "start_time": "2023-07-10T15:55:33.127Z"
   },
   {
    "duration": 90,
    "start_time": "2023-07-10T15:55:50.513Z"
   },
   {
    "duration": 24,
    "start_time": "2023-07-10T15:55:50.605Z"
   },
   {
    "duration": 137,
    "start_time": "2023-07-10T15:56:14.556Z"
   },
   {
    "duration": 185,
    "start_time": "2023-07-10T15:57:56.071Z"
   },
   {
    "duration": 1539,
    "start_time": "2023-07-10T16:18:49.534Z"
   },
   {
    "duration": 3,
    "start_time": "2023-07-10T16:18:51.075Z"
   },
   {
    "duration": 2854,
    "start_time": "2023-07-10T16:18:51.080Z"
   },
   {
    "duration": 18,
    "start_time": "2023-07-10T16:18:53.937Z"
   },
   {
    "duration": 123,
    "start_time": "2023-07-10T16:18:53.956Z"
   },
   {
    "duration": 208,
    "start_time": "2023-07-10T16:18:54.082Z"
   },
   {
    "duration": 12,
    "start_time": "2023-07-10T16:18:54.292Z"
   },
   {
    "duration": 52,
    "start_time": "2023-07-10T16:18:54.306Z"
   },
   {
    "duration": 17,
    "start_time": "2023-07-10T16:18:54.361Z"
   },
   {
    "duration": 6,
    "start_time": "2023-07-10T16:18:54.383Z"
   },
   {
    "duration": 7,
    "start_time": "2023-07-10T16:18:54.390Z"
   },
   {
    "duration": 130,
    "start_time": "2023-07-10T16:18:54.399Z"
   },
   {
    "duration": 2458,
    "start_time": "2023-07-10T16:18:54.531Z"
   },
   {
    "duration": 3033,
    "start_time": "2023-07-10T16:18:56.991Z"
   },
   {
    "duration": 8,
    "start_time": "2023-07-10T16:19:00.026Z"
   },
   {
    "duration": 71,
    "start_time": "2023-07-10T16:19:00.035Z"
   },
   {
    "duration": 50,
    "start_time": "2023-07-10T16:19:00.108Z"
   },
   {
    "duration": 47,
    "start_time": "2023-07-10T16:19:00.160Z"
   },
   {
    "duration": 11,
    "start_time": "2023-07-10T16:19:00.209Z"
   },
   {
    "duration": 504,
    "start_time": "2023-07-10T16:19:00.221Z"
   },
   {
    "duration": 86,
    "start_time": "2023-07-10T16:19:00.727Z"
   },
   {
    "duration": 1505,
    "start_time": "2023-07-10T16:19:00.815Z"
   },
   {
    "duration": 17,
    "start_time": "2023-07-10T16:19:02.322Z"
   },
   {
    "duration": 85,
    "start_time": "2023-07-10T16:19:02.341Z"
   },
   {
    "duration": 40,
    "start_time": "2023-07-10T16:19:02.428Z"
   },
   {
    "duration": 30,
    "start_time": "2023-07-10T16:19:02.470Z"
   },
   {
    "duration": 171,
    "start_time": "2023-07-10T16:19:02.502Z"
   },
   {
    "duration": 304,
    "start_time": "2023-07-10T16:19:02.676Z"
   },
   {
    "duration": 4,
    "start_time": "2023-07-10T16:19:02.982Z"
   },
   {
    "duration": 75,
    "start_time": "2023-07-10T16:19:02.988Z"
   },
   {
    "duration": 137,
    "start_time": "2023-07-10T16:19:03.065Z"
   },
   {
    "duration": 12,
    "start_time": "2023-07-10T16:19:03.204Z"
   },
   {
    "duration": 787,
    "start_time": "2023-07-10T16:19:03.219Z"
   },
   {
    "duration": 3,
    "start_time": "2023-07-10T16:19:04.009Z"
   },
   {
    "duration": 718,
    "start_time": "2023-07-10T16:19:04.015Z"
   },
   {
    "duration": 3,
    "start_time": "2023-07-10T16:19:04.735Z"
   },
   {
    "duration": 258,
    "start_time": "2023-07-10T16:19:04.739Z"
   },
   {
    "duration": 242,
    "start_time": "2023-07-10T16:19:43.568Z"
   },
   {
    "duration": 21470,
    "start_time": "2023-07-10T16:19:50.103Z"
   },
   {
    "duration": 6,
    "start_time": "2023-07-10T16:20:11.659Z"
   },
   {
    "duration": 5,
    "start_time": "2023-07-10T16:20:34.646Z"
   },
   {
    "duration": 172,
    "start_time": "2023-07-10T16:20:35.545Z"
   },
   {
    "duration": 2,
    "start_time": "2023-07-10T16:20:37.830Z"
   },
   {
    "duration": 46806,
    "start_time": "2023-07-10T16:20:41.067Z"
   },
   {
    "duration": 84,
    "start_time": "2023-07-10T16:21:27.875Z"
   },
   {
    "duration": 232582,
    "start_time": "2023-07-10T16:21:27.961Z"
   },
   {
    "duration": 30603,
    "start_time": "2023-07-10T16:25:20.545Z"
   },
   {
    "duration": 133,
    "start_time": "2023-07-10T16:25:51.149Z"
   },
   {
    "duration": 138,
    "start_time": "2023-07-10T16:25:51.284Z"
   },
   {
    "duration": 1653,
    "start_time": "2023-07-10T16:33:58.838Z"
   },
   {
    "duration": 4,
    "start_time": "2023-07-10T16:34:00.493Z"
   },
   {
    "duration": 978,
    "start_time": "2023-07-10T16:34:00.499Z"
   },
   {
    "duration": 21,
    "start_time": "2023-07-10T16:34:01.478Z"
   },
   {
    "duration": 140,
    "start_time": "2023-07-10T16:34:01.502Z"
   },
   {
    "duration": 226,
    "start_time": "2023-07-10T16:34:01.644Z"
   },
   {
    "duration": 16,
    "start_time": "2023-07-10T16:34:01.872Z"
   },
   {
    "duration": 78,
    "start_time": "2023-07-10T16:34:01.890Z"
   },
   {
    "duration": 73,
    "start_time": "2023-07-10T16:34:01.970Z"
   },
   {
    "duration": 16,
    "start_time": "2023-07-10T16:34:02.045Z"
   },
   {
    "duration": 27,
    "start_time": "2023-07-10T16:34:02.064Z"
   },
   {
    "duration": 143,
    "start_time": "2023-07-10T16:34:02.093Z"
   },
   {
    "duration": 2608,
    "start_time": "2023-07-10T16:34:02.238Z"
   },
   {
    "duration": 2979,
    "start_time": "2023-07-10T16:34:04.849Z"
   },
   {
    "duration": 10,
    "start_time": "2023-07-10T16:34:07.830Z"
   },
   {
    "duration": 30,
    "start_time": "2023-07-10T16:34:07.857Z"
   },
   {
    "duration": 35,
    "start_time": "2023-07-10T16:34:07.889Z"
   },
   {
    "duration": 79,
    "start_time": "2023-07-10T16:34:07.926Z"
   },
   {
    "duration": 15,
    "start_time": "2023-07-10T16:34:08.007Z"
   },
   {
    "duration": 533,
    "start_time": "2023-07-10T16:34:08.024Z"
   },
   {
    "duration": 74,
    "start_time": "2023-07-10T16:34:08.559Z"
   },
   {
    "duration": 1739,
    "start_time": "2023-07-10T16:34:08.635Z"
   },
   {
    "duration": 16,
    "start_time": "2023-07-10T16:34:10.376Z"
   },
   {
    "duration": 86,
    "start_time": "2023-07-10T16:34:10.394Z"
   },
   {
    "duration": 33,
    "start_time": "2023-07-10T16:34:10.482Z"
   },
   {
    "duration": 47,
    "start_time": "2023-07-10T16:34:10.517Z"
   },
   {
    "duration": 168,
    "start_time": "2023-07-10T16:34:10.566Z"
   },
   {
    "duration": 314,
    "start_time": "2023-07-10T16:34:10.736Z"
   },
   {
    "duration": 6,
    "start_time": "2023-07-10T16:34:11.052Z"
   },
   {
    "duration": 121,
    "start_time": "2023-07-10T16:34:11.060Z"
   },
   {
    "duration": 230,
    "start_time": "2023-07-10T16:34:11.184Z"
   },
   {
    "duration": 12,
    "start_time": "2023-07-10T16:34:11.416Z"
   },
   {
    "duration": 798,
    "start_time": "2023-07-10T16:34:11.430Z"
   },
   {
    "duration": 3,
    "start_time": "2023-07-10T16:34:12.231Z"
   },
   {
    "duration": 705,
    "start_time": "2023-07-10T16:34:12.237Z"
   },
   {
    "duration": 3,
    "start_time": "2023-07-10T16:34:12.944Z"
   },
   {
    "duration": 149,
    "start_time": "2023-07-10T16:34:12.948Z"
   },
   {
    "duration": 277,
    "start_time": "2023-07-10T16:34:13.099Z"
   },
   {
    "duration": 21182,
    "start_time": "2023-07-10T16:34:13.378Z"
   },
   {
    "duration": 96,
    "start_time": "2023-07-10T16:34:34.562Z"
   },
   {
    "duration": 203,
    "start_time": "2023-07-10T16:34:34.662Z"
   },
   {
    "duration": 2,
    "start_time": "2023-07-10T16:34:34.867Z"
   },
   {
    "duration": 3196,
    "start_time": "2023-07-10T16:34:34.870Z"
   },
   {
    "duration": 4,
    "start_time": "2023-07-10T16:34:38.068Z"
   },
   {
    "duration": 228608,
    "start_time": "2023-07-10T16:34:38.074Z"
   },
   {
    "duration": 29168,
    "start_time": "2023-07-10T16:38:26.684Z"
   },
   {
    "duration": 131,
    "start_time": "2023-07-10T16:38:55.853Z"
   },
   {
    "duration": 139,
    "start_time": "2023-07-10T16:38:55.986Z"
   },
   {
    "duration": 9488,
    "start_time": "2023-07-11T07:14:36.929Z"
   },
   {
    "duration": 20,
    "start_time": "2023-07-11T07:14:46.429Z"
   },
   {
    "duration": 8164,
    "start_time": "2023-07-11T07:14:46.454Z"
   },
   {
    "duration": 93,
    "start_time": "2023-07-11T07:14:54.620Z"
   },
   {
    "duration": 894,
    "start_time": "2023-07-11T07:14:54.734Z"
   },
   {
    "duration": 1814,
    "start_time": "2023-07-11T07:14:55.643Z"
   },
   {
    "duration": 130,
    "start_time": "2023-07-11T07:14:57.541Z"
   },
   {
    "duration": 646,
    "start_time": "2023-07-11T07:14:57.674Z"
   },
   {
    "duration": 141,
    "start_time": "2023-07-11T07:14:58.321Z"
   },
   {
    "duration": 31,
    "start_time": "2023-07-11T07:14:58.502Z"
   },
   {
    "duration": 126,
    "start_time": "2023-07-11T07:14:58.611Z"
   },
   {
    "duration": 1447,
    "start_time": "2023-07-11T07:14:58.758Z"
   },
   {
    "duration": 24374,
    "start_time": "2023-07-11T07:15:00.225Z"
   },
   {
    "duration": 31622,
    "start_time": "2023-07-11T07:15:24.611Z"
   },
   {
    "duration": 151,
    "start_time": "2023-07-11T07:15:56.234Z"
   },
   {
    "duration": 358,
    "start_time": "2023-07-11T07:15:56.387Z"
   },
   {
    "duration": 264,
    "start_time": "2023-07-11T07:15:56.757Z"
   },
   {
    "duration": 391,
    "start_time": "2023-07-11T07:15:57.022Z"
   },
   {
    "duration": 110,
    "start_time": "2023-07-11T07:15:57.423Z"
   },
   {
    "duration": 4705,
    "start_time": "2023-07-11T07:15:57.552Z"
   },
   {
    "duration": 1317,
    "start_time": "2023-07-11T07:16:02.266Z"
   },
   {
    "duration": 16875,
    "start_time": "2023-07-11T07:16:03.606Z"
   },
   {
    "duration": 139,
    "start_time": "2023-07-11T07:16:20.490Z"
   },
   {
    "duration": 809,
    "start_time": "2023-07-11T07:16:20.632Z"
   },
   {
    "duration": 376,
    "start_time": "2023-07-11T07:16:21.449Z"
   },
   {
    "duration": 298,
    "start_time": "2023-07-11T07:16:21.827Z"
   },
   {
    "duration": 2606,
    "start_time": "2023-07-11T07:16:22.127Z"
   },
   {
    "duration": 3895,
    "start_time": "2023-07-11T07:16:24.735Z"
   },
   {
    "duration": 41,
    "start_time": "2023-07-11T07:16:28.649Z"
   },
   {
    "duration": 1129,
    "start_time": "2023-07-11T07:16:28.696Z"
   },
   {
    "duration": 1180,
    "start_time": "2023-07-11T07:16:29.869Z"
   },
   {
    "duration": 126,
    "start_time": "2023-07-11T07:16:31.050Z"
   },
   {
    "duration": 6535,
    "start_time": "2023-07-11T07:16:31.190Z"
   },
   {
    "duration": 45,
    "start_time": "2023-07-11T07:16:37.780Z"
   },
   {
    "duration": 5262,
    "start_time": "2023-07-11T07:16:37.855Z"
   },
   {
    "duration": 37,
    "start_time": "2023-07-11T07:16:43.135Z"
   },
   {
    "duration": 2206,
    "start_time": "2023-07-11T07:16:43.181Z"
   },
   {
    "duration": 3253,
    "start_time": "2023-07-11T07:16:45.392Z"
   },
   {
    "duration": 99492,
    "start_time": "2023-07-11T07:16:48.662Z"
   },
   {
    "duration": 48,
    "start_time": "2023-07-11T07:18:28.169Z"
   },
   {
    "duration": 2631,
    "start_time": "2023-07-11T07:18:28.268Z"
   },
   {
    "duration": 21,
    "start_time": "2023-07-11T07:18:30.949Z"
   },
   {
    "duration": 315262,
    "start_time": "2023-07-11T07:18:30.979Z"
   },
   {
    "duration": 70,
    "start_time": "2023-07-11T07:23:46.251Z"
   }
  ],
  "kernelspec": {
   "display_name": "Python 3 (ipykernel)",
   "language": "python",
   "name": "python3"
  },
  "language_info": {
   "codemirror_mode": {
    "name": "ipython",
    "version": 3
   },
   "file_extension": ".py",
   "mimetype": "text/x-python",
   "name": "python",
   "nbconvert_exporter": "python",
   "pygments_lexer": "ipython3",
   "version": "3.10.6"
  },
  "toc": {
   "base_numbering": 1,
   "nav_menu": {},
   "number_sections": true,
   "sideBar": true,
   "skip_h1_title": true,
   "title_cell": "Table of Contents",
   "title_sidebar": "Contents",
   "toc_cell": false,
   "toc_position": {},
   "toc_section_display": true,
   "toc_window_display": true
  }
 },
 "nbformat": 4,
 "nbformat_minor": 2
}
