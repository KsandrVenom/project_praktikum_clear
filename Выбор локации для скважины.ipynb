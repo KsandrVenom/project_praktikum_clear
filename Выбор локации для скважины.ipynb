{
 "cells": [
  {
   "cell_type": "markdown",
   "metadata": {},
   "source": [
    "# Выбор локации для скважины"
   ]
  },
  {
   "cell_type": "markdown",
   "metadata": {},
   "source": [
    "Допустим, вы работаете в добывающей компании «ГлавРосГосНефть». Нужно решить, где бурить новую скважину.\n",
    "\n",
    "Вам предоставлены пробы нефти в трёх регионах: в каждом 10 000 месторождений, где измерили качество нефти и объём её запасов. Постройте модель машинного обучения, которая поможет определить регион, где добыча принесёт наибольшую прибыль. Проанализируйте возможную прибыль и риски техникой *Bootstrap.*\n",
    "\n",
    "Шаги для выбора локации:\n",
    "\n",
    "- В избранном регионе ищут месторождения, для каждого определяют значения признаков;\n",
    "- Строят модель и оценивают объём запасов;\n",
    "- Выбирают месторождения с самым высокими оценками значений. Количество месторождений зависит от бюджета компании и стоимости разработки одной скважины;\n",
    "- Прибыль равна суммарной прибыли отобранных месторождений."
   ]
  },
  {
   "cell_type": "code",
   "execution_count": 1,
   "metadata": {},
   "outputs": [],
   "source": [
    "\n",
    "from numpy.random import RandomState \n",
    "import pandas as pd\n",
    "pd.options.mode.chained_assignment = None\n",
    "\n",
    "from sklearn.preprocessing import StandardScaler\n",
    "from sklearn.model_selection import train_test_split\n",
    "\n",
    "from sklearn.linear_model import LinearRegression\n",
    "from sklearn.metrics import mean_squared_error\n",
    "\n",
    "from sklearn.model_selection import cross_val_score"
   ]
  },
  {
   "cell_type": "code",
   "execution_count": 2,
   "metadata": {},
   "outputs": [],
   "source": [
    "COUNT_SCOUT = 500\n",
    "COUNT_BEST = 200\n",
    "BUDGET = 10_000_000_000\n",
    "INCOME_BARREL = 450000\n",
    "PROB_LOSSES = 0.025"
   ]
  },
  {
   "cell_type": "markdown",
   "metadata": {},
   "source": [
    "## Загрузка и подготовка данных"
   ]
  },
  {
   "cell_type": "markdown",
   "metadata": {},
   "source": [
    "### Загрузка и предварительный анализ данных"
   ]
  },
  {
   "cell_type": "markdown",
   "metadata": {},
   "source": [
    "<div style=\"border: 5px solid violet; border-radius: 5px;\">\n",
    "Начнём анализ данных и их подготовку с одного датасета и по аналогии сделаем остальные.\n",
    "</div>\n",
    "\n",
    "ОФФТОП: первый раз фиолетовым выделяю, также первый раз до ревью выделяю комменты, незнаю как будет смотреться, но думаю будет выделяться. Все остальные цвета заняты)"
   ]
  },
  {
   "cell_type": "code",
   "execution_count": 3,
   "metadata": {},
   "outputs": [],
   "source": [
    "geo_0 = pd.read_csv('/datasets/geo_data_0.csv')"
   ]
  },
  {
   "cell_type": "code",
   "execution_count": 4,
   "metadata": {
    "scrolled": true
   },
   "outputs": [
    {
     "data": {
      "text/html": [
       "<div>\n",
       "<style scoped>\n",
       "    .dataframe tbody tr th:only-of-type {\n",
       "        vertical-align: middle;\n",
       "    }\n",
       "\n",
       "    .dataframe tbody tr th {\n",
       "        vertical-align: top;\n",
       "    }\n",
       "\n",
       "    .dataframe thead th {\n",
       "        text-align: right;\n",
       "    }\n",
       "</style>\n",
       "<table border=\"1\" class=\"dataframe\">\n",
       "  <thead>\n",
       "    <tr style=\"text-align: right;\">\n",
       "      <th></th>\n",
       "      <th>id</th>\n",
       "      <th>f0</th>\n",
       "      <th>f1</th>\n",
       "      <th>f2</th>\n",
       "      <th>product</th>\n",
       "    </tr>\n",
       "  </thead>\n",
       "  <tbody>\n",
       "    <tr>\n",
       "      <th>0</th>\n",
       "      <td>txEyH</td>\n",
       "      <td>0.705745</td>\n",
       "      <td>-0.497823</td>\n",
       "      <td>1.221170</td>\n",
       "      <td>105.280062</td>\n",
       "    </tr>\n",
       "    <tr>\n",
       "      <th>1</th>\n",
       "      <td>2acmU</td>\n",
       "      <td>1.334711</td>\n",
       "      <td>-0.340164</td>\n",
       "      <td>4.365080</td>\n",
       "      <td>73.037750</td>\n",
       "    </tr>\n",
       "    <tr>\n",
       "      <th>2</th>\n",
       "      <td>409Wp</td>\n",
       "      <td>1.022732</td>\n",
       "      <td>0.151990</td>\n",
       "      <td>1.419926</td>\n",
       "      <td>85.265647</td>\n",
       "    </tr>\n",
       "    <tr>\n",
       "      <th>3</th>\n",
       "      <td>iJLyR</td>\n",
       "      <td>-0.032172</td>\n",
       "      <td>0.139033</td>\n",
       "      <td>2.978566</td>\n",
       "      <td>168.620776</td>\n",
       "    </tr>\n",
       "    <tr>\n",
       "      <th>4</th>\n",
       "      <td>Xdl7t</td>\n",
       "      <td>1.988431</td>\n",
       "      <td>0.155413</td>\n",
       "      <td>4.751769</td>\n",
       "      <td>154.036647</td>\n",
       "    </tr>\n",
       "  </tbody>\n",
       "</table>\n",
       "</div>"
      ],
      "text/plain": [
       "      id        f0        f1        f2     product\n",
       "0  txEyH  0.705745 -0.497823  1.221170  105.280062\n",
       "1  2acmU  1.334711 -0.340164  4.365080   73.037750\n",
       "2  409Wp  1.022732  0.151990  1.419926   85.265647\n",
       "3  iJLyR -0.032172  0.139033  2.978566  168.620776\n",
       "4  Xdl7t  1.988431  0.155413  4.751769  154.036647"
      ]
     },
     "execution_count": 4,
     "metadata": {},
     "output_type": "execute_result"
    }
   ],
   "source": [
    "geo_0.head()"
   ]
  },
  {
   "cell_type": "code",
   "execution_count": 5,
   "metadata": {
    "scrolled": true
   },
   "outputs": [
    {
     "name": "stdout",
     "output_type": "stream",
     "text": [
      "<class 'pandas.core.frame.DataFrame'>\n",
      "RangeIndex: 100000 entries, 0 to 99999\n",
      "Data columns (total 5 columns):\n",
      " #   Column   Non-Null Count   Dtype  \n",
      "---  ------   --------------   -----  \n",
      " 0   id       100000 non-null  object \n",
      " 1   f0       100000 non-null  float64\n",
      " 2   f1       100000 non-null  float64\n",
      " 3   f2       100000 non-null  float64\n",
      " 4   product  100000 non-null  float64\n",
      "dtypes: float64(4), object(1)\n",
      "memory usage: 3.8+ MB\n"
     ]
    }
   ],
   "source": [
    "geo_0.info()"
   ]
  },
  {
   "cell_type": "code",
   "execution_count": 6,
   "metadata": {
    "scrolled": true
   },
   "outputs": [
    {
     "data": {
      "image/png": "[encoded data removed]",
      "text/plain": [
       "<Figure size 432x288 with 4 Axes>"
      ]
     },
     "metadata": {
      "needs_background": "light"
     },
     "output_type": "display_data"
    }
   ],
   "source": [
    "geo_0.hist();"
   ]
  },
  {
   "cell_type": "code",
   "execution_count": 7,
   "metadata": {
    "scrolled": false
   },
   "outputs": [
    {
     "data": {
      "text/html": [
       "<div>\n",
       "<style scoped>\n",
       "    .dataframe tbody tr th:only-of-type {\n",
       "        vertical-align: middle;\n",
       "    }\n",
       "\n",
       "    .dataframe tbody tr th {\n",
       "        vertical-align: top;\n",
       "    }\n",
       "\n",
       "    .dataframe thead th {\n",
       "        text-align: right;\n",
       "    }\n",
       "</style>\n",
       "<table border=\"1\" class=\"dataframe\">\n",
       "  <thead>\n",
       "    <tr style=\"text-align: right;\">\n",
       "      <th></th>\n",
       "      <th>f0</th>\n",
       "      <th>f1</th>\n",
       "      <th>f2</th>\n",
       "      <th>product</th>\n",
       "    </tr>\n",
       "  </thead>\n",
       "  <tbody>\n",
       "    <tr>\n",
       "      <th>count</th>\n",
       "      <td>100000.000000</td>\n",
       "      <td>100000.000000</td>\n",
       "      <td>100000.000000</td>\n",
       "      <td>100000.000000</td>\n",
       "    </tr>\n",
       "    <tr>\n",
       "      <th>mean</th>\n",
       "      <td>0.500419</td>\n",
       "      <td>0.250143</td>\n",
       "      <td>2.502647</td>\n",
       "      <td>92.500000</td>\n",
       "    </tr>\n",
       "    <tr>\n",
       "      <th>std</th>\n",
       "      <td>0.871832</td>\n",
       "      <td>0.504433</td>\n",
       "      <td>3.248248</td>\n",
       "      <td>44.288691</td>\n",
       "    </tr>\n",
       "    <tr>\n",
       "      <th>min</th>\n",
       "      <td>-1.408605</td>\n",
       "      <td>-0.848218</td>\n",
       "      <td>-12.088328</td>\n",
       "      <td>0.000000</td>\n",
       "    </tr>\n",
       "    <tr>\n",
       "      <th>25%</th>\n",
       "      <td>-0.072580</td>\n",
       "      <td>-0.200881</td>\n",
       "      <td>0.287748</td>\n",
       "      <td>56.497507</td>\n",
       "    </tr>\n",
       "    <tr>\n",
       "      <th>50%</th>\n",
       "      <td>0.502360</td>\n",
       "      <td>0.250252</td>\n",
       "      <td>2.515969</td>\n",
       "      <td>91.849972</td>\n",
       "    </tr>\n",
       "    <tr>\n",
       "      <th>75%</th>\n",
       "      <td>1.073581</td>\n",
       "      <td>0.700646</td>\n",
       "      <td>4.715088</td>\n",
       "      <td>128.564089</td>\n",
       "    </tr>\n",
       "    <tr>\n",
       "      <th>max</th>\n",
       "      <td>2.362331</td>\n",
       "      <td>1.343769</td>\n",
       "      <td>16.003790</td>\n",
       "      <td>185.364347</td>\n",
       "    </tr>\n",
       "  </tbody>\n",
       "</table>\n",
       "</div>"
      ],
      "text/plain": [
       "                  f0             f1             f2        product\n",
       "count  100000.000000  100000.000000  100000.000000  100000.000000\n",
       "mean        0.500419       0.250143       2.502647      92.500000\n",
       "std         0.871832       0.504433       3.248248      44.288691\n",
       "min        -1.408605      -0.848218     -12.088328       0.000000\n",
       "25%        -0.072580      -0.200881       0.287748      56.497507\n",
       "50%         0.502360       0.250252       2.515969      91.849972\n",
       "75%         1.073581       0.700646       4.715088     128.564089\n",
       "max         2.362331       1.343769      16.003790     185.364347"
      ]
     },
     "execution_count": 7,
     "metadata": {},
     "output_type": "execute_result"
    }
   ],
   "source": [
    "geo_0.describe()"
   ]
  },
  {
   "cell_type": "code",
   "execution_count": 8,
   "metadata": {},
   "outputs": [
    {
     "data": {
      "text/plain": [
       "(99990,)"
      ]
     },
     "execution_count": 8,
     "metadata": {},
     "output_type": "execute_result"
    }
   ],
   "source": [
    "geo_0['id'].unique().shape"
   ]
  },
  {
   "cell_type": "code",
   "execution_count": 9,
   "metadata": {},
   "outputs": [
    {
     "data": {
      "text/plain": [
       "0"
      ]
     },
     "execution_count": 9,
     "metadata": {},
     "output_type": "execute_result"
    }
   ],
   "source": [
    "geo_0.duplicated().sum()"
   ]
  },
  {
   "cell_type": "markdown",
   "metadata": {},
   "source": [
    "<div style=\"border: 5px solid violet; border-radius: 5px;\">\n",
    "Данные пропусков не имеют. Все столбцы приведены к нужным типам. Судя по гистограмме выбросов, аномалий нет, похоже чем-то на нормальное распределение. describe ничего не дало - потому что признаки зашифрованы, будем игнорировать.\n",
    "Есть дубликаты в id скважин, но явных дубликатов нет - поэтому 10 строками мы пренебрежем.    \n",
    "</div>"
   ]
  },
  {
   "cell_type": "code",
   "execution_count": 10,
   "metadata": {},
   "outputs": [],
   "source": [
    "geo_1 = pd.read_csv('/datasets/geo_data_1.csv')"
   ]
  },
  {
   "cell_type": "code",
   "execution_count": 11,
   "metadata": {
    "scrolled": true
   },
   "outputs": [
    {
     "data": {
      "text/html": [
       "<div>\n",
       "<style scoped>\n",
       "    .dataframe tbody tr th:only-of-type {\n",
       "        vertical-align: middle;\n",
       "    }\n",
       "\n",
       "    .dataframe tbody tr th {\n",
       "        vertical-align: top;\n",
       "    }\n",
       "\n",
       "    .dataframe thead th {\n",
       "        text-align: right;\n",
       "    }\n",
       "</style>\n",
       "<table border=\"1\" class=\"dataframe\">\n",
       "  <thead>\n",
       "    <tr style=\"text-align: right;\">\n",
       "      <th></th>\n",
       "      <th>id</th>\n",
       "      <th>f0</th>\n",
       "      <th>f1</th>\n",
       "      <th>f2</th>\n",
       "      <th>product</th>\n",
       "    </tr>\n",
       "  </thead>\n",
       "  <tbody>\n",
       "    <tr>\n",
       "      <th>0</th>\n",
       "      <td>kBEdx</td>\n",
       "      <td>-15.001348</td>\n",
       "      <td>-8.276000</td>\n",
       "      <td>-0.005876</td>\n",
       "      <td>3.179103</td>\n",
       "    </tr>\n",
       "    <tr>\n",
       "      <th>1</th>\n",
       "      <td>62mP7</td>\n",
       "      <td>14.272088</td>\n",
       "      <td>-3.475083</td>\n",
       "      <td>0.999183</td>\n",
       "      <td>26.953261</td>\n",
       "    </tr>\n",
       "    <tr>\n",
       "      <th>2</th>\n",
       "      <td>vyE1P</td>\n",
       "      <td>6.263187</td>\n",
       "      <td>-5.948386</td>\n",
       "      <td>5.001160</td>\n",
       "      <td>134.766305</td>\n",
       "    </tr>\n",
       "    <tr>\n",
       "      <th>3</th>\n",
       "      <td>KcrkZ</td>\n",
       "      <td>-13.081196</td>\n",
       "      <td>-11.506057</td>\n",
       "      <td>4.999415</td>\n",
       "      <td>137.945408</td>\n",
       "    </tr>\n",
       "    <tr>\n",
       "      <th>4</th>\n",
       "      <td>AHL4O</td>\n",
       "      <td>12.702195</td>\n",
       "      <td>-8.147433</td>\n",
       "      <td>5.004363</td>\n",
       "      <td>134.766305</td>\n",
       "    </tr>\n",
       "  </tbody>\n",
       "</table>\n",
       "</div>"
      ],
      "text/plain": [
       "      id         f0         f1        f2     product\n",
       "0  kBEdx -15.001348  -8.276000 -0.005876    3.179103\n",
       "1  62mP7  14.272088  -3.475083  0.999183   26.953261\n",
       "2  vyE1P   6.263187  -5.948386  5.001160  134.766305\n",
       "3  KcrkZ -13.081196 -11.506057  4.999415  137.945408\n",
       "4  AHL4O  12.702195  -8.147433  5.004363  134.766305"
      ]
     },
     "execution_count": 11,
     "metadata": {},
     "output_type": "execute_result"
    }
   ],
   "source": [
    "geo_1.head()"
   ]
  },
  {
   "cell_type": "code",
   "execution_count": 12,
   "metadata": {
    "scrolled": true
   },
   "outputs": [
    {
     "name": "stdout",
     "output_type": "stream",
     "text": [
      "<class 'pandas.core.frame.DataFrame'>\n",
      "RangeIndex: 100000 entries, 0 to 99999\n",
      "Data columns (total 5 columns):\n",
      " #   Column   Non-Null Count   Dtype  \n",
      "---  ------   --------------   -----  \n",
      " 0   id       100000 non-null  object \n",
      " 1   f0       100000 non-null  float64\n",
      " 2   f1       100000 non-null  float64\n",
      " 3   f2       100000 non-null  float64\n",
      " 4   product  100000 non-null  float64\n",
      "dtypes: float64(4), object(1)\n",
      "memory usage: 3.8+ MB\n"
     ]
    }
   ],
   "source": [
    "geo_1.info()"
   ]
  },
  {
   "cell_type": "code",
   "execution_count": 13,
   "metadata": {},
   "outputs": [
    {
     "data": {
      "image/png": "[encoded data removed]",
      "text/plain": [
       "<Figure size 432x288 with 4 Axes>"
      ]
     },
     "metadata": {
      "needs_background": "light"
     },
     "output_type": "display_data"
    }
   ],
   "source": [
    "geo_1.hist();"
   ]
  },
  {
   "cell_type": "code",
   "execution_count": 14,
   "metadata": {},
   "outputs": [
    {
     "data": {
      "text/plain": [
       "(99996,)"
      ]
     },
     "execution_count": 14,
     "metadata": {},
     "output_type": "execute_result"
    }
   ],
   "source": [
    "geo_1['id'].unique().shape"
   ]
  },
  {
   "cell_type": "code",
   "execution_count": 15,
   "metadata": {},
   "outputs": [
    {
     "data": {
      "text/plain": [
       "0"
      ]
     },
     "execution_count": 15,
     "metadata": {},
     "output_type": "execute_result"
    }
   ],
   "source": [
    "geo_1.duplicated().sum()"
   ]
  },
  {
   "cell_type": "code",
   "execution_count": 16,
   "metadata": {},
   "outputs": [],
   "source": [
    "geo_2 = pd.read_csv('/datasets/geo_data_2.csv')"
   ]
  },
  {
   "cell_type": "code",
   "execution_count": 17,
   "metadata": {
    "scrolled": true
   },
   "outputs": [
    {
     "data": {
      "text/html": [
       "<div>\n",
       "<style scoped>\n",
       "    .dataframe tbody tr th:only-of-type {\n",
       "        vertical-align: middle;\n",
       "    }\n",
       "\n",
       "    .dataframe tbody tr th {\n",
       "        vertical-align: top;\n",
       "    }\n",
       "\n",
       "    .dataframe thead th {\n",
       "        text-align: right;\n",
       "    }\n",
       "</style>\n",
       "<table border=\"1\" class=\"dataframe\">\n",
       "  <thead>\n",
       "    <tr style=\"text-align: right;\">\n",
       "      <th></th>\n",
       "      <th>id</th>\n",
       "      <th>f0</th>\n",
       "      <th>f1</th>\n",
       "      <th>f2</th>\n",
       "      <th>product</th>\n",
       "    </tr>\n",
       "  </thead>\n",
       "  <tbody>\n",
       "    <tr>\n",
       "      <th>0</th>\n",
       "      <td>fwXo0</td>\n",
       "      <td>-1.146987</td>\n",
       "      <td>0.963328</td>\n",
       "      <td>-0.828965</td>\n",
       "      <td>27.758673</td>\n",
       "    </tr>\n",
       "    <tr>\n",
       "      <th>1</th>\n",
       "      <td>WJtFt</td>\n",
       "      <td>0.262778</td>\n",
       "      <td>0.269839</td>\n",
       "      <td>-2.530187</td>\n",
       "      <td>56.069697</td>\n",
       "    </tr>\n",
       "    <tr>\n",
       "      <th>2</th>\n",
       "      <td>ovLUW</td>\n",
       "      <td>0.194587</td>\n",
       "      <td>0.289035</td>\n",
       "      <td>-5.586433</td>\n",
       "      <td>62.871910</td>\n",
       "    </tr>\n",
       "    <tr>\n",
       "      <th>3</th>\n",
       "      <td>q6cA6</td>\n",
       "      <td>2.236060</td>\n",
       "      <td>-0.553760</td>\n",
       "      <td>0.930038</td>\n",
       "      <td>114.572842</td>\n",
       "    </tr>\n",
       "    <tr>\n",
       "      <th>4</th>\n",
       "      <td>WPMUX</td>\n",
       "      <td>-0.515993</td>\n",
       "      <td>1.716266</td>\n",
       "      <td>5.899011</td>\n",
       "      <td>149.600746</td>\n",
       "    </tr>\n",
       "  </tbody>\n",
       "</table>\n",
       "</div>"
      ],
      "text/plain": [
       "      id        f0        f1        f2     product\n",
       "0  fwXo0 -1.146987  0.963328 -0.828965   27.758673\n",
       "1  WJtFt  0.262778  0.269839 -2.530187   56.069697\n",
       "2  ovLUW  0.194587  0.289035 -5.586433   62.871910\n",
       "3  q6cA6  2.236060 -0.553760  0.930038  114.572842\n",
       "4  WPMUX -0.515993  1.716266  5.899011  149.600746"
      ]
     },
     "execution_count": 17,
     "metadata": {},
     "output_type": "execute_result"
    }
   ],
   "source": [
    "geo_2.head()"
   ]
  },
  {
   "cell_type": "code",
   "execution_count": 18,
   "metadata": {
    "scrolled": true
   },
   "outputs": [
    {
     "name": "stdout",
     "output_type": "stream",
     "text": [
      "<class 'pandas.core.frame.DataFrame'>\n",
      "RangeIndex: 100000 entries, 0 to 99999\n",
      "Data columns (total 5 columns):\n",
      " #   Column   Non-Null Count   Dtype  \n",
      "---  ------   --------------   -----  \n",
      " 0   id       100000 non-null  object \n",
      " 1   f0       100000 non-null  float64\n",
      " 2   f1       100000 non-null  float64\n",
      " 3   f2       100000 non-null  float64\n",
      " 4   product  100000 non-null  float64\n",
      "dtypes: float64(4), object(1)\n",
      "memory usage: 3.8+ MB\n"
     ]
    }
   ],
   "source": [
    "geo_2.info()"
   ]
  },
  {
   "cell_type": "code",
   "execution_count": 19,
   "metadata": {
    "scrolled": true
   },
   "outputs": [
    {
     "data": {
      "image/png": "[encoded data removed]",
      "text/plain": [
       "<Figure size 432x288 with 4 Axes>"
      ]
     },
     "metadata": {
      "needs_background": "light"
     },
     "output_type": "display_data"
    }
   ],
   "source": [
    "geo_2.hist();"
   ]
  },
  {
   "cell_type": "code",
   "execution_count": 20,
   "metadata": {},
   "outputs": [
    {
     "data": {
      "text/plain": [
       "(99996,)"
      ]
     },
     "execution_count": 20,
     "metadata": {},
     "output_type": "execute_result"
    }
   ],
   "source": [
    "geo_2['id'].unique().shape"
   ]
  },
  {
   "cell_type": "code",
   "execution_count": 21,
   "metadata": {},
   "outputs": [
    {
     "data": {
      "text/plain": [
       "0"
      ]
     },
     "execution_count": 21,
     "metadata": {},
     "output_type": "execute_result"
    }
   ],
   "source": [
    "geo_2.duplicated().sum()"
   ]
  },
  {
   "cell_type": "markdown",
   "metadata": {},
   "source": [
    "<div style=\"border: 5px solid violet; border-radius: 5px;\">\n",
    "Всё практически аналогично с первым датасетом. Самое главное - правильные типы столбцов и отсутствие пропусков.\n",
    "\n",
    "Есть интересные закономерности на гистограммах во втором датасете, но исследовать мы это не будем. Пока что. \n",
    "</div>"
   ]
  },
  {
   "cell_type": "code",
   "execution_count": 22,
   "metadata": {
    "scrolled": true
   },
   "outputs": [
    {
     "data": {
      "text/html": [
       "<div>\n",
       "<style scoped>\n",
       "    .dataframe tbody tr th:only-of-type {\n",
       "        vertical-align: middle;\n",
       "    }\n",
       "\n",
       "    .dataframe tbody tr th {\n",
       "        vertical-align: top;\n",
       "    }\n",
       "\n",
       "    .dataframe thead th {\n",
       "        text-align: right;\n",
       "    }\n",
       "</style>\n",
       "<table border=\"1\" class=\"dataframe\">\n",
       "  <thead>\n",
       "    <tr style=\"text-align: right;\">\n",
       "      <th></th>\n",
       "      <th>f0</th>\n",
       "      <th>f1</th>\n",
       "      <th>f2</th>\n",
       "      <th>product</th>\n",
       "    </tr>\n",
       "  </thead>\n",
       "  <tbody>\n",
       "    <tr>\n",
       "      <th>f0</th>\n",
       "      <td>1.000000</td>\n",
       "      <td>-0.440723</td>\n",
       "      <td>-0.003153</td>\n",
       "      <td>0.143536</td>\n",
       "    </tr>\n",
       "    <tr>\n",
       "      <th>f1</th>\n",
       "      <td>-0.440723</td>\n",
       "      <td>1.000000</td>\n",
       "      <td>0.001724</td>\n",
       "      <td>-0.192356</td>\n",
       "    </tr>\n",
       "    <tr>\n",
       "      <th>f2</th>\n",
       "      <td>-0.003153</td>\n",
       "      <td>0.001724</td>\n",
       "      <td>1.000000</td>\n",
       "      <td>0.483663</td>\n",
       "    </tr>\n",
       "    <tr>\n",
       "      <th>product</th>\n",
       "      <td>0.143536</td>\n",
       "      <td>-0.192356</td>\n",
       "      <td>0.483663</td>\n",
       "      <td>1.000000</td>\n",
       "    </tr>\n",
       "  </tbody>\n",
       "</table>\n",
       "</div>"
      ],
      "text/plain": [
       "               f0        f1        f2   product\n",
       "f0       1.000000 -0.440723 -0.003153  0.143536\n",
       "f1      -0.440723  1.000000  0.001724 -0.192356\n",
       "f2      -0.003153  0.001724  1.000000  0.483663\n",
       "product  0.143536 -0.192356  0.483663  1.000000"
      ]
     },
     "execution_count": 22,
     "metadata": {},
     "output_type": "execute_result"
    }
   ],
   "source": [
    "geo_0.corr()"
   ]
  },
  {
   "cell_type": "code",
   "execution_count": 23,
   "metadata": {
    "scrolled": true
   },
   "outputs": [
    {
     "data": {
      "text/html": [
       "<div>\n",
       "<style scoped>\n",
       "    .dataframe tbody tr th:only-of-type {\n",
       "        vertical-align: middle;\n",
       "    }\n",
       "\n",
       "    .dataframe tbody tr th {\n",
       "        vertical-align: top;\n",
       "    }\n",
       "\n",
       "    .dataframe thead th {\n",
       "        text-align: right;\n",
       "    }\n",
       "</style>\n",
       "<table border=\"1\" class=\"dataframe\">\n",
       "  <thead>\n",
       "    <tr style=\"text-align: right;\">\n",
       "      <th></th>\n",
       "      <th>f0</th>\n",
       "      <th>f1</th>\n",
       "      <th>f2</th>\n",
       "      <th>product</th>\n",
       "    </tr>\n",
       "  </thead>\n",
       "  <tbody>\n",
       "    <tr>\n",
       "      <th>f0</th>\n",
       "      <td>1.000000</td>\n",
       "      <td>0.182287</td>\n",
       "      <td>-0.001777</td>\n",
       "      <td>-0.030491</td>\n",
       "    </tr>\n",
       "    <tr>\n",
       "      <th>f1</th>\n",
       "      <td>0.182287</td>\n",
       "      <td>1.000000</td>\n",
       "      <td>-0.002595</td>\n",
       "      <td>-0.010155</td>\n",
       "    </tr>\n",
       "    <tr>\n",
       "      <th>f2</th>\n",
       "      <td>-0.001777</td>\n",
       "      <td>-0.002595</td>\n",
       "      <td>1.000000</td>\n",
       "      <td>0.999397</td>\n",
       "    </tr>\n",
       "    <tr>\n",
       "      <th>product</th>\n",
       "      <td>-0.030491</td>\n",
       "      <td>-0.010155</td>\n",
       "      <td>0.999397</td>\n",
       "      <td>1.000000</td>\n",
       "    </tr>\n",
       "  </tbody>\n",
       "</table>\n",
       "</div>"
      ],
      "text/plain": [
       "               f0        f1        f2   product\n",
       "f0       1.000000  0.182287 -0.001777 -0.030491\n",
       "f1       0.182287  1.000000 -0.002595 -0.010155\n",
       "f2      -0.001777 -0.002595  1.000000  0.999397\n",
       "product -0.030491 -0.010155  0.999397  1.000000"
      ]
     },
     "execution_count": 23,
     "metadata": {},
     "output_type": "execute_result"
    }
   ],
   "source": [
    "geo_1.corr()"
   ]
  },
  {
   "cell_type": "code",
   "execution_count": 24,
   "metadata": {
    "scrolled": true
   },
   "outputs": [
    {
     "data": {
      "text/html": [
       "<div>\n",
       "<style scoped>\n",
       "    .dataframe tbody tr th:only-of-type {\n",
       "        vertical-align: middle;\n",
       "    }\n",
       "\n",
       "    .dataframe tbody tr th {\n",
       "        vertical-align: top;\n",
       "    }\n",
       "\n",
       "    .dataframe thead th {\n",
       "        text-align: right;\n",
       "    }\n",
       "</style>\n",
       "<table border=\"1\" class=\"dataframe\">\n",
       "  <thead>\n",
       "    <tr style=\"text-align: right;\">\n",
       "      <th></th>\n",
       "      <th>f0</th>\n",
       "      <th>f1</th>\n",
       "      <th>f2</th>\n",
       "      <th>product</th>\n",
       "    </tr>\n",
       "  </thead>\n",
       "  <tbody>\n",
       "    <tr>\n",
       "      <th>f0</th>\n",
       "      <td>1.000000</td>\n",
       "      <td>0.000528</td>\n",
       "      <td>-0.000448</td>\n",
       "      <td>-0.001987</td>\n",
       "    </tr>\n",
       "    <tr>\n",
       "      <th>f1</th>\n",
       "      <td>0.000528</td>\n",
       "      <td>1.000000</td>\n",
       "      <td>0.000779</td>\n",
       "      <td>-0.001012</td>\n",
       "    </tr>\n",
       "    <tr>\n",
       "      <th>f2</th>\n",
       "      <td>-0.000448</td>\n",
       "      <td>0.000779</td>\n",
       "      <td>1.000000</td>\n",
       "      <td>0.445871</td>\n",
       "    </tr>\n",
       "    <tr>\n",
       "      <th>product</th>\n",
       "      <td>-0.001987</td>\n",
       "      <td>-0.001012</td>\n",
       "      <td>0.445871</td>\n",
       "      <td>1.000000</td>\n",
       "    </tr>\n",
       "  </tbody>\n",
       "</table>\n",
       "</div>"
      ],
      "text/plain": [
       "               f0        f1        f2   product\n",
       "f0       1.000000  0.000528 -0.000448 -0.001987\n",
       "f1       0.000528  1.000000  0.000779 -0.001012\n",
       "f2      -0.000448  0.000779  1.000000  0.445871\n",
       "product -0.001987 -0.001012  0.445871  1.000000"
      ]
     },
     "execution_count": 24,
     "metadata": {},
     "output_type": "execute_result"
    }
   ],
   "source": [
    "geo_2.corr()"
   ]
  },
  {
   "cell_type": "code",
   "execution_count": 25,
   "metadata": {
    "scrolled": true
   },
   "outputs": [
    {
     "data": {
      "text/plain": [
       "(12,)"
      ]
     },
     "execution_count": 25,
     "metadata": {},
     "output_type": "execute_result"
    }
   ],
   "source": [
    "geo_1['product'].unique().shape"
   ]
  },
  {
   "cell_type": "code",
   "execution_count": 26,
   "metadata": {
    "scrolled": true
   },
   "outputs": [
    {
     "data": {
      "text/plain": [
       "count    100000.000000\n",
       "mean         68.825000\n",
       "std          45.944423\n",
       "min           0.000000\n",
       "25%          26.953261\n",
       "50%          57.085625\n",
       "75%         107.813044\n",
       "max         137.945408\n",
       "Name: product, dtype: float64"
      ]
     },
     "execution_count": 26,
     "metadata": {},
     "output_type": "execute_result"
    }
   ],
   "source": [
    "geo_1['product'].describe()"
   ]
  },
  {
   "cell_type": "code",
   "execution_count": 27,
   "metadata": {},
   "outputs": [
    {
     "data": {
      "text/plain": [
       "(100000,)"
      ]
     },
     "execution_count": 27,
     "metadata": {},
     "output_type": "execute_result"
    }
   ],
   "source": [
    "geo_1['f2'].unique().shape"
   ]
  },
  {
   "cell_type": "markdown",
   "metadata": {},
   "source": [
    "### Деление данных"
   ]
  },
  {
   "cell_type": "code",
   "execution_count": 28,
   "metadata": {
    "scrolled": true
   },
   "outputs": [
    {
     "name": "stdout",
     "output_type": "stream",
     "text": [
      "             f0        f1        f2\n",
      "0      0.705745 -0.497823  1.221170\n",
      "1      1.334711 -0.340164  4.365080\n",
      "2      1.022732  0.151990  1.419926\n",
      "3     -0.032172  0.139033  2.978566\n",
      "4      1.988431  0.155413  4.751769\n",
      "...         ...       ...       ...\n",
      "99995  0.971957  0.370953  6.075346\n",
      "99996  1.392429 -0.382606  1.273912\n",
      "99997  1.029585  0.018787 -1.348308\n",
      "99998  0.998163 -0.528582  1.583869\n",
      "99999  1.764754 -0.266417  5.722849\n",
      "\n",
      "[100000 rows x 3 columns]\n",
      "0        105.280062\n",
      "1         73.037750\n",
      "2         85.265647\n",
      "3        168.620776\n",
      "4        154.036647\n",
      "            ...    \n",
      "99995    110.744026\n",
      "99996    122.346843\n",
      "99997     64.375443\n",
      "99998     74.040764\n",
      "99999    149.633246\n",
      "Name: product, Length: 100000, dtype: float64\n"
     ]
    }
   ],
   "source": [
    "geo_0_features = geo_0.drop(['id', 'product'], axis=1)\n",
    "geo_0_target = geo_0['product']\n",
    "print(geo_0_features)\n",
    "print(geo_0_target)"
   ]
  },
  {
   "cell_type": "code",
   "execution_count": 29,
   "metadata": {},
   "outputs": [],
   "source": [
    "geo_1_features = geo_1.drop(['id', 'product'], axis=1)\n",
    "geo_1_target = geo_1['product']"
   ]
  },
  {
   "cell_type": "code",
   "execution_count": 30,
   "metadata": {},
   "outputs": [],
   "source": [
    "geo_2_features = geo_2.drop(['id', 'product'], axis=1)\n",
    "geo_2_target = geo_2['product']"
   ]
  },
  {
   "cell_type": "code",
   "execution_count": 31,
   "metadata": {
    "scrolled": true
   },
   "outputs": [
    {
     "name": "stdout",
     "output_type": "stream",
     "text": [
      "(75000, 3)\n",
      "(75000,)\n",
      "(25000, 3)\n",
      "(25000,)\n"
     ]
    }
   ],
   "source": [
    "geo_0_features_train, geo_0_features_valid, geo_0_target_train, geo_0_target_valid = (train_test_split(geo_0_features,\n",
    "                                                                                                       geo_0_target,\n",
    "                                                                                                       test_size=0.25,\n",
    "                                                                                                       random_state=12345)\n",
    ")\n",
    "print(geo_0_features_train.shape)\n",
    "print(geo_0_target_train.shape)\n",
    "print(geo_0_features_valid.shape)\n",
    "print(geo_0_target_valid.shape)"
   ]
  },
  {
   "cell_type": "code",
   "execution_count": 32,
   "metadata": {},
   "outputs": [
    {
     "name": "stdout",
     "output_type": "stream",
     "text": [
      "(75000, 3)\n",
      "(75000,)\n",
      "(25000, 3)\n",
      "(25000,)\n"
     ]
    }
   ],
   "source": [
    "geo_1_features_train, geo_1_features_valid, geo_1_target_train, geo_1_target_valid = (train_test_split(geo_1_features,\n",
    "                                                                                                       geo_1_target,\n",
    "                                                                                                       test_size=0.25,\n",
    "                                                                                                       random_state=12345)\n",
    ")\n",
    "print(geo_1_features_train.shape)\n",
    "print(geo_1_target_train.shape)\n",
    "print(geo_1_features_valid.shape)\n",
    "print(geo_1_target_valid.shape)"
   ]
  },
  {
   "cell_type": "code",
   "execution_count": 33,
   "metadata": {
    "scrolled": true
   },
   "outputs": [
    {
     "name": "stdout",
     "output_type": "stream",
     "text": [
      "(75000, 3)\n",
      "(75000,)\n",
      "(25000, 3)\n",
      "(25000,)\n"
     ]
    }
   ],
   "source": [
    "geo_2_features_train, geo_2_features_valid, geo_2_target_train, geo_2_target_valid = (train_test_split(geo_2_features,\n",
    "                                                                                                       geo_2_target,\n",
    "                                                                                                       test_size=0.25,\n",
    "                                                                                                       random_state=12345)\n",
    ")\n",
    "print(geo_2_features_train.shape)\n",
    "print(geo_2_target_train.shape)\n",
    "print(geo_2_features_valid.shape)\n",
    "print(geo_2_target_valid.shape)"
   ]
  },
  {
   "cell_type": "markdown",
   "metadata": {},
   "source": [
    "<div style=\"border: 5px solid violet; border-radius: 5px;\">\n",
    "Из признаков, помимо целевого признака, также удалили столбец с id. Он бесполезен, возможно, даже будет мешать.\n",
    "\n",
    "    \n",
    "В задании сказано, что нужно обучить модель для каждого региона. Старшие коллеги и коллеги в обсуждении упомянули, что тоже лучше для каждого регионга своя модель, так как у каждого могут быть свои особенности. Поэтому у нас 3 набора данных. \n",
    "    \n",
    "Делили без тестовой в соотношении 3:1.\n",
    "</div>"
   ]
  },
  {
   "cell_type": "markdown",
   "metadata": {},
   "source": [
    "### Масштабирование"
   ]
  },
  {
   "cell_type": "markdown",
   "metadata": {},
   "source": [
    "<div style=\"border: 5px solid violet; border-radius: 5px;\">\n",
    "Данные практически готовы к анализу. \n",
    "\n",
    "Сделаем только всё таки масштабирование, потому что в некоторых датасетах - разница в 4-5 раз между величинами.\n",
    "\n",
    "Также для каждого региона будет своё масштабирование.\n",
    "</div>"
   ]
  },
  {
   "cell_type": "code",
   "execution_count": 34,
   "metadata": {},
   "outputs": [],
   "source": [
    "numeric = ['f0', 'f1', 'f2']\n",
    "scaler_0 = StandardScaler()\n",
    "\n",
    "geo_0_features_train[numeric] = scaler_0.fit_transform(geo_0_features_train[numeric])\n",
    "geo_0_features_valid[numeric] = scaler_0.transform(geo_0_features_valid[numeric])"
   ]
  },
  {
   "cell_type": "code",
   "execution_count": 35,
   "metadata": {},
   "outputs": [],
   "source": [
    "scaler_1 = StandardScaler()\n",
    "\n",
    "geo_1_features_train[numeric] = scaler_1.fit_transform(geo_1_features_train[numeric])\n",
    "geo_1_features_valid[numeric] = scaler_1.transform(geo_1_features_valid[numeric])"
   ]
  },
  {
   "cell_type": "code",
   "execution_count": 36,
   "metadata": {},
   "outputs": [],
   "source": [
    "scaler_2 = StandardScaler()\n",
    "\n",
    "geo_2_features_train[numeric] = scaler_2.fit_transform(geo_2_features_train[numeric])\n",
    "geo_2_features_valid[numeric] = scaler_2.transform(geo_2_features_valid[numeric])"
   ]
  },
  {
   "cell_type": "code",
   "execution_count": 37,
   "metadata": {
    "scrolled": true
   },
   "outputs": [
    {
     "data": {
      "text/html": [
       "<div>\n",
       "<style scoped>\n",
       "    .dataframe tbody tr th:only-of-type {\n",
       "        vertical-align: middle;\n",
       "    }\n",
       "\n",
       "    .dataframe tbody tr th {\n",
       "        vertical-align: top;\n",
       "    }\n",
       "\n",
       "    .dataframe thead th {\n",
       "        text-align: right;\n",
       "    }\n",
       "</style>\n",
       "<table border=\"1\" class=\"dataframe\">\n",
       "  <thead>\n",
       "    <tr style=\"text-align: right;\">\n",
       "      <th></th>\n",
       "      <th>f0</th>\n",
       "      <th>f1</th>\n",
       "      <th>f2</th>\n",
       "    </tr>\n",
       "  </thead>\n",
       "  <tbody>\n",
       "    <tr>\n",
       "      <th>27212</th>\n",
       "      <td>-0.526160</td>\n",
       "      <td>0.776329</td>\n",
       "      <td>-0.400793</td>\n",
       "    </tr>\n",
       "    <tr>\n",
       "      <th>7866</th>\n",
       "      <td>-0.889625</td>\n",
       "      <td>-0.404070</td>\n",
       "      <td>-1.222936</td>\n",
       "    </tr>\n",
       "    <tr>\n",
       "      <th>62041</th>\n",
       "      <td>-1.133984</td>\n",
       "      <td>0.208576</td>\n",
       "      <td>0.296765</td>\n",
       "    </tr>\n",
       "    <tr>\n",
       "      <th>70185</th>\n",
       "      <td>1.227045</td>\n",
       "      <td>1.570166</td>\n",
       "      <td>-0.764556</td>\n",
       "    </tr>\n",
       "    <tr>\n",
       "      <th>82230</th>\n",
       "      <td>-0.194289</td>\n",
       "      <td>0.878312</td>\n",
       "      <td>0.840821</td>\n",
       "    </tr>\n",
       "  </tbody>\n",
       "</table>\n",
       "</div>"
      ],
      "text/plain": [
       "             f0        f1        f2\n",
       "27212 -0.526160  0.776329 -0.400793\n",
       "7866  -0.889625 -0.404070 -1.222936\n",
       "62041 -1.133984  0.208576  0.296765\n",
       "70185  1.227045  1.570166 -0.764556\n",
       "82230 -0.194289  0.878312  0.840821"
      ]
     },
     "execution_count": 37,
     "metadata": {},
     "output_type": "execute_result"
    }
   ],
   "source": [
    "geo_2_features_train.head()"
   ]
  },
  {
   "cell_type": "markdown",
   "metadata": {},
   "source": [
    "### Вывод"
   ]
  },
  {
   "cell_type": "markdown",
   "metadata": {},
   "source": [
    "<div style=\"border: 5px solid violet; border-radius: 5px;\">\n",
    "Данные поступили в удобном виде. Какой-либо предобработки из-за качества данных не требовалось.\n",
    "\n",
    "Для каждого региона свой датасет и он был рассмотрен отдельно. Из датасетов вычлениили целевой признак и признаки, разделили данные на трениворочную и валидационную выборки в соотношении 3:1. Также удалили столбец с id - для модели он лишний.\n",
    "\n",
    "К разделённым данным было применено масштабирование, для выравнивая признаков. Некоторые отличались друг от друга в 4-5 раз.\n",
    "</div>"
   ]
  },
  {
   "cell_type": "markdown",
   "metadata": {},
   "source": [
    "## Обучение и проверка модели"
   ]
  },
  {
   "cell_type": "markdown",
   "metadata": {},
   "source": [
    "### Модель для 0 региона"
   ]
  },
  {
   "cell_type": "code",
   "execution_count": 38,
   "metadata": {
    "scrolled": true
   },
   "outputs": [
    {
     "name": "stdout",
     "output_type": "stream",
     "text": [
      "RMSE модели линейной регрессии на валидационной выборке: 37.5794217150813\n",
      "Средний запас предсказанного сырья в нулевом регионе 92.59256778438035\n"
     ]
    }
   ],
   "source": [
    "geo_0_model = LinearRegression()\n",
    "geo_0_model.fit(geo_0_features_train, geo_0_target_train)\n",
    "geo_0_predictions_valid = geo_0_model.predict(geo_0_features_valid)\n",
    "\n",
    "geo_0_mean_product = geo_0_predictions_valid.mean()\n",
    "geo_0_result = mean_squared_error(geo_0_target_valid, geo_0_predictions_valid) ** 0.5\n",
    "\n",
    "print(\"RMSE модели линейной регрессии на валидационной выборке:\", geo_0_result)\n",
    "print(\"Средний запас предсказанного сырья в нулевом регионе\", geo_0_mean_product)"
   ]
  },
  {
   "cell_type": "markdown",
   "metadata": {},
   "source": [
    "<div style=\"border: 5px solid violet; border-radius: 5px;\">\n",
    "На мой взгляд получилось слишком большое RMSE. Автоматический подбор гиперпараметров в линейной регрессии я себе плохо представляю.\n",
    "    \n",
    "Попробую кросс-валидацию, которую мы изучали в этом спринте.\n",
    "</div>"
   ]
  },
  {
   "cell_type": "code",
   "execution_count": 39,
   "metadata": {},
   "outputs": [
    {
     "data": {
      "text/plain": [
       "array([37.92107462, 37.6622863 , 37.54272905, 37.65056326])"
      ]
     },
     "execution_count": 39,
     "metadata": {},
     "output_type": "execute_result"
    }
   ],
   "source": [
    "geo_0_model_cross_valid = LinearRegression()\n",
    "abs(cross_val_score(geo_0_model_cross_valid, geo_0_features, geo_0_target, cv=4, scoring='neg_mean_squared_error')) ** 0.5"
   ]
  },
  {
   "cell_type": "markdown",
   "metadata": {},
   "source": [
    "<div style=\"border: 5px solid violet; border-radius: 5px;\">\n",
    "Если правильно воспользовался stackoverflow, то изменений в метрике мы не получили.\n",
    "</div>"
   ]
  },
  {
   "cell_type": "markdown",
   "metadata": {},
   "source": [
    "### Модель для 1 региона"
   ]
  },
  {
   "cell_type": "code",
   "execution_count": 40,
   "metadata": {
    "scrolled": true
   },
   "outputs": [
    {
     "name": "stdout",
     "output_type": "stream",
     "text": [
      "RMSE модели линейной регрессии на валидационной выборке: 0.893099286775617\n",
      "Средний запас предсказанного сырья в нулевом регионе 68.728546895446\n"
     ]
    }
   ],
   "source": [
    "geo_1_model = LinearRegression()\n",
    "geo_1_model.fit(geo_1_features_train, geo_1_target_train)\n",
    "geo_1_predictions_valid = geo_1_model.predict(geo_1_features_valid)\n",
    "\n",
    "geo_1_mean_product = geo_1_predictions_valid.mean()\n",
    "geo_1_result = mean_squared_error(geo_1_target_valid, geo_1_predictions_valid) ** 0.5\n",
    "\n",
    "print(\"RMSE модели линейной регрессии на валидационной выборке:\", geo_1_result)\n",
    "print(\"Средний запас предсказанного сырья в нулевом регионе\", geo_1_mean_product)"
   ]
  },
  {
   "cell_type": "code",
   "execution_count": 41,
   "metadata": {},
   "outputs": [
    {
     "data": {
      "text/plain": [
       "array([0.88726982, 0.89779003, 0.88211127, 0.89444565])"
      ]
     },
     "execution_count": 41,
     "metadata": {},
     "output_type": "execute_result"
    }
   ],
   "source": [
    "geo_1_model_cross_valid = LinearRegression()\n",
    "abs(cross_val_score(geo_1_model_cross_valid, geo_1_features, geo_1_target, cv=4, scoring='neg_mean_squared_error')) ** 0.5"
   ]
  },
  {
   "cell_type": "code",
   "execution_count": 42,
   "metadata": {},
   "outputs": [
    {
     "data": {
      "text/plain": [
       "array([ 82.66331365,  54.43178616,  29.74875995, ..., 137.87934053,\n",
       "        83.76196568,  53.95846638])"
      ]
     },
     "execution_count": 42,
     "metadata": {},
     "output_type": "execute_result"
    }
   ],
   "source": [
    "geo_1_predictions_valid"
   ]
  },
  {
   "cell_type": "code",
   "execution_count": 43,
   "metadata": {
    "scrolled": false
   },
   "outputs": [
    {
     "data": {
      "text/plain": [
       "71751     80.859783\n",
       "80493     53.906522\n",
       "2655      30.132364\n",
       "53233     53.906522\n",
       "91141      0.000000\n",
       "            ...    \n",
       "12581    137.945408\n",
       "18456    110.992147\n",
       "73035    137.945408\n",
       "63834     84.038886\n",
       "43558     53.906522\n",
       "Name: product, Length: 25000, dtype: float64"
      ]
     },
     "execution_count": 43,
     "metadata": {},
     "output_type": "execute_result"
    }
   ],
   "source": [
    "geo_1_target_valid"
   ]
  },
  {
   "cell_type": "markdown",
   "metadata": {},
   "source": [
    "<div style=\"border: 5px solid violet; border-radius: 5px;\">\n",
    "Здесь наоборот получили очень низкий RMSE.\n",
    "    \n",
    "Кросс-валидация его подтвердила.\n",
    "    \n",
    "На всякий случай посмотерл вручную - совпадает.\n",
    "    \n",
    "Тут вспоминается, что у 1 региона были особенности на гистограммах.\n",
    "</div>"
   ]
  },
  {
   "cell_type": "markdown",
   "metadata": {},
   "source": [
    "### Модель для региона 2"
   ]
  },
  {
   "cell_type": "code",
   "execution_count": 44,
   "metadata": {},
   "outputs": [
    {
     "name": "stdout",
     "output_type": "stream",
     "text": [
      "RMSE модели линейной регрессии на валидационной выборке: 40.02970873393434\n",
      "Средний запас предсказанного сырья в нулевом регионе 94.96504596800489\n"
     ]
    }
   ],
   "source": [
    "geo_2_model = LinearRegression()\n",
    "geo_2_model.fit(geo_2_features_train, geo_2_target_train)\n",
    "geo_2_predictions_valid = geo_2_model.predict(geo_2_features_valid)\n",
    "\n",
    "geo_2_mean_product = geo_2_predictions_valid.mean()\n",
    "geo_2_result = mean_squared_error(geo_2_target_valid, geo_2_predictions_valid) ** 0.5\n",
    "\n",
    "print(\"RMSE модели линейной регрессии на валидационной выборке:\", geo_2_result)\n",
    "print(\"Средний запас предсказанного сырья в нулевом регионе\", geo_2_mean_product)"
   ]
  },
  {
   "cell_type": "code",
   "execution_count": 45,
   "metadata": {
    "scrolled": false
   },
   "outputs": [
    {
     "data": {
      "text/plain": [
       "array([40.29936818, 39.96604688, 39.9569993 , 40.00368127])"
      ]
     },
     "execution_count": 45,
     "metadata": {},
     "output_type": "execute_result"
    }
   ],
   "source": [
    "geo_2_model_cross_valid = LinearRegression()\n",
    "abs(cross_val_score(geo_2_model_cross_valid, geo_2_features, geo_2_target, cv=4, scoring='neg_mean_squared_error')) ** 0.5"
   ]
  },
  {
   "cell_type": "markdown",
   "metadata": {},
   "source": [
    "<div style=\"border: 5px solid violet; border-radius: 5px;\">\n",
    "Повторилось тоже самое, что с 0 регионом. На мой взгляд - большое RMSE.\n",
    "</div>"
   ]
  },
  {
   "cell_type": "markdown",
   "metadata": {},
   "source": [
    "### Вывод"
   ]
  },
  {
   "cell_type": "markdown",
   "metadata": {},
   "source": [
    "<div style=\"border: 5px solid violet; border-radius: 5px;\">\n",
    "За основную модель была принята линейная регрессия и метрика RMSE.\n",
    "\n",
    "0 и 2 регион показали, на мой взгляд, большие RMSE в треть и почти половину от среднего. \n",
    "\n",
    "1 регион показал очень низкий RMSE, но у него в данных были особенностию. К сожалению, данные можно сказать зашифрованы, и распространить это на другие модели тяжело. В 1 регионе больше диапазон признаков f0 и f1, и наоборот меньше диапазон признака f2.\n",
    "\n",
    "Для возможного улучшения/проверки метрик была применена кросс-валидация - подтвердила и не улучшила.\n",
    "    \n",
    "Итого:\n",
    "У нас есть 3 модели для каждого из регионов.\n",
    "\n",
    "0 - RMSE 37\n",
    "    \n",
    "1 - RMSE 0.89\n",
    "    \n",
    "2 - RMSE 40\n",
    "</div>"
   ]
  },
  {
   "cell_type": "markdown",
   "metadata": {},
   "source": [
    "## Подготовка к расчёту прибыли"
   ]
  },
  {
   "cell_type": "code",
   "execution_count": 46,
   "metadata": {
    "scrolled": true
   },
   "outputs": [
    {
     "data": {
      "text/plain": [
       "111.11111111111111"
      ]
     },
     "execution_count": 46,
     "metadata": {},
     "output_type": "execute_result"
    }
   ],
   "source": [
    "mean_without_loss = BUDGET / INCOME_BARREL / COUNT_BEST\n",
    "mean_without_loss"
   ]
  },
  {
   "cell_type": "markdown",
   "metadata": {},
   "source": [
    "<div style=\"border: 5px solid violet; border-radius: 5px;\">\n",
    "Получается, что из 200 лучших скважин среднее безубыточное это 111 единиц продукта с каждой. \n",
    "\n",
    "В регионах у нас среднее 90 и 60, грубо, плюс возможная ошибка, там где 90 это 37-40 единиц +-, а всего там почти 10000 скважин, что даёт шанс, что найдутся 200 с хорошим количеством единиц.\n",
    "\n",
    "Вполне вероятно, что регион под номером 1, вылетает - из-за низкого среднего, маленького RMSE, что в совокупности даёт среднее почти в два раза меньше минимума и 200 скажин не покроют требуемый объём бюджета.\n",
    "</div>"
   ]
  },
  {
   "cell_type": "code",
   "execution_count": 47,
   "metadata": {
    "scrolled": true
   },
   "outputs": [
    {
     "data": {
      "text/plain": [
       "array([ 95.89495185,  77.57258261,  77.89263965, ...,  61.50983303,\n",
       "       118.18039721, 118.16939229])"
      ]
     },
     "execution_count": 47,
     "metadata": {},
     "output_type": "execute_result"
    }
   ],
   "source": [
    "geo_0_predictions_valid"
   ]
  },
  {
   "cell_type": "code",
   "execution_count": 48,
   "metadata": {
    "scrolled": false
   },
   "outputs": [
    {
     "data": {
      "text/plain": [
       "71751     10.038645\n",
       "80493    114.551489\n",
       "2655     132.603635\n",
       "53233    169.072125\n",
       "91141    122.325180\n",
       "            ...    \n",
       "12581    170.116726\n",
       "18456     93.632175\n",
       "73035    127.352259\n",
       "63834     99.782700\n",
       "43558    177.821022\n",
       "Name: product, Length: 25000, dtype: float64"
      ]
     },
     "execution_count": 48,
     "metadata": {},
     "output_type": "execute_result"
    }
   ],
   "source": [
    "geo_0_target_valid"
   ]
  },
  {
   "cell_type": "markdown",
   "metadata": {},
   "source": [
    "<div style=\"border: 5px solid violet; border-radius: 5px;\">\n",
    "Поскольку мы удаляли id и индексы, а по-хорошему не надо их терять - усложню функцию, чтобы там были доступны индексы. Смешивать функционал не хорошо, навряд-ли оттуда буду доставать/бутстрапить, но считаю нужным сохранить их там.\n",
    "</div>"
   ]
  },
  {
   "cell_type": "code",
   "execution_count": 49,
   "metadata": {},
   "outputs": [],
   "source": [
    "def cost_reg(where_index, predict_product, geo):\n",
    "    best_borehole = pd.Series(predict_product, index=where_index.index)\n",
    "    best_borehole = best_borehole.sort_values(ascending=False)[:COUNT_BEST]\n",
    "    true_borehole = geo.loc[best_borehole.index]\n",
    "    print('Бюджет в регионе окупается с 200 лучших предсказанных скважин?', (true_borehole['product'].sum() * INCOME_BARREL) >= BUDGET)\n",
    "    return (true_borehole['product'].sum() * INCOME_BARREL - BUDGET)"
   ]
  },
  {
   "cell_type": "markdown",
   "metadata": {},
   "source": [
    "## Расчёт прибыли и рисков "
   ]
  },
  {
   "cell_type": "markdown",
   "metadata": {},
   "source": [
    "### Расчёт прибыли"
   ]
  },
  {
   "cell_type": "code",
   "execution_count": 50,
   "metadata": {
    "scrolled": true
   },
   "outputs": [
    {
     "name": "stdout",
     "output_type": "stream",
     "text": [
      "Бюджет в регионе окупается с 200 лучших предсказанных скважин? True\n"
     ]
    },
    {
     "data": {
      "text/plain": [
       "3320826043.1398506"
      ]
     },
     "execution_count": 50,
     "metadata": {},
     "output_type": "execute_result"
    }
   ],
   "source": [
    "cost_reg(geo_0_target_valid, geo_0_predictions_valid, geo_0)"
   ]
  },
  {
   "cell_type": "code",
   "execution_count": 51,
   "metadata": {
    "scrolled": true
   },
   "outputs": [
    {
     "name": "stdout",
     "output_type": "stream",
     "text": [
      "Бюджет в регионе окупается с 200 лучших предсказанных скважин? True\n"
     ]
    },
    {
     "data": {
      "text/plain": [
       "2415086696.681511"
      ]
     },
     "execution_count": 51,
     "metadata": {},
     "output_type": "execute_result"
    }
   ],
   "source": [
    "cost_reg(geo_1_target_valid, geo_1_predictions_valid, geo_1)"
   ]
  },
  {
   "cell_type": "code",
   "execution_count": 52,
   "metadata": {
    "scrolled": true
   },
   "outputs": [
    {
     "name": "stdout",
     "output_type": "stream",
     "text": [
      "Бюджет в регионе окупается с 200 лучших предсказанных скважин? True\n"
     ]
    },
    {
     "data": {
      "text/plain": [
       "2710349963.5998325"
      ]
     },
     "execution_count": 52,
     "metadata": {},
     "output_type": "execute_result"
    }
   ],
   "source": [
    "cost_reg(geo_2_target_valid, geo_2_predictions_valid, geo_2)"
   ]
  },
  {
   "cell_type": "markdown",
   "metadata": {},
   "source": [
    "<div style=\"border: 5px solid violet; border-radius: 5px;\">\n",
    "Моё предположение начальное, оказалось неверным - в 1 регионе 200 скважин окупаются.\n",
    "    \n",
    "Грубой прикидкой все регионы окупаются.\n",
    "</div>"
   ]
  },
  {
   "cell_type": "markdown",
   "metadata": {},
   "source": [
    "### Распределение прибыли с помощью bootstrap"
   ]
  },
  {
   "cell_type": "code",
   "execution_count": 53,
   "metadata": {},
   "outputs": [],
   "source": [
    "def bootstrap(geo_predict, target, geo):\n",
    "    values = []\n",
    "    state = RandomState(12345)\n",
    "    predict = pd.Series(geo_predict, index=target.index)\n",
    "    for i in range(1000):\n",
    "        new_target = target.sample(n=COUNT_SCOUT, replace=True, random_state=state)\n",
    "        new_predict = predict[new_target.index].sort_values(ascending=False)[:COUNT_BEST]\n",
    "        new_will_sum = geo.loc[new_predict.index]\n",
    "        values.append(new_will_sum['product'].sum() * INCOME_BARREL - BUDGET) \n",
    "\n",
    "    values = pd.Series(values) \n",
    "    print(values.mean(), 'средняя прибыль')\n",
    "    lower = values.quantile(0.025)\n",
    "    upper = values.quantile(0.975)\n",
    "    print(lower)\n",
    "    print(upper)\n",
    "    losses_risk = (values < 0).mean() * 100\n",
    "    print(losses_risk, '%')\n"
   ]
  },
  {
   "cell_type": "code",
   "execution_count": 55,
   "metadata": {
    "scrolled": true
   },
   "outputs": [
    {
     "name": "stdout",
     "output_type": "stream",
     "text": [
      "396164984.8023711 средняя прибыль\n",
      "-111215545.89049526\n",
      "909766941.5534226\n",
      "6.9 %\n"
     ]
    }
   ],
   "source": [
    "bootstrap(geo_0_predictions_valid, geo_0_target_valid, geo_0)"
   ]
  },
  {
   "cell_type": "code",
   "execution_count": 56,
   "metadata": {},
   "outputs": [
    {
     "name": "stdout",
     "output_type": "stream",
     "text": [
      "456045105.7866608 средняя прибыль\n",
      "33820509.39898363\n",
      "852289453.866036\n",
      "1.5 %\n"
     ]
    }
   ],
   "source": [
    "bootstrap(geo_1_predictions_valid, geo_1_target_valid, geo_1)"
   ]
  },
  {
   "cell_type": "code",
   "execution_count": 57,
   "metadata": {
    "scrolled": true
   },
   "outputs": [
    {
     "name": "stdout",
     "output_type": "stream",
     "text": [
      "404403866.5683568 средняя прибыль\n",
      "-163350413.39560106\n",
      "950359574.9237995\n",
      "7.6 %\n"
     ]
    }
   ],
   "source": [
    "bootstrap(geo_2_predictions_valid, geo_2_target_valid, geo_2) "
   ]
  },
  {
   "cell_type": "markdown",
   "metadata": {},
   "source": [
    "<div style=\"border: 5px solid violet; border-radius: 5px;\">\n",
    "Единственный регион с убытками ниже заданных 2.5% это 1. Модель этого же региона имеет самый низкий RMSE.\n",
    "\n",
    "Поэтому стоит остановится на этом регионе.\n",
    "</div>"
   ]
  },
  {
   "cell_type": "markdown",
   "metadata": {},
   "source": [
    "## Вывод"
   ]
  },
  {
   "cell_type": "markdown",
   "metadata": {},
   "source": [
    "<div style=\"border: 5px solid violet; border-radius: 5px;\">\n",
    "\n",
    "Данные поступили в удобном виде. Какой-либо предобработки из-за качества данных не требовалось.\n",
    "\n",
    "Для каждого региона свой датасет и он был рассмотрен отдельно. \n",
    "\n",
    "К разделённым данным было применено масштабирование.\n",
    "\n",
    "Замечена корреляция в данных между признаком и ключевым признаком в 1 регионе.\n",
    "\n",
    "\n",
    "За основную модель была принята линейная регрессия и метрика RMSE.\n",
    "\n",
    "0 и 2 регион показали большие RMSE в треть и почти половину от среднего. \n",
    "\n",
    "1 регион показал очень низкий RMSE, в данных были особенности. \n",
    "\n",
    "Для возможного улучшения/проверки метрик была применена кросс-валидация - подтвердила и не улучшила.\n",
    "    \n",
    "Итого:\n",
    "У нас есть 3 модели для каждого из регионов.\n",
    "\n",
    "0 - RMSE 37\n",
    "    \n",
    "1 - RMSE 0.89\n",
    "    \n",
    "2 - RMSE 40\n",
    "    \n",
    "С 200 лучших скважин среднее безубыточное это 111 единиц продукта с каждой.\n",
    "    \n",
    "Каждый регион с 200 лучших скважин - окупается.\n",
    "    \n",
    "Однако для оценки рисков была применена техника bootstrap. Самые низкие риски были у 1 региона - 1.5%. Там же распределение прибыли оказалось выше всего.\n",
    "    \n",
    "Следует остановится на 1 регионе из-за прогнозируемости в том числе по модели, низких рисков и высоких средних по прибыли.\n",
    "</div>"
   ]
  }
 ],
 "metadata": {
  "ExecuteTimeLog": [
   {
    "duration": 591,
    "start_time": "2023-05-12T05:01:56.159Z"
   },
   {
    "duration": 863,
    "start_time": "2023-05-12T05:02:22.358Z"
   },
   {
    "duration": 23,
    "start_time": "2023-05-12T05:02:36.590Z"
   },
   {
    "duration": 31,
    "start_time": "2023-05-12T05:03:23.898Z"
   },
   {
    "duration": 1191,
    "start_time": "2023-05-12T05:03:49.042Z"
   },
   {
    "duration": 507,
    "start_time": "2023-05-12T05:03:56.396Z"
   },
   {
    "duration": 51,
    "start_time": "2023-05-12T05:04:17.206Z"
   },
   {
    "duration": 113,
    "start_time": "2023-05-12T05:51:27.507Z"
   },
   {
    "duration": 8,
    "start_time": "2023-05-12T05:51:36.824Z"
   },
   {
    "duration": 115,
    "start_time": "2023-05-12T05:51:44.606Z"
   },
   {
    "duration": 98,
    "start_time": "2023-05-12T05:51:56.136Z"
   },
   {
    "duration": 91,
    "start_time": "2023-05-12T05:52:00.805Z"
   },
   {
    "duration": 9,
    "start_time": "2023-05-12T05:52:48.818Z"
   },
   {
    "duration": 34,
    "start_time": "2023-05-12T05:53:03.691Z"
   },
   {
    "duration": 25,
    "start_time": "2023-05-12T05:53:10.832Z"
   },
   {
    "duration": 1139,
    "start_time": "2023-05-12T05:53:18.426Z"
   },
   {
    "duration": 48,
    "start_time": "2023-05-12T05:53:29.551Z"
   },
   {
    "duration": 27,
    "start_time": "2023-05-12T05:53:38.543Z"
   },
   {
    "duration": 23,
    "start_time": "2023-05-12T05:53:49.725Z"
   },
   {
    "duration": 26,
    "start_time": "2023-05-12T05:54:04.016Z"
   },
   {
    "duration": 10,
    "start_time": "2023-05-12T05:54:14.215Z"
   },
   {
    "duration": 65,
    "start_time": "2023-05-12T05:54:38.818Z"
   },
   {
    "duration": 83,
    "start_time": "2023-05-12T05:54:43.143Z"
   },
   {
    "duration": 2331,
    "start_time": "2023-05-12T06:24:24.016Z"
   },
   {
    "duration": 24,
    "start_time": "2023-05-12T06:24:36.601Z"
   },
   {
    "duration": 28,
    "start_time": "2023-05-12T06:24:57.493Z"
   },
   {
    "duration": 450,
    "start_time": "2023-05-12T06:25:10.373Z"
   },
   {
    "duration": 420,
    "start_time": "2023-05-12T06:25:15.024Z"
   },
   {
    "duration": 7,
    "start_time": "2023-05-12T06:28:43.846Z"
   },
   {
    "duration": 94,
    "start_time": "2023-05-12T06:28:58.343Z"
   },
   {
    "duration": 15,
    "start_time": "2023-05-12T06:39:53.220Z"
   },
   {
    "duration": 84,
    "start_time": "2023-05-12T06:39:54.302Z"
   },
   {
    "duration": 1320,
    "start_time": "2023-05-12T06:40:26.629Z"
   },
   {
    "duration": 15,
    "start_time": "2023-05-12T06:40:36.564Z"
   },
   {
    "duration": 22,
    "start_time": "2023-05-12T06:41:11.234Z"
   },
   {
    "duration": 550,
    "start_time": "2023-05-12T06:41:24.157Z"
   },
   {
    "duration": 496,
    "start_time": "2023-05-12T06:41:27.647Z"
   },
   {
    "duration": 8,
    "start_time": "2023-05-12T06:43:33.638Z"
   },
   {
    "duration": 20,
    "start_time": "2023-05-12T06:43:51.812Z"
   },
   {
    "duration": 109,
    "start_time": "2023-05-12T06:44:01.961Z"
   },
   {
    "duration": 1090,
    "start_time": "2023-05-12T07:12:03.302Z"
   },
   {
    "duration": 117,
    "start_time": "2023-05-12T07:23:19.953Z"
   },
   {
    "duration": 37,
    "start_time": "2023-05-12T07:23:31.301Z"
   },
   {
    "duration": 52,
    "start_time": "2023-05-12T09:37:35.852Z"
   },
   {
    "duration": 1228,
    "start_time": "2023-05-12T09:37:45.667Z"
   },
   {
    "duration": 490,
    "start_time": "2023-05-12T09:37:46.898Z"
   },
   {
    "duration": 33,
    "start_time": "2023-05-12T09:37:47.391Z"
   },
   {
    "duration": 22,
    "start_time": "2023-05-12T09:37:47.427Z"
   },
   {
    "duration": 912,
    "start_time": "2023-05-12T09:37:47.452Z"
   },
   {
    "duration": 69,
    "start_time": "2023-05-12T09:37:48.366Z"
   },
   {
    "duration": 33,
    "start_time": "2023-05-12T09:37:48.437Z"
   },
   {
    "duration": 70,
    "start_time": "2023-05-12T09:37:48.472Z"
   },
   {
    "duration": 610,
    "start_time": "2023-05-12T09:37:48.544Z"
   },
   {
    "duration": 10,
    "start_time": "2023-05-12T09:37:49.157Z"
   },
   {
    "duration": 34,
    "start_time": "2023-05-12T09:37:49.170Z"
   },
   {
    "duration": 461,
    "start_time": "2023-05-12T09:37:49.207Z"
   },
   {
    "duration": 12,
    "start_time": "2023-05-12T09:37:49.670Z"
   },
   {
    "duration": 50,
    "start_time": "2023-05-12T09:37:49.696Z"
   },
   {
    "duration": 594,
    "start_time": "2023-05-12T09:37:49.748Z"
   },
   {
    "duration": 15,
    "start_time": "2023-05-12T09:37:50.343Z"
   },
   {
    "duration": 26,
    "start_time": "2023-05-12T09:37:50.360Z"
   },
   {
    "duration": 388,
    "start_time": "2023-05-12T09:37:50.388Z"
   },
   {
    "duration": 30,
    "start_time": "2023-05-12T09:37:50.778Z"
   },
   {
    "duration": 69,
    "start_time": "2023-05-12T09:37:50.810Z"
   },
   {
    "duration": 17,
    "start_time": "2023-05-12T09:37:50.881Z"
   },
   {
    "duration": 22,
    "start_time": "2023-05-12T09:38:21.839Z"
   },
   {
    "duration": 22,
    "start_time": "2023-05-12T09:38:27.710Z"
   },
   {
    "duration": 5,
    "start_time": "2023-05-12T09:47:15.353Z"
   },
   {
    "duration": 5,
    "start_time": "2023-05-12T09:47:43.783Z"
   },
   {
    "duration": 10,
    "start_time": "2023-05-12T09:48:22.271Z"
   },
   {
    "duration": 5,
    "start_time": "2023-05-12T09:49:22.617Z"
   },
   {
    "duration": 6,
    "start_time": "2023-05-12T09:49:24.793Z"
   },
   {
    "duration": 101,
    "start_time": "2023-05-12T10:01:54.919Z"
   },
   {
    "duration": 99,
    "start_time": "2023-05-12T10:02:56.759Z"
   },
   {
    "duration": 81,
    "start_time": "2023-05-12T10:03:04.126Z"
   },
   {
    "duration": 1281,
    "start_time": "2023-05-12T10:03:14.483Z"
   },
   {
    "duration": 148,
    "start_time": "2023-05-12T10:03:15.766Z"
   },
   {
    "duration": 26,
    "start_time": "2023-05-12T10:03:15.918Z"
   },
   {
    "duration": 18,
    "start_time": "2023-05-12T10:03:15.946Z"
   },
   {
    "duration": 709,
    "start_time": "2023-05-12T10:03:15.966Z"
   },
   {
    "duration": 65,
    "start_time": "2023-05-12T10:03:16.677Z"
   },
   {
    "duration": 26,
    "start_time": "2023-05-12T10:03:16.744Z"
   },
   {
    "duration": 92,
    "start_time": "2023-05-12T10:03:16.775Z"
   },
   {
    "duration": 169,
    "start_time": "2023-05-12T10:03:16.869Z"
   },
   {
    "duration": 15,
    "start_time": "2023-05-12T10:03:17.043Z"
   },
   {
    "duration": 36,
    "start_time": "2023-05-12T10:03:17.060Z"
   },
   {
    "duration": 399,
    "start_time": "2023-05-12T10:03:17.098Z"
   },
   {
    "duration": 18,
    "start_time": "2023-05-12T10:03:17.500Z"
   },
   {
    "duration": 47,
    "start_time": "2023-05-12T10:03:17.521Z"
   },
   {
    "duration": 152,
    "start_time": "2023-05-12T10:03:17.570Z"
   },
   {
    "duration": 11,
    "start_time": "2023-05-12T10:03:17.724Z"
   },
   {
    "duration": 27,
    "start_time": "2023-05-12T10:03:17.737Z"
   },
   {
    "duration": 407,
    "start_time": "2023-05-12T10:03:17.766Z"
   },
   {
    "duration": 28,
    "start_time": "2023-05-12T10:03:18.174Z"
   },
   {
    "duration": 50,
    "start_time": "2023-05-12T10:03:18.204Z"
   },
   {
    "duration": 14,
    "start_time": "2023-05-12T10:03:18.257Z"
   },
   {
    "duration": 7,
    "start_time": "2023-05-12T10:03:18.296Z"
   },
   {
    "duration": 10,
    "start_time": "2023-05-12T10:03:18.305Z"
   },
   {
    "duration": 151,
    "start_time": "2023-05-12T10:03:18.318Z"
   },
   {
    "duration": 10,
    "start_time": "2023-05-12T10:03:37.255Z"
   },
   {
    "duration": 12,
    "start_time": "2023-05-12T10:03:40.433Z"
   },
   {
    "duration": 33,
    "start_time": "2023-05-12T10:03:49.496Z"
   },
   {
    "duration": 12,
    "start_time": "2023-05-12T10:04:17.227Z"
   },
   {
    "duration": 15,
    "start_time": "2023-05-12T10:05:18.700Z"
   },
   {
    "duration": 14,
    "start_time": "2023-05-12T10:38:08.799Z"
   },
   {
    "duration": 17,
    "start_time": "2023-05-12T10:38:29.369Z"
   },
   {
    "duration": 9,
    "start_time": "2023-05-12T11:17:39.818Z"
   },
   {
    "duration": 11,
    "start_time": "2023-05-12T11:32:34.834Z"
   },
   {
    "duration": 23,
    "start_time": "2023-05-12T11:32:52.533Z"
   },
   {
    "duration": 4,
    "start_time": "2023-05-12T11:35:43.620Z"
   },
   {
    "duration": 16,
    "start_time": "2023-05-12T11:35:49.676Z"
   },
   {
    "duration": 1247,
    "start_time": "2023-05-12T11:35:57.669Z"
   },
   {
    "duration": 147,
    "start_time": "2023-05-12T11:35:58.918Z"
   },
   {
    "duration": 17,
    "start_time": "2023-05-12T11:35:59.067Z"
   },
   {
    "duration": 29,
    "start_time": "2023-05-12T11:35:59.086Z"
   },
   {
    "duration": 712,
    "start_time": "2023-05-12T11:35:59.117Z"
   },
   {
    "duration": 102,
    "start_time": "2023-05-12T11:35:59.830Z"
   },
   {
    "duration": 76,
    "start_time": "2023-05-12T11:35:59.934Z"
   },
   {
    "duration": 100,
    "start_time": "2023-05-12T11:36:00.012Z"
   },
   {
    "duration": 328,
    "start_time": "2023-05-12T11:36:00.116Z"
   },
   {
    "duration": 13,
    "start_time": "2023-05-12T11:36:00.505Z"
   },
   {
    "duration": 92,
    "start_time": "2023-05-12T11:36:00.521Z"
   },
   {
    "duration": 898,
    "start_time": "2023-05-12T11:36:00.615Z"
   },
   {
    "duration": 18,
    "start_time": "2023-05-12T11:36:01.515Z"
   },
   {
    "duration": 103,
    "start_time": "2023-05-12T11:36:01.535Z"
   },
   {
    "duration": 200,
    "start_time": "2023-05-12T11:36:01.640Z"
   },
   {
    "duration": 11,
    "start_time": "2023-05-12T11:36:01.842Z"
   },
   {
    "duration": 53,
    "start_time": "2023-05-12T11:36:01.855Z"
   },
   {
    "duration": 410,
    "start_time": "2023-05-12T11:36:01.911Z"
   },
   {
    "duration": 17,
    "start_time": "2023-05-12T11:36:02.322Z"
   },
   {
    "duration": 74,
    "start_time": "2023-05-12T11:36:02.341Z"
   },
   {
    "duration": 9,
    "start_time": "2023-05-12T11:36:02.417Z"
   },
   {
    "duration": 26,
    "start_time": "2023-05-12T11:36:02.428Z"
   },
   {
    "duration": 17,
    "start_time": "2023-05-12T11:36:02.456Z"
   },
   {
    "duration": 34,
    "start_time": "2023-05-12T11:36:02.475Z"
   },
   {
    "duration": 14,
    "start_time": "2023-05-12T11:36:02.511Z"
   },
   {
    "duration": 15,
    "start_time": "2023-05-12T11:36:02.527Z"
   },
   {
    "duration": 20,
    "start_time": "2023-05-12T11:36:02.543Z"
   },
   {
    "duration": 13,
    "start_time": "2023-05-12T11:36:10.677Z"
   },
   {
    "duration": 2272,
    "start_time": "2023-05-12T11:37:10.036Z"
   },
   {
    "duration": 157,
    "start_time": "2023-05-12T11:37:12.311Z"
   },
   {
    "duration": 16,
    "start_time": "2023-05-12T11:37:12.470Z"
   },
   {
    "duration": 29,
    "start_time": "2023-05-12T11:37:12.488Z"
   },
   {
    "duration": 657,
    "start_time": "2023-05-12T11:37:12.520Z"
   },
   {
    "duration": 50,
    "start_time": "2023-05-12T11:37:13.179Z"
   },
   {
    "duration": 18,
    "start_time": "2023-05-12T11:37:13.231Z"
   },
   {
    "duration": 75,
    "start_time": "2023-05-12T11:37:13.251Z"
   },
   {
    "duration": 147,
    "start_time": "2023-05-12T11:37:13.328Z"
   },
   {
    "duration": 10,
    "start_time": "2023-05-12T11:37:13.477Z"
   },
   {
    "duration": 30,
    "start_time": "2023-05-12T11:37:13.501Z"
   },
   {
    "duration": 402,
    "start_time": "2023-05-12T11:37:13.533Z"
   },
   {
    "duration": 20,
    "start_time": "2023-05-12T11:37:13.938Z"
   },
   {
    "duration": 69,
    "start_time": "2023-05-12T11:37:13.962Z"
   },
   {
    "duration": 146,
    "start_time": "2023-05-12T11:37:14.034Z"
   },
   {
    "duration": 19,
    "start_time": "2023-05-12T11:37:14.182Z"
   },
   {
    "duration": 28,
    "start_time": "2023-05-12T11:37:14.205Z"
   },
   {
    "duration": 405,
    "start_time": "2023-05-12T11:37:14.235Z"
   },
   {
    "duration": 19,
    "start_time": "2023-05-12T11:37:14.642Z"
   },
   {
    "duration": 77,
    "start_time": "2023-05-12T11:37:14.663Z"
   },
   {
    "duration": 10,
    "start_time": "2023-05-12T11:37:14.742Z"
   },
   {
    "duration": 16,
    "start_time": "2023-05-12T11:37:14.754Z"
   },
   {
    "duration": 17,
    "start_time": "2023-05-12T11:37:14.772Z"
   },
   {
    "duration": 39,
    "start_time": "2023-05-12T11:37:14.791Z"
   },
   {
    "duration": 19,
    "start_time": "2023-05-12T11:37:14.833Z"
   },
   {
    "duration": 15,
    "start_time": "2023-05-12T11:37:14.854Z"
   },
   {
    "duration": 27,
    "start_time": "2023-05-12T11:37:14.871Z"
   },
   {
    "duration": 64,
    "start_time": "2023-05-12T11:37:14.900Z"
   },
   {
    "duration": 20,
    "start_time": "2023-05-12T11:37:14.966Z"
   },
   {
    "duration": 9,
    "start_time": "2023-05-12T11:37:45.530Z"
   },
   {
    "duration": 8,
    "start_time": "2023-05-12T11:37:54.105Z"
   },
   {
    "duration": 17,
    "start_time": "2023-05-12T11:49:51.145Z"
   },
   {
    "duration": 17,
    "start_time": "2023-05-12T11:50:17.964Z"
   },
   {
    "duration": 1058,
    "start_time": "2023-05-12T11:50:29.543Z"
   },
   {
    "duration": 167,
    "start_time": "2023-05-12T11:50:30.603Z"
   },
   {
    "duration": 18,
    "start_time": "2023-05-12T11:50:30.772Z"
   },
   {
    "duration": 161,
    "start_time": "2023-05-12T11:50:30.797Z"
   },
   {
    "duration": 675,
    "start_time": "2023-05-12T11:50:30.961Z"
   },
   {
    "duration": 41,
    "start_time": "2023-05-12T11:50:31.638Z"
   },
   {
    "duration": 33,
    "start_time": "2023-05-12T11:50:31.681Z"
   },
   {
    "duration": 58,
    "start_time": "2023-05-12T11:50:31.716Z"
   },
   {
    "duration": 152,
    "start_time": "2023-05-12T11:50:31.775Z"
   },
   {
    "duration": 10,
    "start_time": "2023-05-12T11:50:31.929Z"
   },
   {
    "duration": 37,
    "start_time": "2023-05-12T11:50:31.941Z"
   },
   {
    "duration": 366,
    "start_time": "2023-05-12T11:50:31.980Z"
   },
   {
    "duration": 17,
    "start_time": "2023-05-12T11:50:32.348Z"
   },
   {
    "duration": 57,
    "start_time": "2023-05-12T11:50:32.368Z"
   },
   {
    "duration": 128,
    "start_time": "2023-05-12T11:50:32.427Z"
   },
   {
    "duration": 9,
    "start_time": "2023-05-12T11:50:32.557Z"
   },
   {
    "duration": 30,
    "start_time": "2023-05-12T11:50:32.568Z"
   },
   {
    "duration": 347,
    "start_time": "2023-05-12T11:50:32.600Z"
   },
   {
    "duration": 16,
    "start_time": "2023-05-12T11:50:32.949Z"
   },
   {
    "duration": 59,
    "start_time": "2023-05-12T11:50:32.967Z"
   },
   {
    "duration": 10,
    "start_time": "2023-05-12T11:50:33.027Z"
   },
   {
    "duration": 11,
    "start_time": "2023-05-12T11:50:33.038Z"
   },
   {
    "duration": 11,
    "start_time": "2023-05-12T11:50:33.050Z"
   },
   {
    "duration": 20,
    "start_time": "2023-05-12T11:50:33.063Z"
   },
   {
    "duration": 21,
    "start_time": "2023-05-12T11:50:33.085Z"
   },
   {
    "duration": 15,
    "start_time": "2023-05-12T11:50:33.107Z"
   },
   {
    "duration": 20,
    "start_time": "2023-05-12T11:50:33.124Z"
   },
   {
    "duration": 25,
    "start_time": "2023-05-12T11:50:33.146Z"
   },
   {
    "duration": 9,
    "start_time": "2023-05-12T11:50:33.173Z"
   },
   {
    "duration": 21,
    "start_time": "2023-05-12T11:50:33.196Z"
   },
   {
    "duration": 16,
    "start_time": "2023-05-12T11:50:33.218Z"
   },
   {
    "duration": 1114,
    "start_time": "2023-05-12T11:51:48.405Z"
   },
   {
    "duration": 158,
    "start_time": "2023-05-12T11:51:49.522Z"
   },
   {
    "duration": 20,
    "start_time": "2023-05-12T11:51:49.681Z"
   },
   {
    "duration": 20,
    "start_time": "2023-05-12T11:51:49.702Z"
   },
   {
    "duration": 674,
    "start_time": "2023-05-12T11:51:49.724Z"
   },
   {
    "duration": 44,
    "start_time": "2023-05-12T11:51:50.399Z"
   },
   {
    "duration": 23,
    "start_time": "2023-05-12T11:51:50.445Z"
   },
   {
    "duration": 78,
    "start_time": "2023-05-12T11:51:50.470Z"
   },
   {
    "duration": 153,
    "start_time": "2023-05-12T11:51:50.551Z"
   },
   {
    "duration": 10,
    "start_time": "2023-05-12T11:51:50.706Z"
   },
   {
    "duration": 20,
    "start_time": "2023-05-12T11:51:50.717Z"
   },
   {
    "duration": 394,
    "start_time": "2023-05-12T11:51:50.739Z"
   },
   {
    "duration": 19,
    "start_time": "2023-05-12T11:51:51.135Z"
   },
   {
    "duration": 63,
    "start_time": "2023-05-12T11:51:51.158Z"
   },
   {
    "duration": 133,
    "start_time": "2023-05-12T11:51:51.223Z"
   },
   {
    "duration": 11,
    "start_time": "2023-05-12T11:51:51.358Z"
   },
   {
    "duration": 30,
    "start_time": "2023-05-12T11:51:51.371Z"
   },
   {
    "duration": 387,
    "start_time": "2023-05-12T11:51:51.403Z"
   },
   {
    "duration": 19,
    "start_time": "2023-05-12T11:51:51.792Z"
   },
   {
    "duration": 52,
    "start_time": "2023-05-12T11:51:51.813Z"
   },
   {
    "duration": 34,
    "start_time": "2023-05-12T11:51:51.867Z"
   },
   {
    "duration": 17,
    "start_time": "2023-05-12T11:51:51.903Z"
   },
   {
    "duration": 8,
    "start_time": "2023-05-12T11:51:51.922Z"
   },
   {
    "duration": 26,
    "start_time": "2023-05-12T11:51:51.932Z"
   },
   {
    "duration": 16,
    "start_time": "2023-05-12T11:51:51.960Z"
   },
   {
    "duration": 22,
    "start_time": "2023-05-12T11:51:51.978Z"
   },
   {
    "duration": 9,
    "start_time": "2023-05-12T11:51:52.002Z"
   },
   {
    "duration": 20,
    "start_time": "2023-05-12T11:51:52.013Z"
   },
   {
    "duration": 9,
    "start_time": "2023-05-12T11:51:52.035Z"
   },
   {
    "duration": 12,
    "start_time": "2023-05-12T11:51:52.046Z"
   },
   {
    "duration": 46,
    "start_time": "2023-05-12T11:51:52.059Z"
   },
   {
    "duration": 9,
    "start_time": "2023-05-12T11:51:52.107Z"
   },
   {
    "duration": 13,
    "start_time": "2023-05-12T11:51:52.118Z"
   },
   {
    "duration": 20,
    "start_time": "2023-05-12T11:51:52.133Z"
   },
   {
    "duration": 9,
    "start_time": "2023-05-12T11:51:52.155Z"
   },
   {
    "duration": 23,
    "start_time": "2023-05-12T12:24:48.643Z"
   },
   {
    "duration": 116,
    "start_time": "2023-05-12T12:47:18.565Z"
   },
   {
    "duration": 23,
    "start_time": "2023-05-12T12:47:32.037Z"
   },
   {
    "duration": 3,
    "start_time": "2023-05-12T12:58:55.597Z"
   },
   {
    "duration": 1146,
    "start_time": "2023-05-12T12:59:29.609Z"
   },
   {
    "duration": 147,
    "start_time": "2023-05-12T12:59:30.756Z"
   },
   {
    "duration": 17,
    "start_time": "2023-05-12T12:59:30.905Z"
   },
   {
    "duration": 40,
    "start_time": "2023-05-12T12:59:30.924Z"
   },
   {
    "duration": 637,
    "start_time": "2023-05-12T12:59:30.966Z"
   },
   {
    "duration": 45,
    "start_time": "2023-05-12T12:59:31.605Z"
   },
   {
    "duration": 27,
    "start_time": "2023-05-12T12:59:31.652Z"
   },
   {
    "duration": 68,
    "start_time": "2023-05-12T12:59:31.681Z"
   },
   {
    "duration": 149,
    "start_time": "2023-05-12T12:59:31.750Z"
   },
   {
    "duration": 11,
    "start_time": "2023-05-12T12:59:31.900Z"
   },
   {
    "duration": 42,
    "start_time": "2023-05-12T12:59:31.912Z"
   },
   {
    "duration": 369,
    "start_time": "2023-05-12T12:59:31.956Z"
   },
   {
    "duration": 16,
    "start_time": "2023-05-12T12:59:32.327Z"
   },
   {
    "duration": 60,
    "start_time": "2023-05-12T12:59:32.346Z"
   },
   {
    "duration": 136,
    "start_time": "2023-05-12T12:59:32.408Z"
   },
   {
    "duration": 10,
    "start_time": "2023-05-12T12:59:32.546Z"
   },
   {
    "duration": 27,
    "start_time": "2023-05-12T12:59:32.558Z"
   },
   {
    "duration": 340,
    "start_time": "2023-05-12T12:59:32.587Z"
   },
   {
    "duration": 15,
    "start_time": "2023-05-12T12:59:32.929Z"
   },
   {
    "duration": 85,
    "start_time": "2023-05-12T12:59:32.946Z"
   },
   {
    "duration": 9,
    "start_time": "2023-05-12T12:59:33.033Z"
   },
   {
    "duration": 43,
    "start_time": "2023-05-12T12:59:33.044Z"
   },
   {
    "duration": 14,
    "start_time": "2023-05-12T12:59:33.089Z"
   },
   {
    "duration": 15,
    "start_time": "2023-05-12T12:59:33.105Z"
   },
   {
    "duration": 19,
    "start_time": "2023-05-12T12:59:33.122Z"
   },
   {
    "duration": 132,
    "start_time": "2023-05-12T12:59:33.143Z"
   },
   {
    "duration": 20,
    "start_time": "2023-05-12T12:59:33.277Z"
   },
   {
    "duration": 128,
    "start_time": "2023-05-12T12:59:33.299Z"
   },
   {
    "duration": 14,
    "start_time": "2023-05-12T12:59:33.428Z"
   },
   {
    "duration": 22,
    "start_time": "2023-05-12T12:59:33.444Z"
   },
   {
    "duration": 32,
    "start_time": "2023-05-12T12:59:33.468Z"
   },
   {
    "duration": 289,
    "start_time": "2023-05-12T12:59:33.501Z"
   },
   {
    "duration": 36,
    "start_time": "2023-05-12T13:00:24.367Z"
   },
   {
    "duration": 112,
    "start_time": "2023-05-12T13:00:57.390Z"
   },
   {
    "duration": 41,
    "start_time": "2023-05-12T13:01:19.973Z"
   },
   {
    "duration": 185,
    "start_time": "2023-05-12T13:01:34.012Z"
   },
   {
    "duration": 15,
    "start_time": "2023-05-12T13:05:52.709Z"
   },
   {
    "duration": 121,
    "start_time": "2023-05-12T13:06:03.184Z"
   },
   {
    "duration": 1204,
    "start_time": "2023-05-12T13:09:57.954Z"
   },
   {
    "duration": 157,
    "start_time": "2023-05-12T13:09:59.160Z"
   },
   {
    "duration": 20,
    "start_time": "2023-05-12T13:09:59.319Z"
   },
   {
    "duration": 17,
    "start_time": "2023-05-12T13:09:59.341Z"
   },
   {
    "duration": 688,
    "start_time": "2023-05-12T13:09:59.360Z"
   },
   {
    "duration": 49,
    "start_time": "2023-05-12T13:10:00.049Z"
   },
   {
    "duration": 20,
    "start_time": "2023-05-12T13:10:00.100Z"
   },
   {
    "duration": 54,
    "start_time": "2023-05-12T13:10:00.121Z"
   },
   {
    "duration": 146,
    "start_time": "2023-05-12T13:10:00.197Z"
   },
   {
    "duration": 11,
    "start_time": "2023-05-12T13:10:00.346Z"
   },
   {
    "duration": 44,
    "start_time": "2023-05-12T13:10:00.359Z"
   },
   {
    "duration": 420,
    "start_time": "2023-05-12T13:10:00.405Z"
   },
   {
    "duration": 22,
    "start_time": "2023-05-12T13:10:00.827Z"
   },
   {
    "duration": 86,
    "start_time": "2023-05-12T13:10:00.853Z"
   },
   {
    "duration": 136,
    "start_time": "2023-05-12T13:10:00.941Z"
   },
   {
    "duration": 11,
    "start_time": "2023-05-12T13:10:01.079Z"
   },
   {
    "duration": 59,
    "start_time": "2023-05-12T13:10:01.092Z"
   },
   {
    "duration": 405,
    "start_time": "2023-05-12T13:10:01.153Z"
   },
   {
    "duration": 18,
    "start_time": "2023-05-12T13:10:01.560Z"
   },
   {
    "duration": 71,
    "start_time": "2023-05-12T13:10:01.580Z"
   },
   {
    "duration": 14,
    "start_time": "2023-05-12T13:10:01.653Z"
   },
   {
    "duration": 28,
    "start_time": "2023-05-12T13:10:01.668Z"
   },
   {
    "duration": 17,
    "start_time": "2023-05-12T13:10:01.698Z"
   },
   {
    "duration": 39,
    "start_time": "2023-05-12T13:10:01.717Z"
   },
   {
    "duration": 47,
    "start_time": "2023-05-12T13:10:01.757Z"
   },
   {
    "duration": 30,
    "start_time": "2023-05-12T13:10:01.807Z"
   },
   {
    "duration": 117,
    "start_time": "2023-05-12T13:10:01.840Z"
   },
   {
    "duration": 62,
    "start_time": "2023-05-12T13:10:01.959Z"
   },
   {
    "duration": 22,
    "start_time": "2023-05-12T13:10:02.023Z"
   },
   {
    "duration": 18,
    "start_time": "2023-05-12T13:10:02.047Z"
   },
   {
    "duration": 146,
    "start_time": "2023-05-12T13:10:02.068Z"
   },
   {
    "duration": 0,
    "start_time": "2023-05-12T13:10:02.217Z"
   },
   {
    "duration": 3,
    "start_time": "2023-05-12T13:10:14.898Z"
   },
   {
    "duration": 694,
    "start_time": "2023-05-12T13:10:16.106Z"
   },
   {
    "duration": 492,
    "start_time": "2023-05-12T13:10:39.119Z"
   },
   {
    "duration": 1241,
    "start_time": "2023-05-12T13:16:10.056Z"
   },
   {
    "duration": 168,
    "start_time": "2023-05-12T13:16:11.299Z"
   },
   {
    "duration": 20,
    "start_time": "2023-05-12T13:16:11.469Z"
   },
   {
    "duration": 22,
    "start_time": "2023-05-12T13:16:11.492Z"
   },
   {
    "duration": 651,
    "start_time": "2023-05-12T13:16:11.516Z"
   },
   {
    "duration": 49,
    "start_time": "2023-05-12T13:16:12.169Z"
   },
   {
    "duration": 17,
    "start_time": "2023-05-12T13:16:12.220Z"
   },
   {
    "duration": 62,
    "start_time": "2023-05-12T13:16:12.239Z"
   },
   {
    "duration": 134,
    "start_time": "2023-05-12T13:16:12.303Z"
   },
   {
    "duration": 9,
    "start_time": "2023-05-12T13:16:12.440Z"
   },
   {
    "duration": 20,
    "start_time": "2023-05-12T13:16:12.450Z"
   },
   {
    "duration": 374,
    "start_time": "2023-05-12T13:16:12.472Z"
   },
   {
    "duration": 16,
    "start_time": "2023-05-12T13:16:12.848Z"
   },
   {
    "duration": 62,
    "start_time": "2023-05-12T13:16:12.866Z"
   },
   {
    "duration": 145,
    "start_time": "2023-05-12T13:16:12.930Z"
   },
   {
    "duration": 11,
    "start_time": "2023-05-12T13:16:13.076Z"
   },
   {
    "duration": 23,
    "start_time": "2023-05-12T13:16:13.089Z"
   },
   {
    "duration": 402,
    "start_time": "2023-05-12T13:16:13.114Z"
   },
   {
    "duration": 15,
    "start_time": "2023-05-12T13:16:13.518Z"
   },
   {
    "duration": 45,
    "start_time": "2023-05-12T13:16:13.535Z"
   },
   {
    "duration": 21,
    "start_time": "2023-05-12T13:16:13.581Z"
   },
   {
    "duration": 6,
    "start_time": "2023-05-12T13:16:13.603Z"
   },
   {
    "duration": 9,
    "start_time": "2023-05-12T13:16:13.610Z"
   },
   {
    "duration": 14,
    "start_time": "2023-05-12T13:16:13.621Z"
   },
   {
    "duration": 15,
    "start_time": "2023-05-12T13:16:13.637Z"
   },
   {
    "duration": 115,
    "start_time": "2023-05-12T13:16:13.654Z"
   },
   {
    "duration": 16,
    "start_time": "2023-05-12T13:16:13.771Z"
   },
   {
    "duration": 13,
    "start_time": "2023-05-12T13:16:13.797Z"
   },
   {
    "duration": 14,
    "start_time": "2023-05-12T13:16:13.811Z"
   },
   {
    "duration": 9,
    "start_time": "2023-05-12T13:16:13.826Z"
   },
   {
    "duration": 65,
    "start_time": "2023-05-12T13:16:13.838Z"
   },
   {
    "duration": 602,
    "start_time": "2023-05-12T13:16:13.905Z"
   },
   {
    "duration": 22,
    "start_time": "2023-05-12T13:21:51.830Z"
   },
   {
    "duration": 558,
    "start_time": "2023-05-12T13:22:55.045Z"
   },
   {
    "duration": 2,
    "start_time": "2023-05-12T13:23:48.815Z"
   },
   {
    "duration": 107,
    "start_time": "2023-05-12T13:24:41.962Z"
   },
   {
    "duration": 4,
    "start_time": "2023-05-12T13:24:48.671Z"
   },
   {
    "duration": 5,
    "start_time": "2023-05-12T13:25:03.069Z"
   },
   {
    "duration": 16,
    "start_time": "2023-05-12T13:33:11.749Z"
   },
   {
    "duration": 349,
    "start_time": "2023-05-12T13:33:15.359Z"
   },
   {
    "duration": 465,
    "start_time": "2023-05-12T13:33:36.948Z"
   },
   {
    "duration": 1210,
    "start_time": "2023-05-12T14:47:51.354Z"
   },
   {
    "duration": 658,
    "start_time": "2023-05-12T14:47:52.567Z"
   },
   {
    "duration": 18,
    "start_time": "2023-05-12T14:47:53.227Z"
   },
   {
    "duration": 17,
    "start_time": "2023-05-12T14:47:53.247Z"
   },
   {
    "duration": 908,
    "start_time": "2023-05-12T14:47:53.266Z"
   },
   {
    "duration": 50,
    "start_time": "2023-05-12T14:47:54.177Z"
   },
   {
    "duration": 21,
    "start_time": "2023-05-12T14:47:54.229Z"
   },
   {
    "duration": 82,
    "start_time": "2023-05-12T14:47:54.252Z"
   },
   {
    "duration": 284,
    "start_time": "2023-05-12T14:47:54.336Z"
   },
   {
    "duration": 11,
    "start_time": "2023-05-12T14:47:54.622Z"
   },
   {
    "duration": 20,
    "start_time": "2023-05-12T14:47:54.635Z"
   },
   {
    "duration": 425,
    "start_time": "2023-05-12T14:47:54.657Z"
   },
   {
    "duration": 30,
    "start_time": "2023-05-12T14:47:55.084Z"
   },
   {
    "duration": 54,
    "start_time": "2023-05-12T14:47:55.118Z"
   },
   {
    "duration": 272,
    "start_time": "2023-05-12T14:47:55.187Z"
   },
   {
    "duration": 11,
    "start_time": "2023-05-12T14:47:55.461Z"
   },
   {
    "duration": 25,
    "start_time": "2023-05-12T14:47:55.474Z"
   },
   {
    "duration": 400,
    "start_time": "2023-05-12T14:47:55.504Z"
   },
   {
    "duration": 21,
    "start_time": "2023-05-12T14:47:55.911Z"
   },
   {
    "duration": 62,
    "start_time": "2023-05-12T14:47:55.934Z"
   },
   {
    "duration": 14,
    "start_time": "2023-05-12T14:47:55.998Z"
   },
   {
    "duration": 6,
    "start_time": "2023-05-12T14:47:56.014Z"
   },
   {
    "duration": 4,
    "start_time": "2023-05-12T14:47:56.022Z"
   },
   {
    "duration": 20,
    "start_time": "2023-05-12T14:47:56.028Z"
   },
   {
    "duration": 38,
    "start_time": "2023-05-12T14:47:56.050Z"
   },
   {
    "duration": 20,
    "start_time": "2023-05-12T14:47:56.090Z"
   },
   {
    "duration": 138,
    "start_time": "2023-05-12T14:47:56.112Z"
   },
   {
    "duration": 16,
    "start_time": "2023-05-12T14:47:56.252Z"
   },
   {
    "duration": 44,
    "start_time": "2023-05-12T14:47:56.270Z"
   },
   {
    "duration": 10,
    "start_time": "2023-05-12T14:47:56.315Z"
   },
   {
    "duration": 80,
    "start_time": "2023-05-12T14:47:56.327Z"
   },
   {
    "duration": 488,
    "start_time": "2023-05-12T14:47:56.409Z"
   },
   {
    "duration": 102,
    "start_time": "2023-05-12T14:47:56.899Z"
   },
   {
    "duration": 609,
    "start_time": "2023-05-12T14:47:57.007Z"
   },
   {
    "duration": 77,
    "start_time": "2023-05-12T14:47:57.620Z"
   },
   {
    "duration": 16,
    "start_time": "2023-05-12T14:47:57.704Z"
   },
   {
    "duration": 92,
    "start_time": "2023-05-12T14:47:57.724Z"
   },
   {
    "duration": 600,
    "start_time": "2023-05-12T14:47:57.820Z"
   },
   {
    "duration": 1055,
    "start_time": "2023-05-12T18:32:53.212Z"
   },
   {
    "duration": 758,
    "start_time": "2023-05-12T18:32:54.269Z"
   },
   {
    "duration": 16,
    "start_time": "2023-05-12T18:32:55.028Z"
   },
   {
    "duration": 17,
    "start_time": "2023-05-12T18:32:55.045Z"
   },
   {
    "duration": 728,
    "start_time": "2023-05-12T18:32:55.064Z"
   },
   {
    "duration": 36,
    "start_time": "2023-05-12T18:32:55.794Z"
   },
   {
    "duration": 33,
    "start_time": "2023-05-12T18:32:55.831Z"
   },
   {
    "duration": 44,
    "start_time": "2023-05-12T18:32:55.866Z"
   },
   {
    "duration": 186,
    "start_time": "2023-05-12T18:32:55.911Z"
   },
   {
    "duration": 10,
    "start_time": "2023-05-12T18:32:56.099Z"
   },
   {
    "duration": 14,
    "start_time": "2023-05-12T18:32:56.111Z"
   },
   {
    "duration": 324,
    "start_time": "2023-05-12T18:32:56.127Z"
   },
   {
    "duration": 16,
    "start_time": "2023-05-12T18:32:56.456Z"
   },
   {
    "duration": 41,
    "start_time": "2023-05-12T18:32:56.475Z"
   },
   {
    "duration": 178,
    "start_time": "2023-05-12T18:32:56.518Z"
   },
   {
    "duration": 9,
    "start_time": "2023-05-12T18:32:56.698Z"
   },
   {
    "duration": 16,
    "start_time": "2023-05-12T18:32:56.708Z"
   },
   {
    "duration": 427,
    "start_time": "2023-05-12T18:32:56.726Z"
   },
   {
    "duration": 17,
    "start_time": "2023-05-12T18:32:57.157Z"
   },
   {
    "duration": 40,
    "start_time": "2023-05-12T18:32:57.176Z"
   },
   {
    "duration": 9,
    "start_time": "2023-05-12T18:32:57.218Z"
   },
   {
    "duration": 9,
    "start_time": "2023-05-12T18:32:57.228Z"
   },
   {
    "duration": 20,
    "start_time": "2023-05-12T18:32:57.239Z"
   },
   {
    "duration": 13,
    "start_time": "2023-05-12T18:32:57.261Z"
   },
   {
    "duration": 13,
    "start_time": "2023-05-12T18:32:57.275Z"
   },
   {
    "duration": 13,
    "start_time": "2023-05-12T18:32:57.290Z"
   },
   {
    "duration": 16,
    "start_time": "2023-05-12T18:32:57.305Z"
   },
   {
    "duration": 44,
    "start_time": "2023-05-12T18:32:57.323Z"
   },
   {
    "duration": 13,
    "start_time": "2023-05-12T18:32:57.369Z"
   },
   {
    "duration": 7,
    "start_time": "2023-05-12T18:32:57.384Z"
   },
   {
    "duration": 167,
    "start_time": "2023-05-12T18:32:57.393Z"
   },
   {
    "duration": 595,
    "start_time": "2023-05-12T18:32:57.563Z"
   },
   {
    "duration": 104,
    "start_time": "2023-05-12T18:32:58.159Z"
   },
   {
    "duration": 401,
    "start_time": "2023-05-12T18:32:58.264Z"
   },
   {
    "duration": 92,
    "start_time": "2023-05-12T18:32:58.667Z"
   },
   {
    "duration": 97,
    "start_time": "2023-05-12T18:32:58.761Z"
   },
   {
    "duration": 26,
    "start_time": "2023-05-12T18:32:58.860Z"
   },
   {
    "duration": 574,
    "start_time": "2023-05-12T18:32:58.887Z"
   },
   {
    "duration": 3,
    "start_time": "2023-05-12T18:58:19.221Z"
   },
   {
    "duration": 4,
    "start_time": "2023-05-12T19:01:26.791Z"
   },
   {
    "duration": 9,
    "start_time": "2023-05-12T19:02:11.055Z"
   },
   {
    "duration": 5,
    "start_time": "2023-05-12T19:13:05.584Z"
   },
   {
    "duration": 6,
    "start_time": "2023-05-12T19:26:44.858Z"
   },
   {
    "duration": 15,
    "start_time": "2023-05-12T19:27:27.355Z"
   },
   {
    "duration": 4,
    "start_time": "2023-05-12T20:06:17.691Z"
   },
   {
    "duration": 50,
    "start_time": "2023-05-12T20:07:29.899Z"
   },
   {
    "duration": 46,
    "start_time": "2023-05-12T20:07:45.993Z"
   },
   {
    "duration": 130,
    "start_time": "2023-05-12T20:07:51.072Z"
   },
   {
    "duration": 2,
    "start_time": "2023-05-12T20:07:55.588Z"
   },
   {
    "duration": 11,
    "start_time": "2023-05-12T20:07:56.116Z"
   },
   {
    "duration": 11,
    "start_time": "2023-05-12T20:08:06.266Z"
   },
   {
    "duration": 5,
    "start_time": "2023-05-12T20:08:06.697Z"
   },
   {
    "duration": 2,
    "start_time": "2023-05-12T20:08:51.051Z"
   },
   {
    "duration": 13,
    "start_time": "2023-05-12T20:08:51.482Z"
   },
   {
    "duration": 3,
    "start_time": "2023-05-12T20:09:01.234Z"
   },
   {
    "duration": 14,
    "start_time": "2023-05-12T20:09:01.907Z"
   },
   {
    "duration": 3,
    "start_time": "2023-05-12T20:09:08.994Z"
   },
   {
    "duration": 13,
    "start_time": "2023-05-12T20:09:09.376Z"
   },
   {
    "duration": 3,
    "start_time": "2023-05-12T20:09:12.280Z"
   },
   {
    "duration": 8,
    "start_time": "2023-05-12T20:09:13.068Z"
   },
   {
    "duration": 4,
    "start_time": "2023-05-12T20:09:24.068Z"
   },
   {
    "duration": 8,
    "start_time": "2023-05-12T20:09:24.404Z"
   },
   {
    "duration": 3,
    "start_time": "2023-05-12T20:09:45.235Z"
   },
   {
    "duration": 5,
    "start_time": "2023-05-12T20:09:45.894Z"
   },
   {
    "duration": 9,
    "start_time": "2023-05-12T20:09:55.264Z"
   },
   {
    "duration": 4,
    "start_time": "2023-05-12T20:09:55.820Z"
   },
   {
    "duration": 4,
    "start_time": "2023-05-12T20:09:59.326Z"
   },
   {
    "duration": 5,
    "start_time": "2023-05-12T20:09:59.767Z"
   },
   {
    "duration": 4,
    "start_time": "2023-05-12T20:10:03.974Z"
   },
   {
    "duration": 9,
    "start_time": "2023-05-12T20:10:04.422Z"
   },
   {
    "duration": 4,
    "start_time": "2023-05-12T20:10:40.668Z"
   },
   {
    "duration": 8,
    "start_time": "2023-05-12T20:10:41.416Z"
   },
   {
    "duration": 3,
    "start_time": "2023-05-12T20:11:03.868Z"
   },
   {
    "duration": 7,
    "start_time": "2023-05-12T20:11:04.576Z"
   },
   {
    "duration": 4,
    "start_time": "2023-05-12T20:11:24.098Z"
   },
   {
    "duration": 6,
    "start_time": "2023-05-12T20:11:24.633Z"
   },
   {
    "duration": 12,
    "start_time": "2023-05-12T20:15:02.871Z"
   },
   {
    "duration": 7,
    "start_time": "2023-05-12T20:15:35.795Z"
   },
   {
    "duration": 3,
    "start_time": "2023-05-12T20:35:41.504Z"
   },
   {
    "duration": 7,
    "start_time": "2023-05-12T20:35:42.001Z"
   },
   {
    "duration": 8,
    "start_time": "2023-05-12T20:35:42.742Z"
   },
   {
    "duration": 8,
    "start_time": "2023-05-12T20:35:43.298Z"
   },
   {
    "duration": 4,
    "start_time": "2023-05-12T20:36:03.646Z"
   },
   {
    "duration": 12,
    "start_time": "2023-05-12T20:36:04.186Z"
   },
   {
    "duration": 8,
    "start_time": "2023-05-12T20:36:04.946Z"
   },
   {
    "duration": 7,
    "start_time": "2023-05-12T20:36:05.485Z"
   },
   {
    "duration": 4,
    "start_time": "2023-05-12T20:37:26.947Z"
   },
   {
    "duration": 7,
    "start_time": "2023-05-12T20:37:27.432Z"
   },
   {
    "duration": 19,
    "start_time": "2023-05-12T20:37:28.084Z"
   },
   {
    "duration": 10,
    "start_time": "2023-05-12T20:37:28.720Z"
   },
   {
    "duration": 3,
    "start_time": "2023-05-12T20:38:12.542Z"
   },
   {
    "duration": 8,
    "start_time": "2023-05-12T20:38:12.890Z"
   },
   {
    "duration": 9,
    "start_time": "2023-05-12T20:38:14.595Z"
   },
   {
    "duration": 8,
    "start_time": "2023-05-12T20:38:15.184Z"
   },
   {
    "duration": 9,
    "start_time": "2023-05-12T20:40:35.583Z"
   },
   {
    "duration": 9,
    "start_time": "2023-05-12T20:40:40.199Z"
   },
   {
    "duration": 8,
    "start_time": "2023-05-12T20:40:47.241Z"
   },
   {
    "duration": 3,
    "start_time": "2023-05-12T21:44:14.520Z"
   },
   {
    "duration": 9,
    "start_time": "2023-05-12T21:46:49.213Z"
   },
   {
    "duration": 1076,
    "start_time": "2023-05-12T21:47:05.930Z"
   },
   {
    "duration": 156,
    "start_time": "2023-05-12T21:47:07.009Z"
   },
   {
    "duration": 27,
    "start_time": "2023-05-12T21:47:07.170Z"
   },
   {
    "duration": 15,
    "start_time": "2023-05-12T21:47:07.200Z"
   },
   {
    "duration": 626,
    "start_time": "2023-05-12T21:47:07.217Z"
   },
   {
    "duration": 51,
    "start_time": "2023-05-12T21:47:07.845Z"
   },
   {
    "duration": 18,
    "start_time": "2023-05-12T21:47:07.897Z"
   },
   {
    "duration": 73,
    "start_time": "2023-05-12T21:47:07.917Z"
   },
   {
    "duration": 125,
    "start_time": "2023-05-12T21:47:07.991Z"
   },
   {
    "duration": 10,
    "start_time": "2023-05-12T21:47:08.118Z"
   },
   {
    "duration": 16,
    "start_time": "2023-05-12T21:47:08.130Z"
   },
   {
    "duration": 375,
    "start_time": "2023-05-12T21:47:08.148Z"
   },
   {
    "duration": 19,
    "start_time": "2023-05-12T21:47:08.525Z"
   },
   {
    "duration": 59,
    "start_time": "2023-05-12T21:47:08.546Z"
   },
   {
    "duration": 132,
    "start_time": "2023-05-12T21:47:08.607Z"
   },
   {
    "duration": 9,
    "start_time": "2023-05-12T21:47:08.741Z"
   },
   {
    "duration": 23,
    "start_time": "2023-05-12T21:47:08.759Z"
   },
   {
    "duration": 353,
    "start_time": "2023-05-12T21:47:08.784Z"
   },
   {
    "duration": 34,
    "start_time": "2023-05-12T21:47:09.139Z"
   },
   {
    "duration": 53,
    "start_time": "2023-05-12T21:47:09.181Z"
   },
   {
    "duration": 9,
    "start_time": "2023-05-12T21:47:09.236Z"
   },
   {
    "duration": 20,
    "start_time": "2023-05-12T21:47:09.247Z"
   },
   {
    "duration": 13,
    "start_time": "2023-05-12T21:47:09.269Z"
   },
   {
    "duration": 13,
    "start_time": "2023-05-12T21:47:09.286Z"
   },
   {
    "duration": 15,
    "start_time": "2023-05-12T21:47:09.300Z"
   },
   {
    "duration": 124,
    "start_time": "2023-05-12T21:47:09.317Z"
   },
   {
    "duration": 34,
    "start_time": "2023-05-12T21:47:09.443Z"
   },
   {
    "duration": 16,
    "start_time": "2023-05-12T21:47:09.488Z"
   },
   {
    "duration": 15,
    "start_time": "2023-05-12T21:47:09.506Z"
   },
   {
    "duration": 8,
    "start_time": "2023-05-12T21:47:09.523Z"
   },
   {
    "duration": 15,
    "start_time": "2023-05-12T21:47:09.532Z"
   },
   {
    "duration": 414,
    "start_time": "2023-05-12T21:47:09.583Z"
   },
   {
    "duration": 104,
    "start_time": "2023-05-12T21:47:10.061Z"
   },
   {
    "duration": 488,
    "start_time": "2023-05-12T21:47:10.174Z"
   },
   {
    "duration": 11,
    "start_time": "2023-05-12T21:47:10.667Z"
   },
   {
    "duration": 8,
    "start_time": "2023-05-12T21:47:10.683Z"
   },
   {
    "duration": 84,
    "start_time": "2023-05-12T21:47:10.693Z"
   },
   {
    "duration": 588,
    "start_time": "2023-05-12T21:47:10.781Z"
   },
   {
    "duration": 15,
    "start_time": "2023-05-12T21:47:11.378Z"
   },
   {
    "duration": 16,
    "start_time": "2023-05-12T21:47:11.461Z"
   },
   {
    "duration": 16,
    "start_time": "2023-05-12T21:47:11.480Z"
   },
   {
    "duration": 17,
    "start_time": "2023-05-12T21:47:11.498Z"
   },
   {
    "duration": 9,
    "start_time": "2023-05-12T21:47:11.517Z"
   },
   {
    "duration": 9,
    "start_time": "2023-05-12T21:47:11.528Z"
   },
   {
    "duration": 24,
    "start_time": "2023-05-12T21:47:11.560Z"
   },
   {
    "duration": 9,
    "start_time": "2023-05-12T21:47:11.588Z"
   },
   {
    "duration": 4,
    "start_time": "2023-05-12T21:47:11.599Z"
   },
   {
    "duration": 127,
    "start_time": "2023-05-12T21:47:11.604Z"
   },
   {
    "duration": 10,
    "start_time": "2023-05-12T21:47:48.202Z"
   },
   {
    "duration": 9,
    "start_time": "2023-05-12T21:47:58.333Z"
   },
   {
    "duration": 9,
    "start_time": "2023-05-12T21:48:02.735Z"
   },
   {
    "duration": 270,
    "start_time": "2023-05-12T21:49:47.852Z"
   },
   {
    "duration": 2,
    "start_time": "2023-05-12T22:10:24.443Z"
   },
   {
    "duration": 4,
    "start_time": "2023-05-12T22:21:56.078Z"
   },
   {
    "duration": 7,
    "start_time": "2023-05-12T22:22:01.543Z"
   },
   {
    "duration": 8,
    "start_time": "2023-05-12T22:22:02.082Z"
   },
   {
    "duration": 9,
    "start_time": "2023-05-12T22:22:02.672Z"
   },
   {
    "duration": 4,
    "start_time": "2023-05-12T22:22:09.924Z"
   },
   {
    "duration": 9,
    "start_time": "2023-05-12T22:36:08.186Z"
   },
   {
    "duration": 9,
    "start_time": "2023-05-12T22:37:12.526Z"
   },
   {
    "duration": 965,
    "start_time": "2023-05-12T22:37:49.318Z"
   },
   {
    "duration": 904,
    "start_time": "2023-05-12T22:38:00.445Z"
   },
   {
    "duration": 886,
    "start_time": "2023-05-12T22:38:19.623Z"
   },
   {
    "duration": 7,
    "start_time": "2023-05-12T22:47:54.121Z"
   },
   {
    "duration": 8,
    "start_time": "2023-05-12T22:50:40.840Z"
   },
   {
    "duration": 4,
    "start_time": "2023-05-12T22:50:44.544Z"
   },
   {
    "duration": 541,
    "start_time": "2023-05-12T22:50:44.987Z"
   },
   {
    "duration": 4,
    "start_time": "2023-05-12T22:55:58.295Z"
   },
   {
    "duration": 478,
    "start_time": "2023-05-12T22:55:58.722Z"
   },
   {
    "duration": 5,
    "start_time": "2023-05-12T23:06:42.888Z"
   },
   {
    "duration": 594,
    "start_time": "2023-05-12T23:06:43.790Z"
   },
   {
    "duration": 5,
    "start_time": "2023-05-12T23:07:35.447Z"
   },
   {
    "duration": 524,
    "start_time": "2023-05-12T23:07:36.019Z"
   },
   {
    "duration": 483,
    "start_time": "2023-05-12T23:08:25.099Z"
   },
   {
    "duration": 483,
    "start_time": "2023-05-12T23:08:26.323Z"
   },
   {
    "duration": 487,
    "start_time": "2023-05-12T23:08:27.687Z"
   },
   {
    "duration": 3,
    "start_time": "2023-05-12T23:17:02.236Z"
   },
   {
    "duration": 10,
    "start_time": "2023-05-12T23:17:04.021Z"
   },
   {
    "duration": 9,
    "start_time": "2023-05-12T23:17:04.710Z"
   },
   {
    "duration": 8,
    "start_time": "2023-05-12T23:17:05.284Z"
   },
   {
    "duration": 5,
    "start_time": "2023-05-12T23:20:46.172Z"
   },
   {
    "duration": 6,
    "start_time": "2023-05-12T23:21:02.656Z"
   },
   {
    "duration": 536,
    "start_time": "2023-05-12T23:21:04.277Z"
   },
   {
    "duration": 501,
    "start_time": "2023-05-12T23:21:05.488Z"
   },
   {
    "duration": 492,
    "start_time": "2023-05-12T23:21:06.579Z"
   },
   {
    "duration": 5,
    "start_time": "2023-05-12T23:21:43.179Z"
   },
   {
    "duration": 535,
    "start_time": "2023-05-12T23:21:43.951Z"
   },
   {
    "duration": 4,
    "start_time": "2023-05-12T23:22:12.569Z"
   },
   {
    "duration": 548,
    "start_time": "2023-05-12T23:22:13.846Z"
   },
   {
    "duration": 6,
    "start_time": "2023-05-12T23:24:05.181Z"
   },
   {
    "duration": 484,
    "start_time": "2023-05-12T23:24:05.844Z"
   },
   {
    "duration": 4,
    "start_time": "2023-05-12T23:24:26.979Z"
   },
   {
    "duration": 476,
    "start_time": "2023-05-12T23:24:27.620Z"
   },
   {
    "duration": 4,
    "start_time": "2023-05-12T23:28:53.664Z"
   },
   {
    "duration": 451,
    "start_time": "2023-05-12T23:28:54.107Z"
   },
   {
    "duration": 518,
    "start_time": "2023-05-12T23:28:56.204Z"
   },
   {
    "duration": 460,
    "start_time": "2023-05-12T23:28:57.415Z"
   },
   {
    "duration": 5,
    "start_time": "2023-05-12T23:29:23.824Z"
   },
   {
    "duration": 462,
    "start_time": "2023-05-12T23:29:24.274Z"
   },
   {
    "duration": 456,
    "start_time": "2023-05-12T23:29:25.365Z"
   },
   {
    "duration": 449,
    "start_time": "2023-05-12T23:29:26.321Z"
   },
   {
    "duration": 4,
    "start_time": "2023-05-12T23:33:07.402Z"
   },
   {
    "duration": 466,
    "start_time": "2023-05-12T23:33:07.867Z"
   },
   {
    "duration": 4,
    "start_time": "2023-05-12T23:35:42.460Z"
   },
   {
    "duration": 494,
    "start_time": "2023-05-12T23:35:42.902Z"
   },
   {
    "duration": 442,
    "start_time": "2023-05-12T23:35:58.135Z"
   },
   {
    "duration": 465,
    "start_time": "2023-05-12T23:35:59.202Z"
   },
   {
    "duration": 4,
    "start_time": "2023-05-12T23:36:34.283Z"
   },
   {
    "duration": 438,
    "start_time": "2023-05-12T23:36:35.042Z"
   },
   {
    "duration": 4,
    "start_time": "2023-05-12T23:37:06.864Z"
   },
   {
    "duration": 449,
    "start_time": "2023-05-12T23:37:07.396Z"
   },
   {
    "duration": 5,
    "start_time": "2023-05-12T23:37:15.920Z"
   },
   {
    "duration": 438,
    "start_time": "2023-05-12T23:37:16.532Z"
   },
   {
    "duration": 457,
    "start_time": "2023-05-12T23:37:17.158Z"
   },
   {
    "duration": 434,
    "start_time": "2023-05-12T23:37:17.702Z"
   },
   {
    "duration": 996,
    "start_time": "2023-05-12T23:39:13.900Z"
   },
   {
    "duration": 123,
    "start_time": "2023-05-12T23:39:14.897Z"
   },
   {
    "duration": 16,
    "start_time": "2023-05-12T23:39:15.022Z"
   },
   {
    "duration": 25,
    "start_time": "2023-05-12T23:39:15.041Z"
   },
   {
    "duration": 571,
    "start_time": "2023-05-12T23:39:15.068Z"
   },
   {
    "duration": 45,
    "start_time": "2023-05-12T23:39:15.640Z"
   },
   {
    "duration": 18,
    "start_time": "2023-05-12T23:39:15.687Z"
   },
   {
    "duration": 66,
    "start_time": "2023-05-12T23:39:15.706Z"
   },
   {
    "duration": 110,
    "start_time": "2023-05-12T23:39:15.774Z"
   },
   {
    "duration": 8,
    "start_time": "2023-05-12T23:39:15.887Z"
   },
   {
    "duration": 21,
    "start_time": "2023-05-12T23:39:15.897Z"
   },
   {
    "duration": 322,
    "start_time": "2023-05-12T23:39:15.920Z"
   },
   {
    "duration": 19,
    "start_time": "2023-05-12T23:39:16.244Z"
   },
   {
    "duration": 40,
    "start_time": "2023-05-12T23:39:16.265Z"
   },
   {
    "duration": 124,
    "start_time": "2023-05-12T23:39:16.307Z"
   },
   {
    "duration": 10,
    "start_time": "2023-05-12T23:39:16.433Z"
   },
   {
    "duration": 25,
    "start_time": "2023-05-12T23:39:16.444Z"
   },
   {
    "duration": 323,
    "start_time": "2023-05-12T23:39:16.471Z"
   },
   {
    "duration": 18,
    "start_time": "2023-05-12T23:39:16.796Z"
   },
   {
    "duration": 65,
    "start_time": "2023-05-12T23:39:16.816Z"
   },
   {
    "duration": 8,
    "start_time": "2023-05-12T23:39:16.883Z"
   },
   {
    "duration": 5,
    "start_time": "2023-05-12T23:39:16.893Z"
   },
   {
    "duration": 8,
    "start_time": "2023-05-12T23:39:16.899Z"
   },
   {
    "duration": 18,
    "start_time": "2023-05-12T23:39:16.908Z"
   },
   {
    "duration": 37,
    "start_time": "2023-05-12T23:39:16.928Z"
   },
   {
    "duration": 102,
    "start_time": "2023-05-12T23:39:16.967Z"
   },
   {
    "duration": 16,
    "start_time": "2023-05-12T23:39:17.070Z"
   },
   {
    "duration": 14,
    "start_time": "2023-05-12T23:39:17.089Z"
   },
   {
    "duration": 14,
    "start_time": "2023-05-12T23:39:17.104Z"
   },
   {
    "duration": 40,
    "start_time": "2023-05-12T23:39:17.119Z"
   },
   {
    "duration": 96,
    "start_time": "2023-05-12T23:39:17.160Z"
   },
   {
    "duration": 503,
    "start_time": "2023-05-12T23:39:17.258Z"
   },
   {
    "duration": 101,
    "start_time": "2023-05-12T23:39:17.763Z"
   },
   {
    "duration": 598,
    "start_time": "2023-05-12T23:39:17.866Z"
   },
   {
    "duration": 91,
    "start_time": "2023-05-12T23:39:18.466Z"
   },
   {
    "duration": 7,
    "start_time": "2023-05-12T23:39:18.559Z"
   },
   {
    "duration": 103,
    "start_time": "2023-05-12T23:39:18.567Z"
   },
   {
    "duration": 588,
    "start_time": "2023-05-12T23:39:18.672Z"
   },
   {
    "duration": 91,
    "start_time": "2023-05-12T23:39:19.266Z"
   },
   {
    "duration": 5,
    "start_time": "2023-05-12T23:39:19.359Z"
   },
   {
    "duration": 10,
    "start_time": "2023-05-12T23:39:19.365Z"
   },
   {
    "duration": 10,
    "start_time": "2023-05-12T23:39:19.377Z"
   },
   {
    "duration": 5,
    "start_time": "2023-05-12T23:39:19.389Z"
   },
   {
    "duration": 17,
    "start_time": "2023-05-12T23:39:19.396Z"
   },
   {
    "duration": 9,
    "start_time": "2023-05-12T23:39:19.415Z"
   },
   {
    "duration": 37,
    "start_time": "2023-05-12T23:39:19.426Z"
   },
   {
    "duration": 7,
    "start_time": "2023-05-12T23:39:19.465Z"
   },
   {
    "duration": 12,
    "start_time": "2023-05-12T23:39:19.473Z"
   },
   {
    "duration": 486,
    "start_time": "2023-05-12T23:39:19.487Z"
   },
   {
    "duration": 444,
    "start_time": "2023-05-12T23:39:19.975Z"
   },
   {
    "duration": 466,
    "start_time": "2023-05-12T23:39:20.421Z"
   },
   {
    "duration": 4,
    "start_time": "2023-05-12T23:41:52.447Z"
   },
   {
    "duration": 477,
    "start_time": "2023-05-12T23:41:52.982Z"
   },
   {
    "duration": 469,
    "start_time": "2023-05-12T23:41:53.880Z"
   },
   {
    "duration": 440,
    "start_time": "2023-05-12T23:41:54.959Z"
   },
   {
    "duration": 4,
    "start_time": "2023-05-12T23:42:19.193Z"
   },
   {
    "duration": 455,
    "start_time": "2023-05-12T23:42:19.415Z"
   },
   {
    "duration": 461,
    "start_time": "2023-05-12T23:42:19.872Z"
   },
   {
    "duration": 483,
    "start_time": "2023-05-12T23:42:20.336Z"
   },
   {
    "duration": 1108,
    "start_time": "2023-05-12T23:44:42.755Z"
   },
   {
    "duration": 162,
    "start_time": "2023-05-12T23:44:43.865Z"
   },
   {
    "duration": 18,
    "start_time": "2023-05-12T23:44:44.029Z"
   },
   {
    "duration": 17,
    "start_time": "2023-05-12T23:44:44.056Z"
   },
   {
    "duration": 630,
    "start_time": "2023-05-12T23:44:44.075Z"
   },
   {
    "duration": 52,
    "start_time": "2023-05-12T23:44:44.707Z"
   },
   {
    "duration": 19,
    "start_time": "2023-05-12T23:44:44.760Z"
   },
   {
    "duration": 49,
    "start_time": "2023-05-12T23:44:44.780Z"
   },
   {
    "duration": 141,
    "start_time": "2023-05-12T23:44:44.830Z"
   },
   {
    "duration": 10,
    "start_time": "2023-05-12T23:44:44.974Z"
   },
   {
    "duration": 27,
    "start_time": "2023-05-12T23:44:44.985Z"
   },
   {
    "duration": 367,
    "start_time": "2023-05-12T23:44:45.014Z"
   },
   {
    "duration": 19,
    "start_time": "2023-05-12T23:44:45.383Z"
   },
   {
    "duration": 67,
    "start_time": "2023-05-12T23:44:45.404Z"
   },
   {
    "duration": 126,
    "start_time": "2023-05-12T23:44:45.474Z"
   },
   {
    "duration": 10,
    "start_time": "2023-05-12T23:44:45.602Z"
   },
   {
    "duration": 18,
    "start_time": "2023-05-12T23:44:45.614Z"
   },
   {
    "duration": 335,
    "start_time": "2023-05-12T23:44:45.634Z"
   },
   {
    "duration": 18,
    "start_time": "2023-05-12T23:44:45.971Z"
   },
   {
    "duration": 44,
    "start_time": "2023-05-12T23:44:45.991Z"
   },
   {
    "duration": 11,
    "start_time": "2023-05-12T23:44:46.058Z"
   },
   {
    "duration": 4,
    "start_time": "2023-05-12T23:44:46.071Z"
   },
   {
    "duration": 9,
    "start_time": "2023-05-12T23:44:46.077Z"
   },
   {
    "duration": 18,
    "start_time": "2023-05-12T23:44:46.087Z"
   },
   {
    "duration": 14,
    "start_time": "2023-05-12T23:44:46.107Z"
   },
   {
    "duration": 138,
    "start_time": "2023-05-12T23:44:46.122Z"
   },
   {
    "duration": 16,
    "start_time": "2023-05-12T23:44:46.261Z"
   },
   {
    "duration": 15,
    "start_time": "2023-05-12T23:44:46.280Z"
   },
   {
    "duration": 13,
    "start_time": "2023-05-12T23:44:46.296Z"
   },
   {
    "duration": 7,
    "start_time": "2023-05-12T23:44:46.311Z"
   },
   {
    "duration": 44,
    "start_time": "2023-05-12T23:44:46.320Z"
   },
   {
    "duration": 591,
    "start_time": "2023-05-12T23:44:46.366Z"
   },
   {
    "duration": 100,
    "start_time": "2023-05-12T23:44:46.960Z"
   },
   {
    "duration": 504,
    "start_time": "2023-05-12T23:44:47.062Z"
   },
   {
    "duration": 5,
    "start_time": "2023-05-12T23:44:47.658Z"
   },
   {
    "duration": 94,
    "start_time": "2023-05-12T23:44:47.665Z"
   },
   {
    "duration": 15,
    "start_time": "2023-05-12T23:44:47.761Z"
   },
   {
    "duration": 584,
    "start_time": "2023-05-12T23:44:47.778Z"
   },
   {
    "duration": 92,
    "start_time": "2023-05-12T23:44:48.364Z"
   },
   {
    "duration": 6,
    "start_time": "2023-05-12T23:44:48.458Z"
   },
   {
    "duration": 93,
    "start_time": "2023-05-12T23:44:48.465Z"
   },
   {
    "duration": 6,
    "start_time": "2023-05-12T23:44:48.559Z"
   },
   {
    "duration": 4,
    "start_time": "2023-05-12T23:44:48.567Z"
   },
   {
    "duration": 9,
    "start_time": "2023-05-12T23:44:48.573Z"
   },
   {
    "duration": 8,
    "start_time": "2023-05-12T23:44:48.583Z"
   },
   {
    "duration": 12,
    "start_time": "2023-05-12T23:44:48.592Z"
   },
   {
    "duration": 6,
    "start_time": "2023-05-12T23:44:48.605Z"
   },
   {
    "duration": 7,
    "start_time": "2023-05-12T23:44:48.612Z"
   },
   {
    "duration": 472,
    "start_time": "2023-05-12T23:44:48.657Z"
   },
   {
    "duration": 441,
    "start_time": "2023-05-12T23:44:49.130Z"
   },
   {
    "duration": 436,
    "start_time": "2023-05-12T23:44:49.574Z"
   },
   {
    "duration": 16,
    "start_time": "2023-05-12T23:46:20.919Z"
   },
   {
    "duration": 369,
    "start_time": "2023-05-12T23:46:22.589Z"
   },
   {
    "duration": 3,
    "start_time": "2023-05-12T23:47:21.046Z"
   },
   {
    "duration": 4,
    "start_time": "2023-05-12T23:47:21.464Z"
   },
   {
    "duration": 5,
    "start_time": "2023-05-12T23:47:25.647Z"
   },
   {
    "duration": 5,
    "start_time": "2023-05-12T23:47:27.942Z"
   },
   {
    "duration": 4,
    "start_time": "2023-05-12T23:47:59.638Z"
   },
   {
    "duration": 8,
    "start_time": "2023-05-12T23:48:01.710Z"
   },
   {
    "duration": 7,
    "start_time": "2023-05-12T23:48:08.476Z"
   },
   {
    "duration": 8,
    "start_time": "2023-05-12T23:48:09.554Z"
   },
   {
    "duration": 3,
    "start_time": "2023-05-12T23:48:12.420Z"
   },
   {
    "duration": 984,
    "start_time": "2023-05-13T00:04:22.817Z"
   },
   {
    "duration": 132,
    "start_time": "2023-05-13T00:04:23.803Z"
   },
   {
    "duration": 29,
    "start_time": "2023-05-13T00:04:23.937Z"
   },
   {
    "duration": 19,
    "start_time": "2023-05-13T00:04:23.968Z"
   },
   {
    "duration": 554,
    "start_time": "2023-05-13T00:04:23.990Z"
   },
   {
    "duration": 37,
    "start_time": "2023-05-13T00:04:24.545Z"
   },
   {
    "duration": 28,
    "start_time": "2023-05-13T00:04:24.583Z"
   },
   {
    "duration": 57,
    "start_time": "2023-05-13T00:04:24.612Z"
   },
   {
    "duration": 117,
    "start_time": "2023-05-13T00:04:24.671Z"
   },
   {
    "duration": 10,
    "start_time": "2023-05-13T00:04:24.790Z"
   },
   {
    "duration": 20,
    "start_time": "2023-05-13T00:04:24.802Z"
   },
   {
    "duration": 324,
    "start_time": "2023-05-13T00:04:24.824Z"
   },
   {
    "duration": 20,
    "start_time": "2023-05-13T00:04:25.150Z"
   },
   {
    "duration": 40,
    "start_time": "2023-05-13T00:04:25.173Z"
   },
   {
    "duration": 128,
    "start_time": "2023-05-13T00:04:25.215Z"
   },
   {
    "duration": 12,
    "start_time": "2023-05-13T00:04:25.345Z"
   },
   {
    "duration": 15,
    "start_time": "2023-05-13T00:04:25.358Z"
   },
   {
    "duration": 315,
    "start_time": "2023-05-13T00:04:25.374Z"
   },
   {
    "duration": 17,
    "start_time": "2023-05-13T00:04:25.691Z"
   },
   {
    "duration": 66,
    "start_time": "2023-05-13T00:04:25.710Z"
   },
   {
    "duration": 9,
    "start_time": "2023-05-13T00:04:25.778Z"
   },
   {
    "duration": 6,
    "start_time": "2023-05-13T00:04:25.789Z"
   },
   {
    "duration": 9,
    "start_time": "2023-05-13T00:04:25.797Z"
   },
   {
    "duration": 25,
    "start_time": "2023-05-13T00:04:25.807Z"
   },
   {
    "duration": 24,
    "start_time": "2023-05-13T00:04:25.834Z"
   },
   {
    "duration": 103,
    "start_time": "2023-05-13T00:04:25.859Z"
   },
   {
    "duration": 17,
    "start_time": "2023-05-13T00:04:25.964Z"
   },
   {
    "duration": 14,
    "start_time": "2023-05-13T00:04:25.982Z"
   },
   {
    "duration": 14,
    "start_time": "2023-05-13T00:04:25.997Z"
   },
   {
    "duration": 7,
    "start_time": "2023-05-13T00:04:26.012Z"
   },
   {
    "duration": 52,
    "start_time": "2023-05-13T00:04:26.021Z"
   },
   {
    "duration": 682,
    "start_time": "2023-05-13T00:04:26.075Z"
   },
   {
    "duration": 104,
    "start_time": "2023-05-13T00:04:26.759Z"
   },
   {
    "duration": 499,
    "start_time": "2023-05-13T00:04:26.864Z"
   },
   {
    "duration": 7,
    "start_time": "2023-05-13T00:04:27.365Z"
   },
   {
    "duration": 7,
    "start_time": "2023-05-13T00:04:27.459Z"
   },
   {
    "duration": 14,
    "start_time": "2023-05-13T00:04:27.558Z"
   },
   {
    "duration": 492,
    "start_time": "2023-05-13T00:04:27.574Z"
   },
   {
    "duration": 4,
    "start_time": "2023-05-13T00:04:28.158Z"
   },
   {
    "duration": 97,
    "start_time": "2023-05-13T00:04:28.163Z"
   },
   {
    "duration": 5,
    "start_time": "2023-05-13T00:04:28.263Z"
   },
   {
    "duration": 7,
    "start_time": "2023-05-13T00:04:28.269Z"
   },
   {
    "duration": 4,
    "start_time": "2023-05-13T00:04:28.277Z"
   },
   {
    "duration": 9,
    "start_time": "2023-05-13T00:04:28.282Z"
   },
   {
    "duration": 7,
    "start_time": "2023-05-13T00:04:28.293Z"
   },
   {
    "duration": 7,
    "start_time": "2023-05-13T00:04:28.301Z"
   },
   {
    "duration": 48,
    "start_time": "2023-05-13T00:04:28.310Z"
   },
   {
    "duration": 4,
    "start_time": "2023-05-13T00:04:28.360Z"
   },
   {
    "duration": 488,
    "start_time": "2023-05-13T00:04:28.366Z"
   },
   {
    "duration": 518,
    "start_time": "2023-05-13T00:04:28.856Z"
   },
   {
    "duration": 528,
    "start_time": "2023-05-13T00:04:29.376Z"
   },
   {
    "duration": 998,
    "start_time": "2023-05-13T00:15:10.603Z"
   },
   {
    "duration": 130,
    "start_time": "2023-05-13T00:15:11.603Z"
   },
   {
    "duration": 23,
    "start_time": "2023-05-13T00:15:11.735Z"
   },
   {
    "duration": 24,
    "start_time": "2023-05-13T00:15:11.760Z"
   },
   {
    "duration": 517,
    "start_time": "2023-05-13T00:15:11.786Z"
   },
   {
    "duration": 35,
    "start_time": "2023-05-13T00:15:12.305Z"
   },
   {
    "duration": 32,
    "start_time": "2023-05-13T00:15:12.341Z"
   },
   {
    "duration": 43,
    "start_time": "2023-05-13T00:15:12.375Z"
   },
   {
    "duration": 126,
    "start_time": "2023-05-13T00:15:12.419Z"
   },
   {
    "duration": 11,
    "start_time": "2023-05-13T00:15:12.547Z"
   },
   {
    "duration": 17,
    "start_time": "2023-05-13T00:15:12.560Z"
   },
   {
    "duration": 323,
    "start_time": "2023-05-13T00:15:12.579Z"
   },
   {
    "duration": 18,
    "start_time": "2023-05-13T00:15:12.904Z"
   },
   {
    "duration": 58,
    "start_time": "2023-05-13T00:15:12.924Z"
   },
   {
    "duration": 118,
    "start_time": "2023-05-13T00:15:12.984Z"
   },
   {
    "duration": 9,
    "start_time": "2023-05-13T00:15:13.104Z"
   },
   {
    "duration": 19,
    "start_time": "2023-05-13T00:15:13.115Z"
   },
   {
    "duration": 317,
    "start_time": "2023-05-13T00:15:13.136Z"
   },
   {
    "duration": 17,
    "start_time": "2023-05-13T00:15:13.456Z"
   },
   {
    "duration": 42,
    "start_time": "2023-05-13T00:15:13.474Z"
   },
   {
    "duration": 9,
    "start_time": "2023-05-13T00:15:13.518Z"
   },
   {
    "duration": 32,
    "start_time": "2023-05-13T00:15:13.529Z"
   },
   {
    "duration": 9,
    "start_time": "2023-05-13T00:15:13.563Z"
   },
   {
    "duration": 19,
    "start_time": "2023-05-13T00:15:13.574Z"
   },
   {
    "duration": 14,
    "start_time": "2023-05-13T00:15:13.595Z"
   },
   {
    "duration": 128,
    "start_time": "2023-05-13T00:15:13.611Z"
   },
   {
    "duration": 28,
    "start_time": "2023-05-13T00:15:13.741Z"
   },
   {
    "duration": 15,
    "start_time": "2023-05-13T00:15:13.773Z"
   },
   {
    "duration": 16,
    "start_time": "2023-05-13T00:15:13.789Z"
   },
   {
    "duration": 8,
    "start_time": "2023-05-13T00:15:13.807Z"
   },
   {
    "duration": 53,
    "start_time": "2023-05-13T00:15:13.816Z"
   },
   {
    "duration": 593,
    "start_time": "2023-05-13T00:15:13.870Z"
   },
   {
    "duration": 193,
    "start_time": "2023-05-13T00:15:14.465Z"
   },
   {
    "duration": 507,
    "start_time": "2023-05-13T00:15:14.660Z"
   },
   {
    "duration": 89,
    "start_time": "2023-05-13T00:15:15.169Z"
   },
   {
    "duration": 6,
    "start_time": "2023-05-13T00:15:15.260Z"
   },
   {
    "duration": 16,
    "start_time": "2023-05-13T00:15:15.358Z"
   },
   {
    "duration": 591,
    "start_time": "2023-05-13T00:15:15.376Z"
   },
   {
    "duration": 90,
    "start_time": "2023-05-13T00:15:15.968Z"
   },
   {
    "duration": 98,
    "start_time": "2023-05-13T00:15:16.060Z"
   },
   {
    "duration": 5,
    "start_time": "2023-05-13T00:15:16.160Z"
   },
   {
    "duration": 6,
    "start_time": "2023-05-13T00:15:16.166Z"
   },
   {
    "duration": 4,
    "start_time": "2023-05-13T00:15:16.174Z"
   },
   {
    "duration": 13,
    "start_time": "2023-05-13T00:15:16.180Z"
   },
   {
    "duration": 9,
    "start_time": "2023-05-13T00:15:16.195Z"
   },
   {
    "duration": 8,
    "start_time": "2023-05-13T00:15:16.206Z"
   },
   {
    "duration": 3,
    "start_time": "2023-05-13T00:15:16.257Z"
   },
   {
    "duration": 6,
    "start_time": "2023-05-13T00:15:16.262Z"
   },
   {
    "duration": 467,
    "start_time": "2023-05-13T00:15:16.270Z"
   },
   {
    "duration": 459,
    "start_time": "2023-05-13T00:15:16.738Z"
   },
   {
    "duration": 453,
    "start_time": "2023-05-13T00:15:17.198Z"
   },
   {
    "duration": 1038,
    "start_time": "2023-05-13T00:26:00.377Z"
   },
   {
    "duration": 137,
    "start_time": "2023-05-13T00:26:01.417Z"
   },
   {
    "duration": 18,
    "start_time": "2023-05-13T00:26:01.555Z"
   },
   {
    "duration": 34,
    "start_time": "2023-05-13T00:26:01.575Z"
   },
   {
    "duration": 560,
    "start_time": "2023-05-13T00:26:01.611Z"
   },
   {
    "duration": 36,
    "start_time": "2023-05-13T00:26:02.172Z"
   },
   {
    "duration": 28,
    "start_time": "2023-05-13T00:26:02.209Z"
   },
   {
    "duration": 57,
    "start_time": "2023-05-13T00:26:02.239Z"
   },
   {
    "duration": 116,
    "start_time": "2023-05-13T00:26:02.297Z"
   },
   {
    "duration": 9,
    "start_time": "2023-05-13T00:26:02.415Z"
   },
   {
    "duration": 49,
    "start_time": "2023-05-13T00:26:02.425Z"
   },
   {
    "duration": 324,
    "start_time": "2023-05-13T00:26:02.475Z"
   },
   {
    "duration": 16,
    "start_time": "2023-05-13T00:26:02.801Z"
   },
   {
    "duration": 64,
    "start_time": "2023-05-13T00:26:02.819Z"
   },
   {
    "duration": 133,
    "start_time": "2023-05-13T00:26:02.885Z"
   },
   {
    "duration": 10,
    "start_time": "2023-05-13T00:26:03.020Z"
   },
   {
    "duration": 30,
    "start_time": "2023-05-13T00:26:03.031Z"
   },
   {
    "duration": 326,
    "start_time": "2023-05-13T00:26:03.062Z"
   },
   {
    "duration": 18,
    "start_time": "2023-05-13T00:26:03.389Z"
   },
   {
    "duration": 61,
    "start_time": "2023-05-13T00:26:03.409Z"
   },
   {
    "duration": 10,
    "start_time": "2023-05-13T00:26:03.472Z"
   },
   {
    "duration": 19,
    "start_time": "2023-05-13T00:26:03.484Z"
   },
   {
    "duration": 7,
    "start_time": "2023-05-13T00:26:03.505Z"
   },
   {
    "duration": 19,
    "start_time": "2023-05-13T00:26:03.513Z"
   },
   {
    "duration": 32,
    "start_time": "2023-05-13T00:26:03.534Z"
   },
   {
    "duration": 112,
    "start_time": "2023-05-13T00:26:03.568Z"
   },
   {
    "duration": 19,
    "start_time": "2023-05-13T00:26:03.682Z"
   },
   {
    "duration": 18,
    "start_time": "2023-05-13T00:26:03.707Z"
   },
   {
    "duration": 39,
    "start_time": "2023-05-13T00:26:03.727Z"
   },
   {
    "duration": 7,
    "start_time": "2023-05-13T00:26:03.767Z"
   },
   {
    "duration": 83,
    "start_time": "2023-05-13T00:26:03.776Z"
   },
   {
    "duration": 497,
    "start_time": "2023-05-13T00:26:03.866Z"
   },
   {
    "duration": 192,
    "start_time": "2023-05-13T00:26:04.365Z"
   },
   {
    "duration": 503,
    "start_time": "2023-05-13T00:26:04.559Z"
   },
   {
    "duration": 94,
    "start_time": "2023-05-13T00:26:05.063Z"
   },
   {
    "duration": 7,
    "start_time": "2023-05-13T00:26:05.160Z"
   },
   {
    "duration": 100,
    "start_time": "2023-05-13T00:26:05.169Z"
   },
   {
    "duration": 587,
    "start_time": "2023-05-13T00:26:05.271Z"
   },
   {
    "duration": 6,
    "start_time": "2023-05-13T00:26:05.860Z"
   },
   {
    "duration": 7,
    "start_time": "2023-05-13T00:26:05.958Z"
   },
   {
    "duration": 10,
    "start_time": "2023-05-13T00:26:05.966Z"
   },
   {
    "duration": 19,
    "start_time": "2023-05-13T00:26:05.978Z"
   },
   {
    "duration": 9,
    "start_time": "2023-05-13T00:26:05.999Z"
   },
   {
    "duration": 17,
    "start_time": "2023-05-13T00:26:06.010Z"
   },
   {
    "duration": 25,
    "start_time": "2023-05-13T00:26:06.028Z"
   },
   {
    "duration": 8,
    "start_time": "2023-05-13T00:26:06.055Z"
   },
   {
    "duration": 3,
    "start_time": "2023-05-13T00:26:06.065Z"
   },
   {
    "duration": 6,
    "start_time": "2023-05-13T00:26:06.069Z"
   },
   {
    "duration": 476,
    "start_time": "2023-05-13T00:26:06.077Z"
   },
   {
    "duration": 452,
    "start_time": "2023-05-13T00:26:06.556Z"
   },
   {
    "duration": 455,
    "start_time": "2023-05-13T00:26:07.009Z"
   },
   {
    "duration": 1094,
    "start_time": "2023-05-13T00:51:03.834Z"
   },
   {
    "duration": 132,
    "start_time": "2023-05-13T00:51:04.930Z"
   },
   {
    "duration": 14,
    "start_time": "2023-05-13T00:51:05.064Z"
   },
   {
    "duration": 13,
    "start_time": "2023-05-13T00:51:05.080Z"
   },
   {
    "duration": 528,
    "start_time": "2023-05-13T00:51:05.095Z"
   },
   {
    "duration": 43,
    "start_time": "2023-05-13T00:51:05.625Z"
   },
   {
    "duration": 16,
    "start_time": "2023-05-13T00:51:05.670Z"
   },
   {
    "duration": 44,
    "start_time": "2023-05-13T00:51:05.688Z"
   },
   {
    "duration": 121,
    "start_time": "2023-05-13T00:51:05.733Z"
   },
   {
    "duration": 8,
    "start_time": "2023-05-13T00:51:05.859Z"
   },
   {
    "duration": 16,
    "start_time": "2023-05-13T00:51:05.869Z"
   },
   {
    "duration": 314,
    "start_time": "2023-05-13T00:51:05.887Z"
   },
   {
    "duration": 17,
    "start_time": "2023-05-13T00:51:06.203Z"
   },
   {
    "duration": 56,
    "start_time": "2023-05-13T00:51:06.222Z"
   },
   {
    "duration": 116,
    "start_time": "2023-05-13T00:51:06.280Z"
   },
   {
    "duration": 9,
    "start_time": "2023-05-13T00:51:06.398Z"
   },
   {
    "duration": 13,
    "start_time": "2023-05-13T00:51:06.408Z"
   },
   {
    "duration": 341,
    "start_time": "2023-05-13T00:51:06.423Z"
   },
   {
    "duration": 18,
    "start_time": "2023-05-13T00:51:06.765Z"
   },
   {
    "duration": 44,
    "start_time": "2023-05-13T00:51:06.784Z"
   },
   {
    "duration": 29,
    "start_time": "2023-05-13T00:51:06.830Z"
   },
   {
    "duration": 7,
    "start_time": "2023-05-13T00:51:06.861Z"
   },
   {
    "duration": 5,
    "start_time": "2023-05-13T00:51:06.870Z"
   },
   {
    "duration": 14,
    "start_time": "2023-05-13T00:51:06.877Z"
   },
   {
    "duration": 15,
    "start_time": "2023-05-13T00:51:06.893Z"
   },
   {
    "duration": 120,
    "start_time": "2023-05-13T00:51:06.909Z"
   },
   {
    "duration": 27,
    "start_time": "2023-05-13T00:51:07.030Z"
   },
   {
    "duration": 13,
    "start_time": "2023-05-13T00:51:07.061Z"
   },
   {
    "duration": 13,
    "start_time": "2023-05-13T00:51:07.076Z"
   },
   {
    "duration": 7,
    "start_time": "2023-05-13T00:51:07.091Z"
   },
   {
    "duration": 61,
    "start_time": "2023-05-13T00:51:07.099Z"
   },
   {
    "duration": 507,
    "start_time": "2023-05-13T00:51:07.161Z"
   },
   {
    "duration": 103,
    "start_time": "2023-05-13T00:51:07.757Z"
   },
   {
    "duration": 606,
    "start_time": "2023-05-13T00:51:07.862Z"
   },
   {
    "duration": 89,
    "start_time": "2023-05-13T00:51:08.470Z"
   },
   {
    "duration": 96,
    "start_time": "2023-05-13T00:51:08.561Z"
   },
   {
    "duration": 21,
    "start_time": "2023-05-13T00:51:08.659Z"
   },
   {
    "duration": 584,
    "start_time": "2023-05-13T00:51:08.682Z"
   },
   {
    "duration": 90,
    "start_time": "2023-05-13T00:51:09.268Z"
   },
   {
    "duration": 104,
    "start_time": "2023-05-13T00:51:09.363Z"
   },
   {
    "duration": 5,
    "start_time": "2023-05-13T00:51:09.469Z"
   },
   {
    "duration": 13,
    "start_time": "2023-05-13T00:51:09.476Z"
   },
   {
    "duration": 5,
    "start_time": "2023-05-13T00:51:09.491Z"
   },
   {
    "duration": 10,
    "start_time": "2023-05-13T00:51:09.498Z"
   },
   {
    "duration": 8,
    "start_time": "2023-05-13T00:51:09.509Z"
   },
   {
    "duration": 7,
    "start_time": "2023-05-13T00:51:09.519Z"
   },
   {
    "duration": 3,
    "start_time": "2023-05-13T00:51:09.528Z"
   },
   {
    "duration": 5,
    "start_time": "2023-05-13T00:51:09.557Z"
   },
   {
    "duration": 498,
    "start_time": "2023-05-13T00:51:09.563Z"
   },
   {
    "duration": 438,
    "start_time": "2023-05-13T00:51:10.063Z"
   },
   {
    "duration": 439,
    "start_time": "2023-05-13T00:51:10.503Z"
   },
   {
    "duration": 54,
    "start_time": "2023-05-13T05:49:16.990Z"
   },
   {
    "duration": 1976,
    "start_time": "2023-05-13T05:49:26.933Z"
   },
   {
    "duration": 412,
    "start_time": "2023-05-13T05:49:28.910Z"
   },
   {
    "duration": 15,
    "start_time": "2023-05-13T05:49:29.323Z"
   },
   {
    "duration": 15,
    "start_time": "2023-05-13T05:49:29.340Z"
   },
   {
    "duration": 739,
    "start_time": "2023-05-13T05:49:29.357Z"
   },
   {
    "duration": 41,
    "start_time": "2023-05-13T05:49:30.099Z"
   },
   {
    "duration": 23,
    "start_time": "2023-05-13T05:49:30.142Z"
   },
   {
    "duration": 62,
    "start_time": "2023-05-13T05:49:30.167Z"
   },
   {
    "duration": 628,
    "start_time": "2023-05-13T05:49:30.231Z"
   },
   {
    "duration": 14,
    "start_time": "2023-05-13T05:49:30.861Z"
   },
   {
    "duration": 69,
    "start_time": "2023-05-13T05:49:30.877Z"
   },
   {
    "duration": 370,
    "start_time": "2023-05-13T05:49:30.948Z"
   },
   {
    "duration": 16,
    "start_time": "2023-05-13T05:49:31.320Z"
   },
   {
    "duration": 69,
    "start_time": "2023-05-13T05:49:31.338Z"
   },
   {
    "duration": 580,
    "start_time": "2023-05-13T05:49:31.408Z"
   },
   {
    "duration": 22,
    "start_time": "2023-05-13T05:49:31.990Z"
   },
   {
    "duration": 26,
    "start_time": "2023-05-13T05:49:32.013Z"
   },
   {
    "duration": 470,
    "start_time": "2023-05-13T05:49:32.041Z"
   },
   {
    "duration": 24,
    "start_time": "2023-05-13T05:49:32.514Z"
   },
   {
    "duration": 72,
    "start_time": "2023-05-13T05:49:32.540Z"
   },
   {
    "duration": 11,
    "start_time": "2023-05-13T05:49:32.614Z"
   },
   {
    "duration": 5,
    "start_time": "2023-05-13T05:49:32.627Z"
   },
   {
    "duration": 10,
    "start_time": "2023-05-13T05:49:32.633Z"
   },
   {
    "duration": 23,
    "start_time": "2023-05-13T05:49:32.644Z"
   },
   {
    "duration": 14,
    "start_time": "2023-05-13T05:49:32.668Z"
   },
   {
    "duration": 28,
    "start_time": "2023-05-13T05:49:32.683Z"
   },
   {
    "duration": 18,
    "start_time": "2023-05-13T05:49:32.713Z"
   },
   {
    "duration": 13,
    "start_time": "2023-05-13T05:49:32.735Z"
   },
   {
    "duration": 18,
    "start_time": "2023-05-13T05:49:32.749Z"
   },
   {
    "duration": 32,
    "start_time": "2023-05-13T05:49:32.769Z"
   },
   {
    "duration": 106,
    "start_time": "2023-05-13T05:49:32.803Z"
   },
   {
    "duration": 493,
    "start_time": "2023-05-13T05:49:32.913Z"
   },
   {
    "duration": 104,
    "start_time": "2023-05-13T05:49:33.410Z"
   },
   {
    "duration": 499,
    "start_time": "2023-05-13T05:49:33.516Z"
   },
   {
    "duration": 79,
    "start_time": "2023-05-13T05:49:34.017Z"
   },
   {
    "duration": 115,
    "start_time": "2023-05-13T05:49:34.097Z"
   },
   {
    "duration": 26,
    "start_time": "2023-05-13T05:49:34.214Z"
   },
   {
    "duration": 661,
    "start_time": "2023-05-13T05:49:34.242Z"
   },
   {
    "duration": 10,
    "start_time": "2023-05-13T05:49:34.906Z"
   },
   {
    "duration": 25,
    "start_time": "2023-05-13T05:49:34.994Z"
   },
   {
    "duration": 16,
    "start_time": "2023-05-13T05:49:35.020Z"
   },
   {
    "duration": 10,
    "start_time": "2023-05-13T05:49:35.037Z"
   },
   {
    "duration": 9,
    "start_time": "2023-05-13T05:49:35.049Z"
   },
   {
    "duration": 28,
    "start_time": "2023-05-13T05:49:35.060Z"
   },
   {
    "duration": 9,
    "start_time": "2023-05-13T05:49:35.091Z"
   },
   {
    "duration": 13,
    "start_time": "2023-05-13T05:49:35.104Z"
   },
   {
    "duration": 7,
    "start_time": "2023-05-13T05:49:35.119Z"
   },
   {
    "duration": 5,
    "start_time": "2023-05-13T05:49:35.128Z"
   },
   {
    "duration": 570,
    "start_time": "2023-05-13T05:49:35.135Z"
   },
   {
    "duration": 516,
    "start_time": "2023-05-13T05:49:35.711Z"
   },
   {
    "duration": 535,
    "start_time": "2023-05-13T05:49:36.228Z"
   },
   {
    "duration": 6,
    "start_time": "2023-05-13T05:49:42.009Z"
   },
   {
    "duration": 1105,
    "start_time": "2023-05-13T16:34:05.515Z"
   },
   {
    "duration": 581,
    "start_time": "2023-05-13T16:34:06.623Z"
   },
   {
    "duration": 18,
    "start_time": "2023-05-13T16:34:07.205Z"
   },
   {
    "duration": 25,
    "start_time": "2023-05-13T16:34:07.226Z"
   },
   {
    "duration": 798,
    "start_time": "2023-05-13T16:34:07.253Z"
   },
   {
    "duration": 46,
    "start_time": "2023-05-13T16:34:08.053Z"
   },
   {
    "duration": 24,
    "start_time": "2023-05-13T16:34:08.106Z"
   },
   {
    "duration": 54,
    "start_time": "2023-05-13T16:34:08.131Z"
   },
   {
    "duration": 1153,
    "start_time": "2023-05-13T16:34:08.187Z"
   },
   {
    "duration": 11,
    "start_time": "2023-05-13T16:34:09.341Z"
   },
   {
    "duration": 36,
    "start_time": "2023-05-13T16:34:09.353Z"
   },
   {
    "duration": 352,
    "start_time": "2023-05-13T16:34:09.391Z"
   },
   {
    "duration": 16,
    "start_time": "2023-05-13T16:34:09.745Z"
   },
   {
    "duration": 55,
    "start_time": "2023-05-13T16:34:09.764Z"
   },
   {
    "duration": 700,
    "start_time": "2023-05-13T16:34:09.820Z"
   },
   {
    "duration": 9,
    "start_time": "2023-05-13T16:34:10.522Z"
   },
   {
    "duration": 43,
    "start_time": "2023-05-13T16:34:10.533Z"
   },
   {
    "duration": 404,
    "start_time": "2023-05-13T16:34:10.578Z"
   },
   {
    "duration": 18,
    "start_time": "2023-05-13T16:34:10.984Z"
   },
   {
    "duration": 73,
    "start_time": "2023-05-13T16:34:11.004Z"
   },
   {
    "duration": 9,
    "start_time": "2023-05-13T16:34:11.078Z"
   },
   {
    "duration": 41,
    "start_time": "2023-05-13T16:34:11.089Z"
   },
   {
    "duration": 24,
    "start_time": "2023-05-13T16:34:11.132Z"
   },
   {
    "duration": 29,
    "start_time": "2023-05-13T16:34:11.158Z"
   },
   {
    "duration": 18,
    "start_time": "2023-05-13T16:34:11.189Z"
   },
   {
    "duration": 70,
    "start_time": "2023-05-13T16:34:11.209Z"
   },
   {
    "duration": 27,
    "start_time": "2023-05-13T16:34:11.280Z"
   },
   {
    "duration": 29,
    "start_time": "2023-05-13T16:34:11.308Z"
   },
   {
    "duration": 27,
    "start_time": "2023-05-13T16:34:11.338Z"
   },
   {
    "duration": 23,
    "start_time": "2023-05-13T16:34:11.366Z"
   },
   {
    "duration": 124,
    "start_time": "2023-05-13T16:34:11.390Z"
   },
   {
    "duration": 396,
    "start_time": "2023-05-13T16:34:11.521Z"
   },
   {
    "duration": 105,
    "start_time": "2023-05-13T16:34:11.923Z"
   },
   {
    "duration": 407,
    "start_time": "2023-05-13T16:34:12.110Z"
   },
   {
    "duration": 6,
    "start_time": "2023-05-13T16:34:12.524Z"
   },
   {
    "duration": 129,
    "start_time": "2023-05-13T16:34:12.600Z"
   },
   {
    "duration": 19,
    "start_time": "2023-05-13T16:34:12.730Z"
   },
   {
    "duration": 401,
    "start_time": "2023-05-13T16:34:12.805Z"
   },
   {
    "duration": 13,
    "start_time": "2023-05-13T16:34:13.211Z"
   },
   {
    "duration": 100,
    "start_time": "2023-05-13T16:34:13.229Z"
   },
   {
    "duration": 5,
    "start_time": "2023-05-13T16:34:13.332Z"
   },
   {
    "duration": 8,
    "start_time": "2023-05-13T16:34:13.338Z"
   },
   {
    "duration": 5,
    "start_time": "2023-05-13T16:34:13.348Z"
   },
   {
    "duration": 11,
    "start_time": "2023-05-13T16:34:13.354Z"
   },
   {
    "duration": 10,
    "start_time": "2023-05-13T16:34:13.367Z"
   },
   {
    "duration": 9,
    "start_time": "2023-05-13T16:34:13.378Z"
   },
   {
    "duration": 4,
    "start_time": "2023-05-13T16:34:13.389Z"
   },
   {
    "duration": 44,
    "start_time": "2023-05-13T16:34:13.395Z"
   },
   {
    "duration": 16,
    "start_time": "2023-05-13T16:34:13.440Z"
   },
   {
    "duration": 518,
    "start_time": "2023-05-13T16:34:13.458Z"
   },
   {
    "duration": 526,
    "start_time": "2023-05-13T16:34:13.978Z"
   },
   {
    "duration": 513,
    "start_time": "2023-05-13T16:34:14.511Z"
   },
   {
    "duration": 547,
    "start_time": "2023-05-13T16:43:14.415Z"
   },
   {
    "duration": 492,
    "start_time": "2023-05-13T16:43:20.087Z"
   },
   {
    "duration": 63,
    "start_time": "2023-05-13T18:29:38.694Z"
   },
   {
    "duration": 1137,
    "start_time": "2023-05-13T18:29:46.695Z"
   },
   {
    "duration": 140,
    "start_time": "2023-05-13T18:29:47.834Z"
   },
   {
    "duration": 16,
    "start_time": "2023-05-13T18:29:47.975Z"
   },
   {
    "duration": 23,
    "start_time": "2023-05-13T18:29:47.993Z"
   },
   {
    "duration": 603,
    "start_time": "2023-05-13T18:29:48.018Z"
   },
   {
    "duration": 38,
    "start_time": "2023-05-13T18:29:48.623Z"
   },
   {
    "duration": 13,
    "start_time": "2023-05-13T18:29:48.662Z"
   },
   {
    "duration": 57,
    "start_time": "2023-05-13T18:29:48.676Z"
   },
   {
    "duration": 119,
    "start_time": "2023-05-13T18:29:48.734Z"
   },
   {
    "duration": 9,
    "start_time": "2023-05-13T18:29:48.854Z"
   },
   {
    "duration": 17,
    "start_time": "2023-05-13T18:29:48.864Z"
   },
   {
    "duration": 530,
    "start_time": "2023-05-13T18:29:48.882Z"
   },
   {
    "duration": 24,
    "start_time": "2023-05-13T18:29:49.414Z"
   },
   {
    "duration": 163,
    "start_time": "2023-05-13T18:29:49.442Z"
   },
   {
    "duration": 285,
    "start_time": "2023-05-13T18:29:49.612Z"
   },
   {
    "duration": 10,
    "start_time": "2023-05-13T18:29:49.899Z"
   },
   {
    "duration": 50,
    "start_time": "2023-05-13T18:29:49.910Z"
   },
   {
    "duration": 769,
    "start_time": "2023-05-13T18:29:49.962Z"
   },
   {
    "duration": 75,
    "start_time": "2023-05-13T18:29:50.733Z"
   },
   {
    "duration": 104,
    "start_time": "2023-05-13T18:29:50.809Z"
   },
   {
    "duration": 17,
    "start_time": "2023-05-13T18:29:50.914Z"
   },
   {
    "duration": 9,
    "start_time": "2023-05-13T18:29:50.933Z"
   },
   {
    "duration": 60,
    "start_time": "2023-05-13T18:29:50.943Z"
   },
   {
    "duration": 42,
    "start_time": "2023-05-13T18:29:51.009Z"
   },
   {
    "duration": 24,
    "start_time": "2023-05-13T18:29:51.053Z"
   },
   {
    "duration": 93,
    "start_time": "2023-05-13T18:29:51.078Z"
   },
   {
    "duration": 13,
    "start_time": "2023-05-13T18:29:51.172Z"
   },
   {
    "duration": 50,
    "start_time": "2023-05-13T18:29:51.186Z"
   },
   {
    "duration": 27,
    "start_time": "2023-05-13T18:29:51.237Z"
   },
   {
    "duration": 24,
    "start_time": "2023-05-13T18:29:51.265Z"
   },
   {
    "duration": 19,
    "start_time": "2023-05-13T18:29:51.291Z"
   },
   {
    "duration": 31,
    "start_time": "2023-05-13T18:29:51.314Z"
   },
   {
    "duration": 496,
    "start_time": "2023-05-13T18:29:51.413Z"
   },
   {
    "duration": 120,
    "start_time": "2023-05-13T18:29:51.911Z"
   },
   {
    "duration": 413,
    "start_time": "2023-05-13T18:29:52.098Z"
   },
   {
    "duration": 4,
    "start_time": "2023-05-13T18:29:52.512Z"
   },
   {
    "duration": 119,
    "start_time": "2023-05-13T18:29:52.518Z"
   },
   {
    "duration": 69,
    "start_time": "2023-05-13T18:29:52.639Z"
   },
   {
    "duration": 406,
    "start_time": "2023-05-13T18:29:52.711Z"
   },
   {
    "duration": 82,
    "start_time": "2023-05-13T18:29:53.119Z"
   },
   {
    "duration": 24,
    "start_time": "2023-05-13T18:29:53.209Z"
   },
   {
    "duration": 7,
    "start_time": "2023-05-13T18:29:53.234Z"
   },
   {
    "duration": 11,
    "start_time": "2023-05-13T18:29:53.242Z"
   },
   {
    "duration": 15,
    "start_time": "2023-05-13T18:29:53.254Z"
   },
   {
    "duration": 24,
    "start_time": "2023-05-13T18:29:53.270Z"
   },
   {
    "duration": 35,
    "start_time": "2023-05-13T18:29:53.295Z"
   },
   {
    "duration": 20,
    "start_time": "2023-05-13T18:29:53.331Z"
   },
   {
    "duration": 10,
    "start_time": "2023-05-13T18:29:53.352Z"
   },
   {
    "duration": 27,
    "start_time": "2023-05-13T18:29:53.363Z"
   },
   {
    "duration": 52,
    "start_time": "2023-05-13T18:29:53.392Z"
   },
   {
    "duration": 546,
    "start_time": "2023-05-13T18:29:53.446Z"
   },
   {
    "duration": 534,
    "start_time": "2023-05-13T18:29:53.997Z"
   },
   {
    "duration": 554,
    "start_time": "2023-05-13T18:29:54.533Z"
   },
   {
    "duration": 14,
    "start_time": "2023-05-13T18:31:27.856Z"
   },
   {
    "duration": 13,
    "start_time": "2023-05-13T18:31:37.477Z"
   },
   {
    "duration": 6,
    "start_time": "2023-05-13T18:42:07.196Z"
   },
   {
    "duration": 8,
    "start_time": "2023-05-13T18:42:46.549Z"
   },
   {
    "duration": 9,
    "start_time": "2023-05-13T18:43:22.375Z"
   },
   {
    "duration": 9,
    "start_time": "2023-05-13T18:43:30.076Z"
   },
   {
    "duration": 4,
    "start_time": "2023-05-13T18:43:55.090Z"
   },
   {
    "duration": 5,
    "start_time": "2023-05-13T18:45:20.929Z"
   },
   {
    "duration": 11,
    "start_time": "2023-05-13T18:45:28.116Z"
   },
   {
    "duration": 55,
    "start_time": "2023-05-13T19:05:23.970Z"
   },
   {
    "duration": 1220,
    "start_time": "2023-05-13T19:05:36.093Z"
   },
   {
    "duration": 164,
    "start_time": "2023-05-13T19:05:37.315Z"
   },
   {
    "duration": 25,
    "start_time": "2023-05-13T19:05:37.481Z"
   },
   {
    "duration": 38,
    "start_time": "2023-05-13T19:05:37.509Z"
   },
   {
    "duration": 629,
    "start_time": "2023-05-13T19:05:37.550Z"
   },
   {
    "duration": 52,
    "start_time": "2023-05-13T19:05:38.181Z"
   },
   {
    "duration": 17,
    "start_time": "2023-05-13T19:05:38.235Z"
   },
   {
    "duration": 64,
    "start_time": "2023-05-13T19:05:38.254Z"
   },
   {
    "duration": 134,
    "start_time": "2023-05-13T19:05:38.320Z"
   },
   {
    "duration": 10,
    "start_time": "2023-05-13T19:05:38.455Z"
   },
   {
    "duration": 41,
    "start_time": "2023-05-13T19:05:38.467Z"
   },
   {
    "duration": 377,
    "start_time": "2023-05-13T19:05:38.513Z"
   },
   {
    "duration": 25,
    "start_time": "2023-05-13T19:05:38.892Z"
   },
   {
    "duration": 45,
    "start_time": "2023-05-13T19:05:38.920Z"
   },
   {
    "duration": 150,
    "start_time": "2023-05-13T19:05:38.966Z"
   },
   {
    "duration": 9,
    "start_time": "2023-05-13T19:05:39.118Z"
   },
   {
    "duration": 28,
    "start_time": "2023-05-13T19:05:39.129Z"
   },
   {
    "duration": 382,
    "start_time": "2023-05-13T19:05:39.158Z"
   },
   {
    "duration": 25,
    "start_time": "2023-05-13T19:05:39.542Z"
   },
   {
    "duration": 75,
    "start_time": "2023-05-13T19:05:39.569Z"
   },
   {
    "duration": 17,
    "start_time": "2023-05-13T19:05:39.646Z"
   },
   {
    "duration": 35,
    "start_time": "2023-05-13T19:05:39.665Z"
   },
   {
    "duration": 22,
    "start_time": "2023-05-13T19:05:39.703Z"
   },
   {
    "duration": 5,
    "start_time": "2023-05-13T19:05:39.727Z"
   },
   {
    "duration": 18,
    "start_time": "2023-05-13T19:05:39.733Z"
   },
   {
    "duration": 8,
    "start_time": "2023-05-13T19:05:39.753Z"
   },
   {
    "duration": 38,
    "start_time": "2023-05-13T19:05:39.763Z"
   },
   {
    "duration": 5,
    "start_time": "2023-05-13T19:05:39.809Z"
   },
   {
    "duration": 11,
    "start_time": "2023-05-13T19:05:39.817Z"
   },
   {
    "duration": 99,
    "start_time": "2023-05-13T19:05:39.830Z"
   },
   {
    "duration": 18,
    "start_time": "2023-05-13T19:05:39.931Z"
   },
   {
    "duration": 16,
    "start_time": "2023-05-13T19:05:39.950Z"
   },
   {
    "duration": 49,
    "start_time": "2023-05-13T19:05:39.968Z"
   },
   {
    "duration": 19,
    "start_time": "2023-05-13T19:05:40.019Z"
   },
   {
    "duration": 15,
    "start_time": "2023-05-13T19:05:40.040Z"
   },
   {
    "duration": 8,
    "start_time": "2023-05-13T19:05:40.057Z"
   },
   {
    "duration": 40,
    "start_time": "2023-05-13T19:05:40.067Z"
   },
   {
    "duration": 493,
    "start_time": "2023-05-13T19:05:40.110Z"
   },
   {
    "duration": 103,
    "start_time": "2023-05-13T19:05:40.607Z"
   },
   {
    "duration": 605,
    "start_time": "2023-05-13T19:05:40.713Z"
   },
   {
    "duration": 7,
    "start_time": "2023-05-13T19:05:41.407Z"
   },
   {
    "duration": 110,
    "start_time": "2023-05-13T19:05:41.416Z"
   },
   {
    "duration": 72,
    "start_time": "2023-05-13T19:05:41.528Z"
   },
   {
    "duration": 615,
    "start_time": "2023-05-13T19:05:41.603Z"
   },
   {
    "duration": 84,
    "start_time": "2023-05-13T19:05:42.220Z"
   },
   {
    "duration": 8,
    "start_time": "2023-05-13T19:05:42.309Z"
   },
   {
    "duration": 7,
    "start_time": "2023-05-13T19:05:42.318Z"
   },
   {
    "duration": 8,
    "start_time": "2023-05-13T19:05:42.327Z"
   },
   {
    "duration": 6,
    "start_time": "2023-05-13T19:05:42.337Z"
   },
   {
    "duration": 15,
    "start_time": "2023-05-13T19:05:42.344Z"
   },
   {
    "duration": 9,
    "start_time": "2023-05-13T19:05:42.361Z"
   },
   {
    "duration": 39,
    "start_time": "2023-05-13T19:05:42.372Z"
   },
   {
    "duration": 4,
    "start_time": "2023-05-13T19:05:42.414Z"
   },
   {
    "duration": 10,
    "start_time": "2023-05-13T19:05:42.420Z"
   },
   {
    "duration": 24,
    "start_time": "2023-05-13T19:05:42.432Z"
   },
   {
    "duration": 588,
    "start_time": "2023-05-13T19:05:42.458Z"
   },
   {
    "duration": 534,
    "start_time": "2023-05-13T19:05:43.048Z"
   },
   {
    "duration": 549,
    "start_time": "2023-05-13T19:05:43.584Z"
   },
   {
    "duration": 4,
    "start_time": "2023-05-13T19:28:29.219Z"
   },
   {
    "duration": 3,
    "start_time": "2023-05-13T20:52:21.638Z"
   },
   {
    "duration": 142,
    "start_time": "2023-05-13T20:52:31.549Z"
   },
   {
    "duration": 1305,
    "start_time": "2023-05-13T20:52:40.718Z"
   },
   {
    "duration": 4,
    "start_time": "2023-05-13T20:52:42.025Z"
   },
   {
    "duration": 184,
    "start_time": "2023-05-13T20:52:42.031Z"
   },
   {
    "duration": 18,
    "start_time": "2023-05-13T20:52:42.217Z"
   },
   {
    "duration": 24,
    "start_time": "2023-05-13T20:52:42.238Z"
   },
   {
    "duration": 757,
    "start_time": "2023-05-13T20:52:42.265Z"
   },
   {
    "duration": 42,
    "start_time": "2023-05-13T20:52:43.024Z"
   },
   {
    "duration": 39,
    "start_time": "2023-05-13T20:52:43.069Z"
   },
   {
    "duration": 53,
    "start_time": "2023-05-13T20:52:43.110Z"
   },
   {
    "duration": 157,
    "start_time": "2023-05-13T20:52:43.165Z"
   },
   {
    "duration": 11,
    "start_time": "2023-05-13T20:52:43.324Z"
   },
   {
    "duration": 31,
    "start_time": "2023-05-13T20:52:43.339Z"
   },
   {
    "duration": 418,
    "start_time": "2023-05-13T20:52:43.372Z"
   },
   {
    "duration": 25,
    "start_time": "2023-05-13T20:52:43.794Z"
   },
   {
    "duration": 53,
    "start_time": "2023-05-13T20:52:43.821Z"
   },
   {
    "duration": 143,
    "start_time": "2023-05-13T20:52:43.901Z"
   },
   {
    "duration": 11,
    "start_time": "2023-05-13T20:52:44.046Z"
   },
   {
    "duration": 19,
    "start_time": "2023-05-13T20:52:44.058Z"
   },
   {
    "duration": 412,
    "start_time": "2023-05-13T20:52:44.079Z"
   },
   {
    "duration": 33,
    "start_time": "2023-05-13T20:52:44.495Z"
   },
   {
    "duration": 67,
    "start_time": "2023-05-13T20:52:44.531Z"
   },
   {
    "duration": 19,
    "start_time": "2023-05-13T20:52:44.603Z"
   },
   {
    "duration": 16,
    "start_time": "2023-05-13T20:52:44.624Z"
   },
   {
    "duration": 22,
    "start_time": "2023-05-13T20:52:44.641Z"
   },
   {
    "duration": 44,
    "start_time": "2023-05-13T20:52:44.664Z"
   },
   {
    "duration": 14,
    "start_time": "2023-05-13T20:52:44.710Z"
   },
   {
    "duration": 13,
    "start_time": "2023-05-13T20:52:44.725Z"
   },
   {
    "duration": 13,
    "start_time": "2023-05-13T20:52:44.740Z"
   },
   {
    "duration": 70,
    "start_time": "2023-05-13T20:52:44.755Z"
   },
   {
    "duration": 23,
    "start_time": "2023-05-13T20:52:44.827Z"
   },
   {
    "duration": 112,
    "start_time": "2023-05-13T20:52:44.853Z"
   },
   {
    "duration": 49,
    "start_time": "2023-05-13T20:52:44.968Z"
   },
   {
    "duration": 48,
    "start_time": "2023-05-13T20:52:45.020Z"
   },
   {
    "duration": 39,
    "start_time": "2023-05-13T20:52:45.072Z"
   },
   {
    "duration": 29,
    "start_time": "2023-05-13T20:52:45.115Z"
   },
   {
    "duration": 15,
    "start_time": "2023-05-13T20:52:45.146Z"
   },
   {
    "duration": 12,
    "start_time": "2023-05-13T20:52:45.163Z"
   },
   {
    "duration": 39,
    "start_time": "2023-05-13T20:52:45.177Z"
   },
   {
    "duration": 596,
    "start_time": "2023-05-13T20:52:45.219Z"
   },
   {
    "duration": 89,
    "start_time": "2023-05-13T20:52:45.820Z"
   },
   {
    "duration": 495,
    "start_time": "2023-05-13T20:52:45.915Z"
   },
   {
    "duration": 11,
    "start_time": "2023-05-13T20:52:46.412Z"
   },
   {
    "duration": 26,
    "start_time": "2023-05-13T20:52:46.497Z"
   },
   {
    "duration": 124,
    "start_time": "2023-05-13T20:52:46.524Z"
   },
   {
    "duration": 517,
    "start_time": "2023-05-13T20:52:46.698Z"
   },
   {
    "duration": 85,
    "start_time": "2023-05-13T20:52:47.218Z"
   },
   {
    "duration": 102,
    "start_time": "2023-05-13T20:52:47.306Z"
   },
   {
    "duration": 23,
    "start_time": "2023-05-13T20:52:47.411Z"
   },
   {
    "duration": 12,
    "start_time": "2023-05-13T20:52:47.436Z"
   },
   {
    "duration": 186,
    "start_time": "2023-05-13T20:52:47.450Z"
   },
   {
    "duration": 0,
    "start_time": "2023-05-13T20:52:47.638Z"
   },
   {
    "duration": 0,
    "start_time": "2023-05-13T20:52:47.640Z"
   },
   {
    "duration": 0,
    "start_time": "2023-05-13T20:52:47.641Z"
   },
   {
    "duration": 0,
    "start_time": "2023-05-13T20:52:47.643Z"
   },
   {
    "duration": 0,
    "start_time": "2023-05-13T20:52:47.644Z"
   },
   {
    "duration": 1,
    "start_time": "2023-05-13T20:52:47.645Z"
   },
   {
    "duration": 0,
    "start_time": "2023-05-13T20:52:47.647Z"
   },
   {
    "duration": 0,
    "start_time": "2023-05-13T20:52:47.649Z"
   },
   {
    "duration": 4,
    "start_time": "2023-05-13T20:53:14.643Z"
   },
   {
    "duration": 20,
    "start_time": "2023-05-13T20:53:16.857Z"
   },
   {
    "duration": 4,
    "start_time": "2023-05-13T20:53:32.981Z"
   },
   {
    "duration": 9,
    "start_time": "2023-05-13T20:53:34.756Z"
   },
   {
    "duration": 10,
    "start_time": "2023-05-13T20:53:51.515Z"
   },
   {
    "duration": 9,
    "start_time": "2023-05-13T20:53:53.371Z"
   },
   {
    "duration": 4,
    "start_time": "2023-05-13T20:54:13.713Z"
   },
   {
    "duration": 17,
    "start_time": "2023-05-13T20:54:15.529Z"
   },
   {
    "duration": 4,
    "start_time": "2023-05-13T20:55:25.521Z"
   },
   {
    "duration": 10,
    "start_time": "2023-05-13T20:55:28.363Z"
   },
   {
    "duration": 11,
    "start_time": "2023-05-13T20:55:30.774Z"
   },
   {
    "duration": 9,
    "start_time": "2023-05-13T20:55:31.317Z"
   },
   {
    "duration": 4,
    "start_time": "2023-05-13T20:55:45.647Z"
   },
   {
    "duration": 10,
    "start_time": "2023-05-13T20:55:48.617Z"
   },
   {
    "duration": 10,
    "start_time": "2023-05-13T20:55:49.132Z"
   },
   {
    "duration": 13,
    "start_time": "2023-05-13T20:55:49.696Z"
   },
   {
    "duration": 4,
    "start_time": "2023-05-13T20:56:30.762Z"
   },
   {
    "duration": 3,
    "start_time": "2023-05-13T20:59:11.368Z"
   },
   {
    "duration": 5,
    "start_time": "2023-05-13T21:29:14.266Z"
   },
   {
    "duration": 1523,
    "start_time": "2023-05-13T21:29:25.825Z"
   },
   {
    "duration": 6,
    "start_time": "2023-05-13T21:34:00.313Z"
   },
   {
    "duration": 7,
    "start_time": "2023-05-13T21:34:01.544Z"
   },
   {
    "duration": 1751,
    "start_time": "2023-05-13T21:34:02.937Z"
   },
   {
    "duration": 3,
    "start_time": "2023-05-13T21:34:56.466Z"
   },
   {
    "duration": 4,
    "start_time": "2023-05-13T21:34:58.257Z"
   },
   {
    "duration": 1508,
    "start_time": "2023-05-13T21:34:59.439Z"
   },
   {
    "duration": 5,
    "start_time": "2023-05-13T21:35:33.859Z"
   },
   {
    "duration": 6,
    "start_time": "2023-05-13T21:35:34.949Z"
   },
   {
    "duration": 1898,
    "start_time": "2023-05-13T21:35:36.214Z"
   },
   {
    "duration": 1823,
    "start_time": "2023-05-13T21:35:39.961Z"
   },
   {
    "duration": 5,
    "start_time": "2023-05-13T21:35:46.257Z"
   },
   {
    "duration": 5,
    "start_time": "2023-05-13T21:35:47.610Z"
   },
   {
    "duration": 1789,
    "start_time": "2023-05-13T21:35:48.680Z"
   },
   {
    "duration": 1864,
    "start_time": "2023-05-13T21:36:15.280Z"
   },
   {
    "duration": 8,
    "start_time": "2023-05-13T21:58:17.405Z"
   },
   {
    "duration": 6,
    "start_time": "2023-05-13T21:58:18.856Z"
   },
   {
    "duration": 13,
    "start_time": "2023-05-13T21:58:19.875Z"
   },
   {
    "duration": 8,
    "start_time": "2023-05-13T21:59:58.218Z"
   },
   {
    "duration": 6,
    "start_time": "2023-05-13T22:00:04.008Z"
   },
   {
    "duration": 17,
    "start_time": "2023-05-13T22:00:07.987Z"
   },
   {
    "duration": 4,
    "start_time": "2023-05-13T22:04:51.262Z"
   },
   {
    "duration": 5,
    "start_time": "2023-05-13T22:04:52.516Z"
   },
   {
    "duration": 16,
    "start_time": "2023-05-13T22:05:02.419Z"
   },
   {
    "duration": 15,
    "start_time": "2023-05-13T22:10:30.798Z"
   },
   {
    "duration": 15,
    "start_time": "2023-05-13T22:10:37.423Z"
   },
   {
    "duration": 6,
    "start_time": "2023-05-13T22:10:49.978Z"
   },
   {
    "duration": 19,
    "start_time": "2023-05-13T22:10:52.954Z"
   },
   {
    "duration": 7,
    "start_time": "2023-05-13T22:11:28.906Z"
   },
   {
    "duration": 16,
    "start_time": "2023-05-13T22:11:31.620Z"
   },
   {
    "duration": 10,
    "start_time": "2023-05-13T22:13:14.901Z"
   },
   {
    "duration": 6,
    "start_time": "2023-05-13T22:13:16.760Z"
   },
   {
    "duration": 444,
    "start_time": "2023-05-13T22:13:17.766Z"
   },
   {
    "duration": 6,
    "start_time": "2023-05-13T22:14:03.961Z"
   },
   {
    "duration": 6,
    "start_time": "2023-05-13T22:14:04.818Z"
   },
   {
    "duration": 1277,
    "start_time": "2023-05-13T22:14:05.898Z"
   },
   {
    "duration": 1247,
    "start_time": "2023-05-13T22:14:12.614Z"
   },
   {
    "duration": 1249,
    "start_time": "2023-05-13T22:14:13.864Z"
   },
   {
    "duration": 5,
    "start_time": "2023-05-13T22:15:32.964Z"
   },
   {
    "duration": 5,
    "start_time": "2023-05-13T22:15:33.779Z"
   },
   {
    "duration": 1243,
    "start_time": "2023-05-13T22:15:34.672Z"
   },
   {
    "duration": 1253,
    "start_time": "2023-05-13T22:15:43.969Z"
   },
   {
    "duration": 1252,
    "start_time": "2023-05-13T22:15:45.883Z"
   },
   {
    "duration": 5,
    "start_time": "2023-05-13T22:18:10.950Z"
   },
   {
    "duration": 5,
    "start_time": "2023-05-13T22:18:12.260Z"
   },
   {
    "duration": 1220,
    "start_time": "2023-05-13T22:18:13.553Z"
   },
   {
    "duration": 1208,
    "start_time": "2023-05-13T22:18:17.795Z"
   },
   {
    "duration": 1185,
    "start_time": "2023-05-13T22:18:20.014Z"
   },
   {
    "duration": 5,
    "start_time": "2023-05-13T22:19:35.085Z"
   },
   {
    "duration": 5,
    "start_time": "2023-05-13T22:20:03.665Z"
   },
   {
    "duration": 1244,
    "start_time": "2023-05-13T22:20:07.543Z"
   },
   {
    "duration": 1274,
    "start_time": "2023-05-13T22:20:09.192Z"
   },
   {
    "duration": 1253,
    "start_time": "2023-05-13T22:20:10.954Z"
   },
   {
    "duration": 1125,
    "start_time": "2023-05-13T22:20:50.919Z"
   },
   {
    "duration": 4,
    "start_time": "2023-05-13T22:20:52.046Z"
   },
   {
    "duration": 183,
    "start_time": "2023-05-13T22:20:52.052Z"
   },
   {
    "duration": 17,
    "start_time": "2023-05-13T22:20:52.237Z"
   },
   {
    "duration": 19,
    "start_time": "2023-05-13T22:20:52.256Z"
   },
   {
    "duration": 656,
    "start_time": "2023-05-13T22:20:52.276Z"
   },
   {
    "duration": 40,
    "start_time": "2023-05-13T22:20:52.934Z"
   },
   {
    "duration": 33,
    "start_time": "2023-05-13T22:20:52.976Z"
   },
   {
    "duration": 59,
    "start_time": "2023-05-13T22:20:53.013Z"
   },
   {
    "duration": 142,
    "start_time": "2023-05-13T22:20:53.073Z"
   },
   {
    "duration": 10,
    "start_time": "2023-05-13T22:20:53.217Z"
   },
   {
    "duration": 20,
    "start_time": "2023-05-13T22:20:53.229Z"
   },
   {
    "duration": 402,
    "start_time": "2023-05-13T22:20:53.250Z"
   },
   {
    "duration": 19,
    "start_time": "2023-05-13T22:20:53.656Z"
   },
   {
    "duration": 68,
    "start_time": "2023-05-13T22:20:53.677Z"
   },
   {
    "duration": 152,
    "start_time": "2023-05-13T22:20:53.747Z"
   },
   {
    "duration": 10,
    "start_time": "2023-05-13T22:20:53.908Z"
   },
   {
    "duration": 26,
    "start_time": "2023-05-13T22:20:53.920Z"
   },
   {
    "duration": 369,
    "start_time": "2023-05-13T22:20:53.949Z"
   },
   {
    "duration": 17,
    "start_time": "2023-05-13T22:20:54.320Z"
   },
   {
    "duration": 64,
    "start_time": "2023-05-13T22:20:54.338Z"
   },
   {
    "duration": 16,
    "start_time": "2023-05-13T22:20:54.405Z"
   },
   {
    "duration": 14,
    "start_time": "2023-05-13T22:20:54.423Z"
   },
   {
    "duration": 14,
    "start_time": "2023-05-13T22:20:54.439Z"
   },
   {
    "duration": 4,
    "start_time": "2023-05-13T22:20:54.455Z"
   },
   {
    "duration": 45,
    "start_time": "2023-05-13T22:20:54.461Z"
   },
   {
    "duration": 10,
    "start_time": "2023-05-13T22:20:54.508Z"
   },
   {
    "duration": 12,
    "start_time": "2023-05-13T22:20:54.519Z"
   },
   {
    "duration": 10,
    "start_time": "2023-05-13T22:20:54.533Z"
   },
   {
    "duration": 14,
    "start_time": "2023-05-13T22:20:54.545Z"
   },
   {
    "duration": 106,
    "start_time": "2023-05-13T22:20:54.561Z"
   },
   {
    "duration": 18,
    "start_time": "2023-05-13T22:20:54.669Z"
   },
   {
    "duration": 15,
    "start_time": "2023-05-13T22:20:54.707Z"
   },
   {
    "duration": 18,
    "start_time": "2023-05-13T22:20:54.724Z"
   },
   {
    "duration": 15,
    "start_time": "2023-05-13T22:20:54.744Z"
   },
   {
    "duration": 43,
    "start_time": "2023-05-13T22:20:54.761Z"
   },
   {
    "duration": 10,
    "start_time": "2023-05-13T22:20:54.807Z"
   },
   {
    "duration": 84,
    "start_time": "2023-05-13T22:20:54.819Z"
   },
   {
    "duration": 495,
    "start_time": "2023-05-13T22:20:54.908Z"
   },
   {
    "duration": 98,
    "start_time": "2023-05-13T22:20:55.407Z"
   },
   {
    "duration": 602,
    "start_time": "2023-05-13T22:20:55.516Z"
   },
   {
    "duration": 86,
    "start_time": "2023-05-13T22:20:56.120Z"
   },
   {
    "duration": 106,
    "start_time": "2023-05-13T22:20:56.211Z"
   },
   {
    "duration": 16,
    "start_time": "2023-05-13T22:20:56.319Z"
   },
   {
    "duration": 673,
    "start_time": "2023-05-13T22:20:56.338Z"
   },
   {
    "duration": 85,
    "start_time": "2023-05-13T22:20:57.014Z"
   },
   {
    "duration": 111,
    "start_time": "2023-05-13T22:20:57.103Z"
   },
   {
    "duration": 15,
    "start_time": "2023-05-13T22:20:57.216Z"
   },
   {
    "duration": 10,
    "start_time": "2023-05-13T22:20:57.232Z"
   },
   {
    "duration": 15,
    "start_time": "2023-05-13T22:20:57.244Z"
   },
   {
    "duration": 10,
    "start_time": "2023-05-13T22:20:57.260Z"
   },
   {
    "duration": 10,
    "start_time": "2023-05-13T22:20:57.271Z"
   },
   {
    "duration": 20,
    "start_time": "2023-05-13T22:20:57.283Z"
   },
   {
    "duration": 17,
    "start_time": "2023-05-13T22:20:57.304Z"
   },
   {
    "duration": 1236,
    "start_time": "2023-05-13T22:20:57.323Z"
   },
   {
    "duration": 1196,
    "start_time": "2023-05-13T22:20:58.561Z"
   },
   {
    "duration": 1223,
    "start_time": "2023-05-13T22:20:59.759Z"
   },
   {
    "duration": 1067,
    "start_time": "2023-05-13T22:57:34.454Z"
   },
   {
    "duration": 3,
    "start_time": "2023-05-13T22:57:35.523Z"
   },
   {
    "duration": 150,
    "start_time": "2023-05-13T22:57:35.527Z"
   },
   {
    "duration": 16,
    "start_time": "2023-05-13T22:57:35.678Z"
   },
   {
    "duration": 14,
    "start_time": "2023-05-13T22:57:35.697Z"
   },
   {
    "duration": 614,
    "start_time": "2023-05-13T22:57:35.713Z"
   },
   {
    "duration": 39,
    "start_time": "2023-05-13T22:57:36.329Z"
   },
   {
    "duration": 35,
    "start_time": "2023-05-13T22:57:36.370Z"
   },
   {
    "duration": 51,
    "start_time": "2023-05-13T22:57:36.407Z"
   },
   {
    "duration": 125,
    "start_time": "2023-05-13T22:57:36.459Z"
   },
   {
    "duration": 9,
    "start_time": "2023-05-13T22:57:36.586Z"
   },
   {
    "duration": 25,
    "start_time": "2023-05-13T22:57:36.597Z"
   },
   {
    "duration": 364,
    "start_time": "2023-05-13T22:57:36.623Z"
   },
   {
    "duration": 16,
    "start_time": "2023-05-13T22:57:36.990Z"
   },
   {
    "duration": 51,
    "start_time": "2023-05-13T22:57:37.007Z"
   },
   {
    "duration": 144,
    "start_time": "2023-05-13T22:57:37.060Z"
   },
   {
    "duration": 9,
    "start_time": "2023-05-13T22:57:37.205Z"
   },
   {
    "duration": 27,
    "start_time": "2023-05-13T22:57:37.215Z"
   },
   {
    "duration": 338,
    "start_time": "2023-05-13T22:57:37.244Z"
   },
   {
    "duration": 21,
    "start_time": "2023-05-13T22:57:37.584Z"
   },
   {
    "duration": 40,
    "start_time": "2023-05-13T22:57:37.606Z"
   },
   {
    "duration": 14,
    "start_time": "2023-05-13T22:57:37.648Z"
   },
   {
    "duration": 40,
    "start_time": "2023-05-13T22:57:37.663Z"
   },
   {
    "duration": 13,
    "start_time": "2023-05-13T22:57:37.704Z"
   },
   {
    "duration": 11,
    "start_time": "2023-05-13T22:57:37.718Z"
   },
   {
    "duration": 22,
    "start_time": "2023-05-13T22:57:37.731Z"
   },
   {
    "duration": 12,
    "start_time": "2023-05-13T22:57:37.755Z"
   },
   {
    "duration": 8,
    "start_time": "2023-05-13T22:57:37.769Z"
   },
   {
    "duration": 7,
    "start_time": "2023-05-13T22:57:37.779Z"
   },
   {
    "duration": 12,
    "start_time": "2023-05-13T22:57:37.787Z"
   },
   {
    "duration": 103,
    "start_time": "2023-05-13T22:57:37.801Z"
   },
   {
    "duration": 16,
    "start_time": "2023-05-13T22:57:37.905Z"
   },
   {
    "duration": 15,
    "start_time": "2023-05-13T22:57:37.922Z"
   },
   {
    "duration": 17,
    "start_time": "2023-05-13T22:57:37.939Z"
   },
   {
    "duration": 49,
    "start_time": "2023-05-13T22:57:37.958Z"
   },
   {
    "duration": 15,
    "start_time": "2023-05-13T22:57:38.009Z"
   },
   {
    "duration": 7,
    "start_time": "2023-05-13T22:57:38.026Z"
   },
   {
    "duration": 66,
    "start_time": "2023-05-13T22:57:38.035Z"
   },
   {
    "duration": 604,
    "start_time": "2023-05-13T22:57:38.103Z"
   },
   {
    "duration": 197,
    "start_time": "2023-05-13T22:57:38.709Z"
   },
   {
    "duration": 701,
    "start_time": "2023-05-13T22:57:38.913Z"
   },
   {
    "duration": 84,
    "start_time": "2023-05-13T22:57:39.616Z"
   },
   {
    "duration": 123,
    "start_time": "2023-05-13T22:57:39.702Z"
   },
   {
    "duration": 38,
    "start_time": "2023-05-13T22:57:39.827Z"
   },
   {
    "duration": 736,
    "start_time": "2023-05-13T22:57:39.867Z"
   },
   {
    "duration": 94,
    "start_time": "2023-05-13T22:57:40.605Z"
   },
   {
    "duration": 99,
    "start_time": "2023-05-13T22:57:40.701Z"
   },
   {
    "duration": 32,
    "start_time": "2023-05-13T22:57:40.802Z"
   },
   {
    "duration": 23,
    "start_time": "2023-05-13T22:57:40.836Z"
   },
   {
    "duration": 29,
    "start_time": "2023-05-13T22:57:40.861Z"
   },
   {
    "duration": 9,
    "start_time": "2023-05-13T22:57:40.892Z"
   },
   {
    "duration": 9,
    "start_time": "2023-05-13T22:57:40.902Z"
   },
   {
    "duration": 6,
    "start_time": "2023-05-13T22:57:40.912Z"
   },
   {
    "duration": 11,
    "start_time": "2023-05-13T22:57:40.920Z"
   },
   {
    "duration": 1121,
    "start_time": "2023-05-13T22:57:40.932Z"
   },
   {
    "duration": 1095,
    "start_time": "2023-05-13T22:57:42.055Z"
   },
   {
    "duration": 1048,
    "start_time": "2023-05-13T22:57:43.153Z"
   },
   {
    "duration": 1193,
    "start_time": "2023-05-13T22:58:20.123Z"
   },
   {
    "duration": 3,
    "start_time": "2023-05-13T22:58:21.319Z"
   },
   {
    "duration": 166,
    "start_time": "2023-05-13T22:58:21.323Z"
   },
   {
    "duration": 19,
    "start_time": "2023-05-13T22:58:21.491Z"
   },
   {
    "duration": 18,
    "start_time": "2023-05-13T22:58:21.512Z"
   },
   {
    "duration": 651,
    "start_time": "2023-05-13T22:58:21.532Z"
   },
   {
    "duration": 46,
    "start_time": "2023-05-13T22:58:22.185Z"
   },
   {
    "duration": 17,
    "start_time": "2023-05-13T22:58:22.233Z"
   },
   {
    "duration": 65,
    "start_time": "2023-05-13T22:58:22.252Z"
   },
   {
    "duration": 132,
    "start_time": "2023-05-13T22:58:22.319Z"
   },
   {
    "duration": 10,
    "start_time": "2023-05-13T22:58:22.453Z"
   },
   {
    "duration": 29,
    "start_time": "2023-05-13T22:58:22.464Z"
   },
   {
    "duration": 360,
    "start_time": "2023-05-13T22:58:22.496Z"
   },
   {
    "duration": 17,
    "start_time": "2023-05-13T22:58:22.860Z"
   },
   {
    "duration": 52,
    "start_time": "2023-05-13T22:58:22.879Z"
   },
   {
    "duration": 137,
    "start_time": "2023-05-13T22:58:22.933Z"
   },
   {
    "duration": 10,
    "start_time": "2023-05-13T22:58:23.071Z"
   },
   {
    "duration": 29,
    "start_time": "2023-05-13T22:58:23.082Z"
   },
   {
    "duration": 363,
    "start_time": "2023-05-13T22:58:23.112Z"
   },
   {
    "duration": 27,
    "start_time": "2023-05-13T22:58:23.477Z"
   },
   {
    "duration": 58,
    "start_time": "2023-05-13T22:58:23.506Z"
   },
   {
    "duration": 14,
    "start_time": "2023-05-13T22:58:23.565Z"
   },
   {
    "duration": 32,
    "start_time": "2023-05-13T22:58:23.581Z"
   },
   {
    "duration": 18,
    "start_time": "2023-05-13T22:58:23.614Z"
   },
   {
    "duration": 26,
    "start_time": "2023-05-13T22:58:23.633Z"
   },
   {
    "duration": 28,
    "start_time": "2023-05-13T22:58:23.661Z"
   },
   {
    "duration": 20,
    "start_time": "2023-05-13T22:58:23.691Z"
   },
   {
    "duration": 25,
    "start_time": "2023-05-13T22:58:23.712Z"
   },
   {
    "duration": 33,
    "start_time": "2023-05-13T22:58:23.738Z"
   },
   {
    "duration": 33,
    "start_time": "2023-05-13T22:58:23.774Z"
   },
   {
    "duration": 93,
    "start_time": "2023-05-13T22:58:23.809Z"
   },
   {
    "duration": 15,
    "start_time": "2023-05-13T22:58:23.904Z"
   },
   {
    "duration": 16,
    "start_time": "2023-05-13T22:58:23.920Z"
   },
   {
    "duration": 16,
    "start_time": "2023-05-13T22:58:23.937Z"
   },
   {
    "duration": 13,
    "start_time": "2023-05-13T22:58:23.955Z"
   },
   {
    "duration": 38,
    "start_time": "2023-05-13T22:58:23.969Z"
   },
   {
    "duration": 9,
    "start_time": "2023-05-13T22:58:24.008Z"
   },
   {
    "duration": 81,
    "start_time": "2023-05-13T22:58:24.018Z"
   },
   {
    "duration": 610,
    "start_time": "2023-05-13T22:58:24.102Z"
   },
   {
    "duration": 100,
    "start_time": "2023-05-13T22:58:24.714Z"
   },
   {
    "duration": 608,
    "start_time": "2023-05-13T22:58:24.902Z"
   },
   {
    "duration": 86,
    "start_time": "2023-05-13T22:58:25.513Z"
   },
   {
    "duration": 93,
    "start_time": "2023-05-13T22:58:25.606Z"
   },
   {
    "duration": 24,
    "start_time": "2023-05-13T22:58:25.700Z"
   },
   {
    "duration": 606,
    "start_time": "2023-05-13T22:58:25.804Z"
   },
   {
    "duration": 92,
    "start_time": "2023-05-13T22:58:26.413Z"
   },
   {
    "duration": 97,
    "start_time": "2023-05-13T22:58:26.508Z"
   },
   {
    "duration": 8,
    "start_time": "2023-05-13T22:58:26.607Z"
   },
   {
    "duration": 9,
    "start_time": "2023-05-13T22:58:26.617Z"
   },
   {
    "duration": 41,
    "start_time": "2023-05-13T22:58:26.628Z"
   },
   {
    "duration": 9,
    "start_time": "2023-05-13T22:58:26.671Z"
   },
   {
    "duration": 15,
    "start_time": "2023-05-13T22:58:26.683Z"
   },
   {
    "duration": 7,
    "start_time": "2023-05-13T22:58:26.700Z"
   },
   {
    "duration": 18,
    "start_time": "2023-05-13T22:58:26.709Z"
   },
   {
    "duration": 1145,
    "start_time": "2023-05-13T22:58:26.729Z"
   },
   {
    "duration": 1093,
    "start_time": "2023-05-13T22:58:27.876Z"
   },
   {
    "duration": 1071,
    "start_time": "2023-05-13T22:58:28.971Z"
   }
  ],
  "kernelspec": {
   "display_name": "Python 3 (ipykernel)",
   "language": "python",
   "name": "python3"
  },
  "language_info": {
   "codemirror_mode": {
    "name": "ipython",
    "version": 3
   },
   "file_extension": ".py",
   "mimetype": "text/x-python",
   "name": "python",
   "nbconvert_exporter": "python",
   "pygments_lexer": "ipython3",
   "version": "3.10.6"
  },
  "toc": {
   "base_numbering": 1,
   "nav_menu": {},
   "number_sections": true,
   "sideBar": true,
   "skip_h1_title": true,
   "title_cell": "Table of Contents",
   "title_sidebar": "Contents",
   "toc_cell": false,
   "toc_position": {
    "height": "calc(100% - 180px)",
    "left": "10px",
    "top": "150px",
    "width": "284.638px"
   },
   "toc_section_display": true,
   "toc_window_display": true
  }
 },
 "nbformat": 4,
 "nbformat_minor": 2
}
