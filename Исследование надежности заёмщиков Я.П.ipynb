{
 "cells": [
  {
   "cell_type": "markdown",
   "id": "9d61ff5f",
   "metadata": {
    "deletable": false,
    "editable": false,
    "id": "c81daeeb"
   },
   "source": [
    "# Исследование надежности заемщиков\n"
   ]
  },
  {
   "cell_type": "markdown",
   "id": "72fff2bb",
   "metadata": {
    "deletable": false,
    "editable": false,
    "id": "827c20bf"
   },
   "source": [
    "Во второй части проекта вы выполните шаги 3 и 4. Их вручную проверит ревьюер.\n",
    "Чтобы вам не пришлось писать код заново для шагов 1 и 2, мы добавили авторские решения в ячейки с кодом. \n",
    "\n"
   ]
  },
  {
   "cell_type": "markdown",
   "id": "4803f4d0",
   "metadata": {
    "deletable": false,
    "editable": false,
    "id": "744d7639"
   },
   "source": [
    "## Откройте таблицу и изучите общую информацию о данных"
   ]
  },
  {
   "cell_type": "markdown",
   "id": "7d8dc30b",
   "metadata": {
    "deletable": false,
    "editable": false,
    "id": "e7a14c31"
   },
   "source": [
    "**Задание 1. Импортируйте библиотеку pandas. Считайте данные из csv-файла в датафрейм и сохраните в переменную `data`. Путь к файлу:**\n",
    "\n",
    "`/datasets/data.csv`"
   ]
  },
  {
   "cell_type": "code",
   "execution_count": 1,
   "id": "1f49e2a2",
   "metadata": {
    "deletable": false,
    "id": "7bcf75c9"
   },
   "outputs": [],
   "source": [
    "import pandas as pd\n",
    "\n",
    "try:\n",
    "    data = pd.read_csv('/datasets/data.csv')\n",
    "except:\n",
    "    data = pd.read_csv('https://code.s3.yandex.net/datasets/data.csv')"
   ]
  },
  {
   "cell_type": "markdown",
   "id": "c94f7c15",
   "metadata": {
    "deletable": false,
    "editable": false,
    "id": "b8038fe3"
   },
   "source": [
    "**Задание 2. Выведите первые 20 строчек датафрейма `data` на экран.**"
   ]
  },
  {
   "cell_type": "code",
   "execution_count": 2,
   "id": "56cab7d4",
   "metadata": {
    "deletable": false,
    "id": "2a7cab99",
    "outputId": "1a8f3ef2-d323-4ec2-ddf7-89670b5944c4"
   },
   "outputs": [
    {
     "data": {
      "text/html": [
       "<div>\n",
       "<style scoped>\n",
       "    .dataframe tbody tr th:only-of-type {\n",
       "        vertical-align: middle;\n",
       "    }\n",
       "\n",
       "    .dataframe tbody tr th {\n",
       "        vertical-align: top;\n",
       "    }\n",
       "\n",
       "    .dataframe thead th {\n",
       "        text-align: right;\n",
       "    }\n",
       "</style>\n",
       "<table border=\"1\" class=\"dataframe\">\n",
       "  <thead>\n",
       "    <tr style=\"text-align: right;\">\n",
       "      <th></th>\n",
       "      <th>children</th>\n",
       "      <th>days_employed</th>\n",
       "      <th>dob_years</th>\n",
       "      <th>education</th>\n",
       "      <th>education_id</th>\n",
       "      <th>family_status</th>\n",
       "      <th>family_status_id</th>\n",
       "      <th>gender</th>\n",
       "      <th>income_type</th>\n",
       "      <th>debt</th>\n",
       "      <th>total_income</th>\n",
       "      <th>purpose</th>\n",
       "    </tr>\n",
       "  </thead>\n",
       "  <tbody>\n",
       "    <tr>\n",
       "      <th>0</th>\n",
       "      <td>1</td>\n",
       "      <td>-8437.673028</td>\n",
       "      <td>42</td>\n",
       "      <td>высшее</td>\n",
       "      <td>0</td>\n",
       "      <td>женат / замужем</td>\n",
       "      <td>0</td>\n",
       "      <td>F</td>\n",
       "      <td>сотрудник</td>\n",
       "      <td>0</td>\n",
       "      <td>253875.639453</td>\n",
       "      <td>покупка жилья</td>\n",
       "    </tr>\n",
       "    <tr>\n",
       "      <th>1</th>\n",
       "      <td>1</td>\n",
       "      <td>-4024.803754</td>\n",
       "      <td>36</td>\n",
       "      <td>среднее</td>\n",
       "      <td>1</td>\n",
       "      <td>женат / замужем</td>\n",
       "      <td>0</td>\n",
       "      <td>F</td>\n",
       "      <td>сотрудник</td>\n",
       "      <td>0</td>\n",
       "      <td>112080.014102</td>\n",
       "      <td>приобретение автомобиля</td>\n",
       "    </tr>\n",
       "    <tr>\n",
       "      <th>2</th>\n",
       "      <td>0</td>\n",
       "      <td>-5623.422610</td>\n",
       "      <td>33</td>\n",
       "      <td>Среднее</td>\n",
       "      <td>1</td>\n",
       "      <td>женат / замужем</td>\n",
       "      <td>0</td>\n",
       "      <td>M</td>\n",
       "      <td>сотрудник</td>\n",
       "      <td>0</td>\n",
       "      <td>145885.952297</td>\n",
       "      <td>покупка жилья</td>\n",
       "    </tr>\n",
       "    <tr>\n",
       "      <th>3</th>\n",
       "      <td>3</td>\n",
       "      <td>-4124.747207</td>\n",
       "      <td>32</td>\n",
       "      <td>среднее</td>\n",
       "      <td>1</td>\n",
       "      <td>женат / замужем</td>\n",
       "      <td>0</td>\n",
       "      <td>M</td>\n",
       "      <td>сотрудник</td>\n",
       "      <td>0</td>\n",
       "      <td>267628.550329</td>\n",
       "      <td>дополнительное образование</td>\n",
       "    </tr>\n",
       "    <tr>\n",
       "      <th>4</th>\n",
       "      <td>0</td>\n",
       "      <td>340266.072047</td>\n",
       "      <td>53</td>\n",
       "      <td>среднее</td>\n",
       "      <td>1</td>\n",
       "      <td>гражданский брак</td>\n",
       "      <td>1</td>\n",
       "      <td>F</td>\n",
       "      <td>пенсионер</td>\n",
       "      <td>0</td>\n",
       "      <td>158616.077870</td>\n",
       "      <td>сыграть свадьбу</td>\n",
       "    </tr>\n",
       "    <tr>\n",
       "      <th>5</th>\n",
       "      <td>0</td>\n",
       "      <td>-926.185831</td>\n",
       "      <td>27</td>\n",
       "      <td>высшее</td>\n",
       "      <td>0</td>\n",
       "      <td>гражданский брак</td>\n",
       "      <td>1</td>\n",
       "      <td>M</td>\n",
       "      <td>компаньон</td>\n",
       "      <td>0</td>\n",
       "      <td>255763.565419</td>\n",
       "      <td>покупка жилья</td>\n",
       "    </tr>\n",
       "    <tr>\n",
       "      <th>6</th>\n",
       "      <td>0</td>\n",
       "      <td>-2879.202052</td>\n",
       "      <td>43</td>\n",
       "      <td>высшее</td>\n",
       "      <td>0</td>\n",
       "      <td>женат / замужем</td>\n",
       "      <td>0</td>\n",
       "      <td>F</td>\n",
       "      <td>компаньон</td>\n",
       "      <td>0</td>\n",
       "      <td>240525.971920</td>\n",
       "      <td>операции с жильем</td>\n",
       "    </tr>\n",
       "    <tr>\n",
       "      <th>7</th>\n",
       "      <td>0</td>\n",
       "      <td>-152.779569</td>\n",
       "      <td>50</td>\n",
       "      <td>СРЕДНЕЕ</td>\n",
       "      <td>1</td>\n",
       "      <td>женат / замужем</td>\n",
       "      <td>0</td>\n",
       "      <td>M</td>\n",
       "      <td>сотрудник</td>\n",
       "      <td>0</td>\n",
       "      <td>135823.934197</td>\n",
       "      <td>образование</td>\n",
       "    </tr>\n",
       "    <tr>\n",
       "      <th>8</th>\n",
       "      <td>2</td>\n",
       "      <td>-6929.865299</td>\n",
       "      <td>35</td>\n",
       "      <td>ВЫСШЕЕ</td>\n",
       "      <td>0</td>\n",
       "      <td>гражданский брак</td>\n",
       "      <td>1</td>\n",
       "      <td>F</td>\n",
       "      <td>сотрудник</td>\n",
       "      <td>0</td>\n",
       "      <td>95856.832424</td>\n",
       "      <td>на проведение свадьбы</td>\n",
       "    </tr>\n",
       "    <tr>\n",
       "      <th>9</th>\n",
       "      <td>0</td>\n",
       "      <td>-2188.756445</td>\n",
       "      <td>41</td>\n",
       "      <td>среднее</td>\n",
       "      <td>1</td>\n",
       "      <td>женат / замужем</td>\n",
       "      <td>0</td>\n",
       "      <td>M</td>\n",
       "      <td>сотрудник</td>\n",
       "      <td>0</td>\n",
       "      <td>144425.938277</td>\n",
       "      <td>покупка жилья для семьи</td>\n",
       "    </tr>\n",
       "    <tr>\n",
       "      <th>10</th>\n",
       "      <td>2</td>\n",
       "      <td>-4171.483647</td>\n",
       "      <td>36</td>\n",
       "      <td>высшее</td>\n",
       "      <td>0</td>\n",
       "      <td>женат / замужем</td>\n",
       "      <td>0</td>\n",
       "      <td>M</td>\n",
       "      <td>компаньон</td>\n",
       "      <td>0</td>\n",
       "      <td>113943.491460</td>\n",
       "      <td>покупка недвижимости</td>\n",
       "    </tr>\n",
       "    <tr>\n",
       "      <th>11</th>\n",
       "      <td>0</td>\n",
       "      <td>-792.701887</td>\n",
       "      <td>40</td>\n",
       "      <td>среднее</td>\n",
       "      <td>1</td>\n",
       "      <td>женат / замужем</td>\n",
       "      <td>0</td>\n",
       "      <td>F</td>\n",
       "      <td>сотрудник</td>\n",
       "      <td>0</td>\n",
       "      <td>77069.234271</td>\n",
       "      <td>покупка коммерческой недвижимости</td>\n",
       "    </tr>\n",
       "    <tr>\n",
       "      <th>12</th>\n",
       "      <td>0</td>\n",
       "      <td>NaN</td>\n",
       "      <td>65</td>\n",
       "      <td>среднее</td>\n",
       "      <td>1</td>\n",
       "      <td>гражданский брак</td>\n",
       "      <td>1</td>\n",
       "      <td>M</td>\n",
       "      <td>пенсионер</td>\n",
       "      <td>0</td>\n",
       "      <td>NaN</td>\n",
       "      <td>сыграть свадьбу</td>\n",
       "    </tr>\n",
       "    <tr>\n",
       "      <th>13</th>\n",
       "      <td>0</td>\n",
       "      <td>-1846.641941</td>\n",
       "      <td>54</td>\n",
       "      <td>неоконченное высшее</td>\n",
       "      <td>2</td>\n",
       "      <td>женат / замужем</td>\n",
       "      <td>0</td>\n",
       "      <td>F</td>\n",
       "      <td>сотрудник</td>\n",
       "      <td>0</td>\n",
       "      <td>130458.228857</td>\n",
       "      <td>приобретение автомобиля</td>\n",
       "    </tr>\n",
       "    <tr>\n",
       "      <th>14</th>\n",
       "      <td>0</td>\n",
       "      <td>-1844.956182</td>\n",
       "      <td>56</td>\n",
       "      <td>высшее</td>\n",
       "      <td>0</td>\n",
       "      <td>гражданский брак</td>\n",
       "      <td>1</td>\n",
       "      <td>F</td>\n",
       "      <td>компаньон</td>\n",
       "      <td>1</td>\n",
       "      <td>165127.911772</td>\n",
       "      <td>покупка жилой недвижимости</td>\n",
       "    </tr>\n",
       "    <tr>\n",
       "      <th>15</th>\n",
       "      <td>1</td>\n",
       "      <td>-972.364419</td>\n",
       "      <td>26</td>\n",
       "      <td>среднее</td>\n",
       "      <td>1</td>\n",
       "      <td>женат / замужем</td>\n",
       "      <td>0</td>\n",
       "      <td>F</td>\n",
       "      <td>сотрудник</td>\n",
       "      <td>0</td>\n",
       "      <td>116820.904450</td>\n",
       "      <td>строительство собственной недвижимости</td>\n",
       "    </tr>\n",
       "    <tr>\n",
       "      <th>16</th>\n",
       "      <td>0</td>\n",
       "      <td>-1719.934226</td>\n",
       "      <td>35</td>\n",
       "      <td>среднее</td>\n",
       "      <td>1</td>\n",
       "      <td>женат / замужем</td>\n",
       "      <td>0</td>\n",
       "      <td>F</td>\n",
       "      <td>сотрудник</td>\n",
       "      <td>0</td>\n",
       "      <td>289202.704229</td>\n",
       "      <td>недвижимость</td>\n",
       "    </tr>\n",
       "    <tr>\n",
       "      <th>17</th>\n",
       "      <td>0</td>\n",
       "      <td>-2369.999720</td>\n",
       "      <td>33</td>\n",
       "      <td>высшее</td>\n",
       "      <td>0</td>\n",
       "      <td>гражданский брак</td>\n",
       "      <td>1</td>\n",
       "      <td>M</td>\n",
       "      <td>сотрудник</td>\n",
       "      <td>0</td>\n",
       "      <td>90410.586745</td>\n",
       "      <td>строительство недвижимости</td>\n",
       "    </tr>\n",
       "    <tr>\n",
       "      <th>18</th>\n",
       "      <td>0</td>\n",
       "      <td>400281.136913</td>\n",
       "      <td>53</td>\n",
       "      <td>среднее</td>\n",
       "      <td>1</td>\n",
       "      <td>вдовец / вдова</td>\n",
       "      <td>2</td>\n",
       "      <td>F</td>\n",
       "      <td>пенсионер</td>\n",
       "      <td>0</td>\n",
       "      <td>56823.777243</td>\n",
       "      <td>на покупку подержанного автомобиля</td>\n",
       "    </tr>\n",
       "    <tr>\n",
       "      <th>19</th>\n",
       "      <td>0</td>\n",
       "      <td>-10038.818549</td>\n",
       "      <td>48</td>\n",
       "      <td>СРЕДНЕЕ</td>\n",
       "      <td>1</td>\n",
       "      <td>в разводе</td>\n",
       "      <td>3</td>\n",
       "      <td>F</td>\n",
       "      <td>сотрудник</td>\n",
       "      <td>0</td>\n",
       "      <td>242831.107982</td>\n",
       "      <td>на покупку своего автомобиля</td>\n",
       "    </tr>\n",
       "  </tbody>\n",
       "</table>\n",
       "</div>"
      ],
      "text/plain": [
       "    children  days_employed  dob_years            education  education_id  \\\n",
       "0          1   -8437.673028         42               высшее             0   \n",
       "1          1   -4024.803754         36              среднее             1   \n",
       "2          0   -5623.422610         33              Среднее             1   \n",
       "3          3   -4124.747207         32              среднее             1   \n",
       "4          0  340266.072047         53              среднее             1   \n",
       "5          0    -926.185831         27               высшее             0   \n",
       "6          0   -2879.202052         43               высшее             0   \n",
       "7          0    -152.779569         50              СРЕДНЕЕ             1   \n",
       "8          2   -6929.865299         35               ВЫСШЕЕ             0   \n",
       "9          0   -2188.756445         41              среднее             1   \n",
       "10         2   -4171.483647         36               высшее             0   \n",
       "11         0    -792.701887         40              среднее             1   \n",
       "12         0            NaN         65              среднее             1   \n",
       "13         0   -1846.641941         54  неоконченное высшее             2   \n",
       "14         0   -1844.956182         56               высшее             0   \n",
       "15         1    -972.364419         26              среднее             1   \n",
       "16         0   -1719.934226         35              среднее             1   \n",
       "17         0   -2369.999720         33               высшее             0   \n",
       "18         0  400281.136913         53              среднее             1   \n",
       "19         0  -10038.818549         48              СРЕДНЕЕ             1   \n",
       "\n",
       "       family_status  family_status_id gender income_type  debt  \\\n",
       "0    женат / замужем                 0      F   сотрудник     0   \n",
       "1    женат / замужем                 0      F   сотрудник     0   \n",
       "2    женат / замужем                 0      M   сотрудник     0   \n",
       "3    женат / замужем                 0      M   сотрудник     0   \n",
       "4   гражданский брак                 1      F   пенсионер     0   \n",
       "5   гражданский брак                 1      M   компаньон     0   \n",
       "6    женат / замужем                 0      F   компаньон     0   \n",
       "7    женат / замужем                 0      M   сотрудник     0   \n",
       "8   гражданский брак                 1      F   сотрудник     0   \n",
       "9    женат / замужем                 0      M   сотрудник     0   \n",
       "10   женат / замужем                 0      M   компаньон     0   \n",
       "11   женат / замужем                 0      F   сотрудник     0   \n",
       "12  гражданский брак                 1      M   пенсионер     0   \n",
       "13   женат / замужем                 0      F   сотрудник     0   \n",
       "14  гражданский брак                 1      F   компаньон     1   \n",
       "15   женат / замужем                 0      F   сотрудник     0   \n",
       "16   женат / замужем                 0      F   сотрудник     0   \n",
       "17  гражданский брак                 1      M   сотрудник     0   \n",
       "18    вдовец / вдова                 2      F   пенсионер     0   \n",
       "19         в разводе                 3      F   сотрудник     0   \n",
       "\n",
       "     total_income                                 purpose  \n",
       "0   253875.639453                           покупка жилья  \n",
       "1   112080.014102                 приобретение автомобиля  \n",
       "2   145885.952297                           покупка жилья  \n",
       "3   267628.550329              дополнительное образование  \n",
       "4   158616.077870                         сыграть свадьбу  \n",
       "5   255763.565419                           покупка жилья  \n",
       "6   240525.971920                       операции с жильем  \n",
       "7   135823.934197                             образование  \n",
       "8    95856.832424                   на проведение свадьбы  \n",
       "9   144425.938277                 покупка жилья для семьи  \n",
       "10  113943.491460                    покупка недвижимости  \n",
       "11   77069.234271       покупка коммерческой недвижимости  \n",
       "12            NaN                         сыграть свадьбу  \n",
       "13  130458.228857                 приобретение автомобиля  \n",
       "14  165127.911772              покупка жилой недвижимости  \n",
       "15  116820.904450  строительство собственной недвижимости  \n",
       "16  289202.704229                            недвижимость  \n",
       "17   90410.586745              строительство недвижимости  \n",
       "18   56823.777243      на покупку подержанного автомобиля  \n",
       "19  242831.107982            на покупку своего автомобиля  "
      ]
     },
     "execution_count": 2,
     "metadata": {},
     "output_type": "execute_result"
    }
   ],
   "source": [
    "data.head(20)"
   ]
  },
  {
   "cell_type": "markdown",
   "id": "4536f64e",
   "metadata": {
    "deletable": false,
    "editable": false,
    "id": "1c12e233"
   },
   "source": [
    "**Задание 3. Выведите основную информацию о датафрейме с помощью метода `info()`.**"
   ]
  },
  {
   "cell_type": "code",
   "execution_count": 3,
   "id": "2a4fd573",
   "metadata": {
    "deletable": false,
    "id": "2b757bca",
    "outputId": "15376089-8dad-46c9-b520-c05248d43158"
   },
   "outputs": [
    {
     "name": "stdout",
     "output_type": "stream",
     "text": [
      "<class 'pandas.core.frame.DataFrame'>\n",
      "RangeIndex: 21525 entries, 0 to 21524\n",
      "Data columns (total 12 columns):\n",
      " #   Column            Non-Null Count  Dtype  \n",
      "---  ------            --------------  -----  \n",
      " 0   children          21525 non-null  int64  \n",
      " 1   days_employed     19351 non-null  float64\n",
      " 2   dob_years         21525 non-null  int64  \n",
      " 3   education         21525 non-null  object \n",
      " 4   education_id      21525 non-null  int64  \n",
      " 5   family_status     21525 non-null  object \n",
      " 6   family_status_id  21525 non-null  int64  \n",
      " 7   gender            21525 non-null  object \n",
      " 8   income_type       21525 non-null  object \n",
      " 9   debt              21525 non-null  int64  \n",
      " 10  total_income      19351 non-null  float64\n",
      " 11  purpose           21525 non-null  object \n",
      "dtypes: float64(2), int64(5), object(5)\n",
      "memory usage: 2.0+ MB\n"
     ]
    }
   ],
   "source": [
    "data.info()"
   ]
  },
  {
   "cell_type": "markdown",
   "id": "d63be339",
   "metadata": {
    "deletable": false,
    "editable": false,
    "id": "333ec665"
   },
   "source": [
    "## Предобработка данных"
   ]
  },
  {
   "cell_type": "markdown",
   "id": "e299cb5f",
   "metadata": {
    "deletable": false,
    "editable": false,
    "id": "02d92d53"
   },
   "source": [
    "### Удаление пропусков"
   ]
  },
  {
   "cell_type": "markdown",
   "id": "c2a3a514",
   "metadata": {
    "deletable": false,
    "editable": false,
    "id": "cd84967c"
   },
   "source": [
    "**Задание 4. Выведите количество пропущенных значений для каждого столбца. Используйте комбинацию двух методов.**"
   ]
  },
  {
   "cell_type": "code",
   "execution_count": 4,
   "id": "a9926ebe",
   "metadata": {
    "deletable": false,
    "id": "7f9b2309",
    "outputId": "81f4d817-781c-465c-ed15-91ce4446810d"
   },
   "outputs": [
    {
     "data": {
      "text/plain": [
       "children               0\n",
       "days_employed       2174\n",
       "dob_years              0\n",
       "education              0\n",
       "education_id           0\n",
       "family_status          0\n",
       "family_status_id       0\n",
       "gender                 0\n",
       "income_type            0\n",
       "debt                   0\n",
       "total_income        2174\n",
       "purpose                0\n",
       "dtype: int64"
      ]
     },
     "execution_count": 4,
     "metadata": {},
     "output_type": "execute_result"
    }
   ],
   "source": [
    "data.isna().sum()"
   ]
  },
  {
   "cell_type": "markdown",
   "id": "d1593010",
   "metadata": {
    "deletable": false,
    "editable": false,
    "id": "db86e27b"
   },
   "source": [
    "**Задание 5. В двух столбцах есть пропущенные значения. Один из них — `days_employed`. Пропуски в этом столбце вы обработаете на следующем этапе. Другой столбец с пропущенными значениями — `total_income` — хранит данные о доходах. На сумму дохода сильнее всего влияет тип занятости, поэтому заполнить пропуски в этом столбце нужно медианным значением по каждому типу из столбца `income_type`. Например, у человека с типом занятости `сотрудник` пропуск в столбце `total_income` должен быть заполнен медианным доходом среди всех записей с тем же типом.**"
   ]
  },
  {
   "cell_type": "code",
   "execution_count": 5,
   "id": "d01270c9",
   "metadata": {
    "deletable": false,
    "id": "42006a93"
   },
   "outputs": [],
   "source": [
    "for t in data['income_type'].unique():\n",
    "    data.loc[(data['income_type'] == t) & (data['total_income'].isna()), 'total_income'] = \\\n",
    "    data.loc[(data['income_type'] == t), 'total_income'].median()"
   ]
  },
  {
   "cell_type": "markdown",
   "id": "36ad20d3",
   "metadata": {
    "deletable": false,
    "editable": false,
    "id": "89da5ece"
   },
   "source": [
    "### Обработка аномальных значений"
   ]
  },
  {
   "cell_type": "markdown",
   "id": "7e586e48",
   "metadata": {
    "deletable": false,
    "editable": false,
    "id": "57964554"
   },
   "source": [
    "**Задание 6. В данных могут встречаться артефакты (аномалии) — значения, которые не отражают действительность и появились по какой-то ошибке. таким артефактом будет отрицательное количество дней трудового стажа в столбце `days_employed`. Для реальных данных это нормально. Обработайте значения в этом столбце: замените все отрицательные значения положительными с помощью метода `abs()`.**"
   ]
  },
  {
   "cell_type": "code",
   "execution_count": 6,
   "id": "1ee2cb59",
   "metadata": {
    "deletable": false,
    "id": "f6f055bf"
   },
   "outputs": [],
   "source": [
    "data['days_employed'] = data['days_employed'].abs()"
   ]
  },
  {
   "cell_type": "markdown",
   "id": "af4cb093",
   "metadata": {
    "deletable": false,
    "editable": false,
    "id": "6107dd2f"
   },
   "source": [
    "**Задание 7. Для каждого типа занятости выведите медианное значение трудового стажа `days_employed` в днях.**"
   ]
  },
  {
   "cell_type": "code",
   "execution_count": 7,
   "id": "c355f268",
   "metadata": {
    "deletable": false,
    "id": "85a5faf6",
    "outputId": "801ef80e-522b-4668-f34e-565af7432bcf"
   },
   "outputs": [
    {
     "data": {
      "text/plain": [
       "income_type\n",
       "безработный        366413.652744\n",
       "в декрете            3296.759962\n",
       "госслужащий          2689.368353\n",
       "компаньон            1547.382223\n",
       "пенсионер          365213.306266\n",
       "предприниматель       520.848083\n",
       "сотрудник            1574.202821\n",
       "студент               578.751554\n",
       "Name: days_employed, dtype: float64"
      ]
     },
     "execution_count": 7,
     "metadata": {},
     "output_type": "execute_result"
    }
   ],
   "source": [
    "data.groupby('income_type')['days_employed'].agg('median')"
   ]
  },
  {
   "cell_type": "markdown",
   "id": "0473222c",
   "metadata": {
    "deletable": false,
    "editable": false,
    "id": "38d1a030"
   },
   "source": [
    "У двух типов (безработные и пенсионеры) получатся аномально большие значения. Исправить такие значения сложно, поэтому оставьте их как есть. Тем более этот столбец не понадобится вам для исследования."
   ]
  },
  {
   "cell_type": "markdown",
   "id": "0865df70",
   "metadata": {
    "deletable": false,
    "editable": false,
    "id": "d8a9f147"
   },
   "source": [
    "**Задание 8. Выведите перечень уникальных значений столбца `children`.**"
   ]
  },
  {
   "cell_type": "code",
   "execution_count": 8,
   "id": "8e0bae6a",
   "metadata": {
    "deletable": false,
    "id": "ef5056eb",
    "outputId": "6975b15c-7f95-4697-d16d-a0c79b657b03"
   },
   "outputs": [
    {
     "data": {
      "text/plain": [
       "array([ 1,  0,  3,  2, -1,  4, 20,  5])"
      ]
     },
     "execution_count": 8,
     "metadata": {},
     "output_type": "execute_result"
    }
   ],
   "source": [
    "data['children'].unique()"
   ]
  },
  {
   "cell_type": "markdown",
   "id": "89f927fc",
   "metadata": {
    "deletable": false,
    "editable": false,
    "id": "40b9ebf2"
   },
   "source": [
    "**Задание 9. В столбце `children` есть два аномальных значения. Удалите строки, в которых встречаются такие аномальные значения из датафрейма `data`.**"
   ]
  },
  {
   "cell_type": "code",
   "execution_count": 9,
   "id": "85df247e",
   "metadata": {
    "deletable": false,
    "id": "3ff9801d"
   },
   "outputs": [],
   "source": [
    "data = data[(data['children'] != -1) & (data['children'] != 20)]"
   ]
  },
  {
   "cell_type": "markdown",
   "id": "930c0634",
   "metadata": {
    "deletable": false,
    "editable": false,
    "id": "bbc4d0ce"
   },
   "source": [
    "**Задание 10. Ещё раз выведите перечень уникальных значений столбца `children`, чтобы убедиться, что артефакты удалены.**"
   ]
  },
  {
   "cell_type": "code",
   "execution_count": 10,
   "id": "0c8d4632",
   "metadata": {
    "deletable": false,
    "id": "ad4fa8b7",
    "outputId": "b2097101-d49d-44d9-901b-32a65c9463d1"
   },
   "outputs": [
    {
     "data": {
      "text/plain": [
       "array([1, 0, 3, 2, 4, 5])"
      ]
     },
     "execution_count": 10,
     "metadata": {},
     "output_type": "execute_result"
    }
   ],
   "source": [
    "data['children'].unique()"
   ]
  },
  {
   "cell_type": "markdown",
   "id": "d82276c4",
   "metadata": {
    "deletable": false,
    "editable": false,
    "id": "75440b63"
   },
   "source": [
    "### Удаление пропусков (продолжение)"
   ]
  },
  {
   "cell_type": "markdown",
   "id": "38678a47",
   "metadata": {
    "deletable": false,
    "editable": false,
    "id": "f4ea573f"
   },
   "source": [
    "**Задание 11. Заполните пропуски в столбце `days_employed` медианными значениями по каждого типа занятости `income_type`.**"
   ]
  },
  {
   "cell_type": "code",
   "execution_count": 11,
   "id": "9904c797",
   "metadata": {
    "deletable": false,
    "id": "af6b1a7e"
   },
   "outputs": [],
   "source": [
    "for t in data['income_type'].unique():\n",
    "    data.loc[(data['income_type'] == t) & (data['days_employed'].isna()), 'days_employed'] = \\\n",
    "    data.loc[(data['income_type'] == t), 'days_employed'].median()"
   ]
  },
  {
   "cell_type": "markdown",
   "id": "1561f40b",
   "metadata": {
    "deletable": false,
    "editable": false,
    "id": "2753f40d"
   },
   "source": [
    "**Задание 12. Убедитесь, что все пропуски заполнены. Проверьте себя и ещё раз выведите количество пропущенных значений для каждого столбца с помощью двух методов.**"
   ]
  },
  {
   "cell_type": "code",
   "execution_count": 12,
   "id": "1801082c",
   "metadata": {
    "deletable": false,
    "id": "55f78bc2",
    "outputId": "8da1e4e1-358e-4e87-98c9-f261bce0a7b2"
   },
   "outputs": [
    {
     "data": {
      "text/plain": [
       "children            0\n",
       "days_employed       0\n",
       "dob_years           0\n",
       "education           0\n",
       "education_id        0\n",
       "family_status       0\n",
       "family_status_id    0\n",
       "gender              0\n",
       "income_type         0\n",
       "debt                0\n",
       "total_income        0\n",
       "purpose             0\n",
       "dtype: int64"
      ]
     },
     "execution_count": 12,
     "metadata": {},
     "output_type": "execute_result"
    }
   ],
   "source": [
    "data.isna().sum()"
   ]
  },
  {
   "cell_type": "markdown",
   "id": "9ea6ec34",
   "metadata": {
    "deletable": false,
    "editable": false,
    "id": "ddc81e43"
   },
   "source": [
    "### Изменение типов данных"
   ]
  },
  {
   "cell_type": "markdown",
   "id": "9b64f144",
   "metadata": {
    "deletable": false,
    "editable": false,
    "id": "42d19d24"
   },
   "source": [
    "**Задание 13. Замените вещественный тип данных в столбце `total_income` на целочисленный с помощью метода `astype()`.**"
   ]
  },
  {
   "cell_type": "code",
   "execution_count": 13,
   "id": "9504f9ae",
   "metadata": {
    "deletable": false,
    "id": "920b65ad"
   },
   "outputs": [],
   "source": [
    "data['total_income'] = data['total_income'].astype(int)"
   ]
  },
  {
   "cell_type": "markdown",
   "id": "ac6e9257",
   "metadata": {
    "deletable": false,
    "editable": false,
    "id": "80c420ba"
   },
   "source": [
    "### Обработка дубликатов"
   ]
  },
  {
   "cell_type": "markdown",
   "id": "592d04c8",
   "metadata": {
    "deletable": false,
    "editable": false
   },
   "source": [
    "**Задание 14. Обработайте неявные дубликаты в столбце `education`. В этом столбце есть одни и те же значения, но записанные по-разному: с использованием заглавных и строчных букв. Приведите их к нижнему регистру. Проверьте остальные столбцы.**"
   ]
  },
  {
   "cell_type": "code",
   "execution_count": 14,
   "id": "aaaaf551",
   "metadata": {
    "deletable": false
   },
   "outputs": [],
   "source": [
    "data['education'] = data['education'].str.lower()"
   ]
  },
  {
   "cell_type": "markdown",
   "id": "5c0b13f2",
   "metadata": {
    "deletable": false,
    "editable": false,
    "id": "dc587695"
   },
   "source": [
    "**Задание 15. Выведите на экран количество строк-дубликатов в данных. Если такие строки присутствуют, удалите их.**"
   ]
  },
  {
   "cell_type": "code",
   "execution_count": 15,
   "id": "47915259",
   "metadata": {
    "deletable": false,
    "id": "3ee445e4",
    "outputId": "9684deba-1934-42d1-99e1-cda61740f822"
   },
   "outputs": [
    {
     "data": {
      "text/plain": [
       "71"
      ]
     },
     "execution_count": 15,
     "metadata": {},
     "output_type": "execute_result"
    }
   ],
   "source": [
    "data.duplicated().sum()"
   ]
  },
  {
   "cell_type": "code",
   "execution_count": 16,
   "id": "ac88cc74",
   "metadata": {
    "deletable": false,
    "id": "8575fe05"
   },
   "outputs": [],
   "source": [
    "data = data.drop_duplicates()"
   ]
  },
  {
   "cell_type": "markdown",
   "id": "7d8db589",
   "metadata": {
    "deletable": false,
    "editable": false,
    "id": "9904cf55"
   },
   "source": [
    "### Категоризация данных"
   ]
  },
  {
   "cell_type": "markdown",
   "id": "39f7f9ac",
   "metadata": {
    "deletable": false,
    "editable": false,
    "id": "72fcc8a2"
   },
   "source": [
    "**Задание 16. На основании диапазонов, указанных ниже, создайте в датафрейме `data` столбец `total_income_category` с категориями:**\n",
    "\n",
    "- 0–30000 — `'E'`;\n",
    "- 30001–50000 — `'D'`;\n",
    "- 50001–200000 — `'C'`;\n",
    "- 200001–1000000 — `'B'`;\n",
    "- 1000001 и выше — `'A'`.\n",
    "\n",
    "\n",
    "**Например, кредитополучателю с доходом 25000 нужно назначить категорию `'E'`, а клиенту, получающему 235000, — `'B'`. Используйте собственную функцию с именем `categorize_income()` и метод `apply()`.**"
   ]
  },
  {
   "cell_type": "code",
   "execution_count": 17,
   "id": "a7d4dc7e",
   "metadata": {
    "deletable": false,
    "id": "e1771346"
   },
   "outputs": [],
   "source": [
    "def categorize_income(income):\n",
    "    try:\n",
    "        if 0 <= income <= 30000:\n",
    "            return 'E'\n",
    "        elif 30001 <= income <= 50000:\n",
    "            return 'D'\n",
    "        elif 50001 <= income <= 200000:\n",
    "            return 'C'\n",
    "        elif 200001 <= income <= 1000000:\n",
    "            return 'B'\n",
    "        elif income >= 1000001:\n",
    "            return 'A'\n",
    "    except:\n",
    "        pass"
   ]
  },
  {
   "cell_type": "code",
   "execution_count": 18,
   "id": "4782e9b3",
   "metadata": {
    "deletable": false,
    "id": "d5f3586d"
   },
   "outputs": [],
   "source": [
    "data['total_income_category'] = data['total_income'].apply(categorize_income)"
   ]
  },
  {
   "cell_type": "markdown",
   "id": "84b12bf6",
   "metadata": {
    "deletable": false,
    "editable": false,
    "id": "dde49b5c"
   },
   "source": [
    "**Задание 17. Выведите на экран перечень уникальных целей взятия кредита из столбца `purpose`.**"
   ]
  },
  {
   "cell_type": "code",
   "execution_count": 19,
   "id": "a0916486",
   "metadata": {
    "deletable": false,
    "id": "f67ce9b3",
    "outputId": "673c12d9-7d7e-4ae0-9812-c622c89dd244"
   },
   "outputs": [
    {
     "data": {
      "text/plain": [
       "array(['покупка жилья', 'приобретение автомобиля',\n",
       "       'дополнительное образование', 'сыграть свадьбу',\n",
       "       'операции с жильем', 'образование', 'на проведение свадьбы',\n",
       "       'покупка жилья для семьи', 'покупка недвижимости',\n",
       "       'покупка коммерческой недвижимости', 'покупка жилой недвижимости',\n",
       "       'строительство собственной недвижимости', 'недвижимость',\n",
       "       'строительство недвижимости', 'на покупку подержанного автомобиля',\n",
       "       'на покупку своего автомобиля',\n",
       "       'операции с коммерческой недвижимостью',\n",
       "       'строительство жилой недвижимости', 'жилье',\n",
       "       'операции со своей недвижимостью', 'автомобили',\n",
       "       'заняться образованием', 'сделка с подержанным автомобилем',\n",
       "       'получение образования', 'автомобиль', 'свадьба',\n",
       "       'получение дополнительного образования', 'покупка своего жилья',\n",
       "       'операции с недвижимостью', 'получение высшего образования',\n",
       "       'свой автомобиль', 'сделка с автомобилем',\n",
       "       'профильное образование', 'высшее образование',\n",
       "       'покупка жилья для сдачи', 'на покупку автомобиля', 'ремонт жилью',\n",
       "       'заняться высшим образованием'], dtype=object)"
      ]
     },
     "execution_count": 19,
     "metadata": {},
     "output_type": "execute_result"
    }
   ],
   "source": [
    "data['purpose'].unique()"
   ]
  },
  {
   "cell_type": "markdown",
   "id": "652f09f0",
   "metadata": {
    "deletable": false,
    "editable": false,
    "id": "85d0aef0"
   },
   "source": [
    "**Задание 18. Создайте функцию, которая на основании данных из столбца `purpose` сформирует новый столбец `purpose_category`, в который войдут следующие категории:**\n",
    "\n",
    "- `'операции с автомобилем'`,\n",
    "- `'операции с недвижимостью'`,\n",
    "- `'проведение свадьбы'`,\n",
    "- `'получение образования'`.\n",
    "\n",
    "**Например, если в столбце `purpose` находится подстрока `'на покупку автомобиля'`, то в столбце `purpose_category` должна появиться строка `'операции с автомобилем'`.**\n",
    "\n",
    "**Используйте собственную функцию с именем `categorize_purpose()` и метод `apply()`. Изучите данные в столбце `purpose` и определите, какие подстроки помогут вам правильно определить категорию.**"
   ]
  },
  {
   "cell_type": "code",
   "execution_count": 20,
   "id": "893536ef",
   "metadata": {
    "deletable": false,
    "id": "e149fab4"
   },
   "outputs": [],
   "source": [
    "def categorize_purpose(row):\n",
    "    try:\n",
    "        if 'автом' in row:\n",
    "            return 'операции с автомобилем'\n",
    "        elif 'жил' in row or 'недвиж' in row:\n",
    "            return 'операции с недвижимостью'\n",
    "        elif 'свад' in row:\n",
    "            return 'проведение свадьбы'\n",
    "        elif 'образов' in row:\n",
    "            return 'получение образования'\n",
    "    except:\n",
    "        return 'нет категории'"
   ]
  },
  {
   "cell_type": "code",
   "execution_count": 21,
   "id": "22b848bf",
   "metadata": {
    "deletable": false,
    "id": "bf36e69b"
   },
   "outputs": [],
   "source": [
    "data['purpose_category'] = data['purpose'].apply(categorize_purpose)"
   ]
  },
  {
   "cell_type": "markdown",
   "id": "b92e91ed",
   "metadata": {
    "deletable": false,
    "editable": false,
    "id": "09b242bf"
   },
   "source": [
    "### Шаг 3. Исследуйте данные и ответьте на вопросы"
   ]
  },
  {
   "cell_type": "markdown",
   "id": "86f45c03",
   "metadata": {
    "deletable": false,
    "editable": false,
    "id": "c5d66278"
   },
   "source": [
    "#### 3.1 Есть ли зависимость между количеством детей и возвратом кредита в срок?"
   ]
  },
  {
   "cell_type": "code",
   "execution_count": 22,
   "id": "beaec0a7",
   "metadata": {
    "deletable": false,
    "id": "2cacfc4a"
   },
   "outputs": [
    {
     "data": {
      "text/html": [
       "<div>\n",
       "<style scoped>\n",
       "    .dataframe tbody tr th:only-of-type {\n",
       "        vertical-align: middle;\n",
       "    }\n",
       "\n",
       "    .dataframe tbody tr th {\n",
       "        vertical-align: top;\n",
       "    }\n",
       "\n",
       "    .dataframe thead tr th {\n",
       "        text-align: left;\n",
       "    }\n",
       "\n",
       "    .dataframe thead tr:last-of-type th {\n",
       "        text-align: right;\n",
       "    }\n",
       "</style>\n",
       "<table border=\"1\" class=\"dataframe\">\n",
       "  <thead>\n",
       "    <tr>\n",
       "      <th></th>\n",
       "      <th colspan=\"2\" halign=\"left\">debt</th>\n",
       "      <th>ratio</th>\n",
       "    </tr>\n",
       "    <tr>\n",
       "      <th></th>\n",
       "      <th>count</th>\n",
       "      <th>sum</th>\n",
       "      <th></th>\n",
       "    </tr>\n",
       "    <tr>\n",
       "      <th>children</th>\n",
       "      <th></th>\n",
       "      <th></th>\n",
       "      <th></th>\n",
       "    </tr>\n",
       "  </thead>\n",
       "  <tbody>\n",
       "    <tr>\n",
       "      <th>0</th>\n",
       "      <td>14091</td>\n",
       "      <td>1063</td>\n",
       "      <td>7.543822</td>\n",
       "    </tr>\n",
       "    <tr>\n",
       "      <th>1</th>\n",
       "      <td>4808</td>\n",
       "      <td>444</td>\n",
       "      <td>9.234609</td>\n",
       "    </tr>\n",
       "    <tr>\n",
       "      <th>2</th>\n",
       "      <td>2052</td>\n",
       "      <td>194</td>\n",
       "      <td>9.454191</td>\n",
       "    </tr>\n",
       "    <tr>\n",
       "      <th>3</th>\n",
       "      <td>330</td>\n",
       "      <td>27</td>\n",
       "      <td>8.181818</td>\n",
       "    </tr>\n",
       "    <tr>\n",
       "      <th>4</th>\n",
       "      <td>41</td>\n",
       "      <td>4</td>\n",
       "      <td>9.756098</td>\n",
       "    </tr>\n",
       "    <tr>\n",
       "      <th>5</th>\n",
       "      <td>9</td>\n",
       "      <td>0</td>\n",
       "      <td>0.000000</td>\n",
       "    </tr>\n",
       "  </tbody>\n",
       "</table>\n",
       "</div>"
      ],
      "text/plain": [
       "           debt           ratio\n",
       "          count   sum          \n",
       "children                       \n",
       "0         14091  1063  7.543822\n",
       "1          4808   444  9.234609\n",
       "2          2052   194  9.454191\n",
       "3           330    27  8.181818\n",
       "4            41     4  9.756098\n",
       "5             9     0  0.000000"
      ]
     },
     "execution_count": 22,
     "metadata": {},
     "output_type": "execute_result"
    }
   ],
   "source": [
    "# Ваш код будет здесь. Вы можете создавать новые ячейки.\n",
    "data_grouped_child = data.groupby('children').agg({'debt': ['count', 'sum']})\n",
    "data_grouped_child['ratio'] = data_grouped_child['debt']['sum'] / data_grouped_child['debt']['count'] * 100 \n",
    "data_grouped_child"
   ]
  },
  {
   "cell_type": "markdown",
   "id": "6da4d11c",
   "metadata": {
    "deletable": false,
    "id": "3a6b99ec"
   },
   "source": [
    "**Вывод:** Есть зависимость между наличием и отсутсвием детей. Среди тех, у кого детей нет - должников меньше. Про количество детей можно сказать, что 1 или 2 ребенка не сильно отличаются. Для 3 и более закономерность непонятна - возможно из-из маленькой выборки, тем что их реально меньше в мире, сложнее получить кредит."
   ]
  },
  {
   "cell_type": "markdown",
   "id": "df9e5597",
   "metadata": {
    "deletable": false,
    "editable": false,
    "id": "97be82ca"
   },
   "source": [
    "#### 3.2 Есть ли зависимость между семейным положением и возвратом кредита в срок?"
   ]
  },
  {
   "cell_type": "code",
   "execution_count": 23,
   "id": "346cbb50",
   "metadata": {
    "deletable": false,
    "id": "dc3f7ee8"
   },
   "outputs": [
    {
     "data": {
      "text/html": [
       "<div>\n",
       "<style scoped>\n",
       "    .dataframe tbody tr th:only-of-type {\n",
       "        vertical-align: middle;\n",
       "    }\n",
       "\n",
       "    .dataframe tbody tr th {\n",
       "        vertical-align: top;\n",
       "    }\n",
       "\n",
       "    .dataframe thead tr th {\n",
       "        text-align: left;\n",
       "    }\n",
       "\n",
       "    .dataframe thead tr:last-of-type th {\n",
       "        text-align: right;\n",
       "    }\n",
       "</style>\n",
       "<table border=\"1\" class=\"dataframe\">\n",
       "  <thead>\n",
       "    <tr>\n",
       "      <th></th>\n",
       "      <th colspan=\"2\" halign=\"left\">debt</th>\n",
       "      <th>ratio</th>\n",
       "    </tr>\n",
       "    <tr>\n",
       "      <th></th>\n",
       "      <th>count</th>\n",
       "      <th>sum</th>\n",
       "      <th></th>\n",
       "    </tr>\n",
       "    <tr>\n",
       "      <th>family_status</th>\n",
       "      <th></th>\n",
       "      <th></th>\n",
       "      <th></th>\n",
       "    </tr>\n",
       "  </thead>\n",
       "  <tbody>\n",
       "    <tr>\n",
       "      <th>Не женат / не замужем</th>\n",
       "      <td>2796</td>\n",
       "      <td>273</td>\n",
       "      <td>9.763948</td>\n",
       "    </tr>\n",
       "    <tr>\n",
       "      <th>в разводе</th>\n",
       "      <td>1189</td>\n",
       "      <td>84</td>\n",
       "      <td>7.064760</td>\n",
       "    </tr>\n",
       "    <tr>\n",
       "      <th>вдовец / вдова</th>\n",
       "      <td>951</td>\n",
       "      <td>63</td>\n",
       "      <td>6.624606</td>\n",
       "    </tr>\n",
       "    <tr>\n",
       "      <th>гражданский брак</th>\n",
       "      <td>4134</td>\n",
       "      <td>385</td>\n",
       "      <td>9.313014</td>\n",
       "    </tr>\n",
       "    <tr>\n",
       "      <th>женат / замужем</th>\n",
       "      <td>12261</td>\n",
       "      <td>927</td>\n",
       "      <td>7.560558</td>\n",
       "    </tr>\n",
       "  </tbody>\n",
       "</table>\n",
       "</div>"
      ],
      "text/plain": [
       "                        debt          ratio\n",
       "                       count  sum          \n",
       "family_status                              \n",
       "Не женат / не замужем   2796  273  9.763948\n",
       "в разводе               1189   84  7.064760\n",
       "вдовец / вдова           951   63  6.624606\n",
       "гражданский брак        4134  385  9.313014\n",
       "женат / замужем        12261  927  7.560558"
      ]
     },
     "execution_count": 23,
     "metadata": {},
     "output_type": "execute_result"
    }
   ],
   "source": [
    "# Ваш код будет здесь. Вы можете создавать новые ячейки.\n",
    "data_grouped_family = data.groupby('family_status').agg({'debt': ['count', 'sum']})\n",
    "data_grouped_family['ratio'] = data_grouped_family['debt']['sum'] / data_grouped_family['debt']['count'] * 100 \n",
    "data_grouped_family"
   ]
  },
  {
   "cell_type": "markdown",
   "id": "7db5b187",
   "metadata": {
    "deletable": false,
    "id": "1cef7837"
   },
   "source": [
    "**Вывод:** Нужно смотреть был ли человек женат офцициально - среди них процент должников меньше. Те, кто не узаконили отношения или одни - больше. Вдовцов не так много, но их можно отнести в офциальные, тоже процент маленький. По цифрам это как будто одни и те же люди, только в разных статусах."
   ]
  },
  {
   "cell_type": "markdown",
   "id": "458dcc37",
   "metadata": {
    "deletable": false,
    "editable": false,
    "id": "1e8b2fca"
   },
   "source": [
    "#### 3.3 Есть ли зависимость между уровнем дохода и возвратом кредита в срок?"
   ]
  },
  {
   "cell_type": "code",
   "execution_count": 24,
   "id": "87bb8df4",
   "metadata": {
    "deletable": false,
    "id": "cd7e3720"
   },
   "outputs": [
    {
     "data": {
      "text/html": [
       "<div>\n",
       "<style scoped>\n",
       "    .dataframe tbody tr th:only-of-type {\n",
       "        vertical-align: middle;\n",
       "    }\n",
       "\n",
       "    .dataframe tbody tr th {\n",
       "        vertical-align: top;\n",
       "    }\n",
       "\n",
       "    .dataframe thead tr th {\n",
       "        text-align: left;\n",
       "    }\n",
       "\n",
       "    .dataframe thead tr:last-of-type th {\n",
       "        text-align: right;\n",
       "    }\n",
       "</style>\n",
       "<table border=\"1\" class=\"dataframe\">\n",
       "  <thead>\n",
       "    <tr>\n",
       "      <th></th>\n",
       "      <th colspan=\"2\" halign=\"left\">debt</th>\n",
       "      <th>ratio</th>\n",
       "    </tr>\n",
       "    <tr>\n",
       "      <th></th>\n",
       "      <th>count</th>\n",
       "      <th>sum</th>\n",
       "      <th></th>\n",
       "    </tr>\n",
       "    <tr>\n",
       "      <th>total_income_category</th>\n",
       "      <th></th>\n",
       "      <th></th>\n",
       "      <th></th>\n",
       "    </tr>\n",
       "  </thead>\n",
       "  <tbody>\n",
       "    <tr>\n",
       "      <th>A</th>\n",
       "      <td>25</td>\n",
       "      <td>2</td>\n",
       "      <td>8.000000</td>\n",
       "    </tr>\n",
       "    <tr>\n",
       "      <th>B</th>\n",
       "      <td>5014</td>\n",
       "      <td>354</td>\n",
       "      <td>7.060231</td>\n",
       "    </tr>\n",
       "    <tr>\n",
       "      <th>C</th>\n",
       "      <td>15921</td>\n",
       "      <td>1353</td>\n",
       "      <td>8.498210</td>\n",
       "    </tr>\n",
       "    <tr>\n",
       "      <th>D</th>\n",
       "      <td>349</td>\n",
       "      <td>21</td>\n",
       "      <td>6.017192</td>\n",
       "    </tr>\n",
       "    <tr>\n",
       "      <th>E</th>\n",
       "      <td>22</td>\n",
       "      <td>2</td>\n",
       "      <td>9.090909</td>\n",
       "    </tr>\n",
       "  </tbody>\n",
       "</table>\n",
       "</div>"
      ],
      "text/plain": [
       "                        debt           ratio\n",
       "                       count   sum          \n",
       "total_income_category                       \n",
       "A                         25     2  8.000000\n",
       "B                       5014   354  7.060231\n",
       "C                      15921  1353  8.498210\n",
       "D                        349    21  6.017192\n",
       "E                         22     2  9.090909"
      ]
     },
     "execution_count": 24,
     "metadata": {},
     "output_type": "execute_result"
    }
   ],
   "source": [
    "# Ваш код будет здесь. Вы можете создавать новые ячейки.\n",
    "data_grouped_total_income = data.groupby('total_income_category').agg({'debt': ['count', 'sum']})\n",
    "data_grouped_total_income['ratio'] = data_grouped_total_income['debt']['sum'] / data_grouped_total_income['debt']['count'] * 100 \n",
    "data_grouped_total_income"
   ]
  },
  {
   "cell_type": "markdown",
   "id": "d7444b9c",
   "metadata": {
    "deletable": false,
    "id": "e8593def"
   },
   "source": [
    "**Вывод:** Не вижу никакой зависимости, но были пропуски заполненные медианой. Если поиграться и отсечь самый маленький и большой доход, из-за маленькой выборки хотя бы - среди среднего класса должников больше всего, всё что от них отличается имеет процент должников меньше - тут либо недостаточность выборки, либо \"он как будто знает что он средний\", либо он средний потому что его может и распределили из-за большого количества должников, либо всё так устроено.\n",
    "Оффтоп: на сколько помню, удалял строки с пропусками, и раз не внес в исследование, то цифры там не сильно отличаются."
   ]
  },
  {
   "cell_type": "markdown",
   "id": "786edfea",
   "metadata": {
    "deletable": false,
    "editable": false,
    "id": "99ecbd1f"
   },
   "source": [
    "#### 3.4 Как разные цели кредита влияют на его возврат в срок?"
   ]
  },
  {
   "cell_type": "code",
   "execution_count": 25,
   "id": "68957cb6",
   "metadata": {
    "deletable": false,
    "id": "2b687290"
   },
   "outputs": [
    {
     "name": "stdout",
     "output_type": "stream",
     "text": [
      "                           debt          ratio\n",
      "                          count  sum          \n",
      "purpose_category                              \n",
      "операции с автомобилем     4279  400  9.347978\n",
      "операции с недвижимостью  10751  780  7.255139\n",
      "получение образования      3988  369  9.252758\n",
      "проведение свадьбы         2313  183  7.911803\n"
     ]
    }
   ],
   "source": [
    "data_grouped_purpose_category = data.groupby('purpose_category').agg({'debt': ['count', 'sum']})\n",
    "data_grouped_purpose_category['ratio'] = data_grouped_purpose_category['debt']['sum'] / data_grouped_purpose_category['debt']['count'] * 100 \n",
    "print(data_grouped_purpose_category)"
   ]
  },
  {
   "cell_type": "code",
   "execution_count": 26,
   "id": "7ae6ee8a",
   "metadata": {},
   "outputs": [
    {
     "name": "stdout",
     "output_type": "stream",
     "text": [
      "Недвижимость: 10751 Не недвижимость: 10580\n",
      "8.837513209303673\n"
     ]
    }
   ],
   "source": [
    "sum_not_realty = data_grouped_purpose_category['debt']['count'][0] + data_grouped_purpose_category['debt']['count'][2] \\\n",
    "+ data_grouped_purpose_category['debt']['count'][3]\n",
    "print('Недвижимость:', data_grouped_purpose_category['debt']['count'][1], 'Не недвижимость:',sum_not_realty)\n",
    "\n",
    "avg_not_realty = (data_grouped_purpose_category['ratio'][0] + data_grouped_purpose_category['ratio'][2] \\\n",
    "+ data_grouped_purpose_category['ratio'][3]) / 3\n",
    "print(avg_not_realty)"
   ]
  },
  {
   "cell_type": "markdown",
   "id": "0f205093",
   "metadata": {
    "deletable": false,
    "id": "b4bb2ce6"
   },
   "source": [
    "**Вывод:** Операции с недвижимостью имеет меньший процент должников и самое большое количество выданных. Причем количество кредитов недвижки - сумма всех остальных кредитов, что можно сказать: есть кредит на недвижку и все остальное, 7.2 против 8.8(среднее 3 остальных). "
   ]
  },
  {
   "cell_type": "markdown",
   "id": "f80dba7b",
   "metadata": {
    "deletable": false,
    "editable": false,
    "id": "09c3ac4c"
   },
   "source": [
    "#### 3.5 Приведите возможные причины появления пропусков в исходных данных."
   ]
  },
  {
   "cell_type": "markdown",
   "id": "f640e601",
   "metadata": {
    "deletable": false,
    "id": "9da2ceda"
   },
   "source": [
    "*Ответ:* Пропуски в важных данных для выдачи кредита. Так что скорее всего это технические накладки при выгрузке. Что для банка все равно нехорошо и странно. Так что допускаю ещё вариант, что банк может выдать кредит при хорошей кредитной истории без этих данных и выдачу кредита лицам ещё не имеющим доход и стаж при условии каких-то других факторов."
   ]
  },
  {
   "cell_type": "markdown",
   "id": "439a3a2b",
   "metadata": {
    "deletable": false,
    "editable": false,
    "id": "7b0487d6"
   },
   "source": [
    "#### 3.6 Объясните, почему заполнить пропуски медианным значением — лучшее решение для количественных переменных."
   ]
  },
  {
   "cell_type": "markdown",
   "id": "8cf26685",
   "metadata": {
    "deletable": false,
    "id": "7ecf2b8e"
   },
   "source": [
    "*Ответ:* Потому что не всегда выгодно удалять пропуски, неудобно работать с пустотой, среднее может сильно исказить исследование. Медиана позволяет работать с данными и исказит среднее только на +- 1 значение справа или слева от медианы, и все равно позволит проводить исследование на других данных, они остаются изолированными. Другой вопрос, что делать если группы попадаются меньше или равны количеству медиан.  "
   ]
  },
  {
   "cell_type": "markdown",
   "id": "204f91e7",
   "metadata": {
    "deletable": false,
    "editable": false,
    "id": "6db5255a"
   },
   "source": [
    "### Шаг 4: общий вывод."
   ]
  },
  {
   "cell_type": "markdown",
   "id": "8d9b4aa3",
   "metadata": {
    "deletable": false,
    "id": "bad65432"
   },
   "source": [
    "#### Вводные данные.\n",
    "\n",
    "Исследование проводилось с данными, который предоставил клиент, банк, на выявление зависимостей между надёжностью заёмщика и факторами количества детей, семейного положения, дохода, целей кредитования.\n",
    "\n",
    "#### Выводы исследования\n",
    "\n",
    "- Есть **зависимость между наличием и отсутсвием детей**. Среди тех, у кого детей нет - должников меньше.\n",
    "- Нужно смотреть был ли человек женат офцициально - **влияет не семейное положение, а был/есть официальный статус** - среди них должников меньше. Гражданский брак и не женат/не замужем - можно сказать одно и то же.\n",
    "- **По доходу - были пропуски в полученных данных**, в количестве, которое может повлиять на точность исследования. **Сейчас по цифрам нет никакой зависимости. Однако если поиграться** и отсечь самый маленький и большой доход, из-за маленькой выборки хотя бы - среди среднего класса должников больше всего, всё что от них отличается имеет процент должников меньше.\n",
    "- Операции с недвижимостью имеет меньший процент должников и самое большое количество выданных. Причем количество кредитов недвижки - сумма всех остальных кредитов, что можно сказать: **есть кредит на недвижку и все остальное, 7.2 против 8.8**(среднее 3 остальных).\n",
    "\n",
    "#### Проблемы в данных\n",
    "\n",
    "Были пропуски в двух критично важных столбцах *days_employed* и *total_income*. Также встретились аномалии в *days_employed* и *children*. Неявные дубликаты в *education*. Пропуски в обоих столбцах были заменены медианами по группам столбца *income_type*. Аномалии были частично обработаны: удалены строки с неадекватным значением в *children*, заменены на положительные отрицательные значения в *days_employed*. Не были обработаны аномально большие значения в *days_employed*, так как встретелись у некритично важных групп. Неявные дубликаты были устранены приведением столбца *education* к нижнему регистру.\n",
    "\n",
    "#### Дополнительные действия\n",
    "\n",
    "Были добавлены два столбца с категориями по доходу и целями кредита. *total_income_category* и *purpose_category*\n",
    "\n",
    "#### Рекомендации по работе с данными\n",
    "\n",
    "Пропуски имеются в критически важных столбцах. В одном из важных столбцов *days_employed* имеется целый ряд проблем - пропуски, аномальные большие и отрицательные значения. Во-первых, искажает исслелдование, во-вторых утяжеляет и удлиняет исследования, в-третьих, возможно, что ошибки в самих данных, а не в самой выгрузке. Рекомендую обратить внимание на это. Также рекомендую обратить внимание на столбец *education*, чтобы данные в нем хранились в нижнем регистре.\n"
   ]
  }
 ],
 "metadata": {
  "ExecuteTimeLog": [
   {
    "duration": 433,
    "start_time": "2023-01-27T13:16:21.253Z"
   },
   {
    "duration": 23,
    "start_time": "2023-01-27T13:16:55.378Z"
   },
   {
    "duration": 16,
    "start_time": "2023-01-27T13:16:59.530Z"
   },
   {
    "duration": 16,
    "start_time": "2023-01-27T13:17:03.679Z"
   },
   {
    "duration": 439,
    "start_time": "2023-01-27T13:24:09.361Z"
   },
   {
    "duration": 24,
    "start_time": "2023-01-27T13:24:09.802Z"
   },
   {
    "duration": 28,
    "start_time": "2023-01-27T13:24:09.828Z"
   },
   {
    "duration": 38,
    "start_time": "2023-01-27T13:24:09.858Z"
   },
   {
    "duration": 74,
    "start_time": "2023-01-27T13:24:09.898Z"
   },
   {
    "duration": 7,
    "start_time": "2023-01-27T13:24:09.974Z"
   },
   {
    "duration": 53,
    "start_time": "2023-01-27T13:24:09.982Z"
   },
   {
    "duration": 60,
    "start_time": "2023-01-27T13:24:10.037Z"
   },
   {
    "duration": 40,
    "start_time": "2023-01-27T13:24:10.099Z"
   },
   {
    "duration": 45,
    "start_time": "2023-01-27T13:24:10.141Z"
   },
   {
    "duration": 62,
    "start_time": "2023-01-27T13:24:10.188Z"
   },
   {
    "duration": 41,
    "start_time": "2023-01-27T13:24:10.252Z"
   },
   {
    "duration": 30,
    "start_time": "2023-01-27T13:24:10.295Z"
   },
   {
    "duration": 35,
    "start_time": "2023-01-27T13:24:10.329Z"
   },
   {
    "duration": 42,
    "start_time": "2023-01-27T13:24:10.365Z"
   },
   {
    "duration": 35,
    "start_time": "2023-01-27T13:24:10.409Z"
   },
   {
    "duration": 32,
    "start_time": "2023-01-27T13:24:10.445Z"
   },
   {
    "duration": 59,
    "start_time": "2023-01-27T13:24:10.479Z"
   },
   {
    "duration": 47,
    "start_time": "2023-01-27T13:24:10.540Z"
   },
   {
    "duration": 19,
    "start_time": "2023-01-27T13:24:10.588Z"
   },
   {
    "duration": 42,
    "start_time": "2023-01-27T13:24:10.609Z"
   },
   {
    "duration": 743,
    "start_time": "2023-01-27T13:31:14.852Z"
   },
   {
    "duration": 15,
    "start_time": "2023-01-27T13:31:24.077Z"
   },
   {
    "duration": 10,
    "start_time": "2023-01-27T13:32:00.028Z"
   },
   {
    "duration": 69,
    "start_time": "2023-01-27T13:32:04.581Z"
   },
   {
    "duration": 16,
    "start_time": "2023-01-27T13:32:04.652Z"
   },
   {
    "duration": 16,
    "start_time": "2023-01-27T13:32:04.670Z"
   },
   {
    "duration": 11,
    "start_time": "2023-01-27T13:32:04.704Z"
   },
   {
    "duration": 40,
    "start_time": "2023-01-27T13:32:04.717Z"
   },
   {
    "duration": 3,
    "start_time": "2023-01-27T13:32:04.759Z"
   },
   {
    "duration": 14,
    "start_time": "2023-01-27T13:32:04.763Z"
   },
   {
    "duration": 25,
    "start_time": "2023-01-27T13:32:04.779Z"
   },
   {
    "duration": 21,
    "start_time": "2023-01-27T13:32:04.805Z"
   },
   {
    "duration": 9,
    "start_time": "2023-01-27T13:32:04.829Z"
   },
   {
    "duration": 56,
    "start_time": "2023-01-27T13:32:04.839Z"
   },
   {
    "duration": 9,
    "start_time": "2023-01-27T13:32:04.897Z"
   },
   {
    "duration": 5,
    "start_time": "2023-01-27T13:32:04.907Z"
   },
   {
    "duration": 19,
    "start_time": "2023-01-27T13:32:04.913Z"
   },
   {
    "duration": 28,
    "start_time": "2023-01-27T13:32:04.934Z"
   },
   {
    "duration": 21,
    "start_time": "2023-01-27T13:32:04.964Z"
   },
   {
    "duration": 16,
    "start_time": "2023-01-27T13:32:04.987Z"
   },
   {
    "duration": 17,
    "start_time": "2023-01-27T13:32:05.005Z"
   },
   {
    "duration": 24,
    "start_time": "2023-01-27T13:32:05.024Z"
   },
   {
    "duration": 9,
    "start_time": "2023-01-27T13:32:05.050Z"
   },
   {
    "duration": 28,
    "start_time": "2023-01-27T13:32:05.060Z"
   },
   {
    "duration": 21,
    "start_time": "2023-01-27T13:32:05.090Z"
   },
   {
    "duration": 0,
    "start_time": "2023-01-27T13:32:05.113Z"
   },
   {
    "duration": 0,
    "start_time": "2023-01-27T13:32:05.115Z"
   },
   {
    "duration": 0,
    "start_time": "2023-01-27T13:32:05.116Z"
   },
   {
    "duration": 11,
    "start_time": "2023-01-27T13:32:11.200Z"
   },
   {
    "duration": 10,
    "start_time": "2023-01-27T13:32:20.074Z"
   },
   {
    "duration": 4,
    "start_time": "2023-01-27T13:32:49.756Z"
   },
   {
    "duration": 3,
    "start_time": "2023-01-27T13:32:58.083Z"
   },
   {
    "duration": 5,
    "start_time": "2023-01-27T13:33:03.134Z"
   },
   {
    "duration": 7,
    "start_time": "2023-01-27T13:33:48.817Z"
   },
   {
    "duration": 5,
    "start_time": "2023-01-27T13:35:17.318Z"
   },
   {
    "duration": 8,
    "start_time": "2023-01-27T13:35:25.761Z"
   },
   {
    "duration": 7,
    "start_time": "2023-01-27T13:36:38.373Z"
   },
   {
    "duration": 7,
    "start_time": "2023-01-27T13:36:52.035Z"
   },
   {
    "duration": 49,
    "start_time": "2023-01-27T13:37:13.984Z"
   },
   {
    "duration": 3,
    "start_time": "2023-01-27T13:37:18.625Z"
   },
   {
    "duration": 4,
    "start_time": "2023-01-27T13:37:23.869Z"
   },
   {
    "duration": 7,
    "start_time": "2023-01-27T13:38:27.720Z"
   },
   {
    "duration": 7,
    "start_time": "2023-01-27T13:38:38.536Z"
   },
   {
    "duration": 11,
    "start_time": "2023-01-27T13:39:32.770Z"
   },
   {
    "duration": 10,
    "start_time": "2023-01-27T15:12:33.877Z"
   },
   {
    "duration": 10,
    "start_time": "2023-01-27T15:12:40.827Z"
   },
   {
    "duration": 15,
    "start_time": "2023-01-27T15:13:50.312Z"
   },
   {
    "duration": 15,
    "start_time": "2023-01-27T15:21:23.081Z"
   },
   {
    "duration": 12,
    "start_time": "2023-01-27T15:43:55.984Z"
   },
   {
    "duration": 12,
    "start_time": "2023-01-27T15:44:32.798Z"
   },
   {
    "duration": 527,
    "start_time": "2023-01-28T08:19:39.957Z"
   },
   {
    "duration": 21,
    "start_time": "2023-01-28T08:19:40.486Z"
   },
   {
    "duration": 16,
    "start_time": "2023-01-28T08:19:40.509Z"
   },
   {
    "duration": 21,
    "start_time": "2023-01-28T08:19:40.527Z"
   },
   {
    "duration": 35,
    "start_time": "2023-01-28T08:19:40.551Z"
   },
   {
    "duration": 3,
    "start_time": "2023-01-28T08:19:40.588Z"
   },
   {
    "duration": 11,
    "start_time": "2023-01-28T08:19:40.593Z"
   },
   {
    "duration": 4,
    "start_time": "2023-01-28T08:19:40.605Z"
   },
   {
    "duration": 31,
    "start_time": "2023-01-28T08:19:40.611Z"
   },
   {
    "duration": 12,
    "start_time": "2023-01-28T08:19:40.644Z"
   },
   {
    "duration": 48,
    "start_time": "2023-01-28T08:19:40.657Z"
   },
   {
    "duration": 10,
    "start_time": "2023-01-28T08:19:40.706Z"
   },
   {
    "duration": 3,
    "start_time": "2023-01-28T08:19:40.718Z"
   },
   {
    "duration": 24,
    "start_time": "2023-01-28T08:19:40.724Z"
   },
   {
    "duration": 27,
    "start_time": "2023-01-28T08:19:40.750Z"
   },
   {
    "duration": 18,
    "start_time": "2023-01-28T08:19:40.779Z"
   },
   {
    "duration": 3,
    "start_time": "2023-01-28T08:19:40.799Z"
   },
   {
    "duration": 14,
    "start_time": "2023-01-28T08:19:40.804Z"
   },
   {
    "duration": 25,
    "start_time": "2023-01-28T08:19:40.820Z"
   },
   {
    "duration": 4,
    "start_time": "2023-01-28T08:19:40.847Z"
   },
   {
    "duration": 498,
    "start_time": "2023-01-28T09:10:58.882Z"
   },
   {
    "duration": 26,
    "start_time": "2023-01-28T09:10:59.383Z"
   },
   {
    "duration": 29,
    "start_time": "2023-01-28T09:10:59.412Z"
   },
   {
    "duration": 12,
    "start_time": "2023-01-28T09:10:59.443Z"
   },
   {
    "duration": 51,
    "start_time": "2023-01-28T09:10:59.457Z"
   },
   {
    "duration": 30,
    "start_time": "2023-01-28T09:10:59.510Z"
   },
   {
    "duration": 18,
    "start_time": "2023-01-28T09:10:59.542Z"
   },
   {
    "duration": 7,
    "start_time": "2023-01-28T09:10:59.562Z"
   },
   {
    "duration": 10,
    "start_time": "2023-01-28T09:10:59.571Z"
   },
   {
    "duration": 23,
    "start_time": "2023-01-28T09:10:59.583Z"
   },
   {
    "duration": 47,
    "start_time": "2023-01-28T09:10:59.608Z"
   },
   {
    "duration": 12,
    "start_time": "2023-01-28T09:10:59.657Z"
   },
   {
    "duration": 5,
    "start_time": "2023-01-28T09:10:59.672Z"
   },
   {
    "duration": 14,
    "start_time": "2023-01-28T09:10:59.679Z"
   },
   {
    "duration": 46,
    "start_time": "2023-01-28T09:10:59.695Z"
   },
   {
    "duration": 20,
    "start_time": "2023-01-28T09:10:59.743Z"
   },
   {
    "duration": 3,
    "start_time": "2023-01-28T09:10:59.765Z"
   },
   {
    "duration": 13,
    "start_time": "2023-01-28T09:10:59.770Z"
   },
   {
    "duration": 8,
    "start_time": "2023-01-28T09:10:59.784Z"
   },
   {
    "duration": 5,
    "start_time": "2023-01-28T09:10:59.793Z"
   },
   {
    "duration": 3,
    "start_time": "2023-01-28T09:11:12.225Z"
   },
   {
    "duration": 9,
    "start_time": "2023-01-28T09:11:12.945Z"
   },
   {
    "duration": 11,
    "start_time": "2023-01-28T09:11:15.748Z"
   },
   {
    "duration": 10,
    "start_time": "2023-01-28T09:16:04.988Z"
   },
   {
    "duration": 12,
    "start_time": "2023-01-28T09:16:57.323Z"
   },
   {
    "duration": 12,
    "start_time": "2023-01-28T09:33:15.198Z"
   },
   {
    "duration": 10,
    "start_time": "2023-01-28T09:40:47.846Z"
   },
   {
    "duration": 502,
    "start_time": "2023-01-28T11:23:32.028Z"
   },
   {
    "duration": 23,
    "start_time": "2023-01-28T11:23:32.532Z"
   },
   {
    "duration": 17,
    "start_time": "2023-01-28T11:23:32.557Z"
   },
   {
    "duration": 12,
    "start_time": "2023-01-28T11:23:32.576Z"
   },
   {
    "duration": 64,
    "start_time": "2023-01-28T11:23:32.591Z"
   },
   {
    "duration": 4,
    "start_time": "2023-01-28T11:23:32.657Z"
   },
   {
    "duration": 11,
    "start_time": "2023-01-28T11:23:32.662Z"
   },
   {
    "duration": 4,
    "start_time": "2023-01-28T11:23:32.675Z"
   },
   {
    "duration": 11,
    "start_time": "2023-01-28T11:23:32.681Z"
   },
   {
    "duration": 4,
    "start_time": "2023-01-28T11:23:32.693Z"
   },
   {
    "duration": 58,
    "start_time": "2023-01-28T11:23:32.698Z"
   },
   {
    "duration": 11,
    "start_time": "2023-01-28T11:23:32.757Z"
   },
   {
    "duration": 8,
    "start_time": "2023-01-28T11:23:32.769Z"
   },
   {
    "duration": 17,
    "start_time": "2023-01-28T11:23:32.780Z"
   },
   {
    "duration": 22,
    "start_time": "2023-01-28T11:23:32.799Z"
   },
   {
    "duration": 19,
    "start_time": "2023-01-28T11:23:32.839Z"
   },
   {
    "duration": 3,
    "start_time": "2023-01-28T11:23:32.860Z"
   },
   {
    "duration": 12,
    "start_time": "2023-01-28T11:23:32.865Z"
   },
   {
    "duration": 5,
    "start_time": "2023-01-28T11:23:32.879Z"
   },
   {
    "duration": 3,
    "start_time": "2023-01-28T11:23:32.886Z"
   },
   {
    "duration": 3,
    "start_time": "2023-01-28T11:23:49.745Z"
   },
   {
    "duration": 10,
    "start_time": "2023-01-28T11:23:50.434Z"
   },
   {
    "duration": 12,
    "start_time": "2023-01-28T11:23:52.941Z"
   },
   {
    "duration": 20,
    "start_time": "2023-01-28T11:23:55.128Z"
   },
   {
    "duration": 16,
    "start_time": "2023-01-28T11:23:57.103Z"
   },
   {
    "duration": 17,
    "start_time": "2023-01-28T11:26:16.899Z"
   },
   {
    "duration": 77,
    "start_time": "2023-01-28T14:36:07.183Z"
   },
   {
    "duration": 16,
    "start_time": "2023-01-28T14:36:07.262Z"
   },
   {
    "duration": 29,
    "start_time": "2023-01-28T14:36:07.279Z"
   },
   {
    "duration": 37,
    "start_time": "2023-01-28T14:36:07.310Z"
   },
   {
    "duration": 74,
    "start_time": "2023-01-28T14:36:07.350Z"
   },
   {
    "duration": 4,
    "start_time": "2023-01-28T14:36:07.426Z"
   },
   {
    "duration": 40,
    "start_time": "2023-01-28T14:36:07.432Z"
   },
   {
    "duration": 13,
    "start_time": "2023-01-28T14:36:07.474Z"
   },
   {
    "duration": 18,
    "start_time": "2023-01-28T14:36:07.489Z"
   },
   {
    "duration": 14,
    "start_time": "2023-01-28T14:36:07.509Z"
   },
   {
    "duration": 57,
    "start_time": "2023-01-28T14:36:07.524Z"
   },
   {
    "duration": 12,
    "start_time": "2023-01-28T14:36:07.583Z"
   },
   {
    "duration": 21,
    "start_time": "2023-01-28T14:36:07.597Z"
   },
   {
    "duration": 38,
    "start_time": "2023-01-28T14:36:07.621Z"
   },
   {
    "duration": 40,
    "start_time": "2023-01-28T14:36:07.661Z"
   },
   {
    "duration": 31,
    "start_time": "2023-01-28T14:36:07.703Z"
   },
   {
    "duration": 7,
    "start_time": "2023-01-28T14:36:07.737Z"
   },
   {
    "duration": 33,
    "start_time": "2023-01-28T14:36:07.746Z"
   },
   {
    "duration": 44,
    "start_time": "2023-01-28T14:36:07.781Z"
   },
   {
    "duration": 24,
    "start_time": "2023-01-28T14:36:07.827Z"
   },
   {
    "duration": 73,
    "start_time": "2023-01-28T14:36:07.854Z"
   },
   {
    "duration": 48,
    "start_time": "2023-01-28T14:36:07.929Z"
   },
   {
    "duration": 33,
    "start_time": "2023-01-28T14:36:07.980Z"
   },
   {
    "duration": 21,
    "start_time": "2023-01-28T14:36:08.015Z"
   },
   {
    "duration": 26,
    "start_time": "2023-01-28T14:36:08.037Z"
   },
   {
    "duration": 15,
    "start_time": "2023-01-28T14:36:19.603Z"
   },
   {
    "duration": 504,
    "start_time": "2023-01-28T14:37:07.957Z"
   },
   {
    "duration": 26,
    "start_time": "2023-01-28T14:37:08.463Z"
   },
   {
    "duration": 29,
    "start_time": "2023-01-28T14:37:08.491Z"
   },
   {
    "duration": 24,
    "start_time": "2023-01-28T14:37:08.521Z"
   },
   {
    "duration": 59,
    "start_time": "2023-01-28T14:37:08.548Z"
   },
   {
    "duration": 11,
    "start_time": "2023-01-28T14:37:08.609Z"
   },
   {
    "duration": 22,
    "start_time": "2023-01-28T14:37:08.622Z"
   },
   {
    "duration": 19,
    "start_time": "2023-01-28T14:37:08.646Z"
   },
   {
    "duration": 25,
    "start_time": "2023-01-28T14:37:08.667Z"
   },
   {
    "duration": 18,
    "start_time": "2023-01-28T14:37:08.693Z"
   },
   {
    "duration": 61,
    "start_time": "2023-01-28T14:37:08.713Z"
   },
   {
    "duration": 14,
    "start_time": "2023-01-28T14:37:08.776Z"
   },
   {
    "duration": 108,
    "start_time": "2023-01-28T14:37:08.793Z"
   },
   {
    "duration": 0,
    "start_time": "2023-01-28T14:37:08.904Z"
   },
   {
    "duration": 0,
    "start_time": "2023-01-28T14:37:08.906Z"
   },
   {
    "duration": 0,
    "start_time": "2023-01-28T14:37:08.907Z"
   },
   {
    "duration": 0,
    "start_time": "2023-01-28T14:37:08.909Z"
   },
   {
    "duration": 0,
    "start_time": "2023-01-28T14:37:08.910Z"
   },
   {
    "duration": 0,
    "start_time": "2023-01-28T14:37:08.912Z"
   },
   {
    "duration": 0,
    "start_time": "2023-01-28T14:37:08.914Z"
   },
   {
    "duration": 0,
    "start_time": "2023-01-28T14:37:08.915Z"
   },
   {
    "duration": 0,
    "start_time": "2023-01-28T14:37:08.917Z"
   },
   {
    "duration": 0,
    "start_time": "2023-01-28T14:37:08.947Z"
   },
   {
    "duration": 0,
    "start_time": "2023-01-28T14:37:08.948Z"
   },
   {
    "duration": 18,
    "start_time": "2023-01-28T14:37:13.964Z"
   },
   {
    "duration": 11,
    "start_time": "2023-01-28T14:37:22.380Z"
   },
   {
    "duration": 14,
    "start_time": "2023-01-28T14:37:49.130Z"
   },
   {
    "duration": 5,
    "start_time": "2023-01-28T14:38:53.570Z"
   },
   {
    "duration": 12,
    "start_time": "2023-01-28T14:38:54.930Z"
   },
   {
    "duration": 14,
    "start_time": "2023-01-28T14:38:56.434Z"
   },
   {
    "duration": 18,
    "start_time": "2023-01-28T14:38:58.433Z"
   },
   {
    "duration": 13,
    "start_time": "2023-01-28T14:39:00.149Z"
   },
   {
    "duration": 20,
    "start_time": "2023-01-28T14:39:09.387Z"
   },
   {
    "duration": 23,
    "start_time": "2023-01-28T14:39:16.942Z"
   },
   {
    "duration": 5,
    "start_time": "2023-01-28T14:39:49.395Z"
   },
   {
    "duration": 23,
    "start_time": "2023-01-28T14:39:50.542Z"
   },
   {
    "duration": 6,
    "start_time": "2023-01-28T14:39:51.358Z"
   },
   {
    "duration": 4,
    "start_time": "2023-01-28T14:39:52.733Z"
   },
   {
    "duration": 10,
    "start_time": "2023-01-28T14:39:53.270Z"
   },
   {
    "duration": 17,
    "start_time": "2023-01-28T14:39:55.619Z"
   },
   {
    "duration": 23,
    "start_time": "2023-01-28T14:39:58.081Z"
   },
   {
    "duration": 19,
    "start_time": "2023-01-28T14:40:01.559Z"
   },
   {
    "duration": 5,
    "start_time": "2023-01-28T14:40:40.687Z"
   },
   {
    "duration": 9,
    "start_time": "2023-01-28T14:40:41.052Z"
   },
   {
    "duration": 13,
    "start_time": "2023-01-28T14:40:42.353Z"
   },
   {
    "duration": 23,
    "start_time": "2023-01-28T14:40:43.757Z"
   },
   {
    "duration": 19,
    "start_time": "2023-01-28T14:40:45.261Z"
   },
   {
    "duration": 516,
    "start_time": "2023-01-28T14:41:07.241Z"
   },
   {
    "duration": 24,
    "start_time": "2023-01-28T14:41:07.760Z"
   },
   {
    "duration": 24,
    "start_time": "2023-01-28T14:41:07.786Z"
   },
   {
    "duration": 16,
    "start_time": "2023-01-28T14:41:07.812Z"
   },
   {
    "duration": 3,
    "start_time": "2023-01-28T14:41:07.841Z"
   },
   {
    "duration": 24,
    "start_time": "2023-01-28T14:41:07.846Z"
   },
   {
    "duration": 17,
    "start_time": "2023-01-28T14:41:07.873Z"
   },
   {
    "duration": 5,
    "start_time": "2023-01-28T14:41:07.893Z"
   },
   {
    "duration": 25,
    "start_time": "2023-01-28T14:41:07.900Z"
   },
   {
    "duration": 7,
    "start_time": "2023-01-28T14:41:07.929Z"
   },
   {
    "duration": 71,
    "start_time": "2023-01-28T14:41:07.938Z"
   },
   {
    "duration": 12,
    "start_time": "2023-01-28T14:41:08.012Z"
   },
   {
    "duration": 76,
    "start_time": "2023-01-28T14:41:08.026Z"
   },
   {
    "duration": 0,
    "start_time": "2023-01-28T14:41:08.105Z"
   },
   {
    "duration": 0,
    "start_time": "2023-01-28T14:41:08.106Z"
   },
   {
    "duration": 0,
    "start_time": "2023-01-28T14:41:08.107Z"
   },
   {
    "duration": 0,
    "start_time": "2023-01-28T14:41:08.109Z"
   },
   {
    "duration": 0,
    "start_time": "2023-01-28T14:41:08.110Z"
   },
   {
    "duration": 0,
    "start_time": "2023-01-28T14:41:08.111Z"
   },
   {
    "duration": 0,
    "start_time": "2023-01-28T14:41:08.112Z"
   },
   {
    "duration": 0,
    "start_time": "2023-01-28T14:41:08.114Z"
   },
   {
    "duration": 0,
    "start_time": "2023-01-28T14:41:08.115Z"
   },
   {
    "duration": 0,
    "start_time": "2023-01-28T14:41:08.116Z"
   },
   {
    "duration": 0,
    "start_time": "2023-01-28T14:41:08.117Z"
   },
   {
    "duration": 19,
    "start_time": "2023-01-28T14:41:28.422Z"
   },
   {
    "duration": 488,
    "start_time": "2023-01-28T14:41:40.782Z"
   },
   {
    "duration": 25,
    "start_time": "2023-01-28T14:41:41.273Z"
   },
   {
    "duration": 42,
    "start_time": "2023-01-28T14:41:41.301Z"
   },
   {
    "duration": 12,
    "start_time": "2023-01-28T14:41:41.345Z"
   },
   {
    "duration": 6,
    "start_time": "2023-01-28T14:41:41.359Z"
   },
   {
    "duration": 8,
    "start_time": "2023-01-28T14:41:41.367Z"
   },
   {
    "duration": 10,
    "start_time": "2023-01-28T14:41:41.377Z"
   },
   {
    "duration": 5,
    "start_time": "2023-01-28T14:41:41.389Z"
   },
   {
    "duration": 11,
    "start_time": "2023-01-28T14:41:41.395Z"
   },
   {
    "duration": 38,
    "start_time": "2023-01-28T14:41:41.407Z"
   },
   {
    "duration": 39,
    "start_time": "2023-01-28T14:41:41.447Z"
   },
   {
    "duration": 10,
    "start_time": "2023-01-28T14:41:41.488Z"
   },
   {
    "duration": 90,
    "start_time": "2023-01-28T14:41:41.500Z"
   },
   {
    "duration": 0,
    "start_time": "2023-01-28T14:41:41.592Z"
   },
   {
    "duration": 0,
    "start_time": "2023-01-28T14:41:41.593Z"
   },
   {
    "duration": 0,
    "start_time": "2023-01-28T14:41:41.594Z"
   },
   {
    "duration": 0,
    "start_time": "2023-01-28T14:41:41.595Z"
   },
   {
    "duration": 0,
    "start_time": "2023-01-28T14:41:41.596Z"
   },
   {
    "duration": 0,
    "start_time": "2023-01-28T14:41:41.597Z"
   },
   {
    "duration": 0,
    "start_time": "2023-01-28T14:41:41.598Z"
   },
   {
    "duration": 0,
    "start_time": "2023-01-28T14:41:41.600Z"
   },
   {
    "duration": 0,
    "start_time": "2023-01-28T14:41:41.601Z"
   },
   {
    "duration": 1,
    "start_time": "2023-01-28T14:41:41.602Z"
   },
   {
    "duration": 0,
    "start_time": "2023-01-28T14:41:41.604Z"
   },
   {
    "duration": 0,
    "start_time": "2023-01-28T14:41:41.606Z"
   },
   {
    "duration": 485,
    "start_time": "2023-01-28T14:43:11.678Z"
   },
   {
    "duration": 23,
    "start_time": "2023-01-28T14:43:12.165Z"
   },
   {
    "duration": 16,
    "start_time": "2023-01-28T14:43:12.190Z"
   },
   {
    "duration": 11,
    "start_time": "2023-01-28T14:43:12.208Z"
   },
   {
    "duration": 3,
    "start_time": "2023-01-28T14:43:12.240Z"
   },
   {
    "duration": 9,
    "start_time": "2023-01-28T14:43:12.245Z"
   },
   {
    "duration": 14,
    "start_time": "2023-01-28T14:43:12.255Z"
   },
   {
    "duration": 6,
    "start_time": "2023-01-28T14:43:12.271Z"
   },
   {
    "duration": 31,
    "start_time": "2023-01-28T14:43:12.278Z"
   },
   {
    "duration": 5,
    "start_time": "2023-01-28T14:43:12.313Z"
   },
   {
    "duration": 44,
    "start_time": "2023-01-28T14:43:12.320Z"
   },
   {
    "duration": 12,
    "start_time": "2023-01-28T14:43:12.366Z"
   },
   {
    "duration": 13,
    "start_time": "2023-01-28T14:43:12.379Z"
   },
   {
    "duration": 15,
    "start_time": "2023-01-28T14:43:12.393Z"
   },
   {
    "duration": 32,
    "start_time": "2023-01-28T14:43:12.410Z"
   },
   {
    "duration": 18,
    "start_time": "2023-01-28T14:43:12.445Z"
   },
   {
    "duration": 4,
    "start_time": "2023-01-28T14:43:12.465Z"
   },
   {
    "duration": 18,
    "start_time": "2023-01-28T14:43:12.470Z"
   },
   {
    "duration": 6,
    "start_time": "2023-01-28T14:43:12.489Z"
   },
   {
    "duration": 4,
    "start_time": "2023-01-28T14:43:12.497Z"
   },
   {
    "duration": 40,
    "start_time": "2023-01-28T14:43:12.503Z"
   },
   {
    "duration": 16,
    "start_time": "2023-01-28T14:43:12.544Z"
   },
   {
    "duration": 14,
    "start_time": "2023-01-28T14:43:12.562Z"
   },
   {
    "duration": 13,
    "start_time": "2023-01-28T14:43:12.577Z"
   },
   {
    "duration": 15,
    "start_time": "2023-01-28T14:43:12.592Z"
   },
   {
    "duration": 52,
    "start_time": "2023-01-28T17:48:34.769Z"
   },
   {
    "duration": 484,
    "start_time": "2023-01-28T17:48:43.655Z"
   },
   {
    "duration": 26,
    "start_time": "2023-01-28T17:48:44.141Z"
   },
   {
    "duration": 21,
    "start_time": "2023-01-28T17:48:44.170Z"
   },
   {
    "duration": 12,
    "start_time": "2023-01-28T17:48:44.194Z"
   },
   {
    "duration": 71,
    "start_time": "2023-01-28T17:48:44.208Z"
   },
   {
    "duration": 4,
    "start_time": "2023-01-28T17:48:44.281Z"
   },
   {
    "duration": 13,
    "start_time": "2023-01-28T17:48:44.286Z"
   },
   {
    "duration": 4,
    "start_time": "2023-01-28T17:48:44.301Z"
   },
   {
    "duration": 8,
    "start_time": "2023-01-28T17:48:44.307Z"
   },
   {
    "duration": 6,
    "start_time": "2023-01-28T17:48:44.340Z"
   },
   {
    "duration": 39,
    "start_time": "2023-01-28T17:48:44.348Z"
   },
   {
    "duration": 11,
    "start_time": "2023-01-28T17:48:44.388Z"
   },
   {
    "duration": 7,
    "start_time": "2023-01-28T17:48:44.400Z"
   },
   {
    "duration": 35,
    "start_time": "2023-01-28T17:48:44.408Z"
   },
   {
    "duration": 31,
    "start_time": "2023-01-28T17:48:44.445Z"
   },
   {
    "duration": 26,
    "start_time": "2023-01-28T17:48:44.478Z"
   },
   {
    "duration": 4,
    "start_time": "2023-01-28T17:48:44.506Z"
   },
   {
    "duration": 28,
    "start_time": "2023-01-28T17:48:44.512Z"
   },
   {
    "duration": 6,
    "start_time": "2023-01-28T17:48:44.542Z"
   },
   {
    "duration": 10,
    "start_time": "2023-01-28T17:48:44.550Z"
   },
   {
    "duration": 12,
    "start_time": "2023-01-28T17:48:44.561Z"
   },
   {
    "duration": 15,
    "start_time": "2023-01-28T17:48:44.575Z"
   },
   {
    "duration": 15,
    "start_time": "2023-01-28T17:48:44.592Z"
   },
   {
    "duration": 38,
    "start_time": "2023-01-28T17:48:44.608Z"
   },
   {
    "duration": 18,
    "start_time": "2023-01-28T17:48:44.648Z"
   },
   {
    "duration": 413,
    "start_time": "2023-01-29T18:26:30.939Z"
   },
   {
    "duration": 20,
    "start_time": "2023-01-29T18:26:31.354Z"
   },
   {
    "duration": 13,
    "start_time": "2023-01-29T18:26:31.375Z"
   },
   {
    "duration": 15,
    "start_time": "2023-01-29T18:26:31.390Z"
   },
   {
    "duration": 33,
    "start_time": "2023-01-29T18:26:31.407Z"
   },
   {
    "duration": 3,
    "start_time": "2023-01-29T18:26:31.441Z"
   },
   {
    "duration": 17,
    "start_time": "2023-01-29T18:26:31.445Z"
   },
   {
    "duration": 5,
    "start_time": "2023-01-29T18:26:31.464Z"
   },
   {
    "duration": 23,
    "start_time": "2023-01-29T18:26:31.470Z"
   },
   {
    "duration": 19,
    "start_time": "2023-01-29T18:26:31.497Z"
   },
   {
    "duration": 38,
    "start_time": "2023-01-29T18:26:31.517Z"
   },
   {
    "duration": 9,
    "start_time": "2023-01-29T18:26:31.556Z"
   },
   {
    "duration": 15,
    "start_time": "2023-01-29T18:26:31.566Z"
   },
   {
    "duration": 14,
    "start_time": "2023-01-29T18:26:31.583Z"
   },
   {
    "duration": 17,
    "start_time": "2023-01-29T18:26:31.598Z"
   },
   {
    "duration": 15,
    "start_time": "2023-01-29T18:26:31.616Z"
   },
   {
    "duration": 3,
    "start_time": "2023-01-29T18:26:31.633Z"
   },
   {
    "duration": 12,
    "start_time": "2023-01-29T18:26:31.637Z"
   },
   {
    "duration": 9,
    "start_time": "2023-01-29T18:26:31.650Z"
   },
   {
    "duration": 10,
    "start_time": "2023-01-29T18:26:31.661Z"
   },
   {
    "duration": 32,
    "start_time": "2023-01-29T18:26:31.672Z"
   },
   {
    "duration": 8,
    "start_time": "2023-01-29T18:26:31.706Z"
   },
   {
    "duration": 35,
    "start_time": "2023-01-29T18:26:31.716Z"
   },
   {
    "duration": 40,
    "start_time": "2023-01-29T18:26:31.752Z"
   },
   {
    "duration": 13,
    "start_time": "2023-01-29T18:26:31.793Z"
   },
   {
    "duration": 570,
    "start_time": "2023-01-30T07:28:16.243Z"
   },
   {
    "duration": 23,
    "start_time": "2023-01-30T07:28:17.651Z"
   },
   {
    "duration": 17,
    "start_time": "2023-01-30T07:28:19.636Z"
   },
   {
    "duration": 11,
    "start_time": "2023-01-30T07:28:22.597Z"
   },
   {
    "duration": 36,
    "start_time": "2023-01-30T07:28:24.503Z"
   },
   {
    "duration": 4,
    "start_time": "2023-01-30T07:28:30.143Z"
   },
   {
    "duration": 4,
    "start_time": "2023-01-30T07:28:37.528Z"
   },
   {
    "duration": 11,
    "start_time": "2023-01-30T07:28:38.811Z"
   },
   {
    "duration": 5,
    "start_time": "2023-01-30T07:28:41.903Z"
   },
   {
    "duration": 4,
    "start_time": "2023-01-30T07:31:08.453Z"
   },
   {
    "duration": 6,
    "start_time": "2023-01-30T07:31:09.911Z"
   },
   {
    "duration": 5,
    "start_time": "2023-01-30T07:31:11.620Z"
   },
   {
    "duration": 46,
    "start_time": "2023-01-30T07:31:18.864Z"
   },
   {
    "duration": 11,
    "start_time": "2023-01-30T07:31:20.819Z"
   },
   {
    "duration": 4,
    "start_time": "2023-01-30T07:31:23.495Z"
   },
   {
    "duration": 12,
    "start_time": "2023-01-30T07:31:26.318Z"
   },
   {
    "duration": 21,
    "start_time": "2023-01-30T07:31:27.924Z"
   },
   {
    "duration": 17,
    "start_time": "2023-01-30T07:31:28.753Z"
   },
   {
    "duration": 4,
    "start_time": "2023-01-30T07:31:31.501Z"
   },
   {
    "duration": 12,
    "start_time": "2023-01-30T07:31:32.240Z"
   },
   {
    "duration": 6,
    "start_time": "2023-01-30T07:31:34.108Z"
   },
   {
    "duration": 3,
    "start_time": "2023-01-30T07:31:35.878Z"
   },
   {
    "duration": 9,
    "start_time": "2023-01-30T07:31:36.808Z"
   },
   {
    "duration": 13,
    "start_time": "2023-01-30T07:31:45.129Z"
   },
   {
    "duration": 12,
    "start_time": "2023-01-30T07:54:49.805Z"
   },
   {
    "duration": 12,
    "start_time": "2023-01-30T07:55:05.806Z"
   },
   {
    "duration": 537,
    "start_time": "2023-01-30T07:55:32.031Z"
   },
   {
    "duration": 22,
    "start_time": "2023-01-30T07:55:32.570Z"
   },
   {
    "duration": 76,
    "start_time": "2023-01-30T07:55:32.594Z"
   },
   {
    "duration": 41,
    "start_time": "2023-01-30T07:55:32.671Z"
   },
   {
    "duration": 79,
    "start_time": "2023-01-30T07:55:32.714Z"
   },
   {
    "duration": 21,
    "start_time": "2023-01-30T07:55:32.794Z"
   },
   {
    "duration": 63,
    "start_time": "2023-01-30T07:55:32.817Z"
   },
   {
    "duration": 44,
    "start_time": "2023-01-30T07:55:32.881Z"
   },
   {
    "duration": 105,
    "start_time": "2023-01-30T07:55:32.927Z"
   },
   {
    "duration": 48,
    "start_time": "2023-01-30T07:55:33.034Z"
   },
   {
    "duration": 100,
    "start_time": "2023-01-30T07:55:33.084Z"
   },
   {
    "duration": 27,
    "start_time": "2023-01-30T07:55:33.186Z"
   },
   {
    "duration": 70,
    "start_time": "2023-01-30T07:55:33.215Z"
   },
   {
    "duration": 79,
    "start_time": "2023-01-30T07:55:33.288Z"
   },
   {
    "duration": 71,
    "start_time": "2023-01-30T07:55:33.369Z"
   },
   {
    "duration": 56,
    "start_time": "2023-01-30T07:55:33.447Z"
   },
   {
    "duration": 33,
    "start_time": "2023-01-30T07:55:33.505Z"
   },
   {
    "duration": 46,
    "start_time": "2023-01-30T07:55:33.539Z"
   },
   {
    "duration": 42,
    "start_time": "2023-01-30T07:55:33.587Z"
   },
   {
    "duration": 54,
    "start_time": "2023-01-30T07:55:33.631Z"
   },
   {
    "duration": 73,
    "start_time": "2023-01-30T07:55:33.687Z"
   },
   {
    "duration": 57,
    "start_time": "2023-01-30T07:55:33.762Z"
   },
   {
    "duration": 12,
    "start_time": "2023-01-30T07:58:48.571Z"
   },
   {
    "duration": 14,
    "start_time": "2023-01-30T07:58:55.594Z"
   },
   {
    "duration": 11,
    "start_time": "2023-01-30T07:59:04.961Z"
   },
   {
    "duration": 15,
    "start_time": "2023-01-30T07:59:17.649Z"
   },
   {
    "duration": 11,
    "start_time": "2023-01-30T07:59:30.570Z"
   },
   {
    "duration": 79,
    "start_time": "2023-01-30T07:59:44.799Z"
   },
   {
    "duration": 13,
    "start_time": "2023-01-30T07:59:56.981Z"
   },
   {
    "duration": 16,
    "start_time": "2023-01-30T08:00:41.108Z"
   },
   {
    "duration": 13,
    "start_time": "2023-01-30T08:00:47.582Z"
   },
   {
    "duration": 14,
    "start_time": "2023-01-30T08:07:14.167Z"
   },
   {
    "duration": 22,
    "start_time": "2023-01-30T08:08:38.810Z"
   },
   {
    "duration": 18,
    "start_time": "2023-01-30T08:11:53.564Z"
   },
   {
    "duration": 25,
    "start_time": "2023-01-30T08:12:20.546Z"
   },
   {
    "duration": 18,
    "start_time": "2023-01-30T08:12:39.408Z"
   },
   {
    "duration": 15,
    "start_time": "2023-01-30T08:12:55.272Z"
   },
   {
    "duration": 18,
    "start_time": "2023-01-30T08:15:31.800Z"
   },
   {
    "duration": 16,
    "start_time": "2023-01-30T08:15:38.552Z"
   },
   {
    "duration": 30,
    "start_time": "2023-01-30T08:20:13.024Z"
   },
   {
    "duration": 26,
    "start_time": "2023-01-30T08:21:02.130Z"
   },
   {
    "duration": 19,
    "start_time": "2023-01-30T08:21:28.746Z"
   },
   {
    "duration": 23,
    "start_time": "2023-01-30T08:21:57.385Z"
   },
   {
    "duration": 4,
    "start_time": "2023-01-30T08:22:08.786Z"
   },
   {
    "duration": 22,
    "start_time": "2023-01-30T08:22:14.214Z"
   },
   {
    "duration": 16,
    "start_time": "2023-01-30T08:22:47.753Z"
   },
   {
    "duration": 12,
    "start_time": "2023-01-30T08:24:50.904Z"
   },
   {
    "duration": 854,
    "start_time": "2023-01-30T08:38:12.238Z"
   },
   {
    "duration": 871,
    "start_time": "2023-01-30T08:38:39.813Z"
   },
   {
    "duration": 796,
    "start_time": "2023-01-30T08:38:50.730Z"
   },
   {
    "duration": 22,
    "start_time": "2023-01-30T08:39:04.671Z"
   },
   {
    "duration": 20,
    "start_time": "2023-01-30T08:39:51.479Z"
   },
   {
    "duration": 15,
    "start_time": "2023-01-30T08:43:24.005Z"
   },
   {
    "duration": 28,
    "start_time": "2023-01-30T08:44:25.530Z"
   },
   {
    "duration": 22,
    "start_time": "2023-01-30T08:44:37.509Z"
   },
   {
    "duration": 26,
    "start_time": "2023-01-30T08:48:42.902Z"
   },
   {
    "duration": 18,
    "start_time": "2023-01-30T08:49:17.355Z"
   },
   {
    "duration": 15,
    "start_time": "2023-01-30T08:51:16.844Z"
   },
   {
    "duration": 24,
    "start_time": "2023-01-30T08:52:00.145Z"
   },
   {
    "duration": 25,
    "start_time": "2023-01-30T08:52:12.682Z"
   },
   {
    "duration": 30,
    "start_time": "2023-01-30T08:52:34.190Z"
   },
   {
    "duration": 24,
    "start_time": "2023-01-30T08:52:50.978Z"
   },
   {
    "duration": 18,
    "start_time": "2023-01-30T08:53:08.181Z"
   },
   {
    "duration": 16,
    "start_time": "2023-01-30T08:55:28.652Z"
   },
   {
    "duration": 23,
    "start_time": "2023-01-30T08:55:56.390Z"
   },
   {
    "duration": 27,
    "start_time": "2023-01-30T08:56:07.711Z"
   },
   {
    "duration": 16,
    "start_time": "2023-01-30T08:56:44.726Z"
   },
   {
    "duration": 14,
    "start_time": "2023-01-30T09:08:22.811Z"
   },
   {
    "duration": 8,
    "start_time": "2023-01-30T09:09:31.159Z"
   },
   {
    "duration": 10,
    "start_time": "2023-01-30T09:10:09.648Z"
   },
   {
    "duration": 10,
    "start_time": "2023-01-30T09:10:27.345Z"
   },
   {
    "duration": 8,
    "start_time": "2023-01-30T09:11:45.736Z"
   },
   {
    "duration": 701,
    "start_time": "2023-01-30T09:12:23.653Z"
   },
   {
    "duration": 14,
    "start_time": "2023-01-30T09:12:45.132Z"
   },
   {
    "duration": 15,
    "start_time": "2023-01-30T09:12:58.581Z"
   },
   {
    "duration": 13,
    "start_time": "2023-01-30T09:13:12.446Z"
   },
   {
    "duration": 15,
    "start_time": "2023-01-30T09:13:16.311Z"
   },
   {
    "duration": 15,
    "start_time": "2023-01-30T09:13:21.756Z"
   },
   {
    "duration": 13,
    "start_time": "2023-01-30T09:13:54.795Z"
   },
   {
    "duration": 13,
    "start_time": "2023-01-30T09:14:09.965Z"
   },
   {
    "duration": 13,
    "start_time": "2023-01-30T09:14:20.359Z"
   },
   {
    "duration": 13,
    "start_time": "2023-01-30T09:14:34.393Z"
   },
   {
    "duration": 17,
    "start_time": "2023-01-30T09:19:20.086Z"
   },
   {
    "duration": 17,
    "start_time": "2023-01-30T09:19:34.634Z"
   },
   {
    "duration": 19,
    "start_time": "2023-01-30T09:19:47.171Z"
   },
   {
    "duration": 44,
    "start_time": "2023-01-31T14:35:56.047Z"
   },
   {
    "duration": 7,
    "start_time": "2023-01-31T16:20:30.244Z"
   },
   {
    "duration": 545,
    "start_time": "2023-01-31T16:20:36.464Z"
   },
   {
    "duration": 22,
    "start_time": "2023-01-31T16:20:37.012Z"
   },
   {
    "duration": 42,
    "start_time": "2023-01-31T16:20:37.036Z"
   },
   {
    "duration": 11,
    "start_time": "2023-01-31T16:20:37.080Z"
   },
   {
    "duration": 59,
    "start_time": "2023-01-31T16:20:37.093Z"
   },
   {
    "duration": 4,
    "start_time": "2023-01-31T16:20:37.154Z"
   },
   {
    "duration": 19,
    "start_time": "2023-01-31T16:20:37.160Z"
   },
   {
    "duration": 31,
    "start_time": "2023-01-31T16:20:37.182Z"
   },
   {
    "duration": 29,
    "start_time": "2023-01-31T16:20:37.215Z"
   },
   {
    "duration": 14,
    "start_time": "2023-01-31T16:20:37.247Z"
   },
   {
    "duration": 61,
    "start_time": "2023-01-31T16:20:37.263Z"
   },
   {
    "duration": 13,
    "start_time": "2023-01-31T16:20:37.326Z"
   },
   {
    "duration": 11,
    "start_time": "2023-01-31T16:20:37.341Z"
   },
   {
    "duration": 21,
    "start_time": "2023-01-31T16:20:37.354Z"
   },
   {
    "duration": 25,
    "start_time": "2023-01-31T16:20:37.377Z"
   },
   {
    "duration": 17,
    "start_time": "2023-01-31T16:20:37.403Z"
   },
   {
    "duration": 3,
    "start_time": "2023-01-31T16:20:37.422Z"
   },
   {
    "duration": 15,
    "start_time": "2023-01-31T16:20:37.427Z"
   },
   {
    "duration": 13,
    "start_time": "2023-01-31T16:20:37.443Z"
   },
   {
    "duration": 4,
    "start_time": "2023-01-31T16:20:37.457Z"
   },
   {
    "duration": 17,
    "start_time": "2023-01-31T16:20:37.462Z"
   },
   {
    "duration": 25,
    "start_time": "2023-01-31T16:20:37.481Z"
   },
   {
    "duration": 17,
    "start_time": "2023-01-31T16:20:37.507Z"
   },
   {
    "duration": 16,
    "start_time": "2023-01-31T16:20:37.525Z"
   },
   {
    "duration": 14,
    "start_time": "2023-01-31T16:20:37.543Z"
   },
   {
    "duration": 47,
    "start_time": "2023-01-31T16:20:37.560Z"
   },
   {
    "duration": 14,
    "start_time": "2023-01-31T16:20:49.092Z"
   },
   {
    "duration": 817,
    "start_time": "2023-02-01T05:44:26.156Z"
   },
   {
    "duration": 35,
    "start_time": "2023-02-01T05:44:26.976Z"
   },
   {
    "duration": 20,
    "start_time": "2023-02-01T05:44:27.013Z"
   },
   {
    "duration": 15,
    "start_time": "2023-02-01T05:44:27.036Z"
   },
   {
    "duration": 68,
    "start_time": "2023-02-01T05:44:27.053Z"
   },
   {
    "duration": 4,
    "start_time": "2023-02-01T05:44:27.123Z"
   },
   {
    "duration": 10,
    "start_time": "2023-02-01T05:44:27.129Z"
   },
   {
    "duration": 4,
    "start_time": "2023-02-01T05:44:27.140Z"
   },
   {
    "duration": 11,
    "start_time": "2023-02-01T05:44:27.146Z"
   },
   {
    "duration": 4,
    "start_time": "2023-02-01T05:44:27.183Z"
   },
   {
    "duration": 34,
    "start_time": "2023-02-01T05:44:27.188Z"
   },
   {
    "duration": 10,
    "start_time": "2023-02-01T05:44:27.224Z"
   },
   {
    "duration": 6,
    "start_time": "2023-02-01T05:44:27.236Z"
   },
   {
    "duration": 42,
    "start_time": "2023-02-01T05:44:27.244Z"
   },
   {
    "duration": 20,
    "start_time": "2023-02-01T05:44:27.288Z"
   },
   {
    "duration": 16,
    "start_time": "2023-02-01T05:44:27.310Z"
   },
   {
    "duration": 4,
    "start_time": "2023-02-01T05:44:27.327Z"
   },
   {
    "duration": 48,
    "start_time": "2023-02-01T05:44:27.333Z"
   },
   {
    "duration": 8,
    "start_time": "2023-02-01T05:44:27.384Z"
   },
   {
    "duration": 4,
    "start_time": "2023-02-01T05:44:27.394Z"
   },
   {
    "duration": 20,
    "start_time": "2023-02-01T05:44:27.400Z"
   },
   {
    "duration": 21,
    "start_time": "2023-02-01T05:44:27.422Z"
   },
   {
    "duration": 16,
    "start_time": "2023-02-01T05:44:27.445Z"
   },
   {
    "duration": 40,
    "start_time": "2023-02-01T05:44:27.463Z"
   },
   {
    "duration": 16,
    "start_time": "2023-02-01T05:44:27.505Z"
   },
   {
    "duration": 20,
    "start_time": "2023-02-01T05:44:27.523Z"
   },
   {
    "duration": 73,
    "start_time": "2023-02-01T06:06:29.832Z"
   },
   {
    "duration": 722,
    "start_time": "2023-02-01T18:17:21.317Z"
   },
   {
    "duration": 23,
    "start_time": "2023-02-01T18:17:22.041Z"
   },
   {
    "duration": 24,
    "start_time": "2023-02-01T18:17:22.065Z"
   },
   {
    "duration": 10,
    "start_time": "2023-02-01T18:17:22.092Z"
   },
   {
    "duration": 48,
    "start_time": "2023-02-01T18:17:22.104Z"
   },
   {
    "duration": 4,
    "start_time": "2023-02-01T18:17:22.154Z"
   },
   {
    "duration": 13,
    "start_time": "2023-02-01T18:17:22.159Z"
   },
   {
    "duration": 20,
    "start_time": "2023-02-01T18:17:22.174Z"
   },
   {
    "duration": 12,
    "start_time": "2023-02-01T18:17:22.196Z"
   },
   {
    "duration": 25,
    "start_time": "2023-02-01T18:17:22.212Z"
   },
   {
    "duration": 63,
    "start_time": "2023-02-01T18:17:22.239Z"
   },
   {
    "duration": 11,
    "start_time": "2023-02-01T18:17:22.304Z"
   },
   {
    "duration": 5,
    "start_time": "2023-02-01T18:17:22.316Z"
   },
   {
    "duration": 15,
    "start_time": "2023-02-01T18:17:22.322Z"
   },
   {
    "duration": 26,
    "start_time": "2023-02-01T18:17:22.338Z"
   },
   {
    "duration": 16,
    "start_time": "2023-02-01T18:17:22.366Z"
   },
   {
    "duration": 3,
    "start_time": "2023-02-01T18:17:22.384Z"
   },
   {
    "duration": 12,
    "start_time": "2023-02-01T18:17:22.389Z"
   },
   {
    "duration": 14,
    "start_time": "2023-02-01T18:17:22.403Z"
   },
   {
    "duration": 10,
    "start_time": "2023-02-01T18:17:22.419Z"
   },
   {
    "duration": 21,
    "start_time": "2023-02-01T18:17:22.431Z"
   },
   {
    "duration": 23,
    "start_time": "2023-02-01T18:17:22.454Z"
   },
   {
    "duration": 21,
    "start_time": "2023-02-01T18:17:22.479Z"
   },
   {
    "duration": 14,
    "start_time": "2023-02-01T18:17:22.502Z"
   },
   {
    "duration": 32,
    "start_time": "2023-02-01T18:17:22.517Z"
   },
   {
    "duration": 16,
    "start_time": "2023-02-01T18:17:22.550Z"
   },
   {
    "duration": 15,
    "start_time": "2023-02-01T18:18:21.988Z"
   },
   {
    "duration": 93,
    "start_time": "2023-02-01T18:19:30.925Z"
   },
   {
    "duration": 15,
    "start_time": "2023-02-01T18:19:36.555Z"
   },
   {
    "duration": 11,
    "start_time": "2023-02-01T18:20:00.428Z"
   },
   {
    "duration": 582,
    "start_time": "2023-02-01T19:33:34.628Z"
   },
   {
    "duration": 34,
    "start_time": "2023-02-01T19:33:35.212Z"
   },
   {
    "duration": 22,
    "start_time": "2023-02-01T19:33:35.248Z"
   },
   {
    "duration": 36,
    "start_time": "2023-02-01T19:33:35.273Z"
   },
   {
    "duration": 42,
    "start_time": "2023-02-01T19:33:35.313Z"
   },
   {
    "duration": 4,
    "start_time": "2023-02-01T19:33:35.358Z"
   },
   {
    "duration": 52,
    "start_time": "2023-02-01T19:33:35.364Z"
   },
   {
    "duration": 90,
    "start_time": "2023-02-01T19:33:35.419Z"
   },
   {
    "duration": 13,
    "start_time": "2023-02-01T19:33:35.511Z"
   },
   {
    "duration": 8,
    "start_time": "2023-02-01T19:33:35.527Z"
   },
   {
    "duration": 77,
    "start_time": "2023-02-01T19:33:35.537Z"
   },
   {
    "duration": 12,
    "start_time": "2023-02-01T19:33:35.616Z"
   },
   {
    "duration": 8,
    "start_time": "2023-02-01T19:33:35.631Z"
   },
   {
    "duration": 27,
    "start_time": "2023-02-01T19:33:35.648Z"
   },
   {
    "duration": 47,
    "start_time": "2023-02-01T19:33:35.678Z"
   },
   {
    "duration": 24,
    "start_time": "2023-02-01T19:33:35.727Z"
   },
   {
    "duration": 5,
    "start_time": "2023-02-01T19:33:35.754Z"
   },
   {
    "duration": 53,
    "start_time": "2023-02-01T19:33:35.761Z"
   },
   {
    "duration": 9,
    "start_time": "2023-02-01T19:33:35.816Z"
   },
   {
    "duration": 5,
    "start_time": "2023-02-01T19:33:35.831Z"
   },
   {
    "duration": 37,
    "start_time": "2023-02-01T19:33:35.838Z"
   },
   {
    "duration": 26,
    "start_time": "2023-02-01T19:33:35.885Z"
   },
   {
    "duration": 24,
    "start_time": "2023-02-01T19:33:35.913Z"
   },
   {
    "duration": 39,
    "start_time": "2023-02-01T19:33:35.939Z"
   },
   {
    "duration": 28,
    "start_time": "2023-02-01T19:33:35.984Z"
   },
   {
    "duration": 23,
    "start_time": "2023-02-01T19:33:36.014Z"
   },
   {
    "duration": 457,
    "start_time": "2023-02-02T08:16:09.690Z"
   },
   {
    "duration": 20,
    "start_time": "2023-02-02T08:16:10.148Z"
   },
   {
    "duration": 26,
    "start_time": "2023-02-02T08:16:10.169Z"
   },
   {
    "duration": 33,
    "start_time": "2023-02-02T08:16:10.196Z"
   },
   {
    "duration": 46,
    "start_time": "2023-02-02T08:16:10.231Z"
   },
   {
    "duration": 3,
    "start_time": "2023-02-02T08:16:10.279Z"
   },
   {
    "duration": 31,
    "start_time": "2023-02-02T08:16:10.283Z"
   },
   {
    "duration": 25,
    "start_time": "2023-02-02T08:16:10.315Z"
   },
   {
    "duration": 32,
    "start_time": "2023-02-02T08:16:10.341Z"
   },
   {
    "duration": 49,
    "start_time": "2023-02-02T08:16:10.375Z"
   },
   {
    "duration": 59,
    "start_time": "2023-02-02T08:16:10.425Z"
   },
   {
    "duration": 8,
    "start_time": "2023-02-02T08:16:10.486Z"
   },
   {
    "duration": 16,
    "start_time": "2023-02-02T08:16:10.495Z"
   },
   {
    "duration": 26,
    "start_time": "2023-02-02T08:16:10.513Z"
   },
   {
    "duration": 28,
    "start_time": "2023-02-02T08:16:10.540Z"
   },
   {
    "duration": 25,
    "start_time": "2023-02-02T08:16:10.569Z"
   },
   {
    "duration": 14,
    "start_time": "2023-02-02T08:16:10.596Z"
   },
   {
    "duration": 35,
    "start_time": "2023-02-02T08:16:10.611Z"
   },
   {
    "duration": 36,
    "start_time": "2023-02-02T08:16:10.648Z"
   },
   {
    "duration": 38,
    "start_time": "2023-02-02T08:16:10.685Z"
   },
   {
    "duration": 41,
    "start_time": "2023-02-02T08:16:10.724Z"
   },
   {
    "duration": 83,
    "start_time": "2023-02-02T08:16:10.766Z"
   },
   {
    "duration": 36,
    "start_time": "2023-02-02T08:16:10.851Z"
   },
   {
    "duration": 19,
    "start_time": "2023-02-02T08:16:10.889Z"
   },
   {
    "duration": 17,
    "start_time": "2023-02-02T08:16:10.909Z"
   },
   {
    "duration": 13,
    "start_time": "2023-02-02T08:16:10.927Z"
   },
   {
    "duration": 42,
    "start_time": "2023-02-02T08:19:56.889Z"
   },
   {
    "duration": 437,
    "start_time": "2023-02-02T08:20:05.236Z"
   },
   {
    "duration": 20,
    "start_time": "2023-02-02T08:20:05.675Z"
   },
   {
    "duration": 13,
    "start_time": "2023-02-02T08:20:05.696Z"
   },
   {
    "duration": 5,
    "start_time": "2023-02-02T08:20:10.394Z"
   },
   {
    "duration": 7,
    "start_time": "2023-02-02T08:20:20.947Z"
   },
   {
    "duration": 10,
    "start_time": "2023-02-02T08:20:25.682Z"
   },
   {
    "duration": 6,
    "start_time": "2023-02-02T08:20:37.090Z"
   },
   {
    "duration": 30,
    "start_time": "2023-02-02T08:21:03.694Z"
   },
   {
    "duration": 15,
    "start_time": "2023-02-02T08:22:02.707Z"
   },
   {
    "duration": 6,
    "start_time": "2023-02-02T08:22:13.407Z"
   },
   {
    "duration": 18,
    "start_time": "2023-02-02T08:22:19.208Z"
   },
   {
    "duration": 11,
    "start_time": "2023-02-02T08:25:04.889Z"
   },
   {
    "duration": 12,
    "start_time": "2023-02-02T08:27:18.822Z"
   },
   {
    "duration": 11,
    "start_time": "2023-02-02T08:27:41.610Z"
   },
   {
    "duration": 19,
    "start_time": "2023-02-02T08:27:49.976Z"
   },
   {
    "duration": 450,
    "start_time": "2023-02-02T08:28:19.808Z"
   },
   {
    "duration": 19,
    "start_time": "2023-02-02T08:28:20.260Z"
   },
   {
    "duration": 18,
    "start_time": "2023-02-02T08:28:20.281Z"
   },
   {
    "duration": 20,
    "start_time": "2023-02-02T08:28:22.893Z"
   },
   {
    "duration": 12,
    "start_time": "2023-02-02T08:28:26.752Z"
   },
   {
    "duration": 17,
    "start_time": "2023-02-02T08:28:30.829Z"
   },
   {
    "duration": 9,
    "start_time": "2023-02-02T08:28:40.420Z"
   },
   {
    "duration": 18,
    "start_time": "2023-02-02T08:28:45.366Z"
   },
   {
    "duration": 21,
    "start_time": "2023-02-02T08:28:56.228Z"
   },
   {
    "duration": 17,
    "start_time": "2023-02-02T08:29:01.560Z"
   },
   {
    "duration": 5,
    "start_time": "2023-02-02T08:29:21.995Z"
   },
   {
    "duration": 6,
    "start_time": "2023-02-02T08:29:32.293Z"
   },
   {
    "duration": 8,
    "start_time": "2023-02-02T08:29:47.794Z"
   },
   {
    "duration": 19,
    "start_time": "2023-02-02T08:29:58.493Z"
   },
   {
    "duration": 4,
    "start_time": "2023-02-02T08:30:21.693Z"
   },
   {
    "duration": 6,
    "start_time": "2023-02-02T08:30:38.589Z"
   },
   {
    "duration": 9,
    "start_time": "2023-02-02T08:32:09.557Z"
   },
   {
    "duration": 10,
    "start_time": "2023-02-02T08:32:18.658Z"
   },
   {
    "duration": 10,
    "start_time": "2023-02-02T08:35:27.120Z"
   },
   {
    "duration": 8,
    "start_time": "2023-02-02T08:36:43.727Z"
   },
   {
    "duration": 402,
    "start_time": "2023-02-02T08:47:19.876Z"
   },
   {
    "duration": 19,
    "start_time": "2023-02-02T08:47:20.280Z"
   },
   {
    "duration": 13,
    "start_time": "2023-02-02T08:47:20.300Z"
   },
   {
    "duration": 11,
    "start_time": "2023-02-02T08:47:20.315Z"
   },
   {
    "duration": 45,
    "start_time": "2023-02-02T08:47:20.327Z"
   },
   {
    "duration": 4,
    "start_time": "2023-02-02T08:47:20.373Z"
   },
   {
    "duration": 15,
    "start_time": "2023-02-02T08:47:20.378Z"
   },
   {
    "duration": 8,
    "start_time": "2023-02-02T08:47:20.394Z"
   },
   {
    "duration": 12,
    "start_time": "2023-02-02T08:47:20.403Z"
   },
   {
    "duration": 6,
    "start_time": "2023-02-02T08:47:20.417Z"
   },
   {
    "duration": 30,
    "start_time": "2023-02-02T08:47:20.437Z"
   },
   {
    "duration": 9,
    "start_time": "2023-02-02T08:47:20.468Z"
   },
   {
    "duration": 9,
    "start_time": "2023-02-02T08:47:20.478Z"
   },
   {
    "duration": 16,
    "start_time": "2023-02-02T08:47:20.488Z"
   },
   {
    "duration": 25,
    "start_time": "2023-02-02T08:47:20.505Z"
   },
   {
    "duration": 20,
    "start_time": "2023-02-02T08:47:20.531Z"
   },
   {
    "duration": 3,
    "start_time": "2023-02-02T08:47:20.552Z"
   },
   {
    "duration": 15,
    "start_time": "2023-02-02T08:47:20.557Z"
   },
   {
    "duration": 10,
    "start_time": "2023-02-02T08:47:20.573Z"
   },
   {
    "duration": 8,
    "start_time": "2023-02-02T08:47:20.584Z"
   },
   {
    "duration": 17,
    "start_time": "2023-02-02T08:47:20.593Z"
   },
   {
    "duration": 22,
    "start_time": "2023-02-02T08:47:20.612Z"
   },
   {
    "duration": 13,
    "start_time": "2023-02-02T08:47:20.636Z"
   },
   {
    "duration": 12,
    "start_time": "2023-02-02T08:47:20.650Z"
   },
   {
    "duration": 11,
    "start_time": "2023-02-02T08:47:20.664Z"
   },
   {
    "duration": 28,
    "start_time": "2023-02-02T08:47:20.676Z"
   }
  ],
  "colab": {
   "name": "dpp_template_part2.ipynb",
   "provenance": []
  },
  "kernelspec": {
   "display_name": "Python 3 (ipykernel)",
   "language": "python",
   "name": "python3"
  },
  "language_info": {
   "codemirror_mode": {
    "name": "ipython",
    "version": 3
   },
   "file_extension": ".py",
   "mimetype": "text/x-python",
   "name": "python",
   "nbconvert_exporter": "python",
   "pygments_lexer": "ipython3",
   "version": "3.10.6"
  },
  "toc": {
   "base_numbering": 1,
   "nav_menu": {},
   "number_sections": true,
   "sideBar": true,
   "skip_h1_title": true,
   "title_cell": "Table of Contents",
   "title_sidebar": "Contents",
   "toc_cell": false,
   "toc_position": {},
   "toc_section_display": true,
   "toc_window_display": false
  }
 },
 "nbformat": 4,
 "nbformat_minor": 5
}
